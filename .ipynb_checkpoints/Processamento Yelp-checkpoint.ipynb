{
 "cells": [
  {
   "cell_type": "markdown",
   "metadata": {},
   "source": [
    "# Atividade Integradora"
   ]
  },
  {
   "cell_type": "code",
   "execution_count": 1,
   "metadata": {
    "execution": {
     "iopub.execute_input": "2020-06-28T20:50:28.602687Z",
     "iopub.status.busy": "2020-06-28T20:50:28.602073Z",
     "iopub.status.idle": "2020-06-28T20:50:28.614244Z",
     "shell.execute_reply": "2020-06-28T20:50:28.613353Z",
     "shell.execute_reply.started": "2020-06-28T20:50:28.602637Z"
    }
   },
   "outputs": [],
   "source": [
    "import findspark as fs"
   ]
  },
  {
   "cell_type": "code",
   "execution_count": 2,
   "metadata": {
    "ExecuteTime": {
     "end_time": "2020-06-25T23:35:06.447196Z",
     "start_time": "2020-06-25T23:34:16.838507Z"
    },
    "execution": {
     "iopub.execute_input": "2020-06-28T20:50:29.319740Z",
     "iopub.status.busy": "2020-06-28T20:50:29.319454Z",
     "iopub.status.idle": "2020-06-28T20:50:30.955412Z",
     "shell.execute_reply": "2020-06-28T20:50:30.954809Z",
     "shell.execute_reply.started": "2020-06-28T20:50:29.319713Z"
    }
   },
   "outputs": [],
   "source": [
    "from pyspark.sql import SparkSession\n",
    "from pyspark.sql.types import *\n",
    "from pyspark.sql import functions as f\n",
    "from pyspark.sql.window import Window\n",
    "from pyspark.ml.feature import StopWordsRemover\n",
    "import pandas as pd\n",
    "import seaborn as sns\n",
    "sns.set(style=\"ticks\", palette=\"pastel\")\n",
    "import os\n",
    "from wordcloud import WordCloud, ImageColorGenerator\n",
    "import matplotlib.pyplot as plt\n",
    "%matplotlib inline"
   ]
  },
  {
   "cell_type": "code",
   "execution_count": 3,
   "metadata": {
    "execution": {
     "iopub.execute_input": "2020-06-28T20:50:30.956848Z",
     "iopub.status.busy": "2020-06-28T20:50:30.956435Z",
     "iopub.status.idle": "2020-06-28T20:50:30.961427Z",
     "shell.execute_reply": "2020-06-28T20:50:30.960631Z",
     "shell.execute_reply.started": "2020-06-28T20:50:30.956829Z"
    }
   },
   "outputs": [],
   "source": [
    "spark_location='/Users/vivi/server/spark' # Set your own\n",
    "java8_location= '/Library/Java/JavaVirtualMachines/jdk1.8.0_251.jdk/Contents/Home/' # Set your own\n",
    "os.environ['JAVA_HOME'] = java8_location\n",
    "fs.init(spark_home=spark_location)"
   ]
  },
  {
   "cell_type": "code",
   "execution_count": 4,
   "metadata": {
    "ExecuteTime": {
     "end_time": "2020-06-25T23:35:09.828210Z",
     "start_time": "2020-06-25T23:35:09.819873Z"
    },
    "execution": {
     "iopub.execute_input": "2020-06-28T20:50:31.891314Z",
     "iopub.status.busy": "2020-06-28T20:50:31.891023Z",
     "iopub.status.idle": "2020-06-28T20:50:31.894593Z",
     "shell.execute_reply": "2020-06-28T20:50:31.893580Z",
     "shell.execute_reply.started": "2020-06-28T20:50:31.891287Z"
    }
   },
   "outputs": [],
   "source": [
    "datapath = 'data'"
   ]
  },
  {
   "cell_type": "code",
   "execution_count": 5,
   "metadata": {
    "ExecuteTime": {
     "end_time": "2020-06-25T23:35:13.310248Z",
     "start_time": "2020-06-25T23:35:13.285813Z"
    },
    "execution": {
     "iopub.execute_input": "2020-06-28T20:50:35.117758Z",
     "iopub.status.busy": "2020-06-28T20:50:35.117462Z",
     "iopub.status.idle": "2020-06-28T20:50:35.121323Z",
     "shell.execute_reply": "2020-06-28T20:50:35.120675Z",
     "shell.execute_reply.started": "2020-06-28T20:50:35.117731Z"
    }
   },
   "outputs": [],
   "source": [
    "files = sorted(os.listdir(datapath))"
   ]
  },
  {
   "cell_type": "code",
   "execution_count": 6,
   "metadata": {
    "ExecuteTime": {
     "end_time": "2020-06-25T10:27:27.813392Z",
     "start_time": "2020-06-25T10:27:27.808226Z"
    },
    "execution": {
     "iopub.execute_input": "2020-06-28T20:50:36.153833Z",
     "iopub.status.busy": "2020-06-28T20:50:36.153541Z",
     "iopub.status.idle": "2020-06-28T20:50:36.159472Z",
     "shell.execute_reply": "2020-06-28T20:50:36.158686Z",
     "shell.execute_reply.started": "2020-06-28T20:50:36.153806Z"
    },
    "scrolled": true
   },
   "outputs": [
    {
     "data": {
      "text/plain": [
       "['.DS_Store',\n",
       " 'dataset list.rtf',\n",
       " 'yelp_academic_dataset_business.json',\n",
       " 'yelp_academic_dataset_checkin.json',\n",
       " 'yelp_academic_dataset_review.json',\n",
       " 'yelp_academic_dataset_tip.json',\n",
       " 'yelp_academic_dataset_user.json']"
      ]
     },
     "execution_count": 6,
     "metadata": {},
     "output_type": "execute_result"
    }
   ],
   "source": [
    "files"
   ]
  },
  {
   "cell_type": "code",
   "execution_count": 7,
   "metadata": {
    "ExecuteTime": {
     "end_time": "2020-06-25T10:15:29.867644Z",
     "start_time": "2020-06-25T10:15:29.751147Z"
    },
    "execution": {
     "iopub.execute_input": "2020-06-28T20:50:37.465373Z",
     "iopub.status.busy": "2020-06-28T20:50:37.465085Z",
     "iopub.status.idle": "2020-06-28T20:50:37.595112Z",
     "shell.execute_reply": "2020-06-28T20:50:37.594137Z",
     "shell.execute_reply.started": "2020-06-28T20:50:37.465347Z"
    }
   },
   "outputs": [
    {
     "name": "stdout",
     "output_type": "stream",
     "text": [
      "{\"review_id\":\"xQY8N_XvtGbearJ5X4QryQ\",\"user_id\":\"OwjRMXRC0KyPrIlcjaXeFQ\",\"business_id\":\"-MhfebM0QIsKt87iDN-FNw\",\"stars\":2.0,\"useful\":5,\"funny\":0,\"cool\":0,\"text\":\"As someone who has worked with many museums, I was eager to visit this gallery on my most recent trip to Las Vegas. When I saw they would be showing infamous eggs of the House of Faberge from the Virginia Museum of Fine Arts (VMFA), I knew I had to go!\\n\\nTucked away near the gelateria and the garden, the Gallery is pretty much hidden from view. It's what real estate agents would call \\\"cozy\\\" or \\\"charming\\\" - basically any euphemism for small.\\n\\nThat being said, you can still see wonderful art at a gallery of any size, so why the two *s you ask? Let me tell you:\\n\\n* pricing for this, while relatively inexpensive for a Las Vegas attraction, is completely over the top. For the space and the amount of art you can fit in there, it is a bit much.\\n* it's not kid friendly at all. Seriously, don't bring them.\\n* the security is not trained properly for the show. When the curating and design teams collaborate for exhibitions, there is a definite flow. That means visitors should view the art in a certain sequence, whether it be by historical period or cultural significance (this is how audio guides are usually developed). When I arrived in the gallery I could not tell where to start, and security was certainly not helpful. I was told to \\\"just look around\\\" and \\\"do whatever.\\\" \\n\\nAt such a *fine* institution, I find the lack of knowledge and respect for the art appalling.\",\"date\":\"2015-04-15 05:21:16\"}\n",
      "{\"review_id\":\"UmFMZ8PyXZTY2QcwzsfQYA\",\"user_id\":\"nIJD_7ZXHq-FX8byPMOkMQ\",\"business_id\":\"lbrU8StCq3yDfr-QMnGrmQ\",\"stars\":1.0,\"useful\":1,\"funny\":1,\"cool\":0,\"text\":\"I am actually horrified this place is still in business. My 3 year old son needed a haircut this past summer and the lure of the $7 kids cut signs got me in the door. We had to wait a few minutes as both stylists were working on people. The decor in this place is total garbage. It is so tacky. The sofa they had at the time was a pleather sofa with giant holes in it. And my son noticed ants crawling all over the floor and the furniture. It was disgusting and I should have walked out then. Actually, I should have turned around and walked out upon entering but I didn't. So the older black male stylist finishes the haircut he was doing and it's our turn. I tell him I want a #2 clipper around the back and sides and then hand cut the top into a standard boys cut. Really freaking simple, right? WRONG! Rather than use the clippers and go up to actually cut the hair, he went down. Using it moving downward doesn't cut hair, it just rubs against it. How does this man who has an alleged cosmetology license not know how to use a set of freaking clippers??? I realized almost immediately that he had no idea what he was doing. No idea at all. After about 10 minutes of watching this guy stumble through it, I said \\\"you know what? That's fine.\\\", paid and left. All I wanted to do was get out of that scummy joint and take my son to a real haircut place.\\n\\nBottom line: DO NOT GO HERE. RUN THE OTHER WAY!!!!!\",\"date\":\"2013-12-07 03:16:52\"}\n",
      "{\"review_id\":\"LG2ZaYiOgpr2DK_90pYjNw\",\"user_id\":\"V34qejxNsCbcgD8C0HVk-Q\",\"business_id\":\"HQl28KMwrEKHqhFrrDqVNQ\",\"stars\":5.0,\"useful\":1,\"funny\":0,\"cool\":0,\"text\":\"I love Deagan's. I do. I really do. The atmosphere is cozy and festive. The shrimp tacos and house fries are my standbys. The fries are sometimes good and sometimes great, and the spicy dipping sauce they come with is to die for. The beer list is amazing and the cocktails are great. The prices are mid-level, so it's not a cheap dive you can go to every week, but rather a treat when you do. Try it out. You won't be disappointed!\",\"date\":\"2015-12-05 03:18:11\"}\n",
      "{\"review_id\":\"i6g_oA9Yf9Y31qt0wibXpw\",\"user_id\":\"ofKDkJKXSKZXu5xJNGiiBQ\",\"business_id\":\"5JxlZaqCnk1MnbgRirs40Q\",\"stars\":1.0,\"useful\":0,\"funny\":0,\"cool\":0,\"text\":\"Dismal, lukewarm, defrosted-tasting \\\"TexMex\\\" glop;\\n\\nMumbly, unengaged waiter;\\n\\nClueless manager, who seeing us with barely nibbled entrees\\non plates shoved forward for pickup, thanked us\\nperfunctorily for our patronage;\\n\\nWe're from the Texas Hill Country;\\ndown there, we jail critters \\nwho serve up grub this bad,\\nfor their own protection.\\n\\nNever, never, NEVER again\\n(Back to Yard House for real food)\",\"date\":\"2011-05-27 05:30:52\"}\n",
      "{\"review_id\":\"6TdNDKywdbjoTkizeMce8A\",\"user_id\":\"UgMW8bLE0QMJDCkQ1Ax5Mg\",\"business_id\":\"IS4cv902ykd8wj1TR0N3-A\",\"stars\":4.0,\"useful\":0,\"funny\":0,\"cool\":0,\"text\":\"Oh happy day, finally have a Canes near my casa. Yes just as others are griping about the Drive thru is packed just like most of the other canes in the area but I like to go sit down to enjoy my chicken. The cashiers are pleasant and as far as food wise i have yet to receive any funky chicken. The clean up crew zips around the dining area constantly so it's usually well kept. My only gripe is the one fella with Red hair he makes the rounds while cleaning but no smile or personality a few nights ago he tossed the napkins i just put on the table to help go with my meal. After I was done he just reached for my tray no \\\"excuse me or are you done with that?\\\"  I realize he's trying to do his job quickly but a little table manners goes along way. That being said still like to grub here and glad that there's finally a Cane's close to me.\",\"date\":\"2017-01-14 21:56:57\"}\n",
      "{\"review_id\":\"L2O_INwlrRuoX05KSjc4eg\",\"user_id\":\"5vD2kmE25YBrbayKhykNxQ\",\"business_id\":\"nlxHRv1zXGT0c0K51q3jDg\",\"stars\":5.0,\"useful\":2,\"funny\":0,\"cool\":0,\"text\":\"This is definitely my favorite fast food sub shop. Ingredients are everything, and everything I see and taste here tells me that they're using top-grade fresh ingredients. The brisket sandwich is probably my favorite... and it's the one my wife ALWAYS gets. Unlike her, I often bounce around the menu to try different things. Definitely a step up from Subway, Quiznos, Jimmy Johns, etc in my opinion. As with all of my reviews, I grade each place relative to what I perceive to be its peers - so five star compared to them.\",\"date\":\"2013-05-07 07:25:25\"}\n",
      "{\"review_id\":\"ZayJ1zWyWgY9S_TRLT_y9Q\",\"user_id\":\"aq_ZxGHiri48TUXJlpRkCQ\",\"business_id\":\"Pthe4qk5xh4n-ef-9bvMSg\",\"stars\":5.0,\"useful\":1,\"funny\":0,\"cool\":0,\"text\":\"Really good place with simple decor, amazing food and great hospitality.\\nVery impressed with the lunch portion. Although service took little extra time but I have no complaints since they are quite new in business. The green curry chicken was good and to the right spice balance I asked for. I will definitely recommend this place to others.\",\"date\":\"2015-11-05 23:11:05\"}\n",
      "{\"review_id\":\"lpFIJYpsvDxyph-kPzZ6aA\",\"user_id\":\"dsd-KNYKMpx6ma_sRWCSkQ\",\"business_id\":\"FNCJpSn0tL9iqoY3JC73qw\",\"stars\":5.0,\"useful\":0,\"funny\":0,\"cool\":0,\"text\":\"Awesome office and staff, very professional and friendly. I saw Adam Garling PA-C and his assistant, they were very friendly, professional, and helpful. I highly recommend Centennial Dermatology! I will definitely return for more visits.\",\"date\":\"2017-07-18 18:31:54\"}\n",
      "{\"review_id\":\"JA-xnyHytKiOIHl_ztnK9Q\",\"user_id\":\"P6apihD4ASf1vpPxHODxAQ\",\"business_id\":\"e_BiI4ej1CW1F0EyVLr-FQ\",\"stars\":5.0,\"useful\":0,\"funny\":0,\"cool\":0,\"text\":\"Most delicious authentic Italian I've had in the US. You wouldn't leave this place unhappy. The setting is cozy and a perfect spot for VD, anniversaries, or a special date. They'll make you feel like you're in Italy.\",\"date\":\"2015-02-16 06:48:47\"}\n",
      "{\"review_id\":\"z4BCgTkfNtCu4XY5Lp97ww\",\"user_id\":\"jOERvhmK6_lo_XGUBPws_w\",\"business_id\":\"Ws8V970-mQt2X9CwCuT5zw\",\"stars\":4.0,\"useful\":3,\"funny\":0,\"cool\":1,\"text\":\"I have been here twice. Very nice and laid back. I tried the weekend Southern menu and it was delicious! Collard greens, mac&cheese, ribs, BBQ chicken sandwich. The scone with clotted cream was divine!!!! The iced teas are very refreshing and I swear I drank a whole container myself both visits. \\nThe second time I had soup, salad and a sandwich. The salad had this amazing (raspberry? strawberry?, I forgot) vinaigrette. The sandwich was good, but I was kind of disappointed with the soup. It was potato and tasted too \\\"milky\\\". \\nThey change the menu often and now have a tea inspired one. Can't wait to go back and try it.\\nThe owners are very nice and I hope they continue to do well.\",\"date\":\"2009-10-13 04:16:41\"}\n"
     ]
    }
   ],
   "source": [
    "!head data/yelp_academic_dataset_review.json"
   ]
  },
  {
   "cell_type": "code",
   "execution_count": 8,
   "metadata": {
    "ExecuteTime": {
     "end_time": "2020-06-25T10:27:38.112968Z",
     "start_time": "2020-06-25T10:27:32.235357Z"
    },
    "execution": {
     "iopub.execute_input": "2020-06-28T20:50:38.201970Z",
     "iopub.status.busy": "2020-06-28T20:50:38.201648Z",
     "iopub.status.idle": "2020-06-28T20:50:42.352871Z",
     "shell.execute_reply": "2020-06-28T20:50:42.352160Z",
     "shell.execute_reply.started": "2020-06-28T20:50:38.201934Z"
    }
   },
   "outputs": [],
   "source": [
    "spark = SparkSession.builder \\\n",
    "    .master('local[*]') \\\n",
    "    .appName('Integradora Yelp') \\\n",
    "    .config(\"spark.ui.port\", \"4060\") \\\n",
    "    .getOrCreate()"
   ]
  },
  {
   "cell_type": "code",
   "execution_count": 9,
   "metadata": {
    "ExecuteTime": {
     "end_time": "2020-06-25T10:27:39.131115Z",
     "start_time": "2020-06-25T10:27:39.128087Z"
    },
    "execution": {
     "iopub.execute_input": "2020-06-28T20:50:44.861364Z",
     "iopub.status.busy": "2020-06-28T20:50:44.861065Z",
     "iopub.status.idle": "2020-06-28T20:50:44.864909Z",
     "shell.execute_reply": "2020-06-28T20:50:44.864045Z",
     "shell.execute_reply.started": "2020-06-28T20:50:44.861335Z"
    }
   },
   "outputs": [],
   "source": [
    "sc = spark.sparkContext"
   ]
  },
  {
   "cell_type": "code",
   "execution_count": 10,
   "metadata": {
    "execution": {
     "iopub.execute_input": "2020-06-28T20:50:47.085488Z",
     "iopub.status.busy": "2020-06-28T20:50:47.085172Z",
     "iopub.status.idle": "2020-06-28T20:50:47.094684Z",
     "shell.execute_reply": "2020-06-28T20:50:47.093958Z",
     "shell.execute_reply.started": "2020-06-28T20:50:47.085457Z"
    }
   },
   "outputs": [
    {
     "data": {
      "text/html": [
       "\n",
       "            <div>\n",
       "                <p><b>SparkSession - in-memory</b></p>\n",
       "                \n",
       "        <div>\n",
       "            <p><b>SparkContext</b></p>\n",
       "\n",
       "            <p><a href=\"http://mac:4060\">Spark UI</a></p>\n",
       "\n",
       "            <dl>\n",
       "              <dt>Version</dt>\n",
       "                <dd><code>v2.4.5</code></dd>\n",
       "              <dt>Master</dt>\n",
       "                <dd><code>local[*]</code></dd>\n",
       "              <dt>AppName</dt>\n",
       "                <dd><code>Integradora Yelp</code></dd>\n",
       "            </dl>\n",
       "        </div>\n",
       "        \n",
       "            </div>\n",
       "        "
      ],
      "text/plain": [
       "<pyspark.sql.session.SparkSession at 0x1a17915e10>"
      ]
     },
     "execution_count": 10,
     "metadata": {},
     "output_type": "execute_result"
    }
   ],
   "source": [
    "spark#.stop()"
   ]
  },
  {
   "cell_type": "markdown",
   "metadata": {},
   "source": [
    "## Bases"
   ]
  },
  {
   "cell_type": "code",
   "execution_count": 11,
   "metadata": {
    "execution": {
     "iopub.execute_input": "2020-06-28T20:50:48.744184Z",
     "iopub.status.busy": "2020-06-28T20:50:48.743878Z",
     "iopub.status.idle": "2020-06-28T20:50:56.347397Z",
     "shell.execute_reply": "2020-06-28T20:50:56.346440Z",
     "shell.execute_reply.started": "2020-06-28T20:50:48.744156Z"
    }
   },
   "outputs": [],
   "source": [
    "usr_raw = spark.read.json(datapath+'/yelp_academic_dataset_user.json')"
   ]
  },
  {
   "cell_type": "code",
   "execution_count": 12,
   "metadata": {
    "execution": {
     "iopub.execute_input": "2020-06-28T20:51:02.748641Z",
     "iopub.status.busy": "2020-06-28T20:51:02.748338Z",
     "iopub.status.idle": "2020-06-28T20:51:07.729151Z",
     "shell.execute_reply": "2020-06-28T20:51:07.728301Z",
     "shell.execute_reply.started": "2020-06-28T20:51:02.748612Z"
    }
   },
   "outputs": [],
   "source": [
    "rv_raw = spark.read.json(datapath+'/yelp_academic_dataset_review.json')"
   ]
  },
  {
   "cell_type": "code",
   "execution_count": 13,
   "metadata": {
    "ExecuteTime": {
     "end_time": "2020-06-25T10:27:48.350531Z",
     "start_time": "2020-06-25T10:27:41.162424Z"
    },
    "execution": {
     "iopub.execute_input": "2020-06-28T20:51:07.731026Z",
     "iopub.status.busy": "2020-06-28T20:51:07.730751Z",
     "iopub.status.idle": "2020-06-28T20:51:08.731641Z",
     "shell.execute_reply": "2020-06-28T20:51:08.730996Z",
     "shell.execute_reply.started": "2020-06-28T20:51:07.730999Z"
    }
   },
   "outputs": [],
   "source": [
    "bz_raw = spark.read.json(datapath+'/yelp_academic_dataset_business.json')"
   ]
  },
  {
   "cell_type": "code",
   "execution_count": 14,
   "metadata": {
    "ExecuteTime": {
     "end_time": "2020-06-25T10:27:49.361628Z",
     "start_time": "2020-06-25T10:27:49.332037Z"
    },
    "execution": {
     "iopub.execute_input": "2020-06-28T20:51:15.605124Z",
     "iopub.status.busy": "2020-06-28T20:51:15.604793Z",
     "iopub.status.idle": "2020-06-28T20:51:15.631933Z",
     "shell.execute_reply": "2020-06-28T20:51:15.631161Z",
     "shell.execute_reply.started": "2020-06-28T20:51:15.605091Z"
    }
   },
   "outputs": [
    {
     "name": "stdout",
     "output_type": "stream",
     "text": [
      "root\n",
      " |-- address: string (nullable = true)\n",
      " |-- attributes: struct (nullable = true)\n",
      " |    |-- AcceptsInsurance: string (nullable = true)\n",
      " |    |-- AgesAllowed: string (nullable = true)\n",
      " |    |-- Alcohol: string (nullable = true)\n",
      " |    |-- Ambience: string (nullable = true)\n",
      " |    |-- BYOB: string (nullable = true)\n",
      " |    |-- BYOBCorkage: string (nullable = true)\n",
      " |    |-- BestNights: string (nullable = true)\n",
      " |    |-- BikeParking: string (nullable = true)\n",
      " |    |-- BusinessAcceptsBitcoin: string (nullable = true)\n",
      " |    |-- BusinessAcceptsCreditCards: string (nullable = true)\n",
      " |    |-- BusinessParking: string (nullable = true)\n",
      " |    |-- ByAppointmentOnly: string (nullable = true)\n",
      " |    |-- Caters: string (nullable = true)\n",
      " |    |-- CoatCheck: string (nullable = true)\n",
      " |    |-- Corkage: string (nullable = true)\n",
      " |    |-- DietaryRestrictions: string (nullable = true)\n",
      " |    |-- DogsAllowed: string (nullable = true)\n",
      " |    |-- DriveThru: string (nullable = true)\n",
      " |    |-- GoodForDancing: string (nullable = true)\n",
      " |    |-- GoodForKids: string (nullable = true)\n",
      " |    |-- GoodForMeal: string (nullable = true)\n",
      " |    |-- HairSpecializesIn: string (nullable = true)\n",
      " |    |-- HappyHour: string (nullable = true)\n",
      " |    |-- HasTV: string (nullable = true)\n",
      " |    |-- Music: string (nullable = true)\n",
      " |    |-- NoiseLevel: string (nullable = true)\n",
      " |    |-- Open24Hours: string (nullable = true)\n",
      " |    |-- OutdoorSeating: string (nullable = true)\n",
      " |    |-- RestaurantsAttire: string (nullable = true)\n",
      " |    |-- RestaurantsCounterService: string (nullable = true)\n",
      " |    |-- RestaurantsDelivery: string (nullable = true)\n",
      " |    |-- RestaurantsGoodForGroups: string (nullable = true)\n",
      " |    |-- RestaurantsPriceRange2: string (nullable = true)\n",
      " |    |-- RestaurantsReservations: string (nullable = true)\n",
      " |    |-- RestaurantsTableService: string (nullable = true)\n",
      " |    |-- RestaurantsTakeOut: string (nullable = true)\n",
      " |    |-- Smoking: string (nullable = true)\n",
      " |    |-- WheelchairAccessible: string (nullable = true)\n",
      " |    |-- WiFi: string (nullable = true)\n",
      " |-- business_id: string (nullable = true)\n",
      " |-- categories: string (nullable = true)\n",
      " |-- city: string (nullable = true)\n",
      " |-- hours: struct (nullable = true)\n",
      " |    |-- Friday: string (nullable = true)\n",
      " |    |-- Monday: string (nullable = true)\n",
      " |    |-- Saturday: string (nullable = true)\n",
      " |    |-- Sunday: string (nullable = true)\n",
      " |    |-- Thursday: string (nullable = true)\n",
      " |    |-- Tuesday: string (nullable = true)\n",
      " |    |-- Wednesday: string (nullable = true)\n",
      " |-- is_open: long (nullable = true)\n",
      " |-- latitude: double (nullable = true)\n",
      " |-- longitude: double (nullable = true)\n",
      " |-- name: string (nullable = true)\n",
      " |-- postal_code: string (nullable = true)\n",
      " |-- review_count: long (nullable = true)\n",
      " |-- stars: double (nullable = true)\n",
      " |-- state: string (nullable = true)\n",
      "\n"
     ]
    }
   ],
   "source": [
    "bz_raw.printSchema()"
   ]
  },
  {
   "cell_type": "code",
   "execution_count": 15,
   "metadata": {
    "execution": {
     "iopub.execute_input": "2020-06-28T20:51:18.332387Z",
     "iopub.status.busy": "2020-06-28T20:51:18.332096Z",
     "iopub.status.idle": "2020-06-28T20:51:18.561877Z",
     "shell.execute_reply": "2020-06-28T20:51:18.561042Z",
     "shell.execute_reply.started": "2020-06-28T20:51:18.332361Z"
    }
   },
   "outputs": [],
   "source": [
    "bz_raw.createOrReplaceTempView('bz')\n",
    "rv_raw.createOrReplaceTempView('rv')\n",
    "usr_raw.createOrReplaceTempView('usr')"
   ]
  },
  {
   "cell_type": "code",
   "execution_count": 16,
   "metadata": {
    "ExecuteTime": {
     "end_time": "2020-06-25T10:27:58.289338Z",
     "start_time": "2020-06-25T10:27:57.802825Z"
    },
    "execution": {
     "iopub.execute_input": "2020-06-28T20:51:20.641816Z",
     "iopub.status.busy": "2020-06-28T20:51:20.641531Z",
     "iopub.status.idle": "2020-06-28T20:51:21.033738Z",
     "shell.execute_reply": "2020-06-28T20:51:21.032963Z",
     "shell.execute_reply.started": "2020-06-28T20:51:20.641789Z"
    }
   },
   "outputs": [
    {
     "name": "stdout",
     "output_type": "stream",
     "text": [
      "[Table(name='bz', database=None, description=None, tableType='TEMPORARY', isTemporary=True), Table(name='rv', database=None, description=None, tableType='TEMPORARY', isTemporary=True), Table(name='usr', database=None, description=None, tableType='TEMPORARY', isTemporary=True)]\n"
     ]
    }
   ],
   "source": [
    "print(spark.catalog.listTables())"
   ]
  },
  {
   "cell_type": "code",
   "execution_count": 17,
   "metadata": {
    "execution": {
     "iopub.execute_input": "2020-06-28T20:51:25.144824Z",
     "iopub.status.busy": "2020-06-28T20:51:25.144533Z",
     "iopub.status.idle": "2020-06-28T20:51:25.173571Z",
     "shell.execute_reply": "2020-06-28T20:51:25.172953Z",
     "shell.execute_reply.started": "2020-06-28T20:51:25.144796Z"
    }
   },
   "outputs": [
    {
     "data": {
      "text/plain": [
       "['address',\n",
       " 'attributes',\n",
       " 'business_id',\n",
       " 'categories',\n",
       " 'city',\n",
       " 'hours',\n",
       " 'is_open',\n",
       " 'latitude',\n",
       " 'longitude',\n",
       " 'name',\n",
       " 'postal_code',\n",
       " 'review_count',\n",
       " 'stars',\n",
       " 'state']"
      ]
     },
     "execution_count": 17,
     "metadata": {},
     "output_type": "execute_result"
    }
   ],
   "source": [
    "bz_raw.columns"
   ]
  },
  {
   "cell_type": "code",
   "execution_count": 18,
   "metadata": {
    "execution": {
     "iopub.execute_input": "2020-06-28T20:51:28.520896Z",
     "iopub.status.busy": "2020-06-28T20:51:28.520611Z",
     "iopub.status.idle": "2020-06-28T20:51:28.527375Z",
     "shell.execute_reply": "2020-06-28T20:51:28.526735Z",
     "shell.execute_reply.started": "2020-06-28T20:51:28.520869Z"
    }
   },
   "outputs": [
    {
     "data": {
      "text/plain": [
       "['average_stars',\n",
       " 'compliment_cool',\n",
       " 'compliment_cute',\n",
       " 'compliment_funny',\n",
       " 'compliment_hot',\n",
       " 'compliment_list',\n",
       " 'compliment_more',\n",
       " 'compliment_note',\n",
       " 'compliment_photos',\n",
       " 'compliment_plain',\n",
       " 'compliment_profile',\n",
       " 'compliment_writer',\n",
       " 'cool',\n",
       " 'elite',\n",
       " 'fans',\n",
       " 'friends',\n",
       " 'funny',\n",
       " 'name',\n",
       " 'review_count',\n",
       " 'useful',\n",
       " 'user_id',\n",
       " 'yelping_since']"
      ]
     },
     "execution_count": 18,
     "metadata": {},
     "output_type": "execute_result"
    }
   ],
   "source": [
    "usr_raw.columns"
   ]
  },
  {
   "cell_type": "code",
   "execution_count": 19,
   "metadata": {
    "execution": {
     "iopub.execute_input": "2020-06-28T20:51:29.813035Z",
     "iopub.status.busy": "2020-06-28T20:51:29.812758Z",
     "iopub.status.idle": "2020-06-28T20:51:29.818422Z",
     "shell.execute_reply": "2020-06-28T20:51:29.817730Z",
     "shell.execute_reply.started": "2020-06-28T20:51:29.813009Z"
    }
   },
   "outputs": [
    {
     "data": {
      "text/plain": [
       "['business_id',\n",
       " 'cool',\n",
       " 'date',\n",
       " 'funny',\n",
       " 'review_id',\n",
       " 'stars',\n",
       " 'text',\n",
       " 'useful',\n",
       " 'user_id']"
      ]
     },
     "execution_count": 19,
     "metadata": {},
     "output_type": "execute_result"
    }
   ],
   "source": [
    "rv_raw.columns"
   ]
  },
  {
   "cell_type": "markdown",
   "metadata": {},
   "source": [
    "## Joins"
   ]
  },
  {
   "cell_type": "markdown",
   "metadata": {},
   "source": [
    "Juntando as informações de reviews, estabelecimentos da cidade escolhidas e usuários que frequentam esses estabelecimentos."
   ]
  },
  {
   "cell_type": "code",
   "execution_count": 20,
   "metadata": {
    "execution": {
     "iopub.execute_input": "2020-06-28T20:55:17.179150Z",
     "iopub.status.busy": "2020-06-28T20:55:17.178858Z",
     "iopub.status.idle": "2020-06-28T20:55:17.345674Z",
     "shell.execute_reply": "2020-06-28T20:55:17.344618Z",
     "shell.execute_reply.started": "2020-06-28T20:55:17.179123Z"
    }
   },
   "outputs": [],
   "source": [
    "base = spark.sql(\"\"\"\n",
    "        SELECT A.*,\n",
    "        B.address,\n",
    "        B.categories,\n",
    "        B.city,\n",
    "        B.hours,\n",
    "        B.is_open,\n",
    "        B.latitude,\n",
    "        B.longitude,\n",
    "        B.name AS name_bz,\n",
    "        B.postal_code,\n",
    "        B.review_count,\n",
    "        B.stars AS stars_bz,\n",
    "        B.state\n",
    "\n",
    "        FROM rv as A \n",
    "        LEFT JOIN bz as B\n",
    "        ON A.business_id = B.business_id\n",
    "        \n",
    "        WHERE B.city = 'Toronto'\n",
    "        AND B.state = 'ON'\n",
    "        AND B.review_count > 20\n",
    "        \n",
    "        \"\"\")"
   ]
  },
  {
   "cell_type": "code",
   "execution_count": 21,
   "metadata": {
    "execution": {
     "iopub.execute_input": "2020-06-28T20:55:25.859394Z",
     "iopub.status.busy": "2020-06-28T20:55:25.859099Z",
     "iopub.status.idle": "2020-06-28T20:55:48.887600Z",
     "shell.execute_reply": "2020-06-28T20:55:48.886471Z",
     "shell.execute_reply.started": "2020-06-28T20:55:25.859366Z"
    }
   },
   "outputs": [
    {
     "name": "stdout",
     "output_type": "stream",
     "text": [
      "+--------------------+----+-------------------+-----+--------------------+-----+--------------------+------+--------------------+-------------------+--------------------+-------+-----+-------+----------+-----------+--------------------+-----------+------------+--------+-----+\n",
      "|         business_id|cool|               date|funny|           review_id|stars|                text|useful|             user_id|            address|          categories|   city|hours|is_open|  latitude|  longitude|             name_bz|postal_code|review_count|stars_bz|state|\n",
      "+--------------------+----+-------------------+-----+--------------------+-----+--------------------+------+--------------------+-------------------+--------------------+-------+-----+-------+----------+-----------+--------------------+-----------+------------+--------+-----+\n",
      "|2OFWvbHVwvnva7GxP...|   0|2017-07-29 01:46:38|    0|7aA5gWum--OxUmk4z...|  4.0|We ordered the je...|     0|_NMdJpHLvmSnTo1Kr...|912  Bloor Street W|Caribbean, Restau...|Toronto| null|      0|43.6619057|-79.4265158|Pam's Caribbean K...|    M6H 1L1|          32|     4.0|   ON|\n",
      "|2OFWvbHVwvnva7GxP...|   0|2016-03-31 07:33:47|    0|0Z3yFyTE8ZB-lAKyL...|  5.0|I've never had a ...|     0|PA2MNztWmRx9JBvbz...|912  Bloor Street W|Caribbean, Restau...|Toronto| null|      0|43.6619057|-79.4265158|Pam's Caribbean K...|    M6H 1L1|          32|     4.0|   ON|\n",
      "|2OFWvbHVwvnva7GxP...|   1|2012-11-11 20:04:40|    0|VGY2pt1f0gJRV7M_E...|  5.0|My boyfriend and ...|     1|TxI7h26TKhot9a-2A...|912  Bloor Street W|Caribbean, Restau...|Toronto| null|      0|43.6619057|-79.4265158|Pam's Caribbean K...|    M6H 1L1|          32|     4.0|   ON|\n",
      "|2OFWvbHVwvnva7GxP...|   0|2014-09-12 20:16:27|    0|SnSzV4_NOxDdrL-Qz...|  5.0|Just ate lunch he...|     0|1i8DhdETQRFkgK8Vb...|912  Bloor Street W|Caribbean, Restau...|Toronto| null|      0|43.6619057|-79.4265158|Pam's Caribbean K...|    M6H 1L1|          32|     4.0|   ON|\n",
      "|2OFWvbHVwvnva7GxP...|   0|2013-11-22 06:07:34|    0|52N3tsuWhbGRopZjc...|  4.0|This Roti was ama...|     0|1fNQRju9gmoCEvbPQ...|912  Bloor Street W|Caribbean, Restau...|Toronto| null|      0|43.6619057|-79.4265158|Pam's Caribbean K...|    M6H 1L1|          32|     4.0|   ON|\n",
      "+--------------------+----+-------------------+-----+--------------------+-----+--------------------+------+--------------------+-------------------+--------------------+-------+-----+-------+----------+-----------+--------------------+-----------+------------+--------+-----+\n",
      "only showing top 5 rows\n",
      "\n"
     ]
    }
   ],
   "source": [
    "base.show(5)"
   ]
  },
  {
   "cell_type": "code",
   "execution_count": 22,
   "metadata": {
    "execution": {
     "iopub.execute_input": "2020-06-28T20:56:08.876037Z",
     "iopub.status.busy": "2020-06-28T20:56:08.875723Z",
     "iopub.status.idle": "2020-06-28T20:56:08.892622Z",
     "shell.execute_reply": "2020-06-28T20:56:08.891280Z",
     "shell.execute_reply.started": "2020-06-28T20:56:08.876007Z"
    }
   },
   "outputs": [],
   "source": [
    "base.createOrReplaceTempView('base')"
   ]
  },
  {
   "cell_type": "markdown",
   "metadata": {},
   "source": [
    "- Contagem da quantidade de linhas para garantir que a integridade do dataset ser mantém ao longo do processamento."
   ]
  },
  {
   "cell_type": "code",
   "execution_count": 23,
   "metadata": {
    "execution": {
     "iopub.execute_input": "2020-06-28T20:56:10.112922Z",
     "iopub.status.busy": "2020-06-28T20:56:10.112634Z",
     "iopub.status.idle": "2020-06-28T20:56:16.328749Z",
     "shell.execute_reply": "2020-06-28T20:56:16.327620Z",
     "shell.execute_reply.started": "2020-06-28T20:56:10.112895Z"
    }
   },
   "outputs": [
    {
     "name": "stdout",
     "output_type": "stream",
     "text": [
      "+--------+\n",
      "|count(1)|\n",
      "+--------+\n",
      "|  490518|\n",
      "+--------+\n",
      "\n"
     ]
    }
   ],
   "source": [
    "#linhas na base de reviews + business\n",
    "spark.sql('''\n",
    "            SELECT Count(*)\n",
    "            FROM base\n",
    "            ''').show()"
   ]
  },
  {
   "cell_type": "code",
   "execution_count": 24,
   "metadata": {
    "ExecuteTime": {
     "end_time": "2020-06-25T10:28:02.721168Z",
     "start_time": "2020-06-25T10:27:59.566725Z"
    },
    "execution": {
     "iopub.execute_input": "2020-06-28T20:57:43.117344Z",
     "iopub.status.busy": "2020-06-28T20:57:43.117066Z",
     "iopub.status.idle": "2020-06-28T20:57:43.140451Z",
     "shell.execute_reply": "2020-06-28T20:57:43.139210Z",
     "shell.execute_reply.started": "2020-06-28T20:57:43.117319Z"
    }
   },
   "outputs": [],
   "source": [
    "base1 = spark.sql(\"\"\"\n",
    "        SELECT A.*,\n",
    "        B.average_stars AS stars_usr,\n",
    "        B.compliment_cool,\n",
    "        B.compliment_cute,\n",
    "        B.compliment_funny,\n",
    "        B.compliment_hot,\n",
    "        B.compliment_list,\n",
    "        B.compliment_more,\n",
    "        B.compliment_note,\n",
    "        B.compliment_photos,\n",
    "        B.compliment_plain,\n",
    "        B.compliment_profile,\n",
    "        B.compliment_writer,\n",
    "        B.cool AS cool_usr,\n",
    "        B.elite AS elite_usr,\n",
    "        B.fans,\n",
    "        B.friends,\n",
    "        B.funny AS funny_usr,\n",
    "        B.name AS name_usr,\n",
    "        B.review_count AS review_count_usr,\n",
    "        B.useful AS useful_usr,\n",
    "        B.yelping_since,\n",
    "\n",
    "        FROM base as A \n",
    "        \n",
    "        LEFT JOIN usr as B\n",
    "        ON A.user_id = B.user_id \n",
    "        \n",
    "        \"\"\")"
   ]
  },
  {
   "cell_type": "code",
   "execution_count": 25,
   "metadata": {
    "execution": {
     "iopub.execute_input": "2020-06-28T20:57:49.955130Z",
     "iopub.status.busy": "2020-06-28T20:57:49.954856Z",
     "iopub.status.idle": "2020-06-28T20:57:49.970304Z",
     "shell.execute_reply": "2020-06-28T20:57:49.969611Z",
     "shell.execute_reply.started": "2020-06-28T20:57:49.955104Z"
    }
   },
   "outputs": [],
   "source": [
    "base1.createOrReplaceTempView('base1')"
   ]
  },
  {
   "cell_type": "code",
   "execution_count": 64,
   "metadata": {
    "execution": {
     "iopub.execute_input": "2020-06-28T21:33:22.356904Z",
     "iopub.status.busy": "2020-06-28T21:33:22.356607Z",
     "iopub.status.idle": "2020-06-28T21:33:33.244160Z",
     "shell.execute_reply": "2020-06-28T21:33:33.243352Z",
     "shell.execute_reply.started": "2020-06-28T21:33:22.356877Z"
    }
   },
   "outputs": [
    {
     "name": "stdout",
     "output_type": "stream",
     "text": [
      "+--------+\n",
      "|count(1)|\n",
      "+--------+\n",
      "|  490518|\n",
      "+--------+\n",
      "\n"
     ]
    }
   ],
   "source": [
    "#linhas na base de reviews + business + users\n",
    "spark.sql('''\n",
    "            SELECT Count(*)\n",
    "            FROM base1\n",
    "            ''').show()"
   ]
  },
  {
   "cell_type": "code",
   "execution_count": 60,
   "metadata": {
    "execution": {
     "iopub.execute_input": "2020-06-28T21:29:21.488810Z",
     "iopub.status.busy": "2020-06-28T21:29:21.488521Z",
     "iopub.status.idle": "2020-06-28T21:29:21.500670Z",
     "shell.execute_reply": "2020-06-28T21:29:21.499797Z",
     "shell.execute_reply.started": "2020-06-28T21:29:21.488784Z"
    }
   },
   "outputs": [],
   "source": [
    "aux = spark.sql('''\n",
    "            SELECT user_id, city, yelping_since,\n",
    "            COUNT(review_id) AS city_review_counter,\n",
    "            review_count_usr\n",
    "            \n",
    "            FROM base1\n",
    "            \n",
    "            GROUP BY user_id, review_count_usr, city, yelping_since\n",
    "            ORDER BY city_review_counter DESC        \n",
    "            \n",
    "            ''')"
   ]
  },
  {
   "cell_type": "code",
   "execution_count": 61,
   "metadata": {
    "execution": {
     "iopub.execute_input": "2020-06-28T21:29:23.298732Z",
     "iopub.status.busy": "2020-06-28T21:29:23.298447Z",
     "iopub.status.idle": "2020-06-28T21:29:23.312406Z",
     "shell.execute_reply": "2020-06-28T21:29:23.311572Z",
     "shell.execute_reply.started": "2020-06-28T21:29:23.298706Z"
    }
   },
   "outputs": [],
   "source": [
    "aux.createOrReplaceTempView('aux')"
   ]
  },
  {
   "cell_type": "code",
   "execution_count": 74,
   "metadata": {
    "execution": {
     "iopub.execute_input": "2020-06-28T21:37:24.892448Z",
     "iopub.status.busy": "2020-06-28T21:37:24.892119Z",
     "iopub.status.idle": "2020-06-28T21:37:36.898130Z",
     "shell.execute_reply": "2020-06-28T21:37:36.897348Z",
     "shell.execute_reply.started": "2020-06-28T21:37:24.892417Z"
    }
   },
   "outputs": [
    {
     "name": "stdout",
     "output_type": "stream",
     "text": [
      "+--------------------+-------+-------------------+-------------------+----------------+\n",
      "|             user_id|   city|      yelping_since|city_review_counter|review_count_usr|\n",
      "+--------------------+-------+-------------------+-------------------+----------------+\n",
      "|CxDOIDnH8gp9KXzpB...|Toronto|2009-11-09 20:44:45|               1199|            6633|\n",
      "|Q9mA60HnY87C1TW5k...|Toronto|2010-08-29 01:34:42|                795|            1376|\n",
      "|O3pSxv1SyHpY4qi4Q...|Toronto|2010-07-04 02:52:05|                634|            1353|\n",
      "|0BBUmH7Krcax1RZgb...|Toronto|2010-03-18 14:40:42|                607|            1182|\n",
      "|gwIqbXEXijQNgdESV...|Toronto|2010-11-17 23:13:51|                565|            1106|\n",
      "|ic-tyi1jElL_umxZV...|Toronto|2014-02-19 22:37:38|                538|            1893|\n",
      "|TbhyP24zYZqZ2VJZg...|Toronto|2010-03-17 18:05:59|                495|             862|\n",
      "|1fNQRju9gmoCEvbPQ...|Toronto|2013-02-24 06:35:51|                488|             710|\n",
      "|FREeRQtjdJU83AFtd...|Toronto|2014-01-10 15:23:49|                477|             603|\n",
      "|yT_QCcnq-QGipWWuz...|Toronto|2011-03-24 17:24:02|                450|             962|\n",
      "|iRQ_YKpCBdaCwvc2X...|Toronto|2014-03-29 17:21:25|                437|             704|\n",
      "|V4TPbscN8JsFbEFiw...|Toronto|2010-02-07 17:01:57|                437|             908|\n",
      "|Kj9cFO70zZOQorN0m...|Toronto|2010-06-27 13:47:11|                434|             950|\n",
      "|m5b84-nPPVNLlDtZy...|Toronto|2011-11-16 14:34:22|                433|             710|\n",
      "|JnPIjvC0cmooNDfsa...|Toronto|2009-02-09 16:14:29|                417|             988|\n",
      "|_t3BJzyGaqr9mcDaz...|Toronto|2012-02-09 14:09:31|                396|             533|\n",
      "|tWBLn4k1M7PLBtAtw...|Toronto|2010-10-14 14:19:25|                390|             739|\n",
      "|alUuOskFSl1bODjnc...|Toronto|2010-04-06 00:19:47|                370|             742|\n",
      "|BGzavA_ddMr-jGmhA...|Toronto|2009-03-23 22:41:25|                365|             702|\n",
      "|8HCEPF0IflyB690Q7...|Toronto|2009-10-24 00:33:39|                355|             543|\n",
      "+--------------------+-------+-------------------+-------------------+----------------+\n",
      "only showing top 20 rows\n",
      "\n"
     ]
    }
   ],
   "source": [
    "aux.show()"
   ]
  },
  {
   "cell_type": "markdown",
   "metadata": {},
   "source": [
    "Aparentemente os usuários fazem reviews em estabelecimentos não só em Toronto. Para incluir essa informação no modelo, será criada uma variável com a relação entre as quantidade de reviews do usuário na cidade pela quantidade total de reviews do usuário."
   ]
  },
  {
   "cell_type": "markdown",
   "metadata": {},
   "source": [
    "- Média de reviews por usuário na cidade e total"
   ]
  },
  {
   "cell_type": "code",
   "execution_count": 63,
   "metadata": {
    "execution": {
     "iopub.execute_input": "2020-06-28T21:30:17.165180Z",
     "iopub.status.busy": "2020-06-28T21:30:17.164886Z",
     "iopub.status.idle": "2020-06-28T21:30:30.679360Z",
     "shell.execute_reply": "2020-06-28T21:30:30.678409Z",
     "shell.execute_reply.started": "2020-06-28T21:30:17.165153Z"
    }
   },
   "outputs": [
    {
     "name": "stdout",
     "output_type": "stream",
     "text": [
      "+------------------------+---------------------+\n",
      "|avg(city_review_counter)|avg(review_count_usr)|\n",
      "+------------------------+---------------------+\n",
      "|       4.324411531340915|    35.71904258132769|\n",
      "+------------------------+---------------------+\n",
      "\n"
     ]
    }
   ],
   "source": [
    "spark.sql('''\n",
    "            SELECT AVG(city_review_counter), \n",
    "             AVG(review_count_usr)\n",
    "            \n",
    "            FROM aux       \n",
    "            \n",
    "            ''').show()"
   ]
  },
  {
   "cell_type": "markdown",
   "metadata": {},
   "source": [
    "- Remoção de usuários com apenas 1 review na cidade"
   ]
  },
  {
   "cell_type": "code",
   "execution_count": 76,
   "metadata": {
    "execution": {
     "iopub.execute_input": "2020-06-28T21:40:16.077286Z",
     "iopub.status.busy": "2020-06-28T21:40:16.077004Z",
     "iopub.status.idle": "2020-06-28T21:40:16.147281Z",
     "shell.execute_reply": "2020-06-28T21:40:16.146522Z",
     "shell.execute_reply.started": "2020-06-28T21:40:16.077260Z"
    }
   },
   "outputs": [],
   "source": [
    "base2 = spark.sql('''\n",
    "            SELECT A.*,\n",
    "            B.city_review_counter,\n",
    "            (B.city_review_counter/B.review_count_usr) AS city_review_ratio\n",
    "            \n",
    "            FROM base1 as A\n",
    "            \n",
    "            LEFT JOIN aux as B\n",
    "            ON A.user_id = B.user_id\n",
    "            \n",
    "            WHERE B.city_review_counter > 1\n",
    "            \n",
    "            ''')"
   ]
  },
  {
   "cell_type": "code",
   "execution_count": 77,
   "metadata": {
    "execution": {
     "iopub.execute_input": "2020-06-28T21:40:18.167020Z",
     "iopub.status.busy": "2020-06-28T21:40:18.166716Z",
     "iopub.status.idle": "2020-06-28T21:40:18.188459Z",
     "shell.execute_reply": "2020-06-28T21:40:18.187743Z",
     "shell.execute_reply.started": "2020-06-28T21:40:18.166991Z"
    }
   },
   "outputs": [],
   "source": [
    "base2.createOrReplaceTempView('base2')"
   ]
  },
  {
   "cell_type": "code",
   "execution_count": 78,
   "metadata": {
    "execution": {
     "iopub.execute_input": "2020-06-28T21:40:19.059206Z",
     "iopub.status.busy": "2020-06-28T21:40:19.058917Z",
     "iopub.status.idle": "2020-06-28T21:40:43.509830Z",
     "shell.execute_reply": "2020-06-28T21:40:43.508987Z",
     "shell.execute_reply.started": "2020-06-28T21:40:19.059179Z"
    }
   },
   "outputs": [
    {
     "name": "stdout",
     "output_type": "stream",
     "text": [
      "+--------+\n",
      "|count(1)|\n",
      "+--------+\n",
      "|  429793|\n",
      "+--------+\n",
      "\n"
     ]
    }
   ],
   "source": [
    "#linhas na base de reviews + business + users\n",
    "spark.sql('''\n",
    "            SELECT Count(*)\n",
    "            FROM base2\n",
    "            ''').show()"
   ]
  },
  {
   "cell_type": "markdown",
   "metadata": {},
   "source": [
    "- Classificação das avaliações em Boa (1 - maior do que 4) e Ruim ou inexistente (0 - menor do que 4)."
   ]
  },
  {
   "cell_type": "code",
   "execution_count": 100,
   "metadata": {
    "execution": {
     "iopub.execute_input": "2020-06-28T21:51:13.694251Z",
     "iopub.status.busy": "2020-06-28T21:51:13.693960Z",
     "iopub.status.idle": "2020-06-28T21:51:13.710007Z",
     "shell.execute_reply": "2020-06-28T21:51:13.709290Z",
     "shell.execute_reply.started": "2020-06-28T21:51:13.694224Z"
    }
   },
   "outputs": [],
   "source": [
    "base3 = spark.sql(\"\"\"\n",
    "        SELECT *,\n",
    "        (CASE WHEN stars >=4 THEN 1 ELSE 0 END) as class_rv,\n",
    "        (CASE WHEN stars_bz >=4 THEN 1 ELSE 0 END) as class_bz,\n",
    "        (CASE WHEN stars_usr >=4 THEN 1 ELSE 0 END) as class_usr\n",
    "        \n",
    "        FROM base2\n",
    "        \n",
    "        \"\"\")"
   ]
  },
  {
   "cell_type": "code",
   "execution_count": 101,
   "metadata": {
    "execution": {
     "iopub.execute_input": "2020-06-28T21:51:14.972319Z",
     "iopub.status.busy": "2020-06-28T21:51:14.971916Z",
     "iopub.status.idle": "2020-06-28T21:51:14.980658Z",
     "shell.execute_reply": "2020-06-28T21:51:14.979999Z",
     "shell.execute_reply.started": "2020-06-28T21:51:14.972282Z"
    }
   },
   "outputs": [
    {
     "data": {
      "text/plain": [
       "['business_id',\n",
       " 'cool',\n",
       " 'date',\n",
       " 'funny',\n",
       " 'review_id',\n",
       " 'stars',\n",
       " 'text',\n",
       " 'useful',\n",
       " 'user_id',\n",
       " 'address',\n",
       " 'categories',\n",
       " 'city',\n",
       " 'hours',\n",
       " 'is_open',\n",
       " 'latitude',\n",
       " 'longitude',\n",
       " 'name_bz',\n",
       " 'postal_code',\n",
       " 'review_count',\n",
       " 'stars_bz',\n",
       " 'state',\n",
       " 'stars_usr',\n",
       " 'compliment_cool',\n",
       " 'compliment_cute',\n",
       " 'compliment_funny',\n",
       " 'compliment_hot',\n",
       " 'compliment_list',\n",
       " 'compliment_more',\n",
       " 'compliment_note',\n",
       " 'compliment_photos',\n",
       " 'compliment_plain',\n",
       " 'compliment_profile',\n",
       " 'compliment_writer',\n",
       " 'cool_usr',\n",
       " 'elite_usr',\n",
       " 'fans',\n",
       " 'friends',\n",
       " 'funny_usr',\n",
       " 'name_usr',\n",
       " 'review_count_usr',\n",
       " 'useful_usr',\n",
       " 'yelping_since',\n",
       " 'city_review_counter',\n",
       " 'city_review_ratio',\n",
       " 'class_rv',\n",
       " 'class_bz',\n",
       " 'class_usr']"
      ]
     },
     "execution_count": 101,
     "metadata": {},
     "output_type": "execute_result"
    }
   ],
   "source": [
    "base3.columns"
   ]
  },
  {
   "cell_type": "code",
   "execution_count": 102,
   "metadata": {
    "execution": {
     "iopub.execute_input": "2020-06-28T21:51:17.185302Z",
     "iopub.status.busy": "2020-06-28T21:51:17.184991Z",
     "iopub.status.idle": "2020-06-28T21:51:17.207602Z",
     "shell.execute_reply": "2020-06-28T21:51:17.206816Z",
     "shell.execute_reply.started": "2020-06-28T21:51:17.185274Z"
    }
   },
   "outputs": [],
   "source": [
    "base3.createOrReplaceTempView('base3')"
   ]
  },
  {
   "cell_type": "code",
   "execution_count": 103,
   "metadata": {
    "execution": {
     "iopub.execute_input": "2020-06-28T21:51:17.862278Z",
     "iopub.status.busy": "2020-06-28T21:51:17.861916Z",
     "iopub.status.idle": "2020-06-28T21:51:43.317921Z",
     "shell.execute_reply": "2020-06-28T21:51:43.317114Z",
     "shell.execute_reply.started": "2020-06-28T21:51:17.862249Z"
    }
   },
   "outputs": [
    {
     "name": "stdout",
     "output_type": "stream",
     "text": [
      "+--------+\n",
      "|count(1)|\n",
      "+--------+\n",
      "|  429793|\n",
      "+--------+\n",
      "\n"
     ]
    }
   ],
   "source": [
    "spark.sql('''\n",
    "            SELECT Count(*)\n",
    "            FROM base2\n",
    "            ''').show()"
   ]
  },
  {
   "cell_type": "code",
   "execution_count": 83,
   "metadata": {
    "execution": {
     "iopub.execute_input": "2020-06-28T21:41:20.832427Z",
     "iopub.status.busy": "2020-06-28T21:41:20.832187Z",
     "iopub.status.idle": "2020-06-28T21:41:48.878906Z",
     "shell.execute_reply": "2020-06-28T21:41:48.876953Z",
     "shell.execute_reply.started": "2020-06-28T21:41:20.832401Z"
    }
   },
   "outputs": [
    {
     "name": "stdout",
     "output_type": "stream",
     "text": [
      "+--------------------+\n",
      "|                text|\n",
      "+--------------------+\n",
      "|My friend and I s...|\n",
      "|Relaxed understat...|\n",
      "|Solid place! Love...|\n",
      "|Ah.... I was told...|\n",
      "|Very nice staff! ...|\n",
      "|Sorry Fugo.... I ...|\n",
      "|I have been going...|\n",
      "|The portions are ...|\n",
      "|3.5 stars. I enjo...|\n",
      "|I want to love th...|\n",
      "|Solid place to go...|\n",
      "|Evergreen is a re...|\n",
      "|YUM! Love these c...|\n",
      "|This place has a ...|\n",
      "|Good. The first t...|\n",
      "|I was pretty exci...|\n",
      "|YUM! I prefer the...|\n",
      "|A go to spot with...|\n",
      "|Visited this plac...|\n",
      "|Dimsum: 8/10\n",
      "The ...|\n",
      "+--------------------+\n",
      "only showing top 20 rows\n",
      "\n"
     ]
    }
   ],
   "source": [
    "base3.select('text').show()"
   ]
  },
  {
   "cell_type": "markdown",
   "metadata": {},
   "source": [
    "- Tratamento do texto das reviews"
   ]
  },
  {
   "cell_type": "code",
   "execution_count": 104,
   "metadata": {
    "execution": {
     "iopub.execute_input": "2020-06-28T21:51:43.319935Z",
     "iopub.status.busy": "2020-06-28T21:51:43.319659Z",
     "iopub.status.idle": "2020-06-28T21:51:43.326401Z",
     "shell.execute_reply": "2020-06-28T21:51:43.325667Z",
     "shell.execute_reply.started": "2020-06-28T21:51:43.319908Z"
    }
   },
   "outputs": [],
   "source": [
    "def word_clean(sdf):\n",
    "    rv1 = sdf.withColumn('text_clean',f.regexp_replace(f.col('text'), \"'d\", \" would\"))\n",
    "    rv2 = rv1.withColumn('text_clean',f.regexp_replace(f.col('text_clean'), \"'ve\", \" have\"))\n",
    "    rv3 = rv2.withColumn('text_clean',f.regexp_replace(f.col('text_clean'), \"'s\", \" is\"))\n",
    "    rv4 = rv3.withColumn('text_clean',f.regexp_replace(f.col('text_clean'), \"'re\", \" are\"))\n",
    "    rv5 = rv4.withColumn('text_clean',f.regexp_replace(f.col('text_clean'), '\\W+', \" \"))\n",
    "    rv6 = rv5.withColumn('text_clean',f.lower(f.col('text_clean')))\n",
    "    return rv6"
   ]
  },
  {
   "cell_type": "code",
   "execution_count": 105,
   "metadata": {
    "execution": {
     "iopub.execute_input": "2020-06-28T21:51:43.328373Z",
     "iopub.status.busy": "2020-06-28T21:51:43.328119Z",
     "iopub.status.idle": "2020-06-28T21:51:43.434151Z",
     "shell.execute_reply": "2020-06-28T21:51:43.433335Z",
     "shell.execute_reply.started": "2020-06-28T21:51:43.328346Z"
    }
   },
   "outputs": [],
   "source": [
    "base4 = word_clean(base3)"
   ]
  },
  {
   "cell_type": "code",
   "execution_count": 106,
   "metadata": {
    "execution": {
     "iopub.execute_input": "2020-06-28T21:51:43.436689Z",
     "iopub.status.busy": "2020-06-28T21:51:43.436297Z",
     "iopub.status.idle": "2020-06-28T21:52:12.705965Z",
     "shell.execute_reply": "2020-06-28T21:52:12.704720Z",
     "shell.execute_reply.started": "2020-06-28T21:51:43.436651Z"
    }
   },
   "outputs": [
    {
     "name": "stdout",
     "output_type": "stream",
     "text": [
      "+--------------------+\n",
      "|          text_clean|\n",
      "+--------------------+\n",
      "|my friend and i s...|\n",
      "|relaxed understat...|\n",
      "|solid place love ...|\n",
      "|ah i was told the...|\n",
      "|very nice staff g...|\n",
      "|sorry fugo i was ...|\n",
      "|i have been going...|\n",
      "|the portions are ...|\n",
      "|3 5 stars i enjoy...|\n",
      "|i want to love th...|\n",
      "|solid place to go...|\n",
      "|evergreen is a re...|\n",
      "|yum love these ch...|\n",
      "|this place has a ...|\n",
      "|good the first ti...|\n",
      "|i was pretty exci...|\n",
      "|yum i prefer thei...|\n",
      "|a go to spot with...|\n",
      "|visited this plac...|\n",
      "|dimsum 8 10 the s...|\n",
      "+--------------------+\n",
      "only showing top 20 rows\n",
      "\n"
     ]
    }
   ],
   "source": [
    "base4.select('text_clean').show()"
   ]
  },
  {
   "cell_type": "markdown",
   "metadata": {},
   "source": [
    "- Contagem de amigos de cada usuário"
   ]
  },
  {
   "cell_type": "code",
   "execution_count": 107,
   "metadata": {
    "execution": {
     "iopub.execute_input": "2020-06-28T21:52:12.708429Z",
     "iopub.status.busy": "2020-06-28T21:52:12.707990Z",
     "iopub.status.idle": "2020-06-28T21:52:12.763928Z",
     "shell.execute_reply": "2020-06-28T21:52:12.763128Z",
     "shell.execute_reply.started": "2020-06-28T21:52:12.708381Z"
    }
   },
   "outputs": [],
   "source": [
    "base5 = base4.withColumn('friends_counter', f.size(f.split(f.col('friends'),',')))"
   ]
  },
  {
   "cell_type": "code",
   "execution_count": 108,
   "metadata": {
    "execution": {
     "iopub.execute_input": "2020-06-28T21:52:12.765701Z",
     "iopub.status.busy": "2020-06-28T21:52:12.765407Z",
     "iopub.status.idle": "2020-06-28T21:52:12.803164Z",
     "shell.execute_reply": "2020-06-28T21:52:12.802203Z",
     "shell.execute_reply.started": "2020-06-28T21:52:12.765671Z"
    }
   },
   "outputs": [],
   "source": [
    "base5.createOrReplaceTempView('base5')"
   ]
  },
  {
   "cell_type": "code",
   "execution_count": 109,
   "metadata": {
    "execution": {
     "iopub.execute_input": "2020-06-28T21:52:12.805160Z",
     "iopub.status.busy": "2020-06-28T21:52:12.804768Z",
     "iopub.status.idle": "2020-06-28T21:52:12.817058Z",
     "shell.execute_reply": "2020-06-28T21:52:12.816190Z",
     "shell.execute_reply.started": "2020-06-28T21:52:12.805123Z"
    }
   },
   "outputs": [],
   "source": [
    "base6 = spark.sql('''\n",
    "            SELECT *,\n",
    "            (CASE WHEN friends = 'None' THEN 0 ELSE friends_counter END) as friends_count\n",
    "            FROM base4\n",
    "            ''')"
   ]
  },
  {
   "cell_type": "code",
   "execution_count": 89,
   "metadata": {
    "execution": {
     "iopub.execute_input": "2020-06-28T21:43:11.544273Z",
     "iopub.status.busy": "2020-06-28T21:43:11.543995Z",
     "iopub.status.idle": "2020-06-28T21:43:42.873320Z",
     "shell.execute_reply": "2020-06-28T21:43:42.872640Z",
     "shell.execute_reply.started": "2020-06-28T21:43:11.544246Z"
    }
   },
   "outputs": [],
   "source": [
    "df = base6.select('friends','friends_counter','friends_count').limit(10).toPandas()"
   ]
  },
  {
   "cell_type": "code",
   "execution_count": 90,
   "metadata": {
    "execution": {
     "iopub.execute_input": "2020-06-28T21:46:03.398682Z",
     "iopub.status.busy": "2020-06-28T21:46:03.398359Z",
     "iopub.status.idle": "2020-06-28T21:46:03.410445Z",
     "shell.execute_reply": "2020-06-28T21:46:03.409775Z",
     "shell.execute_reply.started": "2020-06-28T21:46:03.398651Z"
    }
   },
   "outputs": [
    {
     "data": {
      "text/plain": [
       "friends            object\n",
       "friends_counter     int32\n",
       "friends_count       int32\n",
       "dtype: object"
      ]
     },
     "execution_count": 90,
     "metadata": {},
     "output_type": "execute_result"
    }
   ],
   "source": [
    "df.dtypes"
   ]
  },
  {
   "cell_type": "code",
   "execution_count": 91,
   "metadata": {
    "execution": {
     "iopub.execute_input": "2020-06-28T21:46:04.185227Z",
     "iopub.status.busy": "2020-06-28T21:46:04.184942Z",
     "iopub.status.idle": "2020-06-28T21:46:04.200185Z",
     "shell.execute_reply": "2020-06-28T21:46:04.199356Z",
     "shell.execute_reply.started": "2020-06-28T21:46:04.185200Z"
    }
   },
   "outputs": [
    {
     "data": {
      "text/html": [
       "<div>\n",
       "<style scoped>\n",
       "    .dataframe tbody tr th:only-of-type {\n",
       "        vertical-align: middle;\n",
       "    }\n",
       "\n",
       "    .dataframe tbody tr th {\n",
       "        vertical-align: top;\n",
       "    }\n",
       "\n",
       "    .dataframe thead th {\n",
       "        text-align: right;\n",
       "    }\n",
       "</style>\n",
       "<table border=\"1\" class=\"dataframe\">\n",
       "  <thead>\n",
       "    <tr style=\"text-align: right;\">\n",
       "      <th></th>\n",
       "      <th>friends</th>\n",
       "      <th>friends_counter</th>\n",
       "      <th>friends_count</th>\n",
       "    </tr>\n",
       "  </thead>\n",
       "  <tbody>\n",
       "    <tr>\n",
       "      <th>0</th>\n",
       "      <td>kUWW9YR-2xC9YUSavBro8w</td>\n",
       "      <td>1</td>\n",
       "      <td>1</td>\n",
       "    </tr>\n",
       "    <tr>\n",
       "      <th>1</th>\n",
       "      <td>kUWW9YR-2xC9YUSavBro8w</td>\n",
       "      <td>1</td>\n",
       "      <td>1</td>\n",
       "    </tr>\n",
       "    <tr>\n",
       "      <th>2</th>\n",
       "      <td>CA1N8B5ZkSiUJeOXYcWImg, ngBDdwtpgtfFc9LNQT2Lzg...</td>\n",
       "      <td>27</td>\n",
       "      <td>27</td>\n",
       "    </tr>\n",
       "    <tr>\n",
       "      <th>3</th>\n",
       "      <td>CA1N8B5ZkSiUJeOXYcWImg, ngBDdwtpgtfFc9LNQT2Lzg...</td>\n",
       "      <td>27</td>\n",
       "      <td>27</td>\n",
       "    </tr>\n",
       "    <tr>\n",
       "      <th>4</th>\n",
       "      <td>CA1N8B5ZkSiUJeOXYcWImg, ngBDdwtpgtfFc9LNQT2Lzg...</td>\n",
       "      <td>27</td>\n",
       "      <td>27</td>\n",
       "    </tr>\n",
       "    <tr>\n",
       "      <th>5</th>\n",
       "      <td>CA1N8B5ZkSiUJeOXYcWImg, ngBDdwtpgtfFc9LNQT2Lzg...</td>\n",
       "      <td>27</td>\n",
       "      <td>27</td>\n",
       "    </tr>\n",
       "    <tr>\n",
       "      <th>6</th>\n",
       "      <td>CA1N8B5ZkSiUJeOXYcWImg, ngBDdwtpgtfFc9LNQT2Lzg...</td>\n",
       "      <td>27</td>\n",
       "      <td>27</td>\n",
       "    </tr>\n",
       "    <tr>\n",
       "      <th>7</th>\n",
       "      <td>CA1N8B5ZkSiUJeOXYcWImg, ngBDdwtpgtfFc9LNQT2Lzg...</td>\n",
       "      <td>27</td>\n",
       "      <td>27</td>\n",
       "    </tr>\n",
       "    <tr>\n",
       "      <th>8</th>\n",
       "      <td>CA1N8B5ZkSiUJeOXYcWImg, ngBDdwtpgtfFc9LNQT2Lzg...</td>\n",
       "      <td>27</td>\n",
       "      <td>27</td>\n",
       "    </tr>\n",
       "    <tr>\n",
       "      <th>9</th>\n",
       "      <td>CA1N8B5ZkSiUJeOXYcWImg, ngBDdwtpgtfFc9LNQT2Lzg...</td>\n",
       "      <td>27</td>\n",
       "      <td>27</td>\n",
       "    </tr>\n",
       "  </tbody>\n",
       "</table>\n",
       "</div>"
      ],
      "text/plain": [
       "                                             friends  friends_counter  \\\n",
       "0                             kUWW9YR-2xC9YUSavBro8w                1   \n",
       "1                             kUWW9YR-2xC9YUSavBro8w                1   \n",
       "2  CA1N8B5ZkSiUJeOXYcWImg, ngBDdwtpgtfFc9LNQT2Lzg...               27   \n",
       "3  CA1N8B5ZkSiUJeOXYcWImg, ngBDdwtpgtfFc9LNQT2Lzg...               27   \n",
       "4  CA1N8B5ZkSiUJeOXYcWImg, ngBDdwtpgtfFc9LNQT2Lzg...               27   \n",
       "5  CA1N8B5ZkSiUJeOXYcWImg, ngBDdwtpgtfFc9LNQT2Lzg...               27   \n",
       "6  CA1N8B5ZkSiUJeOXYcWImg, ngBDdwtpgtfFc9LNQT2Lzg...               27   \n",
       "7  CA1N8B5ZkSiUJeOXYcWImg, ngBDdwtpgtfFc9LNQT2Lzg...               27   \n",
       "8  CA1N8B5ZkSiUJeOXYcWImg, ngBDdwtpgtfFc9LNQT2Lzg...               27   \n",
       "9  CA1N8B5ZkSiUJeOXYcWImg, ngBDdwtpgtfFc9LNQT2Lzg...               27   \n",
       "\n",
       "   friends_count  \n",
       "0              1  \n",
       "1              1  \n",
       "2             27  \n",
       "3             27  \n",
       "4             27  \n",
       "5             27  \n",
       "6             27  \n",
       "7             27  \n",
       "8             27  \n",
       "9             27  "
      ]
     },
     "execution_count": 91,
     "metadata": {},
     "output_type": "execute_result"
    }
   ],
   "source": [
    "df"
   ]
  },
  {
   "cell_type": "markdown",
   "metadata": {},
   "source": [
    "- Remoção de colunas que não serão utilizadas na primeira modelagem"
   ]
  },
  {
   "cell_type": "code",
   "execution_count": 110,
   "metadata": {
    "execution": {
     "iopub.execute_input": "2020-06-28T21:52:12.820985Z",
     "iopub.status.busy": "2020-06-28T21:52:12.820538Z",
     "iopub.status.idle": "2020-06-28T21:52:12.831057Z",
     "shell.execute_reply": "2020-06-28T21:52:12.830100Z",
     "shell.execute_reply.started": "2020-06-28T21:52:12.820950Z"
    }
   },
   "outputs": [],
   "source": [
    "base7 = base6.drop('friends','friends_counter','name_usr','city', 'address','review_id','state', 'hours','text_clean','text','elite_usr')"
   ]
  },
  {
   "cell_type": "code",
   "execution_count": 111,
   "metadata": {
    "execution": {
     "iopub.execute_input": "2020-06-28T21:52:12.833285Z",
     "iopub.status.busy": "2020-06-28T21:52:12.832947Z",
     "iopub.status.idle": "2020-06-28T21:52:12.841181Z",
     "shell.execute_reply": "2020-06-28T21:52:12.840025Z",
     "shell.execute_reply.started": "2020-06-28T21:52:12.833252Z"
    }
   },
   "outputs": [
    {
     "data": {
      "text/plain": [
       "['business_id',\n",
       " 'cool',\n",
       " 'date',\n",
       " 'funny',\n",
       " 'stars',\n",
       " 'useful',\n",
       " 'user_id',\n",
       " 'categories',\n",
       " 'is_open',\n",
       " 'latitude',\n",
       " 'longitude',\n",
       " 'name_bz',\n",
       " 'postal_code',\n",
       " 'review_count',\n",
       " 'stars_bz',\n",
       " 'stars_usr',\n",
       " 'compliment_cool',\n",
       " 'compliment_cute',\n",
       " 'compliment_funny',\n",
       " 'compliment_hot',\n",
       " 'compliment_list',\n",
       " 'compliment_more',\n",
       " 'compliment_note',\n",
       " 'compliment_photos',\n",
       " 'compliment_plain',\n",
       " 'compliment_profile',\n",
       " 'compliment_writer',\n",
       " 'cool_usr',\n",
       " 'fans',\n",
       " 'funny_usr',\n",
       " 'review_count_usr',\n",
       " 'useful_usr',\n",
       " 'yelping_since',\n",
       " 'city_review_counter',\n",
       " 'city_review_ratio',\n",
       " 'friends_count']"
      ]
     },
     "execution_count": 111,
     "metadata": {},
     "output_type": "execute_result"
    }
   ],
   "source": [
    "base7.columns"
   ]
  },
  {
   "cell_type": "code",
   "execution_count": 51,
   "metadata": {
    "execution": {
     "iopub.execute_input": "2020-06-28T14:27:43.843321Z",
     "iopub.status.busy": "2020-06-28T14:27:43.843031Z",
     "iopub.status.idle": "2020-06-28T14:28:18.683699Z",
     "shell.execute_reply": "2020-06-28T14:28:18.682935Z",
     "shell.execute_reply.started": "2020-06-28T14:27:43.843293Z"
    }
   },
   "outputs": [],
   "source": [
    "base7.limit(50000).write \\\n",
    "    .format('csv') \\\n",
    "    .mode('overwrite') \\\n",
    "    .option('sep', ',') \\\n",
    "    .option('header', True) \\\n",
    "    .save('output/yelp.csv')"
   ]
  },
  {
   "cell_type": "markdown",
   "metadata": {},
   "source": [
    "# Matriz de distâncias"
   ]
  },
  {
   "cell_type": "markdown",
   "metadata": {},
   "source": [
    "- Preparação para criação de matriz de distâncias baseada na nota de cada avaliação."
   ]
  },
  {
   "cell_type": "code",
   "execution_count": 112,
   "metadata": {
    "execution": {
     "iopub.execute_input": "2020-06-28T21:52:12.842803Z",
     "iopub.status.busy": "2020-06-28T21:52:12.842491Z",
     "iopub.status.idle": "2020-06-28T21:52:12.856870Z",
     "shell.execute_reply": "2020-06-28T21:52:12.855839Z",
     "shell.execute_reply.started": "2020-06-28T21:52:12.842770Z"
    }
   },
   "outputs": [],
   "source": [
    "dist1 = base7.select('user_id','categories','stars')"
   ]
  },
  {
   "cell_type": "code",
   "execution_count": 97,
   "metadata": {
    "execution": {
     "iopub.execute_input": "2020-06-28T21:47:08.989488Z",
     "iopub.status.busy": "2020-06-28T21:47:08.989192Z",
     "iopub.status.idle": "2020-06-28T21:47:33.129653Z",
     "shell.execute_reply": "2020-06-28T21:47:33.128687Z",
     "shell.execute_reply.started": "2020-06-28T21:47:08.989461Z"
    }
   },
   "outputs": [
    {
     "name": "stdout",
     "output_type": "stream",
     "text": [
      "+--------------------+--------------------+-----+\n",
      "|             user_id|          categories|stars|\n",
      "+--------------------+--------------------+-----+\n",
      "|-4Anvj46CWf57KWI9...|Restaurants, Japa...|  3.0|\n",
      "|-4Anvj46CWf57KWI9...|Lounges, Bars, Ni...|  4.0|\n",
      "|-JBB4-ALR07J6Pbx4...| Restaurants, Korean|  4.0|\n",
      "|-JBB4-ALR07J6Pbx4...|Bakeries, Dessert...|  1.0|\n",
      "|-JBB4-ALR07J6Pbx4...|Food, Ethnic Food...|  4.0|\n",
      "|-JBB4-ALR07J6Pbx4...|Food, Restaurants...|  2.0|\n",
      "|-JBB4-ALR07J6Pbx4...|Chinese, Restaura...|  4.0|\n",
      "|-JBB4-ALR07J6Pbx4...|Restaurants, Cana...|  4.0|\n",
      "|-JBB4-ALR07J6Pbx4...|Lebanese, Middle ...|  3.0|\n",
      "|-JBB4-ALR07J6Pbx4...|Vegetarian, Resta...|  3.0|\n",
      "|-JBB4-ALR07J6Pbx4...|Restaurants, Tapa...|  4.0|\n",
      "|-JBB4-ALR07J6Pbx4...|Parks, Local Serv...|  4.0|\n",
      "|-JBB4-ALR07J6Pbx4...|Food, Ice Cream &...|  5.0|\n",
      "|-JBB4-ALR07J6Pbx4...|Italian, Caterers...|  5.0|\n",
      "|-JBB4-ALR07J6Pbx4...|Restaurants, Mexican|  4.0|\n",
      "|-JBB4-ALR07J6Pbx4...|Bakeries, Food, R...|  3.0|\n",
      "|-JBB4-ALR07J6Pbx4...|Japanese, Sushi B...|  4.0|\n",
      "|-LyjHYhPha2loUaiM...|Food, Desserts, J...|  4.0|\n",
      "|-LyjHYhPha2loUaiM...|Sushi Bars, Japan...|  5.0|\n",
      "|-LyjHYhPha2loUaiM...|Restaurants, Dim ...|  3.0|\n",
      "+--------------------+--------------------+-----+\n",
      "only showing top 20 rows\n",
      "\n"
     ]
    }
   ],
   "source": [
    "dist1.show()"
   ]
  },
  {
   "cell_type": "code",
   "execution_count": 123,
   "metadata": {
    "execution": {
     "iopub.execute_input": "2020-06-28T21:57:58.206498Z",
     "iopub.status.busy": "2020-06-28T21:57:58.206205Z",
     "iopub.status.idle": "2020-06-28T21:57:58.248583Z",
     "shell.execute_reply": "2020-06-28T21:57:58.247872Z",
     "shell.execute_reply.started": "2020-06-28T21:57:58.206473Z"
    }
   },
   "outputs": [],
   "source": [
    "dist2 = dist1.withColumn('category', f.explode(f.split(f.col('categories'),', ')))"
   ]
  },
  {
   "cell_type": "code",
   "execution_count": 124,
   "metadata": {
    "execution": {
     "iopub.execute_input": "2020-06-28T21:57:59.107445Z",
     "iopub.status.busy": "2020-06-28T21:57:59.107161Z",
     "iopub.status.idle": "2020-06-28T21:58:25.267452Z",
     "shell.execute_reply": "2020-06-28T21:58:25.266407Z",
     "shell.execute_reply.started": "2020-06-28T21:57:59.107418Z"
    }
   },
   "outputs": [
    {
     "name": "stdout",
     "output_type": "stream",
     "text": [
      "+--------------------+--------------------+-----+--------------+\n",
      "|             user_id|          categories|stars|      category|\n",
      "+--------------------+--------------------+-----+--------------+\n",
      "|-4Anvj46CWf57KWI9...|Restaurants, Japa...|  3.0|   Restaurants|\n",
      "|-4Anvj46CWf57KWI9...|Restaurants, Japa...|  3.0|      Japanese|\n",
      "|-4Anvj46CWf57KWI9...|Restaurants, Japa...|  3.0|    Sushi Bars|\n",
      "|-4Anvj46CWf57KWI9...|Lounges, Bars, Ni...|  4.0|       Lounges|\n",
      "|-4Anvj46CWf57KWI9...|Lounges, Bars, Ni...|  4.0|          Bars|\n",
      "|-4Anvj46CWf57KWI9...|Lounges, Bars, Ni...|  4.0|     Nightlife|\n",
      "|-JBB4-ALR07J6Pbx4...| Restaurants, Korean|  4.0|   Restaurants|\n",
      "|-JBB4-ALR07J6Pbx4...| Restaurants, Korean|  4.0|        Korean|\n",
      "|-JBB4-ALR07J6Pbx4...|Bakeries, Dessert...|  1.0|      Bakeries|\n",
      "|-JBB4-ALR07J6Pbx4...|Bakeries, Dessert...|  1.0|      Desserts|\n",
      "|-JBB4-ALR07J6Pbx4...|Bakeries, Dessert...|  1.0|          Food|\n",
      "|-JBB4-ALR07J6Pbx4...|Food, Ethnic Food...|  4.0|          Food|\n",
      "|-JBB4-ALR07J6Pbx4...|Food, Ethnic Food...|  4.0|   Ethnic Food|\n",
      "|-JBB4-ALR07J6Pbx4...|Food, Ethnic Food...|  4.0|          Poke|\n",
      "|-JBB4-ALR07J6Pbx4...|Food, Ethnic Food...|  4.0|      Hawaiian|\n",
      "|-JBB4-ALR07J6Pbx4...|Food, Ethnic Food...|  4.0|   Restaurants|\n",
      "|-JBB4-ALR07J6Pbx4...|Food, Ethnic Food...|  4.0|       Seafood|\n",
      "|-JBB4-ALR07J6Pbx4...|Food, Ethnic Food...|  4.0|  Asian Fusion|\n",
      "|-JBB4-ALR07J6Pbx4...|Food, Ethnic Food...|  4.0|Specialty Food|\n",
      "|-JBB4-ALR07J6Pbx4...|Food, Restaurants...|  2.0|          Food|\n",
      "+--------------------+--------------------+-----+--------------+\n",
      "only showing top 20 rows\n",
      "\n"
     ]
    }
   ],
   "source": [
    "dist2.show()"
   ]
  },
  {
   "cell_type": "code",
   "execution_count": 127,
   "metadata": {
    "execution": {
     "iopub.execute_input": "2020-06-28T21:59:20.022051Z",
     "iopub.status.busy": "2020-06-28T21:59:20.021760Z",
     "iopub.status.idle": "2020-06-28T21:59:20.052269Z",
     "shell.execute_reply": "2020-06-28T21:59:20.051379Z",
     "shell.execute_reply.started": "2020-06-28T21:59:20.022024Z"
    }
   },
   "outputs": [],
   "source": [
    "dist2.createOrReplaceTempView('dist')"
   ]
  },
  {
   "cell_type": "markdown",
   "metadata": {},
   "source": [
    "- Quantidade de usuários e estabelecimentos"
   ]
  },
  {
   "cell_type": "code",
   "execution_count": 120,
   "metadata": {
    "execution": {
     "iopub.execute_input": "2020-06-28T21:56:28.543133Z",
     "iopub.status.busy": "2020-06-28T21:56:28.542840Z",
     "iopub.status.idle": "2020-06-28T21:56:55.361110Z",
     "shell.execute_reply": "2020-06-28T21:56:55.360275Z",
     "shell.execute_reply.started": "2020-06-28T21:56:28.543106Z"
    }
   },
   "outputs": [
    {
     "name": "stdout",
     "output_type": "stream",
     "text": [
      "+-----------------------+\n",
      "|count(DISTINCT user_id)|\n",
      "+-----------------------+\n",
      "|                  52705|\n",
      "+-----------------------+\n",
      "\n"
     ]
    }
   ],
   "source": [
    "spark.sql('''\n",
    "            SELECT Count(DISTINCT user_id)\n",
    "            FROM dist\n",
    "            ''').show()"
   ]
  },
  {
   "cell_type": "code",
   "execution_count": 121,
   "metadata": {
    "execution": {
     "iopub.execute_input": "2020-06-28T21:56:55.363112Z",
     "iopub.status.busy": "2020-06-28T21:56:55.362815Z",
     "iopub.status.idle": "2020-06-28T21:57:35.381756Z",
     "shell.execute_reply": "2020-06-28T21:57:35.380810Z",
     "shell.execute_reply.started": "2020-06-28T21:56:55.363083Z"
    }
   },
   "outputs": [
    {
     "name": "stdout",
     "output_type": "stream",
     "text": [
      "+--------------------------+\n",
      "|count(DISTINCT categories)|\n",
      "+--------------------------+\n",
      "|                      4214|\n",
      "+--------------------------+\n",
      "\n"
     ]
    }
   ],
   "source": [
    "spark.sql('''\n",
    "            SELECT Count(DISTINCT categories)\n",
    "            FROM dist\n",
    "            ''').show()"
   ]
  },
  {
   "cell_type": "code",
   "execution_count": 128,
   "metadata": {
    "execution": {
     "iopub.execute_input": "2020-06-28T21:59:22.476287Z",
     "iopub.status.busy": "2020-06-28T21:59:22.476005Z",
     "iopub.status.idle": "2020-06-28T21:59:53.328016Z",
     "shell.execute_reply": "2020-06-28T21:59:53.327189Z",
     "shell.execute_reply.started": "2020-06-28T21:59:22.476262Z"
    }
   },
   "outputs": [
    {
     "name": "stdout",
     "output_type": "stream",
     "text": [
      "+------------------------+\n",
      "|count(DISTINCT category)|\n",
      "+------------------------+\n",
      "|                     613|\n",
      "+------------------------+\n",
      "\n"
     ]
    }
   ],
   "source": [
    "spark.sql('''\n",
    "            SELECT Count(DISTINCT category)\n",
    "            FROM dist\n",
    "            ''').show()"
   ]
  },
  {
   "cell_type": "markdown",
   "metadata": {},
   "source": [
    "- Aumentando o limite máximo de coluna de acordo com o número de estabelecimentos"
   ]
  },
  {
   "cell_type": "code",
   "execution_count": 129,
   "metadata": {
    "execution": {
     "iopub.execute_input": "2020-06-28T22:00:07.764033Z",
     "iopub.status.busy": "2020-06-28T22:00:07.763724Z",
     "iopub.status.idle": "2020-06-28T22:00:07.767333Z",
     "shell.execute_reply": "2020-06-28T22:00:07.766152Z",
     "shell.execute_reply.started": "2020-06-28T22:00:07.764003Z"
    }
   },
   "outputs": [],
   "source": [
    "#spark.conf.set('spark.sql.pivotMaxValues', u'21000')"
   ]
  },
  {
   "cell_type": "code",
   "execution_count": 130,
   "metadata": {
    "execution": {
     "iopub.execute_input": "2020-06-28T22:00:14.018595Z",
     "iopub.status.busy": "2020-06-28T22:00:14.018182Z",
     "iopub.status.idle": "2020-06-28T22:00:49.800080Z",
     "shell.execute_reply": "2020-06-28T22:00:49.798464Z",
     "shell.execute_reply.started": "2020-06-28T22:00:14.018548Z"
    }
   },
   "outputs": [],
   "source": [
    "dist3 = dist2.groupBy(\"user_id\").pivot(\"category\").mean(\"stars\")"
   ]
  },
  {
   "cell_type": "code",
   "execution_count": 132,
   "metadata": {
    "execution": {
     "iopub.execute_input": "2020-06-28T22:01:51.396262Z",
     "iopub.status.busy": "2020-06-28T22:01:51.395977Z",
     "iopub.status.idle": "2020-06-28T22:01:52.469365Z",
     "shell.execute_reply": "2020-06-28T22:01:52.468216Z",
     "shell.execute_reply.started": "2020-06-28T22:01:51.396236Z"
    }
   },
   "outputs": [],
   "source": [
    "dist4 = dist3.fillna(0)"
   ]
  },
  {
   "cell_type": "code",
   "execution_count": 133,
   "metadata": {
    "collapsed": true,
    "execution": {
     "iopub.execute_input": "2020-06-28T22:01:57.785620Z",
     "iopub.status.busy": "2020-06-28T22:01:57.785338Z",
     "iopub.status.idle": "2020-06-28T22:02:29.582046Z",
     "shell.execute_reply": "2020-06-28T22:02:29.581165Z",
     "shell.execute_reply.started": "2020-06-28T22:01:57.785594Z"
    },
    "jupyter": {
     "outputs_hidden": true
    }
   },
   "outputs": [
    {
     "name": "stdout",
     "output_type": "stream",
     "text": [
      "+--------------------+----------+-----------+-----------+--------------+-----------+-----------+-------------------+------+-------+--------+---------------+----------------+--------+--------------------+--------------+----------------------+---------------+---------------+--------+----------+----------+-------------------+---------+-------+-------+-------+---------+-----------+-------------+-----------+-----------+------------+-------------+--------------------+------------+----------+--------------+-------------------+---------------------+-----------+----------+------------+---------------------+------+--------+-----------+---------------------+--------+-------+-------------+----+---------------+------+-------+-------------+---------------+----+--------+------------+---------+----------+-------+----------------+--------+------------+-----------------------+---------+----------+-----+-------+---------------------+-------------+-------+----------+-----+----------+-------+------+----------+---------+------------------+---------+--------+------+-------+----------+-------+-----------------+-------+-------------------+-------+-------+-----+---------+------------+---------+--------------+------------+----------------+---------------------+---------+-----------+----------+------------------+--------+------------------+------------------+---------+---------------+-------------------+---------+-------+--------+-----------------+--------------+------------+------------+------------+-------------+---------------------+-------------------+-------+-------------+--------------------+--------+------+--------+---------------+-------------+------------+---------------------+-----------------+-----------------------+---------+------------+------------+-----------+-----------------+----------------------------+---------+-----------+------------------+---------------+---------------+-----------------+-----------------+-------------------------+-------------------+--------+--------------------------+----------------------------+---------+-----+--------+-----------------+------------+----------------------+---------------+-----+---------------+---+------------------+-----------+-------------+----------+-------------+--------+------------+-----+--------+-----------------+-----------------------------+--------------+--------+-------+------+--------------+--------------+------------+---------+-------------------+-------+---------+-----------+-------+------+---------------+----------+------------+----------------------+---------+---------+--------+-----------+------------------+-------+----------------------+------------+------------+------------------+---------------+---------+-----------+--------------+-----------------+-------------------------+----------------+---------------+-------------------+-------------+-------+---------------+--------------+-------+---------+---------+--------+------------------+------------------+------------+---------------------+---------+--------+----------------+--------+---------------+------+------------------+----------+----------------------+-----------+----------+-----------+---------+-----------+-------+------+----------------+------------+------------------+----------------+----------------------+----------------+--------------------+------------+----------+--------+------+-----------------+------+----------+-----------+-----------+--------------+-----+-------+----+------+---------------+------------+-----------+-------------+-------+-----+-----+--------+---------------+----+--------+----------+----------------+--------------+---------------+-------------------------------+------------------+-------------+----------------+-----------+-------------+-----------------------+-------------+----------+----------------+-----------------+-------------+------------+--------------------+-----------+---------+-------+--------+-------+-----------------+-----------------+---------+-----------------------------+-------+-------------------------+---------------+-------------+------+----------+---------+---------------+-------------+---------------------+--------------+--------------------------+---------+-----+---------+-------+-------+------------------+------------+-------+--------------+----------------------+----------------------+-------+-----+-----------------+--------------+----------------+-----------------+------+------+--------------------------------+-----------+-------+-----------------------+------------------+---------+--------------+----------------+-------+-------------+--------+--------------+---------------+---------+-----------------------------+-----+--------+-------------+------------+--------------+-------+-------+--------+----+--------------+---------+---------+------------+-------+---------------+---------------+--------------+----------+----------+---------------+------------+----------------+------------------+-------------+--------------+-------+--------------+-----------------------------+------------------------+-------------------+-------------+---------------+---------+--------+------------------+---------------+------+-------+------------+-------------+------------+---------------------------+------------------------------+-----------+----------------+---------------------+----------------------+----------+---------+-------+---------------------+-------------+-------------+---------------+----------------+-------------------+--------------+------------+--------------+-------------+----------------------+------------------------+------------+-------------+----------------+-----------+---------+---------+--------+-------+-----+----------------------+--------------+------------------------+-----------+--------------------+----------+----------------+------------------+-------------+---------------+-------------+----------------+---------------+--------------+-----------------+--------+------------+------------+------------+-----------+----------+------------+----+--------+-------------+-----------------------------+----------------+----------+--------+-------+-----+-----------+--------+----+------+----------+------------+----------+------------+-----------+----------+-----------------+---------------------+---------------------+-------------------------+----------+--------------+----------------+----------------------------+---------------------+----+-----------+-----+-----------+------------------+--------------------+-----------------------------+------------------+-----------+-----------------------+-------+------------------+-------+-------------------+-------+----+-------+-----+----------+----------+------------+--------+---------------+-------+---------------+------------+-------------------+--------------------+---------------+------------+----------+-----------+-----------+----------+-----------+--------+----------------+------------------+-----------+-------------+---------+-------------------+----------+------------+---------+----+-------------+--------+-------+-----------+-----------------+-----------------+-----------------+--------------+-----------+------------+---------------+-----------+------+----------+-----------------+-----------+--------------+------------+----------+---------------------+------------+----------+------------------------+--------------+--------+------+--------+--------------+-----+-------+---------+-------+------------+----------+------------------+---------------+------+--------------+------------+-----+---------+------------------------+----------------------------+------+-------+----+------------+------------------+-------------+------------+---------+-----+-------------+-----+------+----------+----------------------------+--------------+--------+----------------+-------------------+--------------+---------------+------------+-------+----+---------+-----------+----+----------------+----------+-----+----------+----------+---------------------+-------------+-----------------+---------------------+--------------------------+----------+---------------------+-------------+----------------------+-------+---------------+-------------+------------+-------+--------------------------------+---------------------------+------------------+----------------+-------------------+------------+----------------+----+--------------------------------+--------------+---------+--------+----------------+-----+----+----+\n",
      "|             user_id|Acai Bowls|Accessories|Accountants|Acne Treatment|Active Life|Acupuncture|Adult Entertainment|Afghan|African|Airlines|Airport Lounges|Airport Shuttles|Airports|Amateur Sports Teams|American (New)|American (Traditional)|Amusement Parks|Animal Shelters|Antiques|Apartments|Appliances|Appliances & Repair|Aquariums|Arabian|Arcades|Archery|Argentine|Art Classes|Art Galleries|Art Museums|Art Schools|Art Supplies|Arts & Crafts|Arts & Entertainment|Asian Fusion|Australian|Auto Detailing|Auto Glass Services|Auto Parts & Supplies|Auto Repair|Automotive|Axe Throwing|Baby Gear & Furniture|Bagels|Bakeries|Bangladeshi|Banks & Credit Unions|Barbeque|Barbers|Barre Classes|Bars|Baseball Fields|Basque|Beaches|Beauty & Spas|Bed & Breakfast|Beer|Beer Bar|Beer Gardens|Beer Hall|Beer Tours|Belgian|Bespoke Clothing|Bicycles|Bike Rentals|Bike Repair/Maintenance|Bike Shop|Bike tours|Bikes|Bistros|Blow Dry/Out Services|Boat Charters|Boating|Body Shops|Books|Bookstores|Bowling|Boxing|Brasseries|Brazilian|Breakfast & Brunch|Breweries|Brewpubs|Bridal|British|Bubble Tea|Buffets|Building Supplies|Burgers|Business Consulting|Butcher|Cabaret|Cafes|Cafeteria|Cajun/Creole|Cambodian|Canadian (New)|Candy Stores|Cannabis Clinics|Cannabis Dispensaries|Cantonese|Car Dealers|Car Rental|Car Share Services|Car Wash|Car Window Tinting|Cards & Stationery|Caribbean|Carpet Cleaning|Carpet Installation|Carpeting|Casinos|Caterers|Challenge Courses|Champagne Bars|Cheese Shops|Cheesesteaks|Chicken Shop|Chicken Wings|Child Care & Day Care|Children's Clothing|Chinese|Chiropractors|Chocolatiers & Shops|Cideries|Cinema|Climbing|Clothing Rental|Cocktail Bars|Coffee & Tea|Coffee & Tea Supplies|Coffee Roasteries|Colleges & Universities|Colombian|Comedy Clubs|Comfort Food|Comic Books|Community Centers|Community Service/Non-Profit|Computers|Contractors|Convenience Stores|Cooking Classes|Cooking Schools|Cosmetic Dentists|Cosmetic Surgeons|Cosmetics & Beauty Supply|Cosmetology Schools|Costumes|Counseling & Mental Health|Couriers & Delivery Services|Creperies|Cuban|Cupcakes|Currency Exchange|Custom Cakes|Customized Merchandise|Cycling Classes|Czech|Czech/Slovakian|DJs|Damage Restoration|Dance Clubs|Dance Studios|Dance Wear|Data Recovery|Day Spas|Delicatessen|Delis|Dentists|Department Stores|Departments of Motor Vehicles|Dermatologists|Desserts|Dim Sum|Diners|Dinner Theater|Discount Store|Distilleries|Dive Bars|Do-It-Yourself Food|Doctors|Dog Parks|Dog Walkers|Donairs|Donuts|Driving Schools|Drugstores|Dry Cleaning|Dry Cleaning & Laundry|Dumplings|Education|Egyptian|Electronics|Electronics Repair|Embassy|Emergency Pet Hospital|Endodontists|Escape Games|Estate Liquidation|Ethical Grocery|Ethiopian|Ethnic Food|Ethnic Grocery|Event Photography|Event Planning & Services|Eyebrow Services|Eyelash Service|Eyewear & Opticians|Fabric Stores|Falafel|Family Practice|Farmers Market|Fashion|Fast Food|Festivals|Filipino|Financial Advising|Financial Services|Fish & Chips|Fitness & Instruction|Float Spa|Flooring|Floral Designers|Florists|Flowers & Gifts|Fondue|              Food|Food Court|Food Delivery Services|Food Stands|Food Tours|Food Trucks|Foot Care|Formal Wear|Framing|French|Fruits & Veggies|Fur Clothing|Furniture Assembly|Furniture Repair|Furniture Reupholstery|Furniture Stores|Garage Door Services|Gas Stations|Gastropubs|Gay Bars|Gelato|General Dentistry|German|Gift Shops|Gluten-Free|Gold Buyers|Graphic Design|Greek|Grocery|Gyms|Hainan|Hair Extensions|Hair Removal|Hair Salons|Hair Stylists|Haitian|Hakka|Halal|Handyman|Hardware Stores|Hats|Hawaiian|Head Shops|Health & Medical|Health Markets|Health Retreats|Heating & Air Conditioning/HVAC|Himalayan/Nepalese|Hindu Temples|Historical Tours|Hobby Shops|Home & Garden|Home & Rental Insurance|Home Cleaning|Home Decor|Home Health Care|Home Organization|Home Services|Home Staging|Hong Kong Style Cafe|Hookah Bars|Hospitals|Hostels|Hot Dogs|Hot Pot|           Hotels|  Hotels & Travel|Hungarian|IT Services & Computer Repair|Iberian|Ice Cream & Frozen Yogurt|Immigration Law|Imported Food|Indian|Indonesian|Insurance|Interior Design|International|International Grocery|Internet Cafes|Internet Service Providers|Investing|Irish|Irish Pub|Italian|Izakaya|          Japanese|Jazz & Blues|Jewelry|Jewelry Repair|Juice Bars & Smoothies|Junk Removal & Hauling|Karaoke|Kebab|Keys & Locksmiths|Kitchen & Bath|Kitchen Supplies|Knitting Supplies|Korean|Kosher|Landmarks & Historical Buildings|Landscaping|Laotian|Laser Eye Surgery/Lasik|Laser Hair Removal|Laser Tag|Latin American|Laundry Services|Lawyers|Leather Goods|Lebanese|Legal Services|Leisure Centers|Libraries|Lighting Fixtures & Equipment|Limos|Lingerie|Live/Raw Food|Local Flavor|Local Services|Lounges|Luggage|Macarons|Mags|Makeup Artists|Malaysian|Marketing|Martial Arts|Massage|Massage Schools|Massage Therapy|Maternity Wear|Mattresses|Meat Shops|Medical Centers|Medical Spas|Medical Supplies|Meditation Centers|Mediterranean|Men's Clothing|Mexican|Middle Eastern|Middle Schools & High Schools|Mobile Phone Accessories|Mobile Phone Repair|Mobile Phones|Modern European|Mongolian|Moroccan|Motorcycle Dealers|Mountain Biking|Movers|Museums|Music & DVDs|Music & Video|Music Venues|Musical Instrument Services|Musical Instruments & Teachers|Nail Salons|Nail Technicians|Naturopathic/Holistic|Newspapers & Magazines|Nicaraguan|Nightlife|Noodles|Nurseries & Gardening|Nutritionists|Observatories|Office Cleaning|Office Equipment|Oil Change Stations|Opera & Ballet|Optometrists|Organic Stores|Orthodontists|Osteopathic Physicians|Outdoor Furniture Stores|Outdoor Gear|Outlet Stores|Packing Supplies|Paint & Sip|Pakistani|Pan Asian|Pancakes|Parking|Parks|Party & Event Planning|Party Supplies|Passport & Visa Services|Pasta Shops|Patisserie/Cake Shop|Pawn Shops|Payroll Services|Pediatric Dentists|Pediatricians|Performing Arts|Periodontists|Permanent Makeup|Persian/Iranian|Personal Chefs|Personal Shopping|Peruvian|Pet Boarding|Pet Groomers|Pet Services|Pet Sitting|Pet Stores|Pet Training|Pets|Pharmacy|Photographers|Photography Stores & Services|Physical Therapy|Piano Bars|Piercing|Pilates|Pizza|Playgrounds|Plumbing|Poke|Polish|Pool Halls|Pop-up Shops|Portuguese|Post Offices|Poutineries|Preschools|Printing Services|Private Investigation|Professional Services|Professional Sports Teams|Public Art|Public Markets|Public Relations|Public Services & Government|Public Transportation|Pubs|Race Tracks|Ramen|Real Estate|Real Estate Agents|Real Estate Services|Recording & Rehearsal Studios|Recreation Centers|Reflexology|Religious Organizations|Resorts|       Restaurants|Reunion|Roadside Assistance|Rolfing|Rugs|Russian|Salad|Salvadoran|Sandwiches|Scandinavian|Scottish|Screen Printing|Seafood|Seafood Markets|Self Storage|Session Photography|Sewing & Alterations|Shades & Blinds|Shanghainese|Shaved Ice|Shaved Snow|Shoe Repair|Shoe Shine|Shoe Stores|Shopping|Shopping Centers|Shredding Services|Singaporean|Skating Rinks|Skin Care|Smog Check Stations|Smokehouse|Social Clubs|Soul Food|Soup|South African|Southern|Spanish|Speakeasies|Special Education|   Specialty Food|Specialty Schools|Sporting Goods|Sports Bars|Sports Clubs|Sports Medicine|Sports Wear|Squash|Sri Lankan|Stadiums & Arenas|Steakhouses|Street Vendors|Summer Camps|Sunglasses|Supernatural Readings|Supper Clubs|Sushi Bars|Swimming Lessons/Schools|Swimming Pools|Swimwear|Syrian|Szechuan|Tabletop Games|Tacos|Tai Chi|Taiwanese|Tanning|Tanning Beds|Tapas Bars|Tapas/Small Plates|Tasting Classes|Tattoo|Tattoo Removal|Tax Services|Taxis|Tea Rooms|Team Building Activities|Television Service Providers|Tennis|Tex-Mex|Thai|Themed Cafes|Threading Services|Thrift Stores|Ticket Sales|Tiki Bars|Tires|Tobacco Shops|Tours|Towing|Toy Stores|Traditional Chinese Medicine|Train Stations|Trainers|Trampoline Parks|Transmission Repair|Transportation|Travel Services|Truck Rental|Turkish|Udon|Ukrainian|Urgent Care|Used|Used Car Dealers|Vape Shops|Vegan|Vegetarian|Venezuelan|Venues & Event Spaces|Veterinarians|Video Game Stores|Video/Film Production|Videos & Video Game Rental|Vietnamese|Vintage & Consignment|Vinyl Records|Vitamins & Supplements|Waffles|Walk-in Clinics|Walking Tours|Watch Repair|Watches|Water Heater Installation/Repair|Water Purification Services|            Waxing|Wedding Planning|Weight Loss Centers|Whiskey Bars|Wholesale Stores|Wigs|Windshield Installation & Repair|Wine & Spirits|Wine Bars|Wineries|Women's Clothing|Wraps|Yoga|Zoos|\n",
      "+--------------------+----------+-----------+-----------+--------------+-----------+-----------+-------------------+------+-------+--------+---------------+----------------+--------+--------------------+--------------+----------------------+---------------+---------------+--------+----------+----------+-------------------+---------+-------+-------+-------+---------+-----------+-------------+-----------+-----------+------------+-------------+--------------------+------------+----------+--------------+-------------------+---------------------+-----------+----------+------------+---------------------+------+--------+-----------+---------------------+--------+-------+-------------+----+---------------+------+-------+-------------+---------------+----+--------+------------+---------+----------+-------+----------------+--------+------------+-----------------------+---------+----------+-----+-------+---------------------+-------------+-------+----------+-----+----------+-------+------+----------+---------+------------------+---------+--------+------+-------+----------+-------+-----------------+-------+-------------------+-------+-------+-----+---------+------------+---------+--------------+------------+----------------+---------------------+---------+-----------+----------+------------------+--------+------------------+------------------+---------+---------------+-------------------+---------+-------+--------+-----------------+--------------+------------+------------+------------+-------------+---------------------+-------------------+-------+-------------+--------------------+--------+------+--------+---------------+-------------+------------+---------------------+-----------------+-----------------------+---------+------------+------------+-----------+-----------------+----------------------------+---------+-----------+------------------+---------------+---------------+-----------------+-----------------+-------------------------+-------------------+--------+--------------------------+----------------------------+---------+-----+--------+-----------------+------------+----------------------+---------------+-----+---------------+---+------------------+-----------+-------------+----------+-------------+--------+------------+-----+--------+-----------------+-----------------------------+--------------+--------+-------+------+--------------+--------------+------------+---------+-------------------+-------+---------+-----------+-------+------+---------------+----------+------------+----------------------+---------+---------+--------+-----------+------------------+-------+----------------------+------------+------------+------------------+---------------+---------+-----------+--------------+-----------------+-------------------------+----------------+---------------+-------------------+-------------+-------+---------------+--------------+-------+---------+---------+--------+------------------+------------------+------------+---------------------+---------+--------+----------------+--------+---------------+------+------------------+----------+----------------------+-----------+----------+-----------+---------+-----------+-------+------+----------------+------------+------------------+----------------+----------------------+----------------+--------------------+------------+----------+--------+------+-----------------+------+----------+-----------+-----------+--------------+-----+-------+----+------+---------------+------------+-----------+-------------+-------+-----+-----+--------+---------------+----+--------+----------+----------------+--------------+---------------+-------------------------------+------------------+-------------+----------------+-----------+-------------+-----------------------+-------------+----------+----------------+-----------------+-------------+------------+--------------------+-----------+---------+-------+--------+-------+-----------------+-----------------+---------+-----------------------------+-------+-------------------------+---------------+-------------+------+----------+---------+---------------+-------------+---------------------+--------------+--------------------------+---------+-----+---------+-------+-------+------------------+------------+-------+--------------+----------------------+----------------------+-------+-----+-----------------+--------------+----------------+-----------------+------+------+--------------------------------+-----------+-------+-----------------------+------------------+---------+--------------+----------------+-------+-------------+--------+--------------+---------------+---------+-----------------------------+-----+--------+-------------+------------+--------------+-------+-------+--------+----+--------------+---------+---------+------------+-------+---------------+---------------+--------------+----------+----------+---------------+------------+----------------+------------------+-------------+--------------+-------+--------------+-----------------------------+------------------------+-------------------+-------------+---------------+---------+--------+------------------+---------------+------+-------+------------+-------------+------------+---------------------------+------------------------------+-----------+----------------+---------------------+----------------------+----------+---------+-------+---------------------+-------------+-------------+---------------+----------------+-------------------+--------------+------------+--------------+-------------+----------------------+------------------------+------------+-------------+----------------+-----------+---------+---------+--------+-------+-----+----------------------+--------------+------------------------+-----------+--------------------+----------+----------------+------------------+-------------+---------------+-------------+----------------+---------------+--------------+-----------------+--------+------------+------------+------------+-----------+----------+------------+----+--------+-------------+-----------------------------+----------------+----------+--------+-------+-----+-----------+--------+----+------+----------+------------+----------+------------+-----------+----------+-----------------+---------------------+---------------------+-------------------------+----------+--------------+----------------+----------------------------+---------------------+----+-----------+-----+-----------+------------------+--------------------+-----------------------------+------------------+-----------+-----------------------+-------+------------------+-------+-------------------+-------+----+-------+-----+----------+----------+------------+--------+---------------+-------+---------------+------------+-------------------+--------------------+---------------+------------+----------+-----------+-----------+----------+-----------+--------+----------------+------------------+-----------+-------------+---------+-------------------+----------+------------+---------+----+-------------+--------+-------+-----------+-----------------+-----------------+-----------------+--------------+-----------+------------+---------------+-----------+------+----------+-----------------+-----------+--------------+------------+----------+---------------------+------------+----------+------------------------+--------------+--------+------+--------+--------------+-----+-------+---------+-------+------------+----------+------------------+---------------+------+--------------+------------+-----+---------+------------------------+----------------------------+------+-------+----+------------+------------------+-------------+------------+---------+-----+-------------+-----+------+----------+----------------------------+--------------+--------+----------------+-------------------+--------------+---------------+------------+-------+----+---------+-----------+----+----------------+----------+-----+----------+----------+---------------------+-------------+-----------------+---------------------+--------------------------+----------+---------------------+-------------+----------------------+-------+---------------+-------------+------------+-------+--------------------------------+---------------------------+------------------+----------------+-------------------+------------+----------------+----+--------------------------------+--------------+---------+--------+----------------+-----+----+----+\n",
      "|-4Anvj46CWf57KWI9...|       0.0|        0.0|        0.0|           0.0|        0.0|        0.0|                0.0|   0.0|    0.0|     0.0|            0.0|             0.0|     0.0|                 0.0|           0.0|                   0.0|            0.0|            0.0|     0.0|       0.0|       0.0|                0.0|      0.0|    0.0|    0.0|    0.0|      0.0|        0.0|          0.0|        0.0|        0.0|         0.0|          0.0|                 0.0|         0.0|       0.0|           0.0|                0.0|                  0.0|        0.0|       0.0|         0.0|                  0.0|   0.0|     0.0|        0.0|                  0.0|     0.0|    0.0|          0.0| 4.0|            0.0|   0.0|    0.0|          0.0|            0.0| 0.0|     0.0|         0.0|      0.0|       0.0|    0.0|             0.0|     0.0|         0.0|                    0.0|      0.0|       0.0|  0.0|    0.0|                  0.0|          0.0|    0.0|       0.0|  0.0|       0.0|    0.0|   0.0|       0.0|      0.0|               0.0|      0.0|     0.0|   0.0|    0.0|       0.0|    0.0|              0.0|    0.0|                0.0|    0.0|    0.0|  0.0|      0.0|         0.0|      0.0|           0.0|         0.0|             0.0|                  0.0|      0.0|        0.0|       0.0|               0.0|     0.0|               0.0|               0.0|      0.0|            0.0|                0.0|      0.0|    0.0|     0.0|              0.0|           0.0|         0.0|         0.0|         0.0|          0.0|                  0.0|                0.0|    0.0|          0.0|                 0.0|     0.0|   0.0|     0.0|            0.0|          0.0|         0.0|                  0.0|              0.0|                    0.0|      0.0|         0.0|         0.0|        0.0|              0.0|                         0.0|      0.0|        0.0|               0.0|            0.0|            0.0|              0.0|              0.0|                      0.0|                0.0|     0.0|                       0.0|                         0.0|      0.0|  0.0|     0.0|              0.0|         0.0|                   0.0|            0.0|  0.0|            0.0|0.0|               0.0|        0.0|          0.0|       0.0|          0.0|     0.0|         0.0|  0.0|     0.0|              0.0|                          0.0|           0.0|     0.0|    0.0|   0.0|           0.0|           0.0|         0.0|      0.0|                0.0|    0.0|      0.0|        0.0|    0.0|   0.0|            0.0|       0.0|         0.0|                   0.0|      0.0|      0.0|     0.0|        0.0|               0.0|    0.0|                   0.0|         0.0|         0.0|               0.0|            0.0|      0.0|        0.0|           0.0|              0.0|                      0.0|             0.0|            0.0|                0.0|          0.0|    0.0|            0.0|           0.0|    0.0|      0.0|      0.0|     0.0|               0.0|               0.0|         0.0|                  0.0|      0.0|     0.0|             0.0|     0.0|            0.0|   0.0|               0.0|       0.0|                   0.0|        0.0|       0.0|        0.0|      0.0|        0.0|    0.0|   0.0|             0.0|         0.0|               0.0|             0.0|                   0.0|             0.0|                 0.0|         0.0|       0.0|     0.0|   0.0|              0.0|   0.0|       0.0|        0.0|        0.0|           0.0|  0.0|    0.0| 0.0|   0.0|            0.0|         0.0|        0.0|          0.0|    0.0|  0.0|  0.0|     0.0|            0.0| 0.0|     0.0|       0.0|             0.0|           0.0|            0.0|                            0.0|               0.0|          0.0|             0.0|        0.0|          0.0|                    0.0|          0.0|       0.0|             0.0|              0.0|          0.0|         0.0|                 0.0|        0.0|      0.0|    0.0|     0.0|    0.0|              0.0|              0.0|      0.0|                          0.0|    0.0|                      0.0|            0.0|          0.0|   0.0|       0.0|      0.0|            0.0|          0.0|                  0.0|           0.0|                       0.0|      0.0|  0.0|      0.0|    0.0|    0.0|               3.0|         0.0|    0.0|           0.0|                   0.0|                   0.0|    0.0|  0.0|              0.0|           0.0|             0.0|              0.0|   0.0|   0.0|                             0.0|        0.0|    0.0|                    0.0|               0.0|      0.0|           0.0|             0.0|    0.0|          0.0|     0.0|           0.0|            0.0|      0.0|                          0.0|  0.0|     0.0|          0.0|         0.0|           0.0|    4.0|    0.0|     0.0| 0.0|           0.0|      0.0|      0.0|         0.0|    0.0|            0.0|            0.0|           0.0|       0.0|       0.0|            0.0|         0.0|             0.0|               0.0|          0.0|           0.0|    0.0|           0.0|                          0.0|                     0.0|                0.0|          0.0|            0.0|      0.0|     0.0|               0.0|            0.0|   0.0|    0.0|         0.0|          0.0|         0.0|                        0.0|                           0.0|        0.0|             0.0|                  0.0|                   0.0|       0.0|      4.0|    0.0|                  0.0|          0.0|          0.0|            0.0|             0.0|                0.0|           0.0|         0.0|           0.0|          0.0|                   0.0|                     0.0|         0.0|          0.0|             0.0|        0.0|      0.0|      0.0|     0.0|    0.0|  0.0|                   0.0|           0.0|                     0.0|        0.0|                 0.0|       0.0|             0.0|               0.0|          0.0|            0.0|          0.0|             0.0|            0.0|           0.0|              0.0|     0.0|         0.0|         0.0|         0.0|        0.0|       0.0|         0.0| 0.0|     0.0|          0.0|                          0.0|             0.0|       0.0|     0.0|    0.0|  0.0|        0.0|     0.0| 0.0|   0.0|       0.0|         0.0|       0.0|         0.0|        0.0|       0.0|              0.0|                  0.0|                  0.0|                      0.0|       0.0|           0.0|             0.0|                         0.0|                  0.0| 0.0|        0.0|  0.0|        0.0|               0.0|                 0.0|                          0.0|               0.0|        0.0|                    0.0|    0.0|               3.0|    0.0|                0.0|    0.0| 0.0|    0.0|  0.0|       0.0|       0.0|         0.0|     0.0|            0.0|    0.0|            0.0|         0.0|                0.0|                 0.0|            0.0|         0.0|       0.0|        0.0|        0.0|       0.0|        0.0|     0.0|             0.0|               0.0|        0.0|          0.0|      0.0|                0.0|       0.0|         0.0|      0.0| 0.0|          0.0|     0.0|    0.0|        0.0|              0.0|              0.0|              0.0|           0.0|        0.0|         0.0|            0.0|        0.0|   0.0|       0.0|              0.0|        0.0|           0.0|         0.0|       0.0|                  0.0|         0.0|       3.0|                     0.0|           0.0|     0.0|   0.0|     0.0|           0.0|  0.0|    0.0|      0.0|    0.0|         0.0|       0.0|               0.0|            0.0|   0.0|           0.0|         0.0|  0.0|      0.0|                     0.0|                         0.0|   0.0|    0.0| 0.0|         0.0|               0.0|          0.0|         0.0|      0.0|  0.0|          0.0|  0.0|   0.0|       0.0|                         0.0|           0.0|     0.0|             0.0|                0.0|           0.0|            0.0|         0.0|    0.0| 0.0|      0.0|        0.0| 0.0|             0.0|       0.0|  0.0|       0.0|       0.0|                  0.0|          0.0|              0.0|                  0.0|                       0.0|       0.0|                  0.0|          0.0|                   0.0|    0.0|            0.0|          0.0|         0.0|    0.0|                             0.0|                        0.0|               0.0|             0.0|                0.0|         0.0|             0.0| 0.0|                             0.0|           0.0|      0.0|     0.0|             0.0|  0.0| 0.0| 0.0|\n",
      "|-JBB4-ALR07J6Pbx4...|       0.0|        0.0|        0.0|           0.0|        4.0|        0.0|                0.0|   0.0|    0.0|     0.0|            0.0|             0.0|     0.0|                 0.0|           0.0|                   0.0|            0.0|            0.0|     0.0|       0.0|       0.0|                0.0|      0.0|    0.0|    0.0|    0.0|      0.0|        0.0|          0.0|        0.0|        0.0|         0.0|          0.0|                 0.0|         4.0|       0.0|           0.0|                0.0|                  0.0|        0.0|       0.0|         0.0|                  0.0|   0.0|     3.0|        0.0|                  0.0|     0.0|    0.0|          0.0| 4.0|            0.0|   0.0|    0.0|          0.0|            0.0| 0.0|     0.0|         0.0|      0.0|       0.0|    0.0|             0.0|     0.0|         0.0|                    0.0|      0.0|       0.0|  0.0|    0.0|                  0.0|          0.0|    0.0|       0.0|  0.0|       0.0|    0.0|   0.0|       0.0|      0.0|               0.0|      0.0|     0.0|   0.0|    0.0|       0.0|    0.0|              0.0|    0.0|                0.0|    0.0|    0.0|  5.0|      0.0|         0.0|      0.0|           4.0|         0.0|             0.0|                  0.0|      0.0|        0.0|       0.0|               0.0|     0.0|               0.0|               0.0|      0.0|            0.0|                0.0|      0.0|    0.0|     5.0|              0.0|           0.0|         0.0|         0.0|         0.0|          0.0|                  0.0|                0.0|    4.0|          0.0|                 0.0|     0.0|   0.0|     0.0|            0.0|          0.0|         0.0|                  0.0|              0.0|                    0.0|      0.0|         0.0|         0.0|        0.0|              0.0|                         4.0|      0.0|        0.0|               0.0|            0.0|            0.0|              0.0|              0.0|                      0.0|                0.0|     0.0|                       0.0|                         0.0|      0.0|  0.0|     0.0|              0.0|         0.0|                   0.0|            0.0|  0.0|            0.0|0.0|               0.0|        0.0|          0.0|       0.0|          0.0|     0.0|         0.0|  0.0|     0.0|              0.0|                          0.0|           0.0|    2.75|    0.0|   0.0|           0.0|           0.0|         0.0|      0.0|                0.0|    0.0|      0.0|        0.0|    0.0|   2.0|            0.0|       0.0|         0.0|                   0.0|      0.0|      0.0|     0.0|        0.0|               0.0|    0.0|                   0.0|         0.0|         0.0|               0.0|            0.0|      0.0|        4.0|           0.0|              0.0|                      4.5|             0.0|            0.0|                0.0|          0.0|    0.0|            0.0|           4.0|    0.0|      0.0|      0.0|     0.0|               0.0|               0.0|         0.0|                  0.0|      0.0|     0.0|             0.0|     0.0|            0.0|   0.0|3.2857142857142856|       0.0|                   0.0|        5.0|       0.0|        5.0|      0.0|        0.0|    0.0|   0.0|             0.0|         0.0|               0.0|             0.0|                   0.0|             0.0|                 0.0|         0.0|       0.0|     0.0|   0.0|              0.0|   0.0|       0.0|        0.0|        0.0|           0.0|  0.0|    0.0| 0.0|   0.0|            0.0|         0.0|        0.0|          0.0|    0.0|  0.0|  0.0|     0.0|            0.0| 0.0|     4.0|       0.0|             0.0|           0.0|            0.0|                            0.0|               0.0|          0.0|             0.0|        0.0|          0.0|                    0.0|          0.0|       0.0|             0.0|              0.0|          0.0|         0.0|                 0.0|        0.0|      0.0|    0.0|     0.0|    0.0|              0.0|              0.0|      0.0|                          0.0|    0.0|                      3.5|            0.0|          0.0|   0.0|       0.0|      0.0|            0.0|          0.0|                  0.0|           0.0|                       0.0|      0.0|  0.0|      0.0|    5.0|    4.0|3.6666666666666665|         0.0|    0.0|           0.0|                   0.0|                   0.0|    0.0|  0.0|              0.0|           0.0|             0.0|              0.0|   4.0|   0.0|                             0.0|        0.0|    0.0|                    0.0|               0.0|      0.0|           0.0|             0.0|    0.0|          0.0|     3.0|           0.0|            0.0|      0.0|                          0.0|  0.0|     0.0|          0.0|         4.0|           4.0|    4.0|    0.0|     0.0| 0.0|           0.0|      0.0|      0.0|         0.0|    0.0|            0.0|            0.0|           0.0|       0.0|       0.0|            0.0|         0.0|             0.0|               0.0|          0.0|           0.0|    4.0|           3.0|                          0.0|                     0.0|                0.0|          0.0|            0.0|      0.0|     0.0|               0.0|            0.0|   0.0|    0.0|         0.0|          0.0|         0.0|                        0.0|                           0.0|        0.0|             0.0|                  0.0|                   0.0|       0.0|      4.0|    0.0|                  0.0|          0.0|          0.0|            0.0|             0.0|                0.0|           0.0|         0.0|           0.0|          0.0|                   0.0|                     0.0|         0.0|          0.0|             0.0|        0.0|      0.0|      0.0|     0.0|    0.0|  4.0|                   0.0|           0.0|                     0.0|        0.0|                 0.0|       0.0|             0.0|               0.0|          0.0|            0.0|          0.0|             0.0|            0.0|           0.0|              0.0|     0.0|         0.0|         0.0|         0.0|        0.0|       0.0|         0.0| 0.0|     0.0|          0.0|                          0.0|             0.0|       0.0|     0.0|    0.0|  0.0|        0.0|     0.0| 4.0|   0.0|       0.0|         0.0|       0.0|         0.0|        0.0|       0.0|              0.0|                  0.0|                  0.0|                      0.0|       0.0|           0.0|             0.0|                         0.0|                  0.0| 0.0|        0.0|  0.0|        0.0|               0.0|                 0.0|                          0.0|               0.0|        0.0|                    0.0|    0.0| 3.769230769230769|    0.0|                0.0|    0.0| 0.0|    0.0|  0.0|       0.0|       0.0|         0.0|     0.0|            0.0|    4.0|            0.0|         0.0|                0.0|                 0.0|            0.0|         0.0|       0.0|        0.0|        0.0|       0.0|        0.0|     0.0|             0.0|               0.0|        0.0|          0.0|      0.0|                0.0|       0.0|         0.0|      0.0| 0.0|          0.0|     3.0|    0.0|        0.0|              0.0|4.333333333333333|              0.0|           0.0|        0.0|         0.0|            0.0|        0.0|   0.0|       0.0|              0.0|        0.0|           5.0|         0.0|       0.0|                  0.0|         0.0|       4.0|                     0.0|           0.0|     0.0|   0.0|     0.0|           0.0|  0.0|    0.0|      0.0|    0.0|         0.0|       4.0|               0.0|            0.0|   0.0|           0.0|         0.0|  0.0|      0.0|                     0.0|                         0.0|   0.0|    0.0| 0.0|         0.0|               0.0|          0.0|         0.0|      0.0|  0.0|          0.0|  0.0|   0.0|       0.0|                         0.0|           0.0|     0.0|             0.0|                0.0|           0.0|            0.0|         0.0|    0.0| 0.0|      0.0|        0.0| 0.0|             0.0|       0.0|  3.0|       3.0|       0.0|                  4.0|          0.0|              0.0|                  0.0|                       0.0|       0.0|                  0.0|          0.0|                   0.0|    2.0|            0.0|          0.0|         0.0|    0.0|                             0.0|                        0.0|               0.0|             0.0|                0.0|         0.0|             0.0| 0.0|                             0.0|           0.0|      0.0|     0.0|             0.0|  0.0| 0.0| 0.0|\n",
      "|-LyjHYhPha2loUaiM...|       0.0|        0.0|        0.0|           0.0|        0.0|        0.0|                0.0|   0.0|    0.0|     0.0|            0.0|             0.0|     0.0|                 0.0|           0.0|                   0.0|            0.0|            0.0|     0.0|       0.0|       0.0|                0.0|      0.0|    0.0|    0.0|    0.0|      0.0|        0.0|          0.0|        0.0|        0.0|         0.0|          0.0|                 0.0|         0.0|       0.0|           0.0|                0.0|                  0.0|        0.0|       0.0|         0.0|                  0.0|   0.0|     0.0|        0.0|                  0.0|     0.0|    0.0|          0.0| 0.0|            0.0|   0.0|    0.0|          0.0|            0.0| 0.0|     0.0|         0.0|      0.0|       0.0|    0.0|             0.0|     0.0|         0.0|                    0.0|      0.0|       0.0|  0.0|    0.0|                  0.0|          0.0|    0.0|       0.0|  0.0|       0.0|    0.0|   0.0|       0.0|      0.0|               0.0|      0.0|     0.0|   0.0|    0.0|       0.0|    0.0|              0.0|    0.0|                0.0|    0.0|    0.0|  0.0|      0.0|         0.0|      0.0|           0.0|         0.0|             0.0|                  0.0|      0.0|        0.0|       0.0|               0.0|     0.0|               0.0|               0.0|      0.0|            0.0|                0.0|      0.0|    0.0|     0.0|              0.0|           0.0|         0.0|         0.0|         0.0|          0.0|                  0.0|                0.0|    3.0|          0.0|                 0.0|     0.0|   0.0|     0.0|            0.0|          0.0|         0.0|                  0.0|              0.0|                    0.0|      0.0|         0.0|         0.0|        0.0|              0.0|                         0.0|      0.0|        0.0|               0.0|            0.0|            0.0|              0.0|              0.0|                      0.0|                0.0|     0.0|                       0.0|                         0.0|      0.0|  0.0|     0.0|              0.0|         0.0|                   0.0|            0.0|  0.0|            0.0|0.0|               0.0|        0.0|          0.0|       0.0|          0.0|     0.0|         0.0|  0.0|     0.0|              0.0|                          0.0|           0.0|     4.0|    3.0|   0.0|           0.0|           0.0|         0.0|      0.0|                0.0|    0.0|      0.0|        0.0|    0.0|   0.0|            0.0|       0.0|         0.0|                   0.0|      0.0|      0.0|     0.0|        0.0|               0.0|    0.0|                   0.0|         0.0|         0.0|               0.0|            0.0|      0.0|        0.0|           0.0|              0.0|                      0.0|             0.0|            0.0|                0.0|          0.0|    0.0|            0.0|           0.0|    0.0|      0.0|      0.0|     0.0|               0.0|               0.0|         0.0|                  0.0|      0.0|     0.0|             0.0|     0.0|            0.0|   0.0|               4.0|       0.0|                   0.0|        0.0|       0.0|        0.0|      0.0|        0.0|    0.0|   0.0|             0.0|         0.0|               0.0|             0.0|                   0.0|             0.0|                 0.0|         0.0|       0.0|     0.0|   0.0|              0.0|   0.0|       0.0|        0.0|        0.0|           0.0|  0.0|    0.0| 0.0|   0.0|            0.0|         0.0|        0.0|          0.0|    0.0|  0.0|  0.0|     0.0|            0.0| 0.0|     0.0|       0.0|             0.0|           0.0|            0.0|                            0.0|               0.0|          0.0|             0.0|        0.0|          0.0|                    0.0|          0.0|       0.0|             0.0|              0.0|          0.0|         0.0|                 0.0|        0.0|      0.0|    0.0|     0.0|    0.0|              0.0|              0.0|      0.0|                          0.0|    0.0|                      0.0|            0.0|          0.0|   0.0|       0.0|      0.0|            0.0|          0.0|                  0.0|           0.0|                       0.0|      0.0|  0.0|      0.0|    0.0|    0.0|               5.0|         0.0|    0.0|           0.0|                   4.0|                   0.0|    0.0|  0.0|              0.0|           0.0|             0.0|              0.0|   0.0|   0.0|                             0.0|        0.0|    0.0|                    0.0|               0.0|      0.0|           0.0|             0.0|    0.0|          0.0|     0.0|           0.0|            0.0|      0.0|                          0.0|  0.0|     0.0|          0.0|         0.0|           0.0|    0.0|    0.0|     0.0| 0.0|           0.0|      0.0|      0.0|         0.0|    0.0|            0.0|            0.0|           0.0|       0.0|       0.0|            0.0|         0.0|             0.0|               0.0|          0.0|           0.0|    0.0|           0.0|                          0.0|                     0.0|                0.0|          0.0|            0.0|      0.0|     0.0|               0.0|            0.0|   0.0|    0.0|         0.0|          0.0|         0.0|                        0.0|                           0.0|        0.0|             0.0|                  0.0|                   0.0|       0.0|      0.0|    0.0|                  0.0|          0.0|          0.0|            0.0|             0.0|                0.0|           0.0|         0.0|           0.0|          0.0|                   0.0|                     0.0|         0.0|          0.0|             0.0|        0.0|      0.0|      0.0|     0.0|    0.0|  0.0|                   0.0|           0.0|                     0.0|        0.0|                 0.0|       0.0|             0.0|               0.0|          0.0|            0.0|          0.0|             0.0|            0.0|           0.0|              0.0|     0.0|         0.0|         0.0|         0.0|        0.0|       0.0|         0.0| 0.0|     0.0|          0.0|                          0.0|             0.0|       0.0|     0.0|    0.0|  3.0|        0.0|     0.0| 0.0|   0.0|       0.0|         0.0|       0.0|         0.0|        0.0|       0.0|              0.0|                  0.0|                  0.0|                      0.0|       0.0|           0.0|             0.0|                         0.0|                  0.0| 0.0|        0.0|  0.0|        0.0|               0.0|                 0.0|                          0.0|               0.0|        0.0|                    0.0|    0.0|               4.0|    0.0|                0.0|    0.0| 0.0|    0.0|  0.0|       0.0|       0.0|         0.0|     0.0|            0.0|    0.0|            0.0|         0.0|                0.0|                 0.0|            0.0|         0.0|       0.0|        0.0|        0.0|       0.0|        0.0|     0.0|             0.0|               0.0|        0.0|          0.0|      0.0|                0.0|       0.0|         0.0|      0.0| 0.0|          0.0|     0.0|    0.0|        0.0|              0.0|              0.0|              0.0|           0.0|        0.0|         0.0|            0.0|        0.0|   0.0|       0.0|              0.0|        0.0|           0.0|         0.0|       0.0|                  0.0|         0.0|       4.0|                     0.0|           0.0|     0.0|   0.0|     0.0|           0.0|  0.0|    0.0|      4.0|    0.0|         0.0|       0.0|               3.0|            0.0|   0.0|           0.0|         0.0|  0.0|      0.0|                     0.0|                         0.0|   0.0|    0.0| 0.0|         0.0|               0.0|          0.0|         0.0|      0.0|  0.0|          0.0|  0.0|   0.0|       0.0|                         0.0|           0.0|     0.0|             0.0|                0.0|           0.0|            0.0|         0.0|    0.0| 0.0|      0.0|        0.0| 0.0|             0.0|       0.0|  0.0|       0.0|       0.0|                  0.0|          0.0|              0.0|                  0.0|                       0.0|       0.0|                  0.0|          0.0|                   0.0|    0.0|            0.0|          0.0|         0.0|    0.0|                             0.0|                        0.0|               0.0|             0.0|                0.0|         0.0|             0.0| 0.0|                             0.0|           0.0|      0.0|     0.0|             0.0|  0.0| 0.0| 0.0|\n",
      "|-O6FdjrUg2GQ7wE24...|       0.0|        0.0|        0.0|           0.0|        0.0|        0.0|                0.0|   0.0|    0.0|     0.0|            0.0|             0.0|     0.0|                 0.0|           0.0|                   0.0|            0.0|            0.0|     0.0|       0.0|       0.0|                0.0|      0.0|    0.0|    0.0|    0.0|      0.0|        0.0|          0.0|        0.0|        0.0|         0.0|          0.0|                 0.0|         0.0|       0.0|           0.0|                0.0|                  0.0|        0.0|       0.0|         0.0|                  0.0|   0.0|     0.0|        0.0|                  0.0|     0.0|    0.0|          0.0| 0.0|            0.0|   0.0|    0.0|          5.0|            0.0| 0.0|     0.0|         0.0|      0.0|       0.0|    0.0|             0.0|     0.0|         0.0|                    0.0|      0.0|       0.0|  0.0|    0.0|                  0.0|          0.0|    0.0|       0.0|  0.0|       0.0|    0.0|   0.0|       0.0|      0.0|               0.0|      0.0|     0.0|   0.0|    0.0|       0.0|    0.0|              0.0|    0.0|                0.0|    0.0|    0.0|  0.0|      0.0|         0.0|      0.0|           0.0|         0.0|             0.0|                  0.0|      0.0|        0.0|       0.0|               0.0|     0.0|               0.0|               0.0|      0.0|            0.0|                0.0|      0.0|    0.0|     0.0|              0.0|           0.0|         0.0|         0.0|         0.0|          0.0|                  0.0|                0.0|    0.0|          0.0|                 0.0|     0.0|   0.0|     0.0|            0.0|          0.0|         0.0|                  0.0|              0.0|                    0.0|      0.0|         0.0|         0.0|        0.0|              0.0|                         0.0|      0.0|        0.0|               0.0|            0.0|            0.0|              0.0|              0.0|                      0.0|                0.0|     0.0|                       0.0|                         0.0|      0.0|  0.0|     0.0|              0.0|         0.0|                   0.0|            0.0|  0.0|            0.0|0.0|               0.0|        0.0|          0.0|       0.0|          0.0|     5.0|         0.0|  0.0|     0.0|              0.0|                          0.0|           0.0|     0.0|    0.0|   0.0|           0.0|           0.0|         0.0|      0.0|                0.0|    0.0|      0.0|        0.0|    0.0|   0.0|            0.0|       0.0|         0.0|                   0.0|      0.0|      0.0|     0.0|        0.0|               0.0|    0.0|                   0.0|         0.0|         0.0|               0.0|            0.0|      0.0|        0.0|           0.0|              0.0|                      0.0|             0.0|            5.0|                0.0|          0.0|    0.0|            0.0|           0.0|    0.0|      0.0|      0.0|     0.0|               0.0|               0.0|         0.0|                  0.0|      0.0|     0.0|             0.0|     0.0|            0.0|   0.0|               0.0|       0.0|                   0.0|        0.0|       0.0|        0.0|      0.0|        0.0|    0.0|   0.0|             0.0|         0.0|               0.0|             0.0|                   0.0|             0.0|                 0.0|         0.0|       0.0|     0.0|   0.0|              0.0|   0.0|       0.0|        0.0|        0.0|           0.0|  0.0|    0.0| 0.0|   0.0|            0.0|         5.0|        5.0|          0.0|    0.0|  0.0|  0.0|     0.0|            0.0| 0.0|     0.0|       0.0|             0.0|           0.0|            0.0|                            0.0|               0.0|          0.0|             0.0|        0.0|          0.0|                    0.0|          0.0|       0.0|             0.0|              0.0|          0.0|         0.0|                 0.0|        0.0|      0.0|    0.0|     0.0|    0.0|              0.0|              0.0|      0.0|                          0.0|    0.0|                      0.0|            0.0|          0.0|   0.0|       0.0|      0.0|            0.0|          0.0|                  0.0|           0.0|                       0.0|      0.0|  0.0|      0.0|    0.0|    0.0|               0.0|         0.0|    0.0|           0.0|                   0.0|                   0.0|    0.0|  0.0|              0.0|           0.0|             0.0|              0.0|   0.0|   0.0|                             0.0|        0.0|    0.0|                    0.0|               0.0|      0.0|           0.0|             0.0|    0.0|          0.0|     0.0|           0.0|            0.0|      0.0|                          0.0|  0.0|     0.0|          0.0|         0.0|           0.0|    0.0|    0.0|     0.0| 0.0|           0.0|      0.0|      0.0|         0.0|    0.0|            0.0|            0.0|           0.0|       0.0|       0.0|            0.0|         0.0|             0.0|               0.0|          0.0|           0.0|    0.0|           0.0|                          0.0|                     0.0|                0.0|          0.0|            0.0|      0.0|     0.0|               0.0|            0.0|   0.0|    0.0|         0.0|          0.0|         0.0|                        0.0|                           0.0|        5.0|             0.0|                  0.0|                   0.0|       0.0|      0.0|    0.0|                  0.0|          0.0|          0.0|            0.0|             0.0|                0.0|           0.0|         0.0|           0.0|          0.0|                   0.0|                     0.0|         0.0|          0.0|             0.0|        0.0|      0.0|      0.0|     0.0|    0.0|  0.0|                   0.0|           0.0|                     0.0|        0.0|                 0.0|       0.0|             0.0|               0.0|          0.0|            0.0|          0.0|             5.0|            0.0|           0.0|              0.0|     0.0|         0.0|         0.0|         0.0|        0.0|       0.0|         0.0| 0.0|     0.0|          0.0|                          0.0|             0.0|       0.0|     0.0|    0.0|  0.0|        0.0|     0.0| 0.0|   0.0|       0.0|         0.0|       0.0|         0.0|        0.0|       0.0|              0.0|                  0.0|                  0.0|                      0.0|       0.0|           0.0|             0.0|                         0.0|                  0.0| 0.0|        0.0|  0.0|        0.0|               0.0|                 0.0|                          0.0|               0.0|        0.0|                    0.0|    0.0|               0.0|    0.0|                0.0|    0.0| 0.0|    0.0|  0.0|       0.0|       0.0|         0.0|     0.0|            0.0|    0.0|            0.0|         0.0|                0.0|                 0.0|            0.0|         0.0|       0.0|        0.0|        0.0|       0.0|        0.0|     0.0|             0.0|               0.0|        0.0|          0.0|      5.0|                0.0|       0.0|         0.0|      0.0| 0.0|          0.0|     0.0|    0.0|        0.0|              0.0|              0.0|              0.0|           0.0|        0.0|         0.0|            0.0|        0.0|   0.0|       0.0|              0.0|        0.0|           0.0|         0.0|       0.0|                  0.0|         0.0|       0.0|                     0.0|           0.0|     0.0|   0.0|     0.0|           0.0|  0.0|    0.0|      0.0|    0.0|         0.0|       0.0|               0.0|            0.0|   0.0|           0.0|         0.0|  0.0|      0.0|                     0.0|                         0.0|   0.0|    0.0| 0.0|         0.0|               5.0|          0.0|         0.0|      0.0|  0.0|          0.0|  0.0|   0.0|       0.0|                         0.0|           0.0|     0.0|             0.0|                0.0|           0.0|            0.0|         0.0|    0.0| 0.0|      0.0|        0.0| 0.0|             0.0|       0.0|  0.0|       0.0|       0.0|                  0.0|          0.0|              0.0|                  0.0|                       0.0|       0.0|                  0.0|          0.0|                   0.0|    0.0|            0.0|          0.0|         0.0|    0.0|                             0.0|                        0.0|               5.0|             0.0|                0.0|         0.0|             0.0| 0.0|                             0.0|           0.0|      0.0|     0.0|             0.0|  0.0| 0.0| 0.0|\n",
      "|-YmnlTiXUoyO1gbuC...|       0.0|        0.0|        0.0|           0.0|        0.0|        0.0|                0.0|   0.0|    0.0|     0.0|            0.0|             0.0|     0.0|                 0.0|           0.0|                   4.0|            0.0|            0.0|     0.0|       0.0|       0.0|                0.0|      0.0|    0.0|    0.0|    0.0|      0.0|        0.0|          0.0|        0.0|        0.0|         0.0|          0.0|                 4.0|         0.0|       0.0|           0.0|                0.0|                  0.0|        0.0|       0.0|         0.0|                  0.0|   0.0|     0.0|        0.0|                  0.0|     0.0|    0.0|          0.0| 4.0|            0.0|   0.0|    0.0|          0.0|            0.0| 0.0|     0.0|         0.0|      0.0|       0.0|    0.0|             0.0|     0.0|         0.0|                    0.0|      0.0|       0.0|  0.0|    0.0|                  0.0|          0.0|    0.0|       0.0|  0.0|       0.0|    0.0|   0.0|       0.0|      0.0|               0.0|      0.0|     0.0|   0.0|    0.0|       0.0|    0.0|              0.0|    0.0|                0.0|    0.0|    0.0|  0.0|      0.0|         0.0|      0.0|           4.0|         0.0|             0.0|                  0.0|      0.0|        0.0|       0.0|               0.0|     0.0|               0.0|               0.0|      0.0|            0.0|                0.0|      0.0|    0.0|     0.0|              0.0|           0.0|         0.0|         0.0|         0.0|          0.0|                  0.0|                0.0|    0.0|          0.0|                 0.0|     0.0|   4.0|     0.0|            0.0|          0.0|         0.0|                  0.0|              0.0|                    0.0|      0.0|         0.0|         0.0|        0.0|              0.0|                         0.0|      0.0|        0.0|               0.0|            0.0|            0.0|              0.0|              0.0|                      0.0|                0.0|     0.0|                       0.0|                         0.0|      0.0|  0.0|     0.0|              0.0|         0.0|                   0.0|            0.0|  0.0|            0.0|0.0|               0.0|        0.0|          0.0|       0.0|          0.0|     0.0|         0.0|  0.0|     0.0|              0.0|                          0.0|           0.0|     0.0|    0.0|   0.0|           0.0|           0.0|         0.0|      0.0|                0.0|    0.0|      0.0|        0.0|    0.0|   0.0|            0.0|       0.0|         0.0|                   0.0|      0.0|      0.0|     0.0|        0.0|               0.0|    0.0|                   0.0|         0.0|         0.0|               0.0|            0.0|      0.0|        0.0|           0.0|              0.0|        4.333333333333333|             0.0|            0.0|                0.0|          0.0|    0.0|            0.0|           0.0|    0.0|      0.0|      0.0|     0.0|               0.0|               0.0|         0.0|                  0.0|      0.0|     0.0|             0.0|     0.0|            0.0|   0.0|               0.0|       0.0|                   0.0|        0.0|       0.0|        0.0|      0.0|        0.0|    0.0|   0.0|             0.0|         0.0|               0.0|             0.0|                   0.0|             0.0|                 0.0|         0.0|       0.0|     0.0|   0.0|              0.0|   0.0|       0.0|        0.0|        0.0|           0.0|  0.0|    0.0| 0.0|   0.0|            0.0|         0.0|        0.0|          0.0|    0.0|  0.0|  0.0|     0.0|            0.0| 0.0|     0.0|       0.0|             0.0|           0.0|            0.0|                            0.0|               0.0|          0.0|             0.0|        0.0|          0.0|                    0.0|          0.0|       0.0|             0.0|              0.0|          0.0|         0.0|                 0.0|        0.0|      0.0|    0.0|     0.0|    0.0|4.333333333333333|4.333333333333333|      0.0|                          0.0|    0.0|                      0.0|            0.0|          0.0|   0.0|       0.0|      0.0|            0.0|          0.0|                  0.0|           0.0|                       0.0|      0.0|  0.0|      0.0|    0.0|    0.0|               0.0|         0.0|    0.0|           0.0|                   0.0|                   0.0|    0.0|  0.0|              0.0|           0.0|             0.0|              0.0|   0.0|   0.0|                             0.0|        0.0|    0.0|                    0.0|               0.0|      0.0|           0.0|             0.0|    0.0|          0.0|     0.0|           0.0|            0.0|      0.0|                          0.0|  0.0|     0.0|          0.0|         0.0|           0.0|    4.0|    0.0|     0.0| 0.0|           0.0|      0.0|      0.0|         0.0|    0.0|            0.0|            0.0|           0.0|       0.0|       0.0|            0.0|         0.0|             0.0|               0.0|          0.0|           0.0|    0.0|           0.0|                          0.0|                     0.0|                0.0|          0.0|            0.0|      0.0|     0.0|               0.0|            0.0|   0.0|    0.0|         0.0|          0.0|         0.0|                        0.0|                           0.0|        0.0|             0.0|                  0.0|                   0.0|       0.0|      4.0|    0.0|                  0.0|          0.0|          0.0|            0.0|             0.0|                0.0|           0.0|         0.0|           0.0|          0.0|                   0.0|                     0.0|         0.0|          0.0|             0.0|        0.0|      0.0|      0.0|     0.0|    0.0|  0.0|                   0.0|           0.0|                     0.0|        0.0|                 0.0|       0.0|             0.0|               0.0|          0.0|            0.0|          0.0|             0.0|            0.0|           0.0|              0.0|     0.0|         0.0|         0.0|         0.0|        0.0|       0.0|         0.0| 0.0|     0.0|          0.0|                          0.0|             0.0|       0.0|     0.0|    0.0|  0.0|        0.0|     0.0| 0.0|   0.0|       0.0|         0.0|       0.0|         0.0|        0.0|       0.0|              0.0|                  0.0|                  0.0|                      0.0|       0.0|           0.0|             0.0|                         0.0|                  0.0| 0.0|        0.0|  0.0|        0.0|               0.0|                 0.0|                          0.0|               0.0|        0.0|                    0.0|    0.0|               4.0|    0.0|                0.0|    0.0| 0.0|    0.0|  0.0|       0.0|       0.0|         0.0|     0.0|            0.0|    0.0|            0.0|         0.0|                0.0|                 0.0|            0.0|         0.0|       0.0|        0.0|        0.0|       0.0|        0.0|     0.0|             0.0|               0.0|        0.0|          0.0|      0.0|                0.0|       0.0|         0.0|      0.0| 0.0|          0.0|     0.0|    0.0|        0.0|              0.0|              0.0|              0.0|           0.0|        0.0|         0.0|            0.0|        0.0|   0.0|       0.0|              0.0|        0.0|           0.0|         0.0|       0.0|                  0.0|         0.0|       0.0|                     0.0|           0.0|     0.0|   0.0|     0.0|           0.0|  0.0|    0.0|      0.0|    0.0|         0.0|       0.0|               0.0|            0.0|   0.0|           0.0|         0.0|  0.0|      0.0|                     0.0|                         0.0|   0.0|    0.0| 0.0|         0.0|               0.0|          0.0|         0.0|      0.0|  0.0|          0.0|  0.0|   0.0|       0.0|                         0.0|           0.0|     0.0|             0.0|                0.0|           0.0|            0.0|         0.0|    0.0| 0.0|      0.0|        0.0| 0.0|             0.0|       0.0|  0.0|       0.0|       0.0|                  0.0|          0.0|              0.0|                  0.0|                       0.0|       0.0|                  0.0|          0.0|                   0.0|    0.0|            0.0|          0.0|         0.0|    0.0|                             0.0|                        0.0|               0.0|             0.0|                0.0|         0.0|             0.0| 0.0|                             0.0|           0.0|      0.0|     0.0|             0.0|  0.0| 0.0| 0.0|\n",
      "|-ZofWirnfYXaa3iCH...|       0.0|        0.0|        0.0|           0.0|        0.0|        0.0|                0.0|   0.0|    0.0|     0.0|            0.0|             0.0|     0.0|                 0.0|           0.0|                   0.0|            0.0|            0.0|     0.0|       0.0|       0.0|                0.0|      0.0|    0.0|    0.0|    0.0|      0.0|        0.0|          0.0|        0.0|        0.0|         0.0|          0.0|                 4.0|         0.0|       0.0|           0.0|                0.0|                  0.0|        0.0|       0.0|         0.0|                  0.0|   0.0|     0.0|        0.0|                  0.0|     0.0|    0.0|          0.0| 0.0|            0.0|   0.0|    0.0|          0.0|            0.0| 4.0|     0.0|         0.0|      0.0|       0.0|    0.0|             0.0|     0.0|         0.0|                    0.0|      0.0|       0.0|  0.0|    0.0|                  0.0|          0.0|    0.0|       0.0|  0.0|       0.0|    0.0|   0.0|       0.0|      0.0|               0.0|      0.0|     0.0|   0.0|    0.0|       0.0|    0.0|              0.0|    0.0|                0.0|    0.0|    0.0|  0.0|      0.0|         0.0|      0.0|           0.0|         0.0|             0.0|                  0.0|      0.0|        0.0|       0.0|               0.0|     0.0|               0.0|               0.0|      0.0|            0.0|                0.0|      0.0|    0.0|     0.0|              0.0|           0.0|         0.0|         0.0|         0.0|          0.0|                  0.0|                0.0|    0.0|          0.0|                 0.0|     0.0|   0.0|     0.0|            0.0|          0.0|         0.0|                  0.0|              0.0|                    0.0|      0.0|         0.0|         0.0|        0.0|              0.0|                         0.0|      0.0|        0.0|               0.0|            0.0|            0.0|              0.0|              0.0|                      0.0|                0.0|     0.0|                       0.0|                         0.0|      0.0|  0.0|     0.0|              0.0|         0.0|                   0.0|            0.0|  0.0|            0.0|0.0|               0.0|        0.0|          0.0|       0.0|          0.0|     0.0|         0.0|  0.0|     0.0|              0.0|                          0.0|           0.0|     0.0|    0.0|   0.0|           0.0|           0.0|         0.0|      0.0|                0.0|    0.0|      0.0|        0.0|    0.0|   0.0|            0.0|       0.0|         0.0|                   0.0|      0.0|      0.0|     0.0|        0.0|               0.0|    0.0|                   0.0|         0.0|         0.0|               0.0|            0.0|      0.0|        0.0|           0.0|              0.0|                      0.0|             0.0|            0.0|                0.0|          0.0|    0.0|            0.0|           0.0|    0.0|      0.0|      0.0|     0.0|               0.0|               0.0|         0.0|                  0.0|      0.0|     0.0|             0.0|     0.0|            0.0|   0.0|               4.0|       0.0|                   0.0|        0.0|       0.0|        0.0|      0.0|        0.0|    0.0|   0.0|             0.0|         0.0|               0.0|             0.0|                   0.0|             0.0|                 0.0|         0.0|       0.0|     0.0|   0.0|              0.0|   0.0|       0.0|        0.0|        0.0|           0.0|  0.0|    0.0| 0.0|   0.0|            0.0|         0.0|        0.0|          0.0|    0.0|  0.0|  0.0|     0.0|            0.0| 0.0|     0.0|       0.0|             0.0|           0.0|            0.0|                            0.0|               0.0|          0.0|             0.0|        0.0|          0.0|                    0.0|          0.0|       0.0|             0.0|              0.0|          0.0|         0.0|                 0.0|        0.0|      0.0|    0.0|     0.0|    0.0|              0.0|              0.0|      0.0|                          0.0|    0.0|                      0.0|            0.0|          0.0|   0.0|       0.0|      0.0|            0.0|          0.0|                  0.0|           0.0|                       0.0|      0.0|  0.0|      0.0|    4.0|    0.0|               0.0|         0.0|    0.0|           0.0|                   0.0|                   0.0|    0.0|  0.0|              0.0|           0.0|             0.0|              0.0|   0.0|   0.0|                             0.0|        0.0|    0.0|                    0.0|               0.0|      0.0|           0.0|             0.0|    0.0|          0.0|     0.0|           0.0|            0.0|      0.0|                          0.0|  0.0|     0.0|          0.0|         4.0|           0.0|    0.0|    0.0|     0.0| 0.0|           0.0|      0.0|      0.0|         0.0|    0.0|            0.0|            0.0|           0.0|       0.0|       0.0|            0.0|         0.0|             0.0|               0.0|          0.0|           0.0|    0.0|           0.0|                          0.0|                     0.0|                0.0|          0.0|            0.0|      0.0|     0.0|               0.0|            0.0|   0.0|    4.0|         0.0|          0.0|         0.0|                        0.0|                           0.0|        0.0|             0.0|                  0.0|                   0.0|       0.0|      0.0|    0.0|                  0.0|          0.0|          0.0|            0.0|             0.0|                0.0|           0.0|         0.0|           0.0|          0.0|                   0.0|                     0.0|         0.0|          0.0|             0.0|        0.0|      0.0|      0.0|     0.0|    0.0|  0.0|                   0.0|           0.0|                     0.0|        0.0|                 0.0|       0.0|             0.0|               0.0|          0.0|            0.0|          0.0|             0.0|            0.0|           0.0|              0.0|     0.0|         0.0|         0.0|         0.0|        0.0|       0.0|         0.0| 0.0|     0.0|          0.0|                          0.0|             0.0|       0.0|     0.0|    0.0|  4.0|        0.0|     0.0| 0.0|   0.0|       0.0|         0.0|       0.0|         0.0|        0.0|       0.0|              0.0|                  0.0|                  0.0|                      0.0|       0.0|           0.0|             0.0|                         0.0|                  0.0| 0.0|        0.0|  0.0|        0.0|               0.0|                 0.0|                          0.0|               0.0|        0.0|                    0.0|    0.0|               4.0|    0.0|                0.0|    0.0| 0.0|    0.0|  0.0|       0.0|       0.0|         0.0|     0.0|            0.0|    0.0|            0.0|         0.0|                0.0|                 0.0|            0.0|         0.0|       0.0|        0.0|        0.0|       0.0|        0.0|     0.0|             0.0|               0.0|        0.0|          0.0|      0.0|                0.0|       0.0|         0.0|      0.0| 0.0|          0.0|     0.0|    0.0|        0.0|              0.0|              0.0|              0.0|           0.0|        0.0|         0.0|            0.0|        0.0|   0.0|       0.0|              0.0|        0.0|           0.0|         0.0|       0.0|                  0.0|         0.0|       0.0|                     0.0|           0.0|     0.0|   0.0|     0.0|           0.0|  0.0|    0.0|      0.0|    0.0|         0.0|       0.0|               0.0|            0.0|   0.0|           0.0|         0.0|  0.0|      0.0|                     0.0|                         0.0|   0.0|    0.0| 0.0|         0.0|               0.0|          0.0|         0.0|      0.0|  0.0|          0.0|  0.0|   0.0|       0.0|                         0.0|           0.0|     0.0|             0.0|                0.0|           0.0|            0.0|         0.0|    0.0| 0.0|      0.0|        0.0| 0.0|             0.0|       0.0|  0.0|       0.0|       0.0|                  0.0|          0.0|              0.0|                  0.0|                       0.0|       0.0|                  0.0|          0.0|                   0.0|    0.0|            0.0|          0.0|         0.0|    0.0|                             0.0|                        0.0|               0.0|             0.0|                0.0|         0.0|             0.0| 0.0|                             0.0|           4.0|      0.0|     0.0|             0.0|  0.0| 0.0| 0.0|\n",
      "|-c12zkgP2UdpmO-cu...|       0.0|        0.0|        0.0|           0.0|        0.0|        0.0|                0.0|   0.0|    0.0|     0.0|            0.0|             0.0|     0.0|                 0.0|           0.0|                   0.0|            0.0|            0.0|     0.0|       0.0|       0.0|                0.0|      0.0|    0.0|    0.0|    0.0|      0.0|        0.0|          0.0|        0.0|        0.0|         0.0|          0.0|                 0.0|         0.0|       0.0|           0.0|                0.0|                  0.0|        0.0|       0.0|         0.0|                  0.0|   0.0|     0.0|        0.0|                  0.0|     0.0|    0.0|          0.0| 0.0|            0.0|   0.0|    0.0|          0.0|            0.0| 0.0|     0.0|         0.0|      0.0|       0.0|    0.0|             0.0|     0.0|         0.0|                    0.0|      0.0|       0.0|  0.0|    0.0|                  0.0|          0.0|    0.0|       0.0|  0.0|       0.0|    0.0|   0.0|       0.0|      0.0|               0.0|      0.0|     0.0|   0.0|    0.0|       0.0|    0.0|              0.0|    0.0|                0.0|    0.0|    0.0|  0.0|      0.0|         0.0|      0.0|           0.0|         0.0|             0.0|                  0.0|      0.0|        0.0|       0.0|               0.0|     0.0|               0.0|               0.0|      0.0|            0.0|                0.0|      0.0|    0.0|     0.0|              0.0|           0.0|         0.0|         0.0|         0.0|          0.0|                  0.0|                0.0|    0.0|          0.0|                 0.0|     0.0|   0.0|     0.0|            0.0|          0.0|         0.0|                  0.0|              0.0|                    0.0|      0.0|         0.0|         0.0|        0.0|              0.0|                         0.0|      0.0|        0.0|               0.0|            0.0|            0.0|              0.0|              0.0|                      0.0|                0.0|     0.0|                       0.0|                         0.0|      0.0|  0.0|     0.0|              0.0|         0.0|                   0.0|            0.0|  0.0|            0.0|0.0|               0.0|        0.0|          0.0|       0.0|          0.0|     0.0|         0.0|  0.0|     0.0|              0.0|                          0.0|           0.0|     0.0|    0.0|   0.0|           0.0|           0.0|         0.0|      0.0|                0.0|    0.0|      0.0|        0.0|    0.0|   0.0|            0.0|       0.0|         0.0|                   0.0|      0.0|      0.0|     0.0|        0.0|               0.0|    0.0|                   0.0|         0.0|         0.0|               0.0|            0.0|      0.0|        0.0|           0.0|              0.0|                      0.0|             0.0|            0.0|                0.0|          0.0|    0.0|            0.0|           0.0|    0.0|      0.0|      0.0|     0.0|               0.0|               0.0|         0.0|                  0.0|      0.0|     0.0|             0.0|     0.0|            0.0|   0.0|               5.0|       0.0|                   0.0|        0.0|       0.0|        0.0|      0.0|        0.0|    0.0|   0.0|             0.0|         0.0|               0.0|             0.0|                   0.0|             0.0|                 0.0|         0.0|       0.0|     0.0|   0.0|              0.0|   0.0|       0.0|        0.0|        0.0|           0.0|  0.0|    0.0| 0.0|   0.0|            0.0|         0.0|        0.0|          0.0|    0.0|  0.0|  0.0|     0.0|            0.0| 0.0|     0.0|       0.0|             0.0|           0.0|            0.0|                            0.0|               0.0|          0.0|             0.0|        0.0|          0.0|                    0.0|          0.0|       0.0|             0.0|              0.0|          0.0|         0.0|                 0.0|        0.0|      0.0|    0.0|     0.0|    0.0|              0.0|              0.0|      0.0|                          0.0|    0.0|                      0.0|            0.0|          0.0|   0.0|       0.0|      0.0|            0.0|          0.0|                  0.0|           0.0|                       0.0|      0.0|  0.0|      0.0|    5.0|    0.0|               5.0|         0.0|    0.0|           0.0|                   0.0|                   0.0|    0.0|  0.0|              0.0|           0.0|             0.0|              0.0|   0.0|   0.0|                             0.0|        0.0|    0.0|                    0.0|               0.0|      0.0|           0.0|             0.0|    0.0|          0.0|     0.0|           0.0|            0.0|      0.0|                          0.0|  0.0|     0.0|          0.0|         0.0|           0.0|    0.0|    0.0|     0.0| 0.0|           0.0|      0.0|      0.0|         0.0|    0.0|            0.0|            0.0|           0.0|       0.0|       5.0|            0.0|         0.0|             0.0|               0.0|          0.0|           0.0|    0.0|           0.0|                          0.0|                     0.0|                0.0|          0.0|            0.0|      0.0|     0.0|               0.0|            0.0|   0.0|    0.0|         0.0|          0.0|         0.0|                        0.0|                           0.0|        0.0|             0.0|                  0.0|                   0.0|       0.0|      0.0|    0.0|                  0.0|          0.0|          0.0|            0.0|             0.0|                0.0|           0.0|         0.0|           0.0|          0.0|                   0.0|                     0.0|         0.0|          0.0|             0.0|        0.0|      0.0|      0.0|     0.0|    0.0|  0.0|                   0.0|           0.0|                     0.0|        0.0|                 0.0|       0.0|             0.0|               0.0|          0.0|            0.0|          0.0|             0.0|            0.0|           0.0|              0.0|     0.0|         0.0|         0.0|         0.0|        0.0|       0.0|         0.0| 0.0|     0.0|          0.0|                          0.0|             0.0|       0.0|     0.0|    0.0|  0.0|        0.0|     0.0| 0.0|   0.0|       0.0|         0.0|       0.0|         0.0|        0.0|       0.0|              0.0|                  0.0|                  0.0|                      0.0|       0.0|           0.0|             0.0|                         0.0|                  0.0| 0.0|        0.0|  5.0|        0.0|               0.0|                 0.0|                          0.0|               0.0|        0.0|                    0.0|    0.0|               5.0|    0.0|                0.0|    0.0| 0.0|    0.0|  0.0|       0.0|       0.0|         0.0|     0.0|            0.0|    0.0|            0.0|         0.0|                0.0|                 0.0|            0.0|         0.0|       0.0|        0.0|        0.0|       0.0|        0.0|     0.0|             0.0|               0.0|        0.0|          0.0|      0.0|                0.0|       0.0|         0.0|      0.0| 0.0|          0.0|     0.0|    0.0|        0.0|              0.0|              5.0|              0.0|           0.0|        0.0|         0.0|            0.0|        0.0|   0.0|       0.0|              0.0|        0.0|           0.0|         0.0|       0.0|                  0.0|         0.0|       5.0|                     0.0|           0.0|     0.0|   0.0|     0.0|           0.0|  0.0|    0.0|      0.0|    0.0|         0.0|       5.0|               5.0|            0.0|   0.0|           0.0|         0.0|  0.0|      0.0|                     0.0|                         0.0|   0.0|    0.0| 0.0|         0.0|               0.0|          0.0|         0.0|      0.0|  0.0|          0.0|  0.0|   0.0|       0.0|                         0.0|           0.0|     0.0|             0.0|                0.0|           0.0|            0.0|         0.0|    0.0| 0.0|      0.0|        0.0| 0.0|             0.0|       0.0|  0.0|       0.0|       0.0|                  0.0|          0.0|              0.0|                  0.0|                       0.0|       0.0|                  0.0|          0.0|                   0.0|    0.0|            0.0|          0.0|         0.0|    0.0|                             0.0|                        0.0|               0.0|             0.0|                0.0|         0.0|             0.0| 0.0|                             0.0|           0.0|      0.0|     0.0|             0.0|  0.0| 0.0| 0.0|\n",
      "|-eJct_tyBWSAt_hWE...|       0.0|        0.0|        0.0|           0.0|        0.0|        0.0|                0.0|   0.0|    0.0|     0.0|            0.0|             0.0|     0.0|                 0.0|           0.0|                   0.0|            0.0|            0.0|     0.0|       0.0|       0.0|                0.0|      0.0|    0.0|    0.0|    0.0|      0.0|        0.0|          0.0|        0.0|        0.0|         0.0|          0.0|                 0.0|         0.0|       0.0|           0.0|                0.0|                  0.0|        0.0|       0.0|         0.0|                  0.0|   0.0|     1.0|        0.0|                  0.0|     0.0|    0.0|          0.0| 0.0|            0.0|   0.0|    0.0|          1.0|            0.0| 0.0|     0.0|         0.0|      0.0|       0.0|    0.0|             0.0|     0.0|         0.0|                    0.0|      0.0|       0.0|  0.0|    0.0|                  0.0|          0.0|    0.0|       0.0|  0.0|       0.0|    0.0|   0.0|       0.0|      0.0|               5.0|      0.0|     0.0|   0.0|    0.0|       0.0|    0.0|              0.0|    0.0|                0.0|    0.0|    0.0|  0.0|      0.0|         0.0|      0.0|           0.0|         0.0|             0.0|                  0.0|      0.0|        0.0|       0.0|               0.0|     0.0|               0.0|               0.0|      0.0|            0.0|                0.0|      0.0|    0.0|     0.0|              0.0|           0.0|         0.0|         0.0|         0.0|          0.0|                  0.0|                0.0|    4.0|          0.0|                 0.0|     0.0|   0.0|     0.0|            0.0|          0.0|         5.0|                  0.0|              0.0|                    0.0|      0.0|         0.0|         0.0|        0.0|              0.0|                         0.0|      0.0|        0.0|               0.0|            0.0|            0.0|              0.0|              0.0|                      0.0|                0.0|     0.0|                       0.0|                         0.0|      0.0|  0.0|     0.0|              0.0|         0.0|                   0.0|            0.0|  0.0|            0.0|0.0|               0.0|        0.0|          0.0|       0.0|          0.0|     0.0|         0.0|  0.0|     0.0|              0.0|                          0.0|           0.0|     0.0|    0.0|   0.0|           0.0|           0.0|         0.0|      0.0|                0.0|    0.0|      0.0|        0.0|    0.0|   0.0|            0.0|       0.0|         0.0|                   0.0|      0.0|      0.0|     0.0|        0.0|               0.0|    0.0|                   0.0|         0.0|         0.0|               0.0|            0.0|      0.0|        0.0|           0.0|              0.0|                      0.0|             0.0|            0.0|                0.0|          0.0|    0.0|            0.0|           0.0|    0.0|      0.0|      0.0|     0.0|               0.0|               0.0|         0.0|                  0.0|      0.0|     0.0|             0.0|     0.0|            0.0|   0.0|               3.0|       0.0|                   0.0|        0.0|       0.0|        0.0|      0.0|        0.0|    0.0|   0.0|             0.0|         0.0|               0.0|             0.0|                   0.0|             0.0|                 0.0|         0.0|       0.0|     0.0|   0.0|              0.0|   0.0|       0.0|        0.0|        0.0|           0.0|  0.0|    0.0| 0.0|   0.0|            0.0|         0.0|        0.0|          0.0|    0.0|  0.0|  5.0|     0.0|            0.0| 0.0|     0.0|       0.0|             0.0|           0.0|            0.0|                            0.0|               0.0|          0.0|             0.0|        0.0|          0.0|                    0.0|          0.0|       0.0|             0.0|              0.0|          0.0|         0.0|                 0.0|        0.0|      0.0|    0.0|     0.0|    0.0|              0.0|              0.0|      0.0|                          0.0|    0.0|                      0.0|            0.0|          0.0|   0.0|       0.0|      0.0|            0.0|          0.0|                  0.0|           0.0|                       0.0|      0.0|  0.0|      0.0|    0.0|    0.0|               3.5|         0.0|    0.0|           0.0|                   0.0|                   0.0|    0.0|  0.0|              0.0|           0.0|             0.0|              0.0|   4.0|   0.0|                             0.0|        0.0|    0.0|                    0.0|               0.0|      0.0|           0.0|             0.0|    0.0|          0.0|     0.0|           0.0|            0.0|      0.0|                          0.0|  0.0|     0.0|          0.0|         0.0|           0.0|    0.0|    0.0|     0.0| 0.0|           0.0|      0.0|      0.0|         0.0|    0.0|            0.0|            0.0|           0.0|       0.0|       0.0|            0.0|         0.0|             0.0|               0.0|          5.0|           0.0|    0.0|           5.0|                          0.0|                     0.0|                0.0|          0.0|            0.0|      0.0|     0.0|               0.0|            0.0|   0.0|    0.0|         0.0|          0.0|         0.0|                        0.0|                           0.0|        1.0|             0.0|                  0.0|                   0.0|       0.0|      0.0|    0.0|                  0.0|          0.0|          0.0|            0.0|             0.0|                0.0|           0.0|         0.0|           0.0|          0.0|                   0.0|                     0.0|         0.0|          0.0|             0.0|        0.0|      0.0|      0.0|     0.0|    0.0|  0.0|                   0.0|           0.0|                     0.0|        0.0|                 0.0|       0.0|             0.0|               0.0|          0.0|            0.0|          0.0|             0.0|            0.0|           0.0|              0.0|     0.0|         0.0|         0.0|         0.0|        0.0|       0.0|         0.0| 0.0|     0.0|          0.0|                          0.0|             0.0|       0.0|     0.0|    0.0|  0.0|        0.0|     0.0| 0.0|   0.0|       0.0|         0.0|       0.0|         0.0|        0.0|       0.0|              0.0|                  0.0|                  0.0|                      0.0|       0.0|           0.0|             0.0|                         0.0|                  0.0| 0.0|        0.0|  0.0|        0.0|               0.0|                 0.0|                          0.0|               0.0|        0.0|                    0.0|    0.0|               4.0|    0.0|                0.0|    0.0| 0.0|    0.0|  5.0|       0.0|       0.0|         0.0|     0.0|            0.0|    0.0|            0.0|         0.0|                0.0|                 0.0|            0.0|         0.0|       0.0|        0.0|        0.0|       0.0|        0.0|     0.0|             0.0|               0.0|        0.0|          0.0|      0.0|                0.0|       0.0|         0.0|      0.0| 0.0|          0.0|     0.0|    0.0|        0.0|              0.0|              0.0|              0.0|           0.0|        0.0|         0.0|            0.0|        0.0|   0.0|       0.0|              0.0|        0.0|           0.0|         0.0|       0.0|                  0.0|         0.0|       3.0|                     0.0|           0.0|     0.0|   0.0|     0.0|           0.0|  0.0|    0.0|      0.0|    0.0|         0.0|       0.0|               0.0|            0.0|   0.0|           0.0|         0.0|  0.0|      0.0|                     0.0|                         0.0|   0.0|    0.0| 0.0|         0.0|               0.0|          0.0|         0.0|      0.0|  0.0|          0.0|  0.0|   0.0|       0.0|                         0.0|           0.0|     0.0|             0.0|                0.0|           0.0|            0.0|         0.0|    0.0| 0.0|      0.0|        0.0| 0.0|             0.0|       0.0|  0.0|       5.0|       0.0|                  0.0|          0.0|              0.0|                  0.0|                       0.0|       0.0|                  0.0|          0.0|                   0.0|    0.0|            0.0|          0.0|         0.0|    0.0|                             0.0|                        0.0|               0.0|             0.0|                0.0|         0.0|             0.0| 0.0|                             0.0|           0.0|      0.0|     0.0|             0.0|  0.0| 0.0| 0.0|\n",
      "|-ud2GthMinJlYBn5E...|       0.0|        0.0|        0.0|           0.0|        0.0|        0.0|                0.0|   0.0|    0.0|     0.0|            0.0|             0.0|     0.0|                 0.0|           0.0|                   0.0|            0.0|            0.0|     0.0|       0.0|       0.0|                0.0|      0.0|    0.0|    0.0|    0.0|      0.0|        0.0|          0.0|        0.0|        0.0|         0.0|          0.0|                 0.0|         0.0|       0.0|           0.0|                0.0|                  0.0|        0.0|       0.0|         0.0|                  0.0|   0.0|     0.0|        0.0|                  0.0|     0.0|    0.0|          0.0| 0.0|            0.0|   0.0|    0.0|          0.0|            0.0| 0.0|     0.0|         0.0|      0.0|       0.0|    0.0|             0.0|     0.0|         0.0|                    0.0|      0.0|       0.0|  0.0|    0.0|                  0.0|          0.0|    0.0|       0.0|  0.0|       0.0|    0.0|   0.0|       0.0|      0.0|               0.0|      0.0|     0.0|   0.0|    0.0|       0.0|    0.0|              0.0|    0.0|                0.0|    0.0|    0.0|  0.0|      0.0|         0.0|      0.0|           0.0|         0.0|             0.0|                  0.0|      0.0|        0.0|       0.0|               0.0|     0.0|               0.0|               0.0|      0.0|            0.0|                0.0|      0.0|    0.0|     0.0|              0.0|           0.0|         0.0|         0.0|         0.0|          0.0|                  0.0|                0.0|    0.0|          0.0|                 0.0|     0.0|   0.0|     0.0|            0.0|          0.0|         0.0|                  0.0|              0.0|                    0.0|      0.0|         0.0|         0.0|        0.0|              0.0|                         0.0|      0.0|        0.0|               0.0|            0.0|            0.0|              0.0|              0.0|                      0.0|                0.0|     0.0|                       0.0|                         0.0|      0.0|  0.0|     0.0|              0.0|         0.0|                   0.0|            0.0|  0.0|            0.0|0.0|               0.0|        0.0|          0.0|       0.0|          0.0|     0.0|         0.0|  0.0|     0.0|              0.0|                          0.0|           0.0|     0.0|    0.0|   0.0|           0.0|           0.0|         0.0|      0.0|                0.0|    0.0|      0.0|        0.0|    0.0|   0.0|            0.0|       0.0|         0.0|                   0.0|      0.0|      0.0|     0.0|        0.0|               0.0|    0.0|                   0.0|         0.0|         0.0|               0.0|            0.0|      0.0|        0.0|           0.0|              0.0|                      0.0|             0.0|            0.0|                0.0|          0.0|    0.0|            0.0|           0.0|    0.0|      0.0|      0.0|     0.0|               0.0|               0.0|         0.0|                  0.0|      0.0|     0.0|             0.0|     5.0|            5.0|   0.0|               1.0|       0.0|                   0.0|        0.0|       0.0|        0.0|      0.0|        0.0|    0.0|   0.0|             0.0|         0.0|               0.0|             0.0|                   0.0|             0.0|                 0.0|         0.0|       0.0|     0.0|   0.0|              0.0|   0.0|       0.0|        0.0|        0.0|           0.0|  0.0|    0.0| 0.0|   0.0|            0.0|         0.0|        0.0|          0.0|    0.0|  0.0|  0.0|     0.0|            0.0| 0.0|     0.0|       0.0|             0.0|           0.0|            0.0|                            0.0|               0.0|          0.0|             0.0|        0.0|          0.0|                    0.0|          0.0|       0.0|             0.0|              0.0|          0.0|         0.0|                 0.0|        0.0|      0.0|    0.0|     0.0|    0.0|              0.0|              0.0|      0.0|                          0.0|    0.0|                      0.0|            0.0|          0.0|   0.0|       0.0|      0.0|            0.0|          0.0|                  0.0|           0.0|                       0.0|      0.0|  0.0|      0.0|    0.0|    0.0|               0.0|         0.0|    0.0|           0.0|                   0.0|                   0.0|    0.0|  0.0|              0.0|           0.0|             0.0|              0.0|   0.0|   0.0|                             0.0|        0.0|    0.0|                    0.0|               0.0|      0.0|           0.0|             0.0|    0.0|          0.0|     0.0|           0.0|            0.0|      0.0|                          0.0|  0.0|     0.0|          0.0|         0.0|           0.0|    0.0|    0.0|     0.0| 0.0|           0.0|      0.0|      0.0|         0.0|    0.0|            0.0|            0.0|           0.0|       0.0|       0.0|            0.0|         0.0|             0.0|               0.0|          0.0|           0.0|    0.0|           0.0|                          0.0|                     0.0|                0.0|          0.0|            0.0|      0.0|     0.0|               0.0|            0.0|   0.0|    0.0|         0.0|          0.0|         0.0|                        0.0|                           0.0|        0.0|             0.0|                  0.0|                   0.0|       0.0|      0.0|    0.0|                  0.0|          0.0|          0.0|            0.0|             0.0|                0.0|           0.0|         0.0|           0.0|          0.0|                   0.0|                     0.0|         0.0|          0.0|             0.0|        0.0|      0.0|      0.0|     0.0|    0.0|  0.0|                   0.0|           0.0|                     0.0|        0.0|                 0.0|       0.0|             0.0|               0.0|          0.0|            0.0|          0.0|             0.0|            0.0|           0.0|              0.0|     0.0|         0.0|         0.0|         0.0|        0.0|       0.0|         0.0| 0.0|     0.0|          0.0|                          0.0|             0.0|       0.0|     0.0|    0.0|  0.0|        0.0|     0.0| 0.0|   0.0|       0.0|         0.0|       0.0|         0.0|        0.0|       0.0|              0.0|                  0.0|                  0.0|                      0.0|       0.0|           0.0|             0.0|                         0.0|                  0.0| 0.0|        0.0|  0.0|        0.0|               0.0|                 0.0|                          0.0|               0.0|        0.0|                    0.0|    0.0|               1.0|    0.0|                0.0|    0.0| 0.0|    0.0|  0.0|       0.0|       0.0|         0.0|     0.0|            0.0|    0.0|            0.0|         0.0|                0.0|                 0.0|            0.0|         0.0|       0.0|        0.0|        0.0|       0.0|        0.0|     5.0|             0.0|               0.0|        0.0|          0.0|      0.0|                0.0|       0.0|         0.0|      0.0| 0.0|          0.0|     0.0|    0.0|        0.0|              0.0|              0.0|              0.0|           0.0|        0.0|         0.0|            0.0|        0.0|   0.0|       0.0|              0.0|        0.0|           0.0|         0.0|       0.0|                  0.0|         0.0|       0.0|                     0.0|           0.0|     0.0|   0.0|     0.0|           0.0|  0.0|    0.0|      0.0|    0.0|         0.0|       0.0|               0.0|            0.0|   0.0|           0.0|         0.0|  0.0|      0.0|                     0.0|                         0.0|   0.0|    0.0| 1.0|         0.0|               0.0|          0.0|         0.0|      0.0|  0.0|          0.0|  0.0|   0.0|       0.0|                         0.0|           0.0|     0.0|             0.0|                0.0|           0.0|            0.0|         0.0|    0.0| 0.0|      0.0|        0.0| 0.0|             0.0|       0.0|  0.0|       0.0|       0.0|                  0.0|          0.0|              0.0|                  0.0|                       0.0|       0.0|                  0.0|          0.0|                   0.0|    0.0|            0.0|          0.0|         0.0|    0.0|                             0.0|                        0.0|               0.0|             0.0|                0.0|         0.0|             0.0| 0.0|                             0.0|           0.0|      0.0|     0.0|             0.0|  0.0| 0.0| 0.0|\n",
      "|-zN_ap4Hf668TEDk8...|       0.0|        0.0|        0.0|           0.0|        0.0|        0.0|                0.0|   0.0|    0.0|     0.0|            0.0|             0.0|     0.0|                 0.0|           0.0|                   0.0|            0.0|            0.0|     0.0|       0.0|       0.0|                0.0|      0.0|    0.0|    0.0|    0.0|      0.0|        0.0|          0.0|        0.0|        0.0|         0.0|          0.0|                 1.0|         0.0|       0.0|           0.0|                0.0|                  0.0|        0.0|       0.0|         0.0|                  0.0|   0.0|     0.0|        0.0|                  0.0|     0.0|    0.0|          0.0| 0.0|            0.0|   0.0|    0.0|          0.0|            0.0| 0.0|     0.0|         0.0|      0.0|       0.0|    0.0|             0.0|     0.0|         0.0|                    0.0|      0.0|       0.0|  0.0|    0.0|                  0.0|          0.0|    0.0|       0.0|  0.0|       0.0|    0.0|   0.0|       0.0|      0.0|               0.0|      0.0|     0.0|   0.0|    0.0|       0.0|    0.0|              0.0|    0.0|                0.0|    0.0|    0.0|  0.0|      0.0|         0.0|      0.0|           0.0|         0.0|             0.0|                  0.0|      0.0|        0.0|       0.0|               0.0|     0.0|               0.0|               0.0|      0.0|            0.0|                0.0|      0.0|    0.0|     0.0|              0.0|           0.0|         0.0|         0.0|         0.0|          0.0|                  0.0|                0.0|    0.0|          0.0|                 0.0|     0.0|   1.0|     0.0|            0.0|          0.0|         0.0|                  0.0|              0.0|                    0.0|      0.0|         0.0|         0.0|        0.0|              0.0|                         0.0|      0.0|        0.0|               0.0|            0.0|            0.0|              0.0|              0.0|                      0.0|                0.0|     0.0|                       0.0|                         0.0|      0.0|  0.0|     0.0|              0.0|         0.0|                   0.0|            0.0|  0.0|            0.0|0.0|               0.0|        0.0|          0.0|       0.0|          0.0|     0.0|         0.0|  0.0|     0.0|              0.0|                          0.0|           0.0|     0.0|    0.0|   0.0|           0.0|           0.0|         0.0|      0.0|                0.0|    0.0|      0.0|        0.0|    0.0|   0.0|            0.0|       0.0|         0.0|                   0.0|      0.0|      0.0|     0.0|        0.0|               0.0|    0.0|                   0.0|         0.0|         0.0|               0.0|            0.0|      0.0|        0.0|           0.0|              0.0|                      0.0|             0.0|            0.0|                0.0|          0.0|    0.0|            0.0|           0.0|    0.0|      0.0|      0.0|     0.0|               0.0|               0.0|         0.0|                  0.0|      0.0|     0.0|             0.0|     0.0|            0.0|   0.0|               0.0|       0.0|                   0.0|        0.0|       0.0|        0.0|      0.0|        0.0|    0.0|   0.0|             0.0|         0.0|               0.0|             0.0|                   0.0|             0.0|                 0.0|         0.0|       0.0|     0.0|   0.0|              0.0|   0.0|       0.0|        0.0|        0.0|           0.0|  0.0|    0.0| 0.0|   0.0|            0.0|         0.0|        0.0|          0.0|    0.0|  0.0|  4.0|     0.0|            0.0| 0.0|     0.0|       0.0|             0.0|           0.0|            0.0|                            0.0|               0.0|          0.0|             0.0|        0.0|          0.0|                    0.0|          0.0|       0.0|             0.0|              0.0|          0.0|         0.0|                 0.0|        0.0|      0.0|    0.0|     0.0|    0.0|              0.0|              0.0|      0.0|                          0.0|    0.0|                      0.0|            0.0|          0.0|   0.0|       0.0|      0.0|            0.0|          0.0|                  0.0|           0.0|                       0.0|      0.0|  0.0|      0.0|    0.0|    0.0|               0.0|         0.0|    0.0|           0.0|                   0.0|                   0.0|    0.0|  0.0|              0.0|           0.0|             0.0|              0.0|   0.0|   0.0|                             0.0|        0.0|    0.0|                    0.0|               0.0|      0.0|           0.0|             0.0|    0.0|          0.0|     0.0|           0.0|            0.0|      0.0|                          0.0|  0.0|     0.0|          0.0|         0.0|           0.0|    0.0|    0.0|     0.0| 0.0|           0.0|      0.0|      0.0|         0.0|    0.0|            0.0|            0.0|           0.0|       0.0|       0.0|            0.0|         0.0|             0.0|               0.0|          0.0|           0.0|    0.0|           4.0|                          0.0|                     0.0|                0.0|          0.0|            0.0|      0.0|     0.0|               0.0|            0.0|   0.0|    0.0|         0.0|          0.0|         0.0|                        0.0|                           0.0|        0.0|             0.0|                  0.0|                   0.0|       0.0|      0.0|    0.0|                  0.0|          0.0|          0.0|            0.0|             0.0|                0.0|           0.0|         0.0|           0.0|          0.0|                   0.0|                     0.0|         0.0|          0.0|             0.0|        0.0|      0.0|      0.0|     0.0|    0.0|  0.0|                   0.0|           0.0|                     0.0|        0.0|                 0.0|       0.0|             0.0|               0.0|          0.0|            0.0|          0.0|             0.0|            0.0|           0.0|              0.0|     0.0|         0.0|         0.0|         0.0|        0.0|       0.0|         0.0| 0.0|     0.0|          0.0|                          0.0|             0.0|       0.0|     0.0|    0.0|  0.0|        0.0|     0.0| 0.0|   0.0|       0.0|         0.0|       0.0|         0.0|        0.0|       0.0|              0.0|                  0.0|                  0.0|                      0.0|       0.0|           0.0|             0.0|                         0.0|                  0.0| 0.0|        0.0|  0.0|        0.0|               0.0|                 0.0|                          0.0|               0.0|        0.0|                    0.0|    0.0|               4.0|    0.0|                0.0|    0.0| 0.0|    0.0|  0.0|       0.0|       0.0|         0.0|     0.0|            0.0|    0.0|            0.0|         0.0|                0.0|                 0.0|            0.0|         0.0|       0.0|        0.0|        0.0|       0.0|        0.0|     0.0|             0.0|               0.0|        0.0|          0.0|      0.0|                0.0|       0.0|         0.0|      0.0| 0.0|          0.0|     0.0|    0.0|        0.0|              0.0|              0.0|              0.0|           0.0|        0.0|         0.0|            0.0|        0.0|   0.0|       0.0|              0.0|        0.0|           0.0|         0.0|       0.0|                  0.0|         0.0|       0.0|                     0.0|           0.0|     0.0|   0.0|     0.0|           0.0|  0.0|    0.0|      0.0|    0.0|         0.0|       0.0|               0.0|            0.0|   0.0|           0.0|         0.0|  0.0|      0.0|                     0.0|                         0.0|   0.0|    0.0| 0.0|         0.0|               0.0|          0.0|         0.0|      0.0|  0.0|          0.0|  0.0|   0.0|       0.0|                         0.0|           0.0|     0.0|             0.0|                0.0|           0.0|            0.0|         0.0|    0.0| 0.0|      0.0|        0.0| 0.0|             0.0|       0.0|  0.0|       0.0|       0.0|                  0.0|          0.0|              0.0|                  0.0|                       0.0|       0.0|                  0.0|          0.0|                   0.0|    0.0|            0.0|          0.0|         0.0|    0.0|                             0.0|                        0.0|               0.0|             0.0|                0.0|         0.0|             0.0| 0.0|                             0.0|           0.0|      0.0|     0.0|             0.0|  0.0| 0.0| 0.0|\n",
      "|0BMTo253SdSZpmZbA...|       0.0|        0.0|        0.0|           0.0|        4.0|        0.0|                0.0|   0.0|    0.0|     0.0|            0.0|             0.0|     0.0|                 0.0|           0.0|                   0.0|            0.0|            0.0|     0.0|       0.0|       0.0|                0.0|      0.0|    0.0|    0.0|    0.0|      0.0|        0.0|          0.0|        0.0|        0.0|         0.0|          0.0|                 0.0|         0.0|       0.0|           0.0|                0.0|                  0.0|        0.0|       0.0|         0.0|                  0.0|   0.0|     0.0|        0.0|                  0.0|     0.0|    0.0|          0.0| 5.0|            0.0|   0.0|    0.0|         2.75|            0.0| 0.0|     0.0|         0.0|      0.0|       0.0|    0.0|             0.0|     0.0|         0.0|                    0.0|      0.0|       0.0|  0.0|    0.0|                  2.0|          0.0|    0.0|       0.0|  0.0|       0.0|    0.0|   0.0|       0.0|      0.0|               5.0|      0.0|     0.0|   0.0|    0.0|       0.0|    0.0|              0.0|    0.0|                0.0|    0.0|    0.0|  1.0|      0.0|         0.0|      0.0|           4.5|         0.0|             0.0|                  0.0|      0.0|        0.0|       0.0|               0.0|     0.0|               0.0|               0.0|      0.0|            0.0|                0.0|      0.0|    0.0|     0.0|              0.0|           0.0|         0.0|         0.0|         0.0|          0.0|                  0.0|                0.0|    0.0|          0.0|                 0.0|     0.0|   0.0|     0.0|            0.0|          5.0|         0.0|                  0.0|              0.0|                    0.0|      0.0|         0.0|         0.0|        0.0|              0.0|                         0.0|      0.0|        0.0|               0.0|            0.0|            0.0|              0.0|              0.0|                      0.0|                0.0|     0.0|                       0.0|                         0.0|      1.0|  0.0|     0.0|              0.0|         0.0|                   0.0|            0.0|  0.0|            0.0|0.0|               0.0|        0.0|          0.0|       0.0|          0.0|     3.0|         0.0|  0.0|     0.0|              0.0|                          0.0|           0.0|     1.0|    0.0|   0.0|           0.0|           0.0|         0.0|      0.0|                0.0|    0.0|      0.0|        0.0|    0.0|   0.0|            0.0|       0.0|         0.0|                   0.0|      0.0|      0.0|     0.0|        0.0|               0.0|    0.0|                   0.0|         0.0|         0.0|               0.0|            0.0|      0.0|        0.0|           0.0|              0.0|                      0.0|             0.0|            0.0|                5.0|          0.0|    0.0|            0.0|           0.0|    0.0|      0.0|      0.0|     0.0|               0.0|               0.0|         0.0|                  4.0|      0.0|     0.0|             0.0|     0.0|            0.0|   0.0|               1.0|       0.0|                   0.0|        0.0|       0.0|        0.0|      0.0|        0.0|    0.0|   0.0|             0.0|         0.0|               0.0|             0.0|                   0.0|             0.0|                 0.0|         0.0|       0.0|     0.0|   0.0|              0.0|   0.0|       0.0|        0.0|        0.0|           0.0|  0.0|    0.0| 4.0|   0.0|            0.0|        2.75|        2.0|          0.0|    0.0|  0.0|  0.0|     0.0|            0.0| 0.0|     0.0|       0.0|             1.0|           0.0|            0.0|                            0.0|               0.0|          0.0|             0.0|        0.0|          0.0|                    0.0|          0.0|       0.0|             0.0|              0.0|          0.0|         0.0|                 0.0|        0.0|      0.0|    0.0|     0.0|    0.0|              0.0|              0.0|      0.0|                          0.0|    0.0|                      1.0|            0.0|          0.0|   0.0|       0.0|      0.0|            0.0|          0.0|                  0.0|           0.0|                       0.0|      0.0|  0.0|      0.0|    4.0|    0.0|               0.0|         0.0|    0.0|           0.0|                   0.0|                   0.0|    0.0|  0.0|              0.0|           0.0|             0.0|              0.0|   0.0|   0.0|                             0.0|        0.0|    0.0|                    0.0|               3.5|      0.0|           0.0|             0.0|    0.0|          0.0|     0.0|           0.0|            0.0|      0.0|                          0.0|  0.0|     0.0|          0.0|         0.0|           0.0|    0.0|    0.0|     0.0| 0.0|           0.0|      0.0|      0.0|         0.0|    0.0|            0.0|            0.0|           0.0|       0.0|       0.0|            1.0|         0.0|             0.0|               0.0|          0.0|           0.0|    0.0|           0.0|                          0.0|                     0.0|                0.0|          0.0|            0.0|      0.0|     0.0|               0.0|            0.0|   0.0|    0.0|         0.0|          0.0|         0.0|                        0.0|                           0.0|       2.75|             0.0|                  0.0|                   0.0|       0.0|      5.0|    0.0|                  0.0|          0.0|          0.0|            0.0|             0.0|                0.0|           0.0|         0.0|           0.0|          0.0|                   0.0|                     0.0|         0.0|          0.0|             0.0|        0.0|      0.0|      0.0|     0.0|    0.0|  0.0|                   0.0|           0.0|                     0.0|        0.0|                 0.0|       0.0|             0.0|               0.0|          0.0|            0.0|          0.0|             0.0|            0.0|           0.0|              0.0|     0.0|         0.0|         0.0|         0.0|        0.0|       0.0|         0.0| 0.0|     0.0|          0.0|                          0.0|             0.0|       0.0|     0.0|    0.0|  4.0|        0.0|     0.0| 0.0|   0.0|       0.0|         0.0|       0.0|         0.0|        0.0|       0.0|              0.0|                  0.0|                  0.0|                      0.0|       0.0|           0.0|             0.0|                         0.0|                  0.0| 0.0|        0.0|  0.0|        0.0|               0.0|                 0.0|                          0.0|               0.0|        0.0|                    0.0|    0.0|3.3333333333333335|    0.0|                0.0|    0.0| 0.0|    0.0|  0.0|       0.0|       0.0|         0.0|     0.0|            0.0|    0.0|            0.0|         0.0|                0.0|                 0.0|            0.0|         0.0|       0.0|        0.0|        0.0|       0.0|        0.0|     5.0|             0.0|               0.0|        0.0|          0.0|      3.0|                0.0|       0.0|         0.0|      0.0| 0.0|          0.0|     0.0|    0.0|        0.0|              0.0|              0.0|              0.0|           0.0|        0.0|         0.0|            0.0|        0.0|   0.0|       0.0|              0.0|        0.0|           0.0|         0.0|       0.0|                  0.0|         0.0|       0.0|                     0.0|           0.0|     0.0|   0.0|     0.0|           0.0|  0.0|    0.0|      0.0|    0.0|         0.0|       0.0|               0.0|            0.0|   0.0|           0.0|         0.0|  0.0|      0.0|                     0.0|                         0.0|   0.0|    0.0| 0.0|         0.0|               0.0|          0.0|         0.0|      0.0|  0.0|          0.0|  0.0|   0.0|       0.0|                         0.0|           0.0|     0.0|             0.0|                0.0|           0.0|            0.0|         0.0|    0.0| 0.0|      0.0|        0.0| 0.0|             0.0|       0.0|  0.0|       0.0|       0.0|                  0.0|          0.0|              0.0|                  0.0|                       0.0|       0.0|                  0.0|          0.0|                   0.0|    1.0|            0.0|          0.0|         0.0|    0.0|                             0.0|                        0.0|2.6666666666666665|             0.0|                0.0|         0.0|             0.0| 0.0|                             0.0|           0.0|      0.0|     0.0|             0.0|  0.0| 0.0| 0.0|\n",
      "|0L1XEgoavPHKaF7DH...|       0.0|        0.0|        0.0|           0.0|        0.0|        0.0|                0.0|   0.0|    0.0|     0.0|            0.0|             0.0|     0.0|                 0.0|           0.0|                   0.0|            0.0|            0.0|     0.0|       0.0|       0.0|                0.0|      0.0|    0.0|    0.0|    0.0|      0.0|        0.0|          0.0|        0.0|        0.0|         0.0|          0.0|                 0.0|         0.0|       0.0|           0.0|                0.0|                  0.0|        0.0|       0.0|         0.0|                  0.0|   0.0|     0.0|        0.0|                  0.0|     5.0|    0.0|          0.0| 0.0|            0.0|   0.0|    0.0|          0.0|            0.0| 0.0|     0.0|         0.0|      0.0|       0.0|    0.0|             0.0|     0.0|         0.0|                    0.0|      0.0|       0.0|  0.0|    0.0|                  0.0|          0.0|    0.0|       0.0|  0.0|       0.0|    0.0|   0.0|       0.0|      0.0|               0.0|      0.0|     0.0|   0.0|    0.0|       0.0|    0.0|              0.0|    0.0|                0.0|    0.0|    0.0|  0.0|      0.0|         0.0|      0.0|           0.0|         0.0|             0.0|                  0.0|      0.0|        0.0|       0.0|               0.0|     0.0|               0.0|               0.0|      0.0|            0.0|                0.0|      0.0|    0.0|     0.0|              0.0|           0.0|         0.0|         0.0|         0.0|          0.0|                  0.0|                0.0|    0.0|          0.0|                 0.0|     0.0|   0.0|     0.0|            0.0|          0.0|         0.0|                  0.0|              0.0|                    0.0|      0.0|         0.0|         0.0|        0.0|              0.0|                         0.0|      0.0|        0.0|               0.0|            0.0|            0.0|              0.0|              0.0|                      0.0|                0.0|     0.0|                       0.0|                         0.0|      0.0|  0.0|     0.0|              0.0|         0.0|                   0.0|            0.0|  0.0|            0.0|0.0|               0.0|        0.0|          0.0|       0.0|          0.0|     0.0|         0.0|  0.0|     0.0|              0.0|                          0.0|           0.0|     0.0|    0.0|   0.0|           0.0|           0.0|         0.0|      0.0|                0.0|    0.0|      0.0|        0.0|    5.0|   0.0|            0.0|       0.0|         0.0|                   0.0|      0.0|      0.0|     0.0|        0.0|               0.0|    0.0|                   0.0|         0.0|         0.0|               0.0|            0.0|      0.0|        0.0|           0.0|              0.0|                      0.0|             0.0|            0.0|                0.0|          0.0|    0.0|            0.0|           0.0|    0.0|      5.0|      0.0|     0.0|               0.0|               0.0|         0.0|                  0.0|      0.0|     0.0|             0.0|     0.0|            0.0|   0.0|               5.0|       0.0|                   0.0|        0.0|       0.0|        0.0|      0.0|        0.0|    0.0|   0.0|             0.0|         0.0|               0.0|             0.0|                   0.0|             0.0|                 0.0|         0.0|       0.0|     0.0|   0.0|              0.0|   0.0|       0.0|        0.0|        0.0|           0.0|  0.0|    0.0| 0.0|   0.0|            0.0|         0.0|        0.0|          0.0|    0.0|  0.0|  0.0|     0.0|            0.0| 0.0|     0.0|       0.0|             0.0|           0.0|            0.0|                            0.0|               0.0|          0.0|             0.0|        0.0|          0.0|                    0.0|          0.0|       0.0|             0.0|              0.0|          0.0|         0.0|                 0.0|        0.0|      0.0|    0.0|     0.0|    0.0|              0.0|              0.0|      0.0|                          0.0|    0.0|                      0.0|            0.0|          0.0|   0.0|       0.0|      0.0|            0.0|          0.0|                  0.0|           0.0|                       0.0|      0.0|  0.0|      0.0|    0.0|    0.0|               0.0|         0.0|    0.0|           0.0|                   0.0|                   0.0|    0.0|  0.0|              0.0|           0.0|             0.0|              0.0|   0.0|   0.0|                             0.0|        0.0|    0.0|                    0.0|               0.0|      0.0|           0.0|             0.0|    0.0|          0.0|     0.0|           0.0|            0.0|      0.0|                          0.0|  0.0|     0.0|          0.0|         0.0|           0.0|    0.0|    0.0|     0.0| 0.0|           0.0|      0.0|      0.0|         0.0|    0.0|            0.0|            0.0|           0.0|       0.0|       0.0|            0.0|         0.0|             0.0|               0.0|          0.0|           0.0|    0.0|           5.0|                          0.0|                     0.0|                0.0|          0.0|            0.0|      0.0|     0.0|               0.0|            0.0|   0.0|    0.0|         0.0|          0.0|         0.0|                        0.0|                           0.0|        0.0|             0.0|                  0.0|                   0.0|       0.0|      0.0|    0.0|                  0.0|          0.0|          0.0|            0.0|             0.0|                0.0|           0.0|         0.0|           0.0|          0.0|                   0.0|                     0.0|         0.0|          0.0|             0.0|        0.0|      0.0|      0.0|     0.0|    0.0|  0.0|                   0.0|           0.0|                     0.0|        0.0|                 0.0|       0.0|             0.0|               0.0|          0.0|            0.0|          0.0|             0.0|            0.0|           0.0|              0.0|     0.0|         0.0|         0.0|         0.0|        0.0|       0.0|         0.0| 0.0|     0.0|          0.0|                          0.0|             0.0|       0.0|     0.0|    0.0|  0.0|        0.0|     0.0| 0.0|   0.0|       0.0|         0.0|       0.0|         0.0|        0.0|       0.0|              0.0|                  0.0|                  0.0|                      0.0|       0.0|           0.0|             0.0|                         0.0|                  0.0| 0.0|        0.0|  0.0|        0.0|               0.0|                 0.0|                          0.0|               0.0|        0.0|                    0.0|    0.0|               5.0|    0.0|                0.0|    0.0| 0.0|    0.0|  0.0|       0.0|       0.0|         0.0|     0.0|            0.0|    0.0|            0.0|         0.0|                0.0|                 0.0|            0.0|         0.0|       0.0|        0.0|        0.0|       0.0|        0.0|     0.0|             0.0|               0.0|        0.0|          0.0|      0.0|                0.0|       0.0|         0.0|      0.0| 0.0|          0.0|     5.0|    0.0|        0.0|              0.0|              0.0|              0.0|           0.0|        0.0|         0.0|            0.0|        0.0|   0.0|       0.0|              0.0|        0.0|           0.0|         0.0|       0.0|                  0.0|         0.0|       0.0|                     0.0|           0.0|     0.0|   0.0|     0.0|           0.0|  0.0|    0.0|      0.0|    0.0|         0.0|       0.0|               0.0|            0.0|   0.0|           0.0|         0.0|  0.0|      0.0|                     0.0|                         0.0|   0.0|    0.0| 0.0|         0.0|               0.0|          0.0|         0.0|      0.0|  0.0|          0.0|  0.0|   0.0|       0.0|                         0.0|           0.0|     0.0|             0.0|                0.0|           0.0|            0.0|         0.0|    5.0| 0.0|      0.0|        0.0| 0.0|             0.0|       0.0|  0.0|       0.0|       0.0|                  0.0|          0.0|              0.0|                  0.0|                       0.0|       0.0|                  0.0|          0.0|                   0.0|    0.0|            0.0|          0.0|         0.0|    0.0|                             0.0|                        0.0|               0.0|             0.0|                0.0|         0.0|             0.0| 0.0|                             0.0|           0.0|      0.0|     0.0|             0.0|  0.0| 0.0| 0.0|\n",
      "|0LUt7xSvYgLpL0zBe...|       0.0|        0.0|        0.0|           0.0|        0.0|        0.0|                0.0|   0.0|    0.0|     0.0|            0.0|             0.0|     0.0|                 0.0|           0.0|                   0.0|            0.0|            0.0|     0.0|       0.0|       0.0|                0.0|      0.0|    0.0|    0.0|    0.0|      0.0|        0.0|          0.0|        0.0|        0.0|         0.0|          0.0|                 0.0|         5.0|       0.0|           0.0|                0.0|                  0.0|        0.0|       0.0|         0.0|                  0.0|   0.0|     0.0|        0.0|                  0.0|     0.0|    0.0|          0.0| 5.0|            0.0|   0.0|    0.0|          0.0|            0.0| 0.0|     0.0|         0.0|      0.0|       0.0|    0.0|             0.0|     0.0|         0.0|                    0.0|      0.0|       0.0|  0.0|    0.0|                  0.0|          0.0|    0.0|       0.0|  0.0|       0.0|    0.0|   0.0|       0.0|      0.0|               0.0|      0.0|     0.0|   0.0|    0.0|       0.0|    0.0|              0.0|    0.0|                0.0|    0.0|    0.0|  0.0|      0.0|         0.0|      0.0|           0.0|         0.0|             0.0|                  0.0|      0.0|        0.0|       0.0|               0.0|     0.0|               0.0|               0.0|      0.0|            0.0|                0.0|      0.0|    0.0|     0.0|              0.0|           0.0|         0.0|         0.0|         0.0|          0.0|                  0.0|                0.0|    5.0|          0.0|                 0.0|     0.0|   0.0|     0.0|            0.0|          0.0|         0.0|                  0.0|              0.0|                    0.0|      0.0|         0.0|         0.0|        0.0|              0.0|                         0.0|      0.0|        0.0|               0.0|            0.0|            0.0|              0.0|              0.0|                      0.0|                0.0|     0.0|                       0.0|                         0.0|      0.0|  0.0|     0.0|              0.0|         0.0|                   0.0|            0.0|  0.0|            0.0|0.0|               0.0|        0.0|          0.0|       0.0|          0.0|     0.0|         0.0|  0.0|     0.0|              0.0|                          0.0|           0.0|     0.0|    5.0|   0.0|           0.0|           0.0|         0.0|      0.0|                0.0|    0.0|      0.0|        0.0|    0.0|   0.0|            0.0|       0.0|         0.0|                   0.0|      0.0|      0.0|     0.0|        0.0|               0.0|    0.0|                   0.0|         0.0|         0.0|               0.0|            0.0|      0.0|        0.0|           0.0|              0.0|                      0.0|             0.0|            0.0|                0.0|          0.0|    0.0|            0.0|           0.0|    0.0|      0.0|      0.0|     0.0|               0.0|               0.0|         0.0|                  0.0|      0.0|     0.0|             0.0|     0.0|            0.0|   0.0|               5.0|       0.0|                   0.0|        0.0|       0.0|        0.0|      0.0|        0.0|    0.0|   0.0|             0.0|         0.0|               0.0|             0.0|                   0.0|             0.0|                 0.0|         0.0|       0.0|     0.0|   0.0|              0.0|   0.0|       0.0|        0.0|        0.0|           0.0|  0.0|    0.0| 0.0|   0.0|            0.0|         0.0|        0.0|          0.0|    0.0|  0.0|  0.0|     0.0|            0.0| 0.0|     0.0|       0.0|             0.0|           0.0|            0.0|                            0.0|               0.0|          0.0|             0.0|        0.0|          0.0|                    0.0|          0.0|       0.0|             0.0|              0.0|          0.0|         0.0|                 0.0|        0.0|      0.0|    0.0|     0.0|    0.0|              0.0|              0.0|      0.0|                          0.0|    0.0|                      0.0|            0.0|          0.0|   5.0|       0.0|      0.0|            0.0|          0.0|                  0.0|           0.0|                       0.0|      0.0|  0.0|      0.0|    0.0|    0.0|               5.0|         0.0|    0.0|           0.0|                   0.0|                   0.0|    0.0|  0.0|              0.0|           0.0|             0.0|              0.0|   0.0|   0.0|                             0.0|        0.0|    0.0|                    0.0|               0.0|      0.0|           0.0|             0.0|    0.0|          0.0|     0.0|           0.0|            0.0|      0.0|                          0.0|  0.0|     0.0|          0.0|         0.0|           0.0|    5.0|    0.0|     0.0| 0.0|           0.0|      0.0|      0.0|         0.0|    0.0|            0.0|            0.0|           0.0|       0.0|       0.0|            0.0|         0.0|             0.0|               0.0|          5.0|           0.0|    0.0|           5.0|                          0.0|                     0.0|                0.0|          0.0|            0.0|      0.0|     0.0|               0.0|            0.0|   0.0|    0.0|         0.0|          0.0|         0.0|                        0.0|                           0.0|        0.0|             0.0|                  0.0|                   0.0|       0.0|      5.0|    0.0|                  0.0|          0.0|          0.0|            0.0|             0.0|                0.0|           0.0|         0.0|           0.0|          0.0|                   0.0|                     0.0|         0.0|          0.0|             0.0|        0.0|      0.0|      0.0|     0.0|    0.0|  0.0|                   0.0|           0.0|                     0.0|        0.0|                 0.0|       0.0|             0.0|               0.0|          0.0|            0.0|          0.0|             0.0|            0.0|           0.0|              0.0|     0.0|         0.0|         0.0|         0.0|        0.0|       0.0|         0.0| 0.0|     0.0|          0.0|                          0.0|             0.0|       0.0|     0.0|    0.0|  0.0|        0.0|     0.0| 0.0|   0.0|       0.0|         0.0|       0.0|         0.0|        0.0|       0.0|              0.0|                  0.0|                  0.0|                      0.0|       0.0|           0.0|             0.0|                         0.0|                  0.0| 0.0|        0.0|  0.0|        0.0|               0.0|                 0.0|                          0.0|               0.0|        0.0|                    0.0|    0.0|               5.0|    0.0|                0.0|    0.0| 0.0|    0.0|  0.0|       0.0|       0.0|         0.0|     0.0|            0.0|    0.0|            0.0|         0.0|                0.0|                 0.0|            0.0|         0.0|       0.0|        0.0|        0.0|       0.0|        0.0|     0.0|             0.0|               0.0|        0.0|          0.0|      0.0|                0.0|       0.0|         0.0|      0.0| 0.0|          0.0|     0.0|    0.0|        0.0|              0.0|              0.0|              0.0|           0.0|        0.0|         0.0|            0.0|        0.0|   0.0|       0.0|              0.0|        0.0|           0.0|         0.0|       0.0|                  0.0|         0.0|       0.0|                     0.0|           0.0|     0.0|   0.0|     0.0|           0.0|  0.0|    0.0|      0.0|    0.0|         0.0|       5.0|               0.0|            0.0|   0.0|           0.0|         0.0|  0.0|      0.0|                     0.0|                         0.0|   0.0|    0.0| 0.0|         0.0|               0.0|          0.0|         0.0|      0.0|  0.0|          0.0|  0.0|   0.0|       0.0|                         0.0|           0.0|     0.0|             0.0|                0.0|           0.0|            0.0|         0.0|    0.0| 0.0|      0.0|        0.0| 0.0|             0.0|       0.0|  0.0|       0.0|       0.0|                  0.0|          0.0|              0.0|                  0.0|                       0.0|       0.0|                  0.0|          0.0|                   0.0|    0.0|            0.0|          0.0|         0.0|    0.0|                             0.0|                        0.0|               0.0|             0.0|                0.0|         0.0|             0.0| 0.0|                             0.0|           0.0|      5.0|     0.0|             0.0|  0.0| 0.0| 0.0|\n",
      "|0WNQ7u8vflxO_g4LF...|       0.0|        0.0|        0.0|           0.0|        0.0|        0.0|                0.0|   0.0|    0.0|     0.0|            0.0|             0.0|     0.0|                 0.0|           4.0|                   0.0|            0.0|            0.0|     0.0|       0.0|       0.0|                0.0|      0.0|    0.0|    0.0|    0.0|      0.0|        0.0|          0.0|        0.0|        0.0|         0.0|          0.0|                 0.0|         0.0|       0.0|           0.0|                0.0|                  0.0|        0.0|       0.0|         0.0|                  0.0|   0.0|     0.0|        0.0|                  0.0|     0.0|    0.0|          0.0| 1.0|            0.0|   0.0|    0.0|          0.0|            0.0| 0.0|     0.0|         0.0|      0.0|       0.0|    0.0|             0.0|     0.0|         0.0|                    0.0|      0.0|       0.0|  0.0|    0.0|                  0.0|          0.0|    0.0|       0.0|  0.0|       0.0|    0.0|   0.0|       0.0|      0.0|               4.0|      0.0|     0.0|   0.0|    0.0|       0.0|    0.0|              0.0|    0.0|                0.0|    0.0|    0.0|  0.0|      0.0|         0.0|      0.0|           4.0|         0.0|             0.0|                  0.0|      0.0|        0.0|       0.0|               0.0|     0.0|               0.0|               0.0|      0.0|            0.0|                0.0|      0.0|    0.0|     0.0|              0.0|           0.0|         0.0|         0.0|         0.0|          0.0|                  0.0|                0.0|    0.0|          0.0|                 0.0|     0.0|   0.0|     0.0|            0.0|          0.0|         0.0|                  0.0|              0.0|                    0.0|      0.0|         0.0|         0.0|        0.0|              0.0|                         0.0|      0.0|        0.0|               0.0|            0.0|            0.0|              0.0|              0.0|                      0.0|                0.0|     0.0|                       0.0|                         0.0|      0.0|  0.0|     0.0|              0.0|         0.0|                   0.0|            0.0|  0.0|            0.0|0.0|               0.0|        0.0|          0.0|       0.0|          0.0|     0.0|         0.0|  0.0|     0.0|              0.0|                          0.0|           0.0|     0.0|    0.0|   0.0|           0.0|           0.0|         0.0|      0.0|                0.0|    0.0|      0.0|        0.0|    0.0|   0.0|            0.0|       0.0|         0.0|                   0.0|      0.0|      0.0|     0.0|        0.0|               0.0|    0.0|                   0.0|         0.0|         0.0|               0.0|            0.0|      0.0|        4.0|           0.0|              0.0|                      0.0|             0.0|            0.0|                0.0|          0.0|    0.0|            0.0|           0.0|    0.0|      0.0|      0.0|     0.0|               0.0|               0.0|         0.0|                  0.0|      0.0|     0.0|             0.0|     0.0|            0.0|   0.0|               4.0|       0.0|                   0.0|        0.0|       0.0|        0.0|      0.0|        0.0|    0.0|   0.0|             0.0|         0.0|               0.0|             0.0|                   0.0|             0.0|                 0.0|         0.0|       0.0|     0.0|   0.0|              0.0|   0.0|       0.0|        4.0|        0.0|           0.0|  0.0|    0.0| 0.0|   0.0|            0.0|         0.0|        0.0|          0.0|    0.0|  0.0|  0.0|     0.0|            0.0| 0.0|     0.0|       0.0|             0.0|           0.0|            0.0|                            0.0|               0.0|          0.0|             0.0|        0.0|          0.0|                    0.0|          0.0|       0.0|             0.0|              0.0|          0.0|         0.0|                 0.0|        1.0|      0.0|    0.0|     0.0|    0.0|              0.0|              0.0|      0.0|                          0.0|    0.0|                      0.0|            0.0|          0.0|   0.0|       0.0|      0.0|            0.0|          0.0|                  0.0|           0.0|                       0.0|      0.0|  0.0|      0.0|    4.0|    0.0|               0.0|         0.0|    0.0|           0.0|                   0.0|                   0.0|    0.0|  0.0|              0.0|           0.0|             0.0|              0.0|   0.0|   0.0|                             0.0|        0.0|    0.0|                    0.0|               0.0|      0.0|           0.0|             0.0|    0.0|          0.0|     0.0|           0.0|            0.0|      0.0|                          0.0|  0.0|     0.0|          0.0|         0.0|           0.0|    0.0|    0.0|     0.0| 0.0|           0.0|      0.0|      0.0|         0.0|    0.0|            0.0|            0.0|           0.0|       0.0|       0.0|            0.0|         0.0|             0.0|               0.0|          0.0|           0.0|    0.0|           1.0|                          0.0|                     0.0|                0.0|          0.0|            0.0|      0.0|     0.0|               0.0|            0.0|   0.0|    0.0|         0.0|          0.0|         0.0|                        0.0|                           0.0|        0.0|             0.0|                  0.0|                   0.0|       0.0|      1.0|    0.0|                  0.0|          0.0|          0.0|            0.0|             0.0|                0.0|           0.0|         0.0|           0.0|          0.0|                   0.0|                     0.0|         0.0|          0.0|             0.0|        0.0|      0.0|      0.0|     0.0|    0.0|  0.0|                   0.0|           0.0|                     0.0|        0.0|                 0.0|       0.0|             0.0|               0.0|          0.0|            0.0|          0.0|             0.0|            1.0|           0.0|              0.0|     0.0|         0.0|         0.0|         0.0|        0.0|       0.0|         0.0| 0.0|     0.0|          0.0|                          0.0|             0.0|       0.0|     0.0|    0.0|  0.0|        0.0|     0.0| 0.0|   0.0|       0.0|         0.0|       0.0|         0.0|        0.0|       0.0|              0.0|                  0.0|                  4.0|                      0.0|       0.0|           0.0|             0.0|                         0.0|                  0.0| 0.0|        0.0|  0.0|        0.0|               0.0|                 0.0|                          0.0|               0.0|        0.0|                    0.0|    0.0|               2.5|    0.0|                0.0|    0.0| 0.0|    0.0|  0.0|       0.0|       0.0|         0.0|     0.0|            0.0|    0.0|            0.0|         0.0|                0.0|                 0.0|            0.0|         0.0|       0.0|        0.0|        0.0|       0.0|        0.0|     0.0|             0.0|               0.0|        0.0|          0.0|      0.0|                0.0|       0.0|         0.0|      0.0| 0.0|          0.0|     0.0|    0.0|        0.0|              0.0|              4.0|              0.0|           0.0|        0.0|         0.0|            0.0|        0.0|   0.0|       0.0|              0.0|        0.0|           0.0|         0.0|       0.0|                  0.0|         0.0|       0.0|                     0.0|           0.0|     0.0|   0.0|     0.0|           0.0|  0.0|    0.0|      0.0|    0.0|         0.0|       0.0|               0.0|            0.0|   0.0|           0.0|         0.0|  0.0|      0.0|                     0.0|                         0.0|   0.0|    0.0| 0.0|         0.0|               0.0|          0.0|         0.0|      0.0|  0.0|          0.0|  0.0|   0.0|       0.0|                         0.0|           0.0|     0.0|             0.0|                0.0|           0.0|            0.0|         0.0|    0.0| 0.0|      0.0|        0.0| 0.0|             0.0|       0.0|  0.0|       0.0|       0.0|                  0.0|          0.0|              0.0|                  0.0|                       0.0|       0.0|                  0.0|          0.0|                   0.0|    0.0|            0.0|          0.0|         0.0|    0.0|                             0.0|                        0.0|               0.0|             0.0|                0.0|         0.0|             0.0| 0.0|                             0.0|           0.0|      0.0|     0.0|             0.0|  0.0| 0.0| 0.0|\n",
      "|0kDf2EEv9oGNW_wed...|       0.0|        0.0|        0.0|           0.0|        0.0|        0.0|                0.0|   0.0|    0.0|     0.0|            0.0|             0.0|     0.0|                 0.0|           0.0|                   0.0|            0.0|            0.0|     0.0|       0.0|       0.0|                0.0|      0.0|    0.0|    0.0|    0.0|      0.0|        0.0|          0.0|        0.0|        0.0|         0.0|          0.0|                 0.0|         3.0|       0.0|           0.0|                0.0|                  0.0|        0.0|       0.0|         0.0|                  0.0|   0.0|     0.0|        0.0|                  0.0|     0.0|    0.0|          0.0| 3.0|            0.0|   0.0|    0.0|          0.0|            0.0| 0.0|     0.0|         0.0|      0.0|       0.0|    0.0|             0.0|     0.0|         0.0|                    0.0|      0.0|       0.0|  0.0|    0.0|                  0.0|          0.0|    0.0|       0.0|  0.0|       0.0|    0.0|   0.0|       0.0|      0.0|               4.0|      0.0|     0.0|   0.0|    0.0|       0.0|    0.0|              0.0|    0.0|                0.0|    0.0|    0.0|  0.0|      0.0|         0.0|      0.0|           0.0|         0.0|             0.0|                  0.0|      0.0|        0.0|       0.0|               0.0|     0.0|               0.0|               0.0|      0.0|            0.0|                0.0|      0.0|    0.0|     0.0|              0.0|           0.0|         0.0|         0.0|         0.0|          0.0|                  0.0|                0.0|    3.0|          0.0|                 0.0|     0.0|   0.0|     0.0|            0.0|          0.0|         0.0|                  0.0|              0.0|                    0.0|      0.0|         0.0|         0.0|        0.0|              0.0|                         0.0|      0.0|        0.0|               0.0|            0.0|            0.0|              0.0|              0.0|                      0.0|                0.0|     0.0|                       0.0|                         0.0|      0.0|  0.0|     0.0|              0.0|         0.0|                   0.0|            0.0|  0.0|            0.0|0.0|               0.0|        0.0|          0.0|       0.0|          0.0|     0.0|         0.0|  0.0|     0.0|              0.0|                          0.0|           0.0|     0.0|    0.0|   4.0|           0.0|           0.0|         0.0|      0.0|                0.0|    0.0|      0.0|        0.0|    0.0|   0.0|            0.0|       0.0|         0.0|                   0.0|      0.0|      0.0|     0.0|        0.0|               0.0|    0.0|                   0.0|         0.0|         0.0|               0.0|            0.0|      0.0|        0.0|           0.0|              0.0|                      0.0|             0.0|            0.0|                0.0|          0.0|    0.0|            0.0|           0.0|    0.0|      0.0|      0.0|     0.0|               0.0|               0.0|         0.0|                  0.0|      0.0|     0.0|             0.0|     0.0|            0.0|   0.0|               0.0|       0.0|                   0.0|        0.0|       0.0|        0.0|      0.0|        0.0|    0.0|   0.0|             0.0|         0.0|               0.0|             0.0|                   0.0|             0.0|                 0.0|         0.0|       0.0|     0.0|   0.0|              0.0|   0.0|       0.0|        0.0|        0.0|           0.0|  0.0|    0.0| 0.0|   0.0|            0.0|         0.0|        0.0|          0.0|    0.0|  0.0|  0.0|     0.0|            0.0| 0.0|     0.0|       0.0|             0.0|           0.0|            0.0|                            0.0|               0.0|          0.0|             0.0|        0.0|          0.0|                    0.0|          0.0|       0.0|             0.0|              0.0|          0.0|         0.0|                 0.0|        0.0|      0.0|    0.0|     0.0|    0.0|              0.0|              0.0|      0.0|                          0.0|    0.0|                      0.0|            0.0|          0.0|   0.0|       0.0|      0.0|            0.0|          0.0|                  0.0|           0.0|                       0.0|      0.0|  0.0|      0.0|    0.0|    0.0|              3.75|         0.0|    0.0|           0.0|                   0.0|                   0.0|    0.0|  0.0|              0.0|           0.0|             0.0|              0.0|   0.0|   0.0|                             0.0|        0.0|    0.0|                    0.0|               0.0|      0.0|           0.0|             0.0|    0.0|          0.0|     0.0|           0.0|            0.0|      0.0|                          0.0|  0.0|     0.0|          0.0|         0.0|           0.0|    0.0|    0.0|     0.0| 0.0|           0.0|      0.0|      0.0|         0.0|    0.0|            0.0|            0.0|           0.0|       0.0|       0.0|            0.0|         0.0|             0.0|               0.0|          0.0|           0.0|    0.0|           0.0|                          0.0|                     0.0|                0.0|          0.0|            0.0|      0.0|     0.0|               0.0|            0.0|   0.0|    0.0|         0.0|          0.0|         0.0|                        0.0|                           0.0|        0.0|             0.0|                  0.0|                   0.0|       0.0|      3.0|    4.0|                  0.0|          0.0|          0.0|            0.0|             0.0|                0.0|           0.0|         0.0|           0.0|          0.0|                   0.0|                     0.0|         0.0|          0.0|             0.0|        0.0|      0.0|      0.0|     0.0|    0.0|  0.0|                   0.0|           0.0|                     0.0|        0.0|                 0.0|       0.0|             0.0|               0.0|          0.0|            0.0|          0.0|             0.0|            0.0|           0.0|              0.0|     0.0|         0.0|         0.0|         0.0|        0.0|       0.0|         0.0| 0.0|     0.0|          0.0|                          0.0|             0.0|       0.0|     0.0|    0.0|  0.0|        0.0|     0.0| 0.0|   4.0|       0.0|         0.0|       0.0|         0.0|        0.0|       0.0|              0.0|                  0.0|                  0.0|                      0.0|       0.0|           0.0|             0.0|                         0.0|                  0.0| 0.0|        0.0|  4.0|        0.0|               0.0|                 0.0|                          0.0|               0.0|        0.0|                    0.0|    0.0|             3.375|    0.0|                0.0|    0.0| 0.0|    0.0|  0.0|       0.0|       0.0|         0.0|     0.0|            0.0|    0.0|            0.0|         0.0|                0.0|                 0.0|            0.0|         0.0|       0.0|        0.0|        0.0|       0.0|        0.0|     0.0|             0.0|               0.0|        0.0|          0.0|      0.0|                0.0|       0.0|         0.0|      0.0| 0.0|          0.0|     0.0|    0.0|        0.0|              0.0|              0.0|              0.0|           0.0|        0.0|         0.0|            0.0|        0.0|   0.0|       0.0|              0.0|        0.0|           0.0|         0.0|       0.0|                  0.0|         0.0|       3.5|                     0.0|           0.0|     0.0|   0.0|     0.0|           0.0|  0.0|    0.0|      0.0|    0.0|         0.0|       0.0|               0.0|            0.0|   0.0|           0.0|         0.0|  0.0|      0.0|                     0.0|                         0.0|   0.0|    0.0| 3.0|         0.0|               0.0|          0.0|         0.0|      0.0|  0.0|          0.0|  0.0|   0.0|       0.0|                         0.0|           0.0|     0.0|             0.0|                0.0|           0.0|            0.0|         0.0|    0.0| 0.0|      0.0|        0.0| 0.0|             0.0|       0.0|  1.0|       1.0|       0.0|                  0.0|          0.0|              0.0|                  0.0|                       0.0|       0.0|                  0.0|          0.0|                   0.0|    0.0|            0.0|          0.0|         0.0|    0.0|                             0.0|                        0.0|               0.0|             0.0|                0.0|         0.0|             0.0| 0.0|                             0.0|           0.0|      3.0|     0.0|             0.0|  0.0| 0.0| 0.0|\n",
      "|0lbUv-31EVxr8isqk...|       0.0|        0.0|        0.0|           0.0|        0.0|        0.0|                0.0|   0.0|    0.0|     0.0|            0.0|             0.0|     0.0|                 0.0|           0.0|                   2.0|            0.0|            0.0|     0.0|       0.0|       0.0|                0.0|      0.0|    0.0|    0.0|    0.0|      0.0|        0.0|          0.0|        0.0|        0.0|         0.0|          0.0|                 2.0|         0.0|       0.0|           0.0|                0.0|                  0.0|        0.0|       0.0|         0.0|                  0.0|   0.0|     0.0|        0.0|                  0.0|     0.0|    0.0|          0.0| 3.5|            0.0|   0.0|    0.0|          0.0|            0.0| 0.0|     0.0|         0.0|      0.0|       0.0|    0.0|             0.0|     0.0|         0.0|                    0.0|      0.0|       0.0|  0.0|    0.0|                  0.0|          0.0|    0.0|       0.0|  0.0|       0.0|    0.0|   0.0|       0.0|      0.0|               4.0|      0.0|     0.0|   0.0|    0.0|       0.0|    0.0|              0.0|    0.0|                0.0|    0.0|    0.0|  0.0|      0.0|         0.0|      0.0|           4.0|         0.0|             0.0|                  0.0|      0.0|        0.0|       0.0|               0.0|     0.0|               0.0|               0.0|      0.0|            0.0|                0.0|      0.0|    0.0|     0.0|              0.0|           0.0|         0.0|         0.0|         0.0|          0.0|                  0.0|                0.0|    0.0|          0.0|                 0.0|     0.0|   0.0|     0.0|            0.0|          0.0|         0.0|                  0.0|              0.0|                    0.0|      0.0|         0.0|         0.0|        0.0|              0.0|                         0.0|      0.0|        0.0|               0.0|            0.0|            0.0|              0.0|              0.0|                      0.0|                0.0|     0.0|                       0.0|                         0.0|      0.0|  0.0|     0.0|              0.0|         0.0|                   0.0|            0.0|  0.0|            0.0|0.0|               0.0|        0.0|          0.0|       0.0|          0.0|     0.0|         0.0|  0.0|     0.0|              0.0|                          0.0|           0.0|     0.0|    0.0|   4.0|           0.0|           0.0|         0.0|      0.0|                0.0|    0.0|      0.0|        0.0|    0.0|   0.0|            0.0|       0.0|         0.0|                   0.0|      0.0|      0.0|     0.0|        0.0|               0.0|    0.0|                   0.0|         0.0|         0.0|               0.0|            0.0|      0.0|        0.0|           0.0|              0.0|                      0.0|             0.0|            0.0|                0.0|          0.0|    0.0|            0.0|           0.0|    0.0|      0.0|      0.0|     0.0|               0.0|               0.0|         0.0|                  0.0|      0.0|     0.0|             0.0|     0.0|            0.0|   0.0|               5.0|       0.0|                   0.0|        0.0|       0.0|        0.0|      0.0|        0.0|    0.0|   0.0|             0.0|         0.0|               0.0|             0.0|                   0.0|             0.0|                 0.0|         0.0|       3.5|     0.0|   0.0|              0.0|   0.0|       0.0|        0.0|        0.0|           0.0|  0.0|    0.0| 0.0|   0.0|            0.0|         0.0|        0.0|          0.0|    0.0|  0.0|  0.0|     0.0|            0.0| 0.0|     0.0|       0.0|             0.0|           0.0|            0.0|                            0.0|               0.0|          0.0|             0.0|        0.0|          0.0|                    0.0|          0.0|       0.0|             0.0|              0.0|          0.0|         0.0|                 0.0|        0.0|      0.0|    0.0|     0.0|    0.0|              0.0|              0.0|      0.0|                          0.0|    0.0|                      0.0|            0.0|          0.0|   0.0|       0.0|      0.0|            0.0|          0.0|                  0.0|           0.0|                       0.0|      0.0|  0.0|      0.0|    0.0|    0.0|               0.0|         0.0|    0.0|           0.0|                   0.0|                   0.0|    0.0|  0.0|              0.0|           0.0|             0.0|              0.0|   0.0|   0.0|                             0.0|        0.0|    0.0|                    0.0|               0.0|      0.0|           0.0|             0.0|    0.0|          0.0|     0.0|           0.0|            0.0|      0.0|                          0.0|  0.0|     0.0|          0.0|         0.0|           0.0|    0.0|    0.0|     0.0| 0.0|           0.0|      0.0|      0.0|         0.0|    0.0|            0.0|            0.0|           0.0|       0.0|       0.0|            0.0|         0.0|             0.0|               0.0|          0.0|           0.0|    0.0|           5.0|                          0.0|                     0.0|                0.0|          0.0|            0.0|      0.0|     0.0|               0.0|            0.0|   0.0|    0.0|         0.0|          0.0|         0.0|                        0.0|                           0.0|        0.0|             0.0|                  0.0|                   0.0|       0.0|      3.5|    0.0|                  0.0|          0.0|          0.0|            0.0|             0.0|                0.0|           0.0|         0.0|           0.0|          0.0|                   0.0|                     0.0|         0.0|          0.0|             0.0|        0.0|      0.0|      0.0|     0.0|    0.0|  0.0|                   0.0|           0.0|                     0.0|        0.0|                 0.0|       0.0|             0.0|               0.0|          0.0|            0.0|          0.0|             0.0|            0.0|           0.0|              0.0|     0.0|         0.0|         0.0|         0.0|        0.0|       0.0|         0.0| 0.0|     0.0|          0.0|                          0.0|             0.0|       0.0|     0.0|    0.0|  0.0|        0.0|     0.0| 0.0|   0.0|       0.0|         0.0|       0.0|         0.0|        0.0|       0.0|              0.0|                  0.0|                  0.0|                      0.0|       0.0|           0.0|             0.0|                         0.0|                  0.0| 5.0|        0.0|  0.0|        0.0|               0.0|                 0.0|                          0.0|               0.0|        0.0|                    0.0|    0.0|               4.0|    0.0|                0.0|    0.0| 0.0|    0.0|  0.0|       0.0|       0.0|         0.0|     0.0|            0.0|    0.0|            0.0|         0.0|                0.0|                 0.0|            0.0|         0.0|       0.0|        0.0|        0.0|       0.0|        0.0|     0.0|             0.0|               0.0|        0.0|          0.0|      0.0|                0.0|       0.0|         0.0|      0.0| 0.0|          0.0|     0.0|    0.0|        0.0|              0.0|              0.0|              0.0|           0.0|        2.0|         0.0|            0.0|        0.0|   0.0|       0.0|              0.0|        0.0|           0.0|         0.0|       0.0|                  0.0|         0.0|       0.0|                     0.0|           0.0|     0.0|   0.0|     0.0|           0.0|  0.0|    0.0|      0.0|    0.0|         0.0|       0.0|               5.0|            0.0|   0.0|           0.0|         0.0|  0.0|      0.0|                     0.0|                         0.0|   0.0|    0.0| 0.0|         0.0|               0.0|          0.0|         0.0|      0.0|  0.0|          0.0|  0.0|   0.0|       0.0|                         0.0|           0.0|     0.0|             0.0|                0.0|           0.0|            0.0|         0.0|    0.0| 0.0|      0.0|        0.0| 0.0|             0.0|       0.0|  0.0|       0.0|       0.0|                  0.0|          0.0|              0.0|                  0.0|                       0.0|       0.0|                  0.0|          0.0|                   0.0|    0.0|            0.0|          0.0|         0.0|    0.0|                             0.0|                        0.0|               0.0|             0.0|                0.0|         0.0|             0.0| 0.0|                             0.0|           0.0|      0.0|     0.0|             0.0|  0.0| 0.0| 0.0|\n",
      "|12gjGUJYPxDqy21x6...|       0.0|        0.0|        0.0|           0.0|        3.0|        0.0|                0.0|   0.0|    0.0|     0.0|            0.0|             0.0|     0.0|                 0.0|           0.0|                   0.0|            0.0|            0.0|     0.0|       0.0|       0.0|                0.0|      0.0|    0.0|    0.0|    0.0|      0.0|        0.0|          0.0|        0.0|        0.0|         0.0|          0.0|                 5.0|         0.0|       0.0|           0.0|                0.0|                  0.0|        0.0|       0.0|         0.0|                  0.0|   0.0|     0.0|        0.0|                  0.0|     0.0|    0.0|          0.0| 5.0|            0.0|   0.0|    0.0|          0.0|            0.0| 0.0|     0.0|         0.0|      0.0|       0.0|    0.0|             0.0|     0.0|         0.0|                    0.0|      0.0|       0.0|  0.0|    0.0|                  0.0|          0.0|    0.0|       0.0|  0.0|       0.0|    0.0|   0.0|       0.0|      0.0|               0.0|      5.0|     0.0|   0.0|    0.0|       0.0|    0.0|              0.0|    5.0|                0.0|    0.0|    0.0|  0.0|      0.0|         0.0|      0.0|           5.0|         0.0|             0.0|                  0.0|      0.0|        0.0|       0.0|               0.0|     0.0|               0.0|               0.0|      0.0|            0.0|                0.0|      0.0|    0.0|     0.0|              0.0|           0.0|         0.0|         0.0|         0.0|          0.0|                  0.0|                0.0|    0.0|          0.0|                 0.0|     0.0|   0.0|     0.0|            0.0|          0.0|         0.0|                  0.0|              0.0|                    0.0|      0.0|         0.0|         5.0|        0.0|              0.0|                         0.0|      0.0|        0.0|               0.0|            0.0|            0.0|              0.0|              0.0|                      0.0|                0.0|     0.0|                       0.0|                         0.0|      0.0|  0.0|     0.0|              0.0|         0.0|                   0.0|            0.0|  0.0|            0.0|0.0|               0.0|        5.0|          0.0|       0.0|          0.0|     0.0|         0.0|  0.0|     0.0|              0.0|                          0.0|           0.0|     0.0|    0.0|   0.0|           0.0|           0.0|         0.0|      0.0|                0.0|    0.0|      0.0|        0.0|    0.0|   0.0|            0.0|       0.0|         0.0|                   0.0|      0.0|      0.0|     0.0|        0.0|               0.0|    0.0|                   0.0|         0.0|         0.0|               0.0|            0.0|      0.0|        5.0|           0.0|              0.0|                      0.0|             0.0|            0.0|                0.0|          0.0|    0.0|            0.0|           0.0|    0.0|      0.0|      0.0|     0.0|               0.0|               0.0|         0.0|                  3.0|      0.0|     0.0|             0.0|     0.0|            0.0|   0.0|               5.0|       0.0|                   0.0|        0.0|       0.0|        0.0|      0.0|        0.0|    0.0|   0.0|             0.0|         0.0|               0.0|             0.0|                   0.0|             0.0|                 0.0|         0.0|       0.0|     0.0|   0.0|              0.0|   0.0|       0.0|        0.0|        0.0|           0.0|  0.0|    0.0| 3.0|   0.0|            0.0|         0.0|        0.0|          0.0|    0.0|  0.0|  0.0|     0.0|            0.0| 0.0|     0.0|       0.0|             0.0|           0.0|            0.0|                            0.0|               0.0|          0.0|             0.0|        0.0|          0.0|                    0.0|          0.0|       0.0|             0.0|              0.0|          0.0|         0.0|                 0.0|        0.0|      0.0|    0.0|     0.0|    0.0|              0.0|              0.0|      0.0|                          5.0|    0.0|                      0.0|            0.0|          5.0|   0.0|       0.0|      0.0|            0.0|          0.0|                  0.0|           0.0|                       0.0|      0.0|  0.0|      0.0|    0.0|    0.0|               5.0|         0.0|    0.0|           0.0|                   5.0|                   0.0|    0.0|  0.0|              0.0|           0.0|             0.0|              0.0|   0.0|   0.0|                             0.0|        0.0|    0.0|                    0.0|               0.0|      0.0|           0.0|             0.0|    0.0|          0.0|     0.0|           0.0|            0.0|      0.0|                          0.0|  0.0|     0.0|          0.0|         0.0|           5.0|    0.0|    0.0|     0.0| 0.0|           0.0|      0.0|      0.0|         0.0|    0.0|            0.0|            0.0|           0.0|       0.0|       0.0|            0.0|         0.0|             0.0|               0.0|          0.0|           0.0|    0.0|           0.0|                          0.0|                     0.0|                0.0|          0.0|            0.0|      0.0|     0.0|               0.0|            0.0|   0.0|    0.0|         0.0|          0.0|         5.0|                        0.0|                           0.0|        0.0|             0.0|                  0.0|                   0.0|       0.0|      5.0|    0.0|                  0.0|          0.0|          0.0|            0.0|             0.0|                0.0|           0.0|         0.0|           0.0|          0.0|                   0.0|                     0.0|         0.0|          0.0|             0.0|        0.0|      0.0|      0.0|     0.0|    0.0|  0.0|                   0.0|           0.0|                     0.0|        0.0|                 0.0|       0.0|             0.0|               0.0|          0.0|            0.0|          0.0|             0.0|            0.0|           0.0|              0.0|     0.0|         0.0|         0.0|         0.0|        0.0|       0.0|         0.0| 0.0|     0.0|          0.0|                          0.0|             0.0|       0.0|     0.0|    0.0|  0.0|        0.0|     0.0| 0.0|   0.0|       0.0|         0.0|       0.0|         0.0|        0.0|       0.0|              0.0|                  0.0|                  0.0|                      0.0|       0.0|           0.0|             0.0|                         0.0|                  0.0| 5.0|        0.0|  0.0|        0.0|               0.0|                 0.0|                          0.0|               0.0|        0.0|                    0.0|    0.0|               5.0|    0.0|                0.0|    0.0| 0.0|    0.0|  0.0|       0.0|       0.0|         0.0|     0.0|            0.0|    0.0|            0.0|         0.0|                0.0|                 0.0|            0.0|         0.0|       0.0|        0.0|        0.0|       0.0|        0.0|     0.0|             0.0|               0.0|        0.0|          0.0|      0.0|                0.0|       0.0|         0.0|      0.0| 0.0|          0.0|     0.0|    0.0|        0.0|              0.0|              5.0|              0.0|           0.0|        0.0|         1.0|            0.0|        0.0|   0.0|       0.0|              0.0|        0.0|           0.0|         0.0|       0.0|                  0.0|         0.0|       5.0|                     0.0|           0.0|     0.0|   0.0|     0.0|           0.0|  0.0|    0.0|      0.0|    0.0|         0.0|       0.0|               0.0|            0.0|   0.0|           0.0|         0.0|  0.0|      0.0|                     0.0|                         0.0|   0.0|    0.0| 5.0|         0.0|               0.0|          0.0|         0.0|      0.0|  0.0|          0.0|  0.0|   0.0|       0.0|                         0.0|           0.0|     1.0|             0.0|                0.0|           0.0|            0.0|         0.0|    0.0| 0.0|      0.0|        0.0| 0.0|             0.0|       0.0|  0.0|       0.0|       0.0|                  0.0|          0.0|              0.0|                  0.0|                       0.0|       5.0|                  0.0|          0.0|                   0.0|    0.0|            0.0|          0.0|         0.0|    0.0|                             0.0|                        0.0|               0.0|             0.0|                0.0|         0.0|             0.0| 0.0|                             0.0|           0.0|      0.0|     0.0|             0.0|  0.0| 5.0| 0.0|\n",
      "|14fOvgK8-Q4rj9AYd...|       0.0|        0.0|        0.0|           0.0|        0.0|        0.0|                0.0|   0.0|    0.0|     0.0|            0.0|             0.0|     0.0|                 0.0|           4.0|                   3.0|            0.0|            0.0|     0.0|       0.0|       0.0|                0.0|      0.0|    0.0|    0.0|    0.0|      0.0|        0.0|          0.0|        0.0|        0.0|         0.0|          0.0|                 0.0|         4.0|       0.0|           0.0|                0.0|                  0.0|        0.0|       0.0|         0.0|                  0.0|   0.0|     0.0|        0.0|                  0.0|     0.0|    0.0|          0.0| 0.0|            0.0|   0.0|    0.0|          0.0|            0.0| 0.0|     0.0|         0.0|      0.0|       0.0|    4.0|             0.0|     0.0|         0.0|                    0.0|      0.0|       0.0|  0.0|    0.0|                  0.0|          0.0|    0.0|       0.0|  0.0|       0.0|    0.0|   0.0|       0.0|      0.0|               4.0|      0.0|     0.0|   0.0|    0.0|       0.0|    0.0|              0.0|    0.0|                0.0|    0.0|    0.0|  0.0|      0.0|         0.0|      0.0|           0.0|         0.0|             0.0|                  0.0|      0.0|        0.0|       0.0|               0.0|     0.0|               0.0|               0.0|      0.0|            0.0|                0.0|      0.0|    0.0|     0.0|              0.0|           0.0|         0.0|         0.0|         0.0|          0.0|                  0.0|                0.0|    4.0|          0.0|                 0.0|     0.0|   0.0|     0.0|            0.0|          0.0|         0.0|                  0.0|              0.0|                    0.0|      0.0|         0.0|         0.0|        0.0|              0.0|                         0.0|      0.0|        0.0|               0.0|            0.0|            0.0|              0.0|              0.0|                      0.0|                0.0|     0.0|                       0.0|                         0.0|      0.0|  0.0|     0.0|              0.0|         0.0|                   0.0|            0.0|  0.0|            0.0|0.0|               0.0|        0.0|          0.0|       0.0|          0.0|     0.0|         0.0|  0.0|     0.0|              0.0|                          0.0|           0.0|     0.0|    0.0|   0.0|           0.0|           0.0|         0.0|      0.0|                0.0|    0.0|      0.0|        0.0|    0.0|   0.0|            0.0|       0.0|         0.0|                   0.0|      0.0|      0.0|     0.0|        0.0|               0.0|    0.0|                   0.0|         0.0|         0.0|               0.0|            0.0|      0.0|        0.0|           0.0|              0.0|                      0.0|             0.0|            0.0|                0.0|          0.0|    0.0|            0.0|           0.0|    0.0|      0.0|      0.0|     0.0|               0.0|               0.0|         0.0|                  0.0|      0.0|     0.0|             0.0|     0.0|            0.0|   0.0|               0.0|       0.0|                   0.0|        0.0|       0.0|        0.0|      0.0|        0.0|    0.0|   4.0|             0.0|         0.0|               0.0|             0.0|                   0.0|             0.0|                 0.0|         0.0|       0.0|     0.0|   0.0|              0.0|   0.0|       0.0|        0.0|        0.0|           0.0|  0.0|    0.0| 0.0|   0.0|            0.0|         0.0|        0.0|          0.0|    0.0|  0.0|  0.0|     0.0|            0.0| 0.0|     0.0|       0.0|             0.0|           0.0|            0.0|                            0.0|               0.0|          0.0|             0.0|        0.0|          0.0|                    0.0|          0.0|       0.0|             0.0|              0.0|          0.0|         0.0|                 0.0|        0.0|      0.0|    0.0|     0.0|    0.0|              0.0|              0.0|      0.0|                          0.0|    0.0|                      0.0|            0.0|          0.0|   0.0|       0.0|      0.0|            0.0|          0.0|                  0.0|           0.0|                       0.0|      0.0|  0.0|      0.0|    1.0|    0.0|               4.0|         0.0|    0.0|           0.0|                   0.0|                   0.0|    0.0|  0.0|              0.0|           0.0|             0.0|              0.0|   4.0|   0.0|                             0.0|        0.0|    0.0|                    0.0|               0.0|      0.0|           0.0|             0.0|    0.0|          0.0|     0.0|           0.0|            0.0|      0.0|                          0.0|  0.0|     0.0|          0.0|         0.0|           0.0|    0.0|    0.0|     0.0| 0.0|           0.0|      0.0|      0.0|         0.0|    0.0|            0.0|            0.0|           0.0|       0.0|       0.0|            0.0|         0.0|             0.0|               0.0|          0.0|           0.0|    0.0|           0.0|                          0.0|                     0.0|                0.0|          0.0|            0.0|      0.0|     0.0|               0.0|            0.0|   0.0|    0.0|         0.0|          0.0|         0.0|                        0.0|                           0.0|        0.0|             0.0|                  0.0|                   0.0|       0.0|      0.0|    4.0|                  0.0|          0.0|          0.0|            0.0|             0.0|                0.0|           0.0|         0.0|           0.0|          0.0|                   0.0|                     0.0|         0.0|          0.0|             0.0|        0.0|      0.0|      0.0|     0.0|    0.0|  0.0|                   0.0|           0.0|                     0.0|        0.0|                 0.0|       0.0|             0.0|               0.0|          0.0|            0.0|          0.0|             0.0|            0.0|           0.0|              0.0|     0.0|         0.0|         0.0|         0.0|        0.0|       0.0|         0.0| 0.0|     0.0|          0.0|                          0.0|             0.0|       0.0|     0.0|    0.0|  1.0|        0.0|     0.0| 0.0|   0.0|       0.0|         0.0|       0.0|         0.0|        0.0|       0.0|              0.0|                  0.0|                  0.0|                      0.0|       0.0|           0.0|             0.0|                         0.0|                  0.0| 0.0|        0.0|  4.0|        0.0|               0.0|                 0.0|                          0.0|               0.0|        0.0|                    0.0|    0.0|               3.0|    0.0|                0.0|    0.0| 0.0|    0.0|  0.0|       0.0|       0.0|         0.0|     0.0|            0.0|    0.0|            0.0|         0.0|                0.0|                 0.0|            0.0|         0.0|       0.0|        0.0|        0.0|       0.0|        0.0|     0.0|             0.0|               0.0|        0.0|          0.0|      0.0|                0.0|       0.0|         0.0|      0.0| 4.0|          0.0|     0.0|    0.0|        0.0|              0.0|              0.0|              0.0|           0.0|        0.0|         0.0|            0.0|        0.0|   0.0|       0.0|              0.0|        0.0|           0.0|         0.0|       0.0|                  0.0|         0.0|       0.0|                     0.0|           0.0|     0.0|   0.0|     0.0|           0.0|  0.0|    0.0|      0.0|    0.0|         0.0|       0.0|               0.0|            0.0|   0.0|           0.0|         0.0|  0.0|      0.0|                     0.0|                         0.0|   0.0|    0.0| 0.0|         0.0|               0.0|          0.0|         0.0|      0.0|  0.0|          0.0|  0.0|   0.0|       0.0|                         0.0|           0.0|     0.0|             0.0|                0.0|           0.0|            0.0|         0.0|    0.0| 0.0|      0.0|        0.0| 0.0|             0.0|       0.0|  0.0|       0.0|       0.0|                  0.0|          0.0|              0.0|                  0.0|                       0.0|       0.0|                  0.0|          0.0|                   0.0|    0.0|            0.0|          0.0|         0.0|    0.0|                             0.0|                        0.0|               0.0|             0.0|                0.0|         0.0|             0.0| 0.0|                             0.0|           0.0|      0.0|     0.0|             0.0|  0.0| 0.0| 0.0|\n",
      "|1ct65kQwVm6LGElca...|       0.0|        0.0|        0.0|           0.0|        0.0|        0.0|                0.0|   0.0|    0.0|     0.0|            0.0|             0.0|     0.0|                 0.0|           0.0|                   0.0|            0.0|            0.0|     0.0|       0.0|       0.0|                0.0|      0.0|    0.0|    0.0|    0.0|      0.0|        0.0|          0.0|        0.0|        0.0|         0.0|          0.0|                 0.0|         0.0|       0.0|           0.0|                0.0|                  0.0|        0.0|       0.0|         0.0|                  0.0|   0.0|     0.0|        0.0|                  0.0|     0.0|    0.0|          0.0| 0.0|            0.0|   0.0|    0.0|          0.0|            0.0| 0.0|     0.0|         0.0|      0.0|       0.0|    0.0|             0.0|     0.0|         0.0|                    0.0|      0.0|       0.0|  0.0|    0.0|                  0.0|          0.0|    0.0|       0.0|  0.0|       0.0|    0.0|   0.0|       0.0|      0.0|               0.0|      0.0|     0.0|   0.0|    0.0|       0.0|    0.0|              0.0|    0.0|                0.0|    0.0|    0.0|  0.0|      0.0|         0.0|      0.0|           0.0|         0.0|             0.0|                  0.0|      0.0|        0.0|       0.0|               0.0|     0.0|               0.0|               0.0|      0.0|            0.0|                0.0|      0.0|    0.0|     0.0|              0.0|           0.0|         0.0|         0.0|         0.0|          0.0|                  0.0|                0.0|    0.0|          0.0|                 0.0|     0.0|   0.0|     0.0|            0.0|          0.0|         0.0|                  0.0|              0.0|                    0.0|      0.0|         0.0|         0.0|        0.0|              0.0|                         0.0|      0.0|        0.0|               0.0|            0.0|            0.0|              0.0|              0.0|                      0.0|                0.0|     0.0|                       0.0|                         0.0|      0.0|  0.0|     0.0|              0.0|         0.0|                   0.0|            0.0|  0.0|            0.0|0.0|               0.0|        0.0|          0.0|       0.0|          0.0|     0.0|         0.0|  0.0|     0.0|              0.0|                          0.0|           0.0|     0.0|    0.0|   0.0|           0.0|           0.0|         0.0|      0.0|                0.0|    0.0|      0.0|        0.0|    0.0|   0.0|            0.0|       0.0|         0.0|                   0.0|      0.0|      0.0|     0.0|        0.0|               0.0|    0.0|                   0.0|         0.0|         0.0|               0.0|            0.0|      0.0|        0.0|           0.0|              0.0|                      0.0|             0.0|            0.0|                0.0|          0.0|    0.0|            0.0|           0.0|    0.0|      0.0|      0.0|     0.0|               0.0|               0.0|         0.0|                  0.0|      0.0|     0.0|             0.0|     0.0|            0.0|   0.0|               0.0|       0.0|                   0.0|        0.0|       0.0|        0.0|      0.0|        0.0|    0.0|   0.0|             0.0|         0.0|               0.0|             0.0|                   0.0|             0.0|                 0.0|         0.0|       0.0|     0.0|   0.0|              0.0|   0.0|       0.0|        0.0|        0.0|           0.0|  5.0|    0.0| 0.0|   0.0|            0.0|         0.0|        0.0|          0.0|    0.0|  0.0|  0.0|     0.0|            0.0| 0.0|     0.0|       0.0|             0.0|           0.0|            0.0|                            0.0|               0.0|          0.0|             0.0|        0.0|          0.0|                    0.0|          0.0|       0.0|             0.0|              0.0|          0.0|         0.0|                 0.0|        0.0|      0.0|    0.0|     0.0|    0.0|              0.0|              0.0|      0.0|                          0.0|    0.0|                      0.0|            0.0|          0.0|   0.0|       0.0|      0.0|            0.0|          0.0|                  0.0|           0.0|                       0.0|      0.0|  0.0|      0.0|    0.0|    0.0|               0.0|         0.0|    0.0|           0.0|                   0.0|                   0.0|    0.0|  0.0|              0.0|           0.0|             0.0|              0.0|   0.0|   0.0|                             0.0|        0.0|    0.0|                    0.0|               0.0|      0.0|           0.0|             0.0|    0.0|          0.0|     0.0|           0.0|            0.0|      0.0|                          0.0|  0.0|     0.0|          0.0|         0.0|           0.0|    0.0|    0.0|     0.0| 0.0|           0.0|      0.0|      0.0|         0.0|    0.0|            0.0|            0.0|           0.0|       0.0|       0.0|            0.0|         0.0|             0.0|               0.0|          5.0|           0.0|    0.0|           0.0|                          0.0|                     0.0|                0.0|          0.0|            0.0|      0.0|     0.0|               0.0|            0.0|   0.0|    0.0|         0.0|          0.0|         0.0|                        0.0|                           0.0|        0.0|             0.0|                  0.0|                   0.0|       0.0|      0.0|    0.0|                  0.0|          0.0|          0.0|            0.0|             0.0|                0.0|           0.0|         0.0|           0.0|          0.0|                   0.0|                     0.0|         0.0|          0.0|             0.0|        0.0|      0.0|      0.0|     0.0|    0.0|  0.0|                   0.0|           0.0|                     0.0|        0.0|                 0.0|       0.0|             0.0|               0.0|          0.0|            0.0|          0.0|             0.0|            0.0|           0.0|              0.0|     0.0|         0.0|         0.0|         0.0|        0.0|       0.0|         0.0| 0.0|     0.0|          0.0|                          0.0|             0.0|       0.0|     0.0|    0.0|  0.0|        0.0|     0.0| 0.0|   0.0|       0.0|         0.0|       0.0|         0.0|        0.0|       0.0|              0.0|                  0.0|                  0.0|                      0.0|       0.0|           0.0|             0.0|                         0.0|                  0.0| 0.0|        0.0|  0.0|        0.0|               0.0|                 0.0|                          0.0|               0.0|        0.0|                    0.0|    0.0|               5.0|    0.0|                0.0|    0.0| 0.0|    0.0|  0.0|       0.0|       0.0|         0.0|     0.0|            0.0|    0.0|            0.0|         0.0|                0.0|                 0.0|            0.0|         0.0|       0.0|        0.0|        0.0|       0.0|        0.0|     0.0|             0.0|               0.0|        0.0|          0.0|      0.0|                0.0|       0.0|         0.0|      0.0| 0.0|          0.0|     0.0|    0.0|        0.0|              0.0|              0.0|              0.0|           0.0|        0.0|         0.0|            0.0|        0.0|   0.0|       0.0|              0.0|        0.0|           0.0|         0.0|       0.0|                  0.0|         0.0|       0.0|                     0.0|           0.0|     0.0|   0.0|     0.0|           0.0|  0.0|    0.0|      0.0|    0.0|         0.0|       0.0|               0.0|            0.0|   0.0|           0.0|         0.0|  0.0|      0.0|                     0.0|                         0.0|   0.0|    0.0| 0.0|         0.0|               0.0|          0.0|         0.0|      0.0|  0.0|          0.0|  0.0|   0.0|       0.0|                         0.0|           0.0|     0.0|             0.0|                0.0|           0.0|            0.0|         0.0|    0.0| 0.0|      0.0|        0.0| 0.0|             0.0|       0.0|  0.0|       0.0|       0.0|                  0.0|          0.0|              0.0|                  0.0|                       0.0|       0.0|                  0.0|          0.0|                   0.0|    0.0|            0.0|          0.0|         0.0|    0.0|                             0.0|                        0.0|               0.0|             0.0|                0.0|         0.0|             0.0| 0.0|                             0.0|           0.0|      0.0|     0.0|             0.0|  0.0| 0.0| 0.0|\n",
      "|1jkVJxzuqWrKBbNa9...|       0.0|        0.0|        0.0|           0.0|        0.0|        0.0|                0.0|   0.0|    0.0|     0.0|            0.0|             0.0|     0.0|                 0.0|           0.0|                   0.0|            0.0|            0.0|     0.0|       0.0|       0.0|                0.0|      0.0|    0.0|    0.0|    0.0|      0.0|        0.0|          0.0|        0.0|        0.0|         0.0|          0.0|                 0.0|         0.0|       0.0|           0.0|                0.0|                  0.0|        0.0|       0.0|         0.0|                  0.0|   0.0|     0.0|        0.0|                  0.0|     0.0|    0.0|          0.0| 0.0|            0.0|   0.0|    0.0|          0.0|            0.0| 0.0|     0.0|         0.0|      0.0|       0.0|    0.0|             0.0|     0.0|         0.0|                    0.0|      0.0|       0.0|  0.0|    0.0|                  0.0|          0.0|    0.0|       0.0|  0.0|       0.0|    0.0|   0.0|       0.0|      0.0|               4.0|      0.0|     0.0|   0.0|    0.0|       0.0|    0.0|              0.0|    0.0|                0.0|    0.0|    0.0|  0.0|      0.0|         0.0|      0.0|           0.0|         0.0|             0.0|                  0.0|      0.0|        0.0|       0.0|               0.0|     0.0|               0.0|               0.0|      0.0|            0.0|                0.0|      0.0|    0.0|     0.0|              0.0|           0.0|         0.0|         0.0|         0.0|          0.0|                  0.0|                0.0|    0.0|          0.0|                 0.0|     0.0|   0.0|     0.0|            0.0|          0.0|         4.0|                  0.0|              0.0|                    0.0|      0.0|         0.0|         0.0|        0.0|              0.0|                         0.0|      0.0|        0.0|               0.0|            0.0|            0.0|              0.0|              0.0|                      0.0|                0.0|     0.0|                       0.0|                         0.0|      0.0|  0.0|     0.0|              0.0|         0.0|                   0.0|            0.0|  0.0|            0.0|0.0|               0.0|        0.0|          0.0|       0.0|          0.0|     0.0|         0.0|  0.0|     0.0|              0.0|                          0.0|           0.0|     3.5|    0.0|   0.0|           0.0|           0.0|         0.0|      0.0|                0.0|    0.0|      0.0|        0.0|    0.0|   0.0|            0.0|       0.0|         0.0|                   0.0|      0.0|      0.0|     0.0|        0.0|               0.0|    0.0|                   0.0|         0.0|         0.0|               0.0|            0.0|      0.0|        0.0|           0.0|              0.0|                      0.0|             0.0|            0.0|                0.0|          0.0|    0.0|            0.0|           0.0|    0.0|      0.0|      0.0|     0.0|               0.0|               0.0|         0.0|                  0.0|      0.0|     0.0|             0.0|     0.0|            0.0|   0.0|               3.5|       0.0|                   0.0|        0.0|       0.0|        0.0|      0.0|        0.0|    0.0|   0.0|             0.0|         0.0|               0.0|             0.0|                   0.0|             0.0|                 0.0|         0.0|       0.0|     0.0|   0.0|              0.0|   0.0|       0.0|        0.0|        0.0|           0.0|  0.0|    0.0| 0.0|   0.0|            0.0|         0.0|        0.0|          0.0|    0.0|  0.0|  0.0|     0.0|            0.0| 0.0|     0.0|       0.0|             0.0|           0.0|            0.0|                            0.0|               0.0|          0.0|             0.0|        0.0|          0.0|                    0.0|          0.0|       0.0|             0.0|              0.0|          0.0|         0.0|                 0.0|        0.0|      0.0|    0.0|     0.0|    0.0|              0.0|              0.0|      0.0|                          0.0|    0.0|                      3.5|            0.0|          0.0|   0.0|       0.0|      0.0|            0.0|          0.0|                  0.0|           0.0|                       0.0|      0.0|  0.0|      0.0|    4.5|    0.0|               0.0|         0.0|    0.0|           0.0|                   0.0|                   0.0|    0.0|  0.0|              0.0|           0.0|             0.0|              0.0|   0.0|   0.0|                             0.0|        0.0|    0.0|                    0.0|               0.0|      0.0|           0.0|             0.0|    0.0|          0.0|     0.0|           0.0|            0.0|      0.0|                          0.0|  0.0|     0.0|          0.0|         0.0|           0.0|    0.0|    0.0|     0.0| 0.0|           0.0|      0.0|      0.0|         0.0|    0.0|            0.0|            0.0|           0.0|       0.0|       0.0|            0.0|         0.0|             0.0|               0.0|          0.0|           0.0|    0.0|           0.0|                          0.0|                     0.0|                0.0|          0.0|            0.0|      0.0|     0.0|               0.0|            0.0|   0.0|    0.0|         0.0|          0.0|         0.0|                        0.0|                           0.0|        0.0|             0.0|                  0.0|                   0.0|       0.0|      0.0|    0.0|                  0.0|          0.0|          0.0|            0.0|             0.0|                0.0|           0.0|         0.0|           0.0|          0.0|                   0.0|                     0.0|         0.0|          0.0|             0.0|        0.0|      0.0|      0.0|     4.0|    0.0|  0.0|                   0.0|           0.0|                     0.0|        0.0|                 0.0|       0.0|             0.0|               0.0|          0.0|            0.0|          0.0|             0.0|            0.0|           0.0|              0.0|     0.0|         0.0|         0.0|         0.0|        0.0|       0.0|         0.0| 0.0|     0.0|          0.0|                          0.0|             0.0|       0.0|     0.0|    0.0|  5.0|        0.0|     0.0| 0.0|   0.0|       0.0|         0.0|       0.0|         0.0|        0.0|       0.0|              0.0|                  0.0|                  0.0|                      0.0|       0.0|           0.0|             0.0|                         0.0|                  0.0| 0.0|        0.0|  0.0|        0.0|               0.0|                 0.0|                          0.0|               0.0|        0.0|                    0.0|    0.0| 4.333333333333333|    0.0|                0.0|    0.0| 0.0|    0.0|  0.0|       0.0|       5.0|         0.0|     0.0|            0.0|    0.0|            0.0|         0.0|                0.0|                 0.0|            0.0|         0.0|       0.0|        0.0|        0.0|       0.0|        0.0|     0.0|             0.0|               0.0|        0.0|          0.0|      0.0|                0.0|       0.0|         0.0|      0.0| 0.0|          0.0|     0.0|    0.0|        0.0|              0.0|              3.0|              0.0|           0.0|        0.0|         0.0|            0.0|        0.0|   0.0|       0.0|              0.0|        0.0|           0.0|         0.0|       0.0|                  0.0|         0.0|       0.0|                     0.0|           0.0|     0.0|   0.0|     0.0|           0.0|  0.0|    0.0|      0.0|    0.0|         0.0|       0.0|               0.0|            0.0|   0.0|           0.0|         0.0|  0.0|      0.0|                     0.0|                         0.0|   0.0|    0.0| 0.0|         0.0|               0.0|          0.0|         0.0|      0.0|  0.0|          0.0|  0.0|   0.0|       0.0|                         0.0|           0.0|     0.0|             0.0|                0.0|           0.0|            0.0|         0.0|    0.0| 0.0|      0.0|        0.0| 0.0|             0.0|       0.0|  0.0|       0.0|       0.0|                  0.0|          0.0|              0.0|                  0.0|                       0.0|       0.0|                  0.0|          0.0|                   0.0|    0.0|            0.0|          0.0|         0.0|    0.0|                             0.0|                        0.0|               0.0|             0.0|                0.0|         0.0|             0.0| 0.0|                             0.0|           0.0|      0.0|     0.0|             0.0|  0.0| 0.0| 0.0|\n",
      "+--------------------+----------+-----------+-----------+--------------+-----------+-----------+-------------------+------+-------+--------+---------------+----------------+--------+--------------------+--------------+----------------------+---------------+---------------+--------+----------+----------+-------------------+---------+-------+-------+-------+---------+-----------+-------------+-----------+-----------+------------+-------------+--------------------+------------+----------+--------------+-------------------+---------------------+-----------+----------+------------+---------------------+------+--------+-----------+---------------------+--------+-------+-------------+----+---------------+------+-------+-------------+---------------+----+--------+------------+---------+----------+-------+----------------+--------+------------+-----------------------+---------+----------+-----+-------+---------------------+-------------+-------+----------+-----+----------+-------+------+----------+---------+------------------+---------+--------+------+-------+----------+-------+-----------------+-------+-------------------+-------+-------+-----+---------+------------+---------+--------------+------------+----------------+---------------------+---------+-----------+----------+------------------+--------+------------------+------------------+---------+---------------+-------------------+---------+-------+--------+-----------------+--------------+------------+------------+------------+-------------+---------------------+-------------------+-------+-------------+--------------------+--------+------+--------+---------------+-------------+------------+---------------------+-----------------+-----------------------+---------+------------+------------+-----------+-----------------+----------------------------+---------+-----------+------------------+---------------+---------------+-----------------+-----------------+-------------------------+-------------------+--------+--------------------------+----------------------------+---------+-----+--------+-----------------+------------+----------------------+---------------+-----+---------------+---+------------------+-----------+-------------+----------+-------------+--------+------------+-----+--------+-----------------+-----------------------------+--------------+--------+-------+------+--------------+--------------+------------+---------+-------------------+-------+---------+-----------+-------+------+---------------+----------+------------+----------------------+---------+---------+--------+-----------+------------------+-------+----------------------+------------+------------+------------------+---------------+---------+-----------+--------------+-----------------+-------------------------+----------------+---------------+-------------------+-------------+-------+---------------+--------------+-------+---------+---------+--------+------------------+------------------+------------+---------------------+---------+--------+----------------+--------+---------------+------+------------------+----------+----------------------+-----------+----------+-----------+---------+-----------+-------+------+----------------+------------+------------------+----------------+----------------------+----------------+--------------------+------------+----------+--------+------+-----------------+------+----------+-----------+-----------+--------------+-----+-------+----+------+---------------+------------+-----------+-------------+-------+-----+-----+--------+---------------+----+--------+----------+----------------+--------------+---------------+-------------------------------+------------------+-------------+----------------+-----------+-------------+-----------------------+-------------+----------+----------------+-----------------+-------------+------------+--------------------+-----------+---------+-------+--------+-------+-----------------+-----------------+---------+-----------------------------+-------+-------------------------+---------------+-------------+------+----------+---------+---------------+-------------+---------------------+--------------+--------------------------+---------+-----+---------+-------+-------+------------------+------------+-------+--------------+----------------------+----------------------+-------+-----+-----------------+--------------+----------------+-----------------+------+------+--------------------------------+-----------+-------+-----------------------+------------------+---------+--------------+----------------+-------+-------------+--------+--------------+---------------+---------+-----------------------------+-----+--------+-------------+------------+--------------+-------+-------+--------+----+--------------+---------+---------+------------+-------+---------------+---------------+--------------+----------+----------+---------------+------------+----------------+------------------+-------------+--------------+-------+--------------+-----------------------------+------------------------+-------------------+-------------+---------------+---------+--------+------------------+---------------+------+-------+------------+-------------+------------+---------------------------+------------------------------+-----------+----------------+---------------------+----------------------+----------+---------+-------+---------------------+-------------+-------------+---------------+----------------+-------------------+--------------+------------+--------------+-------------+----------------------+------------------------+------------+-------------+----------------+-----------+---------+---------+--------+-------+-----+----------------------+--------------+------------------------+-----------+--------------------+----------+----------------+------------------+-------------+---------------+-------------+----------------+---------------+--------------+-----------------+--------+------------+------------+------------+-----------+----------+------------+----+--------+-------------+-----------------------------+----------------+----------+--------+-------+-----+-----------+--------+----+------+----------+------------+----------+------------+-----------+----------+-----------------+---------------------+---------------------+-------------------------+----------+--------------+----------------+----------------------------+---------------------+----+-----------+-----+-----------+------------------+--------------------+-----------------------------+------------------+-----------+-----------------------+-------+------------------+-------+-------------------+-------+----+-------+-----+----------+----------+------------+--------+---------------+-------+---------------+------------+-------------------+--------------------+---------------+------------+----------+-----------+-----------+----------+-----------+--------+----------------+------------------+-----------+-------------+---------+-------------------+----------+------------+---------+----+-------------+--------+-------+-----------+-----------------+-----------------+-----------------+--------------+-----------+------------+---------------+-----------+------+----------+-----------------+-----------+--------------+------------+----------+---------------------+------------+----------+------------------------+--------------+--------+------+--------+--------------+-----+-------+---------+-------+------------+----------+------------------+---------------+------+--------------+------------+-----+---------+------------------------+----------------------------+------+-------+----+------------+------------------+-------------+------------+---------+-----+-------------+-----+------+----------+----------------------------+--------------+--------+----------------+-------------------+--------------+---------------+------------+-------+----+---------+-----------+----+----------------+----------+-----+----------+----------+---------------------+-------------+-----------------+---------------------+--------------------------+----------+---------------------+-------------+----------------------+-------+---------------+-------------+------------+-------+--------------------------------+---------------------------+------------------+----------------+-------------------+------------+----------------+----+--------------------------------+--------------+---------+--------+----------------+-----+----+----+\n",
      "only showing top 20 rows\n",
      "\n"
     ]
    }
   ],
   "source": [
    "dist4.show()"
   ]
  },
  {
   "cell_type": "code",
   "execution_count": 134,
   "metadata": {
    "execution": {
     "iopub.execute_input": "2020-06-28T22:04:48.671039Z",
     "iopub.status.busy": "2020-06-28T22:04:48.670763Z",
     "iopub.status.idle": "2020-06-28T22:05:36.332685Z",
     "shell.execute_reply": "2020-06-28T22:05:36.331494Z",
     "shell.execute_reply.started": "2020-06-28T22:04:48.671013Z"
    }
   },
   "outputs": [],
   "source": [
    "dist4.write \\\n",
    "    .format('csv') \\\n",
    "    .mode('overwrite') \\\n",
    "    .option('sep', ',') \\\n",
    "    .option('header', True) \\\n",
    "    .save('output/yelp_dist.csv')"
   ]
  },
  {
   "cell_type": "code",
   "execution_count": null,
   "metadata": {},
   "outputs": [],
   "source": []
  }
 ],
 "metadata": {
  "kernelspec": {
   "display_name": "Python 3",
   "language": "python",
   "name": "python3"
  },
  "language_info": {
   "codemirror_mode": {
    "name": "ipython",
    "version": 3
   },
   "file_extension": ".py",
   "mimetype": "text/x-python",
   "name": "python",
   "nbconvert_exporter": "python",
   "pygments_lexer": "ipython3",
   "version": "3.7.7"
  },
  "toc": {
   "base_numbering": 1,
   "nav_menu": {},
   "number_sections": true,
   "sideBar": true,
   "skip_h1_title": false,
   "title_cell": "Table of Contents",
   "title_sidebar": "Contents",
   "toc_cell": false,
   "toc_position": {},
   "toc_section_display": true,
   "toc_window_display": false
  },
  "toc-autonumbering": true,
  "toc-showcode": true
 },
 "nbformat": 4,
 "nbformat_minor": 4
}
