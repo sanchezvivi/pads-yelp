{
 "cells": [
  {
   "cell_type": "markdown",
   "metadata": {},
   "source": [
    "# Atividade Integradora"
   ]
  },
  {
   "cell_type": "code",
   "execution_count": 1,
   "metadata": {
    "execution": {
     "iopub.execute_input": "2020-06-28T14:18:19.951625Z",
     "iopub.status.busy": "2020-06-28T14:18:19.951308Z",
     "iopub.status.idle": "2020-06-28T14:18:19.956585Z",
     "shell.execute_reply": "2020-06-28T14:18:19.955881Z",
     "shell.execute_reply.started": "2020-06-28T14:18:19.951593Z"
    }
   },
   "outputs": [],
   "source": [
    "import findspark as fs"
   ]
  },
  {
   "cell_type": "code",
   "execution_count": 2,
   "metadata": {
    "ExecuteTime": {
     "end_time": "2020-06-25T23:35:06.447196Z",
     "start_time": "2020-06-25T23:34:16.838507Z"
    },
    "execution": {
     "iopub.execute_input": "2020-06-28T14:18:21.019551Z",
     "iopub.status.busy": "2020-06-28T14:18:21.019255Z",
     "iopub.status.idle": "2020-06-28T14:18:22.576926Z",
     "shell.execute_reply": "2020-06-28T14:18:22.576384Z",
     "shell.execute_reply.started": "2020-06-28T14:18:21.019522Z"
    }
   },
   "outputs": [],
   "source": [
    "from pyspark.sql import SparkSession\n",
    "from pyspark.sql.types import *\n",
    "from pyspark.sql import functions as f\n",
    "from pyspark.sql.window import Window\n",
    "from pyspark.ml.feature import StopWordsRemover\n",
    "import pandas as pd\n",
    "import seaborn as sns\n",
    "sns.set(style=\"ticks\", palette=\"pastel\")\n",
    "import os\n",
    "from wordcloud import WordCloud, ImageColorGenerator\n",
    "import matplotlib.pyplot as plt\n",
    "%matplotlib inline"
   ]
  },
  {
   "cell_type": "code",
   "execution_count": 3,
   "metadata": {
    "execution": {
     "iopub.execute_input": "2020-06-28T14:18:23.382189Z",
     "iopub.status.busy": "2020-06-28T14:18:23.381937Z",
     "iopub.status.idle": "2020-06-28T14:18:23.390847Z",
     "shell.execute_reply": "2020-06-28T14:18:23.390335Z",
     "shell.execute_reply.started": "2020-06-28T14:18:23.382164Z"
    }
   },
   "outputs": [],
   "source": [
    "spark_location='/Users/vivi/server/spark' # Set your own\n",
    "java8_location= '/Library/Java/JavaVirtualMachines/jdk1.8.0_251.jdk/Contents/Home/' # Set your own\n",
    "os.environ['JAVA_HOME'] = java8_location\n",
    "fs.init(spark_home=spark_location)"
   ]
  },
  {
   "cell_type": "code",
   "execution_count": 4,
   "metadata": {
    "ExecuteTime": {
     "end_time": "2020-06-25T23:35:09.828210Z",
     "start_time": "2020-06-25T23:35:09.819873Z"
    },
    "execution": {
     "iopub.execute_input": "2020-06-28T14:18:24.197056Z",
     "iopub.status.busy": "2020-06-28T14:18:24.196764Z",
     "iopub.status.idle": "2020-06-28T14:18:24.200346Z",
     "shell.execute_reply": "2020-06-28T14:18:24.199571Z",
     "shell.execute_reply.started": "2020-06-28T14:18:24.197027Z"
    }
   },
   "outputs": [],
   "source": [
    "datapath = 'data'"
   ]
  },
  {
   "cell_type": "code",
   "execution_count": 5,
   "metadata": {
    "ExecuteTime": {
     "end_time": "2020-06-25T23:35:13.310248Z",
     "start_time": "2020-06-25T23:35:13.285813Z"
    },
    "execution": {
     "iopub.execute_input": "2020-06-28T14:18:24.896864Z",
     "iopub.status.busy": "2020-06-28T14:18:24.896591Z",
     "iopub.status.idle": "2020-06-28T14:18:24.900120Z",
     "shell.execute_reply": "2020-06-28T14:18:24.899460Z",
     "shell.execute_reply.started": "2020-06-28T14:18:24.896837Z"
    }
   },
   "outputs": [],
   "source": [
    "files = sorted(os.listdir(datapath))"
   ]
  },
  {
   "cell_type": "code",
   "execution_count": 6,
   "metadata": {
    "ExecuteTime": {
     "end_time": "2020-06-25T10:27:27.813392Z",
     "start_time": "2020-06-25T10:27:27.808226Z"
    },
    "execution": {
     "iopub.execute_input": "2020-06-28T14:18:25.458155Z",
     "iopub.status.busy": "2020-06-28T14:18:25.457857Z",
     "iopub.status.idle": "2020-06-28T14:18:25.463383Z",
     "shell.execute_reply": "2020-06-28T14:18:25.462712Z",
     "shell.execute_reply.started": "2020-06-28T14:18:25.458127Z"
    },
    "scrolled": true
   },
   "outputs": [
    {
     "data": {
      "text/plain": [
       "['.DS_Store',\n",
       " 'dataset list.rtf',\n",
       " 'yelp_academic_dataset_business.json',\n",
       " 'yelp_academic_dataset_checkin.json',\n",
       " 'yelp_academic_dataset_review.json',\n",
       " 'yelp_academic_dataset_tip.json',\n",
       " 'yelp_academic_dataset_user.json']"
      ]
     },
     "execution_count": 6,
     "metadata": {},
     "output_type": "execute_result"
    }
   ],
   "source": [
    "files"
   ]
  },
  {
   "cell_type": "code",
   "execution_count": 7,
   "metadata": {
    "ExecuteTime": {
     "end_time": "2020-06-25T10:15:29.867644Z",
     "start_time": "2020-06-25T10:15:29.751147Z"
    },
    "execution": {
     "iopub.execute_input": "2020-06-28T14:18:28.468058Z",
     "iopub.status.busy": "2020-06-28T14:18:28.467769Z",
     "iopub.status.idle": "2020-06-28T14:18:28.592780Z",
     "shell.execute_reply": "2020-06-28T14:18:28.591635Z",
     "shell.execute_reply.started": "2020-06-28T14:18:28.468030Z"
    }
   },
   "outputs": [
    {
     "name": "stdout",
     "output_type": "stream",
     "text": [
      "{\"review_id\":\"xQY8N_XvtGbearJ5X4QryQ\",\"user_id\":\"OwjRMXRC0KyPrIlcjaXeFQ\",\"business_id\":\"-MhfebM0QIsKt87iDN-FNw\",\"stars\":2.0,\"useful\":5,\"funny\":0,\"cool\":0,\"text\":\"As someone who has worked with many museums, I was eager to visit this gallery on my most recent trip to Las Vegas. When I saw they would be showing infamous eggs of the House of Faberge from the Virginia Museum of Fine Arts (VMFA), I knew I had to go!\\n\\nTucked away near the gelateria and the garden, the Gallery is pretty much hidden from view. It's what real estate agents would call \\\"cozy\\\" or \\\"charming\\\" - basically any euphemism for small.\\n\\nThat being said, you can still see wonderful art at a gallery of any size, so why the two *s you ask? Let me tell you:\\n\\n* pricing for this, while relatively inexpensive for a Las Vegas attraction, is completely over the top. For the space and the amount of art you can fit in there, it is a bit much.\\n* it's not kid friendly at all. Seriously, don't bring them.\\n* the security is not trained properly for the show. When the curating and design teams collaborate for exhibitions, there is a definite flow. That means visitors should view the art in a certain sequence, whether it be by historical period or cultural significance (this is how audio guides are usually developed). When I arrived in the gallery I could not tell where to start, and security was certainly not helpful. I was told to \\\"just look around\\\" and \\\"do whatever.\\\" \\n\\nAt such a *fine* institution, I find the lack of knowledge and respect for the art appalling.\",\"date\":\"2015-04-15 05:21:16\"}\n",
      "{\"review_id\":\"UmFMZ8PyXZTY2QcwzsfQYA\",\"user_id\":\"nIJD_7ZXHq-FX8byPMOkMQ\",\"business_id\":\"lbrU8StCq3yDfr-QMnGrmQ\",\"stars\":1.0,\"useful\":1,\"funny\":1,\"cool\":0,\"text\":\"I am actually horrified this place is still in business. My 3 year old son needed a haircut this past summer and the lure of the $7 kids cut signs got me in the door. We had to wait a few minutes as both stylists were working on people. The decor in this place is total garbage. It is so tacky. The sofa they had at the time was a pleather sofa with giant holes in it. And my son noticed ants crawling all over the floor and the furniture. It was disgusting and I should have walked out then. Actually, I should have turned around and walked out upon entering but I didn't. So the older black male stylist finishes the haircut he was doing and it's our turn. I tell him I want a #2 clipper around the back and sides and then hand cut the top into a standard boys cut. Really freaking simple, right? WRONG! Rather than use the clippers and go up to actually cut the hair, he went down. Using it moving downward doesn't cut hair, it just rubs against it. How does this man who has an alleged cosmetology license not know how to use a set of freaking clippers??? I realized almost immediately that he had no idea what he was doing. No idea at all. After about 10 minutes of watching this guy stumble through it, I said \\\"you know what? That's fine.\\\", paid and left. All I wanted to do was get out of that scummy joint and take my son to a real haircut place.\\n\\nBottom line: DO NOT GO HERE. RUN THE OTHER WAY!!!!!\",\"date\":\"2013-12-07 03:16:52\"}\n",
      "{\"review_id\":\"LG2ZaYiOgpr2DK_90pYjNw\",\"user_id\":\"V34qejxNsCbcgD8C0HVk-Q\",\"business_id\":\"HQl28KMwrEKHqhFrrDqVNQ\",\"stars\":5.0,\"useful\":1,\"funny\":0,\"cool\":0,\"text\":\"I love Deagan's. I do. I really do. The atmosphere is cozy and festive. The shrimp tacos and house fries are my standbys. The fries are sometimes good and sometimes great, and the spicy dipping sauce they come with is to die for. The beer list is amazing and the cocktails are great. The prices are mid-level, so it's not a cheap dive you can go to every week, but rather a treat when you do. Try it out. You won't be disappointed!\",\"date\":\"2015-12-05 03:18:11\"}\n",
      "{\"review_id\":\"i6g_oA9Yf9Y31qt0wibXpw\",\"user_id\":\"ofKDkJKXSKZXu5xJNGiiBQ\",\"business_id\":\"5JxlZaqCnk1MnbgRirs40Q\",\"stars\":1.0,\"useful\":0,\"funny\":0,\"cool\":0,\"text\":\"Dismal, lukewarm, defrosted-tasting \\\"TexMex\\\" glop;\\n\\nMumbly, unengaged waiter;\\n\\nClueless manager, who seeing us with barely nibbled entrees\\non plates shoved forward for pickup, thanked us\\nperfunctorily for our patronage;\\n\\nWe're from the Texas Hill Country;\\ndown there, we jail critters \\nwho serve up grub this bad,\\nfor their own protection.\\n\\nNever, never, NEVER again\\n(Back to Yard House for real food)\",\"date\":\"2011-05-27 05:30:52\"}\n",
      "{\"review_id\":\"6TdNDKywdbjoTkizeMce8A\",\"user_id\":\"UgMW8bLE0QMJDCkQ1Ax5Mg\",\"business_id\":\"IS4cv902ykd8wj1TR0N3-A\",\"stars\":4.0,\"useful\":0,\"funny\":0,\"cool\":0,\"text\":\"Oh happy day, finally have a Canes near my casa. Yes just as others are griping about the Drive thru is packed just like most of the other canes in the area but I like to go sit down to enjoy my chicken. The cashiers are pleasant and as far as food wise i have yet to receive any funky chicken. The clean up crew zips around the dining area constantly so it's usually well kept. My only gripe is the one fella with Red hair he makes the rounds while cleaning but no smile or personality a few nights ago he tossed the napkins i just put on the table to help go with my meal. After I was done he just reached for my tray no \\\"excuse me or are you done with that?\\\"  I realize he's trying to do his job quickly but a little table manners goes along way. That being said still like to grub here and glad that there's finally a Cane's close to me.\",\"date\":\"2017-01-14 21:56:57\"}\n",
      "{\"review_id\":\"L2O_INwlrRuoX05KSjc4eg\",\"user_id\":\"5vD2kmE25YBrbayKhykNxQ\",\"business_id\":\"nlxHRv1zXGT0c0K51q3jDg\",\"stars\":5.0,\"useful\":2,\"funny\":0,\"cool\":0,\"text\":\"This is definitely my favorite fast food sub shop. Ingredients are everything, and everything I see and taste here tells me that they're using top-grade fresh ingredients. The brisket sandwich is probably my favorite... and it's the one my wife ALWAYS gets. Unlike her, I often bounce around the menu to try different things. Definitely a step up from Subway, Quiznos, Jimmy Johns, etc in my opinion. As with all of my reviews, I grade each place relative to what I perceive to be its peers - so five star compared to them.\",\"date\":\"2013-05-07 07:25:25\"}\n",
      "{\"review_id\":\"ZayJ1zWyWgY9S_TRLT_y9Q\",\"user_id\":\"aq_ZxGHiri48TUXJlpRkCQ\",\"business_id\":\"Pthe4qk5xh4n-ef-9bvMSg\",\"stars\":5.0,\"useful\":1,\"funny\":0,\"cool\":0,\"text\":\"Really good place with simple decor, amazing food and great hospitality.\\nVery impressed with the lunch portion. Although service took little extra time but I have no complaints since they are quite new in business. The green curry chicken was good and to the right spice balance I asked for. I will definitely recommend this place to others.\",\"date\":\"2015-11-05 23:11:05\"}\n",
      "{\"review_id\":\"lpFIJYpsvDxyph-kPzZ6aA\",\"user_id\":\"dsd-KNYKMpx6ma_sRWCSkQ\",\"business_id\":\"FNCJpSn0tL9iqoY3JC73qw\",\"stars\":5.0,\"useful\":0,\"funny\":0,\"cool\":0,\"text\":\"Awesome office and staff, very professional and friendly. I saw Adam Garling PA-C and his assistant, they were very friendly, professional, and helpful. I highly recommend Centennial Dermatology! I will definitely return for more visits.\",\"date\":\"2017-07-18 18:31:54\"}\n",
      "{\"review_id\":\"JA-xnyHytKiOIHl_ztnK9Q\",\"user_id\":\"P6apihD4ASf1vpPxHODxAQ\",\"business_id\":\"e_BiI4ej1CW1F0EyVLr-FQ\",\"stars\":5.0,\"useful\":0,\"funny\":0,\"cool\":0,\"text\":\"Most delicious authentic Italian I've had in the US. You wouldn't leave this place unhappy. The setting is cozy and a perfect spot for VD, anniversaries, or a special date. They'll make you feel like you're in Italy.\",\"date\":\"2015-02-16 06:48:47\"}\n",
      "{\"review_id\":\"z4BCgTkfNtCu4XY5Lp97ww\",\"user_id\":\"jOERvhmK6_lo_XGUBPws_w\",\"business_id\":\"Ws8V970-mQt2X9CwCuT5zw\",\"stars\":4.0,\"useful\":3,\"funny\":0,\"cool\":1,\"text\":\"I have been here twice. Very nice and laid back. I tried the weekend Southern menu and it was delicious! Collard greens, mac&cheese, ribs, BBQ chicken sandwich. The scone with clotted cream was divine!!!! The iced teas are very refreshing and I swear I drank a whole container myself both visits. \\nThe second time I had soup, salad and a sandwich. The salad had this amazing (raspberry? strawberry?, I forgot) vinaigrette. The sandwich was good, but I was kind of disappointed with the soup. It was potato and tasted too \\\"milky\\\". \\nThey change the menu often and now have a tea inspired one. Can't wait to go back and try it.\\nThe owners are very nice and I hope they continue to do well.\",\"date\":\"2009-10-13 04:16:41\"}\n"
     ]
    }
   ],
   "source": [
    "!head data/yelp_academic_dataset_review.json"
   ]
  },
  {
   "cell_type": "code",
   "execution_count": 8,
   "metadata": {
    "ExecuteTime": {
     "end_time": "2020-06-25T10:27:38.112968Z",
     "start_time": "2020-06-25T10:27:32.235357Z"
    },
    "execution": {
     "iopub.execute_input": "2020-06-28T14:18:29.372408Z",
     "iopub.status.busy": "2020-06-28T14:18:29.372105Z",
     "iopub.status.idle": "2020-06-28T14:18:32.849596Z",
     "shell.execute_reply": "2020-06-28T14:18:32.849010Z",
     "shell.execute_reply.started": "2020-06-28T14:18:29.372376Z"
    }
   },
   "outputs": [],
   "source": [
    "spark = SparkSession.builder \\\n",
    "    .master('local[*]') \\\n",
    "    .appName('Integradora Yelp') \\\n",
    "    .config(\"spark.ui.port\", \"4060\") \\\n",
    "    .getOrCreate()"
   ]
  },
  {
   "cell_type": "code",
   "execution_count": 9,
   "metadata": {
    "ExecuteTime": {
     "end_time": "2020-06-25T10:27:39.131115Z",
     "start_time": "2020-06-25T10:27:39.128087Z"
    },
    "execution": {
     "iopub.execute_input": "2020-06-28T14:18:33.422544Z",
     "iopub.status.busy": "2020-06-28T14:18:33.422239Z",
     "iopub.status.idle": "2020-06-28T14:18:33.426018Z",
     "shell.execute_reply": "2020-06-28T14:18:33.425335Z",
     "shell.execute_reply.started": "2020-06-28T14:18:33.422513Z"
    }
   },
   "outputs": [],
   "source": [
    "sc = spark.sparkContext"
   ]
  },
  {
   "cell_type": "code",
   "execution_count": 10,
   "metadata": {
    "execution": {
     "iopub.execute_input": "2020-06-28T14:18:34.038169Z",
     "iopub.status.busy": "2020-06-28T14:18:34.037870Z",
     "iopub.status.idle": "2020-06-28T14:18:34.046839Z",
     "shell.execute_reply": "2020-06-28T14:18:34.046163Z",
     "shell.execute_reply.started": "2020-06-28T14:18:34.038141Z"
    }
   },
   "outputs": [
    {
     "data": {
      "text/html": [
       "\n",
       "            <div>\n",
       "                <p><b>SparkSession - in-memory</b></p>\n",
       "                \n",
       "        <div>\n",
       "            <p><b>SparkContext</b></p>\n",
       "\n",
       "            <p><a href=\"http://mac:4060\">Spark UI</a></p>\n",
       "\n",
       "            <dl>\n",
       "              <dt>Version</dt>\n",
       "                <dd><code>v2.4.5</code></dd>\n",
       "              <dt>Master</dt>\n",
       "                <dd><code>local[*]</code></dd>\n",
       "              <dt>AppName</dt>\n",
       "                <dd><code>Integradora Yelp</code></dd>\n",
       "            </dl>\n",
       "        </div>\n",
       "        \n",
       "            </div>\n",
       "        "
      ],
      "text/plain": [
       "<pyspark.sql.session.SparkSession at 0x1a22c0c250>"
      ]
     },
     "execution_count": 10,
     "metadata": {},
     "output_type": "execute_result"
    }
   ],
   "source": [
    "spark#.stop()"
   ]
  },
  {
   "cell_type": "markdown",
   "metadata": {},
   "source": [
    "## Bases"
   ]
  },
  {
   "cell_type": "code",
   "execution_count": 11,
   "metadata": {
    "execution": {
     "iopub.execute_input": "2020-06-28T14:18:35.412878Z",
     "iopub.status.busy": "2020-06-28T14:18:35.412530Z",
     "iopub.status.idle": "2020-06-28T14:18:42.097028Z",
     "shell.execute_reply": "2020-06-28T14:18:42.096379Z",
     "shell.execute_reply.started": "2020-06-28T14:18:35.412847Z"
    }
   },
   "outputs": [],
   "source": [
    "usr_raw = spark.read.json(datapath+'/yelp_academic_dataset_user.json')"
   ]
  },
  {
   "cell_type": "code",
   "execution_count": 12,
   "metadata": {
    "execution": {
     "iopub.execute_input": "2020-06-28T14:18:42.098423Z",
     "iopub.status.busy": "2020-06-28T14:18:42.098195Z",
     "iopub.status.idle": "2020-06-28T14:18:47.032568Z",
     "shell.execute_reply": "2020-06-28T14:18:47.032019Z",
     "shell.execute_reply.started": "2020-06-28T14:18:42.098400Z"
    }
   },
   "outputs": [],
   "source": [
    "rv_raw = spark.read.json(datapath+'/yelp_academic_dataset_review.json')"
   ]
  },
  {
   "cell_type": "code",
   "execution_count": 13,
   "metadata": {
    "ExecuteTime": {
     "end_time": "2020-06-25T10:27:48.350531Z",
     "start_time": "2020-06-25T10:27:41.162424Z"
    },
    "execution": {
     "iopub.execute_input": "2020-06-28T14:18:47.034710Z",
     "iopub.status.busy": "2020-06-28T14:18:47.034476Z",
     "iopub.status.idle": "2020-06-28T14:18:47.771631Z",
     "shell.execute_reply": "2020-06-28T14:18:47.770933Z",
     "shell.execute_reply.started": "2020-06-28T14:18:47.034686Z"
    }
   },
   "outputs": [],
   "source": [
    "bz_raw = spark.read.json(datapath+'/yelp_academic_dataset_business.json')"
   ]
  },
  {
   "cell_type": "code",
   "execution_count": 14,
   "metadata": {
    "ExecuteTime": {
     "end_time": "2020-06-25T10:27:49.361628Z",
     "start_time": "2020-06-25T10:27:49.332037Z"
    },
    "execution": {
     "iopub.execute_input": "2020-06-28T14:18:48.507349Z",
     "iopub.status.busy": "2020-06-28T14:18:48.507059Z",
     "iopub.status.idle": "2020-06-28T14:18:48.530551Z",
     "shell.execute_reply": "2020-06-28T14:18:48.529866Z",
     "shell.execute_reply.started": "2020-06-28T14:18:48.507321Z"
    }
   },
   "outputs": [
    {
     "name": "stdout",
     "output_type": "stream",
     "text": [
      "root\n",
      " |-- address: string (nullable = true)\n",
      " |-- attributes: struct (nullable = true)\n",
      " |    |-- AcceptsInsurance: string (nullable = true)\n",
      " |    |-- AgesAllowed: string (nullable = true)\n",
      " |    |-- Alcohol: string (nullable = true)\n",
      " |    |-- Ambience: string (nullable = true)\n",
      " |    |-- BYOB: string (nullable = true)\n",
      " |    |-- BYOBCorkage: string (nullable = true)\n",
      " |    |-- BestNights: string (nullable = true)\n",
      " |    |-- BikeParking: string (nullable = true)\n",
      " |    |-- BusinessAcceptsBitcoin: string (nullable = true)\n",
      " |    |-- BusinessAcceptsCreditCards: string (nullable = true)\n",
      " |    |-- BusinessParking: string (nullable = true)\n",
      " |    |-- ByAppointmentOnly: string (nullable = true)\n",
      " |    |-- Caters: string (nullable = true)\n",
      " |    |-- CoatCheck: string (nullable = true)\n",
      " |    |-- Corkage: string (nullable = true)\n",
      " |    |-- DietaryRestrictions: string (nullable = true)\n",
      " |    |-- DogsAllowed: string (nullable = true)\n",
      " |    |-- DriveThru: string (nullable = true)\n",
      " |    |-- GoodForDancing: string (nullable = true)\n",
      " |    |-- GoodForKids: string (nullable = true)\n",
      " |    |-- GoodForMeal: string (nullable = true)\n",
      " |    |-- HairSpecializesIn: string (nullable = true)\n",
      " |    |-- HappyHour: string (nullable = true)\n",
      " |    |-- HasTV: string (nullable = true)\n",
      " |    |-- Music: string (nullable = true)\n",
      " |    |-- NoiseLevel: string (nullable = true)\n",
      " |    |-- Open24Hours: string (nullable = true)\n",
      " |    |-- OutdoorSeating: string (nullable = true)\n",
      " |    |-- RestaurantsAttire: string (nullable = true)\n",
      " |    |-- RestaurantsCounterService: string (nullable = true)\n",
      " |    |-- RestaurantsDelivery: string (nullable = true)\n",
      " |    |-- RestaurantsGoodForGroups: string (nullable = true)\n",
      " |    |-- RestaurantsPriceRange2: string (nullable = true)\n",
      " |    |-- RestaurantsReservations: string (nullable = true)\n",
      " |    |-- RestaurantsTableService: string (nullable = true)\n",
      " |    |-- RestaurantsTakeOut: string (nullable = true)\n",
      " |    |-- Smoking: string (nullable = true)\n",
      " |    |-- WheelchairAccessible: string (nullable = true)\n",
      " |    |-- WiFi: string (nullable = true)\n",
      " |-- business_id: string (nullable = true)\n",
      " |-- categories: string (nullable = true)\n",
      " |-- city: string (nullable = true)\n",
      " |-- hours: struct (nullable = true)\n",
      " |    |-- Friday: string (nullable = true)\n",
      " |    |-- Monday: string (nullable = true)\n",
      " |    |-- Saturday: string (nullable = true)\n",
      " |    |-- Sunday: string (nullable = true)\n",
      " |    |-- Thursday: string (nullable = true)\n",
      " |    |-- Tuesday: string (nullable = true)\n",
      " |    |-- Wednesday: string (nullable = true)\n",
      " |-- is_open: long (nullable = true)\n",
      " |-- latitude: double (nullable = true)\n",
      " |-- longitude: double (nullable = true)\n",
      " |-- name: string (nullable = true)\n",
      " |-- postal_code: string (nullable = true)\n",
      " |-- review_count: long (nullable = true)\n",
      " |-- stars: double (nullable = true)\n",
      " |-- state: string (nullable = true)\n",
      "\n"
     ]
    }
   ],
   "source": [
    "bz_raw.printSchema()"
   ]
  },
  {
   "cell_type": "code",
   "execution_count": 15,
   "metadata": {
    "execution": {
     "iopub.execute_input": "2020-06-28T14:18:49.164673Z",
     "iopub.status.busy": "2020-06-28T14:18:49.164278Z",
     "iopub.status.idle": "2020-06-28T14:18:49.400386Z",
     "shell.execute_reply": "2020-06-28T14:18:49.399551Z",
     "shell.execute_reply.started": "2020-06-28T14:18:49.164634Z"
    }
   },
   "outputs": [],
   "source": [
    "bz_raw.createOrReplaceTempView('bz')\n",
    "rv_raw.createOrReplaceTempView('rv')\n",
    "usr_raw.createOrReplaceTempView('usr')"
   ]
  },
  {
   "cell_type": "code",
   "execution_count": 16,
   "metadata": {
    "ExecuteTime": {
     "end_time": "2020-06-25T10:27:58.289338Z",
     "start_time": "2020-06-25T10:27:57.802825Z"
    },
    "execution": {
     "iopub.execute_input": "2020-06-28T14:18:49.647648Z",
     "iopub.status.busy": "2020-06-28T14:18:49.647362Z",
     "iopub.status.idle": "2020-06-28T14:18:50.004831Z",
     "shell.execute_reply": "2020-06-28T14:18:50.004159Z",
     "shell.execute_reply.started": "2020-06-28T14:18:49.647620Z"
    }
   },
   "outputs": [
    {
     "name": "stdout",
     "output_type": "stream",
     "text": [
      "[Table(name='bz', database=None, description=None, tableType='TEMPORARY', isTemporary=True), Table(name='rv', database=None, description=None, tableType='TEMPORARY', isTemporary=True), Table(name='usr', database=None, description=None, tableType='TEMPORARY', isTemporary=True)]\n"
     ]
    }
   ],
   "source": [
    "print(spark.catalog.listTables())"
   ]
  },
  {
   "cell_type": "code",
   "execution_count": 17,
   "metadata": {
    "execution": {
     "iopub.execute_input": "2020-06-28T14:18:51.082733Z",
     "iopub.status.busy": "2020-06-28T14:18:51.082437Z",
     "iopub.status.idle": "2020-06-28T14:18:51.112679Z",
     "shell.execute_reply": "2020-06-28T14:18:51.112001Z",
     "shell.execute_reply.started": "2020-06-28T14:18:51.082704Z"
    }
   },
   "outputs": [
    {
     "data": {
      "text/plain": [
       "['address',\n",
       " 'attributes',\n",
       " 'business_id',\n",
       " 'categories',\n",
       " 'city',\n",
       " 'hours',\n",
       " 'is_open',\n",
       " 'latitude',\n",
       " 'longitude',\n",
       " 'name',\n",
       " 'postal_code',\n",
       " 'review_count',\n",
       " 'stars',\n",
       " 'state']"
      ]
     },
     "execution_count": 17,
     "metadata": {},
     "output_type": "execute_result"
    }
   ],
   "source": [
    "bz_raw.columns"
   ]
  },
  {
   "cell_type": "code",
   "execution_count": 18,
   "metadata": {
    "execution": {
     "iopub.execute_input": "2020-06-28T14:18:51.721182Z",
     "iopub.status.busy": "2020-06-28T14:18:51.720835Z",
     "iopub.status.idle": "2020-06-28T14:18:51.727134Z",
     "shell.execute_reply": "2020-06-28T14:18:51.726431Z",
     "shell.execute_reply.started": "2020-06-28T14:18:51.721146Z"
    }
   },
   "outputs": [
    {
     "data": {
      "text/plain": [
       "['average_stars',\n",
       " 'compliment_cool',\n",
       " 'compliment_cute',\n",
       " 'compliment_funny',\n",
       " 'compliment_hot',\n",
       " 'compliment_list',\n",
       " 'compliment_more',\n",
       " 'compliment_note',\n",
       " 'compliment_photos',\n",
       " 'compliment_plain',\n",
       " 'compliment_profile',\n",
       " 'compliment_writer',\n",
       " 'cool',\n",
       " 'elite',\n",
       " 'fans',\n",
       " 'friends',\n",
       " 'funny',\n",
       " 'name',\n",
       " 'review_count',\n",
       " 'useful',\n",
       " 'user_id',\n",
       " 'yelping_since']"
      ]
     },
     "execution_count": 18,
     "metadata": {},
     "output_type": "execute_result"
    }
   ],
   "source": [
    "usr_raw.columns"
   ]
  },
  {
   "cell_type": "code",
   "execution_count": 19,
   "metadata": {
    "execution": {
     "iopub.execute_input": "2020-06-28T14:18:52.551265Z",
     "iopub.status.busy": "2020-06-28T14:18:52.550961Z",
     "iopub.status.idle": "2020-06-28T14:18:52.556225Z",
     "shell.execute_reply": "2020-06-28T14:18:52.555565Z",
     "shell.execute_reply.started": "2020-06-28T14:18:52.551236Z"
    }
   },
   "outputs": [
    {
     "data": {
      "text/plain": [
       "['business_id',\n",
       " 'cool',\n",
       " 'date',\n",
       " 'funny',\n",
       " 'review_id',\n",
       " 'stars',\n",
       " 'text',\n",
       " 'useful',\n",
       " 'user_id']"
      ]
     },
     "execution_count": 19,
     "metadata": {},
     "output_type": "execute_result"
    }
   ],
   "source": [
    "rv_raw.columns"
   ]
  },
  {
   "cell_type": "markdown",
   "metadata": {},
   "source": [
    "## Joins"
   ]
  },
  {
   "cell_type": "markdown",
   "metadata": {},
   "source": [
    "Juntando as informações de reviews, estabelecimentos da cidade escolhidas e usuários que frequentam esses estabelecimentos."
   ]
  },
  {
   "cell_type": "code",
   "execution_count": 20,
   "metadata": {
    "execution": {
     "iopub.execute_input": "2020-06-28T14:18:55.646827Z",
     "iopub.status.busy": "2020-06-28T14:18:55.646501Z",
     "iopub.status.idle": "2020-06-28T14:18:55.783138Z",
     "shell.execute_reply": "2020-06-28T14:18:55.782315Z",
     "shell.execute_reply.started": "2020-06-28T14:18:55.646806Z"
    }
   },
   "outputs": [],
   "source": [
    "base = spark.sql(\"\"\"\n",
    "        SELECT A.*,\n",
    "        B.address,\n",
    "        B.categories,\n",
    "        B.city,\n",
    "        B.hours,\n",
    "        B.is_open,\n",
    "        B.latitude,\n",
    "        B.longitude,\n",
    "        B.name AS name_bz,\n",
    "        B.postal_code,\n",
    "        B.review_count,\n",
    "        B.stars AS stars_bz,\n",
    "        B.state\n",
    "\n",
    "        FROM rv as A \n",
    "        LEFT JOIN bz as B\n",
    "        ON A.business_id = B.business_id\n",
    "        \n",
    "        WHERE b.city = 'Toronto'\n",
    "        AND b.state = 'ON'\n",
    "        \n",
    "        \"\"\")"
   ]
  },
  {
   "cell_type": "code",
   "execution_count": 25,
   "metadata": {
    "collapsed": true,
    "execution": {
     "iopub.execute_input": "2020-06-27T01:14:21.782906Z",
     "iopub.status.busy": "2020-06-27T01:14:21.782602Z",
     "iopub.status.idle": "2020-06-27T01:14:40.176720Z",
     "shell.execute_reply": "2020-06-27T01:14:40.175478Z",
     "shell.execute_reply.started": "2020-06-27T01:14:21.782878Z"
    },
    "jupyter": {
     "outputs_hidden": true
    }
   },
   "outputs": [
    {
     "name": "stdout",
     "output_type": "stream",
     "text": [
      "+--------------------+----+-------------------+-----+--------------------+-----+--------------------+------+--------------------+--------------------+----------+--------------------+--------------------+-------+--------------------+-------+----------+-----------+--------------------+-----------+------------+-----+-----+\n",
      "|         business_id|cool|               date|funny|           review_id|stars|                text|useful|             user_id|             address|attributes|         business_id|          categories|   city|               hours|is_open|  latitude|  longitude|                name|postal_code|review_count|stars|state|\n",
      "+--------------------+----+-------------------+-----+--------------------+-----+--------------------+------+--------------------+--------------------+----------+--------------------+--------------------+-------+--------------------+-------+----------+-----------+--------------------+-----------+------------+-----+-----+\n",
      "|-6c_bJblLXUwoWfmY...|   0|2017-11-07 20:38:24|    0|NdPfK1cc_R0MqQw7S...|  1.0|This business nee...|     8|L_LLTrPCY4Ni9lN9Y...|2131 Lake Shore B...|      null|-6c_bJblLXUwoWfmY...|Pet Services, Pet...|Toronto|[11:0-20:0, 11:0-...|      0|43.6267627|-79.4790443|Neo-Paws Internat...|    M8V 0B3|          12|  2.5|   ON|\n",
      "|-6c_bJblLXUwoWfmY...|   0|2017-12-24 02:51:21|    0|p4o9FZan2NsD3Pdkg...|  5.0|Super friendly ow...|     2|Sy3Z06hhGbt20ykOZ...|2131 Lake Shore B...|      null|-6c_bJblLXUwoWfmY...|Pet Services, Pet...|Toronto|[11:0-20:0, 11:0-...|      0|43.6267627|-79.4790443|Neo-Paws Internat...|    M8V 0B3|          12|  2.5|   ON|\n",
      "|-6c_bJblLXUwoWfmY...|   0|2017-03-02 10:26:35|    1|JAppdmGfv9BiQvzX7...|  1.0|I save the one st...|    31|-9RU4LuI_TfYgv9rB...|2131 Lake Shore B...|      null|-6c_bJblLXUwoWfmY...|Pet Services, Pet...|Toronto|[11:0-20:0, 11:0-...|      0|43.6267627|-79.4790443|Neo-Paws Internat...|    M8V 0B3|          12|  2.5|   ON|\n",
      "|-6c_bJblLXUwoWfmY...|   0|2019-02-13 21:29:37|    0|WUHFGWuVmcujk02-W...|  5.0|Ronnie probably h...|     1|kNO5AF41Nk5mAG8oN...|2131 Lake Shore B...|      null|-6c_bJblLXUwoWfmY...|Pet Services, Pet...|Toronto|[11:0-20:0, 11:0-...|      0|43.6267627|-79.4790443|Neo-Paws Internat...|    M8V 0B3|          12|  2.5|   ON|\n",
      "|-6c_bJblLXUwoWfmY...|   0|2017-09-11 21:21:47|    1|wydv41JZfBIacncy9...|  1.0|I walked into thi...|    12|yjkgS9y2MZDxJlbHG...|2131 Lake Shore B...|      null|-6c_bJblLXUwoWfmY...|Pet Services, Pet...|Toronto|[11:0-20:0, 11:0-...|      0|43.6267627|-79.4790443|Neo-Paws Internat...|    M8V 0B3|          12|  2.5|   ON|\n",
      "+--------------------+----+-------------------+-----+--------------------+-----+--------------------+------+--------------------+--------------------+----------+--------------------+--------------------+-------+--------------------+-------+----------+-----------+--------------------+-----------+------------+-----+-----+\n",
      "only showing top 5 rows\n",
      "\n"
     ]
    }
   ],
   "source": [
    "base.show(5)"
   ]
  },
  {
   "cell_type": "code",
   "execution_count": 21,
   "metadata": {
    "execution": {
     "iopub.execute_input": "2020-06-28T14:18:57.405230Z",
     "iopub.status.busy": "2020-06-28T14:18:57.404924Z",
     "iopub.status.idle": "2020-06-28T14:18:57.423924Z",
     "shell.execute_reply": "2020-06-28T14:18:57.423277Z",
     "shell.execute_reply.started": "2020-06-28T14:18:57.405200Z"
    }
   },
   "outputs": [],
   "source": [
    "base.createOrReplaceTempView('base')"
   ]
  },
  {
   "cell_type": "markdown",
   "metadata": {},
   "source": [
    "- Contagem da quantidade de linhas para garantir que a integridade do dataset ser mantém ao longo do processamento."
   ]
  },
  {
   "cell_type": "code",
   "execution_count": 22,
   "metadata": {
    "execution": {
     "iopub.execute_input": "2020-06-28T14:18:59.807438Z",
     "iopub.status.busy": "2020-06-28T14:18:59.807103Z",
     "iopub.status.idle": "2020-06-28T14:19:04.720279Z",
     "shell.execute_reply": "2020-06-28T14:19:04.719654Z",
     "shell.execute_reply.started": "2020-06-28T14:18:59.807406Z"
    }
   },
   "outputs": [
    {
     "name": "stdout",
     "output_type": "stream",
     "text": [
      "+--------+\n",
      "|count(1)|\n",
      "+--------+\n",
      "|  600555|\n",
      "+--------+\n",
      "\n"
     ]
    }
   ],
   "source": [
    "#linhas na base de reviews + business\n",
    "spark.sql('''\n",
    "            SELECT Count(*)\n",
    "            FROM base\n",
    "            ''').show()"
   ]
  },
  {
   "cell_type": "code",
   "execution_count": 23,
   "metadata": {
    "ExecuteTime": {
     "end_time": "2020-06-25T10:28:02.721168Z",
     "start_time": "2020-06-25T10:27:59.566725Z"
    },
    "execution": {
     "iopub.execute_input": "2020-06-28T14:19:04.721661Z",
     "iopub.status.busy": "2020-06-28T14:19:04.721437Z",
     "iopub.status.idle": "2020-06-28T14:19:04.745940Z",
     "shell.execute_reply": "2020-06-28T14:19:04.744892Z",
     "shell.execute_reply.started": "2020-06-28T14:19:04.721639Z"
    }
   },
   "outputs": [],
   "source": [
    "base1 = spark.sql(\"\"\"\n",
    "        SELECT A.*,\n",
    "        B.average_stars AS stars_usr,\n",
    "        B.compliment_cool,\n",
    "        B.compliment_cute,\n",
    "        B.compliment_funny,\n",
    "        B.compliment_hot,\n",
    "        B.compliment_list,\n",
    "        B.compliment_more,\n",
    "        B.compliment_note,\n",
    "        B.compliment_photos,\n",
    "        B.compliment_plain,\n",
    "        B.compliment_profile,\n",
    "        B.compliment_writer,\n",
    "        B.cool AS cool_usr,\n",
    "        B.elite AS elite_usr,\n",
    "        B.fans,\n",
    "        B.friends,\n",
    "        B.funny AS funny_usr,\n",
    "        B.name AS name_usr,\n",
    "        B.review_count AS review_count_usr,\n",
    "        B.useful AS useful_usr,\n",
    "        B.yelping_since\n",
    "\n",
    "        FROM base as A \n",
    "        LEFT JOIN usr as B\n",
    "        ON A.user_id = B.user_id    \n",
    "        \"\"\")"
   ]
  },
  {
   "cell_type": "code",
   "execution_count": 24,
   "metadata": {
    "execution": {
     "iopub.execute_input": "2020-06-28T14:19:04.749973Z",
     "iopub.status.busy": "2020-06-28T14:19:04.749631Z",
     "iopub.status.idle": "2020-06-28T14:19:04.776450Z",
     "shell.execute_reply": "2020-06-28T14:19:04.775348Z",
     "shell.execute_reply.started": "2020-06-28T14:19:04.749940Z"
    }
   },
   "outputs": [],
   "source": [
    "base1.createOrReplaceTempView('base1')"
   ]
  },
  {
   "cell_type": "code",
   "execution_count": 25,
   "metadata": {
    "execution": {
     "iopub.execute_input": "2020-06-28T14:19:05.603149Z",
     "iopub.status.busy": "2020-06-28T14:19:05.602856Z",
     "iopub.status.idle": "2020-06-28T14:19:17.583006Z",
     "shell.execute_reply": "2020-06-28T14:19:17.581916Z",
     "shell.execute_reply.started": "2020-06-28T14:19:05.603120Z"
    }
   },
   "outputs": [
    {
     "name": "stdout",
     "output_type": "stream",
     "text": [
      "+--------+\n",
      "|count(1)|\n",
      "+--------+\n",
      "|  600555|\n",
      "+--------+\n",
      "\n"
     ]
    }
   ],
   "source": [
    "#linhas na base de reviews + business + users\n",
    "spark.sql('''\n",
    "            SELECT Count(*)\n",
    "            FROM base1\n",
    "            ''').show()"
   ]
  },
  {
   "cell_type": "code",
   "execution_count": 65,
   "metadata": {
    "collapsed": true,
    "execution": {
     "iopub.execute_input": "2020-06-27T01:31:10.777105Z",
     "iopub.status.busy": "2020-06-27T01:31:10.776828Z",
     "iopub.status.idle": "2020-06-27T01:31:14.562956Z",
     "shell.execute_reply": "2020-06-27T01:31:14.560214Z",
     "shell.execute_reply.started": "2020-06-27T01:31:10.777078Z"
    },
    "jupyter": {
     "outputs_hidden": true
    }
   },
   "outputs": [
    {
     "ename": "KeyboardInterrupt",
     "evalue": "",
     "output_type": "error",
     "traceback": [
      "\u001b[0;31m---------------------------------------------------------------------------\u001b[0m",
      "\u001b[0;31mKeyboardInterrupt\u001b[0m                         Traceback (most recent call last)",
      "\u001b[0;32m<ipython-input-65-a0b10fef7b67>\u001b[0m in \u001b[0;36m<module>\u001b[0;34m\u001b[0m\n\u001b[0;32m----> 1\u001b[0;31m \u001b[0mbase1\u001b[0m\u001b[0;34m.\u001b[0m\u001b[0mshow\u001b[0m\u001b[0;34m(\u001b[0m\u001b[0;34m)\u001b[0m\u001b[0;34m\u001b[0m\u001b[0;34m\u001b[0m\u001b[0m\n\u001b[0m",
      "\u001b[0;32m~/anaconda3/lib/python3.7/site-packages/pyspark/sql/dataframe.py\u001b[0m in \u001b[0;36mshow\u001b[0;34m(self, n, truncate, vertical)\u001b[0m\n\u001b[1;32m    378\u001b[0m         \"\"\"\n\u001b[1;32m    379\u001b[0m         \u001b[0;32mif\u001b[0m \u001b[0misinstance\u001b[0m\u001b[0;34m(\u001b[0m\u001b[0mtruncate\u001b[0m\u001b[0;34m,\u001b[0m \u001b[0mbool\u001b[0m\u001b[0;34m)\u001b[0m \u001b[0;32mand\u001b[0m \u001b[0mtruncate\u001b[0m\u001b[0;34m:\u001b[0m\u001b[0;34m\u001b[0m\u001b[0;34m\u001b[0m\u001b[0m\n\u001b[0;32m--> 380\u001b[0;31m             \u001b[0mprint\u001b[0m\u001b[0;34m(\u001b[0m\u001b[0mself\u001b[0m\u001b[0;34m.\u001b[0m\u001b[0m_jdf\u001b[0m\u001b[0;34m.\u001b[0m\u001b[0mshowString\u001b[0m\u001b[0;34m(\u001b[0m\u001b[0mn\u001b[0m\u001b[0;34m,\u001b[0m \u001b[0;36m20\u001b[0m\u001b[0;34m,\u001b[0m \u001b[0mvertical\u001b[0m\u001b[0;34m)\u001b[0m\u001b[0;34m)\u001b[0m\u001b[0;34m\u001b[0m\u001b[0;34m\u001b[0m\u001b[0m\n\u001b[0m\u001b[1;32m    381\u001b[0m         \u001b[0;32melse\u001b[0m\u001b[0;34m:\u001b[0m\u001b[0;34m\u001b[0m\u001b[0;34m\u001b[0m\u001b[0m\n\u001b[1;32m    382\u001b[0m             \u001b[0mprint\u001b[0m\u001b[0;34m(\u001b[0m\u001b[0mself\u001b[0m\u001b[0;34m.\u001b[0m\u001b[0m_jdf\u001b[0m\u001b[0;34m.\u001b[0m\u001b[0mshowString\u001b[0m\u001b[0;34m(\u001b[0m\u001b[0mn\u001b[0m\u001b[0;34m,\u001b[0m \u001b[0mint\u001b[0m\u001b[0;34m(\u001b[0m\u001b[0mtruncate\u001b[0m\u001b[0;34m)\u001b[0m\u001b[0;34m,\u001b[0m \u001b[0mvertical\u001b[0m\u001b[0;34m)\u001b[0m\u001b[0;34m)\u001b[0m\u001b[0;34m\u001b[0m\u001b[0;34m\u001b[0m\u001b[0m\n",
      "\u001b[0;32m~/anaconda3/lib/python3.7/site-packages/py4j/java_gateway.py\u001b[0m in \u001b[0;36m__call__\u001b[0;34m(self, *args)\u001b[0m\n\u001b[1;32m   1253\u001b[0m             \u001b[0mproto\u001b[0m\u001b[0;34m.\u001b[0m\u001b[0mEND_COMMAND_PART\u001b[0m\u001b[0;34m\u001b[0m\u001b[0;34m\u001b[0m\u001b[0m\n\u001b[1;32m   1254\u001b[0m \u001b[0;34m\u001b[0m\u001b[0m\n\u001b[0;32m-> 1255\u001b[0;31m         \u001b[0manswer\u001b[0m \u001b[0;34m=\u001b[0m \u001b[0mself\u001b[0m\u001b[0;34m.\u001b[0m\u001b[0mgateway_client\u001b[0m\u001b[0;34m.\u001b[0m\u001b[0msend_command\u001b[0m\u001b[0;34m(\u001b[0m\u001b[0mcommand\u001b[0m\u001b[0;34m)\u001b[0m\u001b[0;34m\u001b[0m\u001b[0;34m\u001b[0m\u001b[0m\n\u001b[0m\u001b[1;32m   1256\u001b[0m         return_value = get_return_value(\n\u001b[1;32m   1257\u001b[0m             answer, self.gateway_client, self.target_id, self.name)\n",
      "\u001b[0;32m~/anaconda3/lib/python3.7/site-packages/py4j/java_gateway.py\u001b[0m in \u001b[0;36msend_command\u001b[0;34m(self, command, retry, binary)\u001b[0m\n\u001b[1;32m    983\u001b[0m         \u001b[0mconnection\u001b[0m \u001b[0;34m=\u001b[0m \u001b[0mself\u001b[0m\u001b[0;34m.\u001b[0m\u001b[0m_get_connection\u001b[0m\u001b[0;34m(\u001b[0m\u001b[0;34m)\u001b[0m\u001b[0;34m\u001b[0m\u001b[0;34m\u001b[0m\u001b[0m\n\u001b[1;32m    984\u001b[0m         \u001b[0;32mtry\u001b[0m\u001b[0;34m:\u001b[0m\u001b[0;34m\u001b[0m\u001b[0;34m\u001b[0m\u001b[0m\n\u001b[0;32m--> 985\u001b[0;31m             \u001b[0mresponse\u001b[0m \u001b[0;34m=\u001b[0m \u001b[0mconnection\u001b[0m\u001b[0;34m.\u001b[0m\u001b[0msend_command\u001b[0m\u001b[0;34m(\u001b[0m\u001b[0mcommand\u001b[0m\u001b[0;34m)\u001b[0m\u001b[0;34m\u001b[0m\u001b[0;34m\u001b[0m\u001b[0m\n\u001b[0m\u001b[1;32m    986\u001b[0m             \u001b[0;32mif\u001b[0m \u001b[0mbinary\u001b[0m\u001b[0;34m:\u001b[0m\u001b[0;34m\u001b[0m\u001b[0;34m\u001b[0m\u001b[0m\n\u001b[1;32m    987\u001b[0m                 \u001b[0;32mreturn\u001b[0m \u001b[0mresponse\u001b[0m\u001b[0;34m,\u001b[0m \u001b[0mself\u001b[0m\u001b[0;34m.\u001b[0m\u001b[0m_create_connection_guard\u001b[0m\u001b[0;34m(\u001b[0m\u001b[0mconnection\u001b[0m\u001b[0;34m)\u001b[0m\u001b[0;34m\u001b[0m\u001b[0;34m\u001b[0m\u001b[0m\n",
      "\u001b[0;32m~/anaconda3/lib/python3.7/site-packages/py4j/java_gateway.py\u001b[0m in \u001b[0;36msend_command\u001b[0;34m(self, command)\u001b[0m\n\u001b[1;32m   1150\u001b[0m \u001b[0;34m\u001b[0m\u001b[0m\n\u001b[1;32m   1151\u001b[0m         \u001b[0;32mtry\u001b[0m\u001b[0;34m:\u001b[0m\u001b[0;34m\u001b[0m\u001b[0;34m\u001b[0m\u001b[0m\n\u001b[0;32m-> 1152\u001b[0;31m             \u001b[0manswer\u001b[0m \u001b[0;34m=\u001b[0m \u001b[0msmart_decode\u001b[0m\u001b[0;34m(\u001b[0m\u001b[0mself\u001b[0m\u001b[0;34m.\u001b[0m\u001b[0mstream\u001b[0m\u001b[0;34m.\u001b[0m\u001b[0mreadline\u001b[0m\u001b[0;34m(\u001b[0m\u001b[0;34m)\u001b[0m\u001b[0;34m[\u001b[0m\u001b[0;34m:\u001b[0m\u001b[0;34m-\u001b[0m\u001b[0;36m1\u001b[0m\u001b[0;34m]\u001b[0m\u001b[0;34m)\u001b[0m\u001b[0;34m\u001b[0m\u001b[0;34m\u001b[0m\u001b[0m\n\u001b[0m\u001b[1;32m   1153\u001b[0m             \u001b[0mlogger\u001b[0m\u001b[0;34m.\u001b[0m\u001b[0mdebug\u001b[0m\u001b[0;34m(\u001b[0m\u001b[0;34m\"Answer received: {0}\"\u001b[0m\u001b[0;34m.\u001b[0m\u001b[0mformat\u001b[0m\u001b[0;34m(\u001b[0m\u001b[0manswer\u001b[0m\u001b[0;34m)\u001b[0m\u001b[0;34m)\u001b[0m\u001b[0;34m\u001b[0m\u001b[0;34m\u001b[0m\u001b[0m\n\u001b[1;32m   1154\u001b[0m             \u001b[0;32mif\u001b[0m \u001b[0manswer\u001b[0m\u001b[0;34m.\u001b[0m\u001b[0mstartswith\u001b[0m\u001b[0;34m(\u001b[0m\u001b[0mproto\u001b[0m\u001b[0;34m.\u001b[0m\u001b[0mRETURN_MESSAGE\u001b[0m\u001b[0;34m)\u001b[0m\u001b[0;34m:\u001b[0m\u001b[0;34m\u001b[0m\u001b[0;34m\u001b[0m\u001b[0m\n",
      "\u001b[0;32m~/anaconda3/lib/python3.7/socket.py\u001b[0m in \u001b[0;36mreadinto\u001b[0;34m(self, b)\u001b[0m\n\u001b[1;32m    587\u001b[0m         \u001b[0;32mwhile\u001b[0m \u001b[0;32mTrue\u001b[0m\u001b[0;34m:\u001b[0m\u001b[0;34m\u001b[0m\u001b[0;34m\u001b[0m\u001b[0m\n\u001b[1;32m    588\u001b[0m             \u001b[0;32mtry\u001b[0m\u001b[0;34m:\u001b[0m\u001b[0;34m\u001b[0m\u001b[0;34m\u001b[0m\u001b[0m\n\u001b[0;32m--> 589\u001b[0;31m                 \u001b[0;32mreturn\u001b[0m \u001b[0mself\u001b[0m\u001b[0;34m.\u001b[0m\u001b[0m_sock\u001b[0m\u001b[0;34m.\u001b[0m\u001b[0mrecv_into\u001b[0m\u001b[0;34m(\u001b[0m\u001b[0mb\u001b[0m\u001b[0;34m)\u001b[0m\u001b[0;34m\u001b[0m\u001b[0;34m\u001b[0m\u001b[0m\n\u001b[0m\u001b[1;32m    590\u001b[0m             \u001b[0;32mexcept\u001b[0m \u001b[0mtimeout\u001b[0m\u001b[0;34m:\u001b[0m\u001b[0;34m\u001b[0m\u001b[0;34m\u001b[0m\u001b[0m\n\u001b[1;32m    591\u001b[0m                 \u001b[0mself\u001b[0m\u001b[0;34m.\u001b[0m\u001b[0m_timeout_occurred\u001b[0m \u001b[0;34m=\u001b[0m \u001b[0;32mTrue\u001b[0m\u001b[0;34m\u001b[0m\u001b[0;34m\u001b[0m\u001b[0m\n",
      "\u001b[0;31mKeyboardInterrupt\u001b[0m: "
     ]
    }
   ],
   "source": [
    "base1.show()"
   ]
  },
  {
   "cell_type": "markdown",
   "metadata": {},
   "source": [
    "- Classificação das avaliações em Boa (1 - maior do que 4) e Ruim ou inexistente (0 - menor do que 4)."
   ]
  },
  {
   "cell_type": "code",
   "execution_count": 26,
   "metadata": {
    "execution": {
     "iopub.execute_input": "2020-06-28T14:19:17.585499Z",
     "iopub.status.busy": "2020-06-28T14:19:17.584985Z",
     "iopub.status.idle": "2020-06-28T14:19:17.666413Z",
     "shell.execute_reply": "2020-06-28T14:19:17.663773Z",
     "shell.execute_reply.started": "2020-06-28T14:19:17.585442Z"
    }
   },
   "outputs": [],
   "source": [
    "base2 = spark.sql(\"\"\"\n",
    "        SELECT *,\n",
    "        (CASE WHEN stars >=4 THEN 1 ELSE 0 END) as class_rv,\n",
    "        (CASE WHEN stars_bz >=4 THEN 1 ELSE 0 END) as class_bz,\n",
    "        (CASE WHEN stars_usr >=4 THEN 1 ELSE 0 END) as class_usr\n",
    "        \n",
    "        FROM base1 \n",
    "        \n",
    "        \"\"\")"
   ]
  },
  {
   "cell_type": "code",
   "execution_count": 27,
   "metadata": {
    "execution": {
     "iopub.execute_input": "2020-06-28T14:19:17.673581Z",
     "iopub.status.busy": "2020-06-28T14:19:17.672497Z",
     "iopub.status.idle": "2020-06-28T14:19:17.686197Z",
     "shell.execute_reply": "2020-06-28T14:19:17.684328Z",
     "shell.execute_reply.started": "2020-06-28T14:19:17.673410Z"
    }
   },
   "outputs": [
    {
     "data": {
      "text/plain": [
       "['business_id',\n",
       " 'cool',\n",
       " 'date',\n",
       " 'funny',\n",
       " 'review_id',\n",
       " 'stars',\n",
       " 'text',\n",
       " 'useful',\n",
       " 'user_id',\n",
       " 'address',\n",
       " 'categories',\n",
       " 'city',\n",
       " 'hours',\n",
       " 'is_open',\n",
       " 'latitude',\n",
       " 'longitude',\n",
       " 'name_bz',\n",
       " 'postal_code',\n",
       " 'review_count',\n",
       " 'stars_bz',\n",
       " 'state',\n",
       " 'stars_usr',\n",
       " 'compliment_cool',\n",
       " 'compliment_cute',\n",
       " 'compliment_funny',\n",
       " 'compliment_hot',\n",
       " 'compliment_list',\n",
       " 'compliment_more',\n",
       " 'compliment_note',\n",
       " 'compliment_photos',\n",
       " 'compliment_plain',\n",
       " 'compliment_profile',\n",
       " 'compliment_writer',\n",
       " 'cool_usr',\n",
       " 'elite_usr',\n",
       " 'fans',\n",
       " 'friends',\n",
       " 'funny_usr',\n",
       " 'name_usr',\n",
       " 'review_count_usr',\n",
       " 'useful_usr',\n",
       " 'yelping_since',\n",
       " 'class_rv',\n",
       " 'class_bz',\n",
       " 'class_usr']"
      ]
     },
     "execution_count": 27,
     "metadata": {},
     "output_type": "execute_result"
    }
   ],
   "source": [
    "base2.columns"
   ]
  },
  {
   "cell_type": "code",
   "execution_count": 28,
   "metadata": {
    "execution": {
     "iopub.execute_input": "2020-06-28T14:19:17.689567Z",
     "iopub.status.busy": "2020-06-28T14:19:17.688939Z",
     "iopub.status.idle": "2020-06-28T14:19:17.725997Z",
     "shell.execute_reply": "2020-06-28T14:19:17.725118Z",
     "shell.execute_reply.started": "2020-06-28T14:19:17.689506Z"
    }
   },
   "outputs": [],
   "source": [
    "base2.createOrReplaceTempView('base2')"
   ]
  },
  {
   "cell_type": "code",
   "execution_count": 29,
   "metadata": {
    "execution": {
     "iopub.execute_input": "2020-06-28T14:19:17.728058Z",
     "iopub.status.busy": "2020-06-28T14:19:17.727706Z",
     "iopub.status.idle": "2020-06-28T14:19:29.178596Z",
     "shell.execute_reply": "2020-06-28T14:19:29.177640Z",
     "shell.execute_reply.started": "2020-06-28T14:19:17.728022Z"
    }
   },
   "outputs": [
    {
     "name": "stdout",
     "output_type": "stream",
     "text": [
      "+--------+\n",
      "|count(1)|\n",
      "+--------+\n",
      "|  600555|\n",
      "+--------+\n",
      "\n"
     ]
    }
   ],
   "source": [
    "spark.sql('''\n",
    "            SELECT Count(*)\n",
    "            FROM base2\n",
    "            ''').show()"
   ]
  },
  {
   "cell_type": "code",
   "execution_count": 30,
   "metadata": {
    "execution": {
     "iopub.execute_input": "2020-06-28T14:19:29.180717Z",
     "iopub.status.busy": "2020-06-28T14:19:29.180424Z",
     "iopub.status.idle": "2020-06-28T14:19:40.154020Z",
     "shell.execute_reply": "2020-06-28T14:19:40.153091Z",
     "shell.execute_reply.started": "2020-06-28T14:19:29.180688Z"
    }
   },
   "outputs": [
    {
     "name": "stdout",
     "output_type": "stream",
     "text": [
      "+--------------------+\n",
      "|                text|\n",
      "+--------------------+\n",
      "|My friend and I s...|\n",
      "|Relaxed understat...|\n",
      "|This hostel is a ...|\n",
      "|Horrible customer...|\n",
      "|Horrible service....|\n",
      "|My favourite food...|\n",
      "|Solid place! Love...|\n",
      "|Ah.... I was told...|\n",
      "|Very nice staff! ...|\n",
      "|What a disappoint...|\n",
      "|Sorry Fugo.... I ...|\n",
      "|I have been going...|\n",
      "|The portions are ...|\n",
      "|3.5 stars. I enjo...|\n",
      "|I want to love th...|\n",
      "|Solid place to go...|\n",
      "|Evergreen is a re...|\n",
      "|YUM! Love these c...|\n",
      "|This place has a ...|\n",
      "|Good. The first t...|\n",
      "+--------------------+\n",
      "only showing top 20 rows\n",
      "\n"
     ]
    }
   ],
   "source": [
    "base2.select('text').show()"
   ]
  },
  {
   "cell_type": "markdown",
   "metadata": {},
   "source": [
    "- Tratamento do texto das reviews"
   ]
  },
  {
   "cell_type": "code",
   "execution_count": 31,
   "metadata": {
    "execution": {
     "iopub.execute_input": "2020-06-28T14:19:40.156454Z",
     "iopub.status.busy": "2020-06-28T14:19:40.156130Z",
     "iopub.status.idle": "2020-06-28T14:19:40.162493Z",
     "shell.execute_reply": "2020-06-28T14:19:40.161746Z",
     "shell.execute_reply.started": "2020-06-28T14:19:40.156380Z"
    }
   },
   "outputs": [],
   "source": [
    "def word_clean(sdf):\n",
    "    rv1 = sdf.withColumn('text_clean',f.regexp_replace(f.col('text'), \"'d\", \" would\"))\n",
    "    rv2 = rv1.withColumn('text_clean',f.regexp_replace(f.col('text_clean'), \"'ve\", \" have\"))\n",
    "    rv3 = rv2.withColumn('text_clean',f.regexp_replace(f.col('text_clean'), \"'s\", \" is\"))\n",
    "    rv4 = rv3.withColumn('text_clean',f.regexp_replace(f.col('text_clean'), \"'re\", \" are\"))\n",
    "    rv5 = rv4.withColumn('text_clean',f.regexp_replace(f.col('text_clean'), '\\W+', \" \"))\n",
    "    rv6 = rv5.withColumn('text_clean',f.lower(f.col('text_clean')))\n",
    "    return rv6"
   ]
  },
  {
   "cell_type": "code",
   "execution_count": 32,
   "metadata": {
    "execution": {
     "iopub.execute_input": "2020-06-28T14:19:40.163825Z",
     "iopub.status.busy": "2020-06-28T14:19:40.163443Z",
     "iopub.status.idle": "2020-06-28T14:19:40.274037Z",
     "shell.execute_reply": "2020-06-28T14:19:40.273314Z",
     "shell.execute_reply.started": "2020-06-28T14:19:40.163791Z"
    }
   },
   "outputs": [],
   "source": [
    "base3 = word_clean(base2)"
   ]
  },
  {
   "cell_type": "code",
   "execution_count": 33,
   "metadata": {
    "execution": {
     "iopub.execute_input": "2020-06-28T14:19:40.275868Z",
     "iopub.status.busy": "2020-06-28T14:19:40.275395Z",
     "iopub.status.idle": "2020-06-28T14:19:51.997483Z",
     "shell.execute_reply": "2020-06-28T14:19:51.996551Z",
     "shell.execute_reply.started": "2020-06-28T14:19:40.275827Z"
    }
   },
   "outputs": [
    {
     "name": "stdout",
     "output_type": "stream",
     "text": [
      "+--------------------+\n",
      "|          text_clean|\n",
      "+--------------------+\n",
      "|my friend and i s...|\n",
      "|relaxed understat...|\n",
      "|this hostel is a ...|\n",
      "|horrible customer...|\n",
      "|horrible service ...|\n",
      "|my favourite food...|\n",
      "|solid place love ...|\n",
      "|ah i was told the...|\n",
      "|very nice staff g...|\n",
      "|what a disappoint...|\n",
      "|sorry fugo i was ...|\n",
      "|i have been going...|\n",
      "|the portions are ...|\n",
      "|3 5 stars i enjoy...|\n",
      "|i want to love th...|\n",
      "|solid place to go...|\n",
      "|evergreen is a re...|\n",
      "|yum love these ch...|\n",
      "|this place has a ...|\n",
      "|good the first ti...|\n",
      "+--------------------+\n",
      "only showing top 20 rows\n",
      "\n"
     ]
    }
   ],
   "source": [
    "base3.select('text_clean').show()"
   ]
  },
  {
   "cell_type": "markdown",
   "metadata": {},
   "source": [
    "- Contagem de amigos de cada usuário"
   ]
  },
  {
   "cell_type": "code",
   "execution_count": 34,
   "metadata": {
    "execution": {
     "iopub.execute_input": "2020-06-28T14:19:52.000943Z",
     "iopub.status.busy": "2020-06-28T14:19:52.000637Z",
     "iopub.status.idle": "2020-06-28T14:19:52.051368Z",
     "shell.execute_reply": "2020-06-28T14:19:52.050623Z",
     "shell.execute_reply.started": "2020-06-28T14:19:52.000913Z"
    }
   },
   "outputs": [],
   "source": [
    "base4 = base3.withColumn('friends_counter', f.size(f.split(f.col('friends'),',')))"
   ]
  },
  {
   "cell_type": "code",
   "execution_count": 35,
   "metadata": {
    "execution": {
     "iopub.execute_input": "2020-06-28T14:19:52.053814Z",
     "iopub.status.busy": "2020-06-28T14:19:52.053443Z",
     "iopub.status.idle": "2020-06-28T14:19:52.076799Z",
     "shell.execute_reply": "2020-06-28T14:19:52.076102Z",
     "shell.execute_reply.started": "2020-06-28T14:19:52.053780Z"
    }
   },
   "outputs": [],
   "source": [
    "base4.createOrReplaceTempView('base4')"
   ]
  },
  {
   "cell_type": "code",
   "execution_count": 36,
   "metadata": {
    "execution": {
     "iopub.execute_input": "2020-06-28T14:19:52.078198Z",
     "iopub.status.busy": "2020-06-28T14:19:52.077792Z",
     "iopub.status.idle": "2020-06-28T14:19:52.101540Z",
     "shell.execute_reply": "2020-06-28T14:19:52.099198Z",
     "shell.execute_reply.started": "2020-06-28T14:19:52.078165Z"
    }
   },
   "outputs": [],
   "source": [
    "base5 = spark.sql('''\n",
    "            SELECT *,\n",
    "            (CASE WHEN friends = 'None' THEN 0 ELSE friends_counter END) as friends_count\n",
    "            FROM base4\n",
    "            ''')"
   ]
  },
  {
   "cell_type": "code",
   "execution_count": 37,
   "metadata": {
    "execution": {
     "iopub.execute_input": "2020-06-28T14:19:52.103731Z",
     "iopub.status.busy": "2020-06-28T14:19:52.103155Z",
     "iopub.status.idle": "2020-06-28T14:20:09.998018Z",
     "shell.execute_reply": "2020-06-28T14:20:09.997103Z",
     "shell.execute_reply.started": "2020-06-28T14:19:52.103680Z"
    }
   },
   "outputs": [],
   "source": [
    "df = base5.select('friends','friends_counter','friends_count').limit(10).toPandas()"
   ]
  },
  {
   "cell_type": "code",
   "execution_count": 38,
   "metadata": {
    "execution": {
     "iopub.execute_input": "2020-06-28T14:20:09.999420Z",
     "iopub.status.busy": "2020-06-28T14:20:09.999063Z",
     "iopub.status.idle": "2020-06-28T14:20:10.006829Z",
     "shell.execute_reply": "2020-06-28T14:20:10.006157Z",
     "shell.execute_reply.started": "2020-06-28T14:20:09.999387Z"
    }
   },
   "outputs": [
    {
     "data": {
      "text/plain": [
       "friends            object\n",
       "friends_counter     int32\n",
       "friends_count       int32\n",
       "dtype: object"
      ]
     },
     "execution_count": 38,
     "metadata": {},
     "output_type": "execute_result"
    }
   ],
   "source": [
    "df.dtypes"
   ]
  },
  {
   "cell_type": "code",
   "execution_count": 39,
   "metadata": {
    "execution": {
     "iopub.execute_input": "2020-06-28T14:20:10.008085Z",
     "iopub.status.busy": "2020-06-28T14:20:10.007744Z",
     "iopub.status.idle": "2020-06-28T14:20:10.018063Z",
     "shell.execute_reply": "2020-06-28T14:20:10.017401Z",
     "shell.execute_reply.started": "2020-06-28T14:20:10.008058Z"
    }
   },
   "outputs": [
    {
     "data": {
      "text/html": [
       "<div>\n",
       "<style scoped>\n",
       "    .dataframe tbody tr th:only-of-type {\n",
       "        vertical-align: middle;\n",
       "    }\n",
       "\n",
       "    .dataframe tbody tr th {\n",
       "        vertical-align: top;\n",
       "    }\n",
       "\n",
       "    .dataframe thead th {\n",
       "        text-align: right;\n",
       "    }\n",
       "</style>\n",
       "<table border=\"1\" class=\"dataframe\">\n",
       "  <thead>\n",
       "    <tr style=\"text-align: right;\">\n",
       "      <th></th>\n",
       "      <th>friends</th>\n",
       "      <th>friends_counter</th>\n",
       "      <th>friends_count</th>\n",
       "    </tr>\n",
       "  </thead>\n",
       "  <tbody>\n",
       "    <tr>\n",
       "      <th>0</th>\n",
       "      <td>kUWW9YR-2xC9YUSavBro8w</td>\n",
       "      <td>1</td>\n",
       "      <td>1</td>\n",
       "    </tr>\n",
       "    <tr>\n",
       "      <th>1</th>\n",
       "      <td>kUWW9YR-2xC9YUSavBro8w</td>\n",
       "      <td>1</td>\n",
       "      <td>1</td>\n",
       "    </tr>\n",
       "    <tr>\n",
       "      <th>2</th>\n",
       "      <td>None</td>\n",
       "      <td>1</td>\n",
       "      <td>0</td>\n",
       "    </tr>\n",
       "    <tr>\n",
       "      <th>3</th>\n",
       "      <td>nI1M9-fatJdgiSZ-v1H2YA, KA47Ih5vwcYjAVV2XEBwhg...</td>\n",
       "      <td>16</td>\n",
       "      <td>16</td>\n",
       "    </tr>\n",
       "    <tr>\n",
       "      <th>4</th>\n",
       "      <td>714Mxso37tVsh33JRUGyUg, GJ3tKLqVEp4yUASpFegGBg...</td>\n",
       "      <td>15</td>\n",
       "      <td>15</td>\n",
       "    </tr>\n",
       "    <tr>\n",
       "      <th>5</th>\n",
       "      <td>CA1N8B5ZkSiUJeOXYcWImg, ngBDdwtpgtfFc9LNQT2Lzg...</td>\n",
       "      <td>27</td>\n",
       "      <td>27</td>\n",
       "    </tr>\n",
       "    <tr>\n",
       "      <th>6</th>\n",
       "      <td>CA1N8B5ZkSiUJeOXYcWImg, ngBDdwtpgtfFc9LNQT2Lzg...</td>\n",
       "      <td>27</td>\n",
       "      <td>27</td>\n",
       "    </tr>\n",
       "    <tr>\n",
       "      <th>7</th>\n",
       "      <td>CA1N8B5ZkSiUJeOXYcWImg, ngBDdwtpgtfFc9LNQT2Lzg...</td>\n",
       "      <td>27</td>\n",
       "      <td>27</td>\n",
       "    </tr>\n",
       "    <tr>\n",
       "      <th>8</th>\n",
       "      <td>CA1N8B5ZkSiUJeOXYcWImg, ngBDdwtpgtfFc9LNQT2Lzg...</td>\n",
       "      <td>27</td>\n",
       "      <td>27</td>\n",
       "    </tr>\n",
       "    <tr>\n",
       "      <th>9</th>\n",
       "      <td>CA1N8B5ZkSiUJeOXYcWImg, ngBDdwtpgtfFc9LNQT2Lzg...</td>\n",
       "      <td>27</td>\n",
       "      <td>27</td>\n",
       "    </tr>\n",
       "  </tbody>\n",
       "</table>\n",
       "</div>"
      ],
      "text/plain": [
       "                                             friends  friends_counter  \\\n",
       "0                             kUWW9YR-2xC9YUSavBro8w                1   \n",
       "1                             kUWW9YR-2xC9YUSavBro8w                1   \n",
       "2                                               None                1   \n",
       "3  nI1M9-fatJdgiSZ-v1H2YA, KA47Ih5vwcYjAVV2XEBwhg...               16   \n",
       "4  714Mxso37tVsh33JRUGyUg, GJ3tKLqVEp4yUASpFegGBg...               15   \n",
       "5  CA1N8B5ZkSiUJeOXYcWImg, ngBDdwtpgtfFc9LNQT2Lzg...               27   \n",
       "6  CA1N8B5ZkSiUJeOXYcWImg, ngBDdwtpgtfFc9LNQT2Lzg...               27   \n",
       "7  CA1N8B5ZkSiUJeOXYcWImg, ngBDdwtpgtfFc9LNQT2Lzg...               27   \n",
       "8  CA1N8B5ZkSiUJeOXYcWImg, ngBDdwtpgtfFc9LNQT2Lzg...               27   \n",
       "9  CA1N8B5ZkSiUJeOXYcWImg, ngBDdwtpgtfFc9LNQT2Lzg...               27   \n",
       "\n",
       "   friends_count  \n",
       "0              1  \n",
       "1              1  \n",
       "2              0  \n",
       "3             16  \n",
       "4             15  \n",
       "5             27  \n",
       "6             27  \n",
       "7             27  \n",
       "8             27  \n",
       "9             27  "
      ]
     },
     "execution_count": 39,
     "metadata": {},
     "output_type": "execute_result"
    }
   ],
   "source": [
    "df"
   ]
  },
  {
   "cell_type": "markdown",
   "metadata": {},
   "source": [
    "- Remoção de colunas que não serão utilizadas na primeira modelagem"
   ]
  },
  {
   "cell_type": "code",
   "execution_count": 49,
   "metadata": {
    "execution": {
     "iopub.execute_input": "2020-06-28T14:27:40.347811Z",
     "iopub.status.busy": "2020-06-28T14:27:40.347474Z",
     "iopub.status.idle": "2020-06-28T14:27:40.358463Z",
     "shell.execute_reply": "2020-06-28T14:27:40.357739Z",
     "shell.execute_reply.started": "2020-06-28T14:27:40.347778Z"
    }
   },
   "outputs": [],
   "source": [
    "base6 = base5.drop('friends','friends_counter','name_usr','city', 'address','review_id','state', 'hours','text_clean','text','elite_usr')"
   ]
  },
  {
   "cell_type": "code",
   "execution_count": 50,
   "metadata": {
    "execution": {
     "iopub.execute_input": "2020-06-28T14:27:41.044118Z",
     "iopub.status.busy": "2020-06-28T14:27:41.043826Z",
     "iopub.status.idle": "2020-06-28T14:27:41.049963Z",
     "shell.execute_reply": "2020-06-28T14:27:41.049220Z",
     "shell.execute_reply.started": "2020-06-28T14:27:41.044089Z"
    }
   },
   "outputs": [
    {
     "data": {
      "text/plain": [
       "['business_id',\n",
       " 'cool',\n",
       " 'date',\n",
       " 'funny',\n",
       " 'stars',\n",
       " 'useful',\n",
       " 'user_id',\n",
       " 'categories',\n",
       " 'is_open',\n",
       " 'latitude',\n",
       " 'longitude',\n",
       " 'name_bz',\n",
       " 'postal_code',\n",
       " 'review_count',\n",
       " 'stars_bz',\n",
       " 'stars_usr',\n",
       " 'compliment_cool',\n",
       " 'compliment_cute',\n",
       " 'compliment_funny',\n",
       " 'compliment_hot',\n",
       " 'compliment_list',\n",
       " 'compliment_more',\n",
       " 'compliment_note',\n",
       " 'compliment_photos',\n",
       " 'compliment_plain',\n",
       " 'compliment_profile',\n",
       " 'compliment_writer',\n",
       " 'cool_usr',\n",
       " 'fans',\n",
       " 'funny_usr',\n",
       " 'review_count_usr',\n",
       " 'useful_usr',\n",
       " 'yelping_since',\n",
       " 'class_rv',\n",
       " 'class_bz',\n",
       " 'class_usr',\n",
       " 'friends_count']"
      ]
     },
     "execution_count": 50,
     "metadata": {},
     "output_type": "execute_result"
    }
   ],
   "source": [
    "base6.columns"
   ]
  },
  {
   "cell_type": "code",
   "execution_count": 51,
   "metadata": {
    "execution": {
     "iopub.execute_input": "2020-06-28T14:27:43.843321Z",
     "iopub.status.busy": "2020-06-28T14:27:43.843031Z",
     "iopub.status.idle": "2020-06-28T14:28:18.683699Z",
     "shell.execute_reply": "2020-06-28T14:28:18.682935Z",
     "shell.execute_reply.started": "2020-06-28T14:27:43.843293Z"
    }
   },
   "outputs": [],
   "source": [
    "base6.limit(50000).write \\\n",
    "    .format('csv') \\\n",
    "    .mode('overwrite') \\\n",
    "    .option('sep', ',') \\\n",
    "    .option('header', True) \\\n",
    "    .save('output/yelp.csv')"
   ]
  },
  {
   "cell_type": "markdown",
   "metadata": {},
   "source": [
    "# Matriz de distâncias"
   ]
  },
  {
   "cell_type": "markdown",
   "metadata": {},
   "source": [
    "- Preparação para criação de matriz de distâncias baseada na nota de cada avaliação."
   ]
  },
  {
   "cell_type": "code",
   "execution_count": 43,
   "metadata": {
    "execution": {
     "iopub.execute_input": "2020-06-28T14:22:51.762369Z",
     "iopub.status.busy": "2020-06-28T14:22:51.762073Z",
     "iopub.status.idle": "2020-06-28T14:22:51.773374Z",
     "shell.execute_reply": "2020-06-28T14:22:51.772619Z",
     "shell.execute_reply.started": "2020-06-28T14:22:51.762341Z"
    }
   },
   "outputs": [],
   "source": [
    "dist1 = base6.select('user_id','business_id','stars')"
   ]
  },
  {
   "cell_type": "code",
   "execution_count": 44,
   "metadata": {
    "execution": {
     "iopub.execute_input": "2020-06-28T14:22:52.582604Z",
     "iopub.status.busy": "2020-06-28T14:22:52.582286Z",
     "iopub.status.idle": "2020-06-28T14:23:02.475711Z",
     "shell.execute_reply": "2020-06-28T14:23:02.475037Z",
     "shell.execute_reply.started": "2020-06-28T14:22:52.582570Z"
    }
   },
   "outputs": [
    {
     "name": "stdout",
     "output_type": "stream",
     "text": [
      "+--------------------+--------------------+-----+\n",
      "|             user_id|         business_id|stars|\n",
      "+--------------------+--------------------+-----+\n",
      "|-4Anvj46CWf57KWI9...|478TIlfHXfT3wvww5...|  3.0|\n",
      "|-4Anvj46CWf57KWI9...|vKA9sIqBcW0UlTKGh...|  4.0|\n",
      "|-897i_JdWyDsXGUa8...|Qy_gJU57rAsoV__qu...|  3.0|\n",
      "|-BUamlG3H-7yqpAl1...|MlKNIbEM-JL9WesSd...|  1.0|\n",
      "|-CGdueQKCHM_KnHxO...|Ze4VPogvcD7inc3Qu...|  1.0|\n",
      "|-JBB4-ALR07J6Pbx4...|ZmnCN-U7mhuZtlWHR...|  5.0|\n",
      "|-JBB4-ALR07J6Pbx4...|lVVJMvqu4LXL5rBqj...|  4.0|\n",
      "|-JBB4-ALR07J6Pbx4...|RXaxKQJtExnRZX1in...|  1.0|\n",
      "|-JBB4-ALR07J6Pbx4...|87I8ba2FKYKeXyAhi...|  4.0|\n",
      "|-JBB4-ALR07J6Pbx4...|jL7snnRKUYWNfq1NL...|  1.0|\n",
      "|-JBB4-ALR07J6Pbx4...|EK38MXW_OsC5CZVvI...|  2.0|\n",
      "|-JBB4-ALR07J6Pbx4...|SxjNgkzAlUG-wt2rS...|  4.0|\n",
      "|-JBB4-ALR07J6Pbx4...|lOKgoQtMhnlf6hWvr...|  4.0|\n",
      "|-JBB4-ALR07J6Pbx4...|FQr_scgz9a4sXTdRS...|  3.0|\n",
      "|-JBB4-ALR07J6Pbx4...|AFF2vsQmRT4L22AvU...|  3.0|\n",
      "|-JBB4-ALR07J6Pbx4...|L82O1ZFFQfjJxF0_P...|  4.0|\n",
      "|-JBB4-ALR07J6Pbx4...|wcZiDpDRcFnH3hhGX...|  4.0|\n",
      "|-JBB4-ALR07J6Pbx4...|U4iqELk1IiqARpk5u...|  5.0|\n",
      "|-JBB4-ALR07J6Pbx4...|djKTruHtS4n_vlfOk...|  5.0|\n",
      "|-JBB4-ALR07J6Pbx4...|4DLsC4BTUoEqFGuse...|  4.0|\n",
      "+--------------------+--------------------+-----+\n",
      "only showing top 20 rows\n",
      "\n"
     ]
    }
   ],
   "source": [
    "dist1.show()"
   ]
  },
  {
   "cell_type": "markdown",
   "metadata": {},
   "source": [
    "- Quantidade de usuários e estabelecimentos"
   ]
  },
  {
   "cell_type": "code",
   "execution_count": 45,
   "metadata": {
    "execution": {
     "iopub.execute_input": "2020-06-28T14:23:02.477400Z",
     "iopub.status.busy": "2020-06-28T14:23:02.477138Z",
     "iopub.status.idle": "2020-06-28T14:23:13.802690Z",
     "shell.execute_reply": "2020-06-28T14:23:13.801951Z",
     "shell.execute_reply.started": "2020-06-28T14:23:02.477374Z"
    }
   },
   "outputs": [
    {
     "name": "stdout",
     "output_type": "stream",
     "text": [
      "+-----------------------+\n",
      "|count(DISTINCT user_id)|\n",
      "+-----------------------+\n",
      "|                 132328|\n",
      "+-----------------------+\n",
      "\n"
     ]
    }
   ],
   "source": [
    "spark.sql('''\n",
    "            SELECT Count(DISTINCT user_id)\n",
    "            FROM base4\n",
    "            ''').show()"
   ]
  },
  {
   "cell_type": "code",
   "execution_count": 46,
   "metadata": {
    "execution": {
     "iopub.execute_input": "2020-06-28T14:23:13.805041Z",
     "iopub.status.busy": "2020-06-28T14:23:13.804741Z",
     "iopub.status.idle": "2020-06-28T14:23:32.566967Z",
     "shell.execute_reply": "2020-06-28T14:23:32.566273Z",
     "shell.execute_reply.started": "2020-06-28T14:23:13.805009Z"
    }
   },
   "outputs": [
    {
     "name": "stdout",
     "output_type": "stream",
     "text": [
      "+---------------------------+\n",
      "|count(DISTINCT business_id)|\n",
      "+---------------------------+\n",
      "|                      20364|\n",
      "+---------------------------+\n",
      "\n"
     ]
    }
   ],
   "source": [
    "spark.sql('''\n",
    "            SELECT Count(DISTINCT business_id)\n",
    "            FROM base4\n",
    "            ''').show()"
   ]
  },
  {
   "cell_type": "markdown",
   "metadata": {},
   "source": [
    "- Aumentando o limite máximo de coluna de acordo com o número de estabelecimentos"
   ]
  },
  {
   "cell_type": "code",
   "execution_count": 55,
   "metadata": {
    "execution": {
     "iopub.execute_input": "2020-06-28T13:47:41.350121Z",
     "iopub.status.busy": "2020-06-28T13:47:41.349794Z",
     "iopub.status.idle": "2020-06-28T13:47:41.354036Z",
     "shell.execute_reply": "2020-06-28T13:47:41.353246Z",
     "shell.execute_reply.started": "2020-06-28T13:47:41.350089Z"
    }
   },
   "outputs": [],
   "source": [
    "spark.conf.set('spark.sql.pivotMaxValues', u'21000')"
   ]
  },
  {
   "cell_type": "code",
   "execution_count": 47,
   "metadata": {
    "execution": {
     "iopub.execute_input": "2020-06-28T14:23:32.568604Z",
     "iopub.status.busy": "2020-06-28T14:23:32.568339Z",
     "iopub.status.idle": "2020-06-28T14:23:43.796583Z",
     "shell.execute_reply": "2020-06-28T14:23:43.795869Z",
     "shell.execute_reply.started": "2020-06-28T14:23:32.568577Z"
    }
   },
   "outputs": [],
   "source": [
    "dist2 = dist1.limit(10000).groupBy(\"user_id\").pivot(\"business_id\").mean(\"stars\")"
   ]
  },
  {
   "cell_type": "code",
   "execution_count": 48,
   "metadata": {
    "execution": {
     "iopub.execute_input": "2020-06-28T14:23:45.302584Z",
     "iopub.status.busy": "2020-06-28T14:23:45.302298Z",
     "iopub.status.idle": "2020-06-28T14:25:37.081427Z",
     "shell.execute_reply": "2020-06-28T14:25:37.080569Z",
     "shell.execute_reply.started": "2020-06-28T14:23:45.302557Z"
    }
   },
   "outputs": [],
   "source": [
    "dist2.write \\\n",
    "    .format('csv') \\\n",
    "    .mode('overwrite') \\\n",
    "    .option('sep', ',') \\\n",
    "    .option('header', True) \\\n",
    "    .save('output/yelp_dist.csv')"
   ]
  },
  {
   "cell_type": "code",
   "execution_count": null,
   "metadata": {},
   "outputs": [],
   "source": []
  }
 ],
 "metadata": {
  "kernelspec": {
   "display_name": "Python 3",
   "language": "python",
   "name": "python3"
  },
  "language_info": {
   "codemirror_mode": {
    "name": "ipython",
    "version": 3
   },
   "file_extension": ".py",
   "mimetype": "text/x-python",
   "name": "python",
   "nbconvert_exporter": "python",
   "pygments_lexer": "ipython3",
   "version": "3.7.7"
  },
  "toc": {
   "base_numbering": 1,
   "nav_menu": {},
   "number_sections": true,
   "sideBar": true,
   "skip_h1_title": false,
   "title_cell": "Table of Contents",
   "title_sidebar": "Contents",
   "toc_cell": false,
   "toc_position": {},
   "toc_section_display": true,
   "toc_window_display": false
  },
  "toc-autonumbering": true,
  "toc-showcode": true
 },
 "nbformat": 4,
 "nbformat_minor": 4
}
