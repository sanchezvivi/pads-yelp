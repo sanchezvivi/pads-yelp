{
 "cells": [
  {
   "cell_type": "markdown",
   "metadata": {},
   "source": [
    "# Atividade Integradora"
   ]
  },
  {
   "cell_type": "code",
   "execution_count": 1,
   "metadata": {
    "execution": {
     "iopub.execute_input": "2020-07-02T11:45:24.559585Z",
     "iopub.status.busy": "2020-07-02T11:45:24.559340Z",
     "iopub.status.idle": "2020-07-02T11:45:24.565111Z",
     "shell.execute_reply": "2020-07-02T11:45:24.564408Z",
     "shell.execute_reply.started": "2020-07-02T11:45:24.559562Z"
    }
   },
   "outputs": [],
   "source": [
    "import findspark as fs"
   ]
  },
  {
   "cell_type": "code",
   "execution_count": 2,
   "metadata": {
    "ExecuteTime": {
     "end_time": "2020-06-25T23:35:06.447196Z",
     "start_time": "2020-06-25T23:34:16.838507Z"
    },
    "execution": {
     "iopub.execute_input": "2020-07-02T11:45:25.227997Z",
     "iopub.status.busy": "2020-07-02T11:45:25.227750Z",
     "iopub.status.idle": "2020-07-02T11:45:26.972522Z",
     "shell.execute_reply": "2020-07-02T11:45:26.971810Z",
     "shell.execute_reply.started": "2020-07-02T11:45:25.227975Z"
    }
   },
   "outputs": [],
   "source": [
    "from pyspark.sql import SparkSession\n",
    "from pyspark.sql.types import *\n",
    "from pyspark.sql import functions as f\n",
    "from pyspark.sql.window import Window\n",
    "from pyspark.ml.feature import StopWordsRemover\n",
    "import pandas as pd\n",
    "import seaborn as sns\n",
    "sns.set(style=\"ticks\", palette=\"pastel\")\n",
    "import os\n",
    "from wordcloud import WordCloud, ImageColorGenerator\n",
    "import matplotlib.pyplot as plt\n",
    "%matplotlib inline"
   ]
  },
  {
   "cell_type": "code",
   "execution_count": 3,
   "metadata": {
    "execution": {
     "iopub.execute_input": "2020-07-02T11:45:26.974251Z",
     "iopub.status.busy": "2020-07-02T11:45:26.973897Z",
     "iopub.status.idle": "2020-07-02T11:45:26.980544Z",
     "shell.execute_reply": "2020-07-02T11:45:26.979954Z",
     "shell.execute_reply.started": "2020-07-02T11:45:26.974217Z"
    }
   },
   "outputs": [],
   "source": [
    "spark_location='/Users/vivi/server/spark' # Set your own\n",
    "java8_location= '/Library/Java/JavaVirtualMachines/jdk1.8.0_251.jdk/Contents/Home/' # Set your own\n",
    "os.environ['JAVA_HOME'] = java8_location\n",
    "fs.init(spark_home=spark_location)"
   ]
  },
  {
   "cell_type": "code",
   "execution_count": 4,
   "metadata": {
    "ExecuteTime": {
     "end_time": "2020-06-25T23:35:09.828210Z",
     "start_time": "2020-06-25T23:35:09.819873Z"
    },
    "execution": {
     "iopub.execute_input": "2020-07-02T11:45:27.708337Z",
     "iopub.status.busy": "2020-07-02T11:45:27.708061Z",
     "iopub.status.idle": "2020-07-02T11:45:27.711357Z",
     "shell.execute_reply": "2020-07-02T11:45:27.710634Z",
     "shell.execute_reply.started": "2020-07-02T11:45:27.708308Z"
    }
   },
   "outputs": [],
   "source": [
    "datapath = 'data'"
   ]
  },
  {
   "cell_type": "code",
   "execution_count": 5,
   "metadata": {
    "ExecuteTime": {
     "end_time": "2020-06-25T23:35:13.310248Z",
     "start_time": "2020-06-25T23:35:13.285813Z"
    },
    "execution": {
     "iopub.execute_input": "2020-07-02T11:45:28.990819Z",
     "iopub.status.busy": "2020-07-02T11:45:28.990535Z",
     "iopub.status.idle": "2020-07-02T11:45:28.994580Z",
     "shell.execute_reply": "2020-07-02T11:45:28.993760Z",
     "shell.execute_reply.started": "2020-07-02T11:45:28.990793Z"
    }
   },
   "outputs": [],
   "source": [
    "files = sorted(os.listdir(datapath))"
   ]
  },
  {
   "cell_type": "code",
   "execution_count": 6,
   "metadata": {
    "ExecuteTime": {
     "end_time": "2020-06-25T10:27:27.813392Z",
     "start_time": "2020-06-25T10:27:27.808226Z"
    },
    "execution": {
     "iopub.execute_input": "2020-07-02T11:45:30.177245Z",
     "iopub.status.busy": "2020-07-02T11:45:30.176996Z",
     "iopub.status.idle": "2020-07-02T11:45:30.182037Z",
     "shell.execute_reply": "2020-07-02T11:45:30.181248Z",
     "shell.execute_reply.started": "2020-07-02T11:45:30.177223Z"
    },
    "scrolled": true
   },
   "outputs": [
    {
     "data": {
      "text/plain": [
       "['.DS_Store',\n",
       " 'dataset list.rtf',\n",
       " 'yelp_academic_dataset_business.json',\n",
       " 'yelp_academic_dataset_checkin.json',\n",
       " 'yelp_academic_dataset_review.json',\n",
       " 'yelp_academic_dataset_tip.json',\n",
       " 'yelp_academic_dataset_user.json']"
      ]
     },
     "execution_count": 6,
     "metadata": {},
     "output_type": "execute_result"
    }
   ],
   "source": [
    "files"
   ]
  },
  {
   "cell_type": "code",
   "execution_count": 7,
   "metadata": {
    "ExecuteTime": {
     "end_time": "2020-06-25T10:15:29.867644Z",
     "start_time": "2020-06-25T10:15:29.751147Z"
    },
    "execution": {
     "iopub.execute_input": "2020-07-02T11:45:31.664266Z",
     "iopub.status.busy": "2020-07-02T11:45:31.664004Z",
     "iopub.status.idle": "2020-07-02T11:45:31.787809Z",
     "shell.execute_reply": "2020-07-02T11:45:31.786788Z",
     "shell.execute_reply.started": "2020-07-02T11:45:31.664242Z"
    }
   },
   "outputs": [
    {
     "name": "stdout",
     "output_type": "stream",
     "text": [
      "{\"review_id\":\"xQY8N_XvtGbearJ5X4QryQ\",\"user_id\":\"OwjRMXRC0KyPrIlcjaXeFQ\",\"business_id\":\"-MhfebM0QIsKt87iDN-FNw\",\"stars\":2.0,\"useful\":5,\"funny\":0,\"cool\":0,\"text\":\"As someone who has worked with many museums, I was eager to visit this gallery on my most recent trip to Las Vegas. When I saw they would be showing infamous eggs of the House of Faberge from the Virginia Museum of Fine Arts (VMFA), I knew I had to go!\\n\\nTucked away near the gelateria and the garden, the Gallery is pretty much hidden from view. It's what real estate agents would call \\\"cozy\\\" or \\\"charming\\\" - basically any euphemism for small.\\n\\nThat being said, you can still see wonderful art at a gallery of any size, so why the two *s you ask? Let me tell you:\\n\\n* pricing for this, while relatively inexpensive for a Las Vegas attraction, is completely over the top. For the space and the amount of art you can fit in there, it is a bit much.\\n* it's not kid friendly at all. Seriously, don't bring them.\\n* the security is not trained properly for the show. When the curating and design teams collaborate for exhibitions, there is a definite flow. That means visitors should view the art in a certain sequence, whether it be by historical period or cultural significance (this is how audio guides are usually developed). When I arrived in the gallery I could not tell where to start, and security was certainly not helpful. I was told to \\\"just look around\\\" and \\\"do whatever.\\\" \\n\\nAt such a *fine* institution, I find the lack of knowledge and respect for the art appalling.\",\"date\":\"2015-04-15 05:21:16\"}\n",
      "{\"review_id\":\"UmFMZ8PyXZTY2QcwzsfQYA\",\"user_id\":\"nIJD_7ZXHq-FX8byPMOkMQ\",\"business_id\":\"lbrU8StCq3yDfr-QMnGrmQ\",\"stars\":1.0,\"useful\":1,\"funny\":1,\"cool\":0,\"text\":\"I am actually horrified this place is still in business. My 3 year old son needed a haircut this past summer and the lure of the $7 kids cut signs got me in the door. We had to wait a few minutes as both stylists were working on people. The decor in this place is total garbage. It is so tacky. The sofa they had at the time was a pleather sofa with giant holes in it. And my son noticed ants crawling all over the floor and the furniture. It was disgusting and I should have walked out then. Actually, I should have turned around and walked out upon entering but I didn't. So the older black male stylist finishes the haircut he was doing and it's our turn. I tell him I want a #2 clipper around the back and sides and then hand cut the top into a standard boys cut. Really freaking simple, right? WRONG! Rather than use the clippers and go up to actually cut the hair, he went down. Using it moving downward doesn't cut hair, it just rubs against it. How does this man who has an alleged cosmetology license not know how to use a set of freaking clippers??? I realized almost immediately that he had no idea what he was doing. No idea at all. After about 10 minutes of watching this guy stumble through it, I said \\\"you know what? That's fine.\\\", paid and left. All I wanted to do was get out of that scummy joint and take my son to a real haircut place.\\n\\nBottom line: DO NOT GO HERE. RUN THE OTHER WAY!!!!!\",\"date\":\"2013-12-07 03:16:52\"}\n",
      "{\"review_id\":\"LG2ZaYiOgpr2DK_90pYjNw\",\"user_id\":\"V34qejxNsCbcgD8C0HVk-Q\",\"business_id\":\"HQl28KMwrEKHqhFrrDqVNQ\",\"stars\":5.0,\"useful\":1,\"funny\":0,\"cool\":0,\"text\":\"I love Deagan's. I do. I really do. The atmosphere is cozy and festive. The shrimp tacos and house fries are my standbys. The fries are sometimes good and sometimes great, and the spicy dipping sauce they come with is to die for. The beer list is amazing and the cocktails are great. The prices are mid-level, so it's not a cheap dive you can go to every week, but rather a treat when you do. Try it out. You won't be disappointed!\",\"date\":\"2015-12-05 03:18:11\"}\n",
      "{\"review_id\":\"i6g_oA9Yf9Y31qt0wibXpw\",\"user_id\":\"ofKDkJKXSKZXu5xJNGiiBQ\",\"business_id\":\"5JxlZaqCnk1MnbgRirs40Q\",\"stars\":1.0,\"useful\":0,\"funny\":0,\"cool\":0,\"text\":\"Dismal, lukewarm, defrosted-tasting \\\"TexMex\\\" glop;\\n\\nMumbly, unengaged waiter;\\n\\nClueless manager, who seeing us with barely nibbled entrees\\non plates shoved forward for pickup, thanked us\\nperfunctorily for our patronage;\\n\\nWe're from the Texas Hill Country;\\ndown there, we jail critters \\nwho serve up grub this bad,\\nfor their own protection.\\n\\nNever, never, NEVER again\\n(Back to Yard House for real food)\",\"date\":\"2011-05-27 05:30:52\"}\n",
      "{\"review_id\":\"6TdNDKywdbjoTkizeMce8A\",\"user_id\":\"UgMW8bLE0QMJDCkQ1Ax5Mg\",\"business_id\":\"IS4cv902ykd8wj1TR0N3-A\",\"stars\":4.0,\"useful\":0,\"funny\":0,\"cool\":0,\"text\":\"Oh happy day, finally have a Canes near my casa. Yes just as others are griping about the Drive thru is packed just like most of the other canes in the area but I like to go sit down to enjoy my chicken. The cashiers are pleasant and as far as food wise i have yet to receive any funky chicken. The clean up crew zips around the dining area constantly so it's usually well kept. My only gripe is the one fella with Red hair he makes the rounds while cleaning but no smile or personality a few nights ago he tossed the napkins i just put on the table to help go with my meal. After I was done he just reached for my tray no \\\"excuse me or are you done with that?\\\"  I realize he's trying to do his job quickly but a little table manners goes along way. That being said still like to grub here and glad that there's finally a Cane's close to me.\",\"date\":\"2017-01-14 21:56:57\"}\n",
      "{\"review_id\":\"L2O_INwlrRuoX05KSjc4eg\",\"user_id\":\"5vD2kmE25YBrbayKhykNxQ\",\"business_id\":\"nlxHRv1zXGT0c0K51q3jDg\",\"stars\":5.0,\"useful\":2,\"funny\":0,\"cool\":0,\"text\":\"This is definitely my favorite fast food sub shop. Ingredients are everything, and everything I see and taste here tells me that they're using top-grade fresh ingredients. The brisket sandwich is probably my favorite... and it's the one my wife ALWAYS gets. Unlike her, I often bounce around the menu to try different things. Definitely a step up from Subway, Quiznos, Jimmy Johns, etc in my opinion. As with all of my reviews, I grade each place relative to what I perceive to be its peers - so five star compared to them.\",\"date\":\"2013-05-07 07:25:25\"}\n",
      "{\"review_id\":\"ZayJ1zWyWgY9S_TRLT_y9Q\",\"user_id\":\"aq_ZxGHiri48TUXJlpRkCQ\",\"business_id\":\"Pthe4qk5xh4n-ef-9bvMSg\",\"stars\":5.0,\"useful\":1,\"funny\":0,\"cool\":0,\"text\":\"Really good place with simple decor, amazing food and great hospitality.\\nVery impressed with the lunch portion. Although service took little extra time but I have no complaints since they are quite new in business. The green curry chicken was good and to the right spice balance I asked for. I will definitely recommend this place to others.\",\"date\":\"2015-11-05 23:11:05\"}\n",
      "{\"review_id\":\"lpFIJYpsvDxyph-kPzZ6aA\",\"user_id\":\"dsd-KNYKMpx6ma_sRWCSkQ\",\"business_id\":\"FNCJpSn0tL9iqoY3JC73qw\",\"stars\":5.0,\"useful\":0,\"funny\":0,\"cool\":0,\"text\":\"Awesome office and staff, very professional and friendly. I saw Adam Garling PA-C and his assistant, they were very friendly, professional, and helpful. I highly recommend Centennial Dermatology! I will definitely return for more visits.\",\"date\":\"2017-07-18 18:31:54\"}\n",
      "{\"review_id\":\"JA-xnyHytKiOIHl_ztnK9Q\",\"user_id\":\"P6apihD4ASf1vpPxHODxAQ\",\"business_id\":\"e_BiI4ej1CW1F0EyVLr-FQ\",\"stars\":5.0,\"useful\":0,\"funny\":0,\"cool\":0,\"text\":\"Most delicious authentic Italian I've had in the US. You wouldn't leave this place unhappy. The setting is cozy and a perfect spot for VD, anniversaries, or a special date. They'll make you feel like you're in Italy.\",\"date\":\"2015-02-16 06:48:47\"}\n",
      "{\"review_id\":\"z4BCgTkfNtCu4XY5Lp97ww\",\"user_id\":\"jOERvhmK6_lo_XGUBPws_w\",\"business_id\":\"Ws8V970-mQt2X9CwCuT5zw\",\"stars\":4.0,\"useful\":3,\"funny\":0,\"cool\":1,\"text\":\"I have been here twice. Very nice and laid back. I tried the weekend Southern menu and it was delicious! Collard greens, mac&cheese, ribs, BBQ chicken sandwich. The scone with clotted cream was divine!!!! The iced teas are very refreshing and I swear I drank a whole container myself both visits. \\nThe second time I had soup, salad and a sandwich. The salad had this amazing (raspberry? strawberry?, I forgot) vinaigrette. The sandwich was good, but I was kind of disappointed with the soup. It was potato and tasted too \\\"milky\\\". \\nThey change the menu often and now have a tea inspired one. Can't wait to go back and try it.\\nThe owners are very nice and I hope they continue to do well.\",\"date\":\"2009-10-13 04:16:41\"}\n"
     ]
    }
   ],
   "source": [
    "!head data/yelp_academic_dataset_review.json"
   ]
  },
  {
   "cell_type": "code",
   "execution_count": 8,
   "metadata": {
    "ExecuteTime": {
     "end_time": "2020-06-25T10:27:38.112968Z",
     "start_time": "2020-06-25T10:27:32.235357Z"
    },
    "execution": {
     "iopub.execute_input": "2020-07-02T11:45:34.733417Z",
     "iopub.status.busy": "2020-07-02T11:45:34.733113Z",
     "iopub.status.idle": "2020-07-02T11:45:39.027962Z",
     "shell.execute_reply": "2020-07-02T11:45:39.027120Z",
     "shell.execute_reply.started": "2020-07-02T11:45:34.733387Z"
    }
   },
   "outputs": [],
   "source": [
    "spark = SparkSession.builder \\\n",
    "    .master('local[*]') \\\n",
    "    .appName('Integradora Yelp') \\\n",
    "    .config(\"spark.ui.port\", \"4060\") \\\n",
    "    .getOrCreate()"
   ]
  },
  {
   "cell_type": "code",
   "execution_count": 9,
   "metadata": {
    "ExecuteTime": {
     "end_time": "2020-06-25T10:27:39.131115Z",
     "start_time": "2020-06-25T10:27:39.128087Z"
    },
    "execution": {
     "iopub.execute_input": "2020-07-02T11:45:40.089142Z",
     "iopub.status.busy": "2020-07-02T11:45:40.088889Z",
     "iopub.status.idle": "2020-07-02T11:45:40.093448Z",
     "shell.execute_reply": "2020-07-02T11:45:40.092055Z",
     "shell.execute_reply.started": "2020-07-02T11:45:40.089121Z"
    }
   },
   "outputs": [],
   "source": [
    "sc = spark.sparkContext"
   ]
  },
  {
   "cell_type": "code",
   "execution_count": 72,
   "metadata": {
    "execution": {
     "iopub.execute_input": "2020-07-02T12:15:56.541823Z",
     "iopub.status.busy": "2020-07-02T12:15:56.541585Z",
     "iopub.status.idle": "2020-07-02T12:15:56.815411Z",
     "shell.execute_reply": "2020-07-02T12:15:56.814515Z",
     "shell.execute_reply.started": "2020-07-02T12:15:56.541801Z"
    }
   },
   "outputs": [],
   "source": [
    "spark#.stop()"
   ]
  },
  {
   "cell_type": "markdown",
   "metadata": {},
   "source": [
    "## Bases"
   ]
  },
  {
   "cell_type": "code",
   "execution_count": 11,
   "metadata": {
    "execution": {
     "iopub.execute_input": "2020-07-02T11:45:43.633064Z",
     "iopub.status.busy": "2020-07-02T11:45:43.632579Z",
     "iopub.status.idle": "2020-07-02T11:45:49.988884Z",
     "shell.execute_reply": "2020-07-02T11:45:49.987956Z",
     "shell.execute_reply.started": "2020-07-02T11:45:43.633031Z"
    }
   },
   "outputs": [],
   "source": [
    "usr_raw = spark.read.json(datapath+'/yelp_academic_dataset_user.json')"
   ]
  },
  {
   "cell_type": "code",
   "execution_count": 12,
   "metadata": {
    "execution": {
     "iopub.execute_input": "2020-07-02T11:45:50.897584Z",
     "iopub.status.busy": "2020-07-02T11:45:50.897288Z",
     "iopub.status.idle": "2020-07-02T11:45:55.359283Z",
     "shell.execute_reply": "2020-07-02T11:45:55.358721Z",
     "shell.execute_reply.started": "2020-07-02T11:45:50.897558Z"
    }
   },
   "outputs": [],
   "source": [
    "rv_raw = spark.read.json(datapath+'/yelp_academic_dataset_review.json')"
   ]
  },
  {
   "cell_type": "code",
   "execution_count": 13,
   "metadata": {
    "ExecuteTime": {
     "end_time": "2020-06-25T10:27:48.350531Z",
     "start_time": "2020-06-25T10:27:41.162424Z"
    },
    "execution": {
     "iopub.execute_input": "2020-07-02T11:45:55.360663Z",
     "iopub.status.busy": "2020-07-02T11:45:55.360444Z",
     "iopub.status.idle": "2020-07-02T11:45:56.162331Z",
     "shell.execute_reply": "2020-07-02T11:45:56.161767Z",
     "shell.execute_reply.started": "2020-07-02T11:45:55.360642Z"
    }
   },
   "outputs": [],
   "source": [
    "bz_raw = spark.read.json(datapath+'/yelp_academic_dataset_business.json')"
   ]
  },
  {
   "cell_type": "code",
   "execution_count": 14,
   "metadata": {
    "execution": {
     "iopub.execute_input": "2020-07-02T11:45:56.165239Z",
     "iopub.status.busy": "2020-07-02T11:45:56.164817Z",
     "iopub.status.idle": "2020-07-02T11:45:56.594827Z",
     "shell.execute_reply": "2020-07-02T11:45:56.593992Z",
     "shell.execute_reply.started": "2020-07-02T11:45:56.165200Z"
    }
   },
   "outputs": [],
   "source": [
    "tp_raw = spark.read.json(datapath+'/yelp_academic_dataset_tip.json')"
   ]
  },
  {
   "cell_type": "code",
   "execution_count": 15,
   "metadata": {
    "ExecuteTime": {
     "end_time": "2020-06-25T10:27:49.361628Z",
     "start_time": "2020-06-25T10:27:49.332037Z"
    },
    "execution": {
     "iopub.execute_input": "2020-07-02T11:45:57.795648Z",
     "iopub.status.busy": "2020-07-02T11:45:57.795367Z",
     "iopub.status.idle": "2020-07-02T11:45:57.819793Z",
     "shell.execute_reply": "2020-07-02T11:45:57.819161Z",
     "shell.execute_reply.started": "2020-07-02T11:45:57.795621Z"
    }
   },
   "outputs": [
    {
     "name": "stdout",
     "output_type": "stream",
     "text": [
      "root\n",
      " |-- address: string (nullable = true)\n",
      " |-- attributes: struct (nullable = true)\n",
      " |    |-- AcceptsInsurance: string (nullable = true)\n",
      " |    |-- AgesAllowed: string (nullable = true)\n",
      " |    |-- Alcohol: string (nullable = true)\n",
      " |    |-- Ambience: string (nullable = true)\n",
      " |    |-- BYOB: string (nullable = true)\n",
      " |    |-- BYOBCorkage: string (nullable = true)\n",
      " |    |-- BestNights: string (nullable = true)\n",
      " |    |-- BikeParking: string (nullable = true)\n",
      " |    |-- BusinessAcceptsBitcoin: string (nullable = true)\n",
      " |    |-- BusinessAcceptsCreditCards: string (nullable = true)\n",
      " |    |-- BusinessParking: string (nullable = true)\n",
      " |    |-- ByAppointmentOnly: string (nullable = true)\n",
      " |    |-- Caters: string (nullable = true)\n",
      " |    |-- CoatCheck: string (nullable = true)\n",
      " |    |-- Corkage: string (nullable = true)\n",
      " |    |-- DietaryRestrictions: string (nullable = true)\n",
      " |    |-- DogsAllowed: string (nullable = true)\n",
      " |    |-- DriveThru: string (nullable = true)\n",
      " |    |-- GoodForDancing: string (nullable = true)\n",
      " |    |-- GoodForKids: string (nullable = true)\n",
      " |    |-- GoodForMeal: string (nullable = true)\n",
      " |    |-- HairSpecializesIn: string (nullable = true)\n",
      " |    |-- HappyHour: string (nullable = true)\n",
      " |    |-- HasTV: string (nullable = true)\n",
      " |    |-- Music: string (nullable = true)\n",
      " |    |-- NoiseLevel: string (nullable = true)\n",
      " |    |-- Open24Hours: string (nullable = true)\n",
      " |    |-- OutdoorSeating: string (nullable = true)\n",
      " |    |-- RestaurantsAttire: string (nullable = true)\n",
      " |    |-- RestaurantsCounterService: string (nullable = true)\n",
      " |    |-- RestaurantsDelivery: string (nullable = true)\n",
      " |    |-- RestaurantsGoodForGroups: string (nullable = true)\n",
      " |    |-- RestaurantsPriceRange2: string (nullable = true)\n",
      " |    |-- RestaurantsReservations: string (nullable = true)\n",
      " |    |-- RestaurantsTableService: string (nullable = true)\n",
      " |    |-- RestaurantsTakeOut: string (nullable = true)\n",
      " |    |-- Smoking: string (nullable = true)\n",
      " |    |-- WheelchairAccessible: string (nullable = true)\n",
      " |    |-- WiFi: string (nullable = true)\n",
      " |-- business_id: string (nullable = true)\n",
      " |-- categories: string (nullable = true)\n",
      " |-- city: string (nullable = true)\n",
      " |-- hours: struct (nullable = true)\n",
      " |    |-- Friday: string (nullable = true)\n",
      " |    |-- Monday: string (nullable = true)\n",
      " |    |-- Saturday: string (nullable = true)\n",
      " |    |-- Sunday: string (nullable = true)\n",
      " |    |-- Thursday: string (nullable = true)\n",
      " |    |-- Tuesday: string (nullable = true)\n",
      " |    |-- Wednesday: string (nullable = true)\n",
      " |-- is_open: long (nullable = true)\n",
      " |-- latitude: double (nullable = true)\n",
      " |-- longitude: double (nullable = true)\n",
      " |-- name: string (nullable = true)\n",
      " |-- postal_code: string (nullable = true)\n",
      " |-- review_count: long (nullable = true)\n",
      " |-- stars: double (nullable = true)\n",
      " |-- state: string (nullable = true)\n",
      "\n"
     ]
    }
   ],
   "source": [
    "bz_raw.printSchema()"
   ]
  },
  {
   "cell_type": "code",
   "execution_count": 84,
   "metadata": {
    "execution": {
     "iopub.execute_input": "2020-07-02T00:09:19.445812Z",
     "iopub.status.busy": "2020-07-02T00:09:19.445532Z",
     "iopub.status.idle": "2020-07-02T00:09:19.504492Z",
     "shell.execute_reply": "2020-07-02T00:09:19.503800Z",
     "shell.execute_reply.started": "2020-07-02T00:09:19.445785Z"
    }
   },
   "outputs": [
    {
     "name": "stdout",
     "output_type": "stream",
     "text": [
      "+--------------------+\n",
      "|          attributes|\n",
      "+--------------------+\n",
      "|[,,,,,,, True,, T...|\n",
      "|[,,,,,,,,,,, True...|\n",
      "|                null|\n",
      "|[,,,,,,, True,, T...|\n",
      "|[,,,,,,,,, True,,...|\n",
      "|[,,,,,,,,, True,,...|\n",
      "|[,,,,,,, True,, T...|\n",
      "|[,,,,,,,,, True,,...|\n",
      "|[,, 'none',,,,, F...|\n",
      "|[,,,,,,, False,,,...|\n",
      "|                null|\n",
      "|[,,,,,,,,, True,,...|\n",
      "|[,,,,,,, True,, T...|\n",
      "|[,,,,,,,,, True,,...|\n",
      "|[,,,,,,,,, True, ...|\n",
      "|[,,,,,,,,, True,,...|\n",
      "|[,,,,,,, True,, T...|\n",
      "|[,,,,,,,,, True,,...|\n",
      "|[,,,,,,,,, True,,...|\n",
      "|[False,,,,,,, Tru...|\n",
      "+--------------------+\n",
      "only showing top 20 rows\n",
      "\n"
     ]
    }
   ],
   "source": [
    "bz_raw.select('attributes').show()"
   ]
  },
  {
   "cell_type": "code",
   "execution_count": 41,
   "metadata": {
    "execution": {
     "iopub.execute_input": "2020-07-01T22:33:01.373542Z",
     "iopub.status.busy": "2020-07-01T22:33:01.373264Z",
     "iopub.status.idle": "2020-07-01T22:33:01.438488Z",
     "shell.execute_reply": "2020-07-01T22:33:01.437623Z",
     "shell.execute_reply.started": "2020-07-01T22:33:01.373516Z"
    }
   },
   "outputs": [
    {
     "name": "stdout",
     "output_type": "stream",
     "text": [
      "+--------------------+----------------+-------------------+--------------------+--------------------+\n",
      "|         business_id|compliment_count|               date|                text|             user_id|\n",
      "+--------------------+----------------+-------------------+--------------------+--------------------+\n",
      "|UYX5zL_Xj9WEc_Wp-...|               0|2013-11-26 18:20:08|Here for a quick mtg|hf27xTME3EiCp6NL6...|\n",
      "|Ch3HkwQYv1YKw_FO0...|               0|2014-06-15 22:26:45|Cucumber strawber...|uEvusDwoSymbJJ0au...|\n",
      "|rDoT-MgxGRiYqCmi0...|               0|2016-07-18 22:03:42|Very nice good se...|AY-laIws3S7YXNl_f...|\n",
      "|OHXnDV01gLokiX1EL...|               0|2014-06-06 01:10:34|It's a small plac...|Ue_7yUlkEbX4AhnYd...|\n",
      "|GMrwDXRlAZU2zj5nH...|               0|2011-04-08 18:12:01|8 sandwiches, $24...|LltbT_fUMqZ-ZJP-v...|\n",
      "|ALwAlxItASeEs2vYA...|               0|2015-05-20 20:17:38|Great ramen! Not ...|HHNBqfbDR8b1iq-QG...|\n",
      "|d_L-rfS1vT3JMzgCU...|               0|2014-09-01 01:23:48|Cochinita Pibil w...|r0j4IpUbcdC1-HfoM...|\n",
      "|5FIOXmUE3qMviX9Ga...|               0|2010-01-30 02:03:16|Get a tsoynami fo...|gxVQZJVeKBUk7jEhS...|\n",
      "|rcaPajgKOJC2vo_l3...|               0|2012-05-29 02:05:56|Kelly is an aweso...|2hdR7KYAmnCk2FjTn...|\n",
      "|hfBrethLHS9iXeBNR...|               0|2011-09-30 18:38:47|Check out the gre...|DsWg3leomfasGs3j0...|\n",
      "|_98ytLdlPEDp0FTuO...|               0|2012-10-14 02:11:37|Girls night at a ...|dLWDy4yzVzMQuhjoE...|\n",
      "|ow3oP3cfmhlfmSsGa...|               0|2013-08-16 15:14:22|Lovely locale, go...|SF83eQjb7XUiXuZVz...|\n",
      "|gG9z6zr_49LocyCTv...|               0|2014-06-14 00:44:00|Just be ready to ...|oLHQ-31LcRobRxjRU...|\n",
      "|w8RWhhuKxMiFCpvFv...|               0|2010-11-22 04:59:53|The Pure Chocolat...|jOW3BGthCDL3l7Dd6...|\n",
      "|-ed0Yc9on37RoIoG2...|               0|2014-04-07 06:29:58|If there's a wait...|jJtMKVIUzdDG4xagI...|\n",
      "|-wDNRL4lm1UgeFLG9...|               0|2016-04-19 09:33:45|Great food. Been ...|XhGn2quN9IzMI4HkM...|\n",
      "|aLcFhMe6DDJ430zel...|               0|2012-03-16 02:02:27|Must book your table|K3bzEv1h7CP-B92bN...|\n",
      "|yDWYuIDfXHckdJM5f...|               0|2013-02-14 05:50:30|Great guy!  Aweso...|aqc3CnsHVD177hfh3...|\n",
      "|UbSa8ddKsvMZgodku...|               0|2014-08-28 21:40:22|Quiet, relaxed, f...|141lhbCGhduUaFs17...|\n",
      "|XC06xxb7FFYsXcI2E...|               0|2017-07-20 19:29:39|Make a reservatio...|BpJygDyhzDf7Pw1Is...|\n",
      "+--------------------+----------------+-------------------+--------------------+--------------------+\n",
      "only showing top 20 rows\n",
      "\n"
     ]
    }
   ],
   "source": [
    "tp_raw.show()"
   ]
  },
  {
   "cell_type": "code",
   "execution_count": 16,
   "metadata": {
    "execution": {
     "iopub.execute_input": "2020-07-02T11:46:05.614378Z",
     "iopub.status.busy": "2020-07-02T11:46:05.614075Z",
     "iopub.status.idle": "2020-07-02T11:46:05.846370Z",
     "shell.execute_reply": "2020-07-02T11:46:05.845538Z",
     "shell.execute_reply.started": "2020-07-02T11:46:05.614351Z"
    }
   },
   "outputs": [],
   "source": [
    "bz_raw.createOrReplaceTempView('bz')\n",
    "rv_raw.createOrReplaceTempView('rv')\n",
    "usr_raw.createOrReplaceTempView('usr')\n",
    "tp_raw.createOrReplaceTempView('tp')"
   ]
  },
  {
   "cell_type": "code",
   "execution_count": 17,
   "metadata": {
    "ExecuteTime": {
     "end_time": "2020-06-25T10:27:58.289338Z",
     "start_time": "2020-06-25T10:27:57.802825Z"
    },
    "execution": {
     "iopub.execute_input": "2020-07-02T11:46:07.347069Z",
     "iopub.status.busy": "2020-07-02T11:46:07.346787Z",
     "iopub.status.idle": "2020-07-02T11:46:07.717497Z",
     "shell.execute_reply": "2020-07-02T11:46:07.716687Z",
     "shell.execute_reply.started": "2020-07-02T11:46:07.347043Z"
    }
   },
   "outputs": [
    {
     "name": "stdout",
     "output_type": "stream",
     "text": [
      "[Table(name='bz', database=None, description=None, tableType='TEMPORARY', isTemporary=True), Table(name='rv', database=None, description=None, tableType='TEMPORARY', isTemporary=True), Table(name='tp', database=None, description=None, tableType='TEMPORARY', isTemporary=True), Table(name='usr', database=None, description=None, tableType='TEMPORARY', isTemporary=True)]\n"
     ]
    }
   ],
   "source": [
    "print(spark.catalog.listTables())"
   ]
  },
  {
   "cell_type": "code",
   "execution_count": 18,
   "metadata": {
    "execution": {
     "iopub.execute_input": "2020-07-02T11:46:10.762842Z",
     "iopub.status.busy": "2020-07-02T11:46:10.762556Z",
     "iopub.status.idle": "2020-07-02T11:46:10.792673Z",
     "shell.execute_reply": "2020-07-02T11:46:10.791923Z",
     "shell.execute_reply.started": "2020-07-02T11:46:10.762812Z"
    }
   },
   "outputs": [
    {
     "data": {
      "text/plain": [
       "['address',\n",
       " 'attributes',\n",
       " 'business_id',\n",
       " 'categories',\n",
       " 'city',\n",
       " 'hours',\n",
       " 'is_open',\n",
       " 'latitude',\n",
       " 'longitude',\n",
       " 'name',\n",
       " 'postal_code',\n",
       " 'review_count',\n",
       " 'stars',\n",
       " 'state']"
      ]
     },
     "execution_count": 18,
     "metadata": {},
     "output_type": "execute_result"
    }
   ],
   "source": [
    "bz_raw.columns"
   ]
  },
  {
   "cell_type": "code",
   "execution_count": 19,
   "metadata": {
    "execution": {
     "iopub.execute_input": "2020-07-02T11:46:11.282146Z",
     "iopub.status.busy": "2020-07-02T11:46:11.281864Z",
     "iopub.status.idle": "2020-07-02T11:46:11.288147Z",
     "shell.execute_reply": "2020-07-02T11:46:11.287360Z",
     "shell.execute_reply.started": "2020-07-02T11:46:11.282120Z"
    }
   },
   "outputs": [
    {
     "data": {
      "text/plain": [
       "['average_stars',\n",
       " 'compliment_cool',\n",
       " 'compliment_cute',\n",
       " 'compliment_funny',\n",
       " 'compliment_hot',\n",
       " 'compliment_list',\n",
       " 'compliment_more',\n",
       " 'compliment_note',\n",
       " 'compliment_photos',\n",
       " 'compliment_plain',\n",
       " 'compliment_profile',\n",
       " 'compliment_writer',\n",
       " 'cool',\n",
       " 'elite',\n",
       " 'fans',\n",
       " 'friends',\n",
       " 'funny',\n",
       " 'name',\n",
       " 'review_count',\n",
       " 'useful',\n",
       " 'user_id',\n",
       " 'yelping_since']"
      ]
     },
     "execution_count": 19,
     "metadata": {},
     "output_type": "execute_result"
    }
   ],
   "source": [
    "usr_raw.columns"
   ]
  },
  {
   "cell_type": "code",
   "execution_count": 20,
   "metadata": {
    "execution": {
     "iopub.execute_input": "2020-07-02T11:46:12.257010Z",
     "iopub.status.busy": "2020-07-02T11:46:12.256723Z",
     "iopub.status.idle": "2020-07-02T11:46:12.262128Z",
     "shell.execute_reply": "2020-07-02T11:46:12.261362Z",
     "shell.execute_reply.started": "2020-07-02T11:46:12.256984Z"
    }
   },
   "outputs": [
    {
     "data": {
      "text/plain": [
       "['business_id',\n",
       " 'cool',\n",
       " 'date',\n",
       " 'funny',\n",
       " 'review_id',\n",
       " 'stars',\n",
       " 'text',\n",
       " 'useful',\n",
       " 'user_id']"
      ]
     },
     "execution_count": 20,
     "metadata": {},
     "output_type": "execute_result"
    }
   ],
   "source": [
    "rv_raw.columns"
   ]
  },
  {
   "cell_type": "code",
   "execution_count": 21,
   "metadata": {
    "execution": {
     "iopub.execute_input": "2020-07-02T11:46:19.866910Z",
     "iopub.status.busy": "2020-07-02T11:46:19.866665Z",
     "iopub.status.idle": "2020-07-02T11:46:19.873703Z",
     "shell.execute_reply": "2020-07-02T11:46:19.873065Z",
     "shell.execute_reply.started": "2020-07-02T11:46:19.866891Z"
    }
   },
   "outputs": [
    {
     "data": {
      "text/plain": [
       "['business_id', 'compliment_count', 'date', 'text', 'user_id']"
      ]
     },
     "execution_count": 21,
     "metadata": {},
     "output_type": "execute_result"
    }
   ],
   "source": [
    "tp_raw.columns"
   ]
  },
  {
   "cell_type": "markdown",
   "metadata": {},
   "source": [
    "## Joins"
   ]
  },
  {
   "cell_type": "markdown",
   "metadata": {},
   "source": [
    "Juntando as informações de reviews, estabelecimentos da cidade escolhidas e usuários que frequentam esses estabelecimentos."
   ]
  },
  {
   "cell_type": "markdown",
   "metadata": {},
   "source": [
    "- Reviews + Business"
   ]
  },
  {
   "cell_type": "code",
   "execution_count": 22,
   "metadata": {
    "execution": {
     "iopub.execute_input": "2020-07-02T11:46:28.348192Z",
     "iopub.status.busy": "2020-07-02T11:46:28.347909Z",
     "iopub.status.idle": "2020-07-02T11:46:28.496191Z",
     "shell.execute_reply": "2020-07-02T11:46:28.495050Z",
     "shell.execute_reply.started": "2020-07-02T11:46:28.348166Z"
    }
   },
   "outputs": [],
   "source": [
    "base = spark.sql(\"\"\"\n",
    "        SELECT A.*,\n",
    "        B.address,\n",
    "        B.categories,\n",
    "        B.city,\n",
    "        B.hours,\n",
    "        B.is_open,\n",
    "        B.latitude,\n",
    "        B.longitude,\n",
    "        B.name AS name_bz,\n",
    "        B.postal_code,\n",
    "        B.review_count,\n",
    "        B.stars AS stars_bz,\n",
    "        B.state\n",
    "\n",
    "        FROM rv as A \n",
    "        LEFT JOIN bz as B\n",
    "        ON A.business_id = B.business_id\n",
    "        \n",
    "        WHERE B.city = 'Toronto'\n",
    "        AND B.state = 'ON'\n",
    "        AND B.review_count > 20\n",
    "        \n",
    "        \"\"\")"
   ]
  },
  {
   "cell_type": "code",
   "execution_count": 21,
   "metadata": {
    "execution": {
     "iopub.execute_input": "2020-06-28T20:55:25.859394Z",
     "iopub.status.busy": "2020-06-28T20:55:25.859099Z",
     "iopub.status.idle": "2020-06-28T20:55:48.887600Z",
     "shell.execute_reply": "2020-06-28T20:55:48.886471Z",
     "shell.execute_reply.started": "2020-06-28T20:55:25.859366Z"
    }
   },
   "outputs": [
    {
     "name": "stdout",
     "output_type": "stream",
     "text": [
      "+--------------------+----+-------------------+-----+--------------------+-----+--------------------+------+--------------------+-------------------+--------------------+-------+-----+-------+----------+-----------+--------------------+-----------+------------+--------+-----+\n",
      "|         business_id|cool|               date|funny|           review_id|stars|                text|useful|             user_id|            address|          categories|   city|hours|is_open|  latitude|  longitude|             name_bz|postal_code|review_count|stars_bz|state|\n",
      "+--------------------+----+-------------------+-----+--------------------+-----+--------------------+------+--------------------+-------------------+--------------------+-------+-----+-------+----------+-----------+--------------------+-----------+------------+--------+-----+\n",
      "|2OFWvbHVwvnva7GxP...|   0|2017-07-29 01:46:38|    0|7aA5gWum--OxUmk4z...|  4.0|We ordered the je...|     0|_NMdJpHLvmSnTo1Kr...|912  Bloor Street W|Caribbean, Restau...|Toronto| null|      0|43.6619057|-79.4265158|Pam's Caribbean K...|    M6H 1L1|          32|     4.0|   ON|\n",
      "|2OFWvbHVwvnva7GxP...|   0|2016-03-31 07:33:47|    0|0Z3yFyTE8ZB-lAKyL...|  5.0|I've never had a ...|     0|PA2MNztWmRx9JBvbz...|912  Bloor Street W|Caribbean, Restau...|Toronto| null|      0|43.6619057|-79.4265158|Pam's Caribbean K...|    M6H 1L1|          32|     4.0|   ON|\n",
      "|2OFWvbHVwvnva7GxP...|   1|2012-11-11 20:04:40|    0|VGY2pt1f0gJRV7M_E...|  5.0|My boyfriend and ...|     1|TxI7h26TKhot9a-2A...|912  Bloor Street W|Caribbean, Restau...|Toronto| null|      0|43.6619057|-79.4265158|Pam's Caribbean K...|    M6H 1L1|          32|     4.0|   ON|\n",
      "|2OFWvbHVwvnva7GxP...|   0|2014-09-12 20:16:27|    0|SnSzV4_NOxDdrL-Qz...|  5.0|Just ate lunch he...|     0|1i8DhdETQRFkgK8Vb...|912  Bloor Street W|Caribbean, Restau...|Toronto| null|      0|43.6619057|-79.4265158|Pam's Caribbean K...|    M6H 1L1|          32|     4.0|   ON|\n",
      "|2OFWvbHVwvnva7GxP...|   0|2013-11-22 06:07:34|    0|52N3tsuWhbGRopZjc...|  4.0|This Roti was ama...|     0|1fNQRju9gmoCEvbPQ...|912  Bloor Street W|Caribbean, Restau...|Toronto| null|      0|43.6619057|-79.4265158|Pam's Caribbean K...|    M6H 1L1|          32|     4.0|   ON|\n",
      "+--------------------+----+-------------------+-----+--------------------+-----+--------------------+------+--------------------+-------------------+--------------------+-------+-----+-------+----------+-----------+--------------------+-----------+------------+--------+-----+\n",
      "only showing top 5 rows\n",
      "\n"
     ]
    }
   ],
   "source": [
    "base.show(5)"
   ]
  },
  {
   "cell_type": "code",
   "execution_count": 23,
   "metadata": {
    "execution": {
     "iopub.execute_input": "2020-07-02T11:46:31.163582Z",
     "iopub.status.busy": "2020-07-02T11:46:31.163306Z",
     "iopub.status.idle": "2020-07-02T11:46:31.180343Z",
     "shell.execute_reply": "2020-07-02T11:46:31.179737Z",
     "shell.execute_reply.started": "2020-07-02T11:46:31.163557Z"
    }
   },
   "outputs": [],
   "source": [
    "base.createOrReplaceTempView('base')"
   ]
  },
  {
   "cell_type": "markdown",
   "metadata": {},
   "source": [
    "- Contagem da quantidade de linhas para garantir que a integridade do dataset ser mantém ao longo do processamento."
   ]
  },
  {
   "cell_type": "code",
   "execution_count": 24,
   "metadata": {
    "execution": {
     "iopub.execute_input": "2020-07-01T22:29:44.165996Z",
     "iopub.status.busy": "2020-07-01T22:29:44.165689Z",
     "iopub.status.idle": "2020-07-01T22:29:49.068899Z",
     "shell.execute_reply": "2020-07-01T22:29:49.068181Z",
     "shell.execute_reply.started": "2020-07-01T22:29:44.165966Z"
    }
   },
   "outputs": [
    {
     "name": "stdout",
     "output_type": "stream",
     "text": [
      "+--------+\n",
      "|count(1)|\n",
      "+--------+\n",
      "|  490518|\n",
      "+--------+\n",
      "\n"
     ]
    }
   ],
   "source": [
    "#linhas na base de reviews + business\n",
    "spark.sql('''\n",
    "            SELECT Count(*)\n",
    "            FROM base\n",
    "            ''').show()"
   ]
  },
  {
   "cell_type": "markdown",
   "metadata": {},
   "source": [
    "- (Reviews + Business) + Users"
   ]
  },
  {
   "cell_type": "code",
   "execution_count": 24,
   "metadata": {
    "ExecuteTime": {
     "end_time": "2020-06-25T10:28:02.721168Z",
     "start_time": "2020-06-25T10:27:59.566725Z"
    },
    "execution": {
     "iopub.execute_input": "2020-07-02T11:46:36.321906Z",
     "iopub.status.busy": "2020-07-02T11:46:36.321404Z",
     "iopub.status.idle": "2020-07-02T11:46:36.359358Z",
     "shell.execute_reply": "2020-07-02T11:46:36.358269Z",
     "shell.execute_reply.started": "2020-07-02T11:46:36.321862Z"
    },
    "jupyter": {
     "source_hidden": true
    }
   },
   "outputs": [],
   "source": [
    "base1 = spark.sql(\"\"\"\n",
    "        SELECT A.*,\n",
    "        B.average_stars AS stars_usr,\n",
    "        B.compliment_cool,\n",
    "        B.compliment_cute,\n",
    "        B.compliment_funny,\n",
    "        B.compliment_hot,\n",
    "        B.compliment_list,\n",
    "        B.compliment_more,\n",
    "        B.compliment_note,\n",
    "        B.compliment_photos,\n",
    "        B.compliment_plain,\n",
    "        B.compliment_profile,\n",
    "        B.compliment_writer,\n",
    "        B.cool AS cool_usr,\n",
    "        B.elite AS elite_usr,\n",
    "        B.fans,\n",
    "        B.friends,\n",
    "        B.funny AS funny_usr,\n",
    "        B.name AS name_usr,\n",
    "        B.review_count AS review_count_usr,\n",
    "        B.useful AS useful_usr,\n",
    "        B.yelping_since\n",
    "\n",
    "        FROM base as A \n",
    "        \n",
    "        LEFT JOIN usr as B\n",
    "        ON A.user_id = B.user_id \n",
    "        \n",
    "        \"\"\")"
   ]
  },
  {
   "cell_type": "code",
   "execution_count": 25,
   "metadata": {
    "execution": {
     "iopub.execute_input": "2020-07-02T11:46:42.663985Z",
     "iopub.status.busy": "2020-07-02T11:46:42.663741Z",
     "iopub.status.idle": "2020-07-02T11:46:42.688077Z",
     "shell.execute_reply": "2020-07-02T11:46:42.687412Z",
     "shell.execute_reply.started": "2020-07-02T11:46:42.663963Z"
    }
   },
   "outputs": [],
   "source": [
    "base1.createOrReplaceTempView('base1')"
   ]
  },
  {
   "cell_type": "code",
   "execution_count": 28,
   "metadata": {
    "execution": {
     "iopub.execute_input": "2020-07-01T22:30:00.615857Z",
     "iopub.status.busy": "2020-07-01T22:30:00.615572Z",
     "iopub.status.idle": "2020-07-01T22:30:11.860252Z",
     "shell.execute_reply": "2020-07-01T22:30:11.859585Z",
     "shell.execute_reply.started": "2020-07-01T22:30:00.615830Z"
    }
   },
   "outputs": [
    {
     "name": "stdout",
     "output_type": "stream",
     "text": [
      "+--------+\n",
      "|count(1)|\n",
      "+--------+\n",
      "|  490518|\n",
      "+--------+\n",
      "\n"
     ]
    }
   ],
   "source": [
    "#linhas na base de reviews + business + users\n",
    "spark.sql('''\n",
    "            SELECT Count(*)\n",
    "            FROM base1\n",
    "            ''').show()"
   ]
  },
  {
   "cell_type": "code",
   "execution_count": 26,
   "metadata": {
    "execution": {
     "iopub.execute_input": "2020-07-02T11:46:45.990290Z",
     "iopub.status.busy": "2020-07-02T11:46:45.989996Z",
     "iopub.status.idle": "2020-07-02T11:46:46.052158Z",
     "shell.execute_reply": "2020-07-02T11:46:46.051441Z",
     "shell.execute_reply.started": "2020-07-02T11:46:45.990263Z"
    }
   },
   "outputs": [],
   "source": [
    "aux = spark.sql('''\n",
    "            SELECT user_id, city, yelping_since,\n",
    "            COUNT(review_id) AS city_review_counter,\n",
    "            review_count_usr\n",
    "            \n",
    "            FROM base1\n",
    "            \n",
    "            GROUP BY user_id, review_count_usr, city, yelping_since\n",
    "            ORDER BY city_review_counter DESC        \n",
    "            \n",
    "            ''')"
   ]
  },
  {
   "cell_type": "code",
   "execution_count": 27,
   "metadata": {
    "execution": {
     "iopub.execute_input": "2020-07-02T11:46:49.531667Z",
     "iopub.status.busy": "2020-07-02T11:46:49.531402Z",
     "iopub.status.idle": "2020-07-02T11:46:49.556325Z",
     "shell.execute_reply": "2020-07-02T11:46:49.555447Z",
     "shell.execute_reply.started": "2020-07-02T11:46:49.531643Z"
    }
   },
   "outputs": [],
   "source": [
    "aux.createOrReplaceTempView('aux')"
   ]
  },
  {
   "cell_type": "code",
   "execution_count": 31,
   "metadata": {
    "execution": {
     "iopub.execute_input": "2020-07-01T22:30:15.654278Z",
     "iopub.status.busy": "2020-07-01T22:30:15.653982Z",
     "iopub.status.idle": "2020-07-01T22:30:26.799363Z",
     "shell.execute_reply": "2020-07-01T22:30:26.798667Z",
     "shell.execute_reply.started": "2020-07-01T22:30:15.654250Z"
    }
   },
   "outputs": [
    {
     "name": "stdout",
     "output_type": "stream",
     "text": [
      "+--------------------+-------+-------------------+-------------------+----------------+\n",
      "|             user_id|   city|      yelping_since|city_review_counter|review_count_usr|\n",
      "+--------------------+-------+-------------------+-------------------+----------------+\n",
      "|CxDOIDnH8gp9KXzpB...|Toronto|2009-11-09 20:44:45|               1199|            6633|\n",
      "|Q9mA60HnY87C1TW5k...|Toronto|2010-08-29 01:34:42|                795|            1376|\n",
      "|O3pSxv1SyHpY4qi4Q...|Toronto|2010-07-04 02:52:05|                634|            1353|\n",
      "|0BBUmH7Krcax1RZgb...|Toronto|2010-03-18 14:40:42|                607|            1182|\n",
      "|gwIqbXEXijQNgdESV...|Toronto|2010-11-17 23:13:51|                565|            1106|\n",
      "|ic-tyi1jElL_umxZV...|Toronto|2014-02-19 22:37:38|                538|            1893|\n",
      "|TbhyP24zYZqZ2VJZg...|Toronto|2010-03-17 18:05:59|                495|             862|\n",
      "|1fNQRju9gmoCEvbPQ...|Toronto|2013-02-24 06:35:51|                488|             710|\n",
      "|FREeRQtjdJU83AFtd...|Toronto|2014-01-10 15:23:49|                477|             603|\n",
      "|yT_QCcnq-QGipWWuz...|Toronto|2011-03-24 17:24:02|                450|             962|\n",
      "|iRQ_YKpCBdaCwvc2X...|Toronto|2014-03-29 17:21:25|                437|             704|\n",
      "|V4TPbscN8JsFbEFiw...|Toronto|2010-02-07 17:01:57|                437|             908|\n",
      "|Kj9cFO70zZOQorN0m...|Toronto|2010-06-27 13:47:11|                434|             950|\n",
      "|m5b84-nPPVNLlDtZy...|Toronto|2011-11-16 14:34:22|                433|             710|\n",
      "|JnPIjvC0cmooNDfsa...|Toronto|2009-02-09 16:14:29|                417|             988|\n",
      "|_t3BJzyGaqr9mcDaz...|Toronto|2012-02-09 14:09:31|                396|             533|\n",
      "|tWBLn4k1M7PLBtAtw...|Toronto|2010-10-14 14:19:25|                390|             739|\n",
      "|alUuOskFSl1bODjnc...|Toronto|2010-04-06 00:19:47|                370|             742|\n",
      "|BGzavA_ddMr-jGmhA...|Toronto|2009-03-23 22:41:25|                365|             702|\n",
      "|8HCEPF0IflyB690Q7...|Toronto|2009-10-24 00:33:39|                355|             543|\n",
      "+--------------------+-------+-------------------+-------------------+----------------+\n",
      "only showing top 20 rows\n",
      "\n"
     ]
    }
   ],
   "source": [
    "aux.show()"
   ]
  },
  {
   "cell_type": "markdown",
   "metadata": {},
   "source": [
    "Aparentemente os usuários fazem reviews em estabelecimentos não só em Toronto. Para incluir essa informação no modelo, será criada uma variável com a relação entre as quantidade de reviews do usuário na cidade pela quantidade total de reviews do usuário."
   ]
  },
  {
   "cell_type": "markdown",
   "metadata": {},
   "source": [
    "- Média de reviews por usuário na cidade e total"
   ]
  },
  {
   "cell_type": "code",
   "execution_count": 32,
   "metadata": {
    "execution": {
     "iopub.execute_input": "2020-07-01T22:30:34.498746Z",
     "iopub.status.busy": "2020-07-01T22:30:34.498421Z",
     "iopub.status.idle": "2020-07-01T22:30:47.211796Z",
     "shell.execute_reply": "2020-07-01T22:30:47.211060Z",
     "shell.execute_reply.started": "2020-07-01T22:30:34.498714Z"
    }
   },
   "outputs": [
    {
     "name": "stdout",
     "output_type": "stream",
     "text": [
      "+------------------------+---------------------+\n",
      "|avg(city_review_counter)|avg(review_count_usr)|\n",
      "+------------------------+---------------------+\n",
      "|       4.324411531340915|    35.71904258132769|\n",
      "+------------------------+---------------------+\n",
      "\n"
     ]
    }
   ],
   "source": [
    "spark.sql('''\n",
    "            SELECT AVG(city_review_counter), \n",
    "             AVG(review_count_usr)\n",
    "            \n",
    "            FROM aux       \n",
    "            \n",
    "            ''').show()"
   ]
  },
  {
   "cell_type": "markdown",
   "metadata": {},
   "source": [
    "- Remoção de usuários com apenas 1 review na cidade"
   ]
  },
  {
   "cell_type": "code",
   "execution_count": 28,
   "metadata": {
    "execution": {
     "iopub.execute_input": "2020-07-02T11:46:58.838170Z",
     "iopub.status.busy": "2020-07-02T11:46:58.837887Z",
     "iopub.status.idle": "2020-07-02T11:46:58.956363Z",
     "shell.execute_reply": "2020-07-02T11:46:58.955587Z",
     "shell.execute_reply.started": "2020-07-02T11:46:58.838143Z"
    }
   },
   "outputs": [],
   "source": [
    "base2 = spark.sql('''\n",
    "            SELECT A.*,\n",
    "            B.city_review_counter,\n",
    "            (B.city_review_counter/B.review_count_usr) AS city_review_ratio\n",
    "            \n",
    "            FROM base1 as A\n",
    "            \n",
    "            LEFT JOIN aux as B\n",
    "            ON A.user_id = B.user_id\n",
    "            \n",
    "            WHERE B.city_review_counter > 1\n",
    "            \n",
    "            ''')"
   ]
  },
  {
   "cell_type": "code",
   "execution_count": 29,
   "metadata": {
    "execution": {
     "iopub.execute_input": "2020-07-02T11:47:00.888710Z",
     "iopub.status.busy": "2020-07-02T11:47:00.888383Z",
     "iopub.status.idle": "2020-07-02T11:47:00.916410Z",
     "shell.execute_reply": "2020-07-02T11:47:00.915693Z",
     "shell.execute_reply.started": "2020-07-02T11:47:00.888677Z"
    }
   },
   "outputs": [],
   "source": [
    "base2.createOrReplaceTempView('base2')"
   ]
  },
  {
   "cell_type": "code",
   "execution_count": 35,
   "metadata": {
    "execution": {
     "iopub.execute_input": "2020-07-01T22:30:48.328329Z",
     "iopub.status.busy": "2020-07-01T22:30:48.328039Z",
     "iopub.status.idle": "2020-07-01T22:31:10.577455Z",
     "shell.execute_reply": "2020-07-01T22:31:10.576779Z",
     "shell.execute_reply.started": "2020-07-01T22:30:48.328302Z"
    }
   },
   "outputs": [
    {
     "name": "stdout",
     "output_type": "stream",
     "text": [
      "+--------+\n",
      "|count(1)|\n",
      "+--------+\n",
      "|  429793|\n",
      "+--------+\n",
      "\n"
     ]
    }
   ],
   "source": [
    "#linhas na base de reviews + business + users\n",
    "spark.sql('''\n",
    "            SELECT Count(*)\n",
    "            FROM base2\n",
    "            ''').show()"
   ]
  },
  {
   "cell_type": "markdown",
   "metadata": {},
   "source": [
    "- Classificação das avaliações em Boa (1 - maior do que 4) e Ruim ou inexistente (0 - menor do que 4)."
   ]
  },
  {
   "cell_type": "code",
   "execution_count": 30,
   "metadata": {
    "execution": {
     "iopub.execute_input": "2020-07-02T11:47:03.505378Z",
     "iopub.status.busy": "2020-07-02T11:47:03.505087Z",
     "iopub.status.idle": "2020-07-02T11:47:03.543748Z",
     "shell.execute_reply": "2020-07-02T11:47:03.542789Z",
     "shell.execute_reply.started": "2020-07-02T11:47:03.505351Z"
    }
   },
   "outputs": [],
   "source": [
    "base3 = spark.sql(\"\"\"\n",
    "        SELECT *,\n",
    "        (CASE WHEN stars >=4 THEN 1 ELSE 0 END) as class_rv,\n",
    "        (CASE WHEN stars_bz >=4 THEN 1 ELSE 0 END) as class_bz,\n",
    "        (CASE WHEN stars_usr >=4 THEN 1 ELSE 0 END) as class_usr\n",
    "        \n",
    "        FROM base2\n",
    "        \n",
    "        \"\"\")"
   ]
  },
  {
   "cell_type": "code",
   "execution_count": 37,
   "metadata": {
    "execution": {
     "iopub.execute_input": "2020-07-01T22:31:14.444341Z",
     "iopub.status.busy": "2020-07-01T22:31:14.444046Z",
     "iopub.status.idle": "2020-07-01T22:31:14.450786Z",
     "shell.execute_reply": "2020-07-01T22:31:14.450143Z",
     "shell.execute_reply.started": "2020-07-01T22:31:14.444313Z"
    }
   },
   "outputs": [
    {
     "data": {
      "text/plain": [
       "['business_id',\n",
       " 'cool',\n",
       " 'date',\n",
       " 'funny',\n",
       " 'review_id',\n",
       " 'stars',\n",
       " 'text',\n",
       " 'useful',\n",
       " 'user_id',\n",
       " 'address',\n",
       " 'categories',\n",
       " 'city',\n",
       " 'hours',\n",
       " 'is_open',\n",
       " 'latitude',\n",
       " 'longitude',\n",
       " 'name_bz',\n",
       " 'postal_code',\n",
       " 'review_count',\n",
       " 'stars_bz',\n",
       " 'state',\n",
       " 'stars_usr',\n",
       " 'compliment_cool',\n",
       " 'compliment_cute',\n",
       " 'compliment_funny',\n",
       " 'compliment_hot',\n",
       " 'compliment_list',\n",
       " 'compliment_more',\n",
       " 'compliment_note',\n",
       " 'compliment_photos',\n",
       " 'compliment_plain',\n",
       " 'compliment_profile',\n",
       " 'compliment_writer',\n",
       " 'cool_usr',\n",
       " 'elite_usr',\n",
       " 'fans',\n",
       " 'friends',\n",
       " 'funny_usr',\n",
       " 'name_usr',\n",
       " 'review_count_usr',\n",
       " 'useful_usr',\n",
       " 'yelping_since',\n",
       " 'city_review_counter',\n",
       " 'city_review_ratio',\n",
       " 'class_rv',\n",
       " 'class_bz',\n",
       " 'class_usr']"
      ]
     },
     "execution_count": 37,
     "metadata": {},
     "output_type": "execute_result"
    }
   ],
   "source": [
    "base3.columns"
   ]
  },
  {
   "cell_type": "code",
   "execution_count": 31,
   "metadata": {
    "execution": {
     "iopub.execute_input": "2020-07-02T11:47:05.779318Z",
     "iopub.status.busy": "2020-07-02T11:47:05.779076Z",
     "iopub.status.idle": "2020-07-02T11:47:05.803203Z",
     "shell.execute_reply": "2020-07-02T11:47:05.802623Z",
     "shell.execute_reply.started": "2020-07-02T11:47:05.779297Z"
    }
   },
   "outputs": [],
   "source": [
    "base3.createOrReplaceTempView('base3')"
   ]
  },
  {
   "cell_type": "code",
   "execution_count": 39,
   "metadata": {
    "execution": {
     "iopub.execute_input": "2020-07-01T22:31:23.657076Z",
     "iopub.status.busy": "2020-07-01T22:31:23.656832Z",
     "iopub.status.idle": "2020-07-01T22:31:48.267361Z",
     "shell.execute_reply": "2020-07-01T22:31:48.266534Z",
     "shell.execute_reply.started": "2020-07-01T22:31:23.657053Z"
    }
   },
   "outputs": [
    {
     "name": "stdout",
     "output_type": "stream",
     "text": [
      "+--------+\n",
      "|count(1)|\n",
      "+--------+\n",
      "|  429793|\n",
      "+--------+\n",
      "\n"
     ]
    }
   ],
   "source": [
    "spark.sql('''\n",
    "            SELECT Count(*)\n",
    "            FROM base2\n",
    "            ''').show()"
   ]
  },
  {
   "cell_type": "markdown",
   "metadata": {},
   "source": [
    "- Base + Tips"
   ]
  },
  {
   "cell_type": "code",
   "execution_count": 32,
   "metadata": {
    "execution": {
     "iopub.execute_input": "2020-07-02T11:47:11.268975Z",
     "iopub.status.busy": "2020-07-02T11:47:11.268688Z",
     "iopub.status.idle": "2020-07-02T11:47:13.973452Z",
     "shell.execute_reply": "2020-07-02T11:47:13.972629Z",
     "shell.execute_reply.started": "2020-07-02T11:47:11.268948Z"
    }
   },
   "outputs": [
    {
     "name": "stdout",
     "output_type": "stream",
     "text": [
      "+--------------------+--------------------+------------+-----------------+\n",
      "|         business_id|             user_id|tips_counter|total_compliments|\n",
      "+--------------------+--------------------+------------+-----------------+\n",
      "|BQqwIYQuo2W94smjr...|mkbx55W8B8aPLgDqe...|          76|               65|\n",
      "|OMRYQihVjqqzjoNoQ...|mkbx55W8B8aPLgDqe...|          73|               30|\n",
      "|QhXBIQWUmQxuVErdw...|mkbx55W8B8aPLgDqe...|          34|               30|\n",
      "|QsKhwKYB3YeWXqpIP...|mkbx55W8B8aPLgDqe...|          38|               30|\n",
      "|55E0-qUHa7Kzqz8rO...|mkbx55W8B8aPLgDqe...|          45|               28|\n",
      "|gWeYW0E5Tfmmj_9fu...|mkbx55W8B8aPLgDqe...|          14|               19|\n",
      "|YILyHegzhy1vlc_LN...|mkbx55W8B8aPLgDqe...|          29|               16|\n",
      "|qpdMFF6Y31ZAtE1R1...|mkbx55W8B8aPLgDqe...|          16|               16|\n",
      "|gwdQwe1JHLe-vPY9P...|wTfb2nfzPIyFcYQAr...|           1|               15|\n",
      "|vMRWkz0wb3g4HjW_O...|tQPk4JiBPsx7NSIDb...|         164|               15|\n",
      "|0QzCeORfF8EY34UOD...|mkbx55W8B8aPLgDqe...|          42|               15|\n",
      "|pk3C3zEvBWl8Pfby1...|mkbx55W8B8aPLgDqe...|          40|               15|\n",
      "|y6QP5IrOJ7_FsB51j...|mkbx55W8B8aPLgDqe...|          21|               14|\n",
      "|QJ6GXAAMkgCZPF0bZ...|Fv0e9RIV9jw5TX3ct...|           2|               14|\n",
      "|TIXrRpm3g5oF7TKd_...|mkbx55W8B8aPLgDqe...|          21|               14|\n",
      "|OTcBXjDkViDPds4Lx...|mkbx55W8B8aPLgDqe...|          17|               14|\n",
      "|TVKenh65WwJX3zEr3...|mkbx55W8B8aPLgDqe...|          22|               13|\n",
      "|VeiL_tgw7dsl-7Icn...|mkbx55W8B8aPLgDqe...|          34|               13|\n",
      "|Rrzm4bQDrrUnDyA5e...|wTfb2nfzPIyFcYQAr...|           2|               12|\n",
      "|VsRAIb4k5CjEF-3l_...|mkbx55W8B8aPLgDqe...|          14|               12|\n",
      "+--------------------+--------------------+------------+-----------------+\n",
      "only showing top 20 rows\n",
      "\n"
     ]
    }
   ],
   "source": [
    "spark.sql('''\n",
    "            SELECT business_id, user_id, \n",
    "            count(text) AS tips_counter,\n",
    "            sum(compliment_count) as total_compliments\n",
    "            \n",
    "            FROM tp\n",
    "            \n",
    "            GROUP BY business_id, user_id\n",
    "            ORDER BY total_compliments DESC\n",
    "            ''').show()"
   ]
  },
  {
   "cell_type": "code",
   "execution_count": 33,
   "metadata": {
    "execution": {
     "iopub.execute_input": "2020-07-02T11:47:25.339544Z",
     "iopub.status.busy": "2020-07-02T11:47:25.339245Z",
     "iopub.status.idle": "2020-07-02T11:47:25.370423Z",
     "shell.execute_reply": "2020-07-02T11:47:25.369344Z",
     "shell.execute_reply.started": "2020-07-02T11:47:25.339518Z"
    }
   },
   "outputs": [],
   "source": [
    "base4 = spark.sql('''\n",
    "            SELECT A.*,\n",
    "            IFNULL(B.compliment_count,0) AS compliment_count_tip,\n",
    "            IFNULL(B.text,'') AS tip\n",
    "            \n",
    "            FROM base3 as A\n",
    "            \n",
    "            LEFT JOIN tp as B\n",
    "            ON (A.user_id = B.user_id AND A.business_id = B.business_id)\n",
    "            \n",
    "            ''')"
   ]
  },
  {
   "cell_type": "code",
   "execution_count": 34,
   "metadata": {
    "execution": {
     "iopub.execute_input": "2020-07-02T11:47:26.914019Z",
     "iopub.status.busy": "2020-07-02T11:47:26.913762Z",
     "iopub.status.idle": "2020-07-02T11:47:56.371574Z",
     "shell.execute_reply": "2020-07-02T11:47:56.370696Z",
     "shell.execute_reply.started": "2020-07-02T11:47:26.913992Z"
    }
   },
   "outputs": [
    {
     "name": "stdout",
     "output_type": "stream",
     "text": [
      "+--------------------+--------------------+--------------------+--------------------+\n",
      "|         business_id|             user_id|                 tip|compliment_count_tip|\n",
      "+--------------------+--------------------+--------------------+--------------------+\n",
      "|BxCzy1WOVxOrr_G7V...|--Qh8yKWAvIP4V4K8...|                    |                   0|\n",
      "|JgaQFKxW-Bnfc7r5E...|--Qh8yKWAvIP4V4K8...|                    |                   0|\n",
      "|U_jPOTd-Z5KATbTYn...|-3PTUP443q6hQESLK...|                    |                   0|\n",
      "|b6sUcJj_xbeYrKKOs...|-3PTUP443q6hQESLK...|                    |                   0|\n",
      "|I_3P0ns6_3najPBxn...|-9RU4LuI_TfYgv9rB...|If you get gravy ...|                   0|\n",
      "|ar3FKybOl9yazviTB...|-B4Cf2XLkPr9qMlLP...|                    |                   0|\n",
      "|fe6YW5wLAeWQBATPf...|-EWgEX_dc1Xv83dVt...|                    |                   0|\n",
      "|iGEvDk6hsizigmXhD...|-Fj7FUTxUy04imKQ8...|                    |                   0|\n",
      "|XdY36-Qh_DxnCaFpT...|-Iy3SMroVffvis2KZ...|                    |                   0|\n",
      "|nxbVyDfknWtycymHl...|-M-VBIeY_tzxtW6vC...|                    |                   0|\n",
      "|4twpbw7n4DmsLxAm6...|-UAW240-h-P9-Zxat...|                    |                   0|\n",
      "|4MQaqhBUJCpghGukS...|-UHenwWwPB47tN28x...|Have the wings. T...|                   0|\n",
      "|0mM_smCpKeKaL0MPM...|-VWzGBoycRE3_FOYt...|                    |                   0|\n",
      "|kKnGY0Xj7dG4ubjrb...|-bCs6n5iQ-2karqcG...|                    |                   0|\n",
      "|VxrvGKfba7rBDNLjc...|-d2daWmftYumOaYpb...|                    |                   0|\n",
      "|eZaCQPZYmETSNiHRa...|-fB_TMhiaMF6zx7Wf...|                    |                   0|\n",
      "|1tsUXKaHQ20rnfXMA...|-ga7pQvnJcMB1_pIa...|                    |                   0|\n",
      "|SSCgpKNpco3l-YZ2M...|-iRvRGqPEZWWOp2pk...|                    |                   0|\n",
      "|X-66Npl7XhHw-9YIC...|-ksyeRzDLxbwcNtDq...|                    |                   0|\n",
      "|_u1Bq7QsgMUXSMex8...|-m0KTRk0c901-4b-B...|                    |                   0|\n",
      "+--------------------+--------------------+--------------------+--------------------+\n",
      "only showing top 20 rows\n",
      "\n"
     ]
    }
   ],
   "source": [
    "base4.select('business_id', 'user_id','tip','compliment_count_tip').show()"
   ]
  },
  {
   "cell_type": "code",
   "execution_count": 61,
   "metadata": {
    "execution": {
     "iopub.execute_input": "2020-07-01T22:56:19.308021Z",
     "iopub.status.busy": "2020-07-01T22:56:19.307742Z",
     "iopub.status.idle": "2020-07-01T22:56:50.678244Z",
     "shell.execute_reply": "2020-07-01T22:56:50.677569Z",
     "shell.execute_reply.started": "2020-07-01T22:56:19.307995Z"
    }
   },
   "outputs": [
    {
     "name": "stdout",
     "output_type": "stream",
     "text": [
      "+--------------------+--------------------+\n",
      "|                text|                 tip|\n",
      "+--------------------+--------------------+\n",
      "|I came here for b...|                   0|\n",
      "|We recently had a...|                   0|\n",
      "|I got a small ste...|                   0|\n",
      "|- The only thing ...|                   0|\n",
      "|I have been comin...|If you get gravy ...|\n",
      "|You really can't ...|                   0|\n",
      "|Cutest cafe in Qu...|                   0|\n",
      "|Probably one if m...|                   0|\n",
      "|I just went to To...|                   0|\n",
      "|My mom and I had ...|                   0|\n",
      "|I was impressed w...|                   0|\n",
      "|Service is good a...|Have the wings. T...|\n",
      "|Horrible service....|                   0|\n",
      "|Stayed here few w...|                   0|\n",
      "|the shop is cute,...|                   0|\n",
      "|This place makes ...|                   0|\n",
      "|Came here and imm...|                   0|\n",
      "|Wow! I was in the...|                   0|\n",
      "|I do honestly wan...|                   0|\n",
      "|This little basem...|                   0|\n",
      "+--------------------+--------------------+\n",
      "only showing top 20 rows\n",
      "\n"
     ]
    }
   ],
   "source": [
    "base4.select('text','tip').show()"
   ]
  },
  {
   "cell_type": "markdown",
   "metadata": {},
   "source": [
    "## Tratamento de texto"
   ]
  },
  {
   "cell_type": "code",
   "execution_count": 35,
   "metadata": {
    "execution": {
     "iopub.execute_input": "2020-07-02T11:48:55.739104Z",
     "iopub.status.busy": "2020-07-02T11:48:55.738784Z",
     "iopub.status.idle": "2020-07-02T11:48:55.746068Z",
     "shell.execute_reply": "2020-07-02T11:48:55.745421Z",
     "shell.execute_reply.started": "2020-07-02T11:48:55.739078Z"
    }
   },
   "outputs": [],
   "source": [
    "def word_clean(sdf,col,new_col):\n",
    "    rv1 = sdf.withColumn(new_col,f.regexp_replace(f.col(col), \"'d\", \" would\"))\n",
    "    rv2 = rv1.withColumn(new_col,f.regexp_replace(f.col(new_col), \"'ve\", \" have\"))\n",
    "    rv3 = rv2.withColumn(new_col,f.regexp_replace(f.col(new_col), \"'s\", \" is\"))\n",
    "    rv4 = rv3.withColumn(new_col,f.regexp_replace(f.col(new_col), \"'re\", \" are\"))\n",
    "    rv5 = rv4.withColumn(new_col,f.regexp_replace(f.col(new_col), \"n't\", \" not\"))\n",
    "    rv6 = rv5.withColumn(new_col,f.regexp_replace(f.col(new_col), '\\W+', \" \"))\n",
    "    rv7 = rv6.withColumn(new_col,f.lower(f.col(new_col)))\n",
    "    return rv7"
   ]
  },
  {
   "cell_type": "code",
   "execution_count": 36,
   "metadata": {
    "execution": {
     "iopub.execute_input": "2020-07-02T11:49:01.592713Z",
     "iopub.status.busy": "2020-07-02T11:49:01.592438Z",
     "iopub.status.idle": "2020-07-02T11:49:01.798311Z",
     "shell.execute_reply": "2020-07-02T11:49:01.797563Z",
     "shell.execute_reply.started": "2020-07-02T11:49:01.592688Z"
    }
   },
   "outputs": [],
   "source": [
    "base5 = word_clean(base4,'text','text_clean')\n",
    "base6 = word_clean(base5,'tip','tip_clean')"
   ]
  },
  {
   "cell_type": "code",
   "execution_count": 37,
   "metadata": {
    "execution": {
     "iopub.execute_input": "2020-07-02T11:49:08.156861Z",
     "iopub.status.busy": "2020-07-02T11:49:08.156615Z",
     "iopub.status.idle": "2020-07-02T11:49:37.334219Z",
     "shell.execute_reply": "2020-07-02T11:49:37.333507Z",
     "shell.execute_reply.started": "2020-07-02T11:49:08.156836Z"
    }
   },
   "outputs": [
    {
     "name": "stdout",
     "output_type": "stream",
     "text": [
      "+--------------------+--------------------+\n",
      "|          text_clean|           tip_clean|\n",
      "+--------------------+--------------------+\n",
      "|i came here for b...|                    |\n",
      "|we recently had a...|                    |\n",
      "|i got a small ste...|                    |\n",
      "| the only thing i...|                    |\n",
      "|i have been comin...|if you get gravy ...|\n",
      "|you really ca not...|                    |\n",
      "|cutest cafe in qu...|                    |\n",
      "|probably one if m...|                    |\n",
      "|i just went to to...|                    |\n",
      "|my mom and i had ...|                    |\n",
      "|i was impressed w...|                    |\n",
      "|service is good a...|have the wings th...|\n",
      "|horrible service ...|                    |\n",
      "|stayed here few w...|                    |\n",
      "|the shop is cute ...|                    |\n",
      "|this place makes ...|                    |\n",
      "|came here and imm...|                    |\n",
      "|wow i was in the ...|                    |\n",
      "|i do honestly wan...|                    |\n",
      "|this little basem...|                    |\n",
      "+--------------------+--------------------+\n",
      "only showing top 20 rows\n",
      "\n"
     ]
    }
   ],
   "source": [
    "base6.select('text_clean','tip_clean').show()"
   ]
  },
  {
   "cell_type": "markdown",
   "metadata": {},
   "source": [
    "- Contagem de amigos de cada usuário"
   ]
  },
  {
   "cell_type": "code",
   "execution_count": 38,
   "metadata": {
    "execution": {
     "iopub.execute_input": "2020-07-02T11:49:48.811183Z",
     "iopub.status.busy": "2020-07-02T11:49:48.810896Z",
     "iopub.status.idle": "2020-07-02T11:49:48.856206Z",
     "shell.execute_reply": "2020-07-02T11:49:48.855456Z",
     "shell.execute_reply.started": "2020-07-02T11:49:48.811157Z"
    }
   },
   "outputs": [],
   "source": [
    "base7 = base6.withColumn('friends_counter', f.size(f.split(f.col('friends'),',')))"
   ]
  },
  {
   "cell_type": "code",
   "execution_count": 39,
   "metadata": {
    "execution": {
     "iopub.execute_input": "2020-07-02T11:49:50.366928Z",
     "iopub.status.busy": "2020-07-02T11:49:50.366652Z",
     "iopub.status.idle": "2020-07-02T11:49:50.414371Z",
     "shell.execute_reply": "2020-07-02T11:49:50.413619Z",
     "shell.execute_reply.started": "2020-07-02T11:49:50.366903Z"
    }
   },
   "outputs": [],
   "source": [
    "base7.createOrReplaceTempView('base7')"
   ]
  },
  {
   "cell_type": "code",
   "execution_count": 40,
   "metadata": {
    "execution": {
     "iopub.execute_input": "2020-07-02T11:49:51.595538Z",
     "iopub.status.busy": "2020-07-02T11:49:51.595251Z",
     "iopub.status.idle": "2020-07-02T11:49:51.615443Z",
     "shell.execute_reply": "2020-07-02T11:49:51.613992Z",
     "shell.execute_reply.started": "2020-07-02T11:49:51.595510Z"
    }
   },
   "outputs": [],
   "source": [
    "base8 = spark.sql('''\n",
    "            SELECT *,\n",
    "            (CASE WHEN friends = 'None' THEN 0 ELSE friends_counter END) as friends_count\n",
    "            FROM base7\n",
    "            ''')"
   ]
  },
  {
   "cell_type": "code",
   "execution_count": 89,
   "metadata": {
    "execution": {
     "iopub.execute_input": "2020-06-28T21:43:11.544273Z",
     "iopub.status.busy": "2020-06-28T21:43:11.543995Z",
     "iopub.status.idle": "2020-06-28T21:43:42.873320Z",
     "shell.execute_reply": "2020-06-28T21:43:42.872640Z",
     "shell.execute_reply.started": "2020-06-28T21:43:11.544246Z"
    }
   },
   "outputs": [],
   "source": [
    "df = base8.select('friends','friends_counter','friends_count').limit(10).toPandas()"
   ]
  },
  {
   "cell_type": "code",
   "execution_count": 90,
   "metadata": {
    "execution": {
     "iopub.execute_input": "2020-06-28T21:46:03.398682Z",
     "iopub.status.busy": "2020-06-28T21:46:03.398359Z",
     "iopub.status.idle": "2020-06-28T21:46:03.410445Z",
     "shell.execute_reply": "2020-06-28T21:46:03.409775Z",
     "shell.execute_reply.started": "2020-06-28T21:46:03.398651Z"
    }
   },
   "outputs": [
    {
     "data": {
      "text/plain": [
       "friends            object\n",
       "friends_counter     int32\n",
       "friends_count       int32\n",
       "dtype: object"
      ]
     },
     "execution_count": 90,
     "metadata": {},
     "output_type": "execute_result"
    }
   ],
   "source": [
    "df.dtypes"
   ]
  },
  {
   "cell_type": "code",
   "execution_count": 91,
   "metadata": {
    "execution": {
     "iopub.execute_input": "2020-06-28T21:46:04.185227Z",
     "iopub.status.busy": "2020-06-28T21:46:04.184942Z",
     "iopub.status.idle": "2020-06-28T21:46:04.200185Z",
     "shell.execute_reply": "2020-06-28T21:46:04.199356Z",
     "shell.execute_reply.started": "2020-06-28T21:46:04.185200Z"
    }
   },
   "outputs": [
    {
     "data": {
      "text/html": [
       "<div>\n",
       "<style scoped>\n",
       "    .dataframe tbody tr th:only-of-type {\n",
       "        vertical-align: middle;\n",
       "    }\n",
       "\n",
       "    .dataframe tbody tr th {\n",
       "        vertical-align: top;\n",
       "    }\n",
       "\n",
       "    .dataframe thead th {\n",
       "        text-align: right;\n",
       "    }\n",
       "</style>\n",
       "<table border=\"1\" class=\"dataframe\">\n",
       "  <thead>\n",
       "    <tr style=\"text-align: right;\">\n",
       "      <th></th>\n",
       "      <th>friends</th>\n",
       "      <th>friends_counter</th>\n",
       "      <th>friends_count</th>\n",
       "    </tr>\n",
       "  </thead>\n",
       "  <tbody>\n",
       "    <tr>\n",
       "      <th>0</th>\n",
       "      <td>kUWW9YR-2xC9YUSavBro8w</td>\n",
       "      <td>1</td>\n",
       "      <td>1</td>\n",
       "    </tr>\n",
       "    <tr>\n",
       "      <th>1</th>\n",
       "      <td>kUWW9YR-2xC9YUSavBro8w</td>\n",
       "      <td>1</td>\n",
       "      <td>1</td>\n",
       "    </tr>\n",
       "    <tr>\n",
       "      <th>2</th>\n",
       "      <td>CA1N8B5ZkSiUJeOXYcWImg, ngBDdwtpgtfFc9LNQT2Lzg...</td>\n",
       "      <td>27</td>\n",
       "      <td>27</td>\n",
       "    </tr>\n",
       "    <tr>\n",
       "      <th>3</th>\n",
       "      <td>CA1N8B5ZkSiUJeOXYcWImg, ngBDdwtpgtfFc9LNQT2Lzg...</td>\n",
       "      <td>27</td>\n",
       "      <td>27</td>\n",
       "    </tr>\n",
       "    <tr>\n",
       "      <th>4</th>\n",
       "      <td>CA1N8B5ZkSiUJeOXYcWImg, ngBDdwtpgtfFc9LNQT2Lzg...</td>\n",
       "      <td>27</td>\n",
       "      <td>27</td>\n",
       "    </tr>\n",
       "    <tr>\n",
       "      <th>5</th>\n",
       "      <td>CA1N8B5ZkSiUJeOXYcWImg, ngBDdwtpgtfFc9LNQT2Lzg...</td>\n",
       "      <td>27</td>\n",
       "      <td>27</td>\n",
       "    </tr>\n",
       "    <tr>\n",
       "      <th>6</th>\n",
       "      <td>CA1N8B5ZkSiUJeOXYcWImg, ngBDdwtpgtfFc9LNQT2Lzg...</td>\n",
       "      <td>27</td>\n",
       "      <td>27</td>\n",
       "    </tr>\n",
       "    <tr>\n",
       "      <th>7</th>\n",
       "      <td>CA1N8B5ZkSiUJeOXYcWImg, ngBDdwtpgtfFc9LNQT2Lzg...</td>\n",
       "      <td>27</td>\n",
       "      <td>27</td>\n",
       "    </tr>\n",
       "    <tr>\n",
       "      <th>8</th>\n",
       "      <td>CA1N8B5ZkSiUJeOXYcWImg, ngBDdwtpgtfFc9LNQT2Lzg...</td>\n",
       "      <td>27</td>\n",
       "      <td>27</td>\n",
       "    </tr>\n",
       "    <tr>\n",
       "      <th>9</th>\n",
       "      <td>CA1N8B5ZkSiUJeOXYcWImg, ngBDdwtpgtfFc9LNQT2Lzg...</td>\n",
       "      <td>27</td>\n",
       "      <td>27</td>\n",
       "    </tr>\n",
       "  </tbody>\n",
       "</table>\n",
       "</div>"
      ],
      "text/plain": [
       "                                             friends  friends_counter  \\\n",
       "0                             kUWW9YR-2xC9YUSavBro8w                1   \n",
       "1                             kUWW9YR-2xC9YUSavBro8w                1   \n",
       "2  CA1N8B5ZkSiUJeOXYcWImg, ngBDdwtpgtfFc9LNQT2Lzg...               27   \n",
       "3  CA1N8B5ZkSiUJeOXYcWImg, ngBDdwtpgtfFc9LNQT2Lzg...               27   \n",
       "4  CA1N8B5ZkSiUJeOXYcWImg, ngBDdwtpgtfFc9LNQT2Lzg...               27   \n",
       "5  CA1N8B5ZkSiUJeOXYcWImg, ngBDdwtpgtfFc9LNQT2Lzg...               27   \n",
       "6  CA1N8B5ZkSiUJeOXYcWImg, ngBDdwtpgtfFc9LNQT2Lzg...               27   \n",
       "7  CA1N8B5ZkSiUJeOXYcWImg, ngBDdwtpgtfFc9LNQT2Lzg...               27   \n",
       "8  CA1N8B5ZkSiUJeOXYcWImg, ngBDdwtpgtfFc9LNQT2Lzg...               27   \n",
       "9  CA1N8B5ZkSiUJeOXYcWImg, ngBDdwtpgtfFc9LNQT2Lzg...               27   \n",
       "\n",
       "   friends_count  \n",
       "0              1  \n",
       "1              1  \n",
       "2             27  \n",
       "3             27  \n",
       "4             27  \n",
       "5             27  \n",
       "6             27  \n",
       "7             27  \n",
       "8             27  \n",
       "9             27  "
      ]
     },
     "execution_count": 91,
     "metadata": {},
     "output_type": "execute_result"
    }
   ],
   "source": [
    "df"
   ]
  },
  {
   "cell_type": "code",
   "execution_count": 70,
   "metadata": {
    "execution": {
     "iopub.execute_input": "2020-07-01T23:39:40.314301Z",
     "iopub.status.busy": "2020-07-01T23:39:40.314013Z",
     "iopub.status.idle": "2020-07-01T23:40:24.111405Z",
     "shell.execute_reply": "2020-07-01T23:40:24.110768Z",
     "shell.execute_reply.started": "2020-07-01T23:39:40.314274Z"
    }
   },
   "outputs": [
    {
     "name": "stdout",
     "output_type": "stream",
     "text": [
      "+--------------------+---------------+-------------+\n",
      "|             friends|friends_counter|friends_count|\n",
      "+--------------------+---------------+-------------+\n",
      "|8lfS8bZkamISfRfWi...|             87|           87|\n",
      "|8lfS8bZkamISfRfWi...|             87|           87|\n",
      "|ALxRHdxbefyWvZ-7n...|             27|           27|\n",
      "|ALxRHdxbefyWvZ-7n...|             27|           27|\n",
      "|-A0mo_vdbn_-_omov...|             57|           57|\n",
      "|                None|              1|            0|\n",
      "|hD3xxj6CyunXze3sC...|             73|           73|\n",
      "|5e-12hnuO5qK8loS9...|            205|          205|\n",
      "|2DNajYvAMz5iV6Dma...|              3|            3|\n",
      "|wVvjv0lOGFXvpXdNf...|             11|           11|\n",
      "|                None|              1|            0|\n",
      "|LI86K5NbwF0KDgi0_...|              1|            1|\n",
      "|Ufw2jb2JCJELgCkxG...|              2|            2|\n",
      "|ZxKqSQC6ccxSjYIM-...|             37|           37|\n",
      "|Pp7ksD7Ccb-dmxgyW...|             85|           85|\n",
      "|ZdpK8Jw_2Xi9I0X9F...|              7|            7|\n",
      "|SWww_GzcwvcktAkX6...|            100|          100|\n",
      "|                None|              1|            0|\n",
      "|_eSpL9OEWdOuk_zk3...|            135|          135|\n",
      "|Rctb-8tAS0jol_ts4...|            200|          200|\n",
      "+--------------------+---------------+-------------+\n",
      "only showing top 20 rows\n",
      "\n"
     ]
    }
   ],
   "source": [
    "base8.select('friends','friends_counter','friends_count').show()"
   ]
  },
  {
   "cell_type": "markdown",
   "metadata": {},
   "source": [
    "Concatenando review e tip"
   ]
  },
  {
   "cell_type": "code",
   "execution_count": 41,
   "metadata": {
    "execution": {
     "iopub.execute_input": "2020-07-02T11:50:24.236612Z",
     "iopub.status.busy": "2020-07-02T11:50:24.236331Z",
     "iopub.status.idle": "2020-07-02T11:50:24.284024Z",
     "shell.execute_reply": "2020-07-02T11:50:24.283275Z",
     "shell.execute_reply.started": "2020-07-02T11:50:24.236587Z"
    }
   },
   "outputs": [],
   "source": [
    "base9 = base8.withColumn('review_tip', f.concat(f.col('text_clean'),f.lit(' '), f.col('tip_clean')))"
   ]
  },
  {
   "cell_type": "code",
   "execution_count": 42,
   "metadata": {
    "execution": {
     "iopub.execute_input": "2020-07-02T11:50:25.777097Z",
     "iopub.status.busy": "2020-07-02T11:50:25.776807Z",
     "iopub.status.idle": "2020-07-02T11:50:25.788527Z",
     "shell.execute_reply": "2020-07-02T11:50:25.787889Z",
     "shell.execute_reply.started": "2020-07-02T11:50:25.777072Z"
    }
   },
   "outputs": [
    {
     "data": {
      "text/plain": [
       "['business_id',\n",
       " 'cool',\n",
       " 'date',\n",
       " 'funny',\n",
       " 'review_id',\n",
       " 'stars',\n",
       " 'text',\n",
       " 'useful',\n",
       " 'user_id',\n",
       " 'address',\n",
       " 'categories',\n",
       " 'city',\n",
       " 'hours',\n",
       " 'is_open',\n",
       " 'latitude',\n",
       " 'longitude',\n",
       " 'name_bz',\n",
       " 'postal_code',\n",
       " 'review_count',\n",
       " 'stars_bz',\n",
       " 'state',\n",
       " 'stars_usr',\n",
       " 'compliment_cool',\n",
       " 'compliment_cute',\n",
       " 'compliment_funny',\n",
       " 'compliment_hot',\n",
       " 'compliment_list',\n",
       " 'compliment_more',\n",
       " 'compliment_note',\n",
       " 'compliment_photos',\n",
       " 'compliment_plain',\n",
       " 'compliment_profile',\n",
       " 'compliment_writer',\n",
       " 'cool_usr',\n",
       " 'elite_usr',\n",
       " 'fans',\n",
       " 'friends',\n",
       " 'funny_usr',\n",
       " 'name_usr',\n",
       " 'review_count_usr',\n",
       " 'useful_usr',\n",
       " 'yelping_since',\n",
       " 'city_review_counter',\n",
       " 'city_review_ratio',\n",
       " 'class_rv',\n",
       " 'class_bz',\n",
       " 'class_usr',\n",
       " 'compliment_count_tip',\n",
       " 'tip',\n",
       " 'text_clean',\n",
       " 'tip_clean',\n",
       " 'friends_counter',\n",
       " 'friends_count',\n",
       " 'review_tip']"
      ]
     },
     "execution_count": 42,
     "metadata": {},
     "output_type": "execute_result"
    }
   ],
   "source": [
    "base9.columns"
   ]
  },
  {
   "cell_type": "code",
   "execution_count": 43,
   "metadata": {
    "execution": {
     "iopub.execute_input": "2020-07-02T11:50:46.896602Z",
     "iopub.status.busy": "2020-07-02T11:50:46.896362Z",
     "iopub.status.idle": "2020-07-02T11:51:16.218604Z",
     "shell.execute_reply": "2020-07-02T11:51:16.217904Z",
     "shell.execute_reply.started": "2020-07-02T11:50:46.896580Z"
    }
   },
   "outputs": [
    {
     "name": "stdout",
     "output_type": "stream",
     "text": [
      "+--------------------+--------------------+--------------------+-----+--------------------+-----+----+\n",
      "|          text_clean|           tip_clean|          review_tip|stars|compliment_count_tip|funny|cool|\n",
      "+--------------------+--------------------+--------------------+-----+--------------------+-----+----+\n",
      "|i came here for b...|                    |i came here for b...|  3.0|                   0|    0|   2|\n",
      "|we recently had a...|                    |we recently had a...|  2.0|                   0|    1|   0|\n",
      "|i got a small ste...|                    |i got a small ste...|  5.0|                   0|    0|   0|\n",
      "| the only thing i...|                    | the only thing i...|  4.0|                   0|    0|   1|\n",
      "|i have been comin...|if you get gravy ...|i have been comin...|  5.0|                   0|    0|   1|\n",
      "|you really ca not...|                    |you really ca not...|  4.0|                   0|    0|   0|\n",
      "|cutest cafe in qu...|                    |cutest cafe in qu...|  5.0|                   0|    0|   1|\n",
      "|probably one if m...|                    |probably one if m...|  5.0|                   0|    0|   0|\n",
      "|i just went to to...|                    |i just went to to...|  5.0|                   0|    0|   0|\n",
      "|my mom and i had ...|                    |my mom and i had ...|  1.0|                   0|    0|   0|\n",
      "|i was impressed w...|                    |i was impressed w...|  2.0|                   0|    0|   0|\n",
      "|service is good a...|have the wings th...|service is good a...|  5.0|                   0|    0|   1|\n",
      "|horrible service ...|                    |horrible service ...|  1.0|                   0|    0|   0|\n",
      "|stayed here few w...|                    |stayed here few w...|  3.0|                   0|    0|   0|\n",
      "|the shop is cute ...|                    |the shop is cute ...|  3.0|                   0|    0|   0|\n",
      "|this place makes ...|                    |this place makes ...|  5.0|                   0|    0|   1|\n",
      "|came here and imm...|                    |came here and imm...|  1.0|                   0|    0|   0|\n",
      "|wow i was in the ...|                    |wow i was in the ...|  5.0|                   0|    0|   0|\n",
      "|i do honestly wan...|                    |i do honestly wan...|  4.0|                   0|    1|   1|\n",
      "|this little basem...|                    |this little basem...|  3.0|                   0|    0|   2|\n",
      "+--------------------+--------------------+--------------------+-----+--------------------+-----+----+\n",
      "only showing top 20 rows\n",
      "\n"
     ]
    }
   ],
   "source": [
    "base9.select('text_clean','tip_clean','review_tip','stars','compliment_count_tip','funny','cool').show()"
   ]
  },
  {
   "cell_type": "code",
   "execution_count": 44,
   "metadata": {
    "execution": {
     "iopub.execute_input": "2020-07-02T11:52:13.722998Z",
     "iopub.status.busy": "2020-07-02T11:52:13.722799Z",
     "iopub.status.idle": "2020-07-02T11:52:13.761052Z",
     "shell.execute_reply": "2020-07-02T11:52:13.760412Z",
     "shell.execute_reply.started": "2020-07-02T11:52:13.722981Z"
    }
   },
   "outputs": [],
   "source": [
    "base9.createOrReplaceTempView('base9')"
   ]
  },
  {
   "cell_type": "code",
   "execution_count": 45,
   "metadata": {
    "execution": {
     "iopub.execute_input": "2020-07-02T11:53:33.425751Z",
     "iopub.status.busy": "2020-07-02T11:53:33.425464Z",
     "iopub.status.idle": "2020-07-02T11:54:03.045319Z",
     "shell.execute_reply": "2020-07-02T11:54:03.044523Z",
     "shell.execute_reply.started": "2020-07-02T11:53:33.425725Z"
    }
   },
   "outputs": [
    {
     "name": "stdout",
     "output_type": "stream",
     "text": [
      "+-----+-----------+\n",
      "|stars|tip_counter|\n",
      "+-----+-----------+\n",
      "|  4.0|     146358|\n",
      "|  5.0|     131097|\n",
      "|  3.0|      79401|\n",
      "|  2.0|      42340|\n",
      "|  1.0|      36164|\n",
      "+-----+-----------+\n",
      "\n"
     ]
    }
   ],
   "source": [
    "spark.sql('''\n",
    "        SELECT stars, count(tip_clean) as tip_counter\n",
    "        FROM base9\n",
    "        GROUP BY stars\n",
    "        ORDER BY tip_counter DESC\n",
    "        ''').show()"
   ]
  },
  {
   "cell_type": "code",
   "execution_count": 64,
   "metadata": {
    "execution": {
     "iopub.execute_input": "2020-07-02T12:12:19.951436Z",
     "iopub.status.busy": "2020-07-02T12:12:19.951158Z",
     "iopub.status.idle": "2020-07-02T12:12:19.966491Z",
     "shell.execute_reply": "2020-07-02T12:12:19.965708Z",
     "shell.execute_reply.started": "2020-07-02T12:12:19.951411Z"
    }
   },
   "outputs": [],
   "source": [
    "base10 = base9.withColumn('id',f.row_number())"
   ]
  },
  {
   "cell_type": "code",
   "execution_count": 66,
   "metadata": {
    "collapsed": true,
    "execution": {
     "iopub.execute_input": "2020-07-02T12:12:59.270690Z",
     "iopub.status.busy": "2020-07-02T12:12:59.270375Z",
     "iopub.status.idle": "2020-07-02T12:12:59.538763Z",
     "shell.execute_reply": "2020-07-02T12:12:59.536233Z",
     "shell.execute_reply.started": "2020-07-02T12:12:59.270657Z"
    },
    "jupyter": {
     "outputs_hidden": true
    }
   },
   "outputs": [
    {
     "ename": "Py4JJavaError",
     "evalue": "An error occurred while calling o270.showString.\n: java.lang.UnsupportedOperationException: Cannot evaluate expression: row_number()\n\tat org.apache.spark.sql.catalyst.expressions.Unevaluable$class.doGenCode(Expression.scala:261)\n\tat org.apache.spark.sql.catalyst.expressions.aggregate.DeclarativeAggregate.doGenCode(interfaces.scala:348)\n\tat org.apache.spark.sql.catalyst.expressions.Expression$$anonfun$genCode$2.apply(Expression.scala:108)\n\tat org.apache.spark.sql.catalyst.expressions.Expression$$anonfun$genCode$2.apply(Expression.scala:105)\n\tat scala.Option.getOrElse(Option.scala:121)\n\tat org.apache.spark.sql.catalyst.expressions.Expression.genCode(Expression.scala:105)\n\tat org.apache.spark.sql.catalyst.expressions.Cast.doGenCode(Cast.scala:660)\n\tat org.apache.spark.sql.catalyst.expressions.Expression$$anonfun$genCode$2.apply(Expression.scala:108)\n\tat org.apache.spark.sql.catalyst.expressions.Expression$$anonfun$genCode$2.apply(Expression.scala:105)\n\tat scala.Option.getOrElse(Option.scala:121)\n\tat org.apache.spark.sql.catalyst.expressions.Expression.genCode(Expression.scala:105)\n\tat org.apache.spark.sql.catalyst.expressions.Cast.genCode(Cast.scala:655)\n\tat org.apache.spark.sql.catalyst.expressions.Alias.genCode(namedExpressions.scala:155)\n\tat org.apache.spark.sql.execution.ProjectExec$$anonfun$6.apply(basicPhysicalOperators.scala:62)\n\tat org.apache.spark.sql.execution.ProjectExec$$anonfun$6.apply(basicPhysicalOperators.scala:62)\n\tat scala.collection.TraversableLike$$anonfun$map$1.apply(TraversableLike.scala:234)\n\tat scala.collection.TraversableLike$$anonfun$map$1.apply(TraversableLike.scala:234)\n\tat scala.collection.mutable.ResizableArray$class.foreach(ResizableArray.scala:59)\n\tat scala.collection.mutable.ArrayBuffer.foreach(ArrayBuffer.scala:48)\n\tat scala.collection.TraversableLike$class.map(TraversableLike.scala:234)\n\tat scala.collection.AbstractTraversable.map(Traversable.scala:104)\n\tat org.apache.spark.sql.execution.ProjectExec.doConsume(basicPhysicalOperators.scala:62)\n\tat org.apache.spark.sql.execution.CodegenSupport$class.consume(WholeStageCodegenExec.scala:189)\n\tat org.apache.spark.sql.execution.InputAdapter.consume(WholeStageCodegenExec.scala:374)\n\tat org.apache.spark.sql.execution.InputAdapter.doProduce(WholeStageCodegenExec.scala:403)\n\tat org.apache.spark.sql.execution.CodegenSupport$$anonfun$produce$1.apply(WholeStageCodegenExec.scala:90)\n\tat org.apache.spark.sql.execution.CodegenSupport$$anonfun$produce$1.apply(WholeStageCodegenExec.scala:85)\n\tat org.apache.spark.sql.execution.SparkPlan$$anonfun$executeQuery$1.apply(SparkPlan.scala:155)\n\tat org.apache.spark.rdd.RDDOperationScope$.withScope(RDDOperationScope.scala:151)\n\tat org.apache.spark.sql.execution.SparkPlan.executeQuery(SparkPlan.scala:152)\n\tat org.apache.spark.sql.execution.CodegenSupport$class.produce(WholeStageCodegenExec.scala:85)\n\tat org.apache.spark.sql.execution.InputAdapter.produce(WholeStageCodegenExec.scala:374)\n\tat org.apache.spark.sql.execution.ProjectExec.doProduce(basicPhysicalOperators.scala:47)\n\tat org.apache.spark.sql.execution.CodegenSupport$$anonfun$produce$1.apply(WholeStageCodegenExec.scala:90)\n\tat org.apache.spark.sql.execution.CodegenSupport$$anonfun$produce$1.apply(WholeStageCodegenExec.scala:85)\n\tat org.apache.spark.sql.execution.SparkPlan$$anonfun$executeQuery$1.apply(SparkPlan.scala:155)\n\tat org.apache.spark.rdd.RDDOperationScope$.withScope(RDDOperationScope.scala:151)\n\tat org.apache.spark.sql.execution.SparkPlan.executeQuery(SparkPlan.scala:152)\n\tat org.apache.spark.sql.execution.CodegenSupport$class.produce(WholeStageCodegenExec.scala:85)\n\tat org.apache.spark.sql.execution.ProjectExec.produce(basicPhysicalOperators.scala:37)\n\tat org.apache.spark.sql.execution.WholeStageCodegenExec.doCodeGen(WholeStageCodegenExec.scala:544)\n\tat org.apache.spark.sql.execution.WholeStageCodegenExec.doExecute(WholeStageCodegenExec.scala:598)\n\tat org.apache.spark.sql.execution.SparkPlan$$anonfun$execute$1.apply(SparkPlan.scala:131)\n\tat org.apache.spark.sql.execution.SparkPlan$$anonfun$execute$1.apply(SparkPlan.scala:127)\n\tat org.apache.spark.sql.execution.SparkPlan$$anonfun$executeQuery$1.apply(SparkPlan.scala:155)\n\tat org.apache.spark.rdd.RDDOperationScope$.withScope(RDDOperationScope.scala:151)\n\tat org.apache.spark.sql.execution.SparkPlan.executeQuery(SparkPlan.scala:152)\n\tat org.apache.spark.sql.execution.SparkPlan.execute(SparkPlan.scala:127)\n\tat org.apache.spark.sql.execution.SparkPlan.getByteArrayRdd(SparkPlan.scala:247)\n\tat org.apache.spark.sql.execution.SparkPlan.executeTake(SparkPlan.scala:339)\n\tat org.apache.spark.sql.execution.CollectLimitExec.executeCollect(limit.scala:38)\n\tat org.apache.spark.sql.Dataset.org$apache$spark$sql$Dataset$$collectFromPlan(Dataset.scala:3389)\n\tat org.apache.spark.sql.Dataset$$anonfun$head$1.apply(Dataset.scala:2550)\n\tat org.apache.spark.sql.Dataset$$anonfun$head$1.apply(Dataset.scala:2550)\n\tat org.apache.spark.sql.Dataset$$anonfun$52.apply(Dataset.scala:3370)\n\tat org.apache.spark.sql.execution.SQLExecution$$anonfun$withNewExecutionId$1.apply(SQLExecution.scala:80)\n\tat org.apache.spark.sql.execution.SQLExecution$.withSQLConfPropagated(SQLExecution.scala:127)\n\tat org.apache.spark.sql.execution.SQLExecution$.withNewExecutionId(SQLExecution.scala:75)\n\tat org.apache.spark.sql.Dataset.withAction(Dataset.scala:3369)\n\tat org.apache.spark.sql.Dataset.head(Dataset.scala:2550)\n\tat org.apache.spark.sql.Dataset.take(Dataset.scala:2764)\n\tat org.apache.spark.sql.Dataset.getRows(Dataset.scala:254)\n\tat org.apache.spark.sql.Dataset.showString(Dataset.scala:291)\n\tat sun.reflect.NativeMethodAccessorImpl.invoke0(Native Method)\n\tat sun.reflect.NativeMethodAccessorImpl.invoke(NativeMethodAccessorImpl.java:62)\n\tat sun.reflect.DelegatingMethodAccessorImpl.invoke(DelegatingMethodAccessorImpl.java:43)\n\tat java.lang.reflect.Method.invoke(Method.java:498)\n\tat py4j.reflection.MethodInvoker.invoke(MethodInvoker.java:244)\n\tat py4j.reflection.ReflectionEngine.invoke(ReflectionEngine.java:357)\n\tat py4j.Gateway.invoke(Gateway.java:282)\n\tat py4j.commands.AbstractCommand.invokeMethod(AbstractCommand.java:132)\n\tat py4j.commands.CallCommand.execute(CallCommand.java:79)\n\tat py4j.GatewayConnection.run(GatewayConnection.java:238)\n\tat java.lang.Thread.run(Thread.java:748)\n",
     "output_type": "error",
     "traceback": [
      "\u001b[0;31m---------------------------------------------------------------------------\u001b[0m",
      "\u001b[0;31mPy4JJavaError\u001b[0m                             Traceback (most recent call last)",
      "\u001b[0;32m<ipython-input-66-7cd536891e9e>\u001b[0m in \u001b[0;36m<module>\u001b[0;34m\u001b[0m\n\u001b[0;32m----> 1\u001b[0;31m \u001b[0mbase10\u001b[0m\u001b[0;34m.\u001b[0m\u001b[0mselect\u001b[0m\u001b[0;34m(\u001b[0m\u001b[0;34m'id'\u001b[0m\u001b[0;34m,\u001b[0m\u001b[0;34m'review_id'\u001b[0m\u001b[0;34m,\u001b[0m\u001b[0;34m'stars'\u001b[0m\u001b[0;34m)\u001b[0m\u001b[0;34m.\u001b[0m\u001b[0mshow\u001b[0m\u001b[0;34m(\u001b[0m\u001b[0;34m)\u001b[0m\u001b[0;34m\u001b[0m\u001b[0;34m\u001b[0m\u001b[0m\n\u001b[0m",
      "\u001b[0;32m~/anaconda3/lib/python3.7/site-packages/pyspark/sql/dataframe.py\u001b[0m in \u001b[0;36mshow\u001b[0;34m(self, n, truncate, vertical)\u001b[0m\n\u001b[1;32m    378\u001b[0m         \"\"\"\n\u001b[1;32m    379\u001b[0m         \u001b[0;32mif\u001b[0m \u001b[0misinstance\u001b[0m\u001b[0;34m(\u001b[0m\u001b[0mtruncate\u001b[0m\u001b[0;34m,\u001b[0m \u001b[0mbool\u001b[0m\u001b[0;34m)\u001b[0m \u001b[0;32mand\u001b[0m \u001b[0mtruncate\u001b[0m\u001b[0;34m:\u001b[0m\u001b[0;34m\u001b[0m\u001b[0;34m\u001b[0m\u001b[0m\n\u001b[0;32m--> 380\u001b[0;31m             \u001b[0mprint\u001b[0m\u001b[0;34m(\u001b[0m\u001b[0mself\u001b[0m\u001b[0;34m.\u001b[0m\u001b[0m_jdf\u001b[0m\u001b[0;34m.\u001b[0m\u001b[0mshowString\u001b[0m\u001b[0;34m(\u001b[0m\u001b[0mn\u001b[0m\u001b[0;34m,\u001b[0m \u001b[0;36m20\u001b[0m\u001b[0;34m,\u001b[0m \u001b[0mvertical\u001b[0m\u001b[0;34m)\u001b[0m\u001b[0;34m)\u001b[0m\u001b[0;34m\u001b[0m\u001b[0;34m\u001b[0m\u001b[0m\n\u001b[0m\u001b[1;32m    381\u001b[0m         \u001b[0;32melse\u001b[0m\u001b[0;34m:\u001b[0m\u001b[0;34m\u001b[0m\u001b[0;34m\u001b[0m\u001b[0m\n\u001b[1;32m    382\u001b[0m             \u001b[0mprint\u001b[0m\u001b[0;34m(\u001b[0m\u001b[0mself\u001b[0m\u001b[0;34m.\u001b[0m\u001b[0m_jdf\u001b[0m\u001b[0;34m.\u001b[0m\u001b[0mshowString\u001b[0m\u001b[0;34m(\u001b[0m\u001b[0mn\u001b[0m\u001b[0;34m,\u001b[0m \u001b[0mint\u001b[0m\u001b[0;34m(\u001b[0m\u001b[0mtruncate\u001b[0m\u001b[0;34m)\u001b[0m\u001b[0;34m,\u001b[0m \u001b[0mvertical\u001b[0m\u001b[0;34m)\u001b[0m\u001b[0;34m)\u001b[0m\u001b[0;34m\u001b[0m\u001b[0;34m\u001b[0m\u001b[0m\n",
      "\u001b[0;32m~/anaconda3/lib/python3.7/site-packages/py4j/java_gateway.py\u001b[0m in \u001b[0;36m__call__\u001b[0;34m(self, *args)\u001b[0m\n\u001b[1;32m   1255\u001b[0m         \u001b[0manswer\u001b[0m \u001b[0;34m=\u001b[0m \u001b[0mself\u001b[0m\u001b[0;34m.\u001b[0m\u001b[0mgateway_client\u001b[0m\u001b[0;34m.\u001b[0m\u001b[0msend_command\u001b[0m\u001b[0;34m(\u001b[0m\u001b[0mcommand\u001b[0m\u001b[0;34m)\u001b[0m\u001b[0;34m\u001b[0m\u001b[0;34m\u001b[0m\u001b[0m\n\u001b[1;32m   1256\u001b[0m         return_value = get_return_value(\n\u001b[0;32m-> 1257\u001b[0;31m             answer, self.gateway_client, self.target_id, self.name)\n\u001b[0m\u001b[1;32m   1258\u001b[0m \u001b[0;34m\u001b[0m\u001b[0m\n\u001b[1;32m   1259\u001b[0m         \u001b[0;32mfor\u001b[0m \u001b[0mtemp_arg\u001b[0m \u001b[0;32min\u001b[0m \u001b[0mtemp_args\u001b[0m\u001b[0;34m:\u001b[0m\u001b[0;34m\u001b[0m\u001b[0;34m\u001b[0m\u001b[0m\n",
      "\u001b[0;32m~/anaconda3/lib/python3.7/site-packages/pyspark/sql/utils.py\u001b[0m in \u001b[0;36mdeco\u001b[0;34m(*a, **kw)\u001b[0m\n\u001b[1;32m     61\u001b[0m     \u001b[0;32mdef\u001b[0m \u001b[0mdeco\u001b[0m\u001b[0;34m(\u001b[0m\u001b[0;34m*\u001b[0m\u001b[0ma\u001b[0m\u001b[0;34m,\u001b[0m \u001b[0;34m**\u001b[0m\u001b[0mkw\u001b[0m\u001b[0;34m)\u001b[0m\u001b[0;34m:\u001b[0m\u001b[0;34m\u001b[0m\u001b[0;34m\u001b[0m\u001b[0m\n\u001b[1;32m     62\u001b[0m         \u001b[0;32mtry\u001b[0m\u001b[0;34m:\u001b[0m\u001b[0;34m\u001b[0m\u001b[0;34m\u001b[0m\u001b[0m\n\u001b[0;32m---> 63\u001b[0;31m             \u001b[0;32mreturn\u001b[0m \u001b[0mf\u001b[0m\u001b[0;34m(\u001b[0m\u001b[0;34m*\u001b[0m\u001b[0ma\u001b[0m\u001b[0;34m,\u001b[0m \u001b[0;34m**\u001b[0m\u001b[0mkw\u001b[0m\u001b[0;34m)\u001b[0m\u001b[0;34m\u001b[0m\u001b[0;34m\u001b[0m\u001b[0m\n\u001b[0m\u001b[1;32m     64\u001b[0m         \u001b[0;32mexcept\u001b[0m \u001b[0mpy4j\u001b[0m\u001b[0;34m.\u001b[0m\u001b[0mprotocol\u001b[0m\u001b[0;34m.\u001b[0m\u001b[0mPy4JJavaError\u001b[0m \u001b[0;32mas\u001b[0m \u001b[0me\u001b[0m\u001b[0;34m:\u001b[0m\u001b[0;34m\u001b[0m\u001b[0;34m\u001b[0m\u001b[0m\n\u001b[1;32m     65\u001b[0m             \u001b[0ms\u001b[0m \u001b[0;34m=\u001b[0m \u001b[0me\u001b[0m\u001b[0;34m.\u001b[0m\u001b[0mjava_exception\u001b[0m\u001b[0;34m.\u001b[0m\u001b[0mtoString\u001b[0m\u001b[0;34m(\u001b[0m\u001b[0;34m)\u001b[0m\u001b[0;34m\u001b[0m\u001b[0;34m\u001b[0m\u001b[0m\n",
      "\u001b[0;32m~/anaconda3/lib/python3.7/site-packages/py4j/protocol.py\u001b[0m in \u001b[0;36mget_return_value\u001b[0;34m(answer, gateway_client, target_id, name)\u001b[0m\n\u001b[1;32m    326\u001b[0m                 raise Py4JJavaError(\n\u001b[1;32m    327\u001b[0m                     \u001b[0;34m\"An error occurred while calling {0}{1}{2}.\\n\"\u001b[0m\u001b[0;34m.\u001b[0m\u001b[0;34m\u001b[0m\u001b[0;34m\u001b[0m\u001b[0m\n\u001b[0;32m--> 328\u001b[0;31m                     format(target_id, \".\", name), value)\n\u001b[0m\u001b[1;32m    329\u001b[0m             \u001b[0;32melse\u001b[0m\u001b[0;34m:\u001b[0m\u001b[0;34m\u001b[0m\u001b[0;34m\u001b[0m\u001b[0m\n\u001b[1;32m    330\u001b[0m                 raise Py4JError(\n",
      "\u001b[0;31mPy4JJavaError\u001b[0m: An error occurred while calling o270.showString.\n: java.lang.UnsupportedOperationException: Cannot evaluate expression: row_number()\n\tat org.apache.spark.sql.catalyst.expressions.Unevaluable$class.doGenCode(Expression.scala:261)\n\tat org.apache.spark.sql.catalyst.expressions.aggregate.DeclarativeAggregate.doGenCode(interfaces.scala:348)\n\tat org.apache.spark.sql.catalyst.expressions.Expression$$anonfun$genCode$2.apply(Expression.scala:108)\n\tat org.apache.spark.sql.catalyst.expressions.Expression$$anonfun$genCode$2.apply(Expression.scala:105)\n\tat scala.Option.getOrElse(Option.scala:121)\n\tat org.apache.spark.sql.catalyst.expressions.Expression.genCode(Expression.scala:105)\n\tat org.apache.spark.sql.catalyst.expressions.Cast.doGenCode(Cast.scala:660)\n\tat org.apache.spark.sql.catalyst.expressions.Expression$$anonfun$genCode$2.apply(Expression.scala:108)\n\tat org.apache.spark.sql.catalyst.expressions.Expression$$anonfun$genCode$2.apply(Expression.scala:105)\n\tat scala.Option.getOrElse(Option.scala:121)\n\tat org.apache.spark.sql.catalyst.expressions.Expression.genCode(Expression.scala:105)\n\tat org.apache.spark.sql.catalyst.expressions.Cast.genCode(Cast.scala:655)\n\tat org.apache.spark.sql.catalyst.expressions.Alias.genCode(namedExpressions.scala:155)\n\tat org.apache.spark.sql.execution.ProjectExec$$anonfun$6.apply(basicPhysicalOperators.scala:62)\n\tat org.apache.spark.sql.execution.ProjectExec$$anonfun$6.apply(basicPhysicalOperators.scala:62)\n\tat scala.collection.TraversableLike$$anonfun$map$1.apply(TraversableLike.scala:234)\n\tat scala.collection.TraversableLike$$anonfun$map$1.apply(TraversableLike.scala:234)\n\tat scala.collection.mutable.ResizableArray$class.foreach(ResizableArray.scala:59)\n\tat scala.collection.mutable.ArrayBuffer.foreach(ArrayBuffer.scala:48)\n\tat scala.collection.TraversableLike$class.map(TraversableLike.scala:234)\n\tat scala.collection.AbstractTraversable.map(Traversable.scala:104)\n\tat org.apache.spark.sql.execution.ProjectExec.doConsume(basicPhysicalOperators.scala:62)\n\tat org.apache.spark.sql.execution.CodegenSupport$class.consume(WholeStageCodegenExec.scala:189)\n\tat org.apache.spark.sql.execution.InputAdapter.consume(WholeStageCodegenExec.scala:374)\n\tat org.apache.spark.sql.execution.InputAdapter.doProduce(WholeStageCodegenExec.scala:403)\n\tat org.apache.spark.sql.execution.CodegenSupport$$anonfun$produce$1.apply(WholeStageCodegenExec.scala:90)\n\tat org.apache.spark.sql.execution.CodegenSupport$$anonfun$produce$1.apply(WholeStageCodegenExec.scala:85)\n\tat org.apache.spark.sql.execution.SparkPlan$$anonfun$executeQuery$1.apply(SparkPlan.scala:155)\n\tat org.apache.spark.rdd.RDDOperationScope$.withScope(RDDOperationScope.scala:151)\n\tat org.apache.spark.sql.execution.SparkPlan.executeQuery(SparkPlan.scala:152)\n\tat org.apache.spark.sql.execution.CodegenSupport$class.produce(WholeStageCodegenExec.scala:85)\n\tat org.apache.spark.sql.execution.InputAdapter.produce(WholeStageCodegenExec.scala:374)\n\tat org.apache.spark.sql.execution.ProjectExec.doProduce(basicPhysicalOperators.scala:47)\n\tat org.apache.spark.sql.execution.CodegenSupport$$anonfun$produce$1.apply(WholeStageCodegenExec.scala:90)\n\tat org.apache.spark.sql.execution.CodegenSupport$$anonfun$produce$1.apply(WholeStageCodegenExec.scala:85)\n\tat org.apache.spark.sql.execution.SparkPlan$$anonfun$executeQuery$1.apply(SparkPlan.scala:155)\n\tat org.apache.spark.rdd.RDDOperationScope$.withScope(RDDOperationScope.scala:151)\n\tat org.apache.spark.sql.execution.SparkPlan.executeQuery(SparkPlan.scala:152)\n\tat org.apache.spark.sql.execution.CodegenSupport$class.produce(WholeStageCodegenExec.scala:85)\n\tat org.apache.spark.sql.execution.ProjectExec.produce(basicPhysicalOperators.scala:37)\n\tat org.apache.spark.sql.execution.WholeStageCodegenExec.doCodeGen(WholeStageCodegenExec.scala:544)\n\tat org.apache.spark.sql.execution.WholeStageCodegenExec.doExecute(WholeStageCodegenExec.scala:598)\n\tat org.apache.spark.sql.execution.SparkPlan$$anonfun$execute$1.apply(SparkPlan.scala:131)\n\tat org.apache.spark.sql.execution.SparkPlan$$anonfun$execute$1.apply(SparkPlan.scala:127)\n\tat org.apache.spark.sql.execution.SparkPlan$$anonfun$executeQuery$1.apply(SparkPlan.scala:155)\n\tat org.apache.spark.rdd.RDDOperationScope$.withScope(RDDOperationScope.scala:151)\n\tat org.apache.spark.sql.execution.SparkPlan.executeQuery(SparkPlan.scala:152)\n\tat org.apache.spark.sql.execution.SparkPlan.execute(SparkPlan.scala:127)\n\tat org.apache.spark.sql.execution.SparkPlan.getByteArrayRdd(SparkPlan.scala:247)\n\tat org.apache.spark.sql.execution.SparkPlan.executeTake(SparkPlan.scala:339)\n\tat org.apache.spark.sql.execution.CollectLimitExec.executeCollect(limit.scala:38)\n\tat org.apache.spark.sql.Dataset.org$apache$spark$sql$Dataset$$collectFromPlan(Dataset.scala:3389)\n\tat org.apache.spark.sql.Dataset$$anonfun$head$1.apply(Dataset.scala:2550)\n\tat org.apache.spark.sql.Dataset$$anonfun$head$1.apply(Dataset.scala:2550)\n\tat org.apache.spark.sql.Dataset$$anonfun$52.apply(Dataset.scala:3370)\n\tat org.apache.spark.sql.execution.SQLExecution$$anonfun$withNewExecutionId$1.apply(SQLExecution.scala:80)\n\tat org.apache.spark.sql.execution.SQLExecution$.withSQLConfPropagated(SQLExecution.scala:127)\n\tat org.apache.spark.sql.execution.SQLExecution$.withNewExecutionId(SQLExecution.scala:75)\n\tat org.apache.spark.sql.Dataset.withAction(Dataset.scala:3369)\n\tat org.apache.spark.sql.Dataset.head(Dataset.scala:2550)\n\tat org.apache.spark.sql.Dataset.take(Dataset.scala:2764)\n\tat org.apache.spark.sql.Dataset.getRows(Dataset.scala:254)\n\tat org.apache.spark.sql.Dataset.showString(Dataset.scala:291)\n\tat sun.reflect.NativeMethodAccessorImpl.invoke0(Native Method)\n\tat sun.reflect.NativeMethodAccessorImpl.invoke(NativeMethodAccessorImpl.java:62)\n\tat sun.reflect.DelegatingMethodAccessorImpl.invoke(DelegatingMethodAccessorImpl.java:43)\n\tat java.lang.reflect.Method.invoke(Method.java:498)\n\tat py4j.reflection.MethodInvoker.invoke(MethodInvoker.java:244)\n\tat py4j.reflection.ReflectionEngine.invoke(ReflectionEngine.java:357)\n\tat py4j.Gateway.invoke(Gateway.java:282)\n\tat py4j.commands.AbstractCommand.invokeMethod(AbstractCommand.java:132)\n\tat py4j.commands.CallCommand.execute(CallCommand.java:79)\n\tat py4j.GatewayConnection.run(GatewayConnection.java:238)\n\tat java.lang.Thread.run(Thread.java:748)\n"
     ]
    }
   ],
   "source": [
    "base10.select('id','review_id','stars').show()"
   ]
  },
  {
   "cell_type": "markdown",
   "metadata": {},
   "source": [
    "- Remoção de colunas que não serão utilizadas na primeira modelagem"
   ]
  },
  {
   "cell_type": "code",
   "execution_count": 54,
   "metadata": {
    "execution": {
     "iopub.execute_input": "2020-07-02T11:58:39.516013Z",
     "iopub.status.busy": "2020-07-02T11:58:39.515727Z",
     "iopub.status.idle": "2020-07-02T11:58:39.530293Z",
     "shell.execute_reply": "2020-07-02T11:58:39.529524Z",
     "shell.execute_reply.started": "2020-07-02T11:58:39.515986Z"
    }
   },
   "outputs": [],
   "source": [
    "base_final = base10.drop('friends','friends_counter','name_usr','city','review_id', 'address','state', 'hours','text_clean','text','tip','tip_clean','elite_usr')"
   ]
  },
  {
   "cell_type": "code",
   "execution_count": 47,
   "metadata": {
    "execution": {
     "iopub.execute_input": "2020-07-02T11:54:36.196499Z",
     "iopub.status.busy": "2020-07-02T11:54:36.196203Z",
     "iopub.status.idle": "2020-07-02T11:54:36.202760Z",
     "shell.execute_reply": "2020-07-02T11:54:36.202025Z",
     "shell.execute_reply.started": "2020-07-02T11:54:36.196468Z"
    }
   },
   "outputs": [
    {
     "data": {
      "text/plain": [
       "['business_id',\n",
       " 'cool',\n",
       " 'date',\n",
       " 'funny',\n",
       " 'stars',\n",
       " 'useful',\n",
       " 'user_id',\n",
       " 'categories',\n",
       " 'is_open',\n",
       " 'latitude',\n",
       " 'longitude',\n",
       " 'name_bz',\n",
       " 'postal_code',\n",
       " 'review_count',\n",
       " 'stars_bz',\n",
       " 'stars_usr',\n",
       " 'compliment_cool',\n",
       " 'compliment_cute',\n",
       " 'compliment_funny',\n",
       " 'compliment_hot',\n",
       " 'compliment_list',\n",
       " 'compliment_more',\n",
       " 'compliment_note',\n",
       " 'compliment_photos',\n",
       " 'compliment_plain',\n",
       " 'compliment_profile',\n",
       " 'compliment_writer',\n",
       " 'cool_usr',\n",
       " 'fans',\n",
       " 'funny_usr',\n",
       " 'review_count_usr',\n",
       " 'useful_usr',\n",
       " 'yelping_since',\n",
       " 'city_review_counter',\n",
       " 'city_review_ratio',\n",
       " 'class_rv',\n",
       " 'class_bz',\n",
       " 'class_usr',\n",
       " 'compliment_count_tip',\n",
       " 'friends_count',\n",
       " 'review_tip']"
      ]
     },
     "execution_count": 47,
     "metadata": {},
     "output_type": "execute_result"
    }
   ],
   "source": [
    "base_final.columns"
   ]
  },
  {
   "cell_type": "markdown",
   "metadata": {},
   "source": [
    "- Gravar base final em csv"
   ]
  },
  {
   "cell_type": "code",
   "execution_count": 48,
   "metadata": {
    "execution": {
     "iopub.execute_input": "2020-07-02T11:54:40.945003Z",
     "iopub.status.busy": "2020-07-02T11:54:40.944718Z",
     "iopub.status.idle": "2020-07-02T11:55:58.427990Z",
     "shell.execute_reply": "2020-07-02T11:55:58.427286Z",
     "shell.execute_reply.started": "2020-07-02T11:54:40.944978Z"
    }
   },
   "outputs": [],
   "source": [
    "base_final.limit(50000).write \\\n",
    "    .format('csv') \\\n",
    "    .mode('overwrite') \\\n",
    "    .option('sep', ',') \\\n",
    "    .option('header', True) \\\n",
    "    .save('output/yelp.csv')"
   ]
  },
  {
   "cell_type": "markdown",
   "metadata": {},
   "source": [
    "## Base para modelo de tópicos"
   ]
  },
  {
   "cell_type": "code",
   "execution_count": 67,
   "metadata": {
    "execution": {
     "iopub.execute_input": "2020-07-02T12:13:51.764489Z",
     "iopub.status.busy": "2020-07-02T12:13:51.764238Z",
     "iopub.status.idle": "2020-07-02T12:13:51.779131Z",
     "shell.execute_reply": "2020-07-02T12:13:51.778415Z",
     "shell.execute_reply.started": "2020-07-02T12:13:51.764466Z"
    }
   },
   "outputs": [],
   "source": [
    "words = base_final.select('review_id','user_id','business_id','categories','stars','review_tip')"
   ]
  },
  {
   "cell_type": "code",
   "execution_count": 68,
   "metadata": {
    "execution": {
     "iopub.execute_input": "2020-07-02T12:13:52.886559Z",
     "iopub.status.busy": "2020-07-02T12:13:52.886253Z",
     "iopub.status.idle": "2020-07-02T12:13:52.923687Z",
     "shell.execute_reply": "2020-07-02T12:13:52.922863Z",
     "shell.execute_reply.started": "2020-07-02T12:13:52.886531Z"
    }
   },
   "outputs": [],
   "source": [
    "words2 = words.withColumn('category', f.explode(f.split(f.col('categories'),', ')))"
   ]
  },
  {
   "cell_type": "code",
   "execution_count": 69,
   "metadata": {
    "execution": {
     "iopub.execute_input": "2020-07-02T12:13:54.071664Z",
     "iopub.status.busy": "2020-07-02T12:13:54.071372Z",
     "iopub.status.idle": "2020-07-02T12:13:54.076345Z",
     "shell.execute_reply": "2020-07-02T12:13:54.075554Z",
     "shell.execute_reply.started": "2020-07-02T12:13:54.071636Z"
    }
   },
   "outputs": [],
   "source": [
    "words3 = words2.drop('categories')"
   ]
  },
  {
   "cell_type": "code",
   "execution_count": 70,
   "metadata": {
    "execution": {
     "iopub.execute_input": "2020-07-02T12:13:55.230626Z",
     "iopub.status.busy": "2020-07-02T12:13:55.230329Z",
     "iopub.status.idle": "2020-07-02T12:14:26.388718Z",
     "shell.execute_reply": "2020-07-02T12:14:26.388007Z",
     "shell.execute_reply.started": "2020-07-02T12:13:55.230599Z"
    }
   },
   "outputs": [
    {
     "name": "stdout",
     "output_type": "stream",
     "text": [
      "+--------------------+--------------------+--------------------+-----+--------------------+--------------------+\n",
      "|           review_id|             user_id|         business_id|stars|          review_tip|            category|\n",
      "+--------------------+--------------------+--------------------+-----+--------------------+--------------------+\n",
      "|Xx0-_hoLgjsEanmKX...|--Qh8yKWAvIP4V4K8...|BxCzy1WOVxOrr_G7V...|  3.0|i came here for b...|        Comfort Food|\n",
      "|Xx0-_hoLgjsEanmKX...|--Qh8yKWAvIP4V4K8...|BxCzy1WOVxOrr_G7V...|  3.0|i came here for b...|          Tapas Bars|\n",
      "|Xx0-_hoLgjsEanmKX...|--Qh8yKWAvIP4V4K8...|BxCzy1WOVxOrr_G7V...|  3.0|i came here for b...|               Vegan|\n",
      "|Xx0-_hoLgjsEanmKX...|--Qh8yKWAvIP4V4K8...|BxCzy1WOVxOrr_G7V...|  3.0|i came here for b...|  Breakfast & Brunch|\n",
      "|Xx0-_hoLgjsEanmKX...|--Qh8yKWAvIP4V4K8...|BxCzy1WOVxOrr_G7V...|  3.0|i came here for b...|         Gluten-Free|\n",
      "|Xx0-_hoLgjsEanmKX...|--Qh8yKWAvIP4V4K8...|BxCzy1WOVxOrr_G7V...|  3.0|i came here for b...|      Canadian (New)|\n",
      "|Xx0-_hoLgjsEanmKX...|--Qh8yKWAvIP4V4K8...|BxCzy1WOVxOrr_G7V...|  3.0|i came here for b...|         Restaurants|\n",
      "|yQ9rFBC26ESkZM0AV...|--Qh8yKWAvIP4V4K8...|JgaQFKxW-Bnfc7r5E...|  2.0|we recently had a...|                Bars|\n",
      "|yQ9rFBC26ESkZM0AV...|--Qh8yKWAvIP4V4K8...|JgaQFKxW-Bnfc7r5E...|  2.0|we recently had a...|                Pubs|\n",
      "|yQ9rFBC26ESkZM0AV...|--Qh8yKWAvIP4V4K8...|JgaQFKxW-Bnfc7r5E...|  2.0|we recently had a...|           Nightlife|\n",
      "|yQ9rFBC26ESkZM0AV...|--Qh8yKWAvIP4V4K8...|JgaQFKxW-Bnfc7r5E...|  2.0|we recently had a...|               Irish|\n",
      "|yQ9rFBC26ESkZM0AV...|--Qh8yKWAvIP4V4K8...|JgaQFKxW-Bnfc7r5E...|  2.0|we recently had a...|         Restaurants|\n",
      "|T0x0HiMWbjqcP1TJx...|-3PTUP443q6hQESLK...|U_jPOTd-Z5KATbTYn...|  5.0|i got a small ste...|             Tex-Mex|\n",
      "|T0x0HiMWbjqcP1TJx...|-3PTUP443q6hQESLK...|U_jPOTd-Z5KATbTYn...|  5.0|i got a small ste...|             Mexican|\n",
      "|T0x0HiMWbjqcP1TJx...|-3PTUP443q6hQESLK...|U_jPOTd-Z5KATbTYn...|  5.0|i got a small ste...|         Restaurants|\n",
      "|XjR7yhxATpTfsC7Xt...|-3PTUP443q6hQESLK...|b6sUcJj_xbeYrKKOs...|  4.0| the only thing i...|          Bubble Tea|\n",
      "|XjR7yhxATpTfsC7Xt...|-3PTUP443q6hQESLK...|b6sUcJj_xbeYrKKOs...|  4.0| the only thing i...|Juice Bars & Smoo...|\n",
      "|XjR7yhxATpTfsC7Xt...|-3PTUP443q6hQESLK...|b6sUcJj_xbeYrKKOs...|  4.0| the only thing i...|                Food|\n",
      "|XjR7yhxATpTfsC7Xt...|-3PTUP443q6hQESLK...|b6sUcJj_xbeYrKKOs...|  4.0| the only thing i...|        Coffee & Tea|\n",
      "|IXFI93QT9KTmyrkvc...|-9RU4LuI_TfYgv9rB...|I_3P0ns6_3najPBxn...|  5.0|i have been comin...|       Mediterranean|\n",
      "+--------------------+--------------------+--------------------+-----+--------------------+--------------------+\n",
      "only showing top 20 rows\n",
      "\n"
     ]
    }
   ],
   "source": [
    "words3.show()"
   ]
  },
  {
   "cell_type": "code",
   "execution_count": null,
   "metadata": {},
   "outputs": [],
   "source": [
    "#words4 = words3.withColumn('word', f.explode(f.split(f.col('review_tip'),' ')))"
   ]
  },
  {
   "cell_type": "code",
   "execution_count": 71,
   "metadata": {
    "execution": {
     "iopub.execute_input": "2020-07-02T12:14:30.853248Z",
     "iopub.status.busy": "2020-07-02T12:14:30.852916Z",
     "iopub.status.idle": "2020-07-02T12:15:09.194113Z",
     "shell.execute_reply": "2020-07-02T12:15:09.193419Z",
     "shell.execute_reply.started": "2020-07-02T12:14:30.853218Z"
    }
   },
   "outputs": [],
   "source": [
    "words3.write \\\n",
    "    .format('csv') \\\n",
    "    .mode('overwrite') \\\n",
    "    .option('sep', ',') \\\n",
    "    .option('header', True) \\\n",
    "    .save('output/yelp_words.csv')"
   ]
  },
  {
   "cell_type": "markdown",
   "metadata": {},
   "source": [
    "# Matriz de distâncias"
   ]
  },
  {
   "cell_type": "markdown",
   "metadata": {},
   "source": [
    "- Preparação para criação de matriz de distâncias baseada na nota de cada avaliação."
   ]
  },
  {
   "cell_type": "code",
   "execution_count": 112,
   "metadata": {
    "execution": {
     "iopub.execute_input": "2020-06-28T21:52:12.842803Z",
     "iopub.status.busy": "2020-06-28T21:52:12.842491Z",
     "iopub.status.idle": "2020-06-28T21:52:12.856870Z",
     "shell.execute_reply": "2020-06-28T21:52:12.855839Z",
     "shell.execute_reply.started": "2020-06-28T21:52:12.842770Z"
    }
   },
   "outputs": [],
   "source": [
    "dist1 = base_final.select('user_id','categories','stars')"
   ]
  },
  {
   "cell_type": "code",
   "execution_count": 97,
   "metadata": {
    "execution": {
     "iopub.execute_input": "2020-06-28T21:47:08.989488Z",
     "iopub.status.busy": "2020-06-28T21:47:08.989192Z",
     "iopub.status.idle": "2020-06-28T21:47:33.129653Z",
     "shell.execute_reply": "2020-06-28T21:47:33.128687Z",
     "shell.execute_reply.started": "2020-06-28T21:47:08.989461Z"
    }
   },
   "outputs": [
    {
     "name": "stdout",
     "output_type": "stream",
     "text": [
      "+--------------------+--------------------+-----+\n",
      "|             user_id|          categories|stars|\n",
      "+--------------------+--------------------+-----+\n",
      "|-4Anvj46CWf57KWI9...|Restaurants, Japa...|  3.0|\n",
      "|-4Anvj46CWf57KWI9...|Lounges, Bars, Ni...|  4.0|\n",
      "|-JBB4-ALR07J6Pbx4...| Restaurants, Korean|  4.0|\n",
      "|-JBB4-ALR07J6Pbx4...|Bakeries, Dessert...|  1.0|\n",
      "|-JBB4-ALR07J6Pbx4...|Food, Ethnic Food...|  4.0|\n",
      "|-JBB4-ALR07J6Pbx4...|Food, Restaurants...|  2.0|\n",
      "|-JBB4-ALR07J6Pbx4...|Chinese, Restaura...|  4.0|\n",
      "|-JBB4-ALR07J6Pbx4...|Restaurants, Cana...|  4.0|\n",
      "|-JBB4-ALR07J6Pbx4...|Lebanese, Middle ...|  3.0|\n",
      "|-JBB4-ALR07J6Pbx4...|Vegetarian, Resta...|  3.0|\n",
      "|-JBB4-ALR07J6Pbx4...|Restaurants, Tapa...|  4.0|\n",
      "|-JBB4-ALR07J6Pbx4...|Parks, Local Serv...|  4.0|\n",
      "|-JBB4-ALR07J6Pbx4...|Food, Ice Cream &...|  5.0|\n",
      "|-JBB4-ALR07J6Pbx4...|Italian, Caterers...|  5.0|\n",
      "|-JBB4-ALR07J6Pbx4...|Restaurants, Mexican|  4.0|\n",
      "|-JBB4-ALR07J6Pbx4...|Bakeries, Food, R...|  3.0|\n",
      "|-JBB4-ALR07J6Pbx4...|Japanese, Sushi B...|  4.0|\n",
      "|-LyjHYhPha2loUaiM...|Food, Desserts, J...|  4.0|\n",
      "|-LyjHYhPha2loUaiM...|Sushi Bars, Japan...|  5.0|\n",
      "|-LyjHYhPha2loUaiM...|Restaurants, Dim ...|  3.0|\n",
      "+--------------------+--------------------+-----+\n",
      "only showing top 20 rows\n",
      "\n"
     ]
    }
   ],
   "source": [
    "dist1.show()"
   ]
  },
  {
   "cell_type": "code",
   "execution_count": 123,
   "metadata": {
    "execution": {
     "iopub.execute_input": "2020-06-28T21:57:58.206498Z",
     "iopub.status.busy": "2020-06-28T21:57:58.206205Z",
     "iopub.status.idle": "2020-06-28T21:57:58.248583Z",
     "shell.execute_reply": "2020-06-28T21:57:58.247872Z",
     "shell.execute_reply.started": "2020-06-28T21:57:58.206473Z"
    }
   },
   "outputs": [],
   "source": [
    "dist2 = dist1.withColumn('category', f.explode(f.split(f.col('categories'),', ')))"
   ]
  },
  {
   "cell_type": "code",
   "execution_count": 124,
   "metadata": {
    "execution": {
     "iopub.execute_input": "2020-06-28T21:57:59.107445Z",
     "iopub.status.busy": "2020-06-28T21:57:59.107161Z",
     "iopub.status.idle": "2020-06-28T21:58:25.267452Z",
     "shell.execute_reply": "2020-06-28T21:58:25.266407Z",
     "shell.execute_reply.started": "2020-06-28T21:57:59.107418Z"
    }
   },
   "outputs": [
    {
     "name": "stdout",
     "output_type": "stream",
     "text": [
      "+--------------------+--------------------+-----+--------------+\n",
      "|             user_id|          categories|stars|      category|\n",
      "+--------------------+--------------------+-----+--------------+\n",
      "|-4Anvj46CWf57KWI9...|Restaurants, Japa...|  3.0|   Restaurants|\n",
      "|-4Anvj46CWf57KWI9...|Restaurants, Japa...|  3.0|      Japanese|\n",
      "|-4Anvj46CWf57KWI9...|Restaurants, Japa...|  3.0|    Sushi Bars|\n",
      "|-4Anvj46CWf57KWI9...|Lounges, Bars, Ni...|  4.0|       Lounges|\n",
      "|-4Anvj46CWf57KWI9...|Lounges, Bars, Ni...|  4.0|          Bars|\n",
      "|-4Anvj46CWf57KWI9...|Lounges, Bars, Ni...|  4.0|     Nightlife|\n",
      "|-JBB4-ALR07J6Pbx4...| Restaurants, Korean|  4.0|   Restaurants|\n",
      "|-JBB4-ALR07J6Pbx4...| Restaurants, Korean|  4.0|        Korean|\n",
      "|-JBB4-ALR07J6Pbx4...|Bakeries, Dessert...|  1.0|      Bakeries|\n",
      "|-JBB4-ALR07J6Pbx4...|Bakeries, Dessert...|  1.0|      Desserts|\n",
      "|-JBB4-ALR07J6Pbx4...|Bakeries, Dessert...|  1.0|          Food|\n",
      "|-JBB4-ALR07J6Pbx4...|Food, Ethnic Food...|  4.0|          Food|\n",
      "|-JBB4-ALR07J6Pbx4...|Food, Ethnic Food...|  4.0|   Ethnic Food|\n",
      "|-JBB4-ALR07J6Pbx4...|Food, Ethnic Food...|  4.0|          Poke|\n",
      "|-JBB4-ALR07J6Pbx4...|Food, Ethnic Food...|  4.0|      Hawaiian|\n",
      "|-JBB4-ALR07J6Pbx4...|Food, Ethnic Food...|  4.0|   Restaurants|\n",
      "|-JBB4-ALR07J6Pbx4...|Food, Ethnic Food...|  4.0|       Seafood|\n",
      "|-JBB4-ALR07J6Pbx4...|Food, Ethnic Food...|  4.0|  Asian Fusion|\n",
      "|-JBB4-ALR07J6Pbx4...|Food, Ethnic Food...|  4.0|Specialty Food|\n",
      "|-JBB4-ALR07J6Pbx4...|Food, Restaurants...|  2.0|          Food|\n",
      "+--------------------+--------------------+-----+--------------+\n",
      "only showing top 20 rows\n",
      "\n"
     ]
    }
   ],
   "source": [
    "dist2.show()"
   ]
  },
  {
   "cell_type": "code",
   "execution_count": 127,
   "metadata": {
    "execution": {
     "iopub.execute_input": "2020-06-28T21:59:20.022051Z",
     "iopub.status.busy": "2020-06-28T21:59:20.021760Z",
     "iopub.status.idle": "2020-06-28T21:59:20.052269Z",
     "shell.execute_reply": "2020-06-28T21:59:20.051379Z",
     "shell.execute_reply.started": "2020-06-28T21:59:20.022024Z"
    }
   },
   "outputs": [],
   "source": [
    "dist2.createOrReplaceTempView('dist')"
   ]
  },
  {
   "cell_type": "markdown",
   "metadata": {},
   "source": [
    "- Quantidade de usuários e estabelecimentos"
   ]
  },
  {
   "cell_type": "code",
   "execution_count": 120,
   "metadata": {
    "execution": {
     "iopub.execute_input": "2020-06-28T21:56:28.543133Z",
     "iopub.status.busy": "2020-06-28T21:56:28.542840Z",
     "iopub.status.idle": "2020-06-28T21:56:55.361110Z",
     "shell.execute_reply": "2020-06-28T21:56:55.360275Z",
     "shell.execute_reply.started": "2020-06-28T21:56:28.543106Z"
    }
   },
   "outputs": [
    {
     "name": "stdout",
     "output_type": "stream",
     "text": [
      "+-----------------------+\n",
      "|count(DISTINCT user_id)|\n",
      "+-----------------------+\n",
      "|                  52705|\n",
      "+-----------------------+\n",
      "\n"
     ]
    }
   ],
   "source": [
    "spark.sql('''\n",
    "            SELECT Count(DISTINCT user_id)\n",
    "            FROM dist\n",
    "            ''').show()"
   ]
  },
  {
   "cell_type": "code",
   "execution_count": 121,
   "metadata": {
    "execution": {
     "iopub.execute_input": "2020-06-28T21:56:55.363112Z",
     "iopub.status.busy": "2020-06-28T21:56:55.362815Z",
     "iopub.status.idle": "2020-06-28T21:57:35.381756Z",
     "shell.execute_reply": "2020-06-28T21:57:35.380810Z",
     "shell.execute_reply.started": "2020-06-28T21:56:55.363083Z"
    }
   },
   "outputs": [
    {
     "name": "stdout",
     "output_type": "stream",
     "text": [
      "+--------------------------+\n",
      "|count(DISTINCT categories)|\n",
      "+--------------------------+\n",
      "|                      4214|\n",
      "+--------------------------+\n",
      "\n"
     ]
    }
   ],
   "source": [
    "spark.sql('''\n",
    "            SELECT Count(DISTINCT categories)\n",
    "            FROM dist\n",
    "            ''').show()"
   ]
  },
  {
   "cell_type": "code",
   "execution_count": 128,
   "metadata": {
    "execution": {
     "iopub.execute_input": "2020-06-28T21:59:22.476287Z",
     "iopub.status.busy": "2020-06-28T21:59:22.476005Z",
     "iopub.status.idle": "2020-06-28T21:59:53.328016Z",
     "shell.execute_reply": "2020-06-28T21:59:53.327189Z",
     "shell.execute_reply.started": "2020-06-28T21:59:22.476262Z"
    }
   },
   "outputs": [
    {
     "name": "stdout",
     "output_type": "stream",
     "text": [
      "+------------------------+\n",
      "|count(DISTINCT category)|\n",
      "+------------------------+\n",
      "|                     613|\n",
      "+------------------------+\n",
      "\n"
     ]
    }
   ],
   "source": [
    "spark.sql('''\n",
    "            SELECT Count(DISTINCT category)\n",
    "            FROM dist\n",
    "            ''').show()"
   ]
  },
  {
   "cell_type": "markdown",
   "metadata": {},
   "source": [
    "- Aumentando o limite máximo de coluna de acordo com o número de estabelecimentos"
   ]
  },
  {
   "cell_type": "code",
   "execution_count": 129,
   "metadata": {
    "execution": {
     "iopub.execute_input": "2020-06-28T22:00:07.764033Z",
     "iopub.status.busy": "2020-06-28T22:00:07.763724Z",
     "iopub.status.idle": "2020-06-28T22:00:07.767333Z",
     "shell.execute_reply": "2020-06-28T22:00:07.766152Z",
     "shell.execute_reply.started": "2020-06-28T22:00:07.764003Z"
    }
   },
   "outputs": [],
   "source": [
    "#spark.conf.set('spark.sql.pivotMaxValues', u'21000')"
   ]
  },
  {
   "cell_type": "code",
   "execution_count": 130,
   "metadata": {
    "execution": {
     "iopub.execute_input": "2020-06-28T22:00:14.018595Z",
     "iopub.status.busy": "2020-06-28T22:00:14.018182Z",
     "iopub.status.idle": "2020-06-28T22:00:49.800080Z",
     "shell.execute_reply": "2020-06-28T22:00:49.798464Z",
     "shell.execute_reply.started": "2020-06-28T22:00:14.018548Z"
    }
   },
   "outputs": [],
   "source": [
    "dist3 = dist2.groupBy(\"user_id\").pivot(\"category\").mean(\"stars\")"
   ]
  },
  {
   "cell_type": "code",
   "execution_count": 132,
   "metadata": {
    "execution": {
     "iopub.execute_input": "2020-06-28T22:01:51.396262Z",
     "iopub.status.busy": "2020-06-28T22:01:51.395977Z",
     "iopub.status.idle": "2020-06-28T22:01:52.469365Z",
     "shell.execute_reply": "2020-06-28T22:01:52.468216Z",
     "shell.execute_reply.started": "2020-06-28T22:01:51.396236Z"
    }
   },
   "outputs": [],
   "source": [
    "dist4 = dist3.fillna(0)"
   ]
  },
  {
   "cell_type": "code",
   "execution_count": 133,
   "metadata": {
    "collapsed": true,
    "execution": {
     "iopub.execute_input": "2020-06-28T22:01:57.785620Z",
     "iopub.status.busy": "2020-06-28T22:01:57.785338Z",
     "iopub.status.idle": "2020-06-28T22:02:29.582046Z",
     "shell.execute_reply": "2020-06-28T22:02:29.581165Z",
     "shell.execute_reply.started": "2020-06-28T22:01:57.785594Z"
    },
    "jupyter": {
     "outputs_hidden": true
    }
   },
   "outputs": [
    {
     "name": "stdout",
     "output_type": "stream",
     "text": [
      "+--------------------+----------+-----------+-----------+--------------+-----------+-----------+-------------------+------+-------+--------+---------------+----------------+--------+--------------------+--------------+----------------------+---------------+---------------+--------+----------+----------+-------------------+---------+-------+-------+-------+---------+-----------+-------------+-----------+-----------+------------+-------------+--------------------+------------+----------+--------------+-------------------+---------------------+-----------+----------+------------+---------------------+------+--------+-----------+---------------------+--------+-------+-------------+----+---------------+------+-------+-------------+---------------+----+--------+------------+---------+----------+-------+----------------+--------+------------+-----------------------+---------+----------+-----+-------+---------------------+-------------+-------+----------+-----+----------+-------+------+----------+---------+------------------+---------+--------+------+-------+----------+-------+-----------------+-------+-------------------+-------+-------+-----+---------+------------+---------+--------------+------------+----------------+---------------------+---------+-----------+----------+------------------+--------+------------------+------------------+---------+---------------+-------------------+---------+-------+--------+-----------------+--------------+------------+------------+------------+-------------+---------------------+-------------------+-------+-------------+--------------------+--------+------+--------+---------------+-------------+------------+---------------------+-----------------+-----------------------+---------+------------+------------+-----------+-----------------+----------------------------+---------+-----------+------------------+---------------+---------------+-----------------+-----------------+-------------------------+-------------------+--------+--------------------------+----------------------------+---------+-----+--------+-----------------+------------+----------------------+---------------+-----+---------------+---+------------------+-----------+-------------+----------+-------------+--------+------------+-----+--------+-----------------+-----------------------------+--------------+--------+-------+------+--------------+--------------+------------+---------+-------------------+-------+---------+-----------+-------+------+---------------+----------+------------+----------------------+---------+---------+--------+-----------+------------------+-------+----------------------+------------+------------+------------------+---------------+---------+-----------+--------------+-----------------+-------------------------+----------------+---------------+-------------------+-------------+-------+---------------+--------------+-------+---------+---------+--------+------------------+------------------+------------+---------------------+---------+--------+----------------+--------+---------------+------+------------------+----------+----------------------+-----------+----------+-----------+---------+-----------+-------+------+----------------+------------+------------------+----------------+----------------------+----------------+--------------------+------------+----------+--------+------+-----------------+------+----------+-----------+-----------+--------------+-----+-------+----+------+---------------+------------+-----------+-------------+-------+-----+-----+--------+---------------+----+--------+----------+----------------+--------------+---------------+-------------------------------+------------------+-------------+----------------+-----------+-------------+-----------------------+-------------+----------+----------------+-----------------+-------------+------------+--------------------+-----------+---------+-------+--------+-------+-----------------+-----------------+---------+-----------------------------+-------+-------------------------+---------------+-------------+------+----------+---------+---------------+-------------+---------------------+--------------+--------------------------+---------+-----+---------+-------+-------+------------------+------------+-------+--------------+----------------------+----------------------+-------+-----+-----------------+--------------+----------------+-----------------+------+------+--------------------------------+-----------+-------+-----------------------+------------------+---------+--------------+----------------+-------+-------------+--------+--------------+---------------+---------+-----------------------------+-----+--------+-------------+------------+--------------+-------+-------+--------+----+--------------+---------+---------+------------+-------+---------------+---------------+--------------+----------+----------+---------------+------------+----------------+------------------+-------------+--------------+-------+--------------+-----------------------------+------------------------+-------------------+-------------+---------------+---------+--------+------------------+---------------+------+-------+------------+-------------+------------+---------------------------+------------------------------+-----------+----------------+---------------------+----------------------+----------+---------+-------+---------------------+-------------+-------------+---------------+----------------+-------------------+--------------+------------+--------------+-------------+----------------------+------------------------+------------+-------------+----------------+-----------+---------+---------+--------+-------+-----+----------------------+--------------+------------------------+-----------+--------------------+----------+----------------+------------------+-------------+---------------+-------------+----------------+---------------+--------------+-----------------+--------+------------+------------+------------+-----------+----------+------------+----+--------+-------------+-----------------------------+----------------+----------+--------+-------+-----+-----------+--------+----+------+----------+------------+----------+------------+-----------+----------+-----------------+---------------------+---------------------+-------------------------+----------+--------------+----------------+----------------------------+---------------------+----+-----------+-----+-----------+------------------+--------------------+-----------------------------+------------------+-----------+-----------------------+-------+------------------+-------+-------------------+-------+----+-------+-----+----------+----------+------------+--------+---------------+-------+---------------+------------+-------------------+--------------------+---------------+------------+----------+-----------+-----------+----------+-----------+--------+----------------+------------------+-----------+-------------+---------+-------------------+----------+------------+---------+----+-------------+--------+-------+-----------+-----------------+-----------------+-----------------+--------------+-----------+------------+---------------+-----------+------+----------+-----------------+-----------+--------------+------------+----------+---------------------+------------+----------+------------------------+--------------+--------+------+--------+--------------+-----+-------+---------+-------+------------+----------+------------------+---------------+------+--------------+------------+-----+---------+------------------------+----------------------------+------+-------+----+------------+------------------+-------------+------------+---------+-----+-------------+-----+------+----------+----------------------------+--------------+--------+----------------+-------------------+--------------+---------------+------------+-------+----+---------+-----------+----+----------------+----------+-----+----------+----------+---------------------+-------------+-----------------+---------------------+--------------------------+----------+---------------------+-------------+----------------------+-------+---------------+-------------+------------+-------+--------------------------------+---------------------------+------------------+----------------+-------------------+------------+----------------+----+--------------------------------+--------------+---------+--------+----------------+-----+----+----+\n",
      "|             user_id|Acai Bowls|Accessories|Accountants|Acne Treatment|Active Life|Acupuncture|Adult Entertainment|Afghan|African|Airlines|Airport Lounges|Airport Shuttles|Airports|Amateur Sports Teams|American (New)|American (Traditional)|Amusement Parks|Animal Shelters|Antiques|Apartments|Appliances|Appliances & Repair|Aquariums|Arabian|Arcades|Archery|Argentine|Art Classes|Art Galleries|Art Museums|Art Schools|Art Supplies|Arts & Crafts|Arts & Entertainment|Asian Fusion|Australian|Auto Detailing|Auto Glass Services|Auto Parts & Supplies|Auto Repair|Automotive|Axe Throwing|Baby Gear & Furniture|Bagels|Bakeries|Bangladeshi|Banks & Credit Unions|Barbeque|Barbers|Barre Classes|Bars|Baseball Fields|Basque|Beaches|Beauty & Spas|Bed & Breakfast|Beer|Beer Bar|Beer Gardens|Beer Hall|Beer Tours|Belgian|Bespoke Clothing|Bicycles|Bike Rentals|Bike Repair/Maintenance|Bike Shop|Bike tours|Bikes|Bistros|Blow Dry/Out Services|Boat Charters|Boating|Body Shops|Books|Bookstores|Bowling|Boxing|Brasseries|Brazilian|Breakfast & Brunch|Breweries|Brewpubs|Bridal|British|Bubble Tea|Buffets|Building Supplies|Burgers|Business Consulting|Butcher|Cabaret|Cafes|Cafeteria|Cajun/Creole|Cambodian|Canadian (New)|Candy Stores|Cannabis Clinics|Cannabis Dispensaries|Cantonese|Car Dealers|Car Rental|Car Share Services|Car Wash|Car Window Tinting|Cards & Stationery|Caribbean|Carpet Cleaning|Carpet Installation|Carpeting|Casinos|Caterers|Challenge Courses|Champagne Bars|Cheese Shops|Cheesesteaks|Chicken Shop|Chicken Wings|Child Care & Day Care|Children's Clothing|Chinese|Chiropractors|Chocolatiers & Shops|Cideries|Cinema|Climbing|Clothing Rental|Cocktail Bars|Coffee & Tea|Coffee & Tea Supplies|Coffee Roasteries|Colleges & Universities|Colombian|Comedy Clubs|Comfort Food|Comic Books|Community Centers|Community Service/Non-Profit|Computers|Contractors|Convenience Stores|Cooking Classes|Cooking Schools|Cosmetic Dentists|Cosmetic Surgeons|Cosmetics & Beauty Supply|Cosmetology Schools|Costumes|Counseling & Mental Health|Couriers & Delivery Services|Creperies|Cuban|Cupcakes|Currency Exchange|Custom Cakes|Customized Merchandise|Cycling Classes|Czech|Czech/Slovakian|DJs|Damage Restoration|Dance Clubs|Dance Studios|Dance Wear|Data Recovery|Day Spas|Delicatessen|Delis|Dentists|Department Stores|Departments of Motor Vehicles|Dermatologists|Desserts|Dim Sum|Diners|Dinner Theater|Discount Store|Distilleries|Dive Bars|Do-It-Yourself Food|Doctors|Dog Parks|Dog Walkers|Donairs|Donuts|Driving Schools|Drugstores|Dry Cleaning|Dry Cleaning & Laundry|Dumplings|Education|Egyptian|Electronics|Electronics Repair|Embassy|Emergency Pet Hospital|Endodontists|Escape Games|Estate Liquidation|Ethical Grocery|Ethiopian|Ethnic Food|Ethnic Grocery|Event Photography|Event Planning & Services|Eyebrow Services|Eyelash Service|Eyewear & Opticians|Fabric Stores|Falafel|Family Practice|Farmers Market|Fashion|Fast Food|Festivals|Filipino|Financial Advising|Financial Services|Fish & Chips|Fitness & Instruction|Float Spa|Flooring|Floral Designers|Florists|Flowers & Gifts|Fondue|              Food|Food Court|Food Delivery Services|Food Stands|Food Tours|Food Trucks|Foot Care|Formal Wear|Framing|French|Fruits & Veggies|Fur Clothing|Furniture Assembly|Furniture Repair|Furniture Reupholstery|Furniture Stores|Garage Door Services|Gas Stations|Gastropubs|Gay Bars|Gelato|General Dentistry|German|Gift Shops|Gluten-Free|Gold Buyers|Graphic Design|Greek|Grocery|Gyms|Hainan|Hair Extensions|Hair Removal|Hair Salons|Hair Stylists|Haitian|Hakka|Halal|Handyman|Hardware Stores|Hats|Hawaiian|Head Shops|Health & Medical|Health Markets|Health Retreats|Heating & Air Conditioning/HVAC|Himalayan/Nepalese|Hindu Temples|Historical Tours|Hobby Shops|Home & Garden|Home & Rental Insurance|Home Cleaning|Home Decor|Home Health Care|Home Organization|Home Services|Home Staging|Hong Kong Style Cafe|Hookah Bars|Hospitals|Hostels|Hot Dogs|Hot Pot|           Hotels|  Hotels & Travel|Hungarian|IT Services & Computer Repair|Iberian|Ice Cream & Frozen Yogurt|Immigration Law|Imported Food|Indian|Indonesian|Insurance|Interior Design|International|International Grocery|Internet Cafes|Internet Service Providers|Investing|Irish|Irish Pub|Italian|Izakaya|          Japanese|Jazz & Blues|Jewelry|Jewelry Repair|Juice Bars & Smoothies|Junk Removal & Hauling|Karaoke|Kebab|Keys & Locksmiths|Kitchen & Bath|Kitchen Supplies|Knitting Supplies|Korean|Kosher|Landmarks & Historical Buildings|Landscaping|Laotian|Laser Eye Surgery/Lasik|Laser Hair Removal|Laser Tag|Latin American|Laundry Services|Lawyers|Leather Goods|Lebanese|Legal Services|Leisure Centers|Libraries|Lighting Fixtures & Equipment|Limos|Lingerie|Live/Raw Food|Local Flavor|Local Services|Lounges|Luggage|Macarons|Mags|Makeup Artists|Malaysian|Marketing|Martial Arts|Massage|Massage Schools|Massage Therapy|Maternity Wear|Mattresses|Meat Shops|Medical Centers|Medical Spas|Medical Supplies|Meditation Centers|Mediterranean|Men's Clothing|Mexican|Middle Eastern|Middle Schools & High Schools|Mobile Phone Accessories|Mobile Phone Repair|Mobile Phones|Modern European|Mongolian|Moroccan|Motorcycle Dealers|Mountain Biking|Movers|Museums|Music & DVDs|Music & Video|Music Venues|Musical Instrument Services|Musical Instruments & Teachers|Nail Salons|Nail Technicians|Naturopathic/Holistic|Newspapers & Magazines|Nicaraguan|Nightlife|Noodles|Nurseries & Gardening|Nutritionists|Observatories|Office Cleaning|Office Equipment|Oil Change Stations|Opera & Ballet|Optometrists|Organic Stores|Orthodontists|Osteopathic Physicians|Outdoor Furniture Stores|Outdoor Gear|Outlet Stores|Packing Supplies|Paint & Sip|Pakistani|Pan Asian|Pancakes|Parking|Parks|Party & Event Planning|Party Supplies|Passport & Visa Services|Pasta Shops|Patisserie/Cake Shop|Pawn Shops|Payroll Services|Pediatric Dentists|Pediatricians|Performing Arts|Periodontists|Permanent Makeup|Persian/Iranian|Personal Chefs|Personal Shopping|Peruvian|Pet Boarding|Pet Groomers|Pet Services|Pet Sitting|Pet Stores|Pet Training|Pets|Pharmacy|Photographers|Photography Stores & Services|Physical Therapy|Piano Bars|Piercing|Pilates|Pizza|Playgrounds|Plumbing|Poke|Polish|Pool Halls|Pop-up Shops|Portuguese|Post Offices|Poutineries|Preschools|Printing Services|Private Investigation|Professional Services|Professional Sports Teams|Public Art|Public Markets|Public Relations|Public Services & Government|Public Transportation|Pubs|Race Tracks|Ramen|Real Estate|Real Estate Agents|Real Estate Services|Recording & Rehearsal Studios|Recreation Centers|Reflexology|Religious Organizations|Resorts|       Restaurants|Reunion|Roadside Assistance|Rolfing|Rugs|Russian|Salad|Salvadoran|Sandwiches|Scandinavian|Scottish|Screen Printing|Seafood|Seafood Markets|Self Storage|Session Photography|Sewing & Alterations|Shades & Blinds|Shanghainese|Shaved Ice|Shaved Snow|Shoe Repair|Shoe Shine|Shoe Stores|Shopping|Shopping Centers|Shredding Services|Singaporean|Skating Rinks|Skin Care|Smog Check Stations|Smokehouse|Social Clubs|Soul Food|Soup|South African|Southern|Spanish|Speakeasies|Special Education|   Specialty Food|Specialty Schools|Sporting Goods|Sports Bars|Sports Clubs|Sports Medicine|Sports Wear|Squash|Sri Lankan|Stadiums & Arenas|Steakhouses|Street Vendors|Summer Camps|Sunglasses|Supernatural Readings|Supper Clubs|Sushi Bars|Swimming Lessons/Schools|Swimming Pools|Swimwear|Syrian|Szechuan|Tabletop Games|Tacos|Tai Chi|Taiwanese|Tanning|Tanning Beds|Tapas Bars|Tapas/Small Plates|Tasting Classes|Tattoo|Tattoo Removal|Tax Services|Taxis|Tea Rooms|Team Building Activities|Television Service Providers|Tennis|Tex-Mex|Thai|Themed Cafes|Threading Services|Thrift Stores|Ticket Sales|Tiki Bars|Tires|Tobacco Shops|Tours|Towing|Toy Stores|Traditional Chinese Medicine|Train Stations|Trainers|Trampoline Parks|Transmission Repair|Transportation|Travel Services|Truck Rental|Turkish|Udon|Ukrainian|Urgent Care|Used|Used Car Dealers|Vape Shops|Vegan|Vegetarian|Venezuelan|Venues & Event Spaces|Veterinarians|Video Game Stores|Video/Film Production|Videos & Video Game Rental|Vietnamese|Vintage & Consignment|Vinyl Records|Vitamins & Supplements|Waffles|Walk-in Clinics|Walking Tours|Watch Repair|Watches|Water Heater Installation/Repair|Water Purification Services|            Waxing|Wedding Planning|Weight Loss Centers|Whiskey Bars|Wholesale Stores|Wigs|Windshield Installation & Repair|Wine & Spirits|Wine Bars|Wineries|Women's Clothing|Wraps|Yoga|Zoos|\n",
      "+--------------------+----------+-----------+-----------+--------------+-----------+-----------+-------------------+------+-------+--------+---------------+----------------+--------+--------------------+--------------+----------------------+---------------+---------------+--------+----------+----------+-------------------+---------+-------+-------+-------+---------+-----------+-------------+-----------+-----------+------------+-------------+--------------------+------------+----------+--------------+-------------------+---------------------+-----------+----------+------------+---------------------+------+--------+-----------+---------------------+--------+-------+-------------+----+---------------+------+-------+-------------+---------------+----+--------+------------+---------+----------+-------+----------------+--------+------------+-----------------------+---------+----------+-----+-------+---------------------+-------------+-------+----------+-----+----------+-------+------+----------+---------+------------------+---------+--------+------+-------+----------+-------+-----------------+-------+-------------------+-------+-------+-----+---------+------------+---------+--------------+------------+----------------+---------------------+---------+-----------+----------+------------------+--------+------------------+------------------+---------+---------------+-------------------+---------+-------+--------+-----------------+--------------+------------+------------+------------+-------------+---------------------+-------------------+-------+-------------+--------------------+--------+------+--------+---------------+-------------+------------+---------------------+-----------------+-----------------------+---------+------------+------------+-----------+-----------------+----------------------------+---------+-----------+------------------+---------------+---------------+-----------------+-----------------+-------------------------+-------------------+--------+--------------------------+----------------------------+---------+-----+--------+-----------------+------------+----------------------+---------------+-----+---------------+---+------------------+-----------+-------------+----------+-------------+--------+------------+-----+--------+-----------------+-----------------------------+--------------+--------+-------+------+--------------+--------------+------------+---------+-------------------+-------+---------+-----------+-------+------+---------------+----------+------------+----------------------+---------+---------+--------+-----------+------------------+-------+----------------------+------------+------------+------------------+---------------+---------+-----------+--------------+-----------------+-------------------------+----------------+---------------+-------------------+-------------+-------+---------------+--------------+-------+---------+---------+--------+------------------+------------------+------------+---------------------+---------+--------+----------------+--------+---------------+------+------------------+----------+----------------------+-----------+----------+-----------+---------+-----------+-------+------+----------------+------------+------------------+----------------+----------------------+----------------+--------------------+------------+----------+--------+------+-----------------+------+----------+-----------+-----------+--------------+-----+-------+----+------+---------------+------------+-----------+-------------+-------+-----+-----+--------+---------------+----+--------+----------+----------------+--------------+---------------+-------------------------------+------------------+-------------+----------------+-----------+-------------+-----------------------+-------------+----------+----------------+-----------------+-------------+------------+--------------------+-----------+---------+-------+--------+-------+-----------------+-----------------+---------+-----------------------------+-------+-------------------------+---------------+-------------+------+----------+---------+---------------+-------------+---------------------+--------------+--------------------------+---------+-----+---------+-------+-------+------------------+------------+-------+--------------+----------------------+----------------------+-------+-----+-----------------+--------------+----------------+-----------------+------+------+--------------------------------+-----------+-------+-----------------------+------------------+---------+--------------+----------------+-------+-------------+--------+--------------+---------------+---------+-----------------------------+-----+--------+-------------+------------+--------------+-------+-------+--------+----+--------------+---------+---------+------------+-------+---------------+---------------+--------------+----------+----------+---------------+------------+----------------+------------------+-------------+--------------+-------+--------------+-----------------------------+------------------------+-------------------+-------------+---------------+---------+--------+------------------+---------------+------+-------+------------+-------------+------------+---------------------------+------------------------------+-----------+----------------+---------------------+----------------------+----------+---------+-------+---------------------+-------------+-------------+---------------+----------------+-------------------+--------------+------------+--------------+-------------+----------------------+------------------------+------------+-------------+----------------+-----------+---------+---------+--------+-------+-----+----------------------+--------------+------------------------+-----------+--------------------+----------+----------------+------------------+-------------+---------------+-------------+----------------+---------------+--------------+-----------------+--------+------------+------------+------------+-----------+----------+------------+----+--------+-------------+-----------------------------+----------------+----------+--------+-------+-----+-----------+--------+----+------+----------+------------+----------+------------+-----------+----------+-----------------+---------------------+---------------------+-------------------------+----------+--------------+----------------+----------------------------+---------------------+----+-----------+-----+-----------+------------------+--------------------+-----------------------------+------------------+-----------+-----------------------+-------+------------------+-------+-------------------+-------+----+-------+-----+----------+----------+------------+--------+---------------+-------+---------------+------------+-------------------+--------------------+---------------+------------+----------+-----------+-----------+----------+-----------+--------+----------------+------------------+-----------+-------------+---------+-------------------+----------+------------+---------+----+-------------+--------+-------+-----------+-----------------+-----------------+-----------------+--------------+-----------+------------+---------------+-----------+------+----------+-----------------+-----------+--------------+------------+----------+---------------------+------------+----------+------------------------+--------------+--------+------+--------+--------------+-----+-------+---------+-------+------------+----------+------------------+---------------+------+--------------+------------+-----+---------+------------------------+----------------------------+------+-------+----+------------+------------------+-------------+------------+---------+-----+-------------+-----+------+----------+----------------------------+--------------+--------+----------------+-------------------+--------------+---------------+------------+-------+----+---------+-----------+----+----------------+----------+-----+----------+----------+---------------------+-------------+-----------------+---------------------+--------------------------+----------+---------------------+-------------+----------------------+-------+---------------+-------------+------------+-------+--------------------------------+---------------------------+------------------+----------------+-------------------+------------+----------------+----+--------------------------------+--------------+---------+--------+----------------+-----+----+----+\n",
      "|-4Anvj46CWf57KWI9...|       0.0|        0.0|        0.0|           0.0|        0.0|        0.0|                0.0|   0.0|    0.0|     0.0|            0.0|             0.0|     0.0|                 0.0|           0.0|                   0.0|            0.0|            0.0|     0.0|       0.0|       0.0|                0.0|      0.0|    0.0|    0.0|    0.0|      0.0|        0.0|          0.0|        0.0|        0.0|         0.0|          0.0|                 0.0|         0.0|       0.0|           0.0|                0.0|                  0.0|        0.0|       0.0|         0.0|                  0.0|   0.0|     0.0|        0.0|                  0.0|     0.0|    0.0|          0.0| 4.0|            0.0|   0.0|    0.0|          0.0|            0.0| 0.0|     0.0|         0.0|      0.0|       0.0|    0.0|             0.0|     0.0|         0.0|                    0.0|      0.0|       0.0|  0.0|    0.0|                  0.0|          0.0|    0.0|       0.0|  0.0|       0.0|    0.0|   0.0|       0.0|      0.0|               0.0|      0.0|     0.0|   0.0|    0.0|       0.0|    0.0|              0.0|    0.0|                0.0|    0.0|    0.0|  0.0|      0.0|         0.0|      0.0|           0.0|         0.0|             0.0|                  0.0|      0.0|        0.0|       0.0|               0.0|     0.0|               0.0|               0.0|      0.0|            0.0|                0.0|      0.0|    0.0|     0.0|              0.0|           0.0|         0.0|         0.0|         0.0|          0.0|                  0.0|                0.0|    0.0|          0.0|                 0.0|     0.0|   0.0|     0.0|            0.0|          0.0|         0.0|                  0.0|              0.0|                    0.0|      0.0|         0.0|         0.0|        0.0|              0.0|                         0.0|      0.0|        0.0|               0.0|            0.0|            0.0|              0.0|              0.0|                      0.0|                0.0|     0.0|                       0.0|                         0.0|      0.0|  0.0|     0.0|              0.0|         0.0|                   0.0|            0.0|  0.0|            0.0|0.0|               0.0|        0.0|          0.0|       0.0|          0.0|     0.0|         0.0|  0.0|     0.0|              0.0|                          0.0|           0.0|     0.0|    0.0|   0.0|           0.0|           0.0|         0.0|      0.0|                0.0|    0.0|      0.0|        0.0|    0.0|   0.0|            0.0|       0.0|         0.0|                   0.0|      0.0|      0.0|     0.0|        0.0|               0.0|    0.0|                   0.0|         0.0|         0.0|               0.0|            0.0|      0.0|        0.0|           0.0|              0.0|                      0.0|             0.0|            0.0|                0.0|          0.0|    0.0|            0.0|           0.0|    0.0|      0.0|      0.0|     0.0|               0.0|               0.0|         0.0|                  0.0|      0.0|     0.0|             0.0|     0.0|            0.0|   0.0|               0.0|       0.0|                   0.0|        0.0|       0.0|        0.0|      0.0|        0.0|    0.0|   0.0|             0.0|         0.0|               0.0|             0.0|                   0.0|             0.0|                 0.0|         0.0|       0.0|     0.0|   0.0|              0.0|   0.0|       0.0|        0.0|        0.0|           0.0|  0.0|    0.0| 0.0|   0.0|            0.0|         0.0|        0.0|          0.0|    0.0|  0.0|  0.0|     0.0|            0.0| 0.0|     0.0|       0.0|             0.0|           0.0|            0.0|                            0.0|               0.0|          0.0|             0.0|        0.0|          0.0|                    0.0|          0.0|       0.0|             0.0|              0.0|          0.0|         0.0|                 0.0|        0.0|      0.0|    0.0|     0.0|    0.0|              0.0|              0.0|      0.0|                          0.0|    0.0|                      0.0|            0.0|          0.0|   0.0|       0.0|      0.0|            0.0|          0.0|                  0.0|           0.0|                       0.0|      0.0|  0.0|      0.0|    0.0|    0.0|               3.0|         0.0|    0.0|           0.0|                   0.0|                   0.0|    0.0|  0.0|              0.0|           0.0|             0.0|              0.0|   0.0|   0.0|                             0.0|        0.0|    0.0|                    0.0|               0.0|      0.0|           0.0|             0.0|    0.0|          0.0|     0.0|           0.0|            0.0|      0.0|                          0.0|  0.0|     0.0|          0.0|         0.0|           0.0|    4.0|    0.0|     0.0| 0.0|           0.0|      0.0|      0.0|         0.0|    0.0|            0.0|            0.0|           0.0|       0.0|       0.0|            0.0|         0.0|             0.0|               0.0|          0.0|           0.0|    0.0|           0.0|                          0.0|                     0.0|                0.0|          0.0|            0.0|      0.0|     0.0|               0.0|            0.0|   0.0|    0.0|         0.0|          0.0|         0.0|                        0.0|                           0.0|        0.0|             0.0|                  0.0|                   0.0|       0.0|      4.0|    0.0|                  0.0|          0.0|          0.0|            0.0|             0.0|                0.0|           0.0|         0.0|           0.0|          0.0|                   0.0|                     0.0|         0.0|          0.0|             0.0|        0.0|      0.0|      0.0|     0.0|    0.0|  0.0|                   0.0|           0.0|                     0.0|        0.0|                 0.0|       0.0|             0.0|               0.0|          0.0|            0.0|          0.0|             0.0|            0.0|           0.0|              0.0|     0.0|         0.0|         0.0|         0.0|        0.0|       0.0|         0.0| 0.0|     0.0|          0.0|                          0.0|             0.0|       0.0|     0.0|    0.0|  0.0|        0.0|     0.0| 0.0|   0.0|       0.0|         0.0|       0.0|         0.0|        0.0|       0.0|              0.0|                  0.0|                  0.0|                      0.0|       0.0|           0.0|             0.0|                         0.0|                  0.0| 0.0|        0.0|  0.0|        0.0|               0.0|                 0.0|                          0.0|               0.0|        0.0|                    0.0|    0.0|               3.0|    0.0|                0.0|    0.0| 0.0|    0.0|  0.0|       0.0|       0.0|         0.0|     0.0|            0.0|    0.0|            0.0|         0.0|                0.0|                 0.0|            0.0|         0.0|       0.0|        0.0|        0.0|       0.0|        0.0|     0.0|             0.0|               0.0|        0.0|          0.0|      0.0|                0.0|       0.0|         0.0|      0.0| 0.0|          0.0|     0.0|    0.0|        0.0|              0.0|              0.0|              0.0|           0.0|        0.0|         0.0|            0.0|        0.0|   0.0|       0.0|              0.0|        0.0|           0.0|         0.0|       0.0|                  0.0|         0.0|       3.0|                     0.0|           0.0|     0.0|   0.0|     0.0|           0.0|  0.0|    0.0|      0.0|    0.0|         0.0|       0.0|               0.0|            0.0|   0.0|           0.0|         0.0|  0.0|      0.0|                     0.0|                         0.0|   0.0|    0.0| 0.0|         0.0|               0.0|          0.0|         0.0|      0.0|  0.0|          0.0|  0.0|   0.0|       0.0|                         0.0|           0.0|     0.0|             0.0|                0.0|           0.0|            0.0|         0.0|    0.0| 0.0|      0.0|        0.0| 0.0|             0.0|       0.0|  0.0|       0.0|       0.0|                  0.0|          0.0|              0.0|                  0.0|                       0.0|       0.0|                  0.0|          0.0|                   0.0|    0.0|            0.0|          0.0|         0.0|    0.0|                             0.0|                        0.0|               0.0|             0.0|                0.0|         0.0|             0.0| 0.0|                             0.0|           0.0|      0.0|     0.0|             0.0|  0.0| 0.0| 0.0|\n",
      "|-JBB4-ALR07J6Pbx4...|       0.0|        0.0|        0.0|           0.0|        4.0|        0.0|                0.0|   0.0|    0.0|     0.0|            0.0|             0.0|     0.0|                 0.0|           0.0|                   0.0|            0.0|            0.0|     0.0|       0.0|       0.0|                0.0|      0.0|    0.0|    0.0|    0.0|      0.0|        0.0|          0.0|        0.0|        0.0|         0.0|          0.0|                 0.0|         4.0|       0.0|           0.0|                0.0|                  0.0|        0.0|       0.0|         0.0|                  0.0|   0.0|     3.0|        0.0|                  0.0|     0.0|    0.0|          0.0| 4.0|            0.0|   0.0|    0.0|          0.0|            0.0| 0.0|     0.0|         0.0|      0.0|       0.0|    0.0|             0.0|     0.0|         0.0|                    0.0|      0.0|       0.0|  0.0|    0.0|                  0.0|          0.0|    0.0|       0.0|  0.0|       0.0|    0.0|   0.0|       0.0|      0.0|               0.0|      0.0|     0.0|   0.0|    0.0|       0.0|    0.0|              0.0|    0.0|                0.0|    0.0|    0.0|  5.0|      0.0|         0.0|      0.0|           4.0|         0.0|             0.0|                  0.0|      0.0|        0.0|       0.0|               0.0|     0.0|               0.0|               0.0|      0.0|            0.0|                0.0|      0.0|    0.0|     5.0|              0.0|           0.0|         0.0|         0.0|         0.0|          0.0|                  0.0|                0.0|    4.0|          0.0|                 0.0|     0.0|   0.0|     0.0|            0.0|          0.0|         0.0|                  0.0|              0.0|                    0.0|      0.0|         0.0|         0.0|        0.0|              0.0|                         4.0|      0.0|        0.0|               0.0|            0.0|            0.0|              0.0|              0.0|                      0.0|                0.0|     0.0|                       0.0|                         0.0|      0.0|  0.0|     0.0|              0.0|         0.0|                   0.0|            0.0|  0.0|            0.0|0.0|               0.0|        0.0|          0.0|       0.0|          0.0|     0.0|         0.0|  0.0|     0.0|              0.0|                          0.0|           0.0|    2.75|    0.0|   0.0|           0.0|           0.0|         0.0|      0.0|                0.0|    0.0|      0.0|        0.0|    0.0|   2.0|            0.0|       0.0|         0.0|                   0.0|      0.0|      0.0|     0.0|        0.0|               0.0|    0.0|                   0.0|         0.0|         0.0|               0.0|            0.0|      0.0|        4.0|           0.0|              0.0|                      4.5|             0.0|            0.0|                0.0|          0.0|    0.0|            0.0|           4.0|    0.0|      0.0|      0.0|     0.0|               0.0|               0.0|         0.0|                  0.0|      0.0|     0.0|             0.0|     0.0|            0.0|   0.0|3.2857142857142856|       0.0|                   0.0|        5.0|       0.0|        5.0|      0.0|        0.0|    0.0|   0.0|             0.0|         0.0|               0.0|             0.0|                   0.0|             0.0|                 0.0|         0.0|       0.0|     0.0|   0.0|              0.0|   0.0|       0.0|        0.0|        0.0|           0.0|  0.0|    0.0| 0.0|   0.0|            0.0|         0.0|        0.0|          0.0|    0.0|  0.0|  0.0|     0.0|            0.0| 0.0|     4.0|       0.0|             0.0|           0.0|            0.0|                            0.0|               0.0|          0.0|             0.0|        0.0|          0.0|                    0.0|          0.0|       0.0|             0.0|              0.0|          0.0|         0.0|                 0.0|        0.0|      0.0|    0.0|     0.0|    0.0|              0.0|              0.0|      0.0|                          0.0|    0.0|                      3.5|            0.0|          0.0|   0.0|       0.0|      0.0|            0.0|          0.0|                  0.0|           0.0|                       0.0|      0.0|  0.0|      0.0|    5.0|    4.0|3.6666666666666665|         0.0|    0.0|           0.0|                   0.0|                   0.0|    0.0|  0.0|              0.0|           0.0|             0.0|              0.0|   4.0|   0.0|                             0.0|        0.0|    0.0|                    0.0|               0.0|      0.0|           0.0|             0.0|    0.0|          0.0|     3.0|           0.0|            0.0|      0.0|                          0.0|  0.0|     0.0|          0.0|         4.0|           4.0|    4.0|    0.0|     0.0| 0.0|           0.0|      0.0|      0.0|         0.0|    0.0|            0.0|            0.0|           0.0|       0.0|       0.0|            0.0|         0.0|             0.0|               0.0|          0.0|           0.0|    4.0|           3.0|                          0.0|                     0.0|                0.0|          0.0|            0.0|      0.0|     0.0|               0.0|            0.0|   0.0|    0.0|         0.0|          0.0|         0.0|                        0.0|                           0.0|        0.0|             0.0|                  0.0|                   0.0|       0.0|      4.0|    0.0|                  0.0|          0.0|          0.0|            0.0|             0.0|                0.0|           0.0|         0.0|           0.0|          0.0|                   0.0|                     0.0|         0.0|          0.0|             0.0|        0.0|      0.0|      0.0|     0.0|    0.0|  4.0|                   0.0|           0.0|                     0.0|        0.0|                 0.0|       0.0|             0.0|               0.0|          0.0|            0.0|          0.0|             0.0|            0.0|           0.0|              0.0|     0.0|         0.0|         0.0|         0.0|        0.0|       0.0|         0.0| 0.0|     0.0|          0.0|                          0.0|             0.0|       0.0|     0.0|    0.0|  0.0|        0.0|     0.0| 4.0|   0.0|       0.0|         0.0|       0.0|         0.0|        0.0|       0.0|              0.0|                  0.0|                  0.0|                      0.0|       0.0|           0.0|             0.0|                         0.0|                  0.0| 0.0|        0.0|  0.0|        0.0|               0.0|                 0.0|                          0.0|               0.0|        0.0|                    0.0|    0.0| 3.769230769230769|    0.0|                0.0|    0.0| 0.0|    0.0|  0.0|       0.0|       0.0|         0.0|     0.0|            0.0|    4.0|            0.0|         0.0|                0.0|                 0.0|            0.0|         0.0|       0.0|        0.0|        0.0|       0.0|        0.0|     0.0|             0.0|               0.0|        0.0|          0.0|      0.0|                0.0|       0.0|         0.0|      0.0| 0.0|          0.0|     3.0|    0.0|        0.0|              0.0|4.333333333333333|              0.0|           0.0|        0.0|         0.0|            0.0|        0.0|   0.0|       0.0|              0.0|        0.0|           5.0|         0.0|       0.0|                  0.0|         0.0|       4.0|                     0.0|           0.0|     0.0|   0.0|     0.0|           0.0|  0.0|    0.0|      0.0|    0.0|         0.0|       4.0|               0.0|            0.0|   0.0|           0.0|         0.0|  0.0|      0.0|                     0.0|                         0.0|   0.0|    0.0| 0.0|         0.0|               0.0|          0.0|         0.0|      0.0|  0.0|          0.0|  0.0|   0.0|       0.0|                         0.0|           0.0|     0.0|             0.0|                0.0|           0.0|            0.0|         0.0|    0.0| 0.0|      0.0|        0.0| 0.0|             0.0|       0.0|  3.0|       3.0|       0.0|                  4.0|          0.0|              0.0|                  0.0|                       0.0|       0.0|                  0.0|          0.0|                   0.0|    2.0|            0.0|          0.0|         0.0|    0.0|                             0.0|                        0.0|               0.0|             0.0|                0.0|         0.0|             0.0| 0.0|                             0.0|           0.0|      0.0|     0.0|             0.0|  0.0| 0.0| 0.0|\n",
      "|-LyjHYhPha2loUaiM...|       0.0|        0.0|        0.0|           0.0|        0.0|        0.0|                0.0|   0.0|    0.0|     0.0|            0.0|             0.0|     0.0|                 0.0|           0.0|                   0.0|            0.0|            0.0|     0.0|       0.0|       0.0|                0.0|      0.0|    0.0|    0.0|    0.0|      0.0|        0.0|          0.0|        0.0|        0.0|         0.0|          0.0|                 0.0|         0.0|       0.0|           0.0|                0.0|                  0.0|        0.0|       0.0|         0.0|                  0.0|   0.0|     0.0|        0.0|                  0.0|     0.0|    0.0|          0.0| 0.0|            0.0|   0.0|    0.0|          0.0|            0.0| 0.0|     0.0|         0.0|      0.0|       0.0|    0.0|             0.0|     0.0|         0.0|                    0.0|      0.0|       0.0|  0.0|    0.0|                  0.0|          0.0|    0.0|       0.0|  0.0|       0.0|    0.0|   0.0|       0.0|      0.0|               0.0|      0.0|     0.0|   0.0|    0.0|       0.0|    0.0|              0.0|    0.0|                0.0|    0.0|    0.0|  0.0|      0.0|         0.0|      0.0|           0.0|         0.0|             0.0|                  0.0|      0.0|        0.0|       0.0|               0.0|     0.0|               0.0|               0.0|      0.0|            0.0|                0.0|      0.0|    0.0|     0.0|              0.0|           0.0|         0.0|         0.0|         0.0|          0.0|                  0.0|                0.0|    3.0|          0.0|                 0.0|     0.0|   0.0|     0.0|            0.0|          0.0|         0.0|                  0.0|              0.0|                    0.0|      0.0|         0.0|         0.0|        0.0|              0.0|                         0.0|      0.0|        0.0|               0.0|            0.0|            0.0|              0.0|              0.0|                      0.0|                0.0|     0.0|                       0.0|                         0.0|      0.0|  0.0|     0.0|              0.0|         0.0|                   0.0|            0.0|  0.0|            0.0|0.0|               0.0|        0.0|          0.0|       0.0|          0.0|     0.0|         0.0|  0.0|     0.0|              0.0|                          0.0|           0.0|     4.0|    3.0|   0.0|           0.0|           0.0|         0.0|      0.0|                0.0|    0.0|      0.0|        0.0|    0.0|   0.0|            0.0|       0.0|         0.0|                   0.0|      0.0|      0.0|     0.0|        0.0|               0.0|    0.0|                   0.0|         0.0|         0.0|               0.0|            0.0|      0.0|        0.0|           0.0|              0.0|                      0.0|             0.0|            0.0|                0.0|          0.0|    0.0|            0.0|           0.0|    0.0|      0.0|      0.0|     0.0|               0.0|               0.0|         0.0|                  0.0|      0.0|     0.0|             0.0|     0.0|            0.0|   0.0|               4.0|       0.0|                   0.0|        0.0|       0.0|        0.0|      0.0|        0.0|    0.0|   0.0|             0.0|         0.0|               0.0|             0.0|                   0.0|             0.0|                 0.0|         0.0|       0.0|     0.0|   0.0|              0.0|   0.0|       0.0|        0.0|        0.0|           0.0|  0.0|    0.0| 0.0|   0.0|            0.0|         0.0|        0.0|          0.0|    0.0|  0.0|  0.0|     0.0|            0.0| 0.0|     0.0|       0.0|             0.0|           0.0|            0.0|                            0.0|               0.0|          0.0|             0.0|        0.0|          0.0|                    0.0|          0.0|       0.0|             0.0|              0.0|          0.0|         0.0|                 0.0|        0.0|      0.0|    0.0|     0.0|    0.0|              0.0|              0.0|      0.0|                          0.0|    0.0|                      0.0|            0.0|          0.0|   0.0|       0.0|      0.0|            0.0|          0.0|                  0.0|           0.0|                       0.0|      0.0|  0.0|      0.0|    0.0|    0.0|               5.0|         0.0|    0.0|           0.0|                   4.0|                   0.0|    0.0|  0.0|              0.0|           0.0|             0.0|              0.0|   0.0|   0.0|                             0.0|        0.0|    0.0|                    0.0|               0.0|      0.0|           0.0|             0.0|    0.0|          0.0|     0.0|           0.0|            0.0|      0.0|                          0.0|  0.0|     0.0|          0.0|         0.0|           0.0|    0.0|    0.0|     0.0| 0.0|           0.0|      0.0|      0.0|         0.0|    0.0|            0.0|            0.0|           0.0|       0.0|       0.0|            0.0|         0.0|             0.0|               0.0|          0.0|           0.0|    0.0|           0.0|                          0.0|                     0.0|                0.0|          0.0|            0.0|      0.0|     0.0|               0.0|            0.0|   0.0|    0.0|         0.0|          0.0|         0.0|                        0.0|                           0.0|        0.0|             0.0|                  0.0|                   0.0|       0.0|      0.0|    0.0|                  0.0|          0.0|          0.0|            0.0|             0.0|                0.0|           0.0|         0.0|           0.0|          0.0|                   0.0|                     0.0|         0.0|          0.0|             0.0|        0.0|      0.0|      0.0|     0.0|    0.0|  0.0|                   0.0|           0.0|                     0.0|        0.0|                 0.0|       0.0|             0.0|               0.0|          0.0|            0.0|          0.0|             0.0|            0.0|           0.0|              0.0|     0.0|         0.0|         0.0|         0.0|        0.0|       0.0|         0.0| 0.0|     0.0|          0.0|                          0.0|             0.0|       0.0|     0.0|    0.0|  3.0|        0.0|     0.0| 0.0|   0.0|       0.0|         0.0|       0.0|         0.0|        0.0|       0.0|              0.0|                  0.0|                  0.0|                      0.0|       0.0|           0.0|             0.0|                         0.0|                  0.0| 0.0|        0.0|  0.0|        0.0|               0.0|                 0.0|                          0.0|               0.0|        0.0|                    0.0|    0.0|               4.0|    0.0|                0.0|    0.0| 0.0|    0.0|  0.0|       0.0|       0.0|         0.0|     0.0|            0.0|    0.0|            0.0|         0.0|                0.0|                 0.0|            0.0|         0.0|       0.0|        0.0|        0.0|       0.0|        0.0|     0.0|             0.0|               0.0|        0.0|          0.0|      0.0|                0.0|       0.0|         0.0|      0.0| 0.0|          0.0|     0.0|    0.0|        0.0|              0.0|              0.0|              0.0|           0.0|        0.0|         0.0|            0.0|        0.0|   0.0|       0.0|              0.0|        0.0|           0.0|         0.0|       0.0|                  0.0|         0.0|       4.0|                     0.0|           0.0|     0.0|   0.0|     0.0|           0.0|  0.0|    0.0|      4.0|    0.0|         0.0|       0.0|               3.0|            0.0|   0.0|           0.0|         0.0|  0.0|      0.0|                     0.0|                         0.0|   0.0|    0.0| 0.0|         0.0|               0.0|          0.0|         0.0|      0.0|  0.0|          0.0|  0.0|   0.0|       0.0|                         0.0|           0.0|     0.0|             0.0|                0.0|           0.0|            0.0|         0.0|    0.0| 0.0|      0.0|        0.0| 0.0|             0.0|       0.0|  0.0|       0.0|       0.0|                  0.0|          0.0|              0.0|                  0.0|                       0.0|       0.0|                  0.0|          0.0|                   0.0|    0.0|            0.0|          0.0|         0.0|    0.0|                             0.0|                        0.0|               0.0|             0.0|                0.0|         0.0|             0.0| 0.0|                             0.0|           0.0|      0.0|     0.0|             0.0|  0.0| 0.0| 0.0|\n",
      "|-O6FdjrUg2GQ7wE24...|       0.0|        0.0|        0.0|           0.0|        0.0|        0.0|                0.0|   0.0|    0.0|     0.0|            0.0|             0.0|     0.0|                 0.0|           0.0|                   0.0|            0.0|            0.0|     0.0|       0.0|       0.0|                0.0|      0.0|    0.0|    0.0|    0.0|      0.0|        0.0|          0.0|        0.0|        0.0|         0.0|          0.0|                 0.0|         0.0|       0.0|           0.0|                0.0|                  0.0|        0.0|       0.0|         0.0|                  0.0|   0.0|     0.0|        0.0|                  0.0|     0.0|    0.0|          0.0| 0.0|            0.0|   0.0|    0.0|          5.0|            0.0| 0.0|     0.0|         0.0|      0.0|       0.0|    0.0|             0.0|     0.0|         0.0|                    0.0|      0.0|       0.0|  0.0|    0.0|                  0.0|          0.0|    0.0|       0.0|  0.0|       0.0|    0.0|   0.0|       0.0|      0.0|               0.0|      0.0|     0.0|   0.0|    0.0|       0.0|    0.0|              0.0|    0.0|                0.0|    0.0|    0.0|  0.0|      0.0|         0.0|      0.0|           0.0|         0.0|             0.0|                  0.0|      0.0|        0.0|       0.0|               0.0|     0.0|               0.0|               0.0|      0.0|            0.0|                0.0|      0.0|    0.0|     0.0|              0.0|           0.0|         0.0|         0.0|         0.0|          0.0|                  0.0|                0.0|    0.0|          0.0|                 0.0|     0.0|   0.0|     0.0|            0.0|          0.0|         0.0|                  0.0|              0.0|                    0.0|      0.0|         0.0|         0.0|        0.0|              0.0|                         0.0|      0.0|        0.0|               0.0|            0.0|            0.0|              0.0|              0.0|                      0.0|                0.0|     0.0|                       0.0|                         0.0|      0.0|  0.0|     0.0|              0.0|         0.0|                   0.0|            0.0|  0.0|            0.0|0.0|               0.0|        0.0|          0.0|       0.0|          0.0|     5.0|         0.0|  0.0|     0.0|              0.0|                          0.0|           0.0|     0.0|    0.0|   0.0|           0.0|           0.0|         0.0|      0.0|                0.0|    0.0|      0.0|        0.0|    0.0|   0.0|            0.0|       0.0|         0.0|                   0.0|      0.0|      0.0|     0.0|        0.0|               0.0|    0.0|                   0.0|         0.0|         0.0|               0.0|            0.0|      0.0|        0.0|           0.0|              0.0|                      0.0|             0.0|            5.0|                0.0|          0.0|    0.0|            0.0|           0.0|    0.0|      0.0|      0.0|     0.0|               0.0|               0.0|         0.0|                  0.0|      0.0|     0.0|             0.0|     0.0|            0.0|   0.0|               0.0|       0.0|                   0.0|        0.0|       0.0|        0.0|      0.0|        0.0|    0.0|   0.0|             0.0|         0.0|               0.0|             0.0|                   0.0|             0.0|                 0.0|         0.0|       0.0|     0.0|   0.0|              0.0|   0.0|       0.0|        0.0|        0.0|           0.0|  0.0|    0.0| 0.0|   0.0|            0.0|         5.0|        5.0|          0.0|    0.0|  0.0|  0.0|     0.0|            0.0| 0.0|     0.0|       0.0|             0.0|           0.0|            0.0|                            0.0|               0.0|          0.0|             0.0|        0.0|          0.0|                    0.0|          0.0|       0.0|             0.0|              0.0|          0.0|         0.0|                 0.0|        0.0|      0.0|    0.0|     0.0|    0.0|              0.0|              0.0|      0.0|                          0.0|    0.0|                      0.0|            0.0|          0.0|   0.0|       0.0|      0.0|            0.0|          0.0|                  0.0|           0.0|                       0.0|      0.0|  0.0|      0.0|    0.0|    0.0|               0.0|         0.0|    0.0|           0.0|                   0.0|                   0.0|    0.0|  0.0|              0.0|           0.0|             0.0|              0.0|   0.0|   0.0|                             0.0|        0.0|    0.0|                    0.0|               0.0|      0.0|           0.0|             0.0|    0.0|          0.0|     0.0|           0.0|            0.0|      0.0|                          0.0|  0.0|     0.0|          0.0|         0.0|           0.0|    0.0|    0.0|     0.0| 0.0|           0.0|      0.0|      0.0|         0.0|    0.0|            0.0|            0.0|           0.0|       0.0|       0.0|            0.0|         0.0|             0.0|               0.0|          0.0|           0.0|    0.0|           0.0|                          0.0|                     0.0|                0.0|          0.0|            0.0|      0.0|     0.0|               0.0|            0.0|   0.0|    0.0|         0.0|          0.0|         0.0|                        0.0|                           0.0|        5.0|             0.0|                  0.0|                   0.0|       0.0|      0.0|    0.0|                  0.0|          0.0|          0.0|            0.0|             0.0|                0.0|           0.0|         0.0|           0.0|          0.0|                   0.0|                     0.0|         0.0|          0.0|             0.0|        0.0|      0.0|      0.0|     0.0|    0.0|  0.0|                   0.0|           0.0|                     0.0|        0.0|                 0.0|       0.0|             0.0|               0.0|          0.0|            0.0|          0.0|             5.0|            0.0|           0.0|              0.0|     0.0|         0.0|         0.0|         0.0|        0.0|       0.0|         0.0| 0.0|     0.0|          0.0|                          0.0|             0.0|       0.0|     0.0|    0.0|  0.0|        0.0|     0.0| 0.0|   0.0|       0.0|         0.0|       0.0|         0.0|        0.0|       0.0|              0.0|                  0.0|                  0.0|                      0.0|       0.0|           0.0|             0.0|                         0.0|                  0.0| 0.0|        0.0|  0.0|        0.0|               0.0|                 0.0|                          0.0|               0.0|        0.0|                    0.0|    0.0|               0.0|    0.0|                0.0|    0.0| 0.0|    0.0|  0.0|       0.0|       0.0|         0.0|     0.0|            0.0|    0.0|            0.0|         0.0|                0.0|                 0.0|            0.0|         0.0|       0.0|        0.0|        0.0|       0.0|        0.0|     0.0|             0.0|               0.0|        0.0|          0.0|      5.0|                0.0|       0.0|         0.0|      0.0| 0.0|          0.0|     0.0|    0.0|        0.0|              0.0|              0.0|              0.0|           0.0|        0.0|         0.0|            0.0|        0.0|   0.0|       0.0|              0.0|        0.0|           0.0|         0.0|       0.0|                  0.0|         0.0|       0.0|                     0.0|           0.0|     0.0|   0.0|     0.0|           0.0|  0.0|    0.0|      0.0|    0.0|         0.0|       0.0|               0.0|            0.0|   0.0|           0.0|         0.0|  0.0|      0.0|                     0.0|                         0.0|   0.0|    0.0| 0.0|         0.0|               5.0|          0.0|         0.0|      0.0|  0.0|          0.0|  0.0|   0.0|       0.0|                         0.0|           0.0|     0.0|             0.0|                0.0|           0.0|            0.0|         0.0|    0.0| 0.0|      0.0|        0.0| 0.0|             0.0|       0.0|  0.0|       0.0|       0.0|                  0.0|          0.0|              0.0|                  0.0|                       0.0|       0.0|                  0.0|          0.0|                   0.0|    0.0|            0.0|          0.0|         0.0|    0.0|                             0.0|                        0.0|               5.0|             0.0|                0.0|         0.0|             0.0| 0.0|                             0.0|           0.0|      0.0|     0.0|             0.0|  0.0| 0.0| 0.0|\n",
      "|-YmnlTiXUoyO1gbuC...|       0.0|        0.0|        0.0|           0.0|        0.0|        0.0|                0.0|   0.0|    0.0|     0.0|            0.0|             0.0|     0.0|                 0.0|           0.0|                   4.0|            0.0|            0.0|     0.0|       0.0|       0.0|                0.0|      0.0|    0.0|    0.0|    0.0|      0.0|        0.0|          0.0|        0.0|        0.0|         0.0|          0.0|                 4.0|         0.0|       0.0|           0.0|                0.0|                  0.0|        0.0|       0.0|         0.0|                  0.0|   0.0|     0.0|        0.0|                  0.0|     0.0|    0.0|          0.0| 4.0|            0.0|   0.0|    0.0|          0.0|            0.0| 0.0|     0.0|         0.0|      0.0|       0.0|    0.0|             0.0|     0.0|         0.0|                    0.0|      0.0|       0.0|  0.0|    0.0|                  0.0|          0.0|    0.0|       0.0|  0.0|       0.0|    0.0|   0.0|       0.0|      0.0|               0.0|      0.0|     0.0|   0.0|    0.0|       0.0|    0.0|              0.0|    0.0|                0.0|    0.0|    0.0|  0.0|      0.0|         0.0|      0.0|           4.0|         0.0|             0.0|                  0.0|      0.0|        0.0|       0.0|               0.0|     0.0|               0.0|               0.0|      0.0|            0.0|                0.0|      0.0|    0.0|     0.0|              0.0|           0.0|         0.0|         0.0|         0.0|          0.0|                  0.0|                0.0|    0.0|          0.0|                 0.0|     0.0|   4.0|     0.0|            0.0|          0.0|         0.0|                  0.0|              0.0|                    0.0|      0.0|         0.0|         0.0|        0.0|              0.0|                         0.0|      0.0|        0.0|               0.0|            0.0|            0.0|              0.0|              0.0|                      0.0|                0.0|     0.0|                       0.0|                         0.0|      0.0|  0.0|     0.0|              0.0|         0.0|                   0.0|            0.0|  0.0|            0.0|0.0|               0.0|        0.0|          0.0|       0.0|          0.0|     0.0|         0.0|  0.0|     0.0|              0.0|                          0.0|           0.0|     0.0|    0.0|   0.0|           0.0|           0.0|         0.0|      0.0|                0.0|    0.0|      0.0|        0.0|    0.0|   0.0|            0.0|       0.0|         0.0|                   0.0|      0.0|      0.0|     0.0|        0.0|               0.0|    0.0|                   0.0|         0.0|         0.0|               0.0|            0.0|      0.0|        0.0|           0.0|              0.0|        4.333333333333333|             0.0|            0.0|                0.0|          0.0|    0.0|            0.0|           0.0|    0.0|      0.0|      0.0|     0.0|               0.0|               0.0|         0.0|                  0.0|      0.0|     0.0|             0.0|     0.0|            0.0|   0.0|               0.0|       0.0|                   0.0|        0.0|       0.0|        0.0|      0.0|        0.0|    0.0|   0.0|             0.0|         0.0|               0.0|             0.0|                   0.0|             0.0|                 0.0|         0.0|       0.0|     0.0|   0.0|              0.0|   0.0|       0.0|        0.0|        0.0|           0.0|  0.0|    0.0| 0.0|   0.0|            0.0|         0.0|        0.0|          0.0|    0.0|  0.0|  0.0|     0.0|            0.0| 0.0|     0.0|       0.0|             0.0|           0.0|            0.0|                            0.0|               0.0|          0.0|             0.0|        0.0|          0.0|                    0.0|          0.0|       0.0|             0.0|              0.0|          0.0|         0.0|                 0.0|        0.0|      0.0|    0.0|     0.0|    0.0|4.333333333333333|4.333333333333333|      0.0|                          0.0|    0.0|                      0.0|            0.0|          0.0|   0.0|       0.0|      0.0|            0.0|          0.0|                  0.0|           0.0|                       0.0|      0.0|  0.0|      0.0|    0.0|    0.0|               0.0|         0.0|    0.0|           0.0|                   0.0|                   0.0|    0.0|  0.0|              0.0|           0.0|             0.0|              0.0|   0.0|   0.0|                             0.0|        0.0|    0.0|                    0.0|               0.0|      0.0|           0.0|             0.0|    0.0|          0.0|     0.0|           0.0|            0.0|      0.0|                          0.0|  0.0|     0.0|          0.0|         0.0|           0.0|    4.0|    0.0|     0.0| 0.0|           0.0|      0.0|      0.0|         0.0|    0.0|            0.0|            0.0|           0.0|       0.0|       0.0|            0.0|         0.0|             0.0|               0.0|          0.0|           0.0|    0.0|           0.0|                          0.0|                     0.0|                0.0|          0.0|            0.0|      0.0|     0.0|               0.0|            0.0|   0.0|    0.0|         0.0|          0.0|         0.0|                        0.0|                           0.0|        0.0|             0.0|                  0.0|                   0.0|       0.0|      4.0|    0.0|                  0.0|          0.0|          0.0|            0.0|             0.0|                0.0|           0.0|         0.0|           0.0|          0.0|                   0.0|                     0.0|         0.0|          0.0|             0.0|        0.0|      0.0|      0.0|     0.0|    0.0|  0.0|                   0.0|           0.0|                     0.0|        0.0|                 0.0|       0.0|             0.0|               0.0|          0.0|            0.0|          0.0|             0.0|            0.0|           0.0|              0.0|     0.0|         0.0|         0.0|         0.0|        0.0|       0.0|         0.0| 0.0|     0.0|          0.0|                          0.0|             0.0|       0.0|     0.0|    0.0|  0.0|        0.0|     0.0| 0.0|   0.0|       0.0|         0.0|       0.0|         0.0|        0.0|       0.0|              0.0|                  0.0|                  0.0|                      0.0|       0.0|           0.0|             0.0|                         0.0|                  0.0| 0.0|        0.0|  0.0|        0.0|               0.0|                 0.0|                          0.0|               0.0|        0.0|                    0.0|    0.0|               4.0|    0.0|                0.0|    0.0| 0.0|    0.0|  0.0|       0.0|       0.0|         0.0|     0.0|            0.0|    0.0|            0.0|         0.0|                0.0|                 0.0|            0.0|         0.0|       0.0|        0.0|        0.0|       0.0|        0.0|     0.0|             0.0|               0.0|        0.0|          0.0|      0.0|                0.0|       0.0|         0.0|      0.0| 0.0|          0.0|     0.0|    0.0|        0.0|              0.0|              0.0|              0.0|           0.0|        0.0|         0.0|            0.0|        0.0|   0.0|       0.0|              0.0|        0.0|           0.0|         0.0|       0.0|                  0.0|         0.0|       0.0|                     0.0|           0.0|     0.0|   0.0|     0.0|           0.0|  0.0|    0.0|      0.0|    0.0|         0.0|       0.0|               0.0|            0.0|   0.0|           0.0|         0.0|  0.0|      0.0|                     0.0|                         0.0|   0.0|    0.0| 0.0|         0.0|               0.0|          0.0|         0.0|      0.0|  0.0|          0.0|  0.0|   0.0|       0.0|                         0.0|           0.0|     0.0|             0.0|                0.0|           0.0|            0.0|         0.0|    0.0| 0.0|      0.0|        0.0| 0.0|             0.0|       0.0|  0.0|       0.0|       0.0|                  0.0|          0.0|              0.0|                  0.0|                       0.0|       0.0|                  0.0|          0.0|                   0.0|    0.0|            0.0|          0.0|         0.0|    0.0|                             0.0|                        0.0|               0.0|             0.0|                0.0|         0.0|             0.0| 0.0|                             0.0|           0.0|      0.0|     0.0|             0.0|  0.0| 0.0| 0.0|\n",
      "|-ZofWirnfYXaa3iCH...|       0.0|        0.0|        0.0|           0.0|        0.0|        0.0|                0.0|   0.0|    0.0|     0.0|            0.0|             0.0|     0.0|                 0.0|           0.0|                   0.0|            0.0|            0.0|     0.0|       0.0|       0.0|                0.0|      0.0|    0.0|    0.0|    0.0|      0.0|        0.0|          0.0|        0.0|        0.0|         0.0|          0.0|                 4.0|         0.0|       0.0|           0.0|                0.0|                  0.0|        0.0|       0.0|         0.0|                  0.0|   0.0|     0.0|        0.0|                  0.0|     0.0|    0.0|          0.0| 0.0|            0.0|   0.0|    0.0|          0.0|            0.0| 4.0|     0.0|         0.0|      0.0|       0.0|    0.0|             0.0|     0.0|         0.0|                    0.0|      0.0|       0.0|  0.0|    0.0|                  0.0|          0.0|    0.0|       0.0|  0.0|       0.0|    0.0|   0.0|       0.0|      0.0|               0.0|      0.0|     0.0|   0.0|    0.0|       0.0|    0.0|              0.0|    0.0|                0.0|    0.0|    0.0|  0.0|      0.0|         0.0|      0.0|           0.0|         0.0|             0.0|                  0.0|      0.0|        0.0|       0.0|               0.0|     0.0|               0.0|               0.0|      0.0|            0.0|                0.0|      0.0|    0.0|     0.0|              0.0|           0.0|         0.0|         0.0|         0.0|          0.0|                  0.0|                0.0|    0.0|          0.0|                 0.0|     0.0|   0.0|     0.0|            0.0|          0.0|         0.0|                  0.0|              0.0|                    0.0|      0.0|         0.0|         0.0|        0.0|              0.0|                         0.0|      0.0|        0.0|               0.0|            0.0|            0.0|              0.0|              0.0|                      0.0|                0.0|     0.0|                       0.0|                         0.0|      0.0|  0.0|     0.0|              0.0|         0.0|                   0.0|            0.0|  0.0|            0.0|0.0|               0.0|        0.0|          0.0|       0.0|          0.0|     0.0|         0.0|  0.0|     0.0|              0.0|                          0.0|           0.0|     0.0|    0.0|   0.0|           0.0|           0.0|         0.0|      0.0|                0.0|    0.0|      0.0|        0.0|    0.0|   0.0|            0.0|       0.0|         0.0|                   0.0|      0.0|      0.0|     0.0|        0.0|               0.0|    0.0|                   0.0|         0.0|         0.0|               0.0|            0.0|      0.0|        0.0|           0.0|              0.0|                      0.0|             0.0|            0.0|                0.0|          0.0|    0.0|            0.0|           0.0|    0.0|      0.0|      0.0|     0.0|               0.0|               0.0|         0.0|                  0.0|      0.0|     0.0|             0.0|     0.0|            0.0|   0.0|               4.0|       0.0|                   0.0|        0.0|       0.0|        0.0|      0.0|        0.0|    0.0|   0.0|             0.0|         0.0|               0.0|             0.0|                   0.0|             0.0|                 0.0|         0.0|       0.0|     0.0|   0.0|              0.0|   0.0|       0.0|        0.0|        0.0|           0.0|  0.0|    0.0| 0.0|   0.0|            0.0|         0.0|        0.0|          0.0|    0.0|  0.0|  0.0|     0.0|            0.0| 0.0|     0.0|       0.0|             0.0|           0.0|            0.0|                            0.0|               0.0|          0.0|             0.0|        0.0|          0.0|                    0.0|          0.0|       0.0|             0.0|              0.0|          0.0|         0.0|                 0.0|        0.0|      0.0|    0.0|     0.0|    0.0|              0.0|              0.0|      0.0|                          0.0|    0.0|                      0.0|            0.0|          0.0|   0.0|       0.0|      0.0|            0.0|          0.0|                  0.0|           0.0|                       0.0|      0.0|  0.0|      0.0|    4.0|    0.0|               0.0|         0.0|    0.0|           0.0|                   0.0|                   0.0|    0.0|  0.0|              0.0|           0.0|             0.0|              0.0|   0.0|   0.0|                             0.0|        0.0|    0.0|                    0.0|               0.0|      0.0|           0.0|             0.0|    0.0|          0.0|     0.0|           0.0|            0.0|      0.0|                          0.0|  0.0|     0.0|          0.0|         4.0|           0.0|    0.0|    0.0|     0.0| 0.0|           0.0|      0.0|      0.0|         0.0|    0.0|            0.0|            0.0|           0.0|       0.0|       0.0|            0.0|         0.0|             0.0|               0.0|          0.0|           0.0|    0.0|           0.0|                          0.0|                     0.0|                0.0|          0.0|            0.0|      0.0|     0.0|               0.0|            0.0|   0.0|    4.0|         0.0|          0.0|         0.0|                        0.0|                           0.0|        0.0|             0.0|                  0.0|                   0.0|       0.0|      0.0|    0.0|                  0.0|          0.0|          0.0|            0.0|             0.0|                0.0|           0.0|         0.0|           0.0|          0.0|                   0.0|                     0.0|         0.0|          0.0|             0.0|        0.0|      0.0|      0.0|     0.0|    0.0|  0.0|                   0.0|           0.0|                     0.0|        0.0|                 0.0|       0.0|             0.0|               0.0|          0.0|            0.0|          0.0|             0.0|            0.0|           0.0|              0.0|     0.0|         0.0|         0.0|         0.0|        0.0|       0.0|         0.0| 0.0|     0.0|          0.0|                          0.0|             0.0|       0.0|     0.0|    0.0|  4.0|        0.0|     0.0| 0.0|   0.0|       0.0|         0.0|       0.0|         0.0|        0.0|       0.0|              0.0|                  0.0|                  0.0|                      0.0|       0.0|           0.0|             0.0|                         0.0|                  0.0| 0.0|        0.0|  0.0|        0.0|               0.0|                 0.0|                          0.0|               0.0|        0.0|                    0.0|    0.0|               4.0|    0.0|                0.0|    0.0| 0.0|    0.0|  0.0|       0.0|       0.0|         0.0|     0.0|            0.0|    0.0|            0.0|         0.0|                0.0|                 0.0|            0.0|         0.0|       0.0|        0.0|        0.0|       0.0|        0.0|     0.0|             0.0|               0.0|        0.0|          0.0|      0.0|                0.0|       0.0|         0.0|      0.0| 0.0|          0.0|     0.0|    0.0|        0.0|              0.0|              0.0|              0.0|           0.0|        0.0|         0.0|            0.0|        0.0|   0.0|       0.0|              0.0|        0.0|           0.0|         0.0|       0.0|                  0.0|         0.0|       0.0|                     0.0|           0.0|     0.0|   0.0|     0.0|           0.0|  0.0|    0.0|      0.0|    0.0|         0.0|       0.0|               0.0|            0.0|   0.0|           0.0|         0.0|  0.0|      0.0|                     0.0|                         0.0|   0.0|    0.0| 0.0|         0.0|               0.0|          0.0|         0.0|      0.0|  0.0|          0.0|  0.0|   0.0|       0.0|                         0.0|           0.0|     0.0|             0.0|                0.0|           0.0|            0.0|         0.0|    0.0| 0.0|      0.0|        0.0| 0.0|             0.0|       0.0|  0.0|       0.0|       0.0|                  0.0|          0.0|              0.0|                  0.0|                       0.0|       0.0|                  0.0|          0.0|                   0.0|    0.0|            0.0|          0.0|         0.0|    0.0|                             0.0|                        0.0|               0.0|             0.0|                0.0|         0.0|             0.0| 0.0|                             0.0|           4.0|      0.0|     0.0|             0.0|  0.0| 0.0| 0.0|\n",
      "|-c12zkgP2UdpmO-cu...|       0.0|        0.0|        0.0|           0.0|        0.0|        0.0|                0.0|   0.0|    0.0|     0.0|            0.0|             0.0|     0.0|                 0.0|           0.0|                   0.0|            0.0|            0.0|     0.0|       0.0|       0.0|                0.0|      0.0|    0.0|    0.0|    0.0|      0.0|        0.0|          0.0|        0.0|        0.0|         0.0|          0.0|                 0.0|         0.0|       0.0|           0.0|                0.0|                  0.0|        0.0|       0.0|         0.0|                  0.0|   0.0|     0.0|        0.0|                  0.0|     0.0|    0.0|          0.0| 0.0|            0.0|   0.0|    0.0|          0.0|            0.0| 0.0|     0.0|         0.0|      0.0|       0.0|    0.0|             0.0|     0.0|         0.0|                    0.0|      0.0|       0.0|  0.0|    0.0|                  0.0|          0.0|    0.0|       0.0|  0.0|       0.0|    0.0|   0.0|       0.0|      0.0|               0.0|      0.0|     0.0|   0.0|    0.0|       0.0|    0.0|              0.0|    0.0|                0.0|    0.0|    0.0|  0.0|      0.0|         0.0|      0.0|           0.0|         0.0|             0.0|                  0.0|      0.0|        0.0|       0.0|               0.0|     0.0|               0.0|               0.0|      0.0|            0.0|                0.0|      0.0|    0.0|     0.0|              0.0|           0.0|         0.0|         0.0|         0.0|          0.0|                  0.0|                0.0|    0.0|          0.0|                 0.0|     0.0|   0.0|     0.0|            0.0|          0.0|         0.0|                  0.0|              0.0|                    0.0|      0.0|         0.0|         0.0|        0.0|              0.0|                         0.0|      0.0|        0.0|               0.0|            0.0|            0.0|              0.0|              0.0|                      0.0|                0.0|     0.0|                       0.0|                         0.0|      0.0|  0.0|     0.0|              0.0|         0.0|                   0.0|            0.0|  0.0|            0.0|0.0|               0.0|        0.0|          0.0|       0.0|          0.0|     0.0|         0.0|  0.0|     0.0|              0.0|                          0.0|           0.0|     0.0|    0.0|   0.0|           0.0|           0.0|         0.0|      0.0|                0.0|    0.0|      0.0|        0.0|    0.0|   0.0|            0.0|       0.0|         0.0|                   0.0|      0.0|      0.0|     0.0|        0.0|               0.0|    0.0|                   0.0|         0.0|         0.0|               0.0|            0.0|      0.0|        0.0|           0.0|              0.0|                      0.0|             0.0|            0.0|                0.0|          0.0|    0.0|            0.0|           0.0|    0.0|      0.0|      0.0|     0.0|               0.0|               0.0|         0.0|                  0.0|      0.0|     0.0|             0.0|     0.0|            0.0|   0.0|               5.0|       0.0|                   0.0|        0.0|       0.0|        0.0|      0.0|        0.0|    0.0|   0.0|             0.0|         0.0|               0.0|             0.0|                   0.0|             0.0|                 0.0|         0.0|       0.0|     0.0|   0.0|              0.0|   0.0|       0.0|        0.0|        0.0|           0.0|  0.0|    0.0| 0.0|   0.0|            0.0|         0.0|        0.0|          0.0|    0.0|  0.0|  0.0|     0.0|            0.0| 0.0|     0.0|       0.0|             0.0|           0.0|            0.0|                            0.0|               0.0|          0.0|             0.0|        0.0|          0.0|                    0.0|          0.0|       0.0|             0.0|              0.0|          0.0|         0.0|                 0.0|        0.0|      0.0|    0.0|     0.0|    0.0|              0.0|              0.0|      0.0|                          0.0|    0.0|                      0.0|            0.0|          0.0|   0.0|       0.0|      0.0|            0.0|          0.0|                  0.0|           0.0|                       0.0|      0.0|  0.0|      0.0|    5.0|    0.0|               5.0|         0.0|    0.0|           0.0|                   0.0|                   0.0|    0.0|  0.0|              0.0|           0.0|             0.0|              0.0|   0.0|   0.0|                             0.0|        0.0|    0.0|                    0.0|               0.0|      0.0|           0.0|             0.0|    0.0|          0.0|     0.0|           0.0|            0.0|      0.0|                          0.0|  0.0|     0.0|          0.0|         0.0|           0.0|    0.0|    0.0|     0.0| 0.0|           0.0|      0.0|      0.0|         0.0|    0.0|            0.0|            0.0|           0.0|       0.0|       5.0|            0.0|         0.0|             0.0|               0.0|          0.0|           0.0|    0.0|           0.0|                          0.0|                     0.0|                0.0|          0.0|            0.0|      0.0|     0.0|               0.0|            0.0|   0.0|    0.0|         0.0|          0.0|         0.0|                        0.0|                           0.0|        0.0|             0.0|                  0.0|                   0.0|       0.0|      0.0|    0.0|                  0.0|          0.0|          0.0|            0.0|             0.0|                0.0|           0.0|         0.0|           0.0|          0.0|                   0.0|                     0.0|         0.0|          0.0|             0.0|        0.0|      0.0|      0.0|     0.0|    0.0|  0.0|                   0.0|           0.0|                     0.0|        0.0|                 0.0|       0.0|             0.0|               0.0|          0.0|            0.0|          0.0|             0.0|            0.0|           0.0|              0.0|     0.0|         0.0|         0.0|         0.0|        0.0|       0.0|         0.0| 0.0|     0.0|          0.0|                          0.0|             0.0|       0.0|     0.0|    0.0|  0.0|        0.0|     0.0| 0.0|   0.0|       0.0|         0.0|       0.0|         0.0|        0.0|       0.0|              0.0|                  0.0|                  0.0|                      0.0|       0.0|           0.0|             0.0|                         0.0|                  0.0| 0.0|        0.0|  5.0|        0.0|               0.0|                 0.0|                          0.0|               0.0|        0.0|                    0.0|    0.0|               5.0|    0.0|                0.0|    0.0| 0.0|    0.0|  0.0|       0.0|       0.0|         0.0|     0.0|            0.0|    0.0|            0.0|         0.0|                0.0|                 0.0|            0.0|         0.0|       0.0|        0.0|        0.0|       0.0|        0.0|     0.0|             0.0|               0.0|        0.0|          0.0|      0.0|                0.0|       0.0|         0.0|      0.0| 0.0|          0.0|     0.0|    0.0|        0.0|              0.0|              5.0|              0.0|           0.0|        0.0|         0.0|            0.0|        0.0|   0.0|       0.0|              0.0|        0.0|           0.0|         0.0|       0.0|                  0.0|         0.0|       5.0|                     0.0|           0.0|     0.0|   0.0|     0.0|           0.0|  0.0|    0.0|      0.0|    0.0|         0.0|       5.0|               5.0|            0.0|   0.0|           0.0|         0.0|  0.0|      0.0|                     0.0|                         0.0|   0.0|    0.0| 0.0|         0.0|               0.0|          0.0|         0.0|      0.0|  0.0|          0.0|  0.0|   0.0|       0.0|                         0.0|           0.0|     0.0|             0.0|                0.0|           0.0|            0.0|         0.0|    0.0| 0.0|      0.0|        0.0| 0.0|             0.0|       0.0|  0.0|       0.0|       0.0|                  0.0|          0.0|              0.0|                  0.0|                       0.0|       0.0|                  0.0|          0.0|                   0.0|    0.0|            0.0|          0.0|         0.0|    0.0|                             0.0|                        0.0|               0.0|             0.0|                0.0|         0.0|             0.0| 0.0|                             0.0|           0.0|      0.0|     0.0|             0.0|  0.0| 0.0| 0.0|\n",
      "|-eJct_tyBWSAt_hWE...|       0.0|        0.0|        0.0|           0.0|        0.0|        0.0|                0.0|   0.0|    0.0|     0.0|            0.0|             0.0|     0.0|                 0.0|           0.0|                   0.0|            0.0|            0.0|     0.0|       0.0|       0.0|                0.0|      0.0|    0.0|    0.0|    0.0|      0.0|        0.0|          0.0|        0.0|        0.0|         0.0|          0.0|                 0.0|         0.0|       0.0|           0.0|                0.0|                  0.0|        0.0|       0.0|         0.0|                  0.0|   0.0|     1.0|        0.0|                  0.0|     0.0|    0.0|          0.0| 0.0|            0.0|   0.0|    0.0|          1.0|            0.0| 0.0|     0.0|         0.0|      0.0|       0.0|    0.0|             0.0|     0.0|         0.0|                    0.0|      0.0|       0.0|  0.0|    0.0|                  0.0|          0.0|    0.0|       0.0|  0.0|       0.0|    0.0|   0.0|       0.0|      0.0|               5.0|      0.0|     0.0|   0.0|    0.0|       0.0|    0.0|              0.0|    0.0|                0.0|    0.0|    0.0|  0.0|      0.0|         0.0|      0.0|           0.0|         0.0|             0.0|                  0.0|      0.0|        0.0|       0.0|               0.0|     0.0|               0.0|               0.0|      0.0|            0.0|                0.0|      0.0|    0.0|     0.0|              0.0|           0.0|         0.0|         0.0|         0.0|          0.0|                  0.0|                0.0|    4.0|          0.0|                 0.0|     0.0|   0.0|     0.0|            0.0|          0.0|         5.0|                  0.0|              0.0|                    0.0|      0.0|         0.0|         0.0|        0.0|              0.0|                         0.0|      0.0|        0.0|               0.0|            0.0|            0.0|              0.0|              0.0|                      0.0|                0.0|     0.0|                       0.0|                         0.0|      0.0|  0.0|     0.0|              0.0|         0.0|                   0.0|            0.0|  0.0|            0.0|0.0|               0.0|        0.0|          0.0|       0.0|          0.0|     0.0|         0.0|  0.0|     0.0|              0.0|                          0.0|           0.0|     0.0|    0.0|   0.0|           0.0|           0.0|         0.0|      0.0|                0.0|    0.0|      0.0|        0.0|    0.0|   0.0|            0.0|       0.0|         0.0|                   0.0|      0.0|      0.0|     0.0|        0.0|               0.0|    0.0|                   0.0|         0.0|         0.0|               0.0|            0.0|      0.0|        0.0|           0.0|              0.0|                      0.0|             0.0|            0.0|                0.0|          0.0|    0.0|            0.0|           0.0|    0.0|      0.0|      0.0|     0.0|               0.0|               0.0|         0.0|                  0.0|      0.0|     0.0|             0.0|     0.0|            0.0|   0.0|               3.0|       0.0|                   0.0|        0.0|       0.0|        0.0|      0.0|        0.0|    0.0|   0.0|             0.0|         0.0|               0.0|             0.0|                   0.0|             0.0|                 0.0|         0.0|       0.0|     0.0|   0.0|              0.0|   0.0|       0.0|        0.0|        0.0|           0.0|  0.0|    0.0| 0.0|   0.0|            0.0|         0.0|        0.0|          0.0|    0.0|  0.0|  5.0|     0.0|            0.0| 0.0|     0.0|       0.0|             0.0|           0.0|            0.0|                            0.0|               0.0|          0.0|             0.0|        0.0|          0.0|                    0.0|          0.0|       0.0|             0.0|              0.0|          0.0|         0.0|                 0.0|        0.0|      0.0|    0.0|     0.0|    0.0|              0.0|              0.0|      0.0|                          0.0|    0.0|                      0.0|            0.0|          0.0|   0.0|       0.0|      0.0|            0.0|          0.0|                  0.0|           0.0|                       0.0|      0.0|  0.0|      0.0|    0.0|    0.0|               3.5|         0.0|    0.0|           0.0|                   0.0|                   0.0|    0.0|  0.0|              0.0|           0.0|             0.0|              0.0|   4.0|   0.0|                             0.0|        0.0|    0.0|                    0.0|               0.0|      0.0|           0.0|             0.0|    0.0|          0.0|     0.0|           0.0|            0.0|      0.0|                          0.0|  0.0|     0.0|          0.0|         0.0|           0.0|    0.0|    0.0|     0.0| 0.0|           0.0|      0.0|      0.0|         0.0|    0.0|            0.0|            0.0|           0.0|       0.0|       0.0|            0.0|         0.0|             0.0|               0.0|          5.0|           0.0|    0.0|           5.0|                          0.0|                     0.0|                0.0|          0.0|            0.0|      0.0|     0.0|               0.0|            0.0|   0.0|    0.0|         0.0|          0.0|         0.0|                        0.0|                           0.0|        1.0|             0.0|                  0.0|                   0.0|       0.0|      0.0|    0.0|                  0.0|          0.0|          0.0|            0.0|             0.0|                0.0|           0.0|         0.0|           0.0|          0.0|                   0.0|                     0.0|         0.0|          0.0|             0.0|        0.0|      0.0|      0.0|     0.0|    0.0|  0.0|                   0.0|           0.0|                     0.0|        0.0|                 0.0|       0.0|             0.0|               0.0|          0.0|            0.0|          0.0|             0.0|            0.0|           0.0|              0.0|     0.0|         0.0|         0.0|         0.0|        0.0|       0.0|         0.0| 0.0|     0.0|          0.0|                          0.0|             0.0|       0.0|     0.0|    0.0|  0.0|        0.0|     0.0| 0.0|   0.0|       0.0|         0.0|       0.0|         0.0|        0.0|       0.0|              0.0|                  0.0|                  0.0|                      0.0|       0.0|           0.0|             0.0|                         0.0|                  0.0| 0.0|        0.0|  0.0|        0.0|               0.0|                 0.0|                          0.0|               0.0|        0.0|                    0.0|    0.0|               4.0|    0.0|                0.0|    0.0| 0.0|    0.0|  5.0|       0.0|       0.0|         0.0|     0.0|            0.0|    0.0|            0.0|         0.0|                0.0|                 0.0|            0.0|         0.0|       0.0|        0.0|        0.0|       0.0|        0.0|     0.0|             0.0|               0.0|        0.0|          0.0|      0.0|                0.0|       0.0|         0.0|      0.0| 0.0|          0.0|     0.0|    0.0|        0.0|              0.0|              0.0|              0.0|           0.0|        0.0|         0.0|            0.0|        0.0|   0.0|       0.0|              0.0|        0.0|           0.0|         0.0|       0.0|                  0.0|         0.0|       3.0|                     0.0|           0.0|     0.0|   0.0|     0.0|           0.0|  0.0|    0.0|      0.0|    0.0|         0.0|       0.0|               0.0|            0.0|   0.0|           0.0|         0.0|  0.0|      0.0|                     0.0|                         0.0|   0.0|    0.0| 0.0|         0.0|               0.0|          0.0|         0.0|      0.0|  0.0|          0.0|  0.0|   0.0|       0.0|                         0.0|           0.0|     0.0|             0.0|                0.0|           0.0|            0.0|         0.0|    0.0| 0.0|      0.0|        0.0| 0.0|             0.0|       0.0|  0.0|       5.0|       0.0|                  0.0|          0.0|              0.0|                  0.0|                       0.0|       0.0|                  0.0|          0.0|                   0.0|    0.0|            0.0|          0.0|         0.0|    0.0|                             0.0|                        0.0|               0.0|             0.0|                0.0|         0.0|             0.0| 0.0|                             0.0|           0.0|      0.0|     0.0|             0.0|  0.0| 0.0| 0.0|\n",
      "|-ud2GthMinJlYBn5E...|       0.0|        0.0|        0.0|           0.0|        0.0|        0.0|                0.0|   0.0|    0.0|     0.0|            0.0|             0.0|     0.0|                 0.0|           0.0|                   0.0|            0.0|            0.0|     0.0|       0.0|       0.0|                0.0|      0.0|    0.0|    0.0|    0.0|      0.0|        0.0|          0.0|        0.0|        0.0|         0.0|          0.0|                 0.0|         0.0|       0.0|           0.0|                0.0|                  0.0|        0.0|       0.0|         0.0|                  0.0|   0.0|     0.0|        0.0|                  0.0|     0.0|    0.0|          0.0| 0.0|            0.0|   0.0|    0.0|          0.0|            0.0| 0.0|     0.0|         0.0|      0.0|       0.0|    0.0|             0.0|     0.0|         0.0|                    0.0|      0.0|       0.0|  0.0|    0.0|                  0.0|          0.0|    0.0|       0.0|  0.0|       0.0|    0.0|   0.0|       0.0|      0.0|               0.0|      0.0|     0.0|   0.0|    0.0|       0.0|    0.0|              0.0|    0.0|                0.0|    0.0|    0.0|  0.0|      0.0|         0.0|      0.0|           0.0|         0.0|             0.0|                  0.0|      0.0|        0.0|       0.0|               0.0|     0.0|               0.0|               0.0|      0.0|            0.0|                0.0|      0.0|    0.0|     0.0|              0.0|           0.0|         0.0|         0.0|         0.0|          0.0|                  0.0|                0.0|    0.0|          0.0|                 0.0|     0.0|   0.0|     0.0|            0.0|          0.0|         0.0|                  0.0|              0.0|                    0.0|      0.0|         0.0|         0.0|        0.0|              0.0|                         0.0|      0.0|        0.0|               0.0|            0.0|            0.0|              0.0|              0.0|                      0.0|                0.0|     0.0|                       0.0|                         0.0|      0.0|  0.0|     0.0|              0.0|         0.0|                   0.0|            0.0|  0.0|            0.0|0.0|               0.0|        0.0|          0.0|       0.0|          0.0|     0.0|         0.0|  0.0|     0.0|              0.0|                          0.0|           0.0|     0.0|    0.0|   0.0|           0.0|           0.0|         0.0|      0.0|                0.0|    0.0|      0.0|        0.0|    0.0|   0.0|            0.0|       0.0|         0.0|                   0.0|      0.0|      0.0|     0.0|        0.0|               0.0|    0.0|                   0.0|         0.0|         0.0|               0.0|            0.0|      0.0|        0.0|           0.0|              0.0|                      0.0|             0.0|            0.0|                0.0|          0.0|    0.0|            0.0|           0.0|    0.0|      0.0|      0.0|     0.0|               0.0|               0.0|         0.0|                  0.0|      0.0|     0.0|             0.0|     5.0|            5.0|   0.0|               1.0|       0.0|                   0.0|        0.0|       0.0|        0.0|      0.0|        0.0|    0.0|   0.0|             0.0|         0.0|               0.0|             0.0|                   0.0|             0.0|                 0.0|         0.0|       0.0|     0.0|   0.0|              0.0|   0.0|       0.0|        0.0|        0.0|           0.0|  0.0|    0.0| 0.0|   0.0|            0.0|         0.0|        0.0|          0.0|    0.0|  0.0|  0.0|     0.0|            0.0| 0.0|     0.0|       0.0|             0.0|           0.0|            0.0|                            0.0|               0.0|          0.0|             0.0|        0.0|          0.0|                    0.0|          0.0|       0.0|             0.0|              0.0|          0.0|         0.0|                 0.0|        0.0|      0.0|    0.0|     0.0|    0.0|              0.0|              0.0|      0.0|                          0.0|    0.0|                      0.0|            0.0|          0.0|   0.0|       0.0|      0.0|            0.0|          0.0|                  0.0|           0.0|                       0.0|      0.0|  0.0|      0.0|    0.0|    0.0|               0.0|         0.0|    0.0|           0.0|                   0.0|                   0.0|    0.0|  0.0|              0.0|           0.0|             0.0|              0.0|   0.0|   0.0|                             0.0|        0.0|    0.0|                    0.0|               0.0|      0.0|           0.0|             0.0|    0.0|          0.0|     0.0|           0.0|            0.0|      0.0|                          0.0|  0.0|     0.0|          0.0|         0.0|           0.0|    0.0|    0.0|     0.0| 0.0|           0.0|      0.0|      0.0|         0.0|    0.0|            0.0|            0.0|           0.0|       0.0|       0.0|            0.0|         0.0|             0.0|               0.0|          0.0|           0.0|    0.0|           0.0|                          0.0|                     0.0|                0.0|          0.0|            0.0|      0.0|     0.0|               0.0|            0.0|   0.0|    0.0|         0.0|          0.0|         0.0|                        0.0|                           0.0|        0.0|             0.0|                  0.0|                   0.0|       0.0|      0.0|    0.0|                  0.0|          0.0|          0.0|            0.0|             0.0|                0.0|           0.0|         0.0|           0.0|          0.0|                   0.0|                     0.0|         0.0|          0.0|             0.0|        0.0|      0.0|      0.0|     0.0|    0.0|  0.0|                   0.0|           0.0|                     0.0|        0.0|                 0.0|       0.0|             0.0|               0.0|          0.0|            0.0|          0.0|             0.0|            0.0|           0.0|              0.0|     0.0|         0.0|         0.0|         0.0|        0.0|       0.0|         0.0| 0.0|     0.0|          0.0|                          0.0|             0.0|       0.0|     0.0|    0.0|  0.0|        0.0|     0.0| 0.0|   0.0|       0.0|         0.0|       0.0|         0.0|        0.0|       0.0|              0.0|                  0.0|                  0.0|                      0.0|       0.0|           0.0|             0.0|                         0.0|                  0.0| 0.0|        0.0|  0.0|        0.0|               0.0|                 0.0|                          0.0|               0.0|        0.0|                    0.0|    0.0|               1.0|    0.0|                0.0|    0.0| 0.0|    0.0|  0.0|       0.0|       0.0|         0.0|     0.0|            0.0|    0.0|            0.0|         0.0|                0.0|                 0.0|            0.0|         0.0|       0.0|        0.0|        0.0|       0.0|        0.0|     5.0|             0.0|               0.0|        0.0|          0.0|      0.0|                0.0|       0.0|         0.0|      0.0| 0.0|          0.0|     0.0|    0.0|        0.0|              0.0|              0.0|              0.0|           0.0|        0.0|         0.0|            0.0|        0.0|   0.0|       0.0|              0.0|        0.0|           0.0|         0.0|       0.0|                  0.0|         0.0|       0.0|                     0.0|           0.0|     0.0|   0.0|     0.0|           0.0|  0.0|    0.0|      0.0|    0.0|         0.0|       0.0|               0.0|            0.0|   0.0|           0.0|         0.0|  0.0|      0.0|                     0.0|                         0.0|   0.0|    0.0| 1.0|         0.0|               0.0|          0.0|         0.0|      0.0|  0.0|          0.0|  0.0|   0.0|       0.0|                         0.0|           0.0|     0.0|             0.0|                0.0|           0.0|            0.0|         0.0|    0.0| 0.0|      0.0|        0.0| 0.0|             0.0|       0.0|  0.0|       0.0|       0.0|                  0.0|          0.0|              0.0|                  0.0|                       0.0|       0.0|                  0.0|          0.0|                   0.0|    0.0|            0.0|          0.0|         0.0|    0.0|                             0.0|                        0.0|               0.0|             0.0|                0.0|         0.0|             0.0| 0.0|                             0.0|           0.0|      0.0|     0.0|             0.0|  0.0| 0.0| 0.0|\n",
      "|-zN_ap4Hf668TEDk8...|       0.0|        0.0|        0.0|           0.0|        0.0|        0.0|                0.0|   0.0|    0.0|     0.0|            0.0|             0.0|     0.0|                 0.0|           0.0|                   0.0|            0.0|            0.0|     0.0|       0.0|       0.0|                0.0|      0.0|    0.0|    0.0|    0.0|      0.0|        0.0|          0.0|        0.0|        0.0|         0.0|          0.0|                 1.0|         0.0|       0.0|           0.0|                0.0|                  0.0|        0.0|       0.0|         0.0|                  0.0|   0.0|     0.0|        0.0|                  0.0|     0.0|    0.0|          0.0| 0.0|            0.0|   0.0|    0.0|          0.0|            0.0| 0.0|     0.0|         0.0|      0.0|       0.0|    0.0|             0.0|     0.0|         0.0|                    0.0|      0.0|       0.0|  0.0|    0.0|                  0.0|          0.0|    0.0|       0.0|  0.0|       0.0|    0.0|   0.0|       0.0|      0.0|               0.0|      0.0|     0.0|   0.0|    0.0|       0.0|    0.0|              0.0|    0.0|                0.0|    0.0|    0.0|  0.0|      0.0|         0.0|      0.0|           0.0|         0.0|             0.0|                  0.0|      0.0|        0.0|       0.0|               0.0|     0.0|               0.0|               0.0|      0.0|            0.0|                0.0|      0.0|    0.0|     0.0|              0.0|           0.0|         0.0|         0.0|         0.0|          0.0|                  0.0|                0.0|    0.0|          0.0|                 0.0|     0.0|   1.0|     0.0|            0.0|          0.0|         0.0|                  0.0|              0.0|                    0.0|      0.0|         0.0|         0.0|        0.0|              0.0|                         0.0|      0.0|        0.0|               0.0|            0.0|            0.0|              0.0|              0.0|                      0.0|                0.0|     0.0|                       0.0|                         0.0|      0.0|  0.0|     0.0|              0.0|         0.0|                   0.0|            0.0|  0.0|            0.0|0.0|               0.0|        0.0|          0.0|       0.0|          0.0|     0.0|         0.0|  0.0|     0.0|              0.0|                          0.0|           0.0|     0.0|    0.0|   0.0|           0.0|           0.0|         0.0|      0.0|                0.0|    0.0|      0.0|        0.0|    0.0|   0.0|            0.0|       0.0|         0.0|                   0.0|      0.0|      0.0|     0.0|        0.0|               0.0|    0.0|                   0.0|         0.0|         0.0|               0.0|            0.0|      0.0|        0.0|           0.0|              0.0|                      0.0|             0.0|            0.0|                0.0|          0.0|    0.0|            0.0|           0.0|    0.0|      0.0|      0.0|     0.0|               0.0|               0.0|         0.0|                  0.0|      0.0|     0.0|             0.0|     0.0|            0.0|   0.0|               0.0|       0.0|                   0.0|        0.0|       0.0|        0.0|      0.0|        0.0|    0.0|   0.0|             0.0|         0.0|               0.0|             0.0|                   0.0|             0.0|                 0.0|         0.0|       0.0|     0.0|   0.0|              0.0|   0.0|       0.0|        0.0|        0.0|           0.0|  0.0|    0.0| 0.0|   0.0|            0.0|         0.0|        0.0|          0.0|    0.0|  0.0|  4.0|     0.0|            0.0| 0.0|     0.0|       0.0|             0.0|           0.0|            0.0|                            0.0|               0.0|          0.0|             0.0|        0.0|          0.0|                    0.0|          0.0|       0.0|             0.0|              0.0|          0.0|         0.0|                 0.0|        0.0|      0.0|    0.0|     0.0|    0.0|              0.0|              0.0|      0.0|                          0.0|    0.0|                      0.0|            0.0|          0.0|   0.0|       0.0|      0.0|            0.0|          0.0|                  0.0|           0.0|                       0.0|      0.0|  0.0|      0.0|    0.0|    0.0|               0.0|         0.0|    0.0|           0.0|                   0.0|                   0.0|    0.0|  0.0|              0.0|           0.0|             0.0|              0.0|   0.0|   0.0|                             0.0|        0.0|    0.0|                    0.0|               0.0|      0.0|           0.0|             0.0|    0.0|          0.0|     0.0|           0.0|            0.0|      0.0|                          0.0|  0.0|     0.0|          0.0|         0.0|           0.0|    0.0|    0.0|     0.0| 0.0|           0.0|      0.0|      0.0|         0.0|    0.0|            0.0|            0.0|           0.0|       0.0|       0.0|            0.0|         0.0|             0.0|               0.0|          0.0|           0.0|    0.0|           4.0|                          0.0|                     0.0|                0.0|          0.0|            0.0|      0.0|     0.0|               0.0|            0.0|   0.0|    0.0|         0.0|          0.0|         0.0|                        0.0|                           0.0|        0.0|             0.0|                  0.0|                   0.0|       0.0|      0.0|    0.0|                  0.0|          0.0|          0.0|            0.0|             0.0|                0.0|           0.0|         0.0|           0.0|          0.0|                   0.0|                     0.0|         0.0|          0.0|             0.0|        0.0|      0.0|      0.0|     0.0|    0.0|  0.0|                   0.0|           0.0|                     0.0|        0.0|                 0.0|       0.0|             0.0|               0.0|          0.0|            0.0|          0.0|             0.0|            0.0|           0.0|              0.0|     0.0|         0.0|         0.0|         0.0|        0.0|       0.0|         0.0| 0.0|     0.0|          0.0|                          0.0|             0.0|       0.0|     0.0|    0.0|  0.0|        0.0|     0.0| 0.0|   0.0|       0.0|         0.0|       0.0|         0.0|        0.0|       0.0|              0.0|                  0.0|                  0.0|                      0.0|       0.0|           0.0|             0.0|                         0.0|                  0.0| 0.0|        0.0|  0.0|        0.0|               0.0|                 0.0|                          0.0|               0.0|        0.0|                    0.0|    0.0|               4.0|    0.0|                0.0|    0.0| 0.0|    0.0|  0.0|       0.0|       0.0|         0.0|     0.0|            0.0|    0.0|            0.0|         0.0|                0.0|                 0.0|            0.0|         0.0|       0.0|        0.0|        0.0|       0.0|        0.0|     0.0|             0.0|               0.0|        0.0|          0.0|      0.0|                0.0|       0.0|         0.0|      0.0| 0.0|          0.0|     0.0|    0.0|        0.0|              0.0|              0.0|              0.0|           0.0|        0.0|         0.0|            0.0|        0.0|   0.0|       0.0|              0.0|        0.0|           0.0|         0.0|       0.0|                  0.0|         0.0|       0.0|                     0.0|           0.0|     0.0|   0.0|     0.0|           0.0|  0.0|    0.0|      0.0|    0.0|         0.0|       0.0|               0.0|            0.0|   0.0|           0.0|         0.0|  0.0|      0.0|                     0.0|                         0.0|   0.0|    0.0| 0.0|         0.0|               0.0|          0.0|         0.0|      0.0|  0.0|          0.0|  0.0|   0.0|       0.0|                         0.0|           0.0|     0.0|             0.0|                0.0|           0.0|            0.0|         0.0|    0.0| 0.0|      0.0|        0.0| 0.0|             0.0|       0.0|  0.0|       0.0|       0.0|                  0.0|          0.0|              0.0|                  0.0|                       0.0|       0.0|                  0.0|          0.0|                   0.0|    0.0|            0.0|          0.0|         0.0|    0.0|                             0.0|                        0.0|               0.0|             0.0|                0.0|         0.0|             0.0| 0.0|                             0.0|           0.0|      0.0|     0.0|             0.0|  0.0| 0.0| 0.0|\n",
      "|0BMTo253SdSZpmZbA...|       0.0|        0.0|        0.0|           0.0|        4.0|        0.0|                0.0|   0.0|    0.0|     0.0|            0.0|             0.0|     0.0|                 0.0|           0.0|                   0.0|            0.0|            0.0|     0.0|       0.0|       0.0|                0.0|      0.0|    0.0|    0.0|    0.0|      0.0|        0.0|          0.0|        0.0|        0.0|         0.0|          0.0|                 0.0|         0.0|       0.0|           0.0|                0.0|                  0.0|        0.0|       0.0|         0.0|                  0.0|   0.0|     0.0|        0.0|                  0.0|     0.0|    0.0|          0.0| 5.0|            0.0|   0.0|    0.0|         2.75|            0.0| 0.0|     0.0|         0.0|      0.0|       0.0|    0.0|             0.0|     0.0|         0.0|                    0.0|      0.0|       0.0|  0.0|    0.0|                  2.0|          0.0|    0.0|       0.0|  0.0|       0.0|    0.0|   0.0|       0.0|      0.0|               5.0|      0.0|     0.0|   0.0|    0.0|       0.0|    0.0|              0.0|    0.0|                0.0|    0.0|    0.0|  1.0|      0.0|         0.0|      0.0|           4.5|         0.0|             0.0|                  0.0|      0.0|        0.0|       0.0|               0.0|     0.0|               0.0|               0.0|      0.0|            0.0|                0.0|      0.0|    0.0|     0.0|              0.0|           0.0|         0.0|         0.0|         0.0|          0.0|                  0.0|                0.0|    0.0|          0.0|                 0.0|     0.0|   0.0|     0.0|            0.0|          5.0|         0.0|                  0.0|              0.0|                    0.0|      0.0|         0.0|         0.0|        0.0|              0.0|                         0.0|      0.0|        0.0|               0.0|            0.0|            0.0|              0.0|              0.0|                      0.0|                0.0|     0.0|                       0.0|                         0.0|      1.0|  0.0|     0.0|              0.0|         0.0|                   0.0|            0.0|  0.0|            0.0|0.0|               0.0|        0.0|          0.0|       0.0|          0.0|     3.0|         0.0|  0.0|     0.0|              0.0|                          0.0|           0.0|     1.0|    0.0|   0.0|           0.0|           0.0|         0.0|      0.0|                0.0|    0.0|      0.0|        0.0|    0.0|   0.0|            0.0|       0.0|         0.0|                   0.0|      0.0|      0.0|     0.0|        0.0|               0.0|    0.0|                   0.0|         0.0|         0.0|               0.0|            0.0|      0.0|        0.0|           0.0|              0.0|                      0.0|             0.0|            0.0|                5.0|          0.0|    0.0|            0.0|           0.0|    0.0|      0.0|      0.0|     0.0|               0.0|               0.0|         0.0|                  4.0|      0.0|     0.0|             0.0|     0.0|            0.0|   0.0|               1.0|       0.0|                   0.0|        0.0|       0.0|        0.0|      0.0|        0.0|    0.0|   0.0|             0.0|         0.0|               0.0|             0.0|                   0.0|             0.0|                 0.0|         0.0|       0.0|     0.0|   0.0|              0.0|   0.0|       0.0|        0.0|        0.0|           0.0|  0.0|    0.0| 4.0|   0.0|            0.0|        2.75|        2.0|          0.0|    0.0|  0.0|  0.0|     0.0|            0.0| 0.0|     0.0|       0.0|             1.0|           0.0|            0.0|                            0.0|               0.0|          0.0|             0.0|        0.0|          0.0|                    0.0|          0.0|       0.0|             0.0|              0.0|          0.0|         0.0|                 0.0|        0.0|      0.0|    0.0|     0.0|    0.0|              0.0|              0.0|      0.0|                          0.0|    0.0|                      1.0|            0.0|          0.0|   0.0|       0.0|      0.0|            0.0|          0.0|                  0.0|           0.0|                       0.0|      0.0|  0.0|      0.0|    4.0|    0.0|               0.0|         0.0|    0.0|           0.0|                   0.0|                   0.0|    0.0|  0.0|              0.0|           0.0|             0.0|              0.0|   0.0|   0.0|                             0.0|        0.0|    0.0|                    0.0|               3.5|      0.0|           0.0|             0.0|    0.0|          0.0|     0.0|           0.0|            0.0|      0.0|                          0.0|  0.0|     0.0|          0.0|         0.0|           0.0|    0.0|    0.0|     0.0| 0.0|           0.0|      0.0|      0.0|         0.0|    0.0|            0.0|            0.0|           0.0|       0.0|       0.0|            1.0|         0.0|             0.0|               0.0|          0.0|           0.0|    0.0|           0.0|                          0.0|                     0.0|                0.0|          0.0|            0.0|      0.0|     0.0|               0.0|            0.0|   0.0|    0.0|         0.0|          0.0|         0.0|                        0.0|                           0.0|       2.75|             0.0|                  0.0|                   0.0|       0.0|      5.0|    0.0|                  0.0|          0.0|          0.0|            0.0|             0.0|                0.0|           0.0|         0.0|           0.0|          0.0|                   0.0|                     0.0|         0.0|          0.0|             0.0|        0.0|      0.0|      0.0|     0.0|    0.0|  0.0|                   0.0|           0.0|                     0.0|        0.0|                 0.0|       0.0|             0.0|               0.0|          0.0|            0.0|          0.0|             0.0|            0.0|           0.0|              0.0|     0.0|         0.0|         0.0|         0.0|        0.0|       0.0|         0.0| 0.0|     0.0|          0.0|                          0.0|             0.0|       0.0|     0.0|    0.0|  4.0|        0.0|     0.0| 0.0|   0.0|       0.0|         0.0|       0.0|         0.0|        0.0|       0.0|              0.0|                  0.0|                  0.0|                      0.0|       0.0|           0.0|             0.0|                         0.0|                  0.0| 0.0|        0.0|  0.0|        0.0|               0.0|                 0.0|                          0.0|               0.0|        0.0|                    0.0|    0.0|3.3333333333333335|    0.0|                0.0|    0.0| 0.0|    0.0|  0.0|       0.0|       0.0|         0.0|     0.0|            0.0|    0.0|            0.0|         0.0|                0.0|                 0.0|            0.0|         0.0|       0.0|        0.0|        0.0|       0.0|        0.0|     5.0|             0.0|               0.0|        0.0|          0.0|      3.0|                0.0|       0.0|         0.0|      0.0| 0.0|          0.0|     0.0|    0.0|        0.0|              0.0|              0.0|              0.0|           0.0|        0.0|         0.0|            0.0|        0.0|   0.0|       0.0|              0.0|        0.0|           0.0|         0.0|       0.0|                  0.0|         0.0|       0.0|                     0.0|           0.0|     0.0|   0.0|     0.0|           0.0|  0.0|    0.0|      0.0|    0.0|         0.0|       0.0|               0.0|            0.0|   0.0|           0.0|         0.0|  0.0|      0.0|                     0.0|                         0.0|   0.0|    0.0| 0.0|         0.0|               0.0|          0.0|         0.0|      0.0|  0.0|          0.0|  0.0|   0.0|       0.0|                         0.0|           0.0|     0.0|             0.0|                0.0|           0.0|            0.0|         0.0|    0.0| 0.0|      0.0|        0.0| 0.0|             0.0|       0.0|  0.0|       0.0|       0.0|                  0.0|          0.0|              0.0|                  0.0|                       0.0|       0.0|                  0.0|          0.0|                   0.0|    1.0|            0.0|          0.0|         0.0|    0.0|                             0.0|                        0.0|2.6666666666666665|             0.0|                0.0|         0.0|             0.0| 0.0|                             0.0|           0.0|      0.0|     0.0|             0.0|  0.0| 0.0| 0.0|\n",
      "|0L1XEgoavPHKaF7DH...|       0.0|        0.0|        0.0|           0.0|        0.0|        0.0|                0.0|   0.0|    0.0|     0.0|            0.0|             0.0|     0.0|                 0.0|           0.0|                   0.0|            0.0|            0.0|     0.0|       0.0|       0.0|                0.0|      0.0|    0.0|    0.0|    0.0|      0.0|        0.0|          0.0|        0.0|        0.0|         0.0|          0.0|                 0.0|         0.0|       0.0|           0.0|                0.0|                  0.0|        0.0|       0.0|         0.0|                  0.0|   0.0|     0.0|        0.0|                  0.0|     5.0|    0.0|          0.0| 0.0|            0.0|   0.0|    0.0|          0.0|            0.0| 0.0|     0.0|         0.0|      0.0|       0.0|    0.0|             0.0|     0.0|         0.0|                    0.0|      0.0|       0.0|  0.0|    0.0|                  0.0|          0.0|    0.0|       0.0|  0.0|       0.0|    0.0|   0.0|       0.0|      0.0|               0.0|      0.0|     0.0|   0.0|    0.0|       0.0|    0.0|              0.0|    0.0|                0.0|    0.0|    0.0|  0.0|      0.0|         0.0|      0.0|           0.0|         0.0|             0.0|                  0.0|      0.0|        0.0|       0.0|               0.0|     0.0|               0.0|               0.0|      0.0|            0.0|                0.0|      0.0|    0.0|     0.0|              0.0|           0.0|         0.0|         0.0|         0.0|          0.0|                  0.0|                0.0|    0.0|          0.0|                 0.0|     0.0|   0.0|     0.0|            0.0|          0.0|         0.0|                  0.0|              0.0|                    0.0|      0.0|         0.0|         0.0|        0.0|              0.0|                         0.0|      0.0|        0.0|               0.0|            0.0|            0.0|              0.0|              0.0|                      0.0|                0.0|     0.0|                       0.0|                         0.0|      0.0|  0.0|     0.0|              0.0|         0.0|                   0.0|            0.0|  0.0|            0.0|0.0|               0.0|        0.0|          0.0|       0.0|          0.0|     0.0|         0.0|  0.0|     0.0|              0.0|                          0.0|           0.0|     0.0|    0.0|   0.0|           0.0|           0.0|         0.0|      0.0|                0.0|    0.0|      0.0|        0.0|    5.0|   0.0|            0.0|       0.0|         0.0|                   0.0|      0.0|      0.0|     0.0|        0.0|               0.0|    0.0|                   0.0|         0.0|         0.0|               0.0|            0.0|      0.0|        0.0|           0.0|              0.0|                      0.0|             0.0|            0.0|                0.0|          0.0|    0.0|            0.0|           0.0|    0.0|      5.0|      0.0|     0.0|               0.0|               0.0|         0.0|                  0.0|      0.0|     0.0|             0.0|     0.0|            0.0|   0.0|               5.0|       0.0|                   0.0|        0.0|       0.0|        0.0|      0.0|        0.0|    0.0|   0.0|             0.0|         0.0|               0.0|             0.0|                   0.0|             0.0|                 0.0|         0.0|       0.0|     0.0|   0.0|              0.0|   0.0|       0.0|        0.0|        0.0|           0.0|  0.0|    0.0| 0.0|   0.0|            0.0|         0.0|        0.0|          0.0|    0.0|  0.0|  0.0|     0.0|            0.0| 0.0|     0.0|       0.0|             0.0|           0.0|            0.0|                            0.0|               0.0|          0.0|             0.0|        0.0|          0.0|                    0.0|          0.0|       0.0|             0.0|              0.0|          0.0|         0.0|                 0.0|        0.0|      0.0|    0.0|     0.0|    0.0|              0.0|              0.0|      0.0|                          0.0|    0.0|                      0.0|            0.0|          0.0|   0.0|       0.0|      0.0|            0.0|          0.0|                  0.0|           0.0|                       0.0|      0.0|  0.0|      0.0|    0.0|    0.0|               0.0|         0.0|    0.0|           0.0|                   0.0|                   0.0|    0.0|  0.0|              0.0|           0.0|             0.0|              0.0|   0.0|   0.0|                             0.0|        0.0|    0.0|                    0.0|               0.0|      0.0|           0.0|             0.0|    0.0|          0.0|     0.0|           0.0|            0.0|      0.0|                          0.0|  0.0|     0.0|          0.0|         0.0|           0.0|    0.0|    0.0|     0.0| 0.0|           0.0|      0.0|      0.0|         0.0|    0.0|            0.0|            0.0|           0.0|       0.0|       0.0|            0.0|         0.0|             0.0|               0.0|          0.0|           0.0|    0.0|           5.0|                          0.0|                     0.0|                0.0|          0.0|            0.0|      0.0|     0.0|               0.0|            0.0|   0.0|    0.0|         0.0|          0.0|         0.0|                        0.0|                           0.0|        0.0|             0.0|                  0.0|                   0.0|       0.0|      0.0|    0.0|                  0.0|          0.0|          0.0|            0.0|             0.0|                0.0|           0.0|         0.0|           0.0|          0.0|                   0.0|                     0.0|         0.0|          0.0|             0.0|        0.0|      0.0|      0.0|     0.0|    0.0|  0.0|                   0.0|           0.0|                     0.0|        0.0|                 0.0|       0.0|             0.0|               0.0|          0.0|            0.0|          0.0|             0.0|            0.0|           0.0|              0.0|     0.0|         0.0|         0.0|         0.0|        0.0|       0.0|         0.0| 0.0|     0.0|          0.0|                          0.0|             0.0|       0.0|     0.0|    0.0|  0.0|        0.0|     0.0| 0.0|   0.0|       0.0|         0.0|       0.0|         0.0|        0.0|       0.0|              0.0|                  0.0|                  0.0|                      0.0|       0.0|           0.0|             0.0|                         0.0|                  0.0| 0.0|        0.0|  0.0|        0.0|               0.0|                 0.0|                          0.0|               0.0|        0.0|                    0.0|    0.0|               5.0|    0.0|                0.0|    0.0| 0.0|    0.0|  0.0|       0.0|       0.0|         0.0|     0.0|            0.0|    0.0|            0.0|         0.0|                0.0|                 0.0|            0.0|         0.0|       0.0|        0.0|        0.0|       0.0|        0.0|     0.0|             0.0|               0.0|        0.0|          0.0|      0.0|                0.0|       0.0|         0.0|      0.0| 0.0|          0.0|     5.0|    0.0|        0.0|              0.0|              0.0|              0.0|           0.0|        0.0|         0.0|            0.0|        0.0|   0.0|       0.0|              0.0|        0.0|           0.0|         0.0|       0.0|                  0.0|         0.0|       0.0|                     0.0|           0.0|     0.0|   0.0|     0.0|           0.0|  0.0|    0.0|      0.0|    0.0|         0.0|       0.0|               0.0|            0.0|   0.0|           0.0|         0.0|  0.0|      0.0|                     0.0|                         0.0|   0.0|    0.0| 0.0|         0.0|               0.0|          0.0|         0.0|      0.0|  0.0|          0.0|  0.0|   0.0|       0.0|                         0.0|           0.0|     0.0|             0.0|                0.0|           0.0|            0.0|         0.0|    5.0| 0.0|      0.0|        0.0| 0.0|             0.0|       0.0|  0.0|       0.0|       0.0|                  0.0|          0.0|              0.0|                  0.0|                       0.0|       0.0|                  0.0|          0.0|                   0.0|    0.0|            0.0|          0.0|         0.0|    0.0|                             0.0|                        0.0|               0.0|             0.0|                0.0|         0.0|             0.0| 0.0|                             0.0|           0.0|      0.0|     0.0|             0.0|  0.0| 0.0| 0.0|\n",
      "|0LUt7xSvYgLpL0zBe...|       0.0|        0.0|        0.0|           0.0|        0.0|        0.0|                0.0|   0.0|    0.0|     0.0|            0.0|             0.0|     0.0|                 0.0|           0.0|                   0.0|            0.0|            0.0|     0.0|       0.0|       0.0|                0.0|      0.0|    0.0|    0.0|    0.0|      0.0|        0.0|          0.0|        0.0|        0.0|         0.0|          0.0|                 0.0|         5.0|       0.0|           0.0|                0.0|                  0.0|        0.0|       0.0|         0.0|                  0.0|   0.0|     0.0|        0.0|                  0.0|     0.0|    0.0|          0.0| 5.0|            0.0|   0.0|    0.0|          0.0|            0.0| 0.0|     0.0|         0.0|      0.0|       0.0|    0.0|             0.0|     0.0|         0.0|                    0.0|      0.0|       0.0|  0.0|    0.0|                  0.0|          0.0|    0.0|       0.0|  0.0|       0.0|    0.0|   0.0|       0.0|      0.0|               0.0|      0.0|     0.0|   0.0|    0.0|       0.0|    0.0|              0.0|    0.0|                0.0|    0.0|    0.0|  0.0|      0.0|         0.0|      0.0|           0.0|         0.0|             0.0|                  0.0|      0.0|        0.0|       0.0|               0.0|     0.0|               0.0|               0.0|      0.0|            0.0|                0.0|      0.0|    0.0|     0.0|              0.0|           0.0|         0.0|         0.0|         0.0|          0.0|                  0.0|                0.0|    5.0|          0.0|                 0.0|     0.0|   0.0|     0.0|            0.0|          0.0|         0.0|                  0.0|              0.0|                    0.0|      0.0|         0.0|         0.0|        0.0|              0.0|                         0.0|      0.0|        0.0|               0.0|            0.0|            0.0|              0.0|              0.0|                      0.0|                0.0|     0.0|                       0.0|                         0.0|      0.0|  0.0|     0.0|              0.0|         0.0|                   0.0|            0.0|  0.0|            0.0|0.0|               0.0|        0.0|          0.0|       0.0|          0.0|     0.0|         0.0|  0.0|     0.0|              0.0|                          0.0|           0.0|     0.0|    5.0|   0.0|           0.0|           0.0|         0.0|      0.0|                0.0|    0.0|      0.0|        0.0|    0.0|   0.0|            0.0|       0.0|         0.0|                   0.0|      0.0|      0.0|     0.0|        0.0|               0.0|    0.0|                   0.0|         0.0|         0.0|               0.0|            0.0|      0.0|        0.0|           0.0|              0.0|                      0.0|             0.0|            0.0|                0.0|          0.0|    0.0|            0.0|           0.0|    0.0|      0.0|      0.0|     0.0|               0.0|               0.0|         0.0|                  0.0|      0.0|     0.0|             0.0|     0.0|            0.0|   0.0|               5.0|       0.0|                   0.0|        0.0|       0.0|        0.0|      0.0|        0.0|    0.0|   0.0|             0.0|         0.0|               0.0|             0.0|                   0.0|             0.0|                 0.0|         0.0|       0.0|     0.0|   0.0|              0.0|   0.0|       0.0|        0.0|        0.0|           0.0|  0.0|    0.0| 0.0|   0.0|            0.0|         0.0|        0.0|          0.0|    0.0|  0.0|  0.0|     0.0|            0.0| 0.0|     0.0|       0.0|             0.0|           0.0|            0.0|                            0.0|               0.0|          0.0|             0.0|        0.0|          0.0|                    0.0|          0.0|       0.0|             0.0|              0.0|          0.0|         0.0|                 0.0|        0.0|      0.0|    0.0|     0.0|    0.0|              0.0|              0.0|      0.0|                          0.0|    0.0|                      0.0|            0.0|          0.0|   5.0|       0.0|      0.0|            0.0|          0.0|                  0.0|           0.0|                       0.0|      0.0|  0.0|      0.0|    0.0|    0.0|               5.0|         0.0|    0.0|           0.0|                   0.0|                   0.0|    0.0|  0.0|              0.0|           0.0|             0.0|              0.0|   0.0|   0.0|                             0.0|        0.0|    0.0|                    0.0|               0.0|      0.0|           0.0|             0.0|    0.0|          0.0|     0.0|           0.0|            0.0|      0.0|                          0.0|  0.0|     0.0|          0.0|         0.0|           0.0|    5.0|    0.0|     0.0| 0.0|           0.0|      0.0|      0.0|         0.0|    0.0|            0.0|            0.0|           0.0|       0.0|       0.0|            0.0|         0.0|             0.0|               0.0|          5.0|           0.0|    0.0|           5.0|                          0.0|                     0.0|                0.0|          0.0|            0.0|      0.0|     0.0|               0.0|            0.0|   0.0|    0.0|         0.0|          0.0|         0.0|                        0.0|                           0.0|        0.0|             0.0|                  0.0|                   0.0|       0.0|      5.0|    0.0|                  0.0|          0.0|          0.0|            0.0|             0.0|                0.0|           0.0|         0.0|           0.0|          0.0|                   0.0|                     0.0|         0.0|          0.0|             0.0|        0.0|      0.0|      0.0|     0.0|    0.0|  0.0|                   0.0|           0.0|                     0.0|        0.0|                 0.0|       0.0|             0.0|               0.0|          0.0|            0.0|          0.0|             0.0|            0.0|           0.0|              0.0|     0.0|         0.0|         0.0|         0.0|        0.0|       0.0|         0.0| 0.0|     0.0|          0.0|                          0.0|             0.0|       0.0|     0.0|    0.0|  0.0|        0.0|     0.0| 0.0|   0.0|       0.0|         0.0|       0.0|         0.0|        0.0|       0.0|              0.0|                  0.0|                  0.0|                      0.0|       0.0|           0.0|             0.0|                         0.0|                  0.0| 0.0|        0.0|  0.0|        0.0|               0.0|                 0.0|                          0.0|               0.0|        0.0|                    0.0|    0.0|               5.0|    0.0|                0.0|    0.0| 0.0|    0.0|  0.0|       0.0|       0.0|         0.0|     0.0|            0.0|    0.0|            0.0|         0.0|                0.0|                 0.0|            0.0|         0.0|       0.0|        0.0|        0.0|       0.0|        0.0|     0.0|             0.0|               0.0|        0.0|          0.0|      0.0|                0.0|       0.0|         0.0|      0.0| 0.0|          0.0|     0.0|    0.0|        0.0|              0.0|              0.0|              0.0|           0.0|        0.0|         0.0|            0.0|        0.0|   0.0|       0.0|              0.0|        0.0|           0.0|         0.0|       0.0|                  0.0|         0.0|       0.0|                     0.0|           0.0|     0.0|   0.0|     0.0|           0.0|  0.0|    0.0|      0.0|    0.0|         0.0|       5.0|               0.0|            0.0|   0.0|           0.0|         0.0|  0.0|      0.0|                     0.0|                         0.0|   0.0|    0.0| 0.0|         0.0|               0.0|          0.0|         0.0|      0.0|  0.0|          0.0|  0.0|   0.0|       0.0|                         0.0|           0.0|     0.0|             0.0|                0.0|           0.0|            0.0|         0.0|    0.0| 0.0|      0.0|        0.0| 0.0|             0.0|       0.0|  0.0|       0.0|       0.0|                  0.0|          0.0|              0.0|                  0.0|                       0.0|       0.0|                  0.0|          0.0|                   0.0|    0.0|            0.0|          0.0|         0.0|    0.0|                             0.0|                        0.0|               0.0|             0.0|                0.0|         0.0|             0.0| 0.0|                             0.0|           0.0|      5.0|     0.0|             0.0|  0.0| 0.0| 0.0|\n",
      "|0WNQ7u8vflxO_g4LF...|       0.0|        0.0|        0.0|           0.0|        0.0|        0.0|                0.0|   0.0|    0.0|     0.0|            0.0|             0.0|     0.0|                 0.0|           4.0|                   0.0|            0.0|            0.0|     0.0|       0.0|       0.0|                0.0|      0.0|    0.0|    0.0|    0.0|      0.0|        0.0|          0.0|        0.0|        0.0|         0.0|          0.0|                 0.0|         0.0|       0.0|           0.0|                0.0|                  0.0|        0.0|       0.0|         0.0|                  0.0|   0.0|     0.0|        0.0|                  0.0|     0.0|    0.0|          0.0| 1.0|            0.0|   0.0|    0.0|          0.0|            0.0| 0.0|     0.0|         0.0|      0.0|       0.0|    0.0|             0.0|     0.0|         0.0|                    0.0|      0.0|       0.0|  0.0|    0.0|                  0.0|          0.0|    0.0|       0.0|  0.0|       0.0|    0.0|   0.0|       0.0|      0.0|               4.0|      0.0|     0.0|   0.0|    0.0|       0.0|    0.0|              0.0|    0.0|                0.0|    0.0|    0.0|  0.0|      0.0|         0.0|      0.0|           4.0|         0.0|             0.0|                  0.0|      0.0|        0.0|       0.0|               0.0|     0.0|               0.0|               0.0|      0.0|            0.0|                0.0|      0.0|    0.0|     0.0|              0.0|           0.0|         0.0|         0.0|         0.0|          0.0|                  0.0|                0.0|    0.0|          0.0|                 0.0|     0.0|   0.0|     0.0|            0.0|          0.0|         0.0|                  0.0|              0.0|                    0.0|      0.0|         0.0|         0.0|        0.0|              0.0|                         0.0|      0.0|        0.0|               0.0|            0.0|            0.0|              0.0|              0.0|                      0.0|                0.0|     0.0|                       0.0|                         0.0|      0.0|  0.0|     0.0|              0.0|         0.0|                   0.0|            0.0|  0.0|            0.0|0.0|               0.0|        0.0|          0.0|       0.0|          0.0|     0.0|         0.0|  0.0|     0.0|              0.0|                          0.0|           0.0|     0.0|    0.0|   0.0|           0.0|           0.0|         0.0|      0.0|                0.0|    0.0|      0.0|        0.0|    0.0|   0.0|            0.0|       0.0|         0.0|                   0.0|      0.0|      0.0|     0.0|        0.0|               0.0|    0.0|                   0.0|         0.0|         0.0|               0.0|            0.0|      0.0|        4.0|           0.0|              0.0|                      0.0|             0.0|            0.0|                0.0|          0.0|    0.0|            0.0|           0.0|    0.0|      0.0|      0.0|     0.0|               0.0|               0.0|         0.0|                  0.0|      0.0|     0.0|             0.0|     0.0|            0.0|   0.0|               4.0|       0.0|                   0.0|        0.0|       0.0|        0.0|      0.0|        0.0|    0.0|   0.0|             0.0|         0.0|               0.0|             0.0|                   0.0|             0.0|                 0.0|         0.0|       0.0|     0.0|   0.0|              0.0|   0.0|       0.0|        4.0|        0.0|           0.0|  0.0|    0.0| 0.0|   0.0|            0.0|         0.0|        0.0|          0.0|    0.0|  0.0|  0.0|     0.0|            0.0| 0.0|     0.0|       0.0|             0.0|           0.0|            0.0|                            0.0|               0.0|          0.0|             0.0|        0.0|          0.0|                    0.0|          0.0|       0.0|             0.0|              0.0|          0.0|         0.0|                 0.0|        1.0|      0.0|    0.0|     0.0|    0.0|              0.0|              0.0|      0.0|                          0.0|    0.0|                      0.0|            0.0|          0.0|   0.0|       0.0|      0.0|            0.0|          0.0|                  0.0|           0.0|                       0.0|      0.0|  0.0|      0.0|    4.0|    0.0|               0.0|         0.0|    0.0|           0.0|                   0.0|                   0.0|    0.0|  0.0|              0.0|           0.0|             0.0|              0.0|   0.0|   0.0|                             0.0|        0.0|    0.0|                    0.0|               0.0|      0.0|           0.0|             0.0|    0.0|          0.0|     0.0|           0.0|            0.0|      0.0|                          0.0|  0.0|     0.0|          0.0|         0.0|           0.0|    0.0|    0.0|     0.0| 0.0|           0.0|      0.0|      0.0|         0.0|    0.0|            0.0|            0.0|           0.0|       0.0|       0.0|            0.0|         0.0|             0.0|               0.0|          0.0|           0.0|    0.0|           1.0|                          0.0|                     0.0|                0.0|          0.0|            0.0|      0.0|     0.0|               0.0|            0.0|   0.0|    0.0|         0.0|          0.0|         0.0|                        0.0|                           0.0|        0.0|             0.0|                  0.0|                   0.0|       0.0|      1.0|    0.0|                  0.0|          0.0|          0.0|            0.0|             0.0|                0.0|           0.0|         0.0|           0.0|          0.0|                   0.0|                     0.0|         0.0|          0.0|             0.0|        0.0|      0.0|      0.0|     0.0|    0.0|  0.0|                   0.0|           0.0|                     0.0|        0.0|                 0.0|       0.0|             0.0|               0.0|          0.0|            0.0|          0.0|             0.0|            1.0|           0.0|              0.0|     0.0|         0.0|         0.0|         0.0|        0.0|       0.0|         0.0| 0.0|     0.0|          0.0|                          0.0|             0.0|       0.0|     0.0|    0.0|  0.0|        0.0|     0.0| 0.0|   0.0|       0.0|         0.0|       0.0|         0.0|        0.0|       0.0|              0.0|                  0.0|                  4.0|                      0.0|       0.0|           0.0|             0.0|                         0.0|                  0.0| 0.0|        0.0|  0.0|        0.0|               0.0|                 0.0|                          0.0|               0.0|        0.0|                    0.0|    0.0|               2.5|    0.0|                0.0|    0.0| 0.0|    0.0|  0.0|       0.0|       0.0|         0.0|     0.0|            0.0|    0.0|            0.0|         0.0|                0.0|                 0.0|            0.0|         0.0|       0.0|        0.0|        0.0|       0.0|        0.0|     0.0|             0.0|               0.0|        0.0|          0.0|      0.0|                0.0|       0.0|         0.0|      0.0| 0.0|          0.0|     0.0|    0.0|        0.0|              0.0|              4.0|              0.0|           0.0|        0.0|         0.0|            0.0|        0.0|   0.0|       0.0|              0.0|        0.0|           0.0|         0.0|       0.0|                  0.0|         0.0|       0.0|                     0.0|           0.0|     0.0|   0.0|     0.0|           0.0|  0.0|    0.0|      0.0|    0.0|         0.0|       0.0|               0.0|            0.0|   0.0|           0.0|         0.0|  0.0|      0.0|                     0.0|                         0.0|   0.0|    0.0| 0.0|         0.0|               0.0|          0.0|         0.0|      0.0|  0.0|          0.0|  0.0|   0.0|       0.0|                         0.0|           0.0|     0.0|             0.0|                0.0|           0.0|            0.0|         0.0|    0.0| 0.0|      0.0|        0.0| 0.0|             0.0|       0.0|  0.0|       0.0|       0.0|                  0.0|          0.0|              0.0|                  0.0|                       0.0|       0.0|                  0.0|          0.0|                   0.0|    0.0|            0.0|          0.0|         0.0|    0.0|                             0.0|                        0.0|               0.0|             0.0|                0.0|         0.0|             0.0| 0.0|                             0.0|           0.0|      0.0|     0.0|             0.0|  0.0| 0.0| 0.0|\n",
      "|0kDf2EEv9oGNW_wed...|       0.0|        0.0|        0.0|           0.0|        0.0|        0.0|                0.0|   0.0|    0.0|     0.0|            0.0|             0.0|     0.0|                 0.0|           0.0|                   0.0|            0.0|            0.0|     0.0|       0.0|       0.0|                0.0|      0.0|    0.0|    0.0|    0.0|      0.0|        0.0|          0.0|        0.0|        0.0|         0.0|          0.0|                 0.0|         3.0|       0.0|           0.0|                0.0|                  0.0|        0.0|       0.0|         0.0|                  0.0|   0.0|     0.0|        0.0|                  0.0|     0.0|    0.0|          0.0| 3.0|            0.0|   0.0|    0.0|          0.0|            0.0| 0.0|     0.0|         0.0|      0.0|       0.0|    0.0|             0.0|     0.0|         0.0|                    0.0|      0.0|       0.0|  0.0|    0.0|                  0.0|          0.0|    0.0|       0.0|  0.0|       0.0|    0.0|   0.0|       0.0|      0.0|               4.0|      0.0|     0.0|   0.0|    0.0|       0.0|    0.0|              0.0|    0.0|                0.0|    0.0|    0.0|  0.0|      0.0|         0.0|      0.0|           0.0|         0.0|             0.0|                  0.0|      0.0|        0.0|       0.0|               0.0|     0.0|               0.0|               0.0|      0.0|            0.0|                0.0|      0.0|    0.0|     0.0|              0.0|           0.0|         0.0|         0.0|         0.0|          0.0|                  0.0|                0.0|    3.0|          0.0|                 0.0|     0.0|   0.0|     0.0|            0.0|          0.0|         0.0|                  0.0|              0.0|                    0.0|      0.0|         0.0|         0.0|        0.0|              0.0|                         0.0|      0.0|        0.0|               0.0|            0.0|            0.0|              0.0|              0.0|                      0.0|                0.0|     0.0|                       0.0|                         0.0|      0.0|  0.0|     0.0|              0.0|         0.0|                   0.0|            0.0|  0.0|            0.0|0.0|               0.0|        0.0|          0.0|       0.0|          0.0|     0.0|         0.0|  0.0|     0.0|              0.0|                          0.0|           0.0|     0.0|    0.0|   4.0|           0.0|           0.0|         0.0|      0.0|                0.0|    0.0|      0.0|        0.0|    0.0|   0.0|            0.0|       0.0|         0.0|                   0.0|      0.0|      0.0|     0.0|        0.0|               0.0|    0.0|                   0.0|         0.0|         0.0|               0.0|            0.0|      0.0|        0.0|           0.0|              0.0|                      0.0|             0.0|            0.0|                0.0|          0.0|    0.0|            0.0|           0.0|    0.0|      0.0|      0.0|     0.0|               0.0|               0.0|         0.0|                  0.0|      0.0|     0.0|             0.0|     0.0|            0.0|   0.0|               0.0|       0.0|                   0.0|        0.0|       0.0|        0.0|      0.0|        0.0|    0.0|   0.0|             0.0|         0.0|               0.0|             0.0|                   0.0|             0.0|                 0.0|         0.0|       0.0|     0.0|   0.0|              0.0|   0.0|       0.0|        0.0|        0.0|           0.0|  0.0|    0.0| 0.0|   0.0|            0.0|         0.0|        0.0|          0.0|    0.0|  0.0|  0.0|     0.0|            0.0| 0.0|     0.0|       0.0|             0.0|           0.0|            0.0|                            0.0|               0.0|          0.0|             0.0|        0.0|          0.0|                    0.0|          0.0|       0.0|             0.0|              0.0|          0.0|         0.0|                 0.0|        0.0|      0.0|    0.0|     0.0|    0.0|              0.0|              0.0|      0.0|                          0.0|    0.0|                      0.0|            0.0|          0.0|   0.0|       0.0|      0.0|            0.0|          0.0|                  0.0|           0.0|                       0.0|      0.0|  0.0|      0.0|    0.0|    0.0|              3.75|         0.0|    0.0|           0.0|                   0.0|                   0.0|    0.0|  0.0|              0.0|           0.0|             0.0|              0.0|   0.0|   0.0|                             0.0|        0.0|    0.0|                    0.0|               0.0|      0.0|           0.0|             0.0|    0.0|          0.0|     0.0|           0.0|            0.0|      0.0|                          0.0|  0.0|     0.0|          0.0|         0.0|           0.0|    0.0|    0.0|     0.0| 0.0|           0.0|      0.0|      0.0|         0.0|    0.0|            0.0|            0.0|           0.0|       0.0|       0.0|            0.0|         0.0|             0.0|               0.0|          0.0|           0.0|    0.0|           0.0|                          0.0|                     0.0|                0.0|          0.0|            0.0|      0.0|     0.0|               0.0|            0.0|   0.0|    0.0|         0.0|          0.0|         0.0|                        0.0|                           0.0|        0.0|             0.0|                  0.0|                   0.0|       0.0|      3.0|    4.0|                  0.0|          0.0|          0.0|            0.0|             0.0|                0.0|           0.0|         0.0|           0.0|          0.0|                   0.0|                     0.0|         0.0|          0.0|             0.0|        0.0|      0.0|      0.0|     0.0|    0.0|  0.0|                   0.0|           0.0|                     0.0|        0.0|                 0.0|       0.0|             0.0|               0.0|          0.0|            0.0|          0.0|             0.0|            0.0|           0.0|              0.0|     0.0|         0.0|         0.0|         0.0|        0.0|       0.0|         0.0| 0.0|     0.0|          0.0|                          0.0|             0.0|       0.0|     0.0|    0.0|  0.0|        0.0|     0.0| 0.0|   4.0|       0.0|         0.0|       0.0|         0.0|        0.0|       0.0|              0.0|                  0.0|                  0.0|                      0.0|       0.0|           0.0|             0.0|                         0.0|                  0.0| 0.0|        0.0|  4.0|        0.0|               0.0|                 0.0|                          0.0|               0.0|        0.0|                    0.0|    0.0|             3.375|    0.0|                0.0|    0.0| 0.0|    0.0|  0.0|       0.0|       0.0|         0.0|     0.0|            0.0|    0.0|            0.0|         0.0|                0.0|                 0.0|            0.0|         0.0|       0.0|        0.0|        0.0|       0.0|        0.0|     0.0|             0.0|               0.0|        0.0|          0.0|      0.0|                0.0|       0.0|         0.0|      0.0| 0.0|          0.0|     0.0|    0.0|        0.0|              0.0|              0.0|              0.0|           0.0|        0.0|         0.0|            0.0|        0.0|   0.0|       0.0|              0.0|        0.0|           0.0|         0.0|       0.0|                  0.0|         0.0|       3.5|                     0.0|           0.0|     0.0|   0.0|     0.0|           0.0|  0.0|    0.0|      0.0|    0.0|         0.0|       0.0|               0.0|            0.0|   0.0|           0.0|         0.0|  0.0|      0.0|                     0.0|                         0.0|   0.0|    0.0| 3.0|         0.0|               0.0|          0.0|         0.0|      0.0|  0.0|          0.0|  0.0|   0.0|       0.0|                         0.0|           0.0|     0.0|             0.0|                0.0|           0.0|            0.0|         0.0|    0.0| 0.0|      0.0|        0.0| 0.0|             0.0|       0.0|  1.0|       1.0|       0.0|                  0.0|          0.0|              0.0|                  0.0|                       0.0|       0.0|                  0.0|          0.0|                   0.0|    0.0|            0.0|          0.0|         0.0|    0.0|                             0.0|                        0.0|               0.0|             0.0|                0.0|         0.0|             0.0| 0.0|                             0.0|           0.0|      3.0|     0.0|             0.0|  0.0| 0.0| 0.0|\n",
      "|0lbUv-31EVxr8isqk...|       0.0|        0.0|        0.0|           0.0|        0.0|        0.0|                0.0|   0.0|    0.0|     0.0|            0.0|             0.0|     0.0|                 0.0|           0.0|                   2.0|            0.0|            0.0|     0.0|       0.0|       0.0|                0.0|      0.0|    0.0|    0.0|    0.0|      0.0|        0.0|          0.0|        0.0|        0.0|         0.0|          0.0|                 2.0|         0.0|       0.0|           0.0|                0.0|                  0.0|        0.0|       0.0|         0.0|                  0.0|   0.0|     0.0|        0.0|                  0.0|     0.0|    0.0|          0.0| 3.5|            0.0|   0.0|    0.0|          0.0|            0.0| 0.0|     0.0|         0.0|      0.0|       0.0|    0.0|             0.0|     0.0|         0.0|                    0.0|      0.0|       0.0|  0.0|    0.0|                  0.0|          0.0|    0.0|       0.0|  0.0|       0.0|    0.0|   0.0|       0.0|      0.0|               4.0|      0.0|     0.0|   0.0|    0.0|       0.0|    0.0|              0.0|    0.0|                0.0|    0.0|    0.0|  0.0|      0.0|         0.0|      0.0|           4.0|         0.0|             0.0|                  0.0|      0.0|        0.0|       0.0|               0.0|     0.0|               0.0|               0.0|      0.0|            0.0|                0.0|      0.0|    0.0|     0.0|              0.0|           0.0|         0.0|         0.0|         0.0|          0.0|                  0.0|                0.0|    0.0|          0.0|                 0.0|     0.0|   0.0|     0.0|            0.0|          0.0|         0.0|                  0.0|              0.0|                    0.0|      0.0|         0.0|         0.0|        0.0|              0.0|                         0.0|      0.0|        0.0|               0.0|            0.0|            0.0|              0.0|              0.0|                      0.0|                0.0|     0.0|                       0.0|                         0.0|      0.0|  0.0|     0.0|              0.0|         0.0|                   0.0|            0.0|  0.0|            0.0|0.0|               0.0|        0.0|          0.0|       0.0|          0.0|     0.0|         0.0|  0.0|     0.0|              0.0|                          0.0|           0.0|     0.0|    0.0|   4.0|           0.0|           0.0|         0.0|      0.0|                0.0|    0.0|      0.0|        0.0|    0.0|   0.0|            0.0|       0.0|         0.0|                   0.0|      0.0|      0.0|     0.0|        0.0|               0.0|    0.0|                   0.0|         0.0|         0.0|               0.0|            0.0|      0.0|        0.0|           0.0|              0.0|                      0.0|             0.0|            0.0|                0.0|          0.0|    0.0|            0.0|           0.0|    0.0|      0.0|      0.0|     0.0|               0.0|               0.0|         0.0|                  0.0|      0.0|     0.0|             0.0|     0.0|            0.0|   0.0|               5.0|       0.0|                   0.0|        0.0|       0.0|        0.0|      0.0|        0.0|    0.0|   0.0|             0.0|         0.0|               0.0|             0.0|                   0.0|             0.0|                 0.0|         0.0|       3.5|     0.0|   0.0|              0.0|   0.0|       0.0|        0.0|        0.0|           0.0|  0.0|    0.0| 0.0|   0.0|            0.0|         0.0|        0.0|          0.0|    0.0|  0.0|  0.0|     0.0|            0.0| 0.0|     0.0|       0.0|             0.0|           0.0|            0.0|                            0.0|               0.0|          0.0|             0.0|        0.0|          0.0|                    0.0|          0.0|       0.0|             0.0|              0.0|          0.0|         0.0|                 0.0|        0.0|      0.0|    0.0|     0.0|    0.0|              0.0|              0.0|      0.0|                          0.0|    0.0|                      0.0|            0.0|          0.0|   0.0|       0.0|      0.0|            0.0|          0.0|                  0.0|           0.0|                       0.0|      0.0|  0.0|      0.0|    0.0|    0.0|               0.0|         0.0|    0.0|           0.0|                   0.0|                   0.0|    0.0|  0.0|              0.0|           0.0|             0.0|              0.0|   0.0|   0.0|                             0.0|        0.0|    0.0|                    0.0|               0.0|      0.0|           0.0|             0.0|    0.0|          0.0|     0.0|           0.0|            0.0|      0.0|                          0.0|  0.0|     0.0|          0.0|         0.0|           0.0|    0.0|    0.0|     0.0| 0.0|           0.0|      0.0|      0.0|         0.0|    0.0|            0.0|            0.0|           0.0|       0.0|       0.0|            0.0|         0.0|             0.0|               0.0|          0.0|           0.0|    0.0|           5.0|                          0.0|                     0.0|                0.0|          0.0|            0.0|      0.0|     0.0|               0.0|            0.0|   0.0|    0.0|         0.0|          0.0|         0.0|                        0.0|                           0.0|        0.0|             0.0|                  0.0|                   0.0|       0.0|      3.5|    0.0|                  0.0|          0.0|          0.0|            0.0|             0.0|                0.0|           0.0|         0.0|           0.0|          0.0|                   0.0|                     0.0|         0.0|          0.0|             0.0|        0.0|      0.0|      0.0|     0.0|    0.0|  0.0|                   0.0|           0.0|                     0.0|        0.0|                 0.0|       0.0|             0.0|               0.0|          0.0|            0.0|          0.0|             0.0|            0.0|           0.0|              0.0|     0.0|         0.0|         0.0|         0.0|        0.0|       0.0|         0.0| 0.0|     0.0|          0.0|                          0.0|             0.0|       0.0|     0.0|    0.0|  0.0|        0.0|     0.0| 0.0|   0.0|       0.0|         0.0|       0.0|         0.0|        0.0|       0.0|              0.0|                  0.0|                  0.0|                      0.0|       0.0|           0.0|             0.0|                         0.0|                  0.0| 5.0|        0.0|  0.0|        0.0|               0.0|                 0.0|                          0.0|               0.0|        0.0|                    0.0|    0.0|               4.0|    0.0|                0.0|    0.0| 0.0|    0.0|  0.0|       0.0|       0.0|         0.0|     0.0|            0.0|    0.0|            0.0|         0.0|                0.0|                 0.0|            0.0|         0.0|       0.0|        0.0|        0.0|       0.0|        0.0|     0.0|             0.0|               0.0|        0.0|          0.0|      0.0|                0.0|       0.0|         0.0|      0.0| 0.0|          0.0|     0.0|    0.0|        0.0|              0.0|              0.0|              0.0|           0.0|        2.0|         0.0|            0.0|        0.0|   0.0|       0.0|              0.0|        0.0|           0.0|         0.0|       0.0|                  0.0|         0.0|       0.0|                     0.0|           0.0|     0.0|   0.0|     0.0|           0.0|  0.0|    0.0|      0.0|    0.0|         0.0|       0.0|               5.0|            0.0|   0.0|           0.0|         0.0|  0.0|      0.0|                     0.0|                         0.0|   0.0|    0.0| 0.0|         0.0|               0.0|          0.0|         0.0|      0.0|  0.0|          0.0|  0.0|   0.0|       0.0|                         0.0|           0.0|     0.0|             0.0|                0.0|           0.0|            0.0|         0.0|    0.0| 0.0|      0.0|        0.0| 0.0|             0.0|       0.0|  0.0|       0.0|       0.0|                  0.0|          0.0|              0.0|                  0.0|                       0.0|       0.0|                  0.0|          0.0|                   0.0|    0.0|            0.0|          0.0|         0.0|    0.0|                             0.0|                        0.0|               0.0|             0.0|                0.0|         0.0|             0.0| 0.0|                             0.0|           0.0|      0.0|     0.0|             0.0|  0.0| 0.0| 0.0|\n",
      "|12gjGUJYPxDqy21x6...|       0.0|        0.0|        0.0|           0.0|        3.0|        0.0|                0.0|   0.0|    0.0|     0.0|            0.0|             0.0|     0.0|                 0.0|           0.0|                   0.0|            0.0|            0.0|     0.0|       0.0|       0.0|                0.0|      0.0|    0.0|    0.0|    0.0|      0.0|        0.0|          0.0|        0.0|        0.0|         0.0|          0.0|                 5.0|         0.0|       0.0|           0.0|                0.0|                  0.0|        0.0|       0.0|         0.0|                  0.0|   0.0|     0.0|        0.0|                  0.0|     0.0|    0.0|          0.0| 5.0|            0.0|   0.0|    0.0|          0.0|            0.0| 0.0|     0.0|         0.0|      0.0|       0.0|    0.0|             0.0|     0.0|         0.0|                    0.0|      0.0|       0.0|  0.0|    0.0|                  0.0|          0.0|    0.0|       0.0|  0.0|       0.0|    0.0|   0.0|       0.0|      0.0|               0.0|      5.0|     0.0|   0.0|    0.0|       0.0|    0.0|              0.0|    5.0|                0.0|    0.0|    0.0|  0.0|      0.0|         0.0|      0.0|           5.0|         0.0|             0.0|                  0.0|      0.0|        0.0|       0.0|               0.0|     0.0|               0.0|               0.0|      0.0|            0.0|                0.0|      0.0|    0.0|     0.0|              0.0|           0.0|         0.0|         0.0|         0.0|          0.0|                  0.0|                0.0|    0.0|          0.0|                 0.0|     0.0|   0.0|     0.0|            0.0|          0.0|         0.0|                  0.0|              0.0|                    0.0|      0.0|         0.0|         5.0|        0.0|              0.0|                         0.0|      0.0|        0.0|               0.0|            0.0|            0.0|              0.0|              0.0|                      0.0|                0.0|     0.0|                       0.0|                         0.0|      0.0|  0.0|     0.0|              0.0|         0.0|                   0.0|            0.0|  0.0|            0.0|0.0|               0.0|        5.0|          0.0|       0.0|          0.0|     0.0|         0.0|  0.0|     0.0|              0.0|                          0.0|           0.0|     0.0|    0.0|   0.0|           0.0|           0.0|         0.0|      0.0|                0.0|    0.0|      0.0|        0.0|    0.0|   0.0|            0.0|       0.0|         0.0|                   0.0|      0.0|      0.0|     0.0|        0.0|               0.0|    0.0|                   0.0|         0.0|         0.0|               0.0|            0.0|      0.0|        5.0|           0.0|              0.0|                      0.0|             0.0|            0.0|                0.0|          0.0|    0.0|            0.0|           0.0|    0.0|      0.0|      0.0|     0.0|               0.0|               0.0|         0.0|                  3.0|      0.0|     0.0|             0.0|     0.0|            0.0|   0.0|               5.0|       0.0|                   0.0|        0.0|       0.0|        0.0|      0.0|        0.0|    0.0|   0.0|             0.0|         0.0|               0.0|             0.0|                   0.0|             0.0|                 0.0|         0.0|       0.0|     0.0|   0.0|              0.0|   0.0|       0.0|        0.0|        0.0|           0.0|  0.0|    0.0| 3.0|   0.0|            0.0|         0.0|        0.0|          0.0|    0.0|  0.0|  0.0|     0.0|            0.0| 0.0|     0.0|       0.0|             0.0|           0.0|            0.0|                            0.0|               0.0|          0.0|             0.0|        0.0|          0.0|                    0.0|          0.0|       0.0|             0.0|              0.0|          0.0|         0.0|                 0.0|        0.0|      0.0|    0.0|     0.0|    0.0|              0.0|              0.0|      0.0|                          5.0|    0.0|                      0.0|            0.0|          5.0|   0.0|       0.0|      0.0|            0.0|          0.0|                  0.0|           0.0|                       0.0|      0.0|  0.0|      0.0|    0.0|    0.0|               5.0|         0.0|    0.0|           0.0|                   5.0|                   0.0|    0.0|  0.0|              0.0|           0.0|             0.0|              0.0|   0.0|   0.0|                             0.0|        0.0|    0.0|                    0.0|               0.0|      0.0|           0.0|             0.0|    0.0|          0.0|     0.0|           0.0|            0.0|      0.0|                          0.0|  0.0|     0.0|          0.0|         0.0|           5.0|    0.0|    0.0|     0.0| 0.0|           0.0|      0.0|      0.0|         0.0|    0.0|            0.0|            0.0|           0.0|       0.0|       0.0|            0.0|         0.0|             0.0|               0.0|          0.0|           0.0|    0.0|           0.0|                          0.0|                     0.0|                0.0|          0.0|            0.0|      0.0|     0.0|               0.0|            0.0|   0.0|    0.0|         0.0|          0.0|         5.0|                        0.0|                           0.0|        0.0|             0.0|                  0.0|                   0.0|       0.0|      5.0|    0.0|                  0.0|          0.0|          0.0|            0.0|             0.0|                0.0|           0.0|         0.0|           0.0|          0.0|                   0.0|                     0.0|         0.0|          0.0|             0.0|        0.0|      0.0|      0.0|     0.0|    0.0|  0.0|                   0.0|           0.0|                     0.0|        0.0|                 0.0|       0.0|             0.0|               0.0|          0.0|            0.0|          0.0|             0.0|            0.0|           0.0|              0.0|     0.0|         0.0|         0.0|         0.0|        0.0|       0.0|         0.0| 0.0|     0.0|          0.0|                          0.0|             0.0|       0.0|     0.0|    0.0|  0.0|        0.0|     0.0| 0.0|   0.0|       0.0|         0.0|       0.0|         0.0|        0.0|       0.0|              0.0|                  0.0|                  0.0|                      0.0|       0.0|           0.0|             0.0|                         0.0|                  0.0| 5.0|        0.0|  0.0|        0.0|               0.0|                 0.0|                          0.0|               0.0|        0.0|                    0.0|    0.0|               5.0|    0.0|                0.0|    0.0| 0.0|    0.0|  0.0|       0.0|       0.0|         0.0|     0.0|            0.0|    0.0|            0.0|         0.0|                0.0|                 0.0|            0.0|         0.0|       0.0|        0.0|        0.0|       0.0|        0.0|     0.0|             0.0|               0.0|        0.0|          0.0|      0.0|                0.0|       0.0|         0.0|      0.0| 0.0|          0.0|     0.0|    0.0|        0.0|              0.0|              5.0|              0.0|           0.0|        0.0|         1.0|            0.0|        0.0|   0.0|       0.0|              0.0|        0.0|           0.0|         0.0|       0.0|                  0.0|         0.0|       5.0|                     0.0|           0.0|     0.0|   0.0|     0.0|           0.0|  0.0|    0.0|      0.0|    0.0|         0.0|       0.0|               0.0|            0.0|   0.0|           0.0|         0.0|  0.0|      0.0|                     0.0|                         0.0|   0.0|    0.0| 5.0|         0.0|               0.0|          0.0|         0.0|      0.0|  0.0|          0.0|  0.0|   0.0|       0.0|                         0.0|           0.0|     1.0|             0.0|                0.0|           0.0|            0.0|         0.0|    0.0| 0.0|      0.0|        0.0| 0.0|             0.0|       0.0|  0.0|       0.0|       0.0|                  0.0|          0.0|              0.0|                  0.0|                       0.0|       5.0|                  0.0|          0.0|                   0.0|    0.0|            0.0|          0.0|         0.0|    0.0|                             0.0|                        0.0|               0.0|             0.0|                0.0|         0.0|             0.0| 0.0|                             0.0|           0.0|      0.0|     0.0|             0.0|  0.0| 5.0| 0.0|\n",
      "|14fOvgK8-Q4rj9AYd...|       0.0|        0.0|        0.0|           0.0|        0.0|        0.0|                0.0|   0.0|    0.0|     0.0|            0.0|             0.0|     0.0|                 0.0|           4.0|                   3.0|            0.0|            0.0|     0.0|       0.0|       0.0|                0.0|      0.0|    0.0|    0.0|    0.0|      0.0|        0.0|          0.0|        0.0|        0.0|         0.0|          0.0|                 0.0|         4.0|       0.0|           0.0|                0.0|                  0.0|        0.0|       0.0|         0.0|                  0.0|   0.0|     0.0|        0.0|                  0.0|     0.0|    0.0|          0.0| 0.0|            0.0|   0.0|    0.0|          0.0|            0.0| 0.0|     0.0|         0.0|      0.0|       0.0|    4.0|             0.0|     0.0|         0.0|                    0.0|      0.0|       0.0|  0.0|    0.0|                  0.0|          0.0|    0.0|       0.0|  0.0|       0.0|    0.0|   0.0|       0.0|      0.0|               4.0|      0.0|     0.0|   0.0|    0.0|       0.0|    0.0|              0.0|    0.0|                0.0|    0.0|    0.0|  0.0|      0.0|         0.0|      0.0|           0.0|         0.0|             0.0|                  0.0|      0.0|        0.0|       0.0|               0.0|     0.0|               0.0|               0.0|      0.0|            0.0|                0.0|      0.0|    0.0|     0.0|              0.0|           0.0|         0.0|         0.0|         0.0|          0.0|                  0.0|                0.0|    4.0|          0.0|                 0.0|     0.0|   0.0|     0.0|            0.0|          0.0|         0.0|                  0.0|              0.0|                    0.0|      0.0|         0.0|         0.0|        0.0|              0.0|                         0.0|      0.0|        0.0|               0.0|            0.0|            0.0|              0.0|              0.0|                      0.0|                0.0|     0.0|                       0.0|                         0.0|      0.0|  0.0|     0.0|              0.0|         0.0|                   0.0|            0.0|  0.0|            0.0|0.0|               0.0|        0.0|          0.0|       0.0|          0.0|     0.0|         0.0|  0.0|     0.0|              0.0|                          0.0|           0.0|     0.0|    0.0|   0.0|           0.0|           0.0|         0.0|      0.0|                0.0|    0.0|      0.0|        0.0|    0.0|   0.0|            0.0|       0.0|         0.0|                   0.0|      0.0|      0.0|     0.0|        0.0|               0.0|    0.0|                   0.0|         0.0|         0.0|               0.0|            0.0|      0.0|        0.0|           0.0|              0.0|                      0.0|             0.0|            0.0|                0.0|          0.0|    0.0|            0.0|           0.0|    0.0|      0.0|      0.0|     0.0|               0.0|               0.0|         0.0|                  0.0|      0.0|     0.0|             0.0|     0.0|            0.0|   0.0|               0.0|       0.0|                   0.0|        0.0|       0.0|        0.0|      0.0|        0.0|    0.0|   4.0|             0.0|         0.0|               0.0|             0.0|                   0.0|             0.0|                 0.0|         0.0|       0.0|     0.0|   0.0|              0.0|   0.0|       0.0|        0.0|        0.0|           0.0|  0.0|    0.0| 0.0|   0.0|            0.0|         0.0|        0.0|          0.0|    0.0|  0.0|  0.0|     0.0|            0.0| 0.0|     0.0|       0.0|             0.0|           0.0|            0.0|                            0.0|               0.0|          0.0|             0.0|        0.0|          0.0|                    0.0|          0.0|       0.0|             0.0|              0.0|          0.0|         0.0|                 0.0|        0.0|      0.0|    0.0|     0.0|    0.0|              0.0|              0.0|      0.0|                          0.0|    0.0|                      0.0|            0.0|          0.0|   0.0|       0.0|      0.0|            0.0|          0.0|                  0.0|           0.0|                       0.0|      0.0|  0.0|      0.0|    1.0|    0.0|               4.0|         0.0|    0.0|           0.0|                   0.0|                   0.0|    0.0|  0.0|              0.0|           0.0|             0.0|              0.0|   4.0|   0.0|                             0.0|        0.0|    0.0|                    0.0|               0.0|      0.0|           0.0|             0.0|    0.0|          0.0|     0.0|           0.0|            0.0|      0.0|                          0.0|  0.0|     0.0|          0.0|         0.0|           0.0|    0.0|    0.0|     0.0| 0.0|           0.0|      0.0|      0.0|         0.0|    0.0|            0.0|            0.0|           0.0|       0.0|       0.0|            0.0|         0.0|             0.0|               0.0|          0.0|           0.0|    0.0|           0.0|                          0.0|                     0.0|                0.0|          0.0|            0.0|      0.0|     0.0|               0.0|            0.0|   0.0|    0.0|         0.0|          0.0|         0.0|                        0.0|                           0.0|        0.0|             0.0|                  0.0|                   0.0|       0.0|      0.0|    4.0|                  0.0|          0.0|          0.0|            0.0|             0.0|                0.0|           0.0|         0.0|           0.0|          0.0|                   0.0|                     0.0|         0.0|          0.0|             0.0|        0.0|      0.0|      0.0|     0.0|    0.0|  0.0|                   0.0|           0.0|                     0.0|        0.0|                 0.0|       0.0|             0.0|               0.0|          0.0|            0.0|          0.0|             0.0|            0.0|           0.0|              0.0|     0.0|         0.0|         0.0|         0.0|        0.0|       0.0|         0.0| 0.0|     0.0|          0.0|                          0.0|             0.0|       0.0|     0.0|    0.0|  1.0|        0.0|     0.0| 0.0|   0.0|       0.0|         0.0|       0.0|         0.0|        0.0|       0.0|              0.0|                  0.0|                  0.0|                      0.0|       0.0|           0.0|             0.0|                         0.0|                  0.0| 0.0|        0.0|  4.0|        0.0|               0.0|                 0.0|                          0.0|               0.0|        0.0|                    0.0|    0.0|               3.0|    0.0|                0.0|    0.0| 0.0|    0.0|  0.0|       0.0|       0.0|         0.0|     0.0|            0.0|    0.0|            0.0|         0.0|                0.0|                 0.0|            0.0|         0.0|       0.0|        0.0|        0.0|       0.0|        0.0|     0.0|             0.0|               0.0|        0.0|          0.0|      0.0|                0.0|       0.0|         0.0|      0.0| 4.0|          0.0|     0.0|    0.0|        0.0|              0.0|              0.0|              0.0|           0.0|        0.0|         0.0|            0.0|        0.0|   0.0|       0.0|              0.0|        0.0|           0.0|         0.0|       0.0|                  0.0|         0.0|       0.0|                     0.0|           0.0|     0.0|   0.0|     0.0|           0.0|  0.0|    0.0|      0.0|    0.0|         0.0|       0.0|               0.0|            0.0|   0.0|           0.0|         0.0|  0.0|      0.0|                     0.0|                         0.0|   0.0|    0.0| 0.0|         0.0|               0.0|          0.0|         0.0|      0.0|  0.0|          0.0|  0.0|   0.0|       0.0|                         0.0|           0.0|     0.0|             0.0|                0.0|           0.0|            0.0|         0.0|    0.0| 0.0|      0.0|        0.0| 0.0|             0.0|       0.0|  0.0|       0.0|       0.0|                  0.0|          0.0|              0.0|                  0.0|                       0.0|       0.0|                  0.0|          0.0|                   0.0|    0.0|            0.0|          0.0|         0.0|    0.0|                             0.0|                        0.0|               0.0|             0.0|                0.0|         0.0|             0.0| 0.0|                             0.0|           0.0|      0.0|     0.0|             0.0|  0.0| 0.0| 0.0|\n",
      "|1ct65kQwVm6LGElca...|       0.0|        0.0|        0.0|           0.0|        0.0|        0.0|                0.0|   0.0|    0.0|     0.0|            0.0|             0.0|     0.0|                 0.0|           0.0|                   0.0|            0.0|            0.0|     0.0|       0.0|       0.0|                0.0|      0.0|    0.0|    0.0|    0.0|      0.0|        0.0|          0.0|        0.0|        0.0|         0.0|          0.0|                 0.0|         0.0|       0.0|           0.0|                0.0|                  0.0|        0.0|       0.0|         0.0|                  0.0|   0.0|     0.0|        0.0|                  0.0|     0.0|    0.0|          0.0| 0.0|            0.0|   0.0|    0.0|          0.0|            0.0| 0.0|     0.0|         0.0|      0.0|       0.0|    0.0|             0.0|     0.0|         0.0|                    0.0|      0.0|       0.0|  0.0|    0.0|                  0.0|          0.0|    0.0|       0.0|  0.0|       0.0|    0.0|   0.0|       0.0|      0.0|               0.0|      0.0|     0.0|   0.0|    0.0|       0.0|    0.0|              0.0|    0.0|                0.0|    0.0|    0.0|  0.0|      0.0|         0.0|      0.0|           0.0|         0.0|             0.0|                  0.0|      0.0|        0.0|       0.0|               0.0|     0.0|               0.0|               0.0|      0.0|            0.0|                0.0|      0.0|    0.0|     0.0|              0.0|           0.0|         0.0|         0.0|         0.0|          0.0|                  0.0|                0.0|    0.0|          0.0|                 0.0|     0.0|   0.0|     0.0|            0.0|          0.0|         0.0|                  0.0|              0.0|                    0.0|      0.0|         0.0|         0.0|        0.0|              0.0|                         0.0|      0.0|        0.0|               0.0|            0.0|            0.0|              0.0|              0.0|                      0.0|                0.0|     0.0|                       0.0|                         0.0|      0.0|  0.0|     0.0|              0.0|         0.0|                   0.0|            0.0|  0.0|            0.0|0.0|               0.0|        0.0|          0.0|       0.0|          0.0|     0.0|         0.0|  0.0|     0.0|              0.0|                          0.0|           0.0|     0.0|    0.0|   0.0|           0.0|           0.0|         0.0|      0.0|                0.0|    0.0|      0.0|        0.0|    0.0|   0.0|            0.0|       0.0|         0.0|                   0.0|      0.0|      0.0|     0.0|        0.0|               0.0|    0.0|                   0.0|         0.0|         0.0|               0.0|            0.0|      0.0|        0.0|           0.0|              0.0|                      0.0|             0.0|            0.0|                0.0|          0.0|    0.0|            0.0|           0.0|    0.0|      0.0|      0.0|     0.0|               0.0|               0.0|         0.0|                  0.0|      0.0|     0.0|             0.0|     0.0|            0.0|   0.0|               0.0|       0.0|                   0.0|        0.0|       0.0|        0.0|      0.0|        0.0|    0.0|   0.0|             0.0|         0.0|               0.0|             0.0|                   0.0|             0.0|                 0.0|         0.0|       0.0|     0.0|   0.0|              0.0|   0.0|       0.0|        0.0|        0.0|           0.0|  5.0|    0.0| 0.0|   0.0|            0.0|         0.0|        0.0|          0.0|    0.0|  0.0|  0.0|     0.0|            0.0| 0.0|     0.0|       0.0|             0.0|           0.0|            0.0|                            0.0|               0.0|          0.0|             0.0|        0.0|          0.0|                    0.0|          0.0|       0.0|             0.0|              0.0|          0.0|         0.0|                 0.0|        0.0|      0.0|    0.0|     0.0|    0.0|              0.0|              0.0|      0.0|                          0.0|    0.0|                      0.0|            0.0|          0.0|   0.0|       0.0|      0.0|            0.0|          0.0|                  0.0|           0.0|                       0.0|      0.0|  0.0|      0.0|    0.0|    0.0|               0.0|         0.0|    0.0|           0.0|                   0.0|                   0.0|    0.0|  0.0|              0.0|           0.0|             0.0|              0.0|   0.0|   0.0|                             0.0|        0.0|    0.0|                    0.0|               0.0|      0.0|           0.0|             0.0|    0.0|          0.0|     0.0|           0.0|            0.0|      0.0|                          0.0|  0.0|     0.0|          0.0|         0.0|           0.0|    0.0|    0.0|     0.0| 0.0|           0.0|      0.0|      0.0|         0.0|    0.0|            0.0|            0.0|           0.0|       0.0|       0.0|            0.0|         0.0|             0.0|               0.0|          5.0|           0.0|    0.0|           0.0|                          0.0|                     0.0|                0.0|          0.0|            0.0|      0.0|     0.0|               0.0|            0.0|   0.0|    0.0|         0.0|          0.0|         0.0|                        0.0|                           0.0|        0.0|             0.0|                  0.0|                   0.0|       0.0|      0.0|    0.0|                  0.0|          0.0|          0.0|            0.0|             0.0|                0.0|           0.0|         0.0|           0.0|          0.0|                   0.0|                     0.0|         0.0|          0.0|             0.0|        0.0|      0.0|      0.0|     0.0|    0.0|  0.0|                   0.0|           0.0|                     0.0|        0.0|                 0.0|       0.0|             0.0|               0.0|          0.0|            0.0|          0.0|             0.0|            0.0|           0.0|              0.0|     0.0|         0.0|         0.0|         0.0|        0.0|       0.0|         0.0| 0.0|     0.0|          0.0|                          0.0|             0.0|       0.0|     0.0|    0.0|  0.0|        0.0|     0.0| 0.0|   0.0|       0.0|         0.0|       0.0|         0.0|        0.0|       0.0|              0.0|                  0.0|                  0.0|                      0.0|       0.0|           0.0|             0.0|                         0.0|                  0.0| 0.0|        0.0|  0.0|        0.0|               0.0|                 0.0|                          0.0|               0.0|        0.0|                    0.0|    0.0|               5.0|    0.0|                0.0|    0.0| 0.0|    0.0|  0.0|       0.0|       0.0|         0.0|     0.0|            0.0|    0.0|            0.0|         0.0|                0.0|                 0.0|            0.0|         0.0|       0.0|        0.0|        0.0|       0.0|        0.0|     0.0|             0.0|               0.0|        0.0|          0.0|      0.0|                0.0|       0.0|         0.0|      0.0| 0.0|          0.0|     0.0|    0.0|        0.0|              0.0|              0.0|              0.0|           0.0|        0.0|         0.0|            0.0|        0.0|   0.0|       0.0|              0.0|        0.0|           0.0|         0.0|       0.0|                  0.0|         0.0|       0.0|                     0.0|           0.0|     0.0|   0.0|     0.0|           0.0|  0.0|    0.0|      0.0|    0.0|         0.0|       0.0|               0.0|            0.0|   0.0|           0.0|         0.0|  0.0|      0.0|                     0.0|                         0.0|   0.0|    0.0| 0.0|         0.0|               0.0|          0.0|         0.0|      0.0|  0.0|          0.0|  0.0|   0.0|       0.0|                         0.0|           0.0|     0.0|             0.0|                0.0|           0.0|            0.0|         0.0|    0.0| 0.0|      0.0|        0.0| 0.0|             0.0|       0.0|  0.0|       0.0|       0.0|                  0.0|          0.0|              0.0|                  0.0|                       0.0|       0.0|                  0.0|          0.0|                   0.0|    0.0|            0.0|          0.0|         0.0|    0.0|                             0.0|                        0.0|               0.0|             0.0|                0.0|         0.0|             0.0| 0.0|                             0.0|           0.0|      0.0|     0.0|             0.0|  0.0| 0.0| 0.0|\n",
      "|1jkVJxzuqWrKBbNa9...|       0.0|        0.0|        0.0|           0.0|        0.0|        0.0|                0.0|   0.0|    0.0|     0.0|            0.0|             0.0|     0.0|                 0.0|           0.0|                   0.0|            0.0|            0.0|     0.0|       0.0|       0.0|                0.0|      0.0|    0.0|    0.0|    0.0|      0.0|        0.0|          0.0|        0.0|        0.0|         0.0|          0.0|                 0.0|         0.0|       0.0|           0.0|                0.0|                  0.0|        0.0|       0.0|         0.0|                  0.0|   0.0|     0.0|        0.0|                  0.0|     0.0|    0.0|          0.0| 0.0|            0.0|   0.0|    0.0|          0.0|            0.0| 0.0|     0.0|         0.0|      0.0|       0.0|    0.0|             0.0|     0.0|         0.0|                    0.0|      0.0|       0.0|  0.0|    0.0|                  0.0|          0.0|    0.0|       0.0|  0.0|       0.0|    0.0|   0.0|       0.0|      0.0|               4.0|      0.0|     0.0|   0.0|    0.0|       0.0|    0.0|              0.0|    0.0|                0.0|    0.0|    0.0|  0.0|      0.0|         0.0|      0.0|           0.0|         0.0|             0.0|                  0.0|      0.0|        0.0|       0.0|               0.0|     0.0|               0.0|               0.0|      0.0|            0.0|                0.0|      0.0|    0.0|     0.0|              0.0|           0.0|         0.0|         0.0|         0.0|          0.0|                  0.0|                0.0|    0.0|          0.0|                 0.0|     0.0|   0.0|     0.0|            0.0|          0.0|         4.0|                  0.0|              0.0|                    0.0|      0.0|         0.0|         0.0|        0.0|              0.0|                         0.0|      0.0|        0.0|               0.0|            0.0|            0.0|              0.0|              0.0|                      0.0|                0.0|     0.0|                       0.0|                         0.0|      0.0|  0.0|     0.0|              0.0|         0.0|                   0.0|            0.0|  0.0|            0.0|0.0|               0.0|        0.0|          0.0|       0.0|          0.0|     0.0|         0.0|  0.0|     0.0|              0.0|                          0.0|           0.0|     3.5|    0.0|   0.0|           0.0|           0.0|         0.0|      0.0|                0.0|    0.0|      0.0|        0.0|    0.0|   0.0|            0.0|       0.0|         0.0|                   0.0|      0.0|      0.0|     0.0|        0.0|               0.0|    0.0|                   0.0|         0.0|         0.0|               0.0|            0.0|      0.0|        0.0|           0.0|              0.0|                      0.0|             0.0|            0.0|                0.0|          0.0|    0.0|            0.0|           0.0|    0.0|      0.0|      0.0|     0.0|               0.0|               0.0|         0.0|                  0.0|      0.0|     0.0|             0.0|     0.0|            0.0|   0.0|               3.5|       0.0|                   0.0|        0.0|       0.0|        0.0|      0.0|        0.0|    0.0|   0.0|             0.0|         0.0|               0.0|             0.0|                   0.0|             0.0|                 0.0|         0.0|       0.0|     0.0|   0.0|              0.0|   0.0|       0.0|        0.0|        0.0|           0.0|  0.0|    0.0| 0.0|   0.0|            0.0|         0.0|        0.0|          0.0|    0.0|  0.0|  0.0|     0.0|            0.0| 0.0|     0.0|       0.0|             0.0|           0.0|            0.0|                            0.0|               0.0|          0.0|             0.0|        0.0|          0.0|                    0.0|          0.0|       0.0|             0.0|              0.0|          0.0|         0.0|                 0.0|        0.0|      0.0|    0.0|     0.0|    0.0|              0.0|              0.0|      0.0|                          0.0|    0.0|                      3.5|            0.0|          0.0|   0.0|       0.0|      0.0|            0.0|          0.0|                  0.0|           0.0|                       0.0|      0.0|  0.0|      0.0|    4.5|    0.0|               0.0|         0.0|    0.0|           0.0|                   0.0|                   0.0|    0.0|  0.0|              0.0|           0.0|             0.0|              0.0|   0.0|   0.0|                             0.0|        0.0|    0.0|                    0.0|               0.0|      0.0|           0.0|             0.0|    0.0|          0.0|     0.0|           0.0|            0.0|      0.0|                          0.0|  0.0|     0.0|          0.0|         0.0|           0.0|    0.0|    0.0|     0.0| 0.0|           0.0|      0.0|      0.0|         0.0|    0.0|            0.0|            0.0|           0.0|       0.0|       0.0|            0.0|         0.0|             0.0|               0.0|          0.0|           0.0|    0.0|           0.0|                          0.0|                     0.0|                0.0|          0.0|            0.0|      0.0|     0.0|               0.0|            0.0|   0.0|    0.0|         0.0|          0.0|         0.0|                        0.0|                           0.0|        0.0|             0.0|                  0.0|                   0.0|       0.0|      0.0|    0.0|                  0.0|          0.0|          0.0|            0.0|             0.0|                0.0|           0.0|         0.0|           0.0|          0.0|                   0.0|                     0.0|         0.0|          0.0|             0.0|        0.0|      0.0|      0.0|     4.0|    0.0|  0.0|                   0.0|           0.0|                     0.0|        0.0|                 0.0|       0.0|             0.0|               0.0|          0.0|            0.0|          0.0|             0.0|            0.0|           0.0|              0.0|     0.0|         0.0|         0.0|         0.0|        0.0|       0.0|         0.0| 0.0|     0.0|          0.0|                          0.0|             0.0|       0.0|     0.0|    0.0|  5.0|        0.0|     0.0| 0.0|   0.0|       0.0|         0.0|       0.0|         0.0|        0.0|       0.0|              0.0|                  0.0|                  0.0|                      0.0|       0.0|           0.0|             0.0|                         0.0|                  0.0| 0.0|        0.0|  0.0|        0.0|               0.0|                 0.0|                          0.0|               0.0|        0.0|                    0.0|    0.0| 4.333333333333333|    0.0|                0.0|    0.0| 0.0|    0.0|  0.0|       0.0|       5.0|         0.0|     0.0|            0.0|    0.0|            0.0|         0.0|                0.0|                 0.0|            0.0|         0.0|       0.0|        0.0|        0.0|       0.0|        0.0|     0.0|             0.0|               0.0|        0.0|          0.0|      0.0|                0.0|       0.0|         0.0|      0.0| 0.0|          0.0|     0.0|    0.0|        0.0|              0.0|              3.0|              0.0|           0.0|        0.0|         0.0|            0.0|        0.0|   0.0|       0.0|              0.0|        0.0|           0.0|         0.0|       0.0|                  0.0|         0.0|       0.0|                     0.0|           0.0|     0.0|   0.0|     0.0|           0.0|  0.0|    0.0|      0.0|    0.0|         0.0|       0.0|               0.0|            0.0|   0.0|           0.0|         0.0|  0.0|      0.0|                     0.0|                         0.0|   0.0|    0.0| 0.0|         0.0|               0.0|          0.0|         0.0|      0.0|  0.0|          0.0|  0.0|   0.0|       0.0|                         0.0|           0.0|     0.0|             0.0|                0.0|           0.0|            0.0|         0.0|    0.0| 0.0|      0.0|        0.0| 0.0|             0.0|       0.0|  0.0|       0.0|       0.0|                  0.0|          0.0|              0.0|                  0.0|                       0.0|       0.0|                  0.0|          0.0|                   0.0|    0.0|            0.0|          0.0|         0.0|    0.0|                             0.0|                        0.0|               0.0|             0.0|                0.0|         0.0|             0.0| 0.0|                             0.0|           0.0|      0.0|     0.0|             0.0|  0.0| 0.0| 0.0|\n",
      "+--------------------+----------+-----------+-----------+--------------+-----------+-----------+-------------------+------+-------+--------+---------------+----------------+--------+--------------------+--------------+----------------------+---------------+---------------+--------+----------+----------+-------------------+---------+-------+-------+-------+---------+-----------+-------------+-----------+-----------+------------+-------------+--------------------+------------+----------+--------------+-------------------+---------------------+-----------+----------+------------+---------------------+------+--------+-----------+---------------------+--------+-------+-------------+----+---------------+------+-------+-------------+---------------+----+--------+------------+---------+----------+-------+----------------+--------+------------+-----------------------+---------+----------+-----+-------+---------------------+-------------+-------+----------+-----+----------+-------+------+----------+---------+------------------+---------+--------+------+-------+----------+-------+-----------------+-------+-------------------+-------+-------+-----+---------+------------+---------+--------------+------------+----------------+---------------------+---------+-----------+----------+------------------+--------+------------------+------------------+---------+---------------+-------------------+---------+-------+--------+-----------------+--------------+------------+------------+------------+-------------+---------------------+-------------------+-------+-------------+--------------------+--------+------+--------+---------------+-------------+------------+---------------------+-----------------+-----------------------+---------+------------+------------+-----------+-----------------+----------------------------+---------+-----------+------------------+---------------+---------------+-----------------+-----------------+-------------------------+-------------------+--------+--------------------------+----------------------------+---------+-----+--------+-----------------+------------+----------------------+---------------+-----+---------------+---+------------------+-----------+-------------+----------+-------------+--------+------------+-----+--------+-----------------+-----------------------------+--------------+--------+-------+------+--------------+--------------+------------+---------+-------------------+-------+---------+-----------+-------+------+---------------+----------+------------+----------------------+---------+---------+--------+-----------+------------------+-------+----------------------+------------+------------+------------------+---------------+---------+-----------+--------------+-----------------+-------------------------+----------------+---------------+-------------------+-------------+-------+---------------+--------------+-------+---------+---------+--------+------------------+------------------+------------+---------------------+---------+--------+----------------+--------+---------------+------+------------------+----------+----------------------+-----------+----------+-----------+---------+-----------+-------+------+----------------+------------+------------------+----------------+----------------------+----------------+--------------------+------------+----------+--------+------+-----------------+------+----------+-----------+-----------+--------------+-----+-------+----+------+---------------+------------+-----------+-------------+-------+-----+-----+--------+---------------+----+--------+----------+----------------+--------------+---------------+-------------------------------+------------------+-------------+----------------+-----------+-------------+-----------------------+-------------+----------+----------------+-----------------+-------------+------------+--------------------+-----------+---------+-------+--------+-------+-----------------+-----------------+---------+-----------------------------+-------+-------------------------+---------------+-------------+------+----------+---------+---------------+-------------+---------------------+--------------+--------------------------+---------+-----+---------+-------+-------+------------------+------------+-------+--------------+----------------------+----------------------+-------+-----+-----------------+--------------+----------------+-----------------+------+------+--------------------------------+-----------+-------+-----------------------+------------------+---------+--------------+----------------+-------+-------------+--------+--------------+---------------+---------+-----------------------------+-----+--------+-------------+------------+--------------+-------+-------+--------+----+--------------+---------+---------+------------+-------+---------------+---------------+--------------+----------+----------+---------------+------------+----------------+------------------+-------------+--------------+-------+--------------+-----------------------------+------------------------+-------------------+-------------+---------------+---------+--------+------------------+---------------+------+-------+------------+-------------+------------+---------------------------+------------------------------+-----------+----------------+---------------------+----------------------+----------+---------+-------+---------------------+-------------+-------------+---------------+----------------+-------------------+--------------+------------+--------------+-------------+----------------------+------------------------+------------+-------------+----------------+-----------+---------+---------+--------+-------+-----+----------------------+--------------+------------------------+-----------+--------------------+----------+----------------+------------------+-------------+---------------+-------------+----------------+---------------+--------------+-----------------+--------+------------+------------+------------+-----------+----------+------------+----+--------+-------------+-----------------------------+----------------+----------+--------+-------+-----+-----------+--------+----+------+----------+------------+----------+------------+-----------+----------+-----------------+---------------------+---------------------+-------------------------+----------+--------------+----------------+----------------------------+---------------------+----+-----------+-----+-----------+------------------+--------------------+-----------------------------+------------------+-----------+-----------------------+-------+------------------+-------+-------------------+-------+----+-------+-----+----------+----------+------------+--------+---------------+-------+---------------+------------+-------------------+--------------------+---------------+------------+----------+-----------+-----------+----------+-----------+--------+----------------+------------------+-----------+-------------+---------+-------------------+----------+------------+---------+----+-------------+--------+-------+-----------+-----------------+-----------------+-----------------+--------------+-----------+------------+---------------+-----------+------+----------+-----------------+-----------+--------------+------------+----------+---------------------+------------+----------+------------------------+--------------+--------+------+--------+--------------+-----+-------+---------+-------+------------+----------+------------------+---------------+------+--------------+------------+-----+---------+------------------------+----------------------------+------+-------+----+------------+------------------+-------------+------------+---------+-----+-------------+-----+------+----------+----------------------------+--------------+--------+----------------+-------------------+--------------+---------------+------------+-------+----+---------+-----------+----+----------------+----------+-----+----------+----------+---------------------+-------------+-----------------+---------------------+--------------------------+----------+---------------------+-------------+----------------------+-------+---------------+-------------+------------+-------+--------------------------------+---------------------------+------------------+----------------+-------------------+------------+----------------+----+--------------------------------+--------------+---------+--------+----------------+-----+----+----+\n",
      "only showing top 20 rows\n",
      "\n"
     ]
    }
   ],
   "source": [
    "dist4.show()"
   ]
  },
  {
   "cell_type": "code",
   "execution_count": 134,
   "metadata": {
    "execution": {
     "iopub.execute_input": "2020-06-28T22:04:48.671039Z",
     "iopub.status.busy": "2020-06-28T22:04:48.670763Z",
     "iopub.status.idle": "2020-06-28T22:05:36.332685Z",
     "shell.execute_reply": "2020-06-28T22:05:36.331494Z",
     "shell.execute_reply.started": "2020-06-28T22:04:48.671013Z"
    }
   },
   "outputs": [],
   "source": [
    "dist4.write \\\n",
    "    .format('csv') \\\n",
    "    .mode('overwrite') \\\n",
    "    .option('sep', ',') \\\n",
    "    .option('header', True) \\\n",
    "    .save('output/yelp_dist.csv')"
   ]
  }
 ],
 "metadata": {
  "kernelspec": {
   "display_name": "Python 3",
   "language": "python",
   "name": "python3"
  },
  "language_info": {
   "codemirror_mode": {
    "name": "ipython",
    "version": 3
   },
   "file_extension": ".py",
   "mimetype": "text/x-python",
   "name": "python",
   "nbconvert_exporter": "python",
   "pygments_lexer": "ipython3",
   "version": "3.7.7"
  },
  "toc": {
   "base_numbering": 1,
   "nav_menu": {},
   "number_sections": true,
   "sideBar": true,
   "skip_h1_title": false,
   "title_cell": "Table of Contents",
   "title_sidebar": "Contents",
   "toc_cell": false,
   "toc_position": {},
   "toc_section_display": true,
   "toc_window_display": false
  },
  "toc-autonumbering": true,
  "toc-showcode": true
 },
 "nbformat": 4,
 "nbformat_minor": 4
}
