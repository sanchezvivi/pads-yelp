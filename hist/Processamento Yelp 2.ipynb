{
 "cells": [
  {
   "cell_type": "markdown",
   "metadata": {},
   "source": [
    "# Atividade Integradora\n",
    "\n",
    "## Criando Ambiente Spark"
   ]
  },
  {
   "cell_type": "code",
   "execution_count": 6,
   "metadata": {
    "ExecuteTime": {
     "end_time": "2020-07-04T20:58:55.919285Z",
     "start_time": "2020-07-04T20:58:55.751760Z"
    },
    "execution": {
     "iopub.execute_input": "2020-07-04T13:28:25.345123Z",
     "iopub.status.busy": "2020-07-04T13:28:25.344827Z",
     "iopub.status.idle": "2020-07-04T13:28:25.865162Z",
     "shell.execute_reply": "2020-07-04T13:28:25.864097Z",
     "shell.execute_reply.started": "2020-07-04T13:28:25.345094Z"
    }
   },
   "outputs": [],
   "source": [
    "# import findspark as fs\n",
    "from pyspark.sql import SparkSession"
   ]
  },
  {
   "cell_type": "code",
   "execution_count": 7,
   "metadata": {
    "ExecuteTime": {
     "end_time": "2020-07-04T20:58:59.689452Z",
     "start_time": "2020-07-04T20:58:58.535852Z"
    },
    "execution": {
     "iopub.execute_input": "2020-07-04T13:28:27.627776Z",
     "iopub.status.busy": "2020-07-04T13:28:27.627414Z",
     "iopub.status.idle": "2020-07-04T13:28:28.810122Z",
     "shell.execute_reply": "2020-07-04T13:28:28.809433Z",
     "shell.execute_reply.started": "2020-07-04T13:28:27.627745Z"
    }
   },
   "outputs": [],
   "source": [
    "from pyspark.sql import SparkSession\n",
    "from pyspark.sql.types import *\n",
    "from pyspark.sql import functions as f\n",
    "from pyspark.sql.window import Window\n",
    "from pyspark.ml.feature import StopWordsRemover\n",
    "import pandas as pd\n",
    "import seaborn as sns\n",
    "sns.set(style=\"ticks\", palette=\"pastel\")\n",
    "import os\n",
    "from wordcloud import WordCloud, ImageColorGenerator\n",
    "import matplotlib.pyplot as plt\n",
    "%matplotlib inline"
   ]
  },
  {
   "cell_type": "code",
   "execution_count": 3,
   "metadata": {
    "ExecuteTime": {
     "end_time": "2020-07-04T14:25:48.570849Z",
     "start_time": "2020-07-04T14:25:48.566860Z"
    },
    "execution": {
     "iopub.execute_input": "2020-07-04T13:28:29.902560Z",
     "iopub.status.busy": "2020-07-04T13:28:29.902277Z",
     "iopub.status.idle": "2020-07-04T13:28:29.910366Z",
     "shell.execute_reply": "2020-07-04T13:28:29.909661Z",
     "shell.execute_reply.started": "2020-07-04T13:28:29.902534Z"
    }
   },
   "outputs": [],
   "source": [
    "# MAC Local (Viviane)\n",
    "# spark_location='/Users/vivi/server/spark' # Set your own\n",
    "# java8_location= '/Library/Java/JavaVirtualMachines/jdk1.8.0_251.jdk/Contents/Home/' # Set your own\n",
    "# os.environ['JAVA_HOME'] = java8_location\n",
    "# fs.init(spark_home=spark_location)"
   ]
  },
  {
   "cell_type": "code",
   "execution_count": 8,
   "metadata": {
    "ExecuteTime": {
     "end_time": "2020-07-04T20:59:01.139528Z",
     "start_time": "2020-07-04T20:59:01.136536Z"
    },
    "execution": {
     "iopub.execute_input": "2020-07-04T13:28:30.444672Z",
     "iopub.status.busy": "2020-07-04T13:28:30.444378Z",
     "iopub.status.idle": "2020-07-04T13:28:30.447815Z",
     "shell.execute_reply": "2020-07-04T13:28:30.447141Z",
     "shell.execute_reply.started": "2020-07-04T13:28:30.444645Z"
    }
   },
   "outputs": [],
   "source": [
    "datapath = 'C:\\\\Users\\\\RuWindows\\\\Desktop\\\\PI\\\\yelp_dataset\\\\'\n",
    "#datapath = '../data/yelp' "
   ]
  },
  {
   "cell_type": "code",
   "execution_count": 9,
   "metadata": {
    "ExecuteTime": {
     "end_time": "2020-07-04T20:59:02.229461Z",
     "start_time": "2020-07-04T20:59:02.223477Z"
    },
    "execution": {
     "iopub.execute_input": "2020-07-04T13:28:31.020652Z",
     "iopub.status.busy": "2020-07-04T13:28:31.020356Z",
     "iopub.status.idle": "2020-07-04T13:28:31.024399Z",
     "shell.execute_reply": "2020-07-04T13:28:31.023406Z",
     "shell.execute_reply.started": "2020-07-04T13:28:31.020623Z"
    }
   },
   "outputs": [
    {
     "data": {
      "text/plain": [
       "['yelp_academic_dataset_business.json',\n",
       " 'yelp_academic_dataset_checkin.json',\n",
       " 'yelp_academic_dataset_review.json',\n",
       " 'yelp_academic_dataset_tip.json',\n",
       " 'yelp_academic_dataset_user.json']"
      ]
     },
     "execution_count": 9,
     "metadata": {},
     "output_type": "execute_result"
    }
   ],
   "source": [
    "files = sorted(os.listdir(datapath))\n",
    "files"
   ]
  },
  {
   "cell_type": "code",
   "execution_count": 10,
   "metadata": {
    "ExecuteTime": {
     "end_time": "2020-07-04T20:59:03.460129Z",
     "start_time": "2020-07-04T20:59:03.456438Z"
    },
    "execution": {
     "iopub.execute_input": "2020-07-04T13:28:31.395006Z",
     "iopub.status.busy": "2020-07-04T13:28:31.394636Z",
     "iopub.status.idle": "2020-07-04T13:28:31.400948Z",
     "shell.execute_reply": "2020-07-04T13:28:31.400222Z",
     "shell.execute_reply.started": "2020-07-04T13:28:31.394974Z"
    },
    "scrolled": true
   },
   "outputs": [],
   "source": [
    "#!head data/yelp_academic_dataset_review.json"
   ]
  },
  {
   "cell_type": "code",
   "execution_count": 11,
   "metadata": {
    "ExecuteTime": {
     "end_time": "2020-07-04T20:59:14.141784Z",
     "start_time": "2020-07-04T20:59:05.287948Z"
    },
    "execution": {
     "iopub.execute_input": "2020-07-04T13:28:34.273920Z",
     "iopub.status.busy": "2020-07-04T13:28:34.273606Z",
     "iopub.status.idle": "2020-07-04T13:28:38.265823Z",
     "shell.execute_reply": "2020-07-04T13:28:38.265215Z",
     "shell.execute_reply.started": "2020-07-04T13:28:34.273892Z"
    }
   },
   "outputs": [],
   "source": [
    "# Spark Session\n",
    "spark = SparkSession.builder \\\n",
    "    .master('local[*]') \\\n",
    "    .appName('Integradora Yelp') \\\n",
    "    .config(\"spark.ui.port\", \"4060\") \\\n",
    "    .getOrCreate()"
   ]
  },
  {
   "cell_type": "code",
   "execution_count": 12,
   "metadata": {
    "ExecuteTime": {
     "end_time": "2020-07-04T20:59:14.150732Z",
     "start_time": "2020-07-04T20:59:14.142752Z"
    }
   },
   "outputs": [
    {
     "data": {
      "text/html": [
       "\n",
       "            <div>\n",
       "                <p><b>SparkSession - in-memory</b></p>\n",
       "                \n",
       "        <div>\n",
       "            <p><b>SparkContext</b></p>\n",
       "\n",
       "            <p><a href=\"http://RuWindows:4060\">Spark UI</a></p>\n",
       "\n",
       "            <dl>\n",
       "              <dt>Version</dt>\n",
       "                <dd><code>v2.4.5</code></dd>\n",
       "              <dt>Master</dt>\n",
       "                <dd><code>local[*]</code></dd>\n",
       "              <dt>AppName</dt>\n",
       "                <dd><code>Integradora Yelp</code></dd>\n",
       "            </dl>\n",
       "        </div>\n",
       "        \n",
       "            </div>\n",
       "        "
      ],
      "text/plain": [
       "<pyspark.sql.session.SparkSession at 0x24747727dc8>"
      ]
     },
     "execution_count": 12,
     "metadata": {},
     "output_type": "execute_result"
    }
   ],
   "source": [
    "spark"
   ]
  },
  {
   "cell_type": "markdown",
   "metadata": {
    "ExecuteTime": {
     "end_time": "2020-07-03T00:07:54.527787Z",
     "start_time": "2020-07-03T00:07:49.079182Z"
    }
   },
   "source": [
    "spark = SparkSession.builder \\\n",
    "            .master('local[8]') \\\n",
    "            .appName('Yelp Integradora') \\\n",
    "            .getOrCreate()"
   ]
  },
  {
   "cell_type": "code",
   "execution_count": 15,
   "metadata": {
    "ExecuteTime": {
     "end_time": "2020-07-04T20:59:14.164695Z",
     "start_time": "2020-07-04T20:59:14.161703Z"
    },
    "execution": {
     "iopub.execute_input": "2020-07-04T13:28:38.267914Z",
     "iopub.status.busy": "2020-07-04T13:28:38.267194Z",
     "iopub.status.idle": "2020-07-04T13:28:38.271704Z",
     "shell.execute_reply": "2020-07-04T13:28:38.270954Z",
     "shell.execute_reply.started": "2020-07-04T13:28:38.267832Z"
    }
   },
   "outputs": [],
   "source": [
    "sc = spark.sparkContext"
   ]
  },
  {
   "cell_type": "code",
   "execution_count": 16,
   "metadata": {
    "ExecuteTime": {
     "end_time": "2020-07-04T20:59:14.173670Z",
     "start_time": "2020-07-04T20:59:14.165691Z"
    },
    "execution": {
     "iopub.execute_input": "2020-07-04T13:28:38.273471Z",
     "iopub.status.busy": "2020-07-04T13:28:38.273267Z",
     "iopub.status.idle": "2020-07-04T13:28:38.281358Z",
     "shell.execute_reply": "2020-07-04T13:28:38.280763Z",
     "shell.execute_reply.started": "2020-07-04T13:28:38.273450Z"
    }
   },
   "outputs": [
    {
     "data": {
      "text/html": [
       "\n",
       "            <div>\n",
       "                <p><b>SparkSession - in-memory</b></p>\n",
       "                \n",
       "        <div>\n",
       "            <p><b>SparkContext</b></p>\n",
       "\n",
       "            <p><a href=\"http://RuWindows:4060\">Spark UI</a></p>\n",
       "\n",
       "            <dl>\n",
       "              <dt>Version</dt>\n",
       "                <dd><code>v2.4.5</code></dd>\n",
       "              <dt>Master</dt>\n",
       "                <dd><code>local[*]</code></dd>\n",
       "              <dt>AppName</dt>\n",
       "                <dd><code>Integradora Yelp</code></dd>\n",
       "            </dl>\n",
       "        </div>\n",
       "        \n",
       "            </div>\n",
       "        "
      ],
      "text/plain": [
       "<pyspark.sql.session.SparkSession at 0x24747727dc8>"
      ]
     },
     "execution_count": 16,
     "metadata": {},
     "output_type": "execute_result"
    }
   ],
   "source": [
    "spark#.stop()"
   ]
  },
  {
   "cell_type": "markdown",
   "metadata": {},
   "source": [
    "## Importando as Bases Origem - Raw"
   ]
  },
  {
   "cell_type": "code",
   "execution_count": 17,
   "metadata": {
    "ExecuteTime": {
     "end_time": "2020-07-04T21:00:04.033567Z",
     "start_time": "2020-07-04T20:59:17.113215Z"
    },
    "execution": {
     "iopub.execute_input": "2020-07-04T13:28:41.523553Z",
     "iopub.status.busy": "2020-07-04T13:28:41.523256Z",
     "iopub.status.idle": "2020-07-04T13:28:48.711672Z",
     "shell.execute_reply": "2020-07-04T13:28:48.710960Z",
     "shell.execute_reply.started": "2020-07-04T13:28:41.523525Z"
    }
   },
   "outputs": [],
   "source": [
    "usr_raw = spark.read.json(datapath+'/yelp_academic_dataset_user.json')\n",
    "rv_raw = spark.read.json(datapath+'/yelp_academic_dataset_review.json')\n",
    "bz_raw = spark.read.json(datapath+'/yelp_academic_dataset_business.json')\n",
    "tp_raw = spark.read.json(datapath+'/yelp_academic_dataset_tip.json')\n",
    "\n",
    "bz_raw.createOrReplaceTempView('bz')\n",
    "rv_raw.createOrReplaceTempView('rv')\n",
    "usr_raw.createOrReplaceTempView('usr')\n",
    "tp_raw.createOrReplaceTempView('tp')"
   ]
  },
  {
   "cell_type": "code",
   "execution_count": 18,
   "metadata": {
    "ExecuteTime": {
     "end_time": "2020-07-04T21:00:04.048527Z",
     "start_time": "2020-07-04T21:00:04.034564Z"
    },
    "execution": {
     "iopub.execute_input": "2020-07-04T13:28:57.776304Z",
     "iopub.status.busy": "2020-07-04T13:28:57.775997Z",
     "iopub.status.idle": "2020-07-04T13:28:57.805727Z",
     "shell.execute_reply": "2020-07-04T13:28:57.804914Z",
     "shell.execute_reply.started": "2020-07-04T13:28:57.776276Z"
    }
   },
   "outputs": [
    {
     "name": "stdout",
     "output_type": "stream",
     "text": [
      "root\n",
      " |-- address: string (nullable = true)\n",
      " |-- attributes: struct (nullable = true)\n",
      " |    |-- AcceptsInsurance: string (nullable = true)\n",
      " |    |-- AgesAllowed: string (nullable = true)\n",
      " |    |-- Alcohol: string (nullable = true)\n",
      " |    |-- Ambience: string (nullable = true)\n",
      " |    |-- BYOB: string (nullable = true)\n",
      " |    |-- BYOBCorkage: string (nullable = true)\n",
      " |    |-- BestNights: string (nullable = true)\n",
      " |    |-- BikeParking: string (nullable = true)\n",
      " |    |-- BusinessAcceptsBitcoin: string (nullable = true)\n",
      " |    |-- BusinessAcceptsCreditCards: string (nullable = true)\n",
      " |    |-- BusinessParking: string (nullable = true)\n",
      " |    |-- ByAppointmentOnly: string (nullable = true)\n",
      " |    |-- Caters: string (nullable = true)\n",
      " |    |-- CoatCheck: string (nullable = true)\n",
      " |    |-- Corkage: string (nullable = true)\n",
      " |    |-- DietaryRestrictions: string (nullable = true)\n",
      " |    |-- DogsAllowed: string (nullable = true)\n",
      " |    |-- DriveThru: string (nullable = true)\n",
      " |    |-- GoodForDancing: string (nullable = true)\n",
      " |    |-- GoodForKids: string (nullable = true)\n",
      " |    |-- GoodForMeal: string (nullable = true)\n",
      " |    |-- HairSpecializesIn: string (nullable = true)\n",
      " |    |-- HappyHour: string (nullable = true)\n",
      " |    |-- HasTV: string (nullable = true)\n",
      " |    |-- Music: string (nullable = true)\n",
      " |    |-- NoiseLevel: string (nullable = true)\n",
      " |    |-- Open24Hours: string (nullable = true)\n",
      " |    |-- OutdoorSeating: string (nullable = true)\n",
      " |    |-- RestaurantsAttire: string (nullable = true)\n",
      " |    |-- RestaurantsCounterService: string (nullable = true)\n",
      " |    |-- RestaurantsDelivery: string (nullable = true)\n",
      " |    |-- RestaurantsGoodForGroups: string (nullable = true)\n",
      " |    |-- RestaurantsPriceRange2: string (nullable = true)\n",
      " |    |-- RestaurantsReservations: string (nullable = true)\n",
      " |    |-- RestaurantsTableService: string (nullable = true)\n",
      " |    |-- RestaurantsTakeOut: string (nullable = true)\n",
      " |    |-- Smoking: string (nullable = true)\n",
      " |    |-- WheelchairAccessible: string (nullable = true)\n",
      " |    |-- WiFi: string (nullable = true)\n",
      " |-- business_id: string (nullable = true)\n",
      " |-- categories: string (nullable = true)\n",
      " |-- city: string (nullable = true)\n",
      " |-- hours: struct (nullable = true)\n",
      " |    |-- Friday: string (nullable = true)\n",
      " |    |-- Monday: string (nullable = true)\n",
      " |    |-- Saturday: string (nullable = true)\n",
      " |    |-- Sunday: string (nullable = true)\n",
      " |    |-- Thursday: string (nullable = true)\n",
      " |    |-- Tuesday: string (nullable = true)\n",
      " |    |-- Wednesday: string (nullable = true)\n",
      " |-- is_open: long (nullable = true)\n",
      " |-- latitude: double (nullable = true)\n",
      " |-- longitude: double (nullable = true)\n",
      " |-- name: string (nullable = true)\n",
      " |-- postal_code: string (nullable = true)\n",
      " |-- review_count: long (nullable = true)\n",
      " |-- stars: double (nullable = true)\n",
      " |-- state: string (nullable = true)\n",
      "\n"
     ]
    }
   ],
   "source": [
    "# Visualizando Estrutura\n",
    "bz_raw.printSchema()"
   ]
  },
  {
   "cell_type": "code",
   "execution_count": 19,
   "metadata": {
    "ExecuteTime": {
     "end_time": "2020-07-04T21:00:04.565771Z",
     "start_time": "2020-07-04T21:00:04.049524Z"
    },
    "execution": {
     "iopub.execute_input": "2020-07-04T13:29:03.821718Z",
     "iopub.status.busy": "2020-07-04T13:29:03.821422Z",
     "iopub.status.idle": "2020-07-04T13:29:04.202641Z",
     "shell.execute_reply": "2020-07-04T13:29:04.201965Z",
     "shell.execute_reply.started": "2020-07-04T13:29:03.821690Z"
    }
   },
   "outputs": [
    {
     "name": "stdout",
     "output_type": "stream",
     "text": [
      "[Table(name='bz', database=None, description=None, tableType='TEMPORARY', isTemporary=True), Table(name='rv', database=None, description=None, tableType='TEMPORARY', isTemporary=True), Table(name='tp', database=None, description=None, tableType='TEMPORARY', isTemporary=True), Table(name='usr', database=None, description=None, tableType='TEMPORARY', isTemporary=True)]\n"
     ]
    }
   ],
   "source": [
    "# Verificando o SQL\n",
    "print(spark.catalog.listTables())"
   ]
  },
  {
   "cell_type": "code",
   "execution_count": 20,
   "metadata": {
    "ExecuteTime": {
     "end_time": "2020-07-04T21:00:04.569759Z",
     "start_time": "2020-07-04T21:00:04.566768Z"
    },
    "execution": {
     "iopub.execute_input": "2020-07-04T13:29:04.436235Z",
     "iopub.status.busy": "2020-07-04T13:29:04.435907Z",
     "iopub.status.idle": "2020-07-04T13:29:04.465576Z",
     "shell.execute_reply": "2020-07-04T13:29:04.464893Z",
     "shell.execute_reply.started": "2020-07-04T13:29:04.436206Z"
    }
   },
   "outputs": [],
   "source": [
    "# bz_raw.columns"
   ]
  },
  {
   "cell_type": "code",
   "execution_count": 21,
   "metadata": {
    "ExecuteTime": {
     "end_time": "2020-07-04T21:00:04.574746Z",
     "start_time": "2020-07-04T21:00:04.570756Z"
    },
    "execution": {
     "iopub.execute_input": "2020-07-04T13:29:04.783314Z",
     "iopub.status.busy": "2020-07-04T13:29:04.783017Z",
     "iopub.status.idle": "2020-07-04T13:29:04.789624Z",
     "shell.execute_reply": "2020-07-04T13:29:04.788903Z",
     "shell.execute_reply.started": "2020-07-04T13:29:04.783286Z"
    }
   },
   "outputs": [],
   "source": [
    "# usr_raw.columns"
   ]
  },
  {
   "cell_type": "code",
   "execution_count": 22,
   "metadata": {
    "ExecuteTime": {
     "end_time": "2020-07-04T21:00:04.580730Z",
     "start_time": "2020-07-04T21:00:04.575743Z"
    },
    "execution": {
     "iopub.execute_input": "2020-07-04T13:29:05.084148Z",
     "iopub.status.busy": "2020-07-04T13:29:05.083865Z",
     "iopub.status.idle": "2020-07-04T13:29:05.089338Z",
     "shell.execute_reply": "2020-07-04T13:29:05.088622Z",
     "shell.execute_reply.started": "2020-07-04T13:29:05.084121Z"
    }
   },
   "outputs": [],
   "source": [
    "# rv_raw.columns"
   ]
  },
  {
   "cell_type": "code",
   "execution_count": 23,
   "metadata": {
    "ExecuteTime": {
     "end_time": "2020-07-04T21:00:04.584720Z",
     "start_time": "2020-07-04T21:00:04.581729Z"
    },
    "execution": {
     "iopub.execute_input": "2020-07-04T13:29:05.493182Z",
     "iopub.status.busy": "2020-07-04T13:29:05.492896Z",
     "iopub.status.idle": "2020-07-04T13:29:05.499618Z",
     "shell.execute_reply": "2020-07-04T13:29:05.498885Z",
     "shell.execute_reply.started": "2020-07-04T13:29:05.493155Z"
    }
   },
   "outputs": [],
   "source": [
    "# tp_raw.columns"
   ]
  },
  {
   "cell_type": "markdown",
   "metadata": {},
   "source": [
    "# Base Business"
   ]
  },
  {
   "cell_type": "code",
   "execution_count": 29,
   "metadata": {
    "ExecuteTime": {
     "end_time": "2020-07-04T21:08:56.589029Z",
     "start_time": "2020-07-04T21:08:56.161112Z"
    }
   },
   "outputs": [
    {
     "name": "stdout",
     "output_type": "stream",
     "text": [
      "root\n",
      " |-- address: string (nullable = true)\n",
      " |-- business_id: string (nullable = true)\n",
      " |-- categories: string (nullable = true)\n",
      " |-- city: string (nullable = true)\n",
      " |-- is_open: long (nullable = true)\n",
      " |-- latitude: double (nullable = true)\n",
      " |-- longitude: double (nullable = true)\n",
      " |-- name: string (nullable = true)\n",
      " |-- postal_code: string (nullable = true)\n",
      " |-- review_count: long (nullable = true)\n",
      " |-- stars: double (nullable = true)\n",
      " |-- state: string (nullable = true)\n",
      " |-- Friday: string (nullable = true)\n",
      " |-- Monday: string (nullable = true)\n",
      " |-- Saturday: string (nullable = true)\n",
      " |-- Sunday: string (nullable = true)\n",
      " |-- Thursday: string (nullable = true)\n",
      " |-- Tuesday: string (nullable = true)\n",
      " |-- Wednesday: string (nullable = true)\n",
      " |-- AcceptsInsurance: string (nullable = true)\n",
      " |-- AgesAllowed: string (nullable = true)\n",
      " |-- Alcohol: string (nullable = true)\n",
      " |-- Ambience: string (nullable = true)\n",
      " |-- BYOB: string (nullable = true)\n",
      " |-- BYOBCorkage: string (nullable = true)\n",
      " |-- BestNights: string (nullable = true)\n",
      " |-- BikeParking: string (nullable = true)\n",
      " |-- BusinessAcceptsBitcoin: string (nullable = true)\n",
      " |-- BusinessAcceptsCreditCards: string (nullable = true)\n",
      " |-- BusinessParking: string (nullable = true)\n",
      " |-- ByAppointmentOnly: string (nullable = true)\n",
      " |-- Caters: string (nullable = true)\n",
      " |-- CoatCheck: string (nullable = true)\n",
      " |-- Corkage: string (nullable = true)\n",
      " |-- DietaryRestrictions: string (nullable = true)\n",
      " |-- DogsAllowed: string (nullable = true)\n",
      " |-- DriveThru: string (nullable = true)\n",
      " |-- GoodForDancing: string (nullable = true)\n",
      " |-- GoodForKids: string (nullable = true)\n",
      " |-- GoodForMeal: string (nullable = true)\n",
      " |-- HairSpecializesIn: string (nullable = true)\n",
      " |-- HappyHour: string (nullable = true)\n",
      " |-- HasTV: string (nullable = true)\n",
      " |-- Music: string (nullable = true)\n",
      " |-- NoiseLevel: string (nullable = true)\n",
      " |-- Open24Hours: string (nullable = true)\n",
      " |-- OutdoorSeating: string (nullable = true)\n",
      " |-- RestaurantsAttire: string (nullable = true)\n",
      " |-- RestaurantsCounterService: string (nullable = true)\n",
      " |-- RestaurantsDelivery: string (nullable = true)\n",
      " |-- RestaurantsGoodForGroups: string (nullable = true)\n",
      " |-- RestaurantsPriceRange2: string (nullable = true)\n",
      " |-- RestaurantsReservations: string (nullable = true)\n",
      " |-- RestaurantsTableService: string (nullable = true)\n",
      " |-- RestaurantsTakeOut: string (nullable = true)\n",
      " |-- Smoking: string (nullable = true)\n",
      " |-- WheelchairAccessible: string (nullable = true)\n",
      " |-- WiFi: string (nullable = true)\n",
      "\n"
     ]
    }
   ],
   "source": [
    "# Abertura dos atributos para colunas\n",
    "dfs = []\n",
    "\n",
    "for x in [\"hours\", \"attributes\"]:\n",
    "    cols = bz_raw.select(f\"{x}.*\").columns\n",
    "    for col in cols:\n",
    "        try:\n",
    "            dfs.append(dfs[-1].withColumn(col, f.col(f\"{x}.{col}\")))\n",
    "        except IndexError:\n",
    "            dfs.append(bz_raw.withColumn(col, f.col(f\"{x}.{col}\")))\n",
    "            \n",
    "df_final = dfs[-1].drop(\"hours\", \"attributes\")\n",
    "    \n",
    "df_final.createOrReplaceTempView(\"df_final\")\n",
    "df_final.printSchema()"
   ]
  },
  {
   "cell_type": "markdown",
   "metadata": {},
   "source": [
    "##### Road Map\n",
    "* bz: \n",
    "       - tratar atributos - selecionar os que fazem sentido e transforar true ou false para dummy\n",
    "       - rodar um k-means na base () "
   ]
  },
  {
   "cell_type": "code",
   "execution_count": null,
   "metadata": {},
   "outputs": [],
   "source": []
  },
  {
   "cell_type": "markdown",
   "metadata": {},
   "source": [
    "# Criando Base Única Principal"
   ]
  },
  {
   "cell_type": "markdown",
   "metadata": {},
   "source": [
    "## Unificando as Bases para contrução dos Modelos - \"Joins\""
   ]
  },
  {
   "cell_type": "markdown",
   "metadata": {},
   "source": [
    "Juntando as informações de reviews, estabelecimentos da cidade escolhidas e usuários que frequentam esses estabelecimentos."
   ]
  },
  {
   "cell_type": "markdown",
   "metadata": {
    "ExecuteTime": {
     "end_time": "2020-07-03T00:14:16.192509Z",
     "start_time": "2020-07-03T00:14:16.190000Z"
    }
   },
   "source": [
    "### Reviews + Business"
   ]
  },
  {
   "cell_type": "code",
   "execution_count": 25,
   "metadata": {
    "ExecuteTime": {
     "end_time": "2020-07-04T14:26:39.065222Z",
     "start_time": "2020-07-04T14:26:38.939531Z"
    },
    "execution": {
     "iopub.execute_input": "2020-07-04T13:38:50.167299Z",
     "iopub.status.busy": "2020-07-04T13:38:50.167014Z",
     "iopub.status.idle": "2020-07-04T13:38:50.183185Z",
     "shell.execute_reply": "2020-07-04T13:38:50.182490Z",
     "shell.execute_reply.started": "2020-07-04T13:38:50.167272Z"
    }
   },
   "outputs": [],
   "source": [
    "base = spark.sql(\"\"\"\n",
    "       SELECT A.business_id,\n",
    "        A.cool AS cool_rv,\n",
    "        A.date AS date_rv,\n",
    "        A.funny AS funny_rv,\n",
    "        A.review_id,\n",
    "        A.stars AS stars_rv,\n",
    "        A.text AS text_rv,\n",
    "        A.useful AS useful_rv,\n",
    "        A.user_id,        \n",
    "        \n",
    "        B.address AS address_bz,\n",
    "        B.categories AS categories_bz,\n",
    "        B.city AS city_bz,\n",
    "        B.hours AS hours_bz,\n",
    "        B.is_open AS is_open_bz,\n",
    "        B.latitude AS latitude_bz,\n",
    "        B.longitude AS longitude_bz,\n",
    "        B.name AS name_bz,\n",
    "        B.postal_code AS postal_code_bz,\n",
    "        B.review_count AS review_count_bz,\n",
    "        B.stars AS stars_bz,\n",
    "        B.state AS state_bz\n",
    " \n",
    "        FROM rv as A \n",
    "        LEFT JOIN bz as B\n",
    "        ON A.business_id = B.business_id\n",
    "        \n",
    "        WHERE B.city = 'Toronto'\n",
    "        AND B.state = 'ON'\n",
    "        AND B.review_count > 20\n",
    "        AND (B.categories like '%Restaurant%' OR B.categories like '%Food%')\n",
    "        \"\"\")"
   ]
  },
  {
   "cell_type": "code",
   "execution_count": 26,
   "metadata": {
    "ExecuteTime": {
     "end_time": "2020-07-04T14:26:39.069185Z",
     "start_time": "2020-07-04T14:26:39.066192Z"
    },
    "execution": {
     "iopub.execute_input": "2020-07-04T13:35:26.786674Z",
     "iopub.status.busy": "2020-07-04T13:35:26.786385Z",
     "iopub.status.idle": "2020-07-04T13:35:48.766266Z",
     "shell.execute_reply": "2020-07-04T13:35:48.765486Z",
     "shell.execute_reply.started": "2020-07-04T13:35:26.786647Z"
    }
   },
   "outputs": [],
   "source": [
    "# base.show(5)"
   ]
  },
  {
   "cell_type": "code",
   "execution_count": 27,
   "metadata": {
    "ExecuteTime": {
     "end_time": "2020-07-04T14:26:39.094117Z",
     "start_time": "2020-07-04T14:26:39.070181Z"
    },
    "execution": {
     "iopub.execute_input": "2020-07-04T13:38:53.289342Z",
     "iopub.status.busy": "2020-07-04T13:38:53.289051Z",
     "iopub.status.idle": "2020-07-04T13:38:53.300260Z",
     "shell.execute_reply": "2020-07-04T13:38:53.299505Z",
     "shell.execute_reply.started": "2020-07-04T13:38:53.289314Z"
    }
   },
   "outputs": [],
   "source": [
    "base.createOrReplaceTempView('base')"
   ]
  },
  {
   "cell_type": "markdown",
   "metadata": {},
   "source": [
    "- Contagem da quantidade de linhas para garantir que a integridade do dataset ser mantém ao longo do processamento."
   ]
  },
  {
   "cell_type": "code",
   "execution_count": 28,
   "metadata": {
    "ExecuteTime": {
     "end_time": "2020-07-04T14:26:39.098107Z",
     "start_time": "2020-07-04T14:26:39.095115Z"
    },
    "execution": {
     "iopub.execute_input": "2020-07-04T13:35:48.781659Z",
     "iopub.status.busy": "2020-07-04T13:35:48.781398Z",
     "iopub.status.idle": "2020-07-04T13:35:53.533812Z",
     "shell.execute_reply": "2020-07-04T13:35:53.533206Z",
     "shell.execute_reply.started": "2020-07-04T13:35:48.781633Z"
    }
   },
   "outputs": [],
   "source": [
    "#linhas na base de reviews + business\n",
    "# spark.sql('''\n",
    "#             SELECT Count(*)\n",
    "#             FROM base\n",
    "#             ''').show()"
   ]
  },
  {
   "cell_type": "markdown",
   "metadata": {},
   "source": [
    "### (Reviews + Business) + Users"
   ]
  },
  {
   "cell_type": "code",
   "execution_count": 29,
   "metadata": {
    "ExecuteTime": {
     "end_time": "2020-07-04T14:26:39.129024Z",
     "start_time": "2020-07-04T14:26:39.099104Z"
    },
    "execution": {
     "iopub.execute_input": "2020-07-04T13:39:07.154534Z",
     "iopub.status.busy": "2020-07-04T13:39:07.154249Z",
     "iopub.status.idle": "2020-07-04T13:39:07.171316Z",
     "shell.execute_reply": "2020-07-04T13:39:07.170587Z",
     "shell.execute_reply.started": "2020-07-04T13:39:07.154507Z"
    }
   },
   "outputs": [],
   "source": [
    "base1 = spark.sql(\"\"\"\n",
    "        SELECT A.*,\n",
    "        B.average_stars AS stars_usr,\n",
    "        B.compliment_cool AS compliment_cool_usr,\n",
    "        B.compliment_cute AS compliment_cute_usr,\n",
    "        B.compliment_funny AS compliment_funny_usr,\n",
    "        B.compliment_hot AS compliment_hot_usr,\n",
    "        B.compliment_list AS compliment_list_usr,\n",
    "        B.compliment_more AS compliment_more_usr,\n",
    "        B.compliment_note AS compliment_note_usr,\n",
    "        B.compliment_photos AS compliment_photos_usr,\n",
    "        B.compliment_plain AS compliment_plain_usr,\n",
    "        B.compliment_profile AS compliment_profile_usr,\n",
    "        B.compliment_writer AS compliment_writer_usr,\n",
    "        B.cool AS cool_usr,\n",
    "        B.elite AS elite_usr,\n",
    "        B.fans AS fans_usr,\n",
    "        B.friends AS friends_usr,\n",
    "        B.funny AS funny_usr,\n",
    "        B.name AS name_usr,\n",
    "        B.review_count AS review_count_usr,\n",
    "        B.useful AS useful_usr,\n",
    "        B.yelping_since AS yelping_since_usr\n",
    "\n",
    "        FROM base as A LEFT JOIN usr as B\n",
    "        \n",
    "        ON A.user_id = B.user_id \n",
    "        \n",
    "        \"\"\")"
   ]
  },
  {
   "cell_type": "code",
   "execution_count": 30,
   "metadata": {
    "ExecuteTime": {
     "end_time": "2020-07-04T14:26:39.157946Z",
     "start_time": "2020-07-04T14:26:39.130021Z"
    },
    "execution": {
     "iopub.execute_input": "2020-07-04T13:39:08.841572Z",
     "iopub.status.busy": "2020-07-04T13:39:08.841208Z",
     "iopub.status.idle": "2020-07-04T13:39:08.854478Z",
     "shell.execute_reply": "2020-07-04T13:39:08.853744Z",
     "shell.execute_reply.started": "2020-07-04T13:39:08.841539Z"
    }
   },
   "outputs": [],
   "source": [
    "base1.createOrReplaceTempView('base1')"
   ]
  },
  {
   "cell_type": "code",
   "execution_count": 31,
   "metadata": {
    "ExecuteTime": {
     "end_time": "2020-07-04T14:26:39.161936Z",
     "start_time": "2020-07-04T14:26:39.158944Z"
    },
    "execution": {
     "iopub.execute_input": "2020-07-04T13:37:34.233624Z",
     "iopub.status.busy": "2020-07-04T13:37:34.233330Z",
     "iopub.status.idle": "2020-07-04T13:37:44.918461Z",
     "shell.execute_reply": "2020-07-04T13:37:44.917614Z",
     "shell.execute_reply.started": "2020-07-04T13:37:34.233596Z"
    }
   },
   "outputs": [],
   "source": [
    "#linhas na base de reviews + business + users\n",
    "# spark.sql('''\n",
    "#             SELECT Count(*)\n",
    "#             FROM base1\n",
    "#             ''').show()"
   ]
  },
  {
   "cell_type": "code",
   "execution_count": 32,
   "metadata": {
    "ExecuteTime": {
     "end_time": "2020-07-04T14:26:39.219697Z",
     "start_time": "2020-07-04T14:26:39.162934Z"
    },
    "execution": {
     "iopub.execute_input": "2020-07-04T13:39:21.076870Z",
     "iopub.status.busy": "2020-07-04T13:39:21.076583Z",
     "iopub.status.idle": "2020-07-04T13:39:21.087499Z",
     "shell.execute_reply": "2020-07-04T13:39:21.086698Z",
     "shell.execute_reply.started": "2020-07-04T13:39:21.076843Z"
    }
   },
   "outputs": [],
   "source": [
    "aux = spark.sql('''\n",
    "            SELECT user_id, city_bz, yelping_since_usr,\n",
    "            COUNT(review_id) AS city_review_counter_usr,\n",
    "            review_count_usr\n",
    "            \n",
    "            FROM base1\n",
    "            \n",
    "            GROUP BY user_id, review_count_usr, city_bz, yelping_since_usr\n",
    "            ORDER BY city_review_counter_usr DESC        \n",
    "            \n",
    "            ''')"
   ]
  },
  {
   "cell_type": "code",
   "execution_count": 33,
   "metadata": {
    "ExecuteTime": {
     "end_time": "2020-07-04T14:26:39.248620Z",
     "start_time": "2020-07-04T14:26:39.220695Z"
    },
    "execution": {
     "iopub.execute_input": "2020-07-04T13:39:22.971038Z",
     "iopub.status.busy": "2020-07-04T13:39:22.970747Z",
     "iopub.status.idle": "2020-07-04T13:39:22.985009Z",
     "shell.execute_reply": "2020-07-04T13:39:22.984134Z",
     "shell.execute_reply.started": "2020-07-04T13:39:22.971010Z"
    }
   },
   "outputs": [],
   "source": [
    "aux.createOrReplaceTempView('aux')"
   ]
  },
  {
   "cell_type": "code",
   "execution_count": 34,
   "metadata": {
    "ExecuteTime": {
     "end_time": "2020-07-04T14:26:39.252610Z",
     "start_time": "2020-07-04T14:26:39.249618Z"
    },
    "execution": {
     "iopub.execute_input": "2020-07-04T13:39:25.119102Z",
     "iopub.status.busy": "2020-07-04T13:39:25.118770Z",
     "iopub.status.idle": "2020-07-04T13:39:36.645407Z",
     "shell.execute_reply": "2020-07-04T13:39:36.644707Z",
     "shell.execute_reply.started": "2020-07-04T13:39:25.119070Z"
    }
   },
   "outputs": [],
   "source": [
    "# aux.show()"
   ]
  },
  {
   "cell_type": "markdown",
   "metadata": {},
   "source": [
    "Aparentemente os usuários fazem reviews em estabelecimentos não só em Toronto. Para incluir essa informação no modelo, será criada uma variável com a relação entre as quantidade de reviews do usuário na cidade pela quantidade total de reviews do usuário."
   ]
  },
  {
   "cell_type": "markdown",
   "metadata": {},
   "source": [
    "- Média de reviews por usuário na cidade e total"
   ]
  },
  {
   "cell_type": "code",
   "execution_count": 35,
   "metadata": {
    "ExecuteTime": {
     "end_time": "2020-07-04T14:26:39.256599Z",
     "start_time": "2020-07-04T14:26:39.253607Z"
    },
    "execution": {
     "iopub.execute_input": "2020-07-04T13:39:36.647555Z",
     "iopub.status.busy": "2020-07-04T13:39:36.647270Z",
     "iopub.status.idle": "2020-07-04T13:39:48.680360Z",
     "shell.execute_reply": "2020-07-04T13:39:48.679658Z",
     "shell.execute_reply.started": "2020-07-04T13:39:36.647527Z"
    }
   },
   "outputs": [],
   "source": [
    "# spark.sql('''\n",
    "#             SELECT AVG(city_review_counter_usr), \n",
    "#              AVG(review_count_usr)\n",
    "            \n",
    "#             FROM aux       \n",
    "            \n",
    "#             ''').show()"
   ]
  },
  {
   "cell_type": "markdown",
   "metadata": {},
   "source": [
    "- Remoção de usuários com apenas 1 review na cidade"
   ]
  },
  {
   "cell_type": "code",
   "execution_count": 36,
   "metadata": {
    "ExecuteTime": {
     "end_time": "2020-07-04T14:26:39.388755Z",
     "start_time": "2020-07-04T14:26:39.257597Z"
    },
    "execution": {
     "iopub.execute_input": "2020-07-04T13:40:35.944180Z",
     "iopub.status.busy": "2020-07-04T13:40:35.943902Z",
     "iopub.status.idle": "2020-07-04T13:40:36.017903Z",
     "shell.execute_reply": "2020-07-04T13:40:36.017159Z",
     "shell.execute_reply.started": "2020-07-04T13:40:35.944154Z"
    }
   },
   "outputs": [],
   "source": [
    "base2 = spark.sql('''\n",
    "            SELECT A.*,\n",
    "            B.city_review_counter_usr,\n",
    "            (B.city_review_counter_usr/B.review_count_usr) AS city_review_ratio_usr\n",
    "            \n",
    "            FROM base1 as A\n",
    "            \n",
    "            LEFT JOIN aux as B\n",
    "            ON A.user_id = B.user_id\n",
    "            \n",
    "            WHERE B.city_review_counter_usr > 1\n",
    "            \n",
    "            ''')"
   ]
  },
  {
   "cell_type": "code",
   "execution_count": 37,
   "metadata": {
    "ExecuteTime": {
     "end_time": "2020-07-04T14:26:39.426654Z",
     "start_time": "2020-07-04T14:26:39.389753Z"
    },
    "execution": {
     "iopub.execute_input": "2020-07-04T13:40:38.225130Z",
     "iopub.status.busy": "2020-07-04T13:40:38.224842Z",
     "iopub.status.idle": "2020-07-04T13:40:38.246296Z",
     "shell.execute_reply": "2020-07-04T13:40:38.245580Z",
     "shell.execute_reply.started": "2020-07-04T13:40:38.225103Z"
    }
   },
   "outputs": [],
   "source": [
    "base2.createOrReplaceTempView('base2')"
   ]
  },
  {
   "cell_type": "code",
   "execution_count": 38,
   "metadata": {
    "ExecuteTime": {
     "end_time": "2020-07-04T14:26:39.430644Z",
     "start_time": "2020-07-04T14:26:39.427651Z"
    },
    "execution": {
     "iopub.execute_input": "2020-07-04T13:40:39.458159Z",
     "iopub.status.busy": "2020-07-04T13:40:39.457861Z",
     "iopub.status.idle": "2020-07-04T13:41:02.800239Z",
     "shell.execute_reply": "2020-07-04T13:41:02.799644Z",
     "shell.execute_reply.started": "2020-07-04T13:40:39.458131Z"
    }
   },
   "outputs": [],
   "source": [
    "#linhas na base de reviews + business + users\n",
    "# spark.sql('''\n",
    "#             SELECT Count(*)\n",
    "#             FROM base2\n",
    "#             ''').show()"
   ]
  },
  {
   "cell_type": "markdown",
   "metadata": {},
   "source": [
    "- Classificação das avaliações em Boa (1 - maior do que 4) e Ruim ou inexistente (0 - menor do que 4)."
   ]
  },
  {
   "cell_type": "code",
   "execution_count": 39,
   "metadata": {
    "ExecuteTime": {
     "end_time": "2020-07-04T14:26:39.463555Z",
     "start_time": "2020-07-04T14:26:39.431641Z"
    },
    "execution": {
     "iopub.execute_input": "2020-07-04T13:41:02.801809Z",
     "iopub.status.busy": "2020-07-04T13:41:02.801459Z",
     "iopub.status.idle": "2020-07-04T13:41:02.831606Z",
     "shell.execute_reply": "2020-07-04T13:41:02.830662Z",
     "shell.execute_reply.started": "2020-07-04T13:41:02.801780Z"
    }
   },
   "outputs": [],
   "source": [
    "base3 = spark.sql(\"\"\"\n",
    "        SELECT *,\n",
    "        (CASE WHEN stars_rv >=4 THEN 1 ELSE 0 END) as class_rv,\n",
    "        (CASE WHEN stars_bz >=4 THEN 1 ELSE 0 END) as class_bz,\n",
    "        (CASE WHEN stars_usr >=4 THEN 1 ELSE 0 END) as class_usr\n",
    "        \n",
    "        FROM base2\n",
    "        \n",
    "        \"\"\")"
   ]
  },
  {
   "cell_type": "code",
   "execution_count": 40,
   "metadata": {
    "ExecuteTime": {
     "end_time": "2020-07-04T14:26:39.471535Z",
     "start_time": "2020-07-04T14:26:39.464553Z"
    },
    "execution": {
     "iopub.execute_input": "2020-07-04T13:41:04.353756Z",
     "iopub.status.busy": "2020-07-04T13:41:04.353443Z",
     "iopub.status.idle": "2020-07-04T13:41:04.360015Z",
     "shell.execute_reply": "2020-07-04T13:41:04.359260Z",
     "shell.execute_reply.started": "2020-07-04T13:41:04.353727Z"
    }
   },
   "outputs": [
    {
     "data": {
      "text/plain": [
       "['business_id',\n",
       " 'cool_rv',\n",
       " 'date_rv',\n",
       " 'funny_rv',\n",
       " 'review_id',\n",
       " 'stars_rv',\n",
       " 'text_rv',\n",
       " 'useful_rv',\n",
       " 'user_id',\n",
       " 'address_bz',\n",
       " 'categories_bz',\n",
       " 'city_bz',\n",
       " 'hours_bz',\n",
       " 'is_open_bz',\n",
       " 'latitude_bz',\n",
       " 'longitude_bz',\n",
       " 'name_bz',\n",
       " 'postal_code_bz',\n",
       " 'review_count_bz',\n",
       " 'stars_bz',\n",
       " 'state_bz',\n",
       " 'stars_usr',\n",
       " 'compliment_cool_usr',\n",
       " 'compliment_cute_usr',\n",
       " 'compliment_funny_usr',\n",
       " 'compliment_hot_usr',\n",
       " 'compliment_list_usr',\n",
       " 'compliment_more_usr',\n",
       " 'compliment_note_usr',\n",
       " 'compliment_photos_usr',\n",
       " 'compliment_plain_usr',\n",
       " 'compliment_profile_usr',\n",
       " 'compliment_writer_usr',\n",
       " 'cool_usr',\n",
       " 'elite_usr',\n",
       " 'fans_usr',\n",
       " 'friends_usr',\n",
       " 'funny_usr',\n",
       " 'name_usr',\n",
       " 'review_count_usr',\n",
       " 'useful_usr',\n",
       " 'yelping_since_usr',\n",
       " 'city_review_counter_usr',\n",
       " 'city_review_ratio_usr',\n",
       " 'class_rv',\n",
       " 'class_bz',\n",
       " 'class_usr']"
      ]
     },
     "execution_count": 40,
     "metadata": {},
     "output_type": "execute_result"
    }
   ],
   "source": [
    "base3.columns"
   ]
  },
  {
   "cell_type": "code",
   "execution_count": 41,
   "metadata": {
    "ExecuteTime": {
     "end_time": "2020-07-04T14:26:39.515419Z",
     "start_time": "2020-07-04T14:26:39.472533Z"
    },
    "execution": {
     "iopub.execute_input": "2020-07-04T13:41:09.727168Z",
     "iopub.status.busy": "2020-07-04T13:41:09.726875Z",
     "iopub.status.idle": "2020-07-04T13:41:09.750887Z",
     "shell.execute_reply": "2020-07-04T13:41:09.750146Z",
     "shell.execute_reply.started": "2020-07-04T13:41:09.727140Z"
    }
   },
   "outputs": [],
   "source": [
    "base3.createOrReplaceTempView('base3')"
   ]
  },
  {
   "cell_type": "code",
   "execution_count": 42,
   "metadata": {
    "ExecuteTime": {
     "end_time": "2020-07-04T14:26:39.519170Z",
     "start_time": "2020-07-04T14:26:39.516419Z"
    },
    "execution": {
     "iopub.execute_input": "2020-07-04T13:41:10.137134Z",
     "iopub.status.busy": "2020-07-04T13:41:10.136852Z",
     "iopub.status.idle": "2020-07-04T13:41:33.591307Z",
     "shell.execute_reply": "2020-07-04T13:41:33.590688Z",
     "shell.execute_reply.started": "2020-07-04T13:41:10.137107Z"
    }
   },
   "outputs": [],
   "source": [
    "# spark.sql('''\n",
    "#             SELECT Count(*)\n",
    "#             FROM base3\n",
    "#             ''').show()"
   ]
  },
  {
   "cell_type": "markdown",
   "metadata": {
    "ExecuteTime": {
     "end_time": "2020-07-03T00:29:17.240267Z",
     "start_time": "2020-07-03T00:29:17.228674Z"
    }
   },
   "source": [
    "###   ((Reviews + Business) + Users ) + Tips"
   ]
  },
  {
   "cell_type": "code",
   "execution_count": 43,
   "metadata": {
    "ExecuteTime": {
     "end_time": "2020-07-04T14:26:39.523159Z",
     "start_time": "2020-07-04T14:26:39.520167Z"
    },
    "execution": {
     "iopub.execute_input": "2020-07-04T13:41:34.521277Z",
     "iopub.status.busy": "2020-07-04T13:41:34.520994Z",
     "iopub.status.idle": "2020-07-04T13:41:36.611125Z",
     "shell.execute_reply": "2020-07-04T13:41:36.609914Z",
     "shell.execute_reply.started": "2020-07-04T13:41:34.521250Z"
    }
   },
   "outputs": [],
   "source": [
    "# spark.sql('''\n",
    "#             SELECT business_id, user_id, \n",
    "#             count(text) AS tips_counter,\n",
    "#             sum(compliment_count) as total_compliments\n",
    "            \n",
    "#             FROM tp\n",
    "            \n",
    "#             GROUP BY business_id, user_id\n",
    "#             ORDER BY total_compliments DESC\n",
    "#             ''').show()"
   ]
  },
  {
   "cell_type": "code",
   "execution_count": 44,
   "metadata": {
    "ExecuteTime": {
     "end_time": "2020-07-04T14:26:39.555073Z",
     "start_time": "2020-07-04T14:26:39.524156Z"
    },
    "execution": {
     "iopub.execute_input": "2020-07-04T13:41:48.388620Z",
     "iopub.status.busy": "2020-07-04T13:41:48.388339Z",
     "iopub.status.idle": "2020-07-04T13:41:48.418621Z",
     "shell.execute_reply": "2020-07-04T13:41:48.417856Z",
     "shell.execute_reply.started": "2020-07-04T13:41:48.388593Z"
    }
   },
   "outputs": [],
   "source": [
    "base4 = spark.sql('''\n",
    "            SELECT A.*,\n",
    "            IFNULL(B.compliment_count,0) AS compliment_count_tip,\n",
    "            IFNULL(B.text,'') AS tip\n",
    "            \n",
    "            FROM base3 as A\n",
    "            \n",
    "            LEFT JOIN tp as B\n",
    "            ON (A.user_id = B.user_id AND A.business_id = B.business_id)\n",
    "            \n",
    "            ''')"
   ]
  },
  {
   "cell_type": "code",
   "execution_count": 45,
   "metadata": {
    "ExecuteTime": {
     "end_time": "2020-07-04T14:26:39.559064Z",
     "start_time": "2020-07-04T14:26:39.556071Z"
    },
    "execution": {
     "iopub.execute_input": "2020-07-04T13:41:51.850555Z",
     "iopub.status.busy": "2020-07-04T13:41:51.850248Z",
     "iopub.status.idle": "2020-07-04T13:42:23.209431Z",
     "shell.execute_reply": "2020-07-04T13:42:23.208556Z",
     "shell.execute_reply.started": "2020-07-04T13:41:51.850526Z"
    }
   },
   "outputs": [],
   "source": [
    "# base4.select('business_id', 'user_id','tip','compliment_count_tip').show()"
   ]
  },
  {
   "cell_type": "code",
   "execution_count": 46,
   "metadata": {
    "ExecuteTime": {
     "end_time": "2020-07-04T14:26:39.563053Z",
     "start_time": "2020-07-04T14:26:39.560061Z"
    },
    "execution": {
     "iopub.execute_input": "2020-07-04T13:42:39.443608Z",
     "iopub.status.busy": "2020-07-04T13:42:39.442714Z",
     "iopub.status.idle": "2020-07-04T13:43:13.315032Z",
     "shell.execute_reply": "2020-07-04T13:43:13.313996Z",
     "shell.execute_reply.started": "2020-07-04T13:42:39.443545Z"
    }
   },
   "outputs": [],
   "source": [
    "# base4.select('text_rv','tip').show()"
   ]
  },
  {
   "cell_type": "markdown",
   "metadata": {},
   "source": [
    "## Tratamento do Texto"
   ]
  },
  {
   "cell_type": "code",
   "execution_count": 47,
   "metadata": {
    "ExecuteTime": {
     "end_time": "2020-07-04T14:26:39.570034Z",
     "start_time": "2020-07-04T14:26:39.564050Z"
    },
    "execution": {
     "iopub.execute_input": "2020-07-04T13:43:20.777241Z",
     "iopub.status.busy": "2020-07-04T13:43:20.776836Z",
     "iopub.status.idle": "2020-07-04T13:43:20.785346Z",
     "shell.execute_reply": "2020-07-04T13:43:20.784560Z",
     "shell.execute_reply.started": "2020-07-04T13:43:20.777204Z"
    }
   },
   "outputs": [],
   "source": [
    "def word_clean(sdf,col,new_col):\n",
    "    rv1 = sdf.withColumn(new_col,f.regexp_replace(f.col(col), \"'d\", \" would\"))\n",
    "    rv2 = rv1.withColumn(new_col,f.regexp_replace(f.col(new_col), \"'ve\", \" have\"))\n",
    "    rv3 = rv2.withColumn(new_col,f.regexp_replace(f.col(new_col), \"'s\", \" is\"))\n",
    "    rv4 = rv3.withColumn(new_col,f.regexp_replace(f.col(new_col), \"'re\", \" are\"))\n",
    "    rv5 = rv4.withColumn(new_col,f.regexp_replace(f.col(new_col), \"n't\", \" not\"))\n",
    "    rv6 = rv5.withColumn(new_col,f.regexp_replace(f.col(new_col), '\\W+', \" \"))\n",
    "    rv7 = rv6.withColumn(new_col,f.lower(f.col(new_col)))\n",
    "    return rv7"
   ]
  },
  {
   "cell_type": "code",
   "execution_count": 48,
   "metadata": {
    "ExecuteTime": {
     "end_time": "2020-07-04T14:26:39.843073Z",
     "start_time": "2020-07-04T14:26:39.571031Z"
    },
    "execution": {
     "iopub.execute_input": "2020-07-04T13:43:21.480616Z",
     "iopub.status.busy": "2020-07-04T13:43:21.480315Z",
     "iopub.status.idle": "2020-07-04T13:43:21.685758Z",
     "shell.execute_reply": "2020-07-04T13:43:21.684992Z",
     "shell.execute_reply.started": "2020-07-04T13:43:21.480588Z"
    }
   },
   "outputs": [],
   "source": [
    "base5 = word_clean(base4,'text_rv','text_clean')\n",
    "base6 = word_clean(base5,'tip','tip_clean')"
   ]
  },
  {
   "cell_type": "code",
   "execution_count": 49,
   "metadata": {
    "ExecuteTime": {
     "end_time": "2020-07-04T14:26:39.847034Z",
     "start_time": "2020-07-04T14:26:39.844042Z"
    },
    "execution": {
     "iopub.execute_input": "2020-07-04T13:43:22.766787Z",
     "iopub.status.busy": "2020-07-04T13:43:22.766493Z",
     "iopub.status.idle": "2020-07-04T13:43:55.009305Z",
     "shell.execute_reply": "2020-07-04T13:43:55.008404Z",
     "shell.execute_reply.started": "2020-07-04T13:43:22.766757Z"
    }
   },
   "outputs": [],
   "source": [
    "# base6.select('text_clean','tip_clean').show()"
   ]
  },
  {
   "cell_type": "markdown",
   "metadata": {},
   "source": [
    "- Contagem de amigos de cada usuário"
   ]
  },
  {
   "cell_type": "code",
   "execution_count": 50,
   "metadata": {
    "ExecuteTime": {
     "end_time": "2020-07-04T14:26:39.896931Z",
     "start_time": "2020-07-04T14:26:39.848031Z"
    },
    "execution": {
     "iopub.execute_input": "2020-07-04T13:44:15.818089Z",
     "iopub.status.busy": "2020-07-04T13:44:15.817796Z",
     "iopub.status.idle": "2020-07-04T13:44:15.834146Z",
     "shell.execute_reply": "2020-07-04T13:44:15.833433Z",
     "shell.execute_reply.started": "2020-07-04T13:44:15.818058Z"
    }
   },
   "outputs": [],
   "source": [
    "base7 = base6.withColumn('friends_counter_usr', f.size(f.split(f.col('friends_usr'),',')))"
   ]
  },
  {
   "cell_type": "code",
   "execution_count": 51,
   "metadata": {
    "ExecuteTime": {
     "end_time": "2020-07-04T14:26:39.971236Z",
     "start_time": "2020-07-04T14:26:39.897898Z"
    },
    "execution": {
     "iopub.execute_input": "2020-07-04T13:44:17.656851Z",
     "iopub.status.busy": "2020-07-04T13:44:17.656537Z",
     "iopub.status.idle": "2020-07-04T13:44:17.704269Z",
     "shell.execute_reply": "2020-07-04T13:44:17.703448Z",
     "shell.execute_reply.started": "2020-07-04T13:44:17.656823Z"
    }
   },
   "outputs": [],
   "source": [
    "base7.createOrReplaceTempView('base7')"
   ]
  },
  {
   "cell_type": "code",
   "execution_count": 52,
   "metadata": {
    "ExecuteTime": {
     "end_time": "2020-07-04T14:26:39.987166Z",
     "start_time": "2020-07-04T14:26:39.972206Z"
    },
    "execution": {
     "iopub.execute_input": "2020-07-04T13:44:19.344077Z",
     "iopub.status.busy": "2020-07-04T13:44:19.343772Z",
     "iopub.status.idle": "2020-07-04T13:44:19.358294Z",
     "shell.execute_reply": "2020-07-04T13:44:19.357549Z",
     "shell.execute_reply.started": "2020-07-04T13:44:19.344048Z"
    }
   },
   "outputs": [],
   "source": [
    "base8 = spark.sql('''\n",
    "            SELECT *,\n",
    "            (CASE WHEN friends_usr = 'None' THEN 0 ELSE friends_counter_usr END) as friends_count_usr\n",
    "            FROM base7\n",
    "            ''')"
   ]
  },
  {
   "cell_type": "code",
   "execution_count": 53,
   "metadata": {
    "ExecuteTime": {
     "end_time": "2020-07-04T14:28:23.414579Z",
     "start_time": "2020-07-04T14:26:39.988163Z"
    },
    "execution": {
     "iopub.execute_input": "2020-07-04T13:44:22.396011Z",
     "iopub.status.busy": "2020-07-04T13:44:22.395728Z",
     "iopub.status.idle": "2020-07-04T13:45:01.354454Z",
     "shell.execute_reply": "2020-07-04T13:45:01.353742Z",
     "shell.execute_reply.started": "2020-07-04T13:44:22.395985Z"
    }
   },
   "outputs": [],
   "source": [
    "df = base8.select('friends_usr','friends_counter_usr','friends_count_usr').limit(10).toPandas()"
   ]
  },
  {
   "cell_type": "code",
   "execution_count": 54,
   "metadata": {
    "ExecuteTime": {
     "end_time": "2020-07-04T14:28:23.422101Z",
     "start_time": "2020-07-04T14:28:23.415577Z"
    },
    "execution": {
     "iopub.execute_input": "2020-07-04T13:45:01.356047Z",
     "iopub.status.busy": "2020-07-04T13:45:01.355790Z",
     "iopub.status.idle": "2020-07-04T13:45:01.364435Z",
     "shell.execute_reply": "2020-07-04T13:45:01.363732Z",
     "shell.execute_reply.started": "2020-07-04T13:45:01.356022Z"
    }
   },
   "outputs": [
    {
     "data": {
      "text/plain": [
       "friends_usr            object\n",
       "friends_counter_usr     int32\n",
       "friends_count_usr       int32\n",
       "dtype: object"
      ]
     },
     "execution_count": 54,
     "metadata": {},
     "output_type": "execute_result"
    }
   ],
   "source": [
    "df.dtypes"
   ]
  },
  {
   "cell_type": "code",
   "execution_count": 55,
   "metadata": {
    "ExecuteTime": {
     "end_time": "2020-07-04T14:28:23.435035Z",
     "start_time": "2020-07-04T14:28:23.423067Z"
    },
    "execution": {
     "iopub.execute_input": "2020-07-03T21:48:29.473010Z",
     "iopub.status.busy": "2020-07-03T21:48:29.472749Z",
     "iopub.status.idle": "2020-07-03T21:48:29.486767Z",
     "shell.execute_reply": "2020-07-03T21:48:29.485932Z",
     "shell.execute_reply.started": "2020-07-03T21:48:29.472984Z"
    }
   },
   "outputs": [
    {
     "data": {
      "text/html": [
       "<div>\n",
       "<style scoped>\n",
       "    .dataframe tbody tr th:only-of-type {\n",
       "        vertical-align: middle;\n",
       "    }\n",
       "\n",
       "    .dataframe tbody tr th {\n",
       "        vertical-align: top;\n",
       "    }\n",
       "\n",
       "    .dataframe thead th {\n",
       "        text-align: right;\n",
       "    }\n",
       "</style>\n",
       "<table border=\"1\" class=\"dataframe\">\n",
       "  <thead>\n",
       "    <tr style=\"text-align: right;\">\n",
       "      <th></th>\n",
       "      <th>friends_usr</th>\n",
       "      <th>friends_counter_usr</th>\n",
       "      <th>friends_count_usr</th>\n",
       "    </tr>\n",
       "  </thead>\n",
       "  <tbody>\n",
       "    <tr>\n",
       "      <th>0</th>\n",
       "      <td>8lfS8bZkamISfRfWim5CKw, yixPLGK98f9uH1_QTRbwvg...</td>\n",
       "      <td>87</td>\n",
       "      <td>87</td>\n",
       "    </tr>\n",
       "    <tr>\n",
       "      <th>1</th>\n",
       "      <td>8lfS8bZkamISfRfWim5CKw, yixPLGK98f9uH1_QTRbwvg...</td>\n",
       "      <td>87</td>\n",
       "      <td>87</td>\n",
       "    </tr>\n",
       "    <tr>\n",
       "      <th>2</th>\n",
       "      <td>ALxRHdxbefyWvZ-7nbmy7Q, efZ2H4mRruo4STvSCPPqYA...</td>\n",
       "      <td>27</td>\n",
       "      <td>27</td>\n",
       "    </tr>\n",
       "    <tr>\n",
       "      <th>3</th>\n",
       "      <td>ALxRHdxbefyWvZ-7nbmy7Q, efZ2H4mRruo4STvSCPPqYA...</td>\n",
       "      <td>27</td>\n",
       "      <td>27</td>\n",
       "    </tr>\n",
       "    <tr>\n",
       "      <th>4</th>\n",
       "      <td>-A0mo_vdbn_-_omovpr3HA, 4jh8x7Xv6aKAiZmBRlV8OA...</td>\n",
       "      <td>57</td>\n",
       "      <td>57</td>\n",
       "    </tr>\n",
       "    <tr>\n",
       "      <th>5</th>\n",
       "      <td>None</td>\n",
       "      <td>1</td>\n",
       "      <td>0</td>\n",
       "    </tr>\n",
       "    <tr>\n",
       "      <th>6</th>\n",
       "      <td>hD3xxj6CyunXze3sCAnDrw, QV8xDVk5AYZEpiOTI6_E0g...</td>\n",
       "      <td>73</td>\n",
       "      <td>73</td>\n",
       "    </tr>\n",
       "    <tr>\n",
       "      <th>7</th>\n",
       "      <td>5e-12hnuO5qK8loS9D8o5Q, ahHKqP2-5xx2QlcJDAc3qQ...</td>\n",
       "      <td>205</td>\n",
       "      <td>205</td>\n",
       "    </tr>\n",
       "    <tr>\n",
       "      <th>8</th>\n",
       "      <td>wVvjv0lOGFXvpXdNfA2WHA, lGKDN8lSn6RhTkKzQ8wwig...</td>\n",
       "      <td>11</td>\n",
       "      <td>11</td>\n",
       "    </tr>\n",
       "    <tr>\n",
       "      <th>9</th>\n",
       "      <td>None</td>\n",
       "      <td>1</td>\n",
       "      <td>0</td>\n",
       "    </tr>\n",
       "  </tbody>\n",
       "</table>\n",
       "</div>"
      ],
      "text/plain": [
       "                                         friends_usr  friends_counter_usr  \\\n",
       "0  8lfS8bZkamISfRfWim5CKw, yixPLGK98f9uH1_QTRbwvg...                   87   \n",
       "1  8lfS8bZkamISfRfWim5CKw, yixPLGK98f9uH1_QTRbwvg...                   87   \n",
       "2  ALxRHdxbefyWvZ-7nbmy7Q, efZ2H4mRruo4STvSCPPqYA...                   27   \n",
       "3  ALxRHdxbefyWvZ-7nbmy7Q, efZ2H4mRruo4STvSCPPqYA...                   27   \n",
       "4  -A0mo_vdbn_-_omovpr3HA, 4jh8x7Xv6aKAiZmBRlV8OA...                   57   \n",
       "5                                               None                    1   \n",
       "6  hD3xxj6CyunXze3sCAnDrw, QV8xDVk5AYZEpiOTI6_E0g...                   73   \n",
       "7  5e-12hnuO5qK8loS9D8o5Q, ahHKqP2-5xx2QlcJDAc3qQ...                  205   \n",
       "8  wVvjv0lOGFXvpXdNfA2WHA, lGKDN8lSn6RhTkKzQ8wwig...                   11   \n",
       "9                                               None                    1   \n",
       "\n",
       "   friends_count_usr  \n",
       "0                 87  \n",
       "1                 87  \n",
       "2                 27  \n",
       "3                 27  \n",
       "4                 57  \n",
       "5                  0  \n",
       "6                 73  \n",
       "7                205  \n",
       "8                 11  \n",
       "9                  0  "
      ]
     },
     "execution_count": 55,
     "metadata": {},
     "output_type": "execute_result"
    }
   ],
   "source": [
    "df"
   ]
  },
  {
   "cell_type": "code",
   "execution_count": 56,
   "metadata": {
    "ExecuteTime": {
     "end_time": "2020-07-04T14:28:23.439024Z",
     "start_time": "2020-07-04T14:28:23.436032Z"
    },
    "code_folding": [],
    "execution": {
     "iopub.execute_input": "2020-07-04T13:45:08.027414Z",
     "iopub.status.busy": "2020-07-04T13:45:08.027127Z",
     "iopub.status.idle": "2020-07-04T13:45:50.468767Z",
     "shell.execute_reply": "2020-07-04T13:45:50.467706Z",
     "shell.execute_reply.started": "2020-07-04T13:45:08.027388Z"
    }
   },
   "outputs": [],
   "source": [
    "# base8.select('friends_usr','friends_counter_usr','friends_count_usr').show()"
   ]
  },
  {
   "cell_type": "markdown",
   "metadata": {},
   "source": [
    "## Concatenando Comentários por Usuário - Review + Tips"
   ]
  },
  {
   "cell_type": "code",
   "execution_count": 57,
   "metadata": {
    "ExecuteTime": {
     "end_time": "2020-07-04T14:28:23.515818Z",
     "start_time": "2020-07-04T14:28:23.440021Z"
    },
    "execution": {
     "iopub.execute_input": "2020-07-04T13:46:18.710795Z",
     "iopub.status.busy": "2020-07-04T13:46:18.710493Z",
     "iopub.status.idle": "2020-07-04T13:46:18.763092Z",
     "shell.execute_reply": "2020-07-04T13:46:18.762274Z",
     "shell.execute_reply.started": "2020-07-04T13:46:18.710765Z"
    }
   },
   "outputs": [],
   "source": [
    "base9 = base8.withColumn('rv_tip', f.concat(f.col('text_clean'),f.lit(' '), f.col('tip_clean')))"
   ]
  },
  {
   "cell_type": "code",
   "execution_count": 58,
   "metadata": {
    "ExecuteTime": {
     "end_time": "2020-07-04T14:28:23.519808Z",
     "start_time": "2020-07-04T14:28:23.516816Z"
    },
    "execution": {
     "iopub.execute_input": "2020-07-04T13:46:42.319980Z",
     "iopub.status.busy": "2020-07-04T13:46:42.319707Z",
     "iopub.status.idle": "2020-07-04T13:47:15.744522Z",
     "shell.execute_reply": "2020-07-04T13:47:15.743722Z",
     "shell.execute_reply.started": "2020-07-04T13:46:42.319954Z"
    }
   },
   "outputs": [],
   "source": [
    "# base9.select('text_clean','tip_clean','rv_tip','stars_rv','compliment_count_tip','funny_rv','cool_rv').show()"
   ]
  },
  {
   "cell_type": "code",
   "execution_count": 59,
   "metadata": {
    "ExecuteTime": {
     "end_time": "2020-07-04T14:28:23.612588Z",
     "start_time": "2020-07-04T14:28:23.520805Z"
    },
    "execution": {
     "iopub.execute_input": "2020-07-04T13:47:51.356793Z",
     "iopub.status.busy": "2020-07-04T13:47:51.356496Z",
     "iopub.status.idle": "2020-07-04T13:47:51.400399Z",
     "shell.execute_reply": "2020-07-04T13:47:51.399697Z",
     "shell.execute_reply.started": "2020-07-04T13:47:51.356766Z"
    }
   },
   "outputs": [],
   "source": [
    "base9.createOrReplaceTempView('base9')"
   ]
  },
  {
   "cell_type": "code",
   "execution_count": 60,
   "metadata": {
    "ExecuteTime": {
     "end_time": "2020-07-04T14:28:23.616549Z",
     "start_time": "2020-07-04T14:28:23.613557Z"
    },
    "execution": {
     "iopub.execute_input": "2020-07-04T13:47:52.638130Z",
     "iopub.status.busy": "2020-07-04T13:47:52.637830Z",
     "iopub.status.idle": "2020-07-04T13:48:25.751549Z",
     "shell.execute_reply": "2020-07-04T13:48:25.750732Z",
     "shell.execute_reply.started": "2020-07-04T13:47:52.638102Z"
    }
   },
   "outputs": [],
   "source": [
    "# spark.sql('''\n",
    "#         SELECT stars_rv, count(tip_clean) as tip_counter\n",
    "#         FROM base9\n",
    "#         GROUP BY stars_rv\n",
    "#         ORDER BY tip_counter DESC\n",
    "#         ''').show()"
   ]
  },
  {
   "cell_type": "markdown",
   "metadata": {},
   "source": [
    "- Remoção de colunas que não serão utilizadas na primeira modelagem"
   ]
  },
  {
   "cell_type": "code",
   "execution_count": 61,
   "metadata": {
    "ExecuteTime": {
     "end_time": "2020-07-04T14:28:23.632499Z",
     "start_time": "2020-07-04T14:28:23.617986Z"
    },
    "execution": {
     "iopub.execute_input": "2020-07-04T13:55:10.567709Z",
     "iopub.status.busy": "2020-07-04T13:55:10.567474Z",
     "iopub.status.idle": "2020-07-04T13:55:10.577489Z",
     "shell.execute_reply": "2020-07-04T13:55:10.576797Z",
     "shell.execute_reply.started": "2020-07-04T13:55:10.567688Z"
    }
   },
   "outputs": [],
   "source": [
    "base_final = base9.drop('friends_usr','friends_counter_usr','name_usr','city_bz', 'address_bz','state_bz', 'hours_bz','text_rv','tip','tip_clean','elite_usr')#,'review_id')"
   ]
  },
  {
   "cell_type": "code",
   "execution_count": 62,
   "metadata": {
    "ExecuteTime": {
     "end_time": "2020-07-04T14:28:23.638481Z",
     "start_time": "2020-07-04T14:28:23.633466Z"
    },
    "execution": {
     "iopub.execute_input": "2020-07-04T13:50:58.124152Z",
     "iopub.status.busy": "2020-07-04T13:50:58.123836Z",
     "iopub.status.idle": "2020-07-04T13:50:58.130460Z",
     "shell.execute_reply": "2020-07-04T13:50:58.129723Z",
     "shell.execute_reply.started": "2020-07-04T13:50:58.124125Z"
    }
   },
   "outputs": [
    {
     "data": {
      "text/plain": [
       "['business_id',\n",
       " 'cool_rv',\n",
       " 'date_rv',\n",
       " 'funny_rv',\n",
       " 'review_id',\n",
       " 'stars_rv',\n",
       " 'useful_rv',\n",
       " 'user_id',\n",
       " 'categories_bz',\n",
       " 'is_open_bz',\n",
       " 'latitude_bz',\n",
       " 'longitude_bz',\n",
       " 'name_bz',\n",
       " 'postal_code_bz',\n",
       " 'review_count_bz',\n",
       " 'stars_bz',\n",
       " 'stars_usr',\n",
       " 'compliment_cool_usr',\n",
       " 'compliment_cute_usr',\n",
       " 'compliment_funny_usr',\n",
       " 'compliment_hot_usr',\n",
       " 'compliment_list_usr',\n",
       " 'compliment_more_usr',\n",
       " 'compliment_note_usr',\n",
       " 'compliment_photos_usr',\n",
       " 'compliment_plain_usr',\n",
       " 'compliment_profile_usr',\n",
       " 'compliment_writer_usr',\n",
       " 'cool_usr',\n",
       " 'fans_usr',\n",
       " 'funny_usr',\n",
       " 'review_count_usr',\n",
       " 'useful_usr',\n",
       " 'yelping_since_usr',\n",
       " 'city_review_counter_usr',\n",
       " 'city_review_ratio_usr',\n",
       " 'class_rv',\n",
       " 'class_bz',\n",
       " 'class_usr',\n",
       " 'compliment_count_tip',\n",
       " 'text_clean',\n",
       " 'friends_count_usr',\n",
       " 'rv_tip']"
      ]
     },
     "execution_count": 62,
     "metadata": {},
     "output_type": "execute_result"
    }
   ],
   "source": [
    "base_final.columns"
   ]
  },
  {
   "cell_type": "markdown",
   "metadata": {},
   "source": [
    "## Salva Base analítica em CSV"
   ]
  },
  {
   "cell_type": "code",
   "execution_count": 63,
   "metadata": {
    "ExecuteTime": {
     "end_time": "2020-07-04T14:31:51.378171Z",
     "start_time": "2020-07-04T14:28:23.639450Z"
    },
    "execution": {
     "iopub.execute_input": "2020-07-04T14:08:38.069414Z",
     "iopub.status.busy": "2020-07-04T14:08:38.069132Z",
     "iopub.status.idle": "2020-07-04T14:10:11.390159Z",
     "shell.execute_reply": "2020-07-04T14:10:11.386232Z",
     "shell.execute_reply.started": "2020-07-04T14:08:38.069388Z"
    }
   },
   "outputs": [],
   "source": [
    "base_final.write \\\n",
    "    .format('csv') \\\n",
    "    .mode('overwrite') \\\n",
    "    .option('sep', ',') \\\n",
    "    .option('header', True) \\\n",
    "    .save('output/yelp.csv')"
   ]
  },
  {
   "cell_type": "markdown",
   "metadata": {},
   "source": [
    "# Base para Modelo de Tópicos\n",
    "\n",
    "Informações de Texto que serão tratadas em Modelos de Tópicos no R"
   ]
  },
  {
   "cell_type": "code",
   "execution_count": 64,
   "metadata": {
    "ExecuteTime": {
     "end_time": "2020-07-04T14:31:51.402107Z",
     "start_time": "2020-07-04T14:31:51.379168Z"
    },
    "execution": {
     "iopub.execute_input": "2020-07-04T13:52:21.945698Z",
     "iopub.status.busy": "2020-07-04T13:52:21.945401Z",
     "iopub.status.idle": "2020-07-04T13:52:21.966873Z",
     "shell.execute_reply": "2020-07-04T13:52:21.965803Z",
     "shell.execute_reply.started": "2020-07-04T13:52:21.945671Z"
    }
   },
   "outputs": [],
   "source": [
    "words = base_final.select('review_id','user_id','business_id','categories_bz','stars_rv','rv_tip')"
   ]
  },
  {
   "cell_type": "code",
   "execution_count": 65,
   "metadata": {
    "ExecuteTime": {
     "end_time": "2020-07-04T14:31:51.476906Z",
     "start_time": "2020-07-04T14:31:51.403104Z"
    },
    "execution": {
     "iopub.execute_input": "2020-07-04T13:54:02.918607Z",
     "iopub.status.busy": "2020-07-04T13:54:02.918324Z",
     "iopub.status.idle": "2020-07-04T13:54:02.936787Z",
     "shell.execute_reply": "2020-07-04T13:54:02.936077Z",
     "shell.execute_reply.started": "2020-07-04T13:54:02.918581Z"
    }
   },
   "outputs": [],
   "source": [
    "words2 = words.withColumn('category_bz', f.explode(f.split(f.col('categories_bz'),', ')))"
   ]
  },
  {
   "cell_type": "code",
   "execution_count": 66,
   "metadata": {
    "ExecuteTime": {
     "end_time": "2020-07-04T14:31:51.483888Z",
     "start_time": "2020-07-04T14:31:51.477904Z"
    },
    "execution": {
     "iopub.execute_input": "2020-07-04T13:54:05.724826Z",
     "iopub.status.busy": "2020-07-04T13:54:05.724535Z",
     "iopub.status.idle": "2020-07-04T13:54:05.729993Z",
     "shell.execute_reply": "2020-07-04T13:54:05.729234Z",
     "shell.execute_reply.started": "2020-07-04T13:54:05.724799Z"
    }
   },
   "outputs": [],
   "source": [
    "words3 = words2.drop('categories_bz')"
   ]
  },
  {
   "cell_type": "code",
   "execution_count": 67,
   "metadata": {
    "ExecuteTime": {
     "end_time": "2020-07-04T14:31:51.490870Z",
     "start_time": "2020-07-04T14:31:51.487877Z"
    },
    "execution": {
     "iopub.execute_input": "2020-07-04T13:54:06.994099Z",
     "iopub.status.busy": "2020-07-04T13:54:06.993785Z",
     "iopub.status.idle": "2020-07-04T13:54:40.483847Z",
     "shell.execute_reply": "2020-07-04T13:54:40.482790Z",
     "shell.execute_reply.started": "2020-07-04T13:54:06.994066Z"
    }
   },
   "outputs": [],
   "source": [
    "# words3.show()"
   ]
  },
  {
   "cell_type": "code",
   "execution_count": 68,
   "metadata": {
    "ExecuteTime": {
     "end_time": "2020-07-04T14:31:51.495856Z",
     "start_time": "2020-07-04T14:31:51.492865Z"
    }
   },
   "outputs": [],
   "source": [
    "#words4 = words3.withColumn('word', f.explode(f.split(f.col('review_tip'),' ')))"
   ]
  },
  {
   "cell_type": "markdown",
   "metadata": {},
   "source": [
    "## Salva Base Auxiliar para Modelo de Tópicos - \"Reviews + Tips\""
   ]
  },
  {
   "cell_type": "code",
   "execution_count": 69,
   "metadata": {
    "ExecuteTime": {
     "end_time": "2020-07-04T14:34:02.617139Z",
     "start_time": "2020-07-04T14:31:51.496853Z"
    },
    "execution": {
     "iopub.execute_input": "2020-07-04T13:55:56.265340Z",
     "iopub.status.busy": "2020-07-04T13:55:56.265041Z",
     "iopub.status.idle": "2020-07-04T13:56:35.734282Z",
     "shell.execute_reply": "2020-07-04T13:56:35.733250Z",
     "shell.execute_reply.started": "2020-07-04T13:55:56.265313Z"
    }
   },
   "outputs": [],
   "source": [
    "words3.write \\\n",
    "    .format('csv') \\\n",
    "    .mode('overwrite') \\\n",
    "    .option('sep', ',') \\\n",
    "    .option('header', True) \\\n",
    "    .save('output/yelp_words.csv')"
   ]
  },
  {
   "cell_type": "markdown",
   "metadata": {},
   "source": [
    "# Matriz de distâncias\n",
    "\n",
    "Estruturação de Dados para Clusterização Hierárquica"
   ]
  },
  {
   "cell_type": "markdown",
   "metadata": {},
   "source": [
    "- Preparação para criação de matriz de distâncias baseada na nota de cada avaliação."
   ]
  },
  {
   "cell_type": "code",
   "execution_count": 70,
   "metadata": {
    "ExecuteTime": {
     "end_time": "2020-07-04T14:34:02.636088Z",
     "start_time": "2020-07-04T14:34:02.618136Z"
    },
    "execution": {
     "iopub.execute_input": "2020-07-04T13:57:15.374774Z",
     "iopub.status.busy": "2020-07-04T13:57:15.374481Z",
     "iopub.status.idle": "2020-07-04T13:57:15.385874Z",
     "shell.execute_reply": "2020-07-04T13:57:15.385104Z",
     "shell.execute_reply.started": "2020-07-04T13:57:15.374742Z"
    }
   },
   "outputs": [],
   "source": [
    "dist1 = base_final.select('user_id','categories_bz','stars_rv')"
   ]
  },
  {
   "cell_type": "code",
   "execution_count": 71,
   "metadata": {
    "ExecuteTime": {
     "end_time": "2020-07-04T14:34:02.640078Z",
     "start_time": "2020-07-04T14:34:02.637085Z"
    },
    "execution": {
     "iopub.execute_input": "2020-07-04T13:57:18.795488Z",
     "iopub.status.busy": "2020-07-04T13:57:18.795187Z",
     "iopub.status.idle": "2020-07-04T13:57:48.803299Z",
     "shell.execute_reply": "2020-07-04T13:57:48.802412Z",
     "shell.execute_reply.started": "2020-07-04T13:57:18.795460Z"
    }
   },
   "outputs": [],
   "source": [
    "# dist1.show()"
   ]
  },
  {
   "cell_type": "code",
   "execution_count": 72,
   "metadata": {
    "ExecuteTime": {
     "end_time": "2020-07-04T14:34:02.701911Z",
     "start_time": "2020-07-04T14:34:02.641076Z"
    },
    "execution": {
     "iopub.execute_input": "2020-07-04T13:57:57.341285Z",
     "iopub.status.busy": "2020-07-04T13:57:57.340983Z",
     "iopub.status.idle": "2020-07-04T13:57:57.353830Z",
     "shell.execute_reply": "2020-07-04T13:57:57.353121Z",
     "shell.execute_reply.started": "2020-07-04T13:57:57.341258Z"
    }
   },
   "outputs": [],
   "source": [
    "dist2 = dist1.withColumn('category_bz', f.explode(f.split(f.col('categories_bz'),', ')))"
   ]
  },
  {
   "cell_type": "code",
   "execution_count": 73,
   "metadata": {
    "ExecuteTime": {
     "end_time": "2020-07-04T14:34:02.705902Z",
     "start_time": "2020-07-04T14:34:02.702909Z"
    },
    "execution": {
     "iopub.execute_input": "2020-07-04T13:57:59.182368Z",
     "iopub.status.busy": "2020-07-04T13:57:59.182080Z",
     "iopub.status.idle": "2020-07-04T13:58:29.377558Z",
     "shell.execute_reply": "2020-07-04T13:58:29.376703Z",
     "shell.execute_reply.started": "2020-07-04T13:57:59.182342Z"
    }
   },
   "outputs": [],
   "source": [
    "# dist2.show()"
   ]
  },
  {
   "cell_type": "code",
   "execution_count": 74,
   "metadata": {
    "ExecuteTime": {
     "end_time": "2020-07-04T14:34:02.821592Z",
     "start_time": "2020-07-04T14:34:02.706899Z"
    },
    "execution": {
     "iopub.execute_input": "2020-07-04T13:58:29.379671Z",
     "iopub.status.busy": "2020-07-04T13:58:29.379395Z",
     "iopub.status.idle": "2020-07-04T13:58:29.424008Z",
     "shell.execute_reply": "2020-07-04T13:58:29.423284Z",
     "shell.execute_reply.started": "2020-07-04T13:58:29.379640Z"
    }
   },
   "outputs": [],
   "source": [
    "dist2.createOrReplaceTempView('dist')"
   ]
  },
  {
   "cell_type": "markdown",
   "metadata": {},
   "source": [
    "- Quantidade de usuários e estabelecimentos"
   ]
  },
  {
   "cell_type": "code",
   "execution_count": 75,
   "metadata": {
    "ExecuteTime": {
     "end_time": "2020-07-04T14:34:02.825581Z",
     "start_time": "2020-07-04T14:34:02.822590Z"
    },
    "execution": {
     "iopub.execute_input": "2020-07-04T13:58:29.426387Z",
     "iopub.status.busy": "2020-07-04T13:58:29.426111Z",
     "iopub.status.idle": "2020-07-04T13:59:06.759807Z",
     "shell.execute_reply": "2020-07-04T13:59:06.759143Z",
     "shell.execute_reply.started": "2020-07-04T13:58:29.426361Z"
    }
   },
   "outputs": [],
   "source": [
    "# spark.sql('''\n",
    "#             SELECT Count(DISTINCT user_id)\n",
    "#             FROM dist\n",
    "#             ''').show()"
   ]
  },
  {
   "cell_type": "code",
   "execution_count": 76,
   "metadata": {
    "ExecuteTime": {
     "end_time": "2020-07-04T14:34:02.829571Z",
     "start_time": "2020-07-04T14:34:02.826579Z"
    },
    "execution": {
     "iopub.execute_input": "2020-07-04T13:59:06.761455Z",
     "iopub.status.busy": "2020-07-04T13:59:06.761189Z",
     "iopub.status.idle": "2020-07-04T13:59:44.826215Z",
     "shell.execute_reply": "2020-07-04T13:59:44.825404Z",
     "shell.execute_reply.started": "2020-07-04T13:59:06.761428Z"
    }
   },
   "outputs": [],
   "source": [
    "# spark.sql('''\n",
    "#             SELECT Count(DISTINCT categories_bz)\n",
    "#             FROM dist\n",
    "#             ''').show()"
   ]
  },
  {
   "cell_type": "code",
   "execution_count": 77,
   "metadata": {
    "ExecuteTime": {
     "end_time": "2020-07-04T14:34:02.834558Z",
     "start_time": "2020-07-04T14:34:02.831566Z"
    },
    "execution": {
     "iopub.execute_input": "2020-07-04T13:59:44.827719Z",
     "iopub.status.busy": "2020-07-04T13:59:44.827338Z",
     "iopub.status.idle": "2020-07-04T14:00:21.170794Z",
     "shell.execute_reply": "2020-07-04T14:00:21.169970Z",
     "shell.execute_reply.started": "2020-07-04T13:59:44.827691Z"
    }
   },
   "outputs": [],
   "source": [
    "# spark.sql('''\n",
    "#             SELECT Count(DISTINCT category_bz)\n",
    "#             FROM dist\n",
    "#             ''').show()"
   ]
  },
  {
   "cell_type": "markdown",
   "metadata": {},
   "source": [
    "- Aumentando o limite máximo de coluna de acordo com o número de estabelecimentos"
   ]
  },
  {
   "cell_type": "code",
   "execution_count": 78,
   "metadata": {
    "ExecuteTime": {
     "end_time": "2020-07-04T14:34:02.838547Z",
     "start_time": "2020-07-04T14:34:02.835555Z"
    },
    "execution": {
     "iopub.execute_input": "2020-07-04T14:00:27.853249Z",
     "iopub.status.busy": "2020-07-04T14:00:27.852893Z",
     "iopub.status.idle": "2020-07-04T14:00:27.856673Z",
     "shell.execute_reply": "2020-07-04T14:00:27.855752Z",
     "shell.execute_reply.started": "2020-07-04T14:00:27.853216Z"
    }
   },
   "outputs": [],
   "source": [
    "#spark.conf.set('spark.sql.pivotMaxValues', u'21000')"
   ]
  },
  {
   "cell_type": "code",
   "execution_count": 79,
   "metadata": {
    "ExecuteTime": {
     "end_time": "2020-07-04T14:36:03.768760Z",
     "start_time": "2020-07-04T14:34:02.839544Z"
    },
    "execution": {
     "iopub.execute_input": "2020-07-04T14:00:29.177933Z",
     "iopub.status.busy": "2020-07-04T14:00:29.177637Z",
     "iopub.status.idle": "2020-07-04T14:01:03.816979Z",
     "shell.execute_reply": "2020-07-04T14:01:03.816177Z",
     "shell.execute_reply.started": "2020-07-04T14:00:29.177905Z"
    }
   },
   "outputs": [],
   "source": [
    "dist3 = dist2.groupBy(\"user_id\").pivot(\"category_bz\").mean(\"stars_rv\")"
   ]
  },
  {
   "cell_type": "code",
   "execution_count": 80,
   "metadata": {
    "ExecuteTime": {
     "end_time": "2020-07-04T14:36:04.928042Z",
     "start_time": "2020-07-04T14:36:03.769756Z"
    },
    "execution": {
     "iopub.execute_input": "2020-07-04T14:01:03.819809Z",
     "iopub.status.busy": "2020-07-04T14:01:03.819349Z",
     "iopub.status.idle": "2020-07-04T14:01:04.507749Z",
     "shell.execute_reply": "2020-07-04T14:01:04.507036Z",
     "shell.execute_reply.started": "2020-07-04T14:01:03.819774Z"
    }
   },
   "outputs": [],
   "source": [
    "dist4 = dist3.fillna(0)"
   ]
  },
  {
   "cell_type": "code",
   "execution_count": 81,
   "metadata": {
    "ExecuteTime": {
     "end_time": "2020-07-04T14:36:04.932004Z",
     "start_time": "2020-07-04T14:36:04.929013Z"
    },
    "collapsed": true,
    "execution": {
     "iopub.execute_input": "2020-07-04T14:01:04.510148Z",
     "iopub.status.busy": "2020-07-04T14:01:04.509768Z",
     "iopub.status.idle": "2020-07-04T14:01:51.829463Z",
     "shell.execute_reply": "2020-07-04T14:01:51.828398Z",
     "shell.execute_reply.started": "2020-07-04T14:01:04.510113Z"
    },
    "jupyter": {
     "outputs_hidden": true
    }
   },
   "outputs": [],
   "source": [
    "# dist4.show()"
   ]
  },
  {
   "cell_type": "markdown",
   "metadata": {},
   "source": [
    "## Salva Base Auxiliar para Matriz de Distâncias - \"Category\""
   ]
  },
  {
   "cell_type": "code",
   "execution_count": 82,
   "metadata": {
    "ExecuteTime": {
     "end_time": "2020-07-04T14:39:05.353457Z",
     "start_time": "2020-07-04T14:36:04.933002Z"
    },
    "execution": {
     "iopub.execute_input": "2020-07-04T14:06:31.188936Z",
     "iopub.status.busy": "2020-07-04T14:06:31.188642Z",
     "iopub.status.idle": "2020-07-04T14:07:26.206167Z",
     "shell.execute_reply": "2020-07-04T14:07:26.204988Z",
     "shell.execute_reply.started": "2020-07-04T14:06:31.188909Z"
    }
   },
   "outputs": [],
   "source": [
    "dist4.write \\\n",
    "    .format('csv') \\\n",
    "    .mode('overwrite') \\\n",
    "    .option('sep', ',') \\\n",
    "    .option('header', True) \\\n",
    "    .save('output/yelp_dist.csv')"
   ]
  },
  {
   "cell_type": "markdown",
   "metadata": {},
   "source": [
    "# Análise Gráfica"
   ]
  },
  {
   "cell_type": "markdown",
   "metadata": {},
   "source": [
    "## Heatmap"
   ]
  },
  {
   "cell_type": "markdown",
   "metadata": {},
   "source": [
    "- Criando mapa de calor da concentração de reviews"
   ]
  },
  {
   "cell_type": "code",
   "execution_count": 83,
   "metadata": {
    "ExecuteTime": {
     "end_time": "2020-07-04T14:39:05.357446Z",
     "start_time": "2020-07-04T14:39:05.354454Z"
    },
    "execution": {
     "iopub.execute_input": "2020-07-03T21:59:14.036074Z",
     "iopub.status.busy": "2020-07-03T21:59:14.035766Z",
     "iopub.status.idle": "2020-07-03T21:59:14.039453Z",
     "shell.execute_reply": "2020-07-03T21:59:14.038584Z",
     "shell.execute_reply.started": "2020-07-03T21:59:14.036044Z"
    }
   },
   "outputs": [],
   "source": [
    "base_mapas = base_final#.limit(1000)"
   ]
  },
  {
   "cell_type": "code",
   "execution_count": 84,
   "metadata": {
    "ExecuteTime": {
     "end_time": "2020-07-04T14:39:05.471143Z",
     "start_time": "2020-07-04T14:39:05.358443Z"
    },
    "execution": {
     "iopub.execute_input": "2020-07-03T21:59:21.552883Z",
     "iopub.status.busy": "2020-07-03T21:59:21.552624Z",
     "iopub.status.idle": "2020-07-03T21:59:21.593841Z",
     "shell.execute_reply": "2020-07-03T21:59:21.593102Z",
     "shell.execute_reply.started": "2020-07-03T21:59:21.552862Z"
    }
   },
   "outputs": [],
   "source": [
    "base_mapas.createOrReplaceTempView('base_mapas')"
   ]
  },
  {
   "cell_type": "code",
   "execution_count": 89,
   "metadata": {
    "ExecuteTime": {
     "end_time": "2020-07-04T14:41:24.182291Z",
     "start_time": "2020-07-04T14:41:24.172318Z"
    },
    "execution": {
     "iopub.execute_input": "2020-07-03T21:59:22.841857Z",
     "iopub.status.busy": "2020-07-03T21:59:22.841571Z",
     "iopub.status.idle": "2020-07-03T21:59:22.851753Z",
     "shell.execute_reply": "2020-07-03T21:59:22.851016Z",
     "shell.execute_reply.started": "2020-07-03T21:59:22.841831Z"
    }
   },
   "outputs": [],
   "source": [
    "mapa1 = spark.sql(\"\"\"\n",
    "        SELECT latitude_bz,\n",
    "        longitude_bz\n",
    "        \n",
    "        FROM base_mapas\n",
    "        \n",
    "        WHERE latitude_bz is not null\n",
    "        AND longitude_bz is not null\n",
    "        \n",
    "        \"\"\")"
   ]
  },
  {
   "cell_type": "code",
   "execution_count": 90,
   "metadata": {
    "ExecuteTime": {
     "end_time": "2020-07-04T14:43:19.961548Z",
     "start_time": "2020-07-04T14:41:53.444669Z"
    },
    "execution": {
     "iopub.execute_input": "2020-07-03T21:59:24.278672Z",
     "iopub.status.busy": "2020-07-03T21:59:24.278374Z",
     "iopub.status.idle": "2020-07-03T21:59:58.309027Z",
     "shell.execute_reply": "2020-07-03T21:59:58.308022Z",
     "shell.execute_reply.started": "2020-07-03T21:59:24.278644Z"
    }
   },
   "outputs": [
    {
     "name": "stdout",
     "output_type": "stream",
     "text": [
      "+-------------+--------------+\n",
      "|  latitude_bz|  longitude_bz|\n",
      "+-------------+--------------+\n",
      "|   43.6697687|    -79.382838|\n",
      "|43.6386597113|   -79.3806966|\n",
      "|43.6630940441|-79.3840069721|\n",
      "|    43.656838|    -79.399237|\n",
      "|43.6599496025| -79.479805281|\n",
      "|   43.6547562|   -79.3874925|\n",
      "|   43.6376269|    -79.393259|\n",
      "|43.6543411559|-79.4004796073|\n",
      "|43.6729833023|-79.2866801843|\n",
      "|    43.655584|   -79.3985383|\n",
      "+-------------+--------------+\n",
      "only showing top 10 rows\n",
      "\n"
     ]
    }
   ],
   "source": [
    "mapa1.show(10)"
   ]
  },
  {
   "cell_type": "markdown",
   "metadata": {},
   "source": [
    "Decobrindo o ponto central de Latitude e Longetude do Mapa"
   ]
  },
  {
   "cell_type": "code",
   "execution_count": null,
   "metadata": {
    "ExecuteTime": {
     "end_time": "2020-07-04T14:39:05.658642Z",
     "start_time": "2020-07-04T14:25:47.532Z"
    }
   },
   "outputs": [],
   "source": [
    "# spark.sql(\"\"\"\n",
    "#         SELECT avg(latitude) as avg_lat,\n",
    "#         avg(longitude) as avg_long\n",
    "        \n",
    "#         FROM base_mapas\n",
    "        \n",
    "#         \"\"\").show()"
   ]
  },
  {
   "cell_type": "code",
   "execution_count": null,
   "metadata": {
    "ExecuteTime": {
     "end_time": "2020-07-04T14:39:05.658642Z",
     "start_time": "2020-07-04T14:25:47.534Z"
    }
   },
   "outputs": [],
   "source": [
    "import folium\n",
    "from folium import plugins\n",
    "\n",
    "mapa = folium.Map(location=[43.6732, -79.3919], \n",
    "                  zoom_start=11,\n",
    "                  tiles='Stamen Toner')\n",
    "# OpenStreetMap, Stamen Terrain, Stamen Toner"
   ]
  },
  {
   "cell_type": "code",
   "execution_count": null,
   "metadata": {
    "ExecuteTime": {
     "end_time": "2020-07-04T14:39:05.659639Z",
     "start_time": "2020-07-04T14:25:47.535Z"
    }
   },
   "outputs": [],
   "source": [
    "mapa\n",
    "\n",
    "lat = mapa1.toPandas()['latitude'].values\n",
    "lon = mapa1.toPandas()['longitude'].values"
   ]
  },
  {
   "cell_type": "code",
   "execution_count": null,
   "metadata": {
    "ExecuteTime": {
     "end_time": "2020-07-04T14:39:05.660636Z",
     "start_time": "2020-07-04T14:25:47.537Z"
    }
   },
   "outputs": [],
   "source": [
    "coordenadas = []\n",
    "for la, lo in zip(lat, lon):\n",
    "    coordenadas.append([la,lo])\n",
    "mapa.add_child(plugins.HeatMap(coordenadas))"
   ]
  },
  {
   "cell_type": "code",
   "execution_count": null,
   "metadata": {
    "ExecuteTime": {
     "end_time": "2020-07-04T14:39:05.661633Z",
     "start_time": "2020-07-04T14:25:47.539Z"
    }
   },
   "outputs": [],
   "source": [
    "lat_lon3 = spark.sql(\"\"\"\n",
    "            SELECT 'ON' as state,\n",
    "            (SUM(review_count) / (select SUM(review_count) from base_mapas))*100 as review_perc\n",
    "            \n",
    "            FROM base_mapas\n",
    "        \n",
    "            WHERE latitude is not null\n",
    "            AND longitude is not null\n",
    "        \n",
    "            GROUP BY state\n",
    "            \n",
    "            \"\"\")\n",
    "\n",
    "## Geo-Json do Canada - https://geojson-maps.ash.ms/\n",
    "\n",
    "#url = 'https://raw.githubusercontent.com/AshKyd/geojson-regions/master/countries/110m/'\n",
    "# state_geo = f'{url}/CAN.geojson'\n",
    "\n",
    "url = 'https://raw.githubusercontent.com/jasonicarter/toronto-geojson/master/'\n",
    "state_geo = f'{url}/toronto_crs84.geojson'\n",
    "\n",
    "df = lat_lon3.toPandas()\n",
    "\n",
    "m = folium.Map(location=[43, -79], zoom_start=10)\n",
    "bins = list(df['review_perc'].quantile([0, 0.25, 0.5, 0.75, 1]))\n",
    "\n",
    "folium.Choropleth(\n",
    "    geo_data=state_geo,\n",
    "    name='choropleth',\n",
    "    data=df,\n",
    "    columns=['state', 'review_perc'],\n",
    "    key_on='feature.properties.name',\n",
    "    fill_color='BuPu',\n",
    "    fill_opacity=0.7,\n",
    "    line_opacity=0.2,\n",
    "    bins=bins,\n",
    "    legend_name='Reviews (%)',\n",
    "    reset=True\n",
    ").add_to(m)\n",
    "\n",
    "m"
   ]
  },
  {
   "cell_type": "code",
   "execution_count": null,
   "metadata": {},
   "outputs": [],
   "source": []
  },
  {
   "cell_type": "code",
   "execution_count": null,
   "metadata": {},
   "outputs": [],
   "source": []
  },
  {
   "cell_type": "code",
   "execution_count": null,
   "metadata": {},
   "outputs": [],
   "source": []
  },
  {
   "cell_type": "code",
   "execution_count": null,
   "metadata": {},
   "outputs": [],
   "source": []
  },
  {
   "cell_type": "code",
   "execution_count": null,
   "metadata": {},
   "outputs": [],
   "source": []
  },
  {
   "cell_type": "code",
   "execution_count": null,
   "metadata": {},
   "outputs": [],
   "source": []
  },
  {
   "cell_type": "code",
   "execution_count": null,
   "metadata": {},
   "outputs": [],
   "source": []
  }
 ],
 "metadata": {
  "kernelspec": {
   "display_name": "Python 3",
   "language": "python",
   "name": "python3"
  },
  "language_info": {
   "codemirror_mode": {
    "name": "ipython",
    "version": 3
   },
   "file_extension": ".py",
   "mimetype": "text/x-python",
   "name": "python",
   "nbconvert_exporter": "python",
   "pygments_lexer": "ipython3",
   "version": "3.7.7"
  },
  "toc": {
   "base_numbering": 1,
   "nav_menu": {},
   "number_sections": true,
   "sideBar": true,
   "skip_h1_title": false,
   "title_cell": "Table of Contents",
   "title_sidebar": "Contents",
   "toc_cell": false,
   "toc_position": {},
   "toc_section_display": true,
   "toc_window_display": false
  },
  "toc-autonumbering": true,
  "toc-showcode": true
 },
 "nbformat": 4,
 "nbformat_minor": 4
}
