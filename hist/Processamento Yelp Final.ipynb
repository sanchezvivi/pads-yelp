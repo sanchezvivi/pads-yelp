{
 "cells": [
  {
   "cell_type": "markdown",
   "metadata": {},
   "source": [
    "# Atividade Integradora"
   ]
  },
  {
   "cell_type": "markdown",
   "metadata": {
    "collapsed": "true"
   },
   "source": [
    "# Road Map"
   ]
  },
  {
   "cell_type": "markdown",
   "metadata": {
    "collapsed": "true",
    "execution": {
     "iopub.execute_input": "2020-07-04T21:24:39.814291Z",
     "iopub.status.busy": "2020-07-04T21:24:39.813989Z",
     "iopub.status.idle": "2020-07-04T21:24:39.818918Z",
     "shell.execute_reply": "2020-07-04T21:24:39.817865Z",
     "shell.execute_reply.started": "2020-07-04T21:24:39.814265Z"
    }
   },
   "source": [
    "## Recomendação: business bem avaliado que o usuário não foi\n",
    "\n",
    "* bz: - **ok**\n",
    "       - explodir atributos e horas de funcionamento\n",
    "       - tratar atributos - selecionar os que fazem sentido e transforar true ou false para dummy\n",
    "       - rodar um [k-means](https://spark.apache.org/docs/latest/api/python/pyspark.ml.html?highlight=kmeans#pyspark.ml.clustering.KMeans) na base\n",
    "       - criar uma lista de business_id e no do cluster (cluster_bz)\n",
    "       (- join horários mais frequentados pela base de check-in)\n",
    "       \n",
    "       - ordenar business por nota\n",
    "\n",
    "\n",
    "* usr (Rafa) -  **ok**\n",
    "       - hclust de usuários para traçar perfil comum (perfil_usr)\n",
    "       - identificar usuários mais engajados/populares/com reviews mais bem avaliadas (cluster_usr)\n",
    "       - entender 'elite'\n",
    "       - verificar rede de amigos - matriz de distância pela lista de amigos\n",
    "       \n",
    "* rv:\n",
    "        - Join a lista de cluster_bz na base pelo business_id\n",
    "        - Join lista de cluster de usuários (perfil_usr)\n",
    "        - Juntar atributos das tips na base: contagem, compliments, se teve ou não tips\n",
    "        - Text mining nas reviews/tip para encontrar as palavras com maior frequência em cada cluster_bz  e cluster_usr\n",
    "        - Lista com palavras mais frequentes e nota média por cluster_bz\n",
    "        (- Comparar horário dos reveiws com quantidade de check-ins no estabelecimento)\n",
    "        - avaliar evolução das notas por cluster_bz e por perfil de usuário (cluster_usr)\n",
    "        - filtrar apenas usuários que fazem mais reviews?\n",
    "\n",
    "        \n",
    "* base final:\n",
    "\n",
    "## Algoritmo para Recomendação (rascunho)\n",
    "usuário ---> classificado no cluster\n",
    "- buscar clusters de business mais bem avaliados pelo cluster do usuário\n",
    "- selecionar cluster mais bem avaliado\n",
    "- filtrar estabelecimentos que o usuário ainda não foi (não tem review)\n",
    "- selecionar os 5 mais bem avaliados para a recomendação\n",
    "\n",
    "\n",
    "* modelo:\n",
    "    - input dos dados do perfil usuário + reviews realizadas + restaurantes frequentados\n",
    "    - output: número do cluster de restaurantes filtrado com os não frequentados\n"
   ]
  },
  {
   "cell_type": "markdown",
   "metadata": {
    "execution": {
     "iopub.execute_input": "2020-07-04T21:24:34.229887Z",
     "iopub.status.busy": "2020-07-04T21:24:34.229594Z",
     "iopub.status.idle": "2020-07-04T21:24:34.233151Z",
     "shell.execute_reply": "2020-07-04T21:24:34.232376Z",
     "shell.execute_reply.started": "2020-07-04T21:24:34.229860Z"
    },
    "toc-hr-collapsed": true,
    "toc-nb-collapsed": true
   },
   "source": [
    "# Ambiente Spark"
   ]
  },
  {
   "cell_type": "code",
   "execution_count": 3,
   "metadata": {
    "ExecuteTime": {
     "end_time": "2020-07-04T20:58:55.919285Z",
     "start_time": "2020-07-04T20:58:55.751760Z"
    },
    "execution": {
     "iopub.execute_input": "2020-07-10T00:00:58.105642Z",
     "iopub.status.busy": "2020-07-10T00:00:58.105352Z",
     "iopub.status.idle": "2020-07-10T00:00:58.108858Z",
     "shell.execute_reply": "2020-07-10T00:00:58.108077Z",
     "shell.execute_reply.started": "2020-07-10T00:00:58.105614Z"
    }
   },
   "outputs": [],
   "source": [
    "import findspark as fs\n",
    "from pyspark.sql import SparkSession"
   ]
  },
  {
   "cell_type": "code",
   "execution_count": 2,
   "metadata": {
    "ExecuteTime": {
     "end_time": "2020-07-04T20:58:59.689452Z",
     "start_time": "2020-07-04T20:58:58.535852Z"
    },
    "execution": {
     "iopub.execute_input": "2020-07-10T00:00:55.674277Z",
     "iopub.status.busy": "2020-07-10T00:00:55.673994Z",
     "iopub.status.idle": "2020-07-10T00:00:56.887620Z",
     "shell.execute_reply": "2020-07-10T00:00:56.886761Z",
     "shell.execute_reply.started": "2020-07-10T00:00:55.674251Z"
    }
   },
   "outputs": [],
   "source": [
    "from pyspark.sql import SparkSession\n",
    "from pyspark.sql.types import *\n",
    "from pyspark.sql import functions as f\n",
    "from pyspark.sql.window import Window\n",
    "from pyspark.ml.feature import StopWordsRemover\n",
    "import pandas as pd\n",
    "import seaborn as sns\n",
    "sns.set(style=\"ticks\", palette=\"pastel\")\n",
    "import os\n",
    "from wordcloud import WordCloud, ImageColorGenerator\n",
    "import matplotlib.pyplot as plt\n",
    "%matplotlib inline"
   ]
  },
  {
   "cell_type": "code",
   "execution_count": 3,
   "metadata": {
    "ExecuteTime": {
     "end_time": "2020-07-04T14:25:48.570849Z",
     "start_time": "2020-07-04T14:25:48.566860Z"
    },
    "execution": {
     "iopub.execute_input": "2020-07-09T20:53:53.140642Z",
     "iopub.status.busy": "2020-07-09T20:53:53.140356Z",
     "iopub.status.idle": "2020-07-09T20:53:53.144378Z",
     "shell.execute_reply": "2020-07-09T20:53:53.143867Z",
     "shell.execute_reply.started": "2020-07-09T20:53:53.140622Z"
    }
   },
   "outputs": [],
   "source": [
    "#MAC Local (Viviane)\n",
    "spark_location='/Users/vivi/server/spark' # Set your own\n",
    "java8_location= '/Library/Java/JavaVirtualMachines/jdk1.8.0_251.jdk/Contents/Home/' # Set your own\n",
    "os.environ['JAVA_HOME'] = java8_location\n",
    "fs.init(spark_home=spark_location)"
   ]
  },
  {
   "cell_type": "code",
   "execution_count": 4,
   "metadata": {
    "ExecuteTime": {
     "end_time": "2020-07-04T20:59:01.139528Z",
     "start_time": "2020-07-04T20:59:01.136536Z"
    },
    "execution": {
     "iopub.execute_input": "2020-07-09T20:53:53.146053Z",
     "iopub.status.busy": "2020-07-09T20:53:53.145865Z",
     "iopub.status.idle": "2020-07-09T20:53:53.148578Z",
     "shell.execute_reply": "2020-07-09T20:53:53.147863Z",
     "shell.execute_reply.started": "2020-07-09T20:53:53.146035Z"
    }
   },
   "outputs": [],
   "source": [
    "#datapath = 'C:\\\\Users\\\\RuWindows\\\\Desktop\\\\PI\\\\yelp_dataset\\\\' #Marcelo\n",
    "#datapath = '../data/yelp' #servidor AWS\n",
    "datapath = 'data' #Viviane"
   ]
  },
  {
   "cell_type": "code",
   "execution_count": 5,
   "metadata": {
    "ExecuteTime": {
     "end_time": "2020-07-04T20:59:02.229461Z",
     "start_time": "2020-07-04T20:59:02.223477Z"
    },
    "execution": {
     "iopub.execute_input": "2020-07-09T20:53:53.149952Z",
     "iopub.status.busy": "2020-07-09T20:53:53.149667Z",
     "iopub.status.idle": "2020-07-09T20:53:53.154993Z",
     "shell.execute_reply": "2020-07-09T20:53:53.154504Z",
     "shell.execute_reply.started": "2020-07-09T20:53:53.149893Z"
    }
   },
   "outputs": [
    {
     "data": {
      "text/plain": [
       "['.DS_Store',\n",
       " 'dataset list.rtf',\n",
       " 'yelp_academic_dataset_business.json',\n",
       " 'yelp_academic_dataset_checkin.json',\n",
       " 'yelp_academic_dataset_review.json',\n",
       " 'yelp_academic_dataset_tip.json',\n",
       " 'yelp_academic_dataset_user.json']"
      ]
     },
     "execution_count": 5,
     "metadata": {},
     "output_type": "execute_result"
    }
   ],
   "source": [
    "files = sorted(os.listdir(datapath))\n",
    "files"
   ]
  },
  {
   "cell_type": "code",
   "execution_count": 6,
   "metadata": {
    "ExecuteTime": {
     "end_time": "2020-07-04T20:59:03.460129Z",
     "start_time": "2020-07-04T20:59:03.456438Z"
    },
    "execution": {
     "iopub.execute_input": "2020-07-09T20:53:53.861975Z",
     "iopub.status.busy": "2020-07-09T20:53:53.861680Z",
     "iopub.status.idle": "2020-07-09T20:53:53.864849Z",
     "shell.execute_reply": "2020-07-09T20:53:53.863972Z",
     "shell.execute_reply.started": "2020-07-09T20:53:53.861947Z"
    },
    "scrolled": true
   },
   "outputs": [],
   "source": [
    "#!head data/yelp_academic_dataset_review.json"
   ]
  },
  {
   "cell_type": "code",
   "execution_count": 7,
   "metadata": {
    "ExecuteTime": {
     "end_time": "2020-07-04T20:59:14.141784Z",
     "start_time": "2020-07-04T20:59:05.287948Z"
    },
    "execution": {
     "iopub.execute_input": "2020-07-09T20:53:54.903264Z",
     "iopub.status.busy": "2020-07-09T20:53:54.902983Z",
     "iopub.status.idle": "2020-07-09T20:53:58.723848Z",
     "shell.execute_reply": "2020-07-09T20:53:58.723265Z",
     "shell.execute_reply.started": "2020-07-09T20:53:54.903238Z"
    }
   },
   "outputs": [],
   "source": [
    "# Spark Session\n",
    "spark = SparkSession.builder \\\n",
    "    .master('local[*]') \\\n",
    "    .appName('Integradora Yelp') \\\n",
    "    .config(\"spark.ui.port\", \"4060\") \\\n",
    "    .getOrCreate()"
   ]
  },
  {
   "cell_type": "markdown",
   "metadata": {
    "ExecuteTime": {
     "end_time": "2020-07-03T00:07:54.527787Z",
     "start_time": "2020-07-03T00:07:49.079182Z"
    }
   },
   "source": [
    "**AWS**\n",
    "\n",
    "spark = SparkSession.builder \\\n",
    "            .master('local[8]') \\\n",
    "            .appName('Yelp Integradora') \\\n",
    "            .getOrCreate()"
   ]
  },
  {
   "cell_type": "code",
   "execution_count": 8,
   "metadata": {
    "ExecuteTime": {
     "end_time": "2020-07-04T20:59:14.164695Z",
     "start_time": "2020-07-04T20:59:14.161703Z"
    },
    "execution": {
     "iopub.execute_input": "2020-07-09T20:53:58.725433Z",
     "iopub.status.busy": "2020-07-09T20:53:58.725234Z",
     "iopub.status.idle": "2020-07-09T20:53:58.728576Z",
     "shell.execute_reply": "2020-07-09T20:53:58.728031Z",
     "shell.execute_reply.started": "2020-07-09T20:53:58.725412Z"
    }
   },
   "outputs": [],
   "source": [
    "sc = spark.sparkContext"
   ]
  },
  {
   "cell_type": "code",
   "execution_count": 9,
   "metadata": {
    "ExecuteTime": {
     "end_time": "2020-07-04T20:59:14.173670Z",
     "start_time": "2020-07-04T20:59:14.165691Z"
    },
    "execution": {
     "iopub.execute_input": "2020-07-09T20:53:58.730217Z",
     "iopub.status.busy": "2020-07-09T20:53:58.730034Z",
     "iopub.status.idle": "2020-07-09T20:53:58.737255Z",
     "shell.execute_reply": "2020-07-09T20:53:58.736741Z",
     "shell.execute_reply.started": "2020-07-09T20:53:58.730199Z"
    }
   },
   "outputs": [
    {
     "data": {
      "text/html": [
       "\n",
       "            <div>\n",
       "                <p><b>SparkSession - in-memory</b></p>\n",
       "                \n",
       "        <div>\n",
       "            <p><b>SparkContext</b></p>\n",
       "\n",
       "            <p><a href=\"http://mac:4060\">Spark UI</a></p>\n",
       "\n",
       "            <dl>\n",
       "              <dt>Version</dt>\n",
       "                <dd><code>v2.4.5</code></dd>\n",
       "              <dt>Master</dt>\n",
       "                <dd><code>local[*]</code></dd>\n",
       "              <dt>AppName</dt>\n",
       "                <dd><code>Integradora Yelp</code></dd>\n",
       "            </dl>\n",
       "        </div>\n",
       "        \n",
       "            </div>\n",
       "        "
      ],
      "text/plain": [
       "<pyspark.sql.session.SparkSession at 0x1a1e894c10>"
      ]
     },
     "execution_count": 9,
     "metadata": {},
     "output_type": "execute_result"
    }
   ],
   "source": [
    "spark#.stop()"
   ]
  },
  {
   "cell_type": "markdown",
   "metadata": {},
   "source": [
    "## Importando as Bases Origem - Raw"
   ]
  },
  {
   "cell_type": "code",
   "execution_count": 87,
   "metadata": {
    "ExecuteTime": {
     "end_time": "2020-07-04T21:00:04.033567Z",
     "start_time": "2020-07-04T20:59:17.113215Z"
    },
    "execution": {
     "iopub.execute_input": "2020-07-09T21:47:12.225321Z",
     "iopub.status.busy": "2020-07-09T21:47:12.225093Z",
     "iopub.status.idle": "2020-07-09T21:47:21.226729Z",
     "shell.execute_reply": "2020-07-09T21:47:21.226103Z",
     "shell.execute_reply.started": "2020-07-09T21:47:12.225301Z"
    }
   },
   "outputs": [],
   "source": [
    "usr_raw = spark.read.json(datapath+'/yelp_academic_dataset_user.json')\n",
    "rv_raw = spark.read.json(datapath+'/yelp_academic_dataset_review.json')\n",
    "bz_raw = spark.read.json(datapath+'/yelp_academic_dataset_business.json')\n",
    "tp_raw = spark.read.json(datapath+'/yelp_academic_dataset_tip.json')\n",
    "ch_raw = spark.read.json(datapath+'/yelp_academic_dataset_checkin.json')"
   ]
  },
  {
   "cell_type": "code",
   "execution_count": 11,
   "metadata": {
    "execution": {
     "iopub.execute_input": "2020-07-09T20:54:12.676704Z",
     "iopub.status.busy": "2020-07-09T20:54:12.676465Z",
     "iopub.status.idle": "2020-07-09T20:54:12.881601Z",
     "shell.execute_reply": "2020-07-09T20:54:12.880914Z",
     "shell.execute_reply.started": "2020-07-09T20:54:12.676681Z"
    }
   },
   "outputs": [],
   "source": [
    "bz_raw.createOrReplaceTempView('bz_raw')\n",
    "rv_raw.createOrReplaceTempView('rv')\n",
    "usr_raw.createOrReplaceTempView('usr')"
   ]
  },
  {
   "cell_type": "code",
   "execution_count": 12,
   "metadata": {
    "ExecuteTime": {
     "end_time": "2020-07-04T21:00:04.048527Z",
     "start_time": "2020-07-04T21:00:04.034564Z"
    },
    "execution": {
     "iopub.execute_input": "2020-07-09T20:54:12.883637Z",
     "iopub.status.busy": "2020-07-09T20:54:12.883374Z",
     "iopub.status.idle": "2020-07-09T20:54:12.897096Z",
     "shell.execute_reply": "2020-07-09T20:54:12.896310Z",
     "shell.execute_reply.started": "2020-07-09T20:54:12.883611Z"
    }
   },
   "outputs": [
    {
     "name": "stdout",
     "output_type": "stream",
     "text": [
      "root\n",
      " |-- address: string (nullable = true)\n",
      " |-- attributes: struct (nullable = true)\n",
      " |    |-- AcceptsInsurance: string (nullable = true)\n",
      " |    |-- AgesAllowed: string (nullable = true)\n",
      " |    |-- Alcohol: string (nullable = true)\n",
      " |    |-- Ambience: string (nullable = true)\n",
      " |    |-- BYOB: string (nullable = true)\n",
      " |    |-- BYOBCorkage: string (nullable = true)\n",
      " |    |-- BestNights: string (nullable = true)\n",
      " |    |-- BikeParking: string (nullable = true)\n",
      " |    |-- BusinessAcceptsBitcoin: string (nullable = true)\n",
      " |    |-- BusinessAcceptsCreditCards: string (nullable = true)\n",
      " |    |-- BusinessParking: string (nullable = true)\n",
      " |    |-- ByAppointmentOnly: string (nullable = true)\n",
      " |    |-- Caters: string (nullable = true)\n",
      " |    |-- CoatCheck: string (nullable = true)\n",
      " |    |-- Corkage: string (nullable = true)\n",
      " |    |-- DietaryRestrictions: string (nullable = true)\n",
      " |    |-- DogsAllowed: string (nullable = true)\n",
      " |    |-- DriveThru: string (nullable = true)\n",
      " |    |-- GoodForDancing: string (nullable = true)\n",
      " |    |-- GoodForKids: string (nullable = true)\n",
      " |    |-- GoodForMeal: string (nullable = true)\n",
      " |    |-- HairSpecializesIn: string (nullable = true)\n",
      " |    |-- HappyHour: string (nullable = true)\n",
      " |    |-- HasTV: string (nullable = true)\n",
      " |    |-- Music: string (nullable = true)\n",
      " |    |-- NoiseLevel: string (nullable = true)\n",
      " |    |-- Open24Hours: string (nullable = true)\n",
      " |    |-- OutdoorSeating: string (nullable = true)\n",
      " |    |-- RestaurantsAttire: string (nullable = true)\n",
      " |    |-- RestaurantsCounterService: string (nullable = true)\n",
      " |    |-- RestaurantsDelivery: string (nullable = true)\n",
      " |    |-- RestaurantsGoodForGroups: string (nullable = true)\n",
      " |    |-- RestaurantsPriceRange2: string (nullable = true)\n",
      " |    |-- RestaurantsReservations: string (nullable = true)\n",
      " |    |-- RestaurantsTableService: string (nullable = true)\n",
      " |    |-- RestaurantsTakeOut: string (nullable = true)\n",
      " |    |-- Smoking: string (nullable = true)\n",
      " |    |-- WheelchairAccessible: string (nullable = true)\n",
      " |    |-- WiFi: string (nullable = true)\n",
      " |-- business_id: string (nullable = true)\n",
      " |-- categories: string (nullable = true)\n",
      " |-- city: string (nullable = true)\n",
      " |-- hours: struct (nullable = true)\n",
      " |    |-- Friday: string (nullable = true)\n",
      " |    |-- Monday: string (nullable = true)\n",
      " |    |-- Saturday: string (nullable = true)\n",
      " |    |-- Sunday: string (nullable = true)\n",
      " |    |-- Thursday: string (nullable = true)\n",
      " |    |-- Tuesday: string (nullable = true)\n",
      " |    |-- Wednesday: string (nullable = true)\n",
      " |-- is_open: long (nullable = true)\n",
      " |-- latitude: double (nullable = true)\n",
      " |-- longitude: double (nullable = true)\n",
      " |-- name: string (nullable = true)\n",
      " |-- postal_code: string (nullable = true)\n",
      " |-- review_count: long (nullable = true)\n",
      " |-- stars: double (nullable = true)\n",
      " |-- state: string (nullable = true)\n",
      "\n"
     ]
    }
   ],
   "source": [
    "# Visualizando Estrutura\n",
    "bz_raw.printSchema()"
   ]
  },
  {
   "cell_type": "code",
   "execution_count": 13,
   "metadata": {
    "ExecuteTime": {
     "end_time": "2020-07-04T21:00:04.565771Z",
     "start_time": "2020-07-04T21:00:04.049524Z"
    },
    "execution": {
     "iopub.execute_input": "2020-07-09T20:54:12.898585Z",
     "iopub.status.busy": "2020-07-09T20:54:12.898251Z",
     "iopub.status.idle": "2020-07-09T20:54:13.273149Z",
     "shell.execute_reply": "2020-07-09T20:54:13.272506Z",
     "shell.execute_reply.started": "2020-07-09T20:54:12.898559Z"
    }
   },
   "outputs": [
    {
     "name": "stdout",
     "output_type": "stream",
     "text": [
      "[Table(name='bz', database=None, description=None, tableType='TEMPORARY', isTemporary=True), Table(name='rv', database=None, description=None, tableType='TEMPORARY', isTemporary=True), Table(name='usr', database=None, description=None, tableType='TEMPORARY', isTemporary=True)]\n"
     ]
    }
   ],
   "source": [
    "# Verificando o SQL\n",
    "print(spark.catalog.listTables())"
   ]
  },
  {
   "cell_type": "code",
   "execution_count": 15,
   "metadata": {
    "ExecuteTime": {
     "end_time": "2020-07-04T21:00:04.569759Z",
     "start_time": "2020-07-04T21:00:04.566768Z"
    },
    "execution": {
     "iopub.execute_input": "2020-07-09T13:24:37.325446Z",
     "iopub.status.busy": "2020-07-09T13:24:37.325185Z",
     "iopub.status.idle": "2020-07-09T13:24:37.329081Z",
     "shell.execute_reply": "2020-07-09T13:24:37.328074Z",
     "shell.execute_reply.started": "2020-07-09T13:24:37.325409Z"
    }
   },
   "outputs": [],
   "source": [
    "# bz_raw.columns"
   ]
  },
  {
   "cell_type": "code",
   "execution_count": 16,
   "metadata": {
    "ExecuteTime": {
     "end_time": "2020-07-04T21:00:04.574746Z",
     "start_time": "2020-07-04T21:00:04.570756Z"
    },
    "execution": {
     "iopub.execute_input": "2020-07-09T13:24:37.330983Z",
     "iopub.status.busy": "2020-07-09T13:24:37.330632Z",
     "iopub.status.idle": "2020-07-09T13:24:37.334544Z",
     "shell.execute_reply": "2020-07-09T13:24:37.333637Z",
     "shell.execute_reply.started": "2020-07-09T13:24:37.330922Z"
    }
   },
   "outputs": [],
   "source": [
    "# usr_raw.columns"
   ]
  },
  {
   "cell_type": "code",
   "execution_count": 17,
   "metadata": {
    "ExecuteTime": {
     "end_time": "2020-07-04T21:00:04.580730Z",
     "start_time": "2020-07-04T21:00:04.575743Z"
    },
    "execution": {
     "iopub.execute_input": "2020-07-09T13:24:37.336122Z",
     "iopub.status.busy": "2020-07-09T13:24:37.335597Z",
     "iopub.status.idle": "2020-07-09T13:24:37.339064Z",
     "shell.execute_reply": "2020-07-09T13:24:37.338414Z",
     "shell.execute_reply.started": "2020-07-09T13:24:37.336084Z"
    }
   },
   "outputs": [],
   "source": [
    "# rv_raw.columns"
   ]
  },
  {
   "cell_type": "code",
   "execution_count": 18,
   "metadata": {
    "ExecuteTime": {
     "end_time": "2020-07-04T21:00:04.584720Z",
     "start_time": "2020-07-04T21:00:04.581729Z"
    },
    "execution": {
     "iopub.execute_input": "2020-07-09T13:24:37.340537Z",
     "iopub.status.busy": "2020-07-09T13:24:37.340328Z",
     "iopub.status.idle": "2020-07-09T13:24:37.342937Z",
     "shell.execute_reply": "2020-07-09T13:24:37.342410Z",
     "shell.execute_reply.started": "2020-07-09T13:24:37.340516Z"
    }
   },
   "outputs": [],
   "source": [
    "# tp_raw.columns"
   ]
  },
  {
   "cell_type": "markdown",
   "metadata": {},
   "source": [
    "# Tratamento das bases"
   ]
  },
  {
   "cell_type": "markdown",
   "metadata": {},
   "source": [
    "## Check-ins"
   ]
  },
  {
   "cell_type": "markdown",
   "metadata": {},
   "source": [
    "- Explosão das datas na base"
   ]
  },
  {
   "cell_type": "code",
   "execution_count": 14,
   "metadata": {
    "execution": {
     "iopub.execute_input": "2020-07-09T20:54:23.601574Z",
     "iopub.status.busy": "2020-07-09T20:54:23.601273Z",
     "iopub.status.idle": "2020-07-09T20:54:23.647113Z",
     "shell.execute_reply": "2020-07-09T20:54:23.646410Z",
     "shell.execute_reply.started": "2020-07-09T20:54:23.601546Z"
    }
   },
   "outputs": [],
   "source": [
    "ch = ch_raw.withColumn('dt', f.explode(f.split(f.col('date'),', ')))"
   ]
  },
  {
   "cell_type": "code",
   "execution_count": 139,
   "metadata": {
    "execution": {
     "iopub.execute_input": "2020-07-09T22:37:40.575483Z",
     "iopub.status.busy": "2020-07-09T22:37:40.575180Z",
     "iopub.status.idle": "2020-07-09T22:37:40.620886Z",
     "shell.execute_reply": "2020-07-09T22:37:40.620133Z",
     "shell.execute_reply.started": "2020-07-09T22:37:40.575455Z"
    }
   },
   "outputs": [
    {
     "name": "stdout",
     "output_type": "stream",
     "text": [
      "+--------------------+--------------------+\n",
      "|         business_id|                date|\n",
      "+--------------------+--------------------+\n",
      "|--1UhMGODdWsrMast...|2016-04-26 19:49:...|\n",
      "|--6MefnULPED_I942...|2011-06-04 18:22:...|\n",
      "|--7zmmkVg-IMGaXbu...|2014-12-29 19:25:...|\n",
      "|--8LPVSo5i0Oo61X0...| 2016-07-08 16:43:30|\n",
      "|--9QQLMTbFzLJ_oT-...|2010-06-26 17:39:...|\n",
      "|--9e1ONYQuAa-CB_R...|2010-02-08 05:56:...|\n",
      "|--DaPTJW3-tB1vP-P...|2012-06-03 17:46:...|\n",
      "|--DdmeR16TRb3LsjG...|2012-11-02 21:26:...|\n",
      "|--EF5N7P70J_UYBTP...|2018-05-25 19:52:...|\n",
      "|--EX4rRznJrltyn-3...|2010-02-26 17:05:...|\n",
      "|--FBCX-N37CMYDfs7...|2010-05-31 07:57:...|\n",
      "|--FLdgM0GNpXVMn74...|2012-10-23 18:47:...|\n",
      "|--FnvijzY20d1nk9H...|2019-09-19 02:42:...|\n",
      "|--GM_ORV2cYS-h38D...|2011-09-11 18:16:...|\n",
      "|--I7YYLada0tSLkOR...|2014-11-07 00:51:...|\n",
      "|--KCl2FvVQpvjzmZS...|2011-07-29 16:53:...|\n",
      "|--KQsXc-clkO7oHRq...|2010-05-02 23:57:...|\n",
      "|--Ni3oJ4VOqfOEu7S...| 2019-06-07 17:54:58|\n",
      "|--Rsj71PBe31h5Ylj...|2011-12-15 18:09:...|\n",
      "|--S62v0QgkqQaVUhF...|2010-12-25 07:04:...|\n",
      "+--------------------+--------------------+\n",
      "only showing top 20 rows\n",
      "\n"
     ]
    }
   ],
   "source": [
    "ch_raw.show()"
   ]
  },
  {
   "cell_type": "code",
   "execution_count": 15,
   "metadata": {
    "execution": {
     "iopub.execute_input": "2020-07-09T20:54:24.390766Z",
     "iopub.status.busy": "2020-07-09T20:54:24.390476Z",
     "iopub.status.idle": "2020-07-09T20:54:24.403127Z",
     "shell.execute_reply": "2020-07-09T20:54:24.402494Z",
     "shell.execute_reply.started": "2020-07-09T20:54:24.390738Z"
    }
   },
   "outputs": [],
   "source": [
    "ch.createOrReplaceTempView('ch')"
   ]
  },
  {
   "cell_type": "code",
   "execution_count": 16,
   "metadata": {
    "execution": {
     "iopub.execute_input": "2020-07-09T20:54:25.114233Z",
     "iopub.status.busy": "2020-07-09T20:54:25.113970Z",
     "iopub.status.idle": "2020-07-09T20:54:25.191538Z",
     "shell.execute_reply": "2020-07-09T20:54:25.190846Z",
     "shell.execute_reply.started": "2020-07-09T20:54:25.114211Z"
    }
   },
   "outputs": [],
   "source": [
    "ch1 = spark.sql('''\n",
    "            SELECT business_id, dt,\n",
    "            DATE(dt) AS date,\n",
    "            DAYOFWEEK(dt) AS dow,\n",
    "            MONTH(dt) AS month,\n",
    "            YEAR(dt) AS year,\n",
    "            HOUR(dt) AS hour,\n",
    "            DAY(dt) AS day\n",
    "            \n",
    "            FROM ch\n",
    "            \n",
    "            ''')"
   ]
  },
  {
   "cell_type": "code",
   "execution_count": 141,
   "metadata": {
    "execution": {
     "iopub.execute_input": "2020-07-09T22:38:08.197986Z",
     "iopub.status.busy": "2020-07-09T22:38:08.197689Z",
     "iopub.status.idle": "2020-07-09T22:38:08.284736Z",
     "shell.execute_reply": "2020-07-09T22:38:08.284016Z",
     "shell.execute_reply.started": "2020-07-09T22:38:08.197959Z"
    }
   },
   "outputs": [
    {
     "name": "stdout",
     "output_type": "stream",
     "text": [
      "+--------------------+-------------------+----------+---+-----+----+----+---+\n",
      "|         business_id|                 dt|      date|dow|month|year|hour|day|\n",
      "+--------------------+-------------------+----------+---+-----+----+----+---+\n",
      "|--1UhMGODdWsrMast...|2016-04-26 19:49:16|2016-04-26|  3|    4|2016|  19| 26|\n",
      "|--1UhMGODdWsrMast...|2016-08-30 18:36:57|2016-08-30|  3|    8|2016|  18| 30|\n",
      "|--1UhMGODdWsrMast...|2016-10-15 02:45:18|2016-10-15|  7|   10|2016|   2| 15|\n",
      "|--1UhMGODdWsrMast...|2016-11-18 01:54:50|2016-11-18|  6|   11|2016|   1| 18|\n",
      "|--1UhMGODdWsrMast...|2017-04-20 18:39:06|2017-04-20|  5|    4|2017|  18| 20|\n",
      "|--1UhMGODdWsrMast...|2017-05-03 17:58:02|2017-05-03|  4|    5|2017|  17|  3|\n",
      "|--1UhMGODdWsrMast...|2019-03-19 22:04:48|2019-03-19|  3|    3|2019|  22| 19|\n",
      "|--6MefnULPED_I942...|2011-06-04 18:22:23|2011-06-04|  7|    6|2011|  18|  4|\n",
      "|--6MefnULPED_I942...|2011-07-23 23:51:33|2011-07-23|  7|    7|2011|  23| 23|\n",
      "|--6MefnULPED_I942...|2012-04-15 01:07:50|2012-04-15|  1|    4|2012|   1| 15|\n",
      "|--6MefnULPED_I942...|2012-05-06 23:08:42|2012-05-06|  1|    5|2012|  23|  6|\n",
      "|--6MefnULPED_I942...|2012-06-08 22:43:12|2012-06-08|  6|    6|2012|  22|  8|\n",
      "|--6MefnULPED_I942...|2012-08-06 23:20:52|2012-08-06|  2|    8|2012|  23|  6|\n",
      "|--6MefnULPED_I942...|2012-08-19 18:30:44|2012-08-19|  1|    8|2012|  18| 19|\n",
      "|--6MefnULPED_I942...|2013-01-27 23:49:51|2013-01-27|  1|    1|2013|  23| 27|\n",
      "|--6MefnULPED_I942...|2013-03-01 01:22:29|2013-03-01|  6|    3|2013|   1|  1|\n",
      "|--6MefnULPED_I942...|2013-03-23 21:53:47|2013-03-23|  7|    3|2013|  21| 23|\n",
      "|--6MefnULPED_I942...|2013-03-24 01:11:51|2013-03-24|  1|    3|2013|   1| 24|\n",
      "|--6MefnULPED_I942...|2013-05-20 00:12:25|2013-05-20|  2|    5|2013|   0| 20|\n",
      "|--6MefnULPED_I942...|2013-06-29 22:50:57|2013-06-29|  7|    6|2013|  22| 29|\n",
      "+--------------------+-------------------+----------+---+-----+----+----+---+\n",
      "only showing top 20 rows\n",
      "\n"
     ]
    }
   ],
   "source": [
    "ch1.show()"
   ]
  },
  {
   "cell_type": "code",
   "execution_count": 17,
   "metadata": {
    "execution": {
     "iopub.execute_input": "2020-07-09T20:54:25.715206Z",
     "iopub.status.busy": "2020-07-09T20:54:25.714920Z",
     "iopub.status.idle": "2020-07-09T20:54:25.730545Z",
     "shell.execute_reply": "2020-07-09T20:54:25.729907Z",
     "shell.execute_reply.started": "2020-07-09T20:54:25.715179Z"
    }
   },
   "outputs": [],
   "source": [
    "ch1.createOrReplaceTempView('ch1')"
   ]
  },
  {
   "cell_type": "code",
   "execution_count": 18,
   "metadata": {
    "execution": {
     "iopub.execute_input": "2020-07-09T20:54:26.326449Z",
     "iopub.status.busy": "2020-07-09T20:54:26.326154Z",
     "iopub.status.idle": "2020-07-09T20:54:26.383442Z",
     "shell.execute_reply": "2020-07-09T20:54:26.382739Z",
     "shell.execute_reply.started": "2020-07-09T20:54:26.326421Z"
    }
   },
   "outputs": [],
   "source": [
    "ch2 = spark.sql('''\n",
    "            SELECT  business_id, year, month, dow, day,\n",
    "                    COUNT(date) AS count\n",
    "            \n",
    "            FROM ch1\n",
    "            \n",
    "            GROUP BY business_id, year, month, dow, day\n",
    "            ORDER BY count DESC\n",
    "                 \n",
    "            ''')"
   ]
  },
  {
   "cell_type": "code",
   "execution_count": 19,
   "metadata": {
    "execution": {
     "iopub.execute_input": "2020-07-09T20:54:27.335946Z",
     "iopub.status.busy": "2020-07-09T20:54:27.335656Z",
     "iopub.status.idle": "2020-07-09T20:54:27.353827Z",
     "shell.execute_reply": "2020-07-09T20:54:27.353182Z",
     "shell.execute_reply.started": "2020-07-09T20:54:27.335919Z"
    }
   },
   "outputs": [],
   "source": [
    "ch2.createOrReplaceTempView('ch2')"
   ]
  },
  {
   "cell_type": "markdown",
   "metadata": {},
   "source": [
    "### Analisando o movimento de um estabelecimento"
   ]
  },
  {
   "cell_type": "code",
   "execution_count": 20,
   "metadata": {
    "execution": {
     "iopub.execute_input": "2020-07-09T20:54:30.790877Z",
     "iopub.status.busy": "2020-07-09T20:54:30.790598Z",
     "iopub.status.idle": "2020-07-09T20:54:32.636855Z",
     "shell.execute_reply": "2020-07-09T20:54:32.636319Z",
     "shell.execute_reply.started": "2020-07-09T20:54:30.790850Z"
    }
   },
   "outputs": [],
   "source": [
    "df = spark.sql('''\n",
    "            SELECT *\n",
    "            FROM ch2\n",
    "\n",
    "            WHERE business_id = 'BxCzy1WOVxOrr_G7V4BIvg'\n",
    "            \n",
    "            ''').toPandas()"
   ]
  },
  {
   "cell_type": "code",
   "execution_count": 21,
   "metadata": {
    "execution": {
     "iopub.execute_input": "2020-07-09T20:54:32.867945Z",
     "iopub.status.busy": "2020-07-09T20:54:32.867665Z",
     "iopub.status.idle": "2020-07-09T20:54:32.885875Z",
     "shell.execute_reply": "2020-07-09T20:54:32.885232Z",
     "shell.execute_reply.started": "2020-07-09T20:54:32.867919Z"
    }
   },
   "outputs": [],
   "source": [
    "df2 = df.groupby(['month','dow'])['count'].sum().unstack('dow').fillna(0)   "
   ]
  },
  {
   "cell_type": "code",
   "execution_count": 22,
   "metadata": {
    "execution": {
     "iopub.execute_input": "2020-07-09T20:54:33.800606Z",
     "iopub.status.busy": "2020-07-09T20:54:33.800279Z",
     "iopub.status.idle": "2020-07-09T20:54:34.238718Z",
     "shell.execute_reply": "2020-07-09T20:54:34.237900Z",
     "shell.execute_reply.started": "2020-07-09T20:54:33.800575Z"
    }
   },
   "outputs": [
    {
     "data": {
      "text/plain": [
       "<matplotlib.axes._subplots.AxesSubplot at 0x1a1d9227d0>"
      ]
     },
     "execution_count": 22,
     "metadata": {},
     "output_type": "execute_result"
    },
    {
     "data": {
      "image/png": "[encoded data removed]",
      "text/plain": [
       "<Figure size 1800x504 with 2 Axes>"
      ]
     },
     "metadata": {
      "needs_background": "light"
     },
     "output_type": "display_data"
    }
   ],
   "source": [
    "plt.figure(figsize = (25,7))\n",
    "sns.heatmap(data = df2, cmap=\"YlGnBu\", annot = True)"
   ]
  },
  {
   "cell_type": "markdown",
   "metadata": {},
   "source": [
    "Pelo gráfico, verfica-se que o local é ais movimentado em janeiro, principalmente aos finais de semana. Para simplicar, será utilzada a média de checkins dos estabelecimentos."
   ]
  },
  {
   "cell_type": "markdown",
   "metadata": {},
   "source": [
    "### Média de movimento diário por estabelecimento"
   ]
  },
  {
   "cell_type": "code",
   "execution_count": 46,
   "metadata": {
    "execution": {
     "iopub.execute_input": "2020-07-09T21:21:37.110111Z",
     "iopub.status.busy": "2020-07-09T21:21:37.109908Z",
     "iopub.status.idle": "2020-07-09T21:21:57.344644Z",
     "shell.execute_reply": "2020-07-09T21:21:57.343682Z",
     "shell.execute_reply.started": "2020-07-09T21:21:37.110093Z"
    }
   },
   "outputs": [
    {
     "name": "stdout",
     "output_type": "stream",
     "text": [
      "+--------------------+----+-----+---+---+-----+\n",
      "|         business_id|year|month|dow|day|count|\n",
      "+--------------------+----+-----+---+---+-----+\n",
      "|RESDUcs7fIiihp38-...|2019|   10|  1|  6|  288|\n",
      "|K2PHx0JgNuZh7b89g...|2017|    7|  7| 15|  264|\n",
      "|RESDUcs7fIiihp38-...|2019|    9|  1|  1|  263|\n",
      "|RESDUcs7fIiihp38-...|2019|   10|  7|  5|  261|\n",
      "|RESDUcs7fIiihp38-...|2019|    8|  7| 31|  246|\n",
      "+--------------------+----+-----+---+---+-----+\n",
      "only showing top 5 rows\n",
      "\n"
     ]
    }
   ],
   "source": [
    "ch2.show(5)"
   ]
  },
  {
   "cell_type": "code",
   "execution_count": 48,
   "metadata": {
    "execution": {
     "iopub.execute_input": "2020-07-09T21:22:38.986603Z",
     "iopub.status.busy": "2020-07-09T21:22:38.986375Z",
     "iopub.status.idle": "2020-07-09T21:22:39.018535Z",
     "shell.execute_reply": "2020-07-09T21:22:39.017947Z",
     "shell.execute_reply.started": "2020-07-09T21:22:38.986581Z"
    }
   },
   "outputs": [],
   "source": [
    "ch3 = spark.sql('''\n",
    "            SELECT  business_id,\n",
    "                    avg(count) AS avg_frequency\n",
    "            \n",
    "            FROM ch2\n",
    "            WHERE year >= 2017\n",
    "            GROUP BY business_id\n",
    "            ORDER BY avg_frequency DESC\n",
    "\n",
    "            \n",
    "            ''')"
   ]
  },
  {
   "cell_type": "code",
   "execution_count": 49,
   "metadata": {
    "execution": {
     "iopub.execute_input": "2020-07-09T21:22:45.932536Z",
     "iopub.status.busy": "2020-07-09T21:22:45.932304Z",
     "iopub.status.idle": "2020-07-09T21:22:54.871463Z",
     "shell.execute_reply": "2020-07-09T21:22:54.870719Z",
     "shell.execute_reply.started": "2020-07-09T21:22:45.932518Z"
    }
   },
   "outputs": [
    {
     "name": "stdout",
     "output_type": "stream",
     "text": [
      "+--------------------+------------------+\n",
      "|         business_id|     avg_frequency|\n",
      "+--------------------+------------------+\n",
      "|_GdzDB3SU9Ni7mAOQ...|             106.0|\n",
      "|ndjiWXoH1pPMwEBhR...|              87.0|\n",
      "|K2PHx0JgNuZh7b89g...| 65.36363636363636|\n",
      "|33Pq0cQn3jODiIG7V...| 56.46969696969697|\n",
      "|saOyWIFTUHGMhRnGT...|              53.0|\n",
      "|XZSrcXW0AWOUC1QOx...|38.142857142857146|\n",
      "|FaHADZARwnY4yvlvp...|30.924791086350975|\n",
      "|YpW8DmVDddFy_BSN1...|              30.5|\n",
      "|8isOf2XrhPnWqIpW5...|              29.0|\n",
      "|hihud--QRriCYZw1z...|28.071494893221914|\n",
      "|vL-B-BmNQWULt-chn...|              26.0|\n",
      "|JmI9nslLD7KZqRr__...|25.542246982358403|\n",
      "|TPiYeUu9ICo_VYLE1...| 25.11111111111111|\n",
      "|QXV3L_QFGj8r6nWX2...|24.516248839368618|\n",
      "|VXOS-q3-YgmgLXQE5...|              24.0|\n",
      "|k4LqVGsdvcBDrQHo6...|              23.0|\n",
      "|RESDUcs7fIiihp38-...| 22.03004694835681|\n",
      "|ca1lyR65KPrjuSS50...|              22.0|\n",
      "|Cu5oU2dO3JCEQ4XHK...|21.666666666666668|\n",
      "|7PWUo0_T_1Il0CqSp...|              21.0|\n",
      "+--------------------+------------------+\n",
      "only showing top 20 rows\n",
      "\n"
     ]
    }
   ],
   "source": [
    "ch3.show()"
   ]
  },
  {
   "cell_type": "code",
   "execution_count": 50,
   "metadata": {
    "execution": {
     "iopub.execute_input": "2020-07-09T21:25:10.228403Z",
     "iopub.status.busy": "2020-07-09T21:25:10.228076Z",
     "iopub.status.idle": "2020-07-09T21:25:10.241130Z",
     "shell.execute_reply": "2020-07-09T21:25:10.240428Z",
     "shell.execute_reply.started": "2020-07-09T21:25:10.228372Z"
    }
   },
   "outputs": [],
   "source": [
    "ch3.createOrReplaceTempView('ch3')"
   ]
  },
  {
   "cell_type": "markdown",
   "metadata": {},
   "source": [
    "A média diária de check-ins será juntada na base final para modelagem"
   ]
  },
  {
   "cell_type": "markdown",
   "metadata": {},
   "source": [
    "## Tips"
   ]
  },
  {
   "cell_type": "code",
   "execution_count": 93,
   "metadata": {
    "execution": {
     "iopub.execute_input": "2020-07-09T21:54:01.885722Z",
     "iopub.status.busy": "2020-07-09T21:54:01.885383Z",
     "iopub.status.idle": "2020-07-09T21:54:01.894015Z",
     "shell.execute_reply": "2020-07-09T21:54:01.893328Z",
     "shell.execute_reply.started": "2020-07-09T21:54:01.885695Z"
    }
   },
   "outputs": [],
   "source": [
    "tp_raw.createOrReplaceTempView('tp')"
   ]
  },
  {
   "cell_type": "code",
   "execution_count": 94,
   "metadata": {
    "execution": {
     "iopub.execute_input": "2020-07-09T21:54:03.131062Z",
     "iopub.status.busy": "2020-07-09T21:54:03.130770Z",
     "iopub.status.idle": "2020-07-09T21:54:03.178841Z",
     "shell.execute_reply": "2020-07-09T21:54:03.178154Z",
     "shell.execute_reply.started": "2020-07-09T21:54:03.131034Z"
    }
   },
   "outputs": [
    {
     "name": "stdout",
     "output_type": "stream",
     "text": [
      "+--------------------+----------------+-------------------+--------------------+--------------------+\n",
      "|         business_id|compliment_count|               date|                text|             user_id|\n",
      "+--------------------+----------------+-------------------+--------------------+--------------------+\n",
      "|UYX5zL_Xj9WEc_Wp-...|               0|2013-11-26 18:20:08|Here for a quick mtg|hf27xTME3EiCp6NL6...|\n",
      "|Ch3HkwQYv1YKw_FO0...|               0|2014-06-15 22:26:45|Cucumber strawber...|uEvusDwoSymbJJ0au...|\n",
      "|rDoT-MgxGRiYqCmi0...|               0|2016-07-18 22:03:42|Very nice good se...|AY-laIws3S7YXNl_f...|\n",
      "|OHXnDV01gLokiX1EL...|               0|2014-06-06 01:10:34|It's a small plac...|Ue_7yUlkEbX4AhnYd...|\n",
      "|GMrwDXRlAZU2zj5nH...|               0|2011-04-08 18:12:01|8 sandwiches, $24...|LltbT_fUMqZ-ZJP-v...|\n",
      "|ALwAlxItASeEs2vYA...|               0|2015-05-20 20:17:38|Great ramen! Not ...|HHNBqfbDR8b1iq-QG...|\n",
      "|d_L-rfS1vT3JMzgCU...|               0|2014-09-01 01:23:48|Cochinita Pibil w...|r0j4IpUbcdC1-HfoM...|\n",
      "|5FIOXmUE3qMviX9Ga...|               0|2010-01-30 02:03:16|Get a tsoynami fo...|gxVQZJVeKBUk7jEhS...|\n",
      "|rcaPajgKOJC2vo_l3...|               0|2012-05-29 02:05:56|Kelly is an aweso...|2hdR7KYAmnCk2FjTn...|\n",
      "|hfBrethLHS9iXeBNR...|               0|2011-09-30 18:38:47|Check out the gre...|DsWg3leomfasGs3j0...|\n",
      "|_98ytLdlPEDp0FTuO...|               0|2012-10-14 02:11:37|Girls night at a ...|dLWDy4yzVzMQuhjoE...|\n",
      "|ow3oP3cfmhlfmSsGa...|               0|2013-08-16 15:14:22|Lovely locale, go...|SF83eQjb7XUiXuZVz...|\n",
      "|gG9z6zr_49LocyCTv...|               0|2014-06-14 00:44:00|Just be ready to ...|oLHQ-31LcRobRxjRU...|\n",
      "|w8RWhhuKxMiFCpvFv...|               0|2010-11-22 04:59:53|The Pure Chocolat...|jOW3BGthCDL3l7Dd6...|\n",
      "|-ed0Yc9on37RoIoG2...|               0|2014-04-07 06:29:58|If there's a wait...|jJtMKVIUzdDG4xagI...|\n",
      "|-wDNRL4lm1UgeFLG9...|               0|2016-04-19 09:33:45|Great food. Been ...|XhGn2quN9IzMI4HkM...|\n",
      "|aLcFhMe6DDJ430zel...|               0|2012-03-16 02:02:27|Must book your table|K3bzEv1h7CP-B92bN...|\n",
      "|yDWYuIDfXHckdJM5f...|               0|2013-02-14 05:50:30|Great guy!  Aweso...|aqc3CnsHVD177hfh3...|\n",
      "|UbSa8ddKsvMZgodku...|               0|2014-08-28 21:40:22|Quiet, relaxed, f...|141lhbCGhduUaFs17...|\n",
      "|XC06xxb7FFYsXcI2E...|               0|2017-07-20 19:29:39|Make a reservatio...|BpJygDyhzDf7Pw1Is...|\n",
      "+--------------------+----------------+-------------------+--------------------+--------------------+\n",
      "only showing top 20 rows\n",
      "\n"
     ]
    }
   ],
   "source": [
    "tp_raw.show()"
   ]
  },
  {
   "cell_type": "markdown",
   "metadata": {},
   "source": [
    "- Quantidade de tips por estabelecimento e usuário"
   ]
  },
  {
   "cell_type": "code",
   "execution_count": 132,
   "metadata": {
    "execution": {
     "iopub.execute_input": "2020-07-09T22:06:52.487714Z",
     "iopub.status.busy": "2020-07-09T22:06:52.487498Z",
     "iopub.status.idle": "2020-07-09T22:06:52.496445Z",
     "shell.execute_reply": "2020-07-09T22:06:52.495718Z",
     "shell.execute_reply.started": "2020-07-09T22:06:52.487694Z"
    }
   },
   "outputs": [],
   "source": [
    "tp_usr = spark.sql('''\n",
    "            SELECT user_id, \n",
    "            count(text) AS tips_counter,\n",
    "            sum(compliment_count) as total_compliments\n",
    "            \n",
    "            FROM tp\n",
    "            \n",
    "            GROUP BY user_id\n",
    "            ORDER BY total_compliments DESC\n",
    "            ''')"
   ]
  },
  {
   "cell_type": "code",
   "execution_count": 133,
   "metadata": {
    "execution": {
     "iopub.execute_input": "2020-07-09T22:06:56.347830Z",
     "iopub.status.busy": "2020-07-09T22:06:56.347585Z",
     "iopub.status.idle": "2020-07-09T22:06:57.912555Z",
     "shell.execute_reply": "2020-07-09T22:06:57.911850Z",
     "shell.execute_reply.started": "2020-07-09T22:06:56.347808Z"
    }
   },
   "outputs": [
    {
     "name": "stdout",
     "output_type": "stream",
     "text": [
      "+--------------------+------------+-----------------+\n",
      "|             user_id|tips_counter|total_compliments|\n",
      "+--------------------+------------+-----------------+\n",
      "|mkbx55W8B8aPLgDqe...|        2664|             1358|\n",
      "|zFYs8gSUYDvXkb6O7...|         453|              196|\n",
      "|0tvCcnfJnSs55iB6m...|        1602|              165|\n",
      "|R5WcogaoAwjdHxrB2...|         497|              162|\n",
      "|A0j21z2Q1HGic7jW6...|        1005|              159|\n",
      "|eZfHm0qI8A_HfvXSc...|        1376|              126|\n",
      "|2EuPAGalYnP7eSxPg...|        1186|              122|\n",
      "|CxDOIDnH8gp9KXzpB...|        1673|              115|\n",
      "|fZY97UjlP-iv35beO...|         330|              107|\n",
      "|Fv0e9RIV9jw5TX3ct...|         249|              101|\n",
      "|0FMte0z-repSVWSJ_...|         950|              101|\n",
      "|3nDUQBjKyVor5wV0r...|        1018|               94|\n",
      "|u_wqt9RshdZsoj8ik...|         385|               86|\n",
      "|8DEyKVyplnOcSKx39...|         102|               85|\n",
      "|uG35h72BAMutvXAWd...|         848|               80|\n",
      "|dt9IHwfuZs9D9LOH7...|         349|               74|\n",
      "|0tC5OOTuwvPGnnqhP...|         850|               71|\n",
      "|wTfb2nfzPIyFcYQAr...|         197|               71|\n",
      "|JQIZhoQB-Tg9hdBEj...|         356|               68|\n",
      "|7Oe6ikklTjVBbEFw9...|         591|               64|\n",
      "+--------------------+------------+-----------------+\n",
      "only showing top 20 rows\n",
      "\n"
     ]
    }
   ],
   "source": [
    "tp_usr.show()"
   ]
  },
  {
   "cell_type": "code",
   "execution_count": 100,
   "metadata": {
    "execution": {
     "iopub.execute_input": "2020-07-09T21:58:09.374437Z",
     "iopub.status.busy": "2020-07-09T21:58:09.374149Z",
     "iopub.status.idle": "2020-07-09T21:58:09.384294Z",
     "shell.execute_reply": "2020-07-09T21:58:09.383444Z",
     "shell.execute_reply.started": "2020-07-09T21:58:09.374410Z"
    }
   },
   "outputs": [],
   "source": [
    "tp_bz = spark.sql('''\n",
    "            SELECT business_id, \n",
    "            count(text) AS tips_counter,\n",
    "            sum(compliment_count) as total_compliments\n",
    "            \n",
    "            FROM tp\n",
    "            \n",
    "            GROUP BY business_id\n",
    "            ORDER BY total_compliments DESC\n",
    "            ''')"
   ]
  },
  {
   "cell_type": "code",
   "execution_count": 101,
   "metadata": {
    "execution": {
     "iopub.execute_input": "2020-07-09T21:58:28.304644Z",
     "iopub.status.busy": "2020-07-09T21:58:28.304438Z",
     "iopub.status.idle": "2020-07-09T21:58:28.312297Z",
     "shell.execute_reply": "2020-07-09T21:58:28.311667Z",
     "shell.execute_reply.started": "2020-07-09T21:58:28.304626Z"
    }
   },
   "outputs": [],
   "source": [
    "tp_bz.createOrReplaceTempView('tp_bz')"
   ]
  },
  {
   "cell_type": "code",
   "execution_count": 105,
   "metadata": {
    "execution": {
     "iopub.execute_input": "2020-07-09T22:00:01.395236Z",
     "iopub.status.busy": "2020-07-09T22:00:01.394999Z",
     "iopub.status.idle": "2020-07-09T22:00:02.669969Z",
     "shell.execute_reply": "2020-07-09T22:00:02.669416Z",
     "shell.execute_reply.started": "2020-07-09T22:00:01.395215Z"
    }
   },
   "outputs": [
    {
     "name": "stdout",
     "output_type": "stream",
     "text": [
      "+--------------------+------------+-----------------+\n",
      "|         business_id|tips_counter|total_compliments|\n",
      "+--------------------+------------+-----------------+\n",
      "|BQqwIYQuo2W94smjr...|         128|               68|\n",
      "|FaHADZARwnY4yvlvp...|        3679|               55|\n",
      "|RESDUcs7fIiihp38-...|        1386|               54|\n",
      "|55E0-qUHa7Kzqz8rO...|         329|               40|\n",
      "|DN0b4Un8--Uf6SEWL...|         328|               36|\n",
      "|QhXBIQWUmQxuVErdw...|          76|               36|\n",
      "|JmI9nslLD7KZqRr__...|        2494|               35|\n",
      "|MpmFFw0GE_2iRFPds...|         696|               35|\n",
      "|QsKhwKYB3YeWXqpIP...|          78|               31|\n",
      "|DfgZlNgKwBvCpA_0a...|         442|               31|\n",
      "|OMRYQihVjqqzjoNoQ...|         101|               30|\n",
      "|awI4hHMfa7H0Xf0-C...|         745|               28|\n",
      "|X8c23dur0ll2D9XTu...|         298|               26|\n",
      "|O7UMzd3i-Zk8dMeyY...|         240|               26|\n",
      "|t-o_Sraneime4DDhW...|         648|               24|\n",
      "|iCQpiavjjPzJ5_3gP...|        1145|               24|\n",
      "|yhgUyctWczUN13Min...|         111|               23|\n",
      "|ebTvBxSStI9Vf5Tpu...|         438|               22|\n",
      "|7sPNbCx7vGAaH7SbN...|        1020|               22|\n",
      "|K7lWdNUhCbcnEvI0N...|        1434|               22|\n",
      "+--------------------+------------+-----------------+\n",
      "only showing top 20 rows\n",
      "\n"
     ]
    }
   ],
   "source": [
    "tp_bz.show()"
   ]
  },
  {
   "cell_type": "markdown",
   "metadata": {
    "collapsed": "true"
   },
   "source": [
    "## Business"
   ]
  },
  {
   "cell_type": "markdown",
   "metadata": {},
   "source": [
    "### Abertura dos atributos e horários para colunas"
   ]
  },
  {
   "cell_type": "code",
   "execution_count": 51,
   "metadata": {
    "ExecuteTime": {
     "end_time": "2020-07-04T21:08:56.589029Z",
     "start_time": "2020-07-04T21:08:56.161112Z"
    },
    "execution": {
     "iopub.execute_input": "2020-07-09T21:25:42.743477Z",
     "iopub.status.busy": "2020-07-09T21:25:42.743184Z",
     "iopub.status.idle": "2020-07-09T21:25:43.061438Z",
     "shell.execute_reply": "2020-07-09T21:25:43.060160Z",
     "shell.execute_reply.started": "2020-07-09T21:25:42.743449Z"
    }
   },
   "outputs": [
    {
     "name": "stdout",
     "output_type": "stream",
     "text": [
      "root\n",
      " |-- address: string (nullable = true)\n",
      " |-- business_id: string (nullable = true)\n",
      " |-- categories: string (nullable = true)\n",
      " |-- city: string (nullable = true)\n",
      " |-- is_open: long (nullable = true)\n",
      " |-- latitude: double (nullable = true)\n",
      " |-- longitude: double (nullable = true)\n",
      " |-- name: string (nullable = true)\n",
      " |-- postal_code: string (nullable = true)\n",
      " |-- review_count: long (nullable = true)\n",
      " |-- stars: double (nullable = true)\n",
      " |-- state: string (nullable = true)\n",
      " |-- Friday: string (nullable = true)\n",
      " |-- Monday: string (nullable = true)\n",
      " |-- Saturday: string (nullable = true)\n",
      " |-- Sunday: string (nullable = true)\n",
      " |-- Thursday: string (nullable = true)\n",
      " |-- Tuesday: string (nullable = true)\n",
      " |-- Wednesday: string (nullable = true)\n",
      " |-- AcceptsInsurance: string (nullable = true)\n",
      " |-- AgesAllowed: string (nullable = true)\n",
      " |-- Alcohol: string (nullable = true)\n",
      " |-- Ambience: string (nullable = true)\n",
      " |-- BYOB: string (nullable = true)\n",
      " |-- BYOBCorkage: string (nullable = true)\n",
      " |-- BestNights: string (nullable = true)\n",
      " |-- BikeParking: string (nullable = true)\n",
      " |-- BusinessAcceptsBitcoin: string (nullable = true)\n",
      " |-- BusinessAcceptsCreditCards: string (nullable = true)\n",
      " |-- BusinessParking: string (nullable = true)\n",
      " |-- ByAppointmentOnly: string (nullable = true)\n",
      " |-- Caters: string (nullable = true)\n",
      " |-- CoatCheck: string (nullable = true)\n",
      " |-- Corkage: string (nullable = true)\n",
      " |-- DietaryRestrictions: string (nullable = true)\n",
      " |-- DogsAllowed: string (nullable = true)\n",
      " |-- DriveThru: string (nullable = true)\n",
      " |-- GoodForDancing: string (nullable = true)\n",
      " |-- GoodForKids: string (nullable = true)\n",
      " |-- GoodForMeal: string (nullable = true)\n",
      " |-- HairSpecializesIn: string (nullable = true)\n",
      " |-- HappyHour: string (nullable = true)\n",
      " |-- HasTV: string (nullable = true)\n",
      " |-- Music: string (nullable = true)\n",
      " |-- NoiseLevel: string (nullable = true)\n",
      " |-- Open24Hours: string (nullable = true)\n",
      " |-- OutdoorSeating: string (nullable = true)\n",
      " |-- RestaurantsAttire: string (nullable = true)\n",
      " |-- RestaurantsCounterService: string (nullable = true)\n",
      " |-- RestaurantsDelivery: string (nullable = true)\n",
      " |-- RestaurantsGoodForGroups: string (nullable = true)\n",
      " |-- RestaurantsPriceRange2: string (nullable = true)\n",
      " |-- RestaurantsReservations: string (nullable = true)\n",
      " |-- RestaurantsTableService: string (nullable = true)\n",
      " |-- RestaurantsTakeOut: string (nullable = true)\n",
      " |-- Smoking: string (nullable = true)\n",
      " |-- WheelchairAccessible: string (nullable = true)\n",
      " |-- WiFi: string (nullable = true)\n",
      "\n"
     ]
    }
   ],
   "source": [
    "dfs = []\n",
    "\n",
    "for x in [\"hours\", \"attributes\"]:\n",
    "    cols = bz_raw.select(f\"{x}.*\").columns\n",
    "    for col in cols:\n",
    "        try:\n",
    "            dfs.append(dfs[-1].withColumn(col, f.col(f\"{x}.{col}\")))\n",
    "        except IndexError:\n",
    "            dfs.append(bz_raw.withColumn(col, f.col(f\"{x}.{col}\")))\n",
    "            \n",
    "bz = dfs[-1].drop(\"hours\", \"attributes\")  \n",
    "bz.createOrReplaceTempView(\"bz\")\n",
    "bz.printSchema()"
   ]
  },
  {
   "cell_type": "markdown",
   "metadata": {},
   "source": [
    "### Limpeza e padronização dos atributos"
   ]
  },
  {
   "cell_type": "code",
   "execution_count": 52,
   "metadata": {
    "execution": {
     "iopub.execute_input": "2020-07-09T21:25:43.973804Z",
     "iopub.status.busy": "2020-07-09T21:25:43.973436Z",
     "iopub.status.idle": "2020-07-09T21:25:43.997465Z",
     "shell.execute_reply": "2020-07-09T21:25:43.996738Z",
     "shell.execute_reply.started": "2020-07-09T21:25:43.973773Z"
    }
   },
   "outputs": [],
   "source": [
    "bz1 = spark.sql('''\n",
    "                SELECT *\n",
    "                FROM bz\n",
    "                WHERE city == 'Toronto' \n",
    "                AND is_open == 1\n",
    "                ''')"
   ]
  },
  {
   "cell_type": "code",
   "execution_count": 53,
   "metadata": {
    "execution": {
     "iopub.execute_input": "2020-07-09T21:25:44.368391Z",
     "iopub.status.busy": "2020-07-09T21:25:44.368105Z",
     "iopub.status.idle": "2020-07-09T21:25:44.886596Z",
     "shell.execute_reply": "2020-07-09T21:25:44.885732Z",
     "shell.execute_reply.started": "2020-07-09T21:25:44.368364Z"
    }
   },
   "outputs": [
    {
     "name": "stdout",
     "output_type": "stream",
     "text": [
      "+-------+-----+\n",
      "|is_open|count|\n",
      "+-------+-----+\n",
      "|      1|14962|\n",
      "+-------+-----+\n",
      "\n"
     ]
    }
   ],
   "source": [
    "bz1.groupBy('is_open').count().show()"
   ]
  },
  {
   "cell_type": "code",
   "execution_count": 54,
   "metadata": {
    "execution": {
     "iopub.execute_input": "2020-07-09T21:25:45.519909Z",
     "iopub.status.busy": "2020-07-09T21:25:45.519622Z",
     "iopub.status.idle": "2020-07-09T21:25:45.532212Z",
     "shell.execute_reply": "2020-07-09T21:25:45.531483Z",
     "shell.execute_reply.started": "2020-07-09T21:25:45.519881Z"
    }
   },
   "outputs": [],
   "source": [
    "cols = bz_raw.select('attributes.*').columns"
   ]
  },
  {
   "cell_type": "markdown",
   "metadata": {},
   "source": [
    "- Valores únicos em cada coluna de atributos. As colunas que contém listas serão desconsideradas da base para facilitar a análise. As demais serão codificadas conforme a seguir:\n",
    "\n",
    "    - Null/None: 0\n",
    "    - False: 1\n",
    "    - True: 2\n",
    "    \n",
    "As colunas que possuem uma descrição das características serão tratadas individualmente."
   ]
  },
  {
   "cell_type": "code",
   "execution_count": 55,
   "metadata": {
    "collapsed": true,
    "execution": {
     "iopub.execute_input": "2020-07-09T21:25:46.172107Z",
     "iopub.status.busy": "2020-07-09T21:25:46.171819Z",
     "iopub.status.idle": "2020-07-09T21:26:01.899985Z",
     "shell.execute_reply": "2020-07-09T21:26:01.898826Z",
     "shell.execute_reply.started": "2020-07-09T21:25:46.172079Z"
    },
    "jupyter": {
     "outputs_hidden": true
    }
   },
   "outputs": [
    {
     "name": "stdout",
     "output_type": "stream",
     "text": [
      "+----------------+-----+\n",
      "|AcceptsInsurance|count|\n",
      "+----------------+-----+\n",
      "|            None|    2|\n",
      "|           False|   97|\n",
      "|            null|14531|\n",
      "|            True|  332|\n",
      "+----------------+-----+\n",
      "\n",
      "+-----------+-----+\n",
      "|AgesAllowed|count|\n",
      "+-----------+-----+\n",
      "|       null|14954|\n",
      "| u'allages'|    1|\n",
      "|  u'19plus'|    7|\n",
      "+-----------+-----+\n",
      "\n",
      "+----------------+-----+\n",
      "|         Alcohol|count|\n",
      "+----------------+-----+\n",
      "|            None|    5|\n",
      "|         u'none'| 1398|\n",
      "|            null|10876|\n",
      "| 'beer_and_wine'|  127|\n",
      "|          'none'|  358|\n",
      "|u'beer_and_wine'|  445|\n",
      "|     u'full_bar'| 1599|\n",
      "|      'full_bar'|  154|\n",
      "+----------------+-----+\n",
      "\n",
      "+--------------------+-----+\n",
      "|            Ambience|count|\n",
      "+--------------------+-----+\n",
      "|{'touristy': None...|    1|\n",
      "|{'touristy': None...|    1|\n",
      "|{'touristy': Fals...|    1|\n",
      "|{'touristy': Fals...|    1|\n",
      "|{'touristy': Fals...|   13|\n",
      "|{'touristy': Fals...|    1|\n",
      "|{'touristy': Fals...|   15|\n",
      "|{'touristy': Fals...|    1|\n",
      "|{'touristy': None...|    1|\n",
      "|{'touristy': Fals...|    1|\n",
      "|{'touristy': Fals...|    1|\n",
      "|{'touristy': None...|    1|\n",
      "|{'touristy': Fals...|    1|\n",
      "|{'touristy': None...|    1|\n",
      "|{'touristy': Fals...|    1|\n",
      "|{'touristy': Fals...|    4|\n",
      "|                None|   18|\n",
      "|{'romantic': Fals...|    1|\n",
      "|{'touristy': Fals...|    5|\n",
      "|{'romantic': Fals...|    1|\n",
      "+--------------------+-----+\n",
      "only showing top 20 rows\n",
      "\n",
      "+-----+-----+\n",
      "| BYOB|count|\n",
      "+-----+-----+\n",
      "|False|   70|\n",
      "| null|14880|\n",
      "| True|   12|\n",
      "+-----+-----+\n",
      "\n",
      "+-----------+-----+\n",
      "|BYOBCorkage|count|\n",
      "+-----------+-----+\n",
      "|       null|14962|\n",
      "+-----------+-----+\n",
      "\n",
      "+--------------------+-----+\n",
      "|          BestNights|count|\n",
      "+--------------------+-----+\n",
      "|{'monday': False,...|    1|\n",
      "|{'monday': True, ...|    1|\n",
      "|{'monday': False,...|   27|\n",
      "|{'monday': False,...|   10|\n",
      "|{'monday': False,...|    2|\n",
      "|{'monday': False,...|    1|\n",
      "|{'monday': False,...|   16|\n",
      "|{'monday': False,...|    1|\n",
      "|{'monday': True, ...|    1|\n",
      "|{'monday': True, ...|    4|\n",
      "|{'monday': True, ...|    6|\n",
      "|{'monday': False,...|   40|\n",
      "|{'monday': False,...|    6|\n",
      "|{'monday': False,...|    1|\n",
      "|{'monday': False,...|    6|\n",
      "|                null|14472|\n",
      "|{'monday': False,...|   26|\n",
      "|{'monday': True, ...|    2|\n",
      "|{'monday': True, ...|    2|\n",
      "|{'monday': True, ...|    3|\n",
      "+--------------------+-----+\n",
      "only showing top 20 rows\n",
      "\n",
      "+-----------+-----+\n",
      "|BikeParking|count|\n",
      "+-----------+-----+\n",
      "|       None|   15|\n",
      "|      False| 1129|\n",
      "|       null| 6944|\n",
      "|       True| 6874|\n",
      "+-----------+-----+\n",
      "\n",
      "+----------------------+-----+\n",
      "|BusinessAcceptsBitcoin|count|\n",
      "+----------------------+-----+\n",
      "|                 False|    2|\n",
      "|                  null|14960|\n",
      "+----------------------+-----+\n",
      "\n",
      "+--------------------------+-----+\n",
      "|BusinessAcceptsCreditCards|count|\n",
      "+--------------------------+-----+\n",
      "|                      None|    3|\n",
      "|                     False|   19|\n",
      "|                      null|14617|\n",
      "|                      True|  323|\n",
      "+--------------------------+-----+\n",
      "\n",
      "+--------------------+-----+\n",
      "|     BusinessParking|count|\n",
      "+--------------------+-----+\n",
      "|{'garage': False,...|    3|\n",
      "|{'garage': True, ...|   12|\n",
      "|{'garage': True, ...|    1|\n",
      "|{'garage': False,...|   33|\n",
      "|{'garage': False,...|   12|\n",
      "|{'garage': False,...|    1|\n",
      "|{'garage': False,...|    3|\n",
      "|                None|  174|\n",
      "|{'garage': False,...|   26|\n",
      "|{'garage': True, ...|    1|\n",
      "|{'garage': False,...|    1|\n",
      "|{'garage': True, ...|    1|\n",
      "|{'garage': False,...|    1|\n",
      "|{'garage': False,...| 3843|\n",
      "|{'garage': True, ...|  189|\n",
      "|{'garage': True, ...|   50|\n",
      "|{'garage': None, ...|    2|\n",
      "|{'garage': False,...|    1|\n",
      "|                null| 5253|\n",
      "|{'garage': True, ...|    9|\n",
      "+--------------------+-----+\n",
      "only showing top 20 rows\n",
      "\n",
      "+-----------------+-----+\n",
      "|ByAppointmentOnly|count|\n",
      "+-----------------+-----+\n",
      "|             None|    4|\n",
      "|            False| 2055|\n",
      "|             null|11579|\n",
      "|             True| 1324|\n",
      "+-----------------+-----+\n",
      "\n",
      "+------+-----+\n",
      "|Caters|count|\n",
      "+------+-----+\n",
      "|  None|    6|\n",
      "| False| 1740|\n",
      "|  null|11283|\n",
      "|  True| 1933|\n",
      "+------+-----+\n",
      "\n",
      "+---------+-----+\n",
      "|CoatCheck|count|\n",
      "+---------+-----+\n",
      "|    False|  277|\n",
      "|     null|14585|\n",
      "|     True|  100|\n",
      "+---------+-----+\n",
      "\n",
      "+-------+-----+\n",
      "|Corkage|count|\n",
      "+-------+-----+\n",
      "|  False|   42|\n",
      "|   null|14906|\n",
      "|   True|   14|\n",
      "+-------+-----+\n",
      "\n",
      "+--------------------+-----+\n",
      "| DietaryRestrictions|count|\n",
      "+--------------------+-----+\n",
      "|{'dairy-free': Fa...|    1|\n",
      "|{'dairy-free': Fa...|    3|\n",
      "|{'dairy-free': Fa...|    2|\n",
      "|                null|14952|\n",
      "|{'dairy-free': Fa...|    1|\n",
      "|{'dairy-free': Fa...|    1|\n",
      "|{'dairy-free': Fa...|    2|\n",
      "+--------------------+-----+\n",
      "\n",
      "+-----------+-----+\n",
      "|DogsAllowed|count|\n",
      "+-----------+-----+\n",
      "|       None|    4|\n",
      "|      False| 1113|\n",
      "|       null|13496|\n",
      "|       True|  349|\n",
      "+-----------+-----+\n",
      "\n",
      "+---------+-----+\n",
      "|DriveThru|count|\n",
      "+---------+-----+\n",
      "|    False|  240|\n",
      "|     null|14712|\n",
      "|     True|   10|\n",
      "+---------+-----+\n",
      "\n",
      "+--------------+-----+\n",
      "|GoodForDancing|count|\n",
      "+--------------+-----+\n",
      "|          None|    2|\n",
      "|         False|  372|\n",
      "|          null|14517|\n",
      "|          True|   71|\n",
      "+--------------+-----+\n",
      "\n",
      "+-----------+-----+\n",
      "|GoodForKids|count|\n",
      "+-----------+-----+\n",
      "|       None|    4|\n",
      "|      False| 1263|\n",
      "|       null| 9661|\n",
      "|       True| 4034|\n",
      "+-----------+-----+\n",
      "\n",
      "+--------------------+-----+\n",
      "|         GoodForMeal|count|\n",
      "+--------------------+-----+\n",
      "|{'dessert': False...|    3|\n",
      "|{'dessert': None,...|    1|\n",
      "|{'dessert': False...|    1|\n",
      "|                  {}|    1|\n",
      "|{'dessert': None,...|    2|\n",
      "|{'dessert': False...|   14|\n",
      "|{'dessert': False...|    2|\n",
      "|{'dessert': True,...|    1|\n",
      "|{'dessert': False...|    1|\n",
      "|{'dessert': False...|    1|\n",
      "|{'dessert': None,...|    4|\n",
      "|                None|   16|\n",
      "|{'dessert': None,...|    1|\n",
      "|{'dessert': False...|  272|\n",
      "|{'dessert': False...|   34|\n",
      "|{'dessert': False...|   38|\n",
      "|{'dessert': None,...|    3|\n",
      "|{'dessert': None,...|    1|\n",
      "|{'dessert': True,...|    3|\n",
      "|{'dessert': None,...|    1|\n",
      "+--------------------+-----+\n",
      "only showing top 20 rows\n",
      "\n",
      "+--------------------+-----+\n",
      "|   HairSpecializesIn|count|\n",
      "+--------------------+-----+\n",
      "|{'perms': True, '...|    3|\n",
      "|{'perms': True, '...|    3|\n",
      "|{'perms': False, ...|    1|\n",
      "|                None|    2|\n",
      "|{'perms': True, '...|    1|\n",
      "|                null|14865|\n",
      "|{'perms': False, ...|   11|\n",
      "|{'perms': True, '...|    3|\n",
      "|{'perms': True, '...|   17|\n",
      "|{'perms': False, ...|    2|\n",
      "|{'perms': True, '...|    1|\n",
      "|{'perms': False, ...|    1|\n",
      "|{'perms': False, ...|    1|\n",
      "|{'perms': False, ...|    1|\n",
      "|{'perms': False, ...|    2|\n",
      "|{'perms': False, ...|    6|\n",
      "|{'perms': False, ...|    1|\n",
      "|{'perms': False, ...|    7|\n",
      "|{'perms': True, '...|    6|\n",
      "|{'perms': False, ...|   14|\n",
      "+--------------------+-----+\n",
      "only showing top 20 rows\n",
      "\n",
      "+---------+-----+\n",
      "|HappyHour|count|\n",
      "+---------+-----+\n",
      "|    False|  560|\n",
      "|     null|13916|\n",
      "|     True|  486|\n",
      "+---------+-----+\n",
      "\n",
      "+-----+-----+\n",
      "|HasTV|count|\n",
      "+-----+-----+\n",
      "| None|    1|\n",
      "|False| 1033|\n",
      "| null|10401|\n",
      "| True| 3527|\n",
      "+-----+-----+\n",
      "\n",
      "+--------------------+-----+\n",
      "|               Music|count|\n",
      "+--------------------+-----+\n",
      "|{'dj': True, 'bac...|   14|\n",
      "|                  {}|    5|\n",
      "|{'dj': False, 'ba...|    5|\n",
      "|{'dj': False, 'ba...|  512|\n",
      "|                None|    2|\n",
      "|{'dj': False, 'ba...|    3|\n",
      "|{'dj': True, 'bac...|    1|\n",
      "|{'dj': False, 'ba...|    1|\n",
      "|{'dj': False, 'ba...|    1|\n",
      "|{'dj': True, 'bac...|    1|\n",
      "|                null|14182|\n",
      "|{'dj': True, 'bac...|    1|\n",
      "|{'dj': False, 'ba...|    1|\n",
      "|{'dj': None, 'bac...|    1|\n",
      "|{'dj': True, 'bac...|   21|\n",
      "|        {'dj': True}|    2|\n",
      "|{'live': False, '...|    1|\n",
      "|{'dj': None, 'bac...|    1|\n",
      "|{'dj': False, 'ba...|    4|\n",
      "|{'dj': False, 'ba...|    1|\n",
      "+--------------------+-----+\n",
      "only showing top 20 rows\n",
      "\n",
      "+------------+-----+\n",
      "|  NoiseLevel|count|\n",
      "+------------+-----+\n",
      "|   'average'|  274|\n",
      "|        None|    7|\n",
      "|     u'loud'|  419|\n",
      "|    u'quiet'|  641|\n",
      "|        null|11255|\n",
      "|  u'average'| 2107|\n",
      "| 'very_loud'|    6|\n",
      "|     'quiet'|   68|\n",
      "|u'very_loud'|  155|\n",
      "|      'loud'|   30|\n",
      "+------------+-----+\n",
      "\n",
      "+-----------+-----+\n",
      "|Open24Hours|count|\n",
      "+-----------+-----+\n",
      "|       null|14962|\n",
      "+-----------+-----+\n",
      "\n",
      "+--------------+-----+\n",
      "|OutdoorSeating|count|\n",
      "+--------------+-----+\n",
      "|          None|    4|\n",
      "|         False| 2955|\n",
      "|          null|10121|\n",
      "|          True| 1882|\n",
      "+--------------+-----+\n",
      "\n",
      "+-----------------+-----+\n",
      "|RestaurantsAttire|count|\n",
      "+-----------------+-----+\n",
      "|         'casual'| 1181|\n",
      "|             None|    5|\n",
      "|        u'casual'| 2396|\n",
      "|             null|11250|\n",
      "|         'dressy'|   20|\n",
      "|        u'formal'|    3|\n",
      "|        u'dressy'|  107|\n",
      "+-----------------+-----+\n",
      "\n",
      "+-------------------------+-----+\n",
      "|RestaurantsCounterService|count|\n",
      "+-------------------------+-----+\n",
      "|                     null|14961|\n",
      "|                     True|    1|\n",
      "+-------------------------+-----+\n",
      "\n",
      "+-------------------+-----+\n",
      "|RestaurantsDelivery|count|\n",
      "+-------------------+-----+\n",
      "|               None|    2|\n",
      "|              False| 2896|\n",
      "|               null|10434|\n",
      "|               True| 1630|\n",
      "+-------------------+-----+\n",
      "\n",
      "+------------------------+-----+\n",
      "|RestaurantsGoodForGroups|count|\n",
      "+------------------------+-----+\n",
      "|                    None|    5|\n",
      "|                   False|  989|\n",
      "|                    null|10535|\n",
      "|                    True| 3433|\n",
      "+------------------------+-----+\n",
      "\n",
      "+----------------------+-----+\n",
      "|RestaurantsPriceRange2|count|\n",
      "+----------------------+-----+\n",
      "|                     3| 1278|\n",
      "|                  None|   11|\n",
      "|                  null| 5749|\n",
      "|                     1| 2171|\n",
      "|                     4|  254|\n",
      "|                     2| 5499|\n",
      "+----------------------+-----+\n",
      "\n",
      "+-----------------------+-----+\n",
      "|RestaurantsReservations|count|\n",
      "+-----------------------+-----+\n",
      "|                   None|   22|\n",
      "|                  False| 2448|\n",
      "|                   null|10405|\n",
      "|                   True| 2087|\n",
      "+-----------------------+-----+\n",
      "\n",
      "+-----------------------+-----+\n",
      "|RestaurantsTableService|count|\n",
      "+-----------------------+-----+\n",
      "|                   None|    1|\n",
      "|                  False|  762|\n",
      "|                   null|12864|\n",
      "|                   True| 1335|\n",
      "+-----------------------+-----+\n",
      "\n",
      "+------------------+-----+\n",
      "|RestaurantsTakeOut|count|\n",
      "+------------------+-----+\n",
      "|              None|    2|\n",
      "|             False|  462|\n",
      "|              null| 9273|\n",
      "|              True| 5225|\n",
      "+------------------+-----+\n",
      "\n",
      "+----------+-----+\n",
      "|   Smoking|count|\n",
      "+----------+-----+\n",
      "|u'outdoor'|  111|\n",
      "|      null|14600|\n",
      "|     u'no'|  246|\n",
      "|    u'yes'|    5|\n",
      "+----------+-----+\n",
      "\n",
      "+--------------------+-----+\n",
      "|WheelchairAccessible|count|\n",
      "+--------------------+-----+\n",
      "|                None|    5|\n",
      "|               False|  831|\n",
      "|                null|12578|\n",
      "|                True| 1548|\n",
      "+--------------------+-----+\n",
      "\n",
      "+-------+-----+\n",
      "|   WiFi|count|\n",
      "+-------+-----+\n",
      "|   None|    5|\n",
      "| 'paid'|    9|\n",
      "|   null| 9626|\n",
      "|   'no'|  653|\n",
      "|u'paid'|   40|\n",
      "|  u'no'| 1638|\n",
      "|u'free'| 2252|\n",
      "| 'free'|  739|\n",
      "+-------+-----+\n",
      "\n"
     ]
    },
    {
     "data": {
      "text/plain": [
       "[None,\n",
       " None,\n",
       " None,\n",
       " None,\n",
       " None,\n",
       " None,\n",
       " None,\n",
       " None,\n",
       " None,\n",
       " None,\n",
       " None,\n",
       " None,\n",
       " None,\n",
       " None,\n",
       " None,\n",
       " None,\n",
       " None,\n",
       " None,\n",
       " None,\n",
       " None,\n",
       " None,\n",
       " None,\n",
       " None,\n",
       " None,\n",
       " None,\n",
       " None,\n",
       " None,\n",
       " None,\n",
       " None,\n",
       " None,\n",
       " None,\n",
       " None,\n",
       " None,\n",
       " None,\n",
       " None,\n",
       " None,\n",
       " None,\n",
       " None,\n",
       " None]"
      ]
     },
     "execution_count": 55,
     "metadata": {},
     "output_type": "execute_result"
    }
   ],
   "source": [
    "[bz1.groupBy(cols[x]).count().show() for x in range(len(cols))]"
   ]
  },
  {
   "cell_type": "code",
   "execution_count": 56,
   "metadata": {
    "execution": {
     "iopub.execute_input": "2020-07-09T21:26:01.902291Z",
     "iopub.status.busy": "2020-07-09T21:26:01.901928Z",
     "iopub.status.idle": "2020-07-09T21:26:01.906184Z",
     "shell.execute_reply": "2020-07-09T21:26:01.905271Z",
     "shell.execute_reply.started": "2020-07-09T21:26:01.902268Z"
    }
   },
   "outputs": [],
   "source": [
    "unwanted = ['Ambience','BestNights','BusinessAcceptsBitcoin','BusinessParking','BYOBCorkage','DietaryRestrictions','GoodForMeal','HairSpecializesIn','Music','Open24Hours','RestaurantsCounterService']"
   ]
  },
  {
   "cell_type": "code",
   "execution_count": 57,
   "metadata": {
    "execution": {
     "iopub.execute_input": "2020-07-09T21:26:01.908303Z",
     "iopub.status.busy": "2020-07-09T21:26:01.908049Z",
     "iopub.status.idle": "2020-07-09T21:26:01.918458Z",
     "shell.execute_reply": "2020-07-09T21:26:01.917743Z",
     "shell.execute_reply.started": "2020-07-09T21:26:01.908278Z"
    }
   },
   "outputs": [],
   "source": [
    "bz2 = bz1.drop('Ambience','BestNights','BusinessAcceptsBitcoin','BusinessParking','BYOBCorkage','DietaryRestrictions','GoodForMeal','HairSpecializesIn','Music','Open24Hours','RestaurantsCounterService',\n",
    "              'Sunday','Monday','Tuesday','Wednesday','Thursday','Friday','Saturday','address','postal_code','state','city','is_open')"
   ]
  },
  {
   "cell_type": "code",
   "execution_count": 58,
   "metadata": {
    "execution": {
     "iopub.execute_input": "2020-07-09T21:26:01.920330Z",
     "iopub.status.busy": "2020-07-09T21:26:01.920068Z",
     "iopub.status.idle": "2020-07-09T21:26:01.923516Z",
     "shell.execute_reply": "2020-07-09T21:26:01.922850Z",
     "shell.execute_reply.started": "2020-07-09T21:26:01.920303Z"
    }
   },
   "outputs": [],
   "source": [
    "for col in unwanted:\n",
    "    cols.remove(col)"
   ]
  },
  {
   "cell_type": "code",
   "execution_count": 59,
   "metadata": {
    "execution": {
     "iopub.execute_input": "2020-07-09T21:26:01.924889Z",
     "iopub.status.busy": "2020-07-09T21:26:01.924631Z",
     "iopub.status.idle": "2020-07-09T21:26:02.019880Z",
     "shell.execute_reply": "2020-07-09T21:26:02.018962Z",
     "shell.execute_reply.started": "2020-07-09T21:26:01.924863Z"
    }
   },
   "outputs": [],
   "source": [
    "bz3 = bz2.fillna('0')"
   ]
  },
  {
   "cell_type": "code",
   "execution_count": 60,
   "metadata": {
    "execution": {
     "iopub.execute_input": "2020-07-09T21:26:02.021418Z",
     "iopub.status.busy": "2020-07-09T21:26:02.021194Z",
     "iopub.status.idle": "2020-07-09T21:26:02.089812Z",
     "shell.execute_reply": "2020-07-09T21:26:02.089126Z",
     "shell.execute_reply.started": "2020-07-09T21:26:02.021395Z"
    }
   },
   "outputs": [
    {
     "name": "stderr",
     "output_type": "stream",
     "text": [
      "/Users/vivi/anaconda3/lib/python3.7/site-packages/pyspark/sql/dataframe.py:1800: UserWarning: to_replace is a dict and value is not None. value will be ignored.\n",
      "  warnings.warn(\"to_replace is a dict and value is not None. value will be ignored.\")\n"
     ]
    }
   ],
   "source": [
    "bz4 = bz3.replace({'True':'2', 'False':'1','None':'0','null':'0'}, cols)"
   ]
  },
  {
   "cell_type": "code",
   "execution_count": 61,
   "metadata": {
    "execution": {
     "iopub.execute_input": "2020-07-09T21:26:02.091307Z",
     "iopub.status.busy": "2020-07-09T21:26:02.091031Z",
     "iopub.status.idle": "2020-07-09T21:26:02.122974Z",
     "shell.execute_reply": "2020-07-09T21:26:02.122266Z",
     "shell.execute_reply.started": "2020-07-09T21:26:02.091280Z"
    }
   },
   "outputs": [],
   "source": [
    "bz5 = bz4.withColumn('AgesAllowed',f.regexp_replace(f.col('AgesAllowed'), \"u'allages'\",'0'))\n",
    "bz6 = bz5.withColumn('AgesAllowed',f.regexp_replace(f.col('AgesAllowed'), \"u'19plus'\",'19'))"
   ]
  },
  {
   "cell_type": "code",
   "execution_count": 62,
   "metadata": {
    "execution": {
     "iopub.execute_input": "2020-07-09T21:26:02.126218Z",
     "iopub.status.busy": "2020-07-09T21:26:02.125945Z",
     "iopub.status.idle": "2020-07-09T21:26:02.161973Z",
     "shell.execute_reply": "2020-07-09T21:26:02.161287Z",
     "shell.execute_reply.started": "2020-07-09T21:26:02.126191Z"
    }
   },
   "outputs": [],
   "source": [
    "bz7 = bz6.withColumn('Alcohol',f.regexp_replace(f.col('Alcohol'), \"'none'|u'none'\",'0'))\n",
    "bz8 = bz7.withColumn('Alcohol',f.regexp_replace(f.col('Alcohol'), \"'beer_and_wine'|u'beer_and_wine'\",'1'))\n",
    "bz9 = bz8.withColumn('Alcohol',f.regexp_replace(f.col('Alcohol'), \"'full_bar'|u'full_bar'\",'2'))"
   ]
  },
  {
   "cell_type": "code",
   "execution_count": 63,
   "metadata": {
    "execution": {
     "iopub.execute_input": "2020-07-09T21:26:02.163707Z",
     "iopub.status.busy": "2020-07-09T21:26:02.163380Z",
     "iopub.status.idle": "2020-07-09T21:26:02.204836Z",
     "shell.execute_reply": "2020-07-09T21:26:02.204145Z",
     "shell.execute_reply.started": "2020-07-09T21:26:02.163676Z"
    }
   },
   "outputs": [],
   "source": [
    "bz10 = bz9.withColumn('NoiseLevel',f.regexp_replace(f.col('NoiseLevel'), \"'quiet'|u'quiet'\",'1'))\n",
    "bz11 = bz10.withColumn('NoiseLevel',f.regexp_replace(f.col('NoiseLevel'), \"'average'|u'average'\",'2'))\n",
    "bz12 = bz11.withColumn('NoiseLevel',f.regexp_replace(f.col('NoiseLevel'), \"'very_loud'|u'very_loud'\",'4'))\n",
    "bz13 = bz12.withColumn('NoiseLevel',f.regexp_replace(f.col('NoiseLevel'), \"'loud'|u'loud'\",'3'))"
   ]
  },
  {
   "cell_type": "code",
   "execution_count": 64,
   "metadata": {
    "execution": {
     "iopub.execute_input": "2020-07-09T21:26:02.206227Z",
     "iopub.status.busy": "2020-07-09T21:26:02.205894Z",
     "iopub.status.idle": "2020-07-09T21:26:02.238947Z",
     "shell.execute_reply": "2020-07-09T21:26:02.238234Z",
     "shell.execute_reply.started": "2020-07-09T21:26:02.206196Z"
    }
   },
   "outputs": [],
   "source": [
    "bz14 = bz13.withColumn('Smoking',f.regexp_replace(f.col('Smoking'), \"'no'|u'no'\",'1'))\n",
    "bz15 = bz14.withColumn('Smoking',f.regexp_replace(f.col('Smoking'), \"'outdoor'|u'outdoor'\",'2'))\n",
    "bz16 = bz15.withColumn('Smoking',f.regexp_replace(f.col('Smoking'), \"'yes'|u'yes'\",'3'))"
   ]
  },
  {
   "cell_type": "code",
   "execution_count": 65,
   "metadata": {
    "execution": {
     "iopub.execute_input": "2020-07-09T21:26:02.240602Z",
     "iopub.status.busy": "2020-07-09T21:26:02.240234Z",
     "iopub.status.idle": "2020-07-09T21:26:02.271492Z",
     "shell.execute_reply": "2020-07-09T21:26:02.270769Z",
     "shell.execute_reply.started": "2020-07-09T21:26:02.240565Z"
    }
   },
   "outputs": [],
   "source": [
    "bz17 = bz16.withColumn('WiFi',f.regexp_replace(f.col('WiFi'), \"'no'|u'no'\",'1'))\n",
    "bz18 = bz17.withColumn('WiFi',f.regexp_replace(f.col('WiFi'), \"'paid'|u'paid'\",'2'))\n",
    "bz19 = bz18.withColumn('WiFi',f.regexp_replace(f.col('WiFi'), \"'free'|u'free'\",'3'))"
   ]
  },
  {
   "cell_type": "code",
   "execution_count": 66,
   "metadata": {
    "execution": {
     "iopub.execute_input": "2020-07-09T21:26:02.273096Z",
     "iopub.status.busy": "2020-07-09T21:26:02.272612Z",
     "iopub.status.idle": "2020-07-09T21:26:02.306017Z",
     "shell.execute_reply": "2020-07-09T21:26:02.305339Z",
     "shell.execute_reply.started": "2020-07-09T21:26:02.273063Z"
    }
   },
   "outputs": [],
   "source": [
    "bz20 = bz19.withColumn('RestaurantsAttire',f.regexp_replace(f.col('WiFi'), \"'casual'|u'casual'\",'1'))\n",
    "bz21 = bz20.withColumn('RestaurantsAttire',f.regexp_replace(f.col('WiFi'), \"'dressy'|u'dressy'\",'2'))\n",
    "bz22 = bz21.withColumn('RestaurantsAttire',f.regexp_replace(f.col('WiFi'), \"'formal'|u'formal'\",'3'))"
   ]
  },
  {
   "cell_type": "code",
   "execution_count": 67,
   "metadata": {
    "execution": {
     "iopub.execute_input": "2020-07-09T21:26:02.307545Z",
     "iopub.status.busy": "2020-07-09T21:26:02.307283Z",
     "iopub.status.idle": "2020-07-09T21:26:02.310181Z",
     "shell.execute_reply": "2020-07-09T21:26:02.309475Z",
     "shell.execute_reply.started": "2020-07-09T21:26:02.307519Z"
    }
   },
   "outputs": [],
   "source": [
    "#[bz22.groupBy(cols[x]).count().show() for x in range(len(cols))]"
   ]
  },
  {
   "cell_type": "code",
   "execution_count": 68,
   "metadata": {
    "execution": {
     "iopub.execute_input": "2020-07-09T21:26:02.311515Z",
     "iopub.status.busy": "2020-07-09T21:26:02.311260Z",
     "iopub.status.idle": "2020-07-09T21:26:02.389666Z",
     "shell.execute_reply": "2020-07-09T21:26:02.388945Z",
     "shell.execute_reply.started": "2020-07-09T21:26:02.311489Z"
    }
   },
   "outputs": [],
   "source": [
    "bz22.createOrReplaceTempView('bz22')"
   ]
  },
  {
   "cell_type": "markdown",
   "metadata": {
    "execution": {
     "iopub.execute_input": "2020-07-09T22:08:32.189677Z",
     "iopub.status.busy": "2020-07-09T22:08:32.189471Z",
     "iopub.status.idle": "2020-07-09T22:08:32.195713Z",
     "shell.execute_reply": "2020-07-09T22:08:32.194687Z",
     "shell.execute_reply.started": "2020-07-09T22:08:32.189657Z"
    }
   },
   "source": [
    "### Join da média diária de check-ins"
   ]
  },
  {
   "cell_type": "code",
   "execution_count": 136,
   "metadata": {
    "execution": {
     "iopub.execute_input": "2020-07-09T22:10:17.576519Z",
     "iopub.status.busy": "2020-07-09T22:10:17.576302Z",
     "iopub.status.idle": "2020-07-09T22:10:17.581507Z",
     "shell.execute_reply": "2020-07-09T22:10:17.580704Z",
     "shell.execute_reply.started": "2020-07-09T22:10:17.576499Z"
    }
   },
   "outputs": [
    {
     "data": {
      "text/plain": [
       "['business_id', 'avg_frequency']"
      ]
     },
     "execution_count": 136,
     "metadata": {},
     "output_type": "execute_result"
    }
   ],
   "source": [
    "ch3.columns"
   ]
  },
  {
   "cell_type": "code",
   "execution_count": 137,
   "metadata": {
    "execution": {
     "iopub.execute_input": "2020-07-09T22:12:33.567392Z",
     "iopub.status.busy": "2020-07-09T22:12:33.567101Z",
     "iopub.status.idle": "2020-07-09T22:12:33.577709Z",
     "shell.execute_reply": "2020-07-09T22:12:33.577030Z",
     "shell.execute_reply.started": "2020-07-09T22:12:33.567365Z"
    }
   },
   "outputs": [],
   "source": [
    "bz23 = spark.sql('''\n",
    "                SELECT A.*,\n",
    "                B.avg_frequency\n",
    "                \n",
    "                FROM bz22 as A\n",
    "                LEFT JOIN ch3 as B\n",
    "                ON A.business_id = B.business_id\n",
    "                \n",
    "                ''')"
   ]
  },
  {
   "cell_type": "code",
   "execution_count": null,
   "metadata": {},
   "outputs": [],
   "source": []
  },
  {
   "cell_type": "code",
   "execution_count": null,
   "metadata": {},
   "outputs": [],
   "source": [
    "bz23.createOrReplaceTempView('bz23')"
   ]
  },
  {
   "cell_type": "markdown",
   "metadata": {},
   "source": [
    "### Join da quantidade de tips por estabelecimento"
   ]
  },
  {
   "cell_type": "code",
   "execution_count": 102,
   "metadata": {
    "execution": {
     "iopub.execute_input": "2020-07-09T21:59:27.303648Z",
     "iopub.status.busy": "2020-07-09T21:59:27.303308Z",
     "iopub.status.idle": "2020-07-09T21:59:27.313056Z",
     "shell.execute_reply": "2020-07-09T21:59:27.312437Z",
     "shell.execute_reply.started": "2020-07-09T21:59:27.303617Z"
    }
   },
   "outputs": [],
   "source": [
    "bz24 = spark.sql('''\n",
    "                SELECT A.*,\n",
    "                B.tips_counter,\n",
    "                B.total_compliments\n",
    "                \n",
    "                FROM bz23 as A\n",
    "                LEFT JOIN tp_bz as B\n",
    "                ON A.business_id = B.business_id\n",
    "                \n",
    "                ''')"
   ]
  },
  {
   "cell_type": "code",
   "execution_count": 104,
   "metadata": {
    "collapsed": true,
    "execution": {
     "iopub.execute_input": "2020-07-09T21:59:43.352930Z",
     "iopub.status.busy": "2020-07-09T21:59:43.352699Z",
     "iopub.status.idle": "2020-07-09T21:59:43.359207Z",
     "shell.execute_reply": "2020-07-09T21:59:43.358631Z",
     "shell.execute_reply.started": "2020-07-09T21:59:43.352909Z"
    },
    "jupyter": {
     "outputs_hidden": true
    }
   },
   "outputs": [
    {
     "data": {
      "text/plain": [
       "['business_id',\n",
       " 'categories',\n",
       " 'latitude',\n",
       " 'longitude',\n",
       " 'name',\n",
       " 'review_count',\n",
       " 'stars',\n",
       " 'AcceptsInsurance',\n",
       " 'AgesAllowed',\n",
       " 'Alcohol',\n",
       " 'BYOB',\n",
       " 'BikeParking',\n",
       " 'BusinessAcceptsCreditCards',\n",
       " 'ByAppointmentOnly',\n",
       " 'Caters',\n",
       " 'CoatCheck',\n",
       " 'Corkage',\n",
       " 'DogsAllowed',\n",
       " 'DriveThru',\n",
       " 'GoodForDancing',\n",
       " 'GoodForKids',\n",
       " 'HappyHour',\n",
       " 'HasTV',\n",
       " 'NoiseLevel',\n",
       " 'OutdoorSeating',\n",
       " 'RestaurantsAttire',\n",
       " 'RestaurantsDelivery',\n",
       " 'RestaurantsGoodForGroups',\n",
       " 'RestaurantsPriceRange2',\n",
       " 'RestaurantsReservations',\n",
       " 'RestaurantsTableService',\n",
       " 'RestaurantsTakeOut',\n",
       " 'Smoking',\n",
       " 'WheelchairAccessible',\n",
       " 'WiFi',\n",
       " 'tips_counter',\n",
       " 'total_compliments']"
      ]
     },
     "execution_count": 104,
     "metadata": {},
     "output_type": "execute_result"
    }
   ],
   "source": [
    "bz23.columns"
   ]
  },
  {
   "cell_type": "code",
   "execution_count": 106,
   "metadata": {
    "execution": {
     "iopub.execute_input": "2020-07-09T22:01:29.372231Z",
     "iopub.status.busy": "2020-07-09T22:01:29.371954Z",
     "iopub.status.idle": "2020-07-09T22:01:33.776220Z",
     "shell.execute_reply": "2020-07-09T22:01:33.775529Z",
     "shell.execute_reply.started": "2020-07-09T22:01:29.372204Z"
    }
   },
   "outputs": [],
   "source": [
    "bz24.write \\\n",
    "    .format('csv') \\\n",
    "    .mode('overwrite') \\\n",
    "    .option('sep', ',') \\\n",
    "    .option('header', True) \\\n",
    "    .save('output/yelp_bz.csv')"
   ]
  },
  {
   "cell_type": "code",
   "execution_count": 117,
   "metadata": {
    "execution": {
     "iopub.execute_input": "2020-07-09T22:03:43.206844Z",
     "iopub.status.busy": "2020-07-09T22:03:43.206601Z",
     "iopub.status.idle": "2020-07-09T22:03:43.282625Z",
     "shell.execute_reply": "2020-07-09T22:03:43.281925Z",
     "shell.execute_reply.started": "2020-07-09T22:03:43.206822Z"
    }
   },
   "outputs": [],
   "source": [
    "bz24.createOrReplaceTempView('bz')"
   ]
  },
  {
   "cell_type": "markdown",
   "metadata": {
    "collapsed": "true"
   },
   "source": [
    "## Users"
   ]
  },
  {
   "cell_type": "markdown",
   "metadata": {},
   "source": [
    "### Seleção e tratamento da variáveis"
   ]
  },
  {
   "cell_type": "code",
   "execution_count": 118,
   "metadata": {
    "execution": {
     "iopub.execute_input": "2020-07-09T22:03:44.935135Z",
     "iopub.status.busy": "2020-07-09T22:03:44.934847Z",
     "iopub.status.idle": "2020-07-09T22:03:44.987809Z",
     "shell.execute_reply": "2020-07-09T22:03:44.987061Z",
     "shell.execute_reply.started": "2020-07-09T22:03:44.935108Z"
    }
   },
   "outputs": [],
   "source": [
    "# Transforma variáveis para serem utilizadas na Matriz de Distâncias - H Clust\n",
    "# Arrays em Numéricas - \"id\" de friends para friends_count\n",
    "# Arrays em Numéricas - \"ano\" de elite para elite_count\n",
    "# Data em Numéricas do ano - \"yelping_since\" para \"year_since\"\n",
    "\n",
    "from pyspark.sql.functions import col, count, explode, split, array\n",
    "from pyspark.sql.types import ArrayType, IntegerType\n",
    "\n",
    "usr_raw1 = usr_raw.withColumn('friends_count', f.size(f.split(f.col('friends'), ' ')))\n",
    "usr_raw1 = usr_raw1.withColumn('elite_count', f.size(f.split(f.col('elite'), ',')))\n",
    "usr_raw1 = usr_raw1.withColumn('year_since', f.year('yelping_since'))\n",
    "\n",
    "#usr_raw1.show()"
   ]
  },
  {
   "cell_type": "code",
   "execution_count": 109,
   "metadata": {
    "execution": {
     "iopub.execute_input": "2020-07-09T22:01:48.411534Z",
     "iopub.status.busy": "2020-07-09T22:01:48.411299Z",
     "iopub.status.idle": "2020-07-09T22:01:48.419376Z",
     "shell.execute_reply": "2020-07-09T22:01:48.418699Z",
     "shell.execute_reply.started": "2020-07-09T22:01:48.411511Z"
    }
   },
   "outputs": [],
   "source": [
    "usr_raw1.createOrReplaceTempView('usr_raw1')"
   ]
  },
  {
   "cell_type": "markdown",
   "metadata": {},
   "source": [
    "- Seleção variáveis que serão utilizadas na clusterização"
   ]
  },
  {
   "cell_type": "code",
   "execution_count": 119,
   "metadata": {
    "execution": {
     "iopub.execute_input": "2020-07-09T22:03:47.930944Z",
     "iopub.status.busy": "2020-07-09T22:03:47.930654Z",
     "iopub.status.idle": "2020-07-09T22:03:47.939938Z",
     "shell.execute_reply": "2020-07-09T22:03:47.939259Z",
     "shell.execute_reply.started": "2020-07-09T22:03:47.930916Z"
    }
   },
   "outputs": [],
   "source": [
    "usr_base = spark.sql('''\n",
    "            SELECT \n",
    "            \n",
    "            A.user_id,\n",
    "            A.average_stars,\n",
    "            A.compliment_cool,\n",
    "            A.compliment_cute,\n",
    "            A.compliment_funny,\n",
    "            A.compliment_hot,\n",
    "            A.compliment_list,\n",
    "            A.compliment_more,\n",
    "            A.compliment_note,\n",
    "            A.compliment_photos,\n",
    "            A.compliment_plain,\n",
    "            A.compliment_profile,\n",
    "            A.compliment_writer,\n",
    "            A.cool,\n",
    "            A.elite_count,\n",
    "            A.fans,\n",
    "            A.friends_count,\n",
    "            A.funny,\n",
    "            A.review_count as review_count_usr,\n",
    "            A.useful,\n",
    "            A.year_since,\n",
    "            B.business_id\n",
    "\n",
    "            FROM usr_raw1  as A LEFT JOIN rv as B\n",
    "            \n",
    "            ON A.user_id = B.user_id\n",
    "            \n",
    "            ''')"
   ]
  },
  {
   "cell_type": "code",
   "execution_count": 111,
   "metadata": {
    "execution": {
     "iopub.execute_input": "2020-07-09T22:01:53.991919Z",
     "iopub.status.busy": "2020-07-09T22:01:53.991671Z",
     "iopub.status.idle": "2020-07-09T22:01:54.002048Z",
     "shell.execute_reply": "2020-07-09T22:01:54.001430Z",
     "shell.execute_reply.started": "2020-07-09T22:01:53.991897Z"
    }
   },
   "outputs": [],
   "source": [
    "usr_base.createOrReplaceTempView('usr_base')"
   ]
  },
  {
   "cell_type": "code",
   "execution_count": 112,
   "metadata": {
    "execution": {
     "iopub.execute_input": "2020-07-09T22:01:55.329877Z",
     "iopub.status.busy": "2020-07-09T22:01:55.329655Z",
     "iopub.status.idle": "2020-07-09T22:02:07.188967Z",
     "shell.execute_reply": "2020-07-09T22:02:07.187947Z",
     "shell.execute_reply.started": "2020-07-09T22:01:55.329857Z"
    }
   },
   "outputs": [
    {
     "name": "stdout",
     "output_type": "stream",
     "text": [
      "+-----------------------+\n",
      "|count(DISTINCT user_id)|\n",
      "+-----------------------+\n",
      "|                1968703|\n",
      "+-----------------------+\n",
      "\n"
     ]
    }
   ],
   "source": [
    "spark.sql('''\n",
    "            SELECT \n",
    "            COUNT(DISTINCT user_id)\n",
    "            FROM usr_base\n",
    "            ''').show()"
   ]
  },
  {
   "cell_type": "markdown",
   "metadata": {},
   "source": [
    "- Seleção de usuários com reviews de business IDs em Toronto, já selecionados anteriormente na base de estabelecimentos"
   ]
  },
  {
   "cell_type": "code",
   "execution_count": 122,
   "metadata": {
    "execution": {
     "iopub.execute_input": "2020-07-09T22:04:22.947505Z",
     "iopub.status.busy": "2020-07-09T22:04:22.947291Z",
     "iopub.status.idle": "2020-07-09T22:04:22.955942Z",
     "shell.execute_reply": "2020-07-09T22:04:22.955367Z",
     "shell.execute_reply.started": "2020-07-09T22:04:22.947486Z"
    }
   },
   "outputs": [],
   "source": [
    "usr_base2 = spark.sql('''\n",
    "            SELECT \n",
    "            A.business_id,\n",
    "            B.*\n",
    "\n",
    "            FROM bz as A \n",
    "            LEFT JOIN usr_base as B\n",
    "            \n",
    "            ON A.business_id = B.business_id\n",
    "                      \n",
    "            ''')"
   ]
  },
  {
   "cell_type": "code",
   "execution_count": 123,
   "metadata": {
    "execution": {
     "iopub.execute_input": "2020-07-09T22:04:23.276455Z",
     "iopub.status.busy": "2020-07-09T22:04:23.276218Z",
     "iopub.status.idle": "2020-07-09T22:04:23.343595Z",
     "shell.execute_reply": "2020-07-09T22:04:23.342712Z",
     "shell.execute_reply.started": "2020-07-09T22:04:23.276433Z"
    }
   },
   "outputs": [],
   "source": [
    "usr_base2.createOrReplaceTempView('usr_base2')"
   ]
  },
  {
   "cell_type": "code",
   "execution_count": 124,
   "metadata": {
    "execution": {
     "iopub.execute_input": "2020-07-09T22:04:23.667397Z",
     "iopub.status.busy": "2020-07-09T22:04:23.667113Z",
     "iopub.status.idle": "2020-07-09T22:04:51.132627Z",
     "shell.execute_reply": "2020-07-09T22:04:51.131941Z",
     "shell.execute_reply.started": "2020-07-09T22:04:23.667370Z"
    }
   },
   "outputs": [
    {
     "name": "stdout",
     "output_type": "stream",
     "text": [
      "+-----------------------+\n",
      "|count(DISTINCT user_id)|\n",
      "+-----------------------+\n",
      "|                 119792|\n",
      "+-----------------------+\n",
      "\n"
     ]
    }
   ],
   "source": [
    "spark.sql('''\n",
    "            SELECT \n",
    "            COUNT(DISTINCT user_id)\n",
    "            FROM usr_base2\n",
    "            ''').show()"
   ]
  },
  {
   "cell_type": "code",
   "execution_count": 125,
   "metadata": {
    "execution": {
     "iopub.execute_input": "2020-07-09T22:04:51.134217Z",
     "iopub.status.busy": "2020-07-09T22:04:51.133958Z",
     "iopub.status.idle": "2020-07-09T22:04:51.143631Z",
     "shell.execute_reply": "2020-07-09T22:04:51.142915Z",
     "shell.execute_reply.started": "2020-07-09T22:04:51.134191Z"
    }
   },
   "outputs": [],
   "source": [
    "# Identificar User_id Apenas de Usuários que fizeram Reviews em Estabelecimentos Abertos Em Toronto\n",
    "\n",
    "usr_base3 = spark.sql('''\n",
    "            SELECT \n",
    "            DISTINCT user_id\n",
    "            FROM usr_base2\n",
    "            ''')"
   ]
  },
  {
   "cell_type": "code",
   "execution_count": 126,
   "metadata": {
    "execution": {
     "iopub.execute_input": "2020-07-09T22:04:51.145731Z",
     "iopub.status.busy": "2020-07-09T22:04:51.145462Z",
     "iopub.status.idle": "2020-07-09T22:04:51.228517Z",
     "shell.execute_reply": "2020-07-09T22:04:51.227787Z",
     "shell.execute_reply.started": "2020-07-09T22:04:51.145704Z"
    }
   },
   "outputs": [],
   "source": [
    "usr_base3.createOrReplaceTempView('usr_base3')"
   ]
  },
  {
   "cell_type": "code",
   "execution_count": 127,
   "metadata": {
    "execution": {
     "iopub.execute_input": "2020-07-09T22:04:51.230549Z",
     "iopub.status.busy": "2020-07-09T22:04:51.230278Z",
     "iopub.status.idle": "2020-07-09T22:04:51.255007Z",
     "shell.execute_reply": "2020-07-09T22:04:51.254305Z",
     "shell.execute_reply.started": "2020-07-09T22:04:51.230522Z"
    }
   },
   "outputs": [],
   "source": [
    "# Seleciona Apenas de Usuários que fizeram Reviews em Estabelecimentos Abertos Em Toronto\n",
    "\n",
    "usr_base4 = spark.sql('''\n",
    "            SELECT \n",
    "            A.user_id,\n",
    "            A.average_stars,\n",
    "            A.compliment_cool,\n",
    "            A.compliment_cute,\n",
    "            A.compliment_funny,\n",
    "            A.compliment_hot,\n",
    "            A.compliment_list,\n",
    "            A.compliment_more,\n",
    "            A.compliment_note,\n",
    "            A.compliment_photos,\n",
    "            A.compliment_plain,\n",
    "            A.compliment_profile,\n",
    "            A.compliment_writer,\n",
    "            A.cool,\n",
    "            A.elite_count,\n",
    "            A.fans,\n",
    "            A.friends_count,\n",
    "            A.funny,\n",
    "            A.review_count AS review_count_usr,\n",
    "            A.useful,\n",
    "            A.year_since\n",
    "\n",
    "            FROM usr_raw1  as A LEFT JOIN usr_base3 as B\n",
    "            \n",
    "            ON A.user_id = B.user_id\n",
    "            \n",
    "            WHERE B.user_id <> ''\n",
    "            \n",
    "            ''')"
   ]
  },
  {
   "cell_type": "code",
   "execution_count": 128,
   "metadata": {
    "execution": {
     "iopub.execute_input": "2020-07-09T22:04:51.256452Z",
     "iopub.status.busy": "2020-07-09T22:04:51.256088Z",
     "iopub.status.idle": "2020-07-09T22:04:51.344121Z",
     "shell.execute_reply": "2020-07-09T22:04:51.343329Z",
     "shell.execute_reply.started": "2020-07-09T22:04:51.256424Z"
    }
   },
   "outputs": [],
   "source": [
    "usr_base4.createOrReplaceTempView('usr_base4')"
   ]
  },
  {
   "cell_type": "code",
   "execution_count": null,
   "metadata": {},
   "outputs": [],
   "source": []
  },
  {
   "cell_type": "code",
   "execution_count": null,
   "metadata": {},
   "outputs": [],
   "source": []
  },
  {
   "cell_type": "markdown",
   "metadata": {},
   "source": [
    "- Quantidade inicial de usuários na base:"
   ]
  },
  {
   "cell_type": "code",
   "execution_count": 129,
   "metadata": {
    "execution": {
     "iopub.execute_input": "2020-07-09T22:04:51.345388Z",
     "iopub.status.busy": "2020-07-09T22:04:51.345165Z",
     "iopub.status.idle": "2020-07-09T22:04:55.052935Z",
     "shell.execute_reply": "2020-07-09T22:04:55.051723Z",
     "shell.execute_reply.started": "2020-07-09T22:04:51.345366Z"
    }
   },
   "outputs": [
    {
     "name": "stdout",
     "output_type": "stream",
     "text": [
      "+-----------------------+\n",
      "|count(DISTINCT user_id)|\n",
      "+-----------------------+\n",
      "|                1968703|\n",
      "+-----------------------+\n",
      "\n"
     ]
    }
   ],
   "source": [
    "spark.sql('''\n",
    "            SELECT \n",
    "            COUNT(DISTINCT user_id)\n",
    "            FROM usr_raw1\n",
    "            ''').show()"
   ]
  },
  {
   "cell_type": "markdown",
   "metadata": {},
   "source": [
    "- Quantidade final de usuários na base:"
   ]
  },
  {
   "cell_type": "code",
   "execution_count": 134,
   "metadata": {
    "execution": {
     "iopub.execute_input": "2020-07-09T22:07:31.502041Z",
     "iopub.status.busy": "2020-07-09T22:07:31.501753Z",
     "iopub.status.idle": "2020-07-09T22:07:59.433313Z",
     "shell.execute_reply": "2020-07-09T22:07:59.432565Z",
     "shell.execute_reply.started": "2020-07-09T22:07:31.502013Z"
    }
   },
   "outputs": [
    {
     "name": "stdout",
     "output_type": "stream",
     "text": [
      "+-----------------------+\n",
      "|count(DISTINCT user_id)|\n",
      "+-----------------------+\n",
      "|                 119792|\n",
      "+-----------------------+\n",
      "\n"
     ]
    }
   ],
   "source": [
    "spark.sql('''\n",
    "            SELECT \n",
    "            COUNT(DISTINCT user_id)\n",
    "            FROM usr_base4\n",
    "            ''').show()"
   ]
  },
  {
   "cell_type": "code",
   "execution_count": 83,
   "metadata": {
    "execution": {
     "iopub.execute_input": "2020-07-09T21:35:28.291162Z",
     "iopub.status.busy": "2020-07-09T21:35:28.290901Z",
     "iopub.status.idle": "2020-07-09T21:35:49.157136Z",
     "shell.execute_reply": "2020-07-09T21:35:49.156438Z",
     "shell.execute_reply.started": "2020-07-09T21:35:28.291136Z"
    }
   },
   "outputs": [],
   "source": [
    "usr_base4.write \\\n",
    "    .format('csv') \\\n",
    "    .mode('overwrite') \\\n",
    "    .option('sep', ',') \\\n",
    "    .option('header', True) \\\n",
    "    .save('output/yelp_usr.csv')"
   ]
  },
  {
   "cell_type": "code",
   "execution_count": 84,
   "metadata": {
    "execution": {
     "iopub.execute_input": "2020-07-09T21:35:49.158820Z",
     "iopub.status.busy": "2020-07-09T21:35:49.158293Z",
     "iopub.status.idle": "2020-07-09T21:35:49.165775Z",
     "shell.execute_reply": "2020-07-09T21:35:49.165051Z",
     "shell.execute_reply.started": "2020-07-09T21:35:49.158782Z"
    }
   },
   "outputs": [
    {
     "data": {
      "text/plain": [
       "['user_id',\n",
       " 'average_stars',\n",
       " 'compliment_cool',\n",
       " 'compliment_cute',\n",
       " 'compliment_funny',\n",
       " 'compliment_hot',\n",
       " 'compliment_list',\n",
       " 'compliment_more',\n",
       " 'compliment_note',\n",
       " 'compliment_photos',\n",
       " 'compliment_plain',\n",
       " 'compliment_profile',\n",
       " 'compliment_writer',\n",
       " 'cool',\n",
       " 'elite_count',\n",
       " 'fans',\n",
       " 'friends_count',\n",
       " 'funny',\n",
       " 'review_count_usr',\n",
       " 'useful',\n",
       " 'year_since']"
      ]
     },
     "execution_count": 84,
     "metadata": {},
     "output_type": "execute_result"
    }
   ],
   "source": [
    "usr_base4.columns"
   ]
  },
  {
   "cell_type": "markdown",
   "metadata": {
    "collapsed": "true"
   },
   "source": [
    "## Reviews"
   ]
  },
  {
   "cell_type": "markdown",
   "metadata": {},
   "source": [
    "To dos: \n",
    "\n",
    "- ler arquivos de cluster e juntar na base de reviews\n",
    "- Join a lista de cluster_bz na base pelo business_id\n",
    "- Join lista de cluster de usuários (perfil_usr)\n",
    "- Juntar atributos das tips na base: contagem, compliments, se teve ou não tips (ver código pronto na base única)\n",
    "- Text mining nas reviews/tip para encontrar as palavras com maior frequência em cada cluster_bz  e cluster_usr (código pronto no R: modelagem yelp 3)\n",
    "- Lista com palavras mais frequentes e nota média por cluster_bz\n",
    "- avaliar evolução das notas por cluster_bz e por perfil de usuário (cluster_usr)\n",
    "(- Comparar horário dos reveiws com quantidade de check-ins no estabelecimento)"
   ]
  },
  {
   "cell_type": "code",
   "execution_count": 133,
   "metadata": {
    "execution": {
     "iopub.execute_input": "2020-07-09T13:23:58.779541Z",
     "iopub.status.busy": "2020-07-09T13:23:58.779304Z",
     "iopub.status.idle": "2020-07-09T13:23:58.790099Z",
     "shell.execute_reply": "2020-07-09T13:23:58.789511Z",
     "shell.execute_reply.started": "2020-07-09T13:23:58.779520Z"
    }
   },
   "outputs": [],
   "source": [
    "rv1 = spark.sql(\"\"\"\n",
    "        SELECT \n",
    "        B.*,\n",
    "        A.business_id,\n",
    "        A.stars as stars_rv,\n",
    "        YEAR(A.date) AS year_rv\n",
    "        \n",
    "        FROM usr_clusters2 as B\n",
    "        LEFT JOIN rv as A\n",
    "        ON B.user_id = A.user_id\n",
    "\n",
    "        \"\"\")"
   ]
  },
  {
   "cell_type": "code",
   "execution_count": 134,
   "metadata": {
    "execution": {
     "iopub.execute_input": "2020-07-09T13:24:00.347899Z",
     "iopub.status.busy": "2020-07-09T13:24:00.347626Z",
     "iopub.status.idle": "2020-07-09T13:24:00.352949Z",
     "shell.execute_reply": "2020-07-09T13:24:00.352213Z",
     "shell.execute_reply.started": "2020-07-09T13:24:00.347874Z"
    }
   },
   "outputs": [
    {
     "data": {
      "text/plain": [
       "['user_id',\n",
       " 'average_stars',\n",
       " 'compliment_cool',\n",
       " 'compliment_cute',\n",
       " 'compliment_funny',\n",
       " 'compliment_hot',\n",
       " 'compliment_list',\n",
       " 'compliment_more',\n",
       " 'compliment_note',\n",
       " 'compliment_photos',\n",
       " 'compliment_plain',\n",
       " 'compliment_profile',\n",
       " 'compliment_writer',\n",
       " 'cool',\n",
       " 'elite_count',\n",
       " 'fans',\n",
       " 'friends_count',\n",
       " 'funny',\n",
       " 'review_count',\n",
       " 'useful',\n",
       " 'year_since',\n",
       " 'cluster_usr',\n",
       " 'business_id',\n",
       " 'stars_rv',\n",
       " 'year_rv']"
      ]
     },
     "execution_count": 134,
     "metadata": {},
     "output_type": "execute_result"
    }
   ],
   "source": [
    "rv1.columns"
   ]
  },
  {
   "cell_type": "code",
   "execution_count": 135,
   "metadata": {
    "execution": {
     "iopub.execute_input": "2020-07-09T13:24:04.041789Z",
     "iopub.status.busy": "2020-07-09T13:24:04.041503Z",
     "iopub.status.idle": "2020-07-09T13:24:04.097847Z",
     "shell.execute_reply": "2020-07-09T13:24:04.096933Z",
     "shell.execute_reply.started": "2020-07-09T13:24:04.041762Z"
    }
   },
   "outputs": [],
   "source": [
    "rv1.createOrReplaceTempView('rv1')"
   ]
  },
  {
   "cell_type": "code",
   "execution_count": 136,
   "metadata": {
    "execution": {
     "iopub.execute_input": "2020-07-09T13:24:06.682654Z",
     "iopub.status.busy": "2020-07-09T13:24:06.682375Z",
     "iopub.status.idle": "2020-07-09T13:24:06.690848Z",
     "shell.execute_reply": "2020-07-09T13:24:06.690096Z",
     "shell.execute_reply.started": "2020-07-09T13:24:06.682628Z"
    }
   },
   "outputs": [],
   "source": [
    "rv2 = spark.sql(\"\"\"\n",
    "        SELECT A.*,\n",
    "        B.cluster as cluster_usr\n",
    "        \n",
    "        FROM rv1 as A\n",
    "        LEFT JOIN usr_clusters as B\n",
    "        ON A.user_id = B.user_id\n",
    "\n",
    "        \"\"\")"
   ]
  },
  {
   "cell_type": "code",
   "execution_count": 137,
   "metadata": {
    "execution": {
     "iopub.execute_input": "2020-07-09T13:24:07.087534Z",
     "iopub.status.busy": "2020-07-09T13:24:07.087259Z",
     "iopub.status.idle": "2020-07-09T13:24:07.092626Z",
     "shell.execute_reply": "2020-07-09T13:24:07.091922Z",
     "shell.execute_reply.started": "2020-07-09T13:24:07.087508Z"
    }
   },
   "outputs": [
    {
     "data": {
      "text/plain": [
       "['user_id',\n",
       " 'average_stars',\n",
       " 'compliment_cool',\n",
       " 'compliment_cute',\n",
       " 'compliment_funny',\n",
       " 'compliment_hot',\n",
       " 'compliment_list',\n",
       " 'compliment_more',\n",
       " 'compliment_note',\n",
       " 'compliment_photos',\n",
       " 'compliment_plain',\n",
       " 'compliment_profile',\n",
       " 'compliment_writer',\n",
       " 'cool',\n",
       " 'elite_count',\n",
       " 'fans',\n",
       " 'friends_count',\n",
       " 'funny',\n",
       " 'review_count',\n",
       " 'useful',\n",
       " 'year_since',\n",
       " 'cluster_usr',\n",
       " 'business_id',\n",
       " 'stars_rv',\n",
       " 'year_rv',\n",
       " 'cluster_usr']"
      ]
     },
     "execution_count": 137,
     "metadata": {},
     "output_type": "execute_result"
    }
   ],
   "source": [
    "rv2.columns"
   ]
  },
  {
   "cell_type": "code",
   "execution_count": 138,
   "metadata": {
    "execution": {
     "iopub.execute_input": "2020-07-09T13:24:08.893528Z",
     "iopub.status.busy": "2020-07-09T13:24:08.893218Z",
     "iopub.status.idle": "2020-07-09T13:24:08.948819Z",
     "shell.execute_reply": "2020-07-09T13:24:08.948112Z",
     "shell.execute_reply.started": "2020-07-09T13:24:08.893497Z"
    }
   },
   "outputs": [],
   "source": [
    "rv2.createOrReplaceTempView('rv2')"
   ]
  },
  {
   "cell_type": "code",
   "execution_count": 130,
   "metadata": {
    "execution": {
     "iopub.execute_input": "2020-07-09T13:21:20.261124Z",
     "iopub.status.busy": "2020-07-09T13:21:20.260840Z",
     "iopub.status.idle": "2020-07-09T13:21:40.213835Z",
     "shell.execute_reply": "2020-07-09T13:21:40.213107Z",
     "shell.execute_reply.started": "2020-07-09T13:21:20.261097Z"
    }
   },
   "outputs": [
    {
     "name": "stdout",
     "output_type": "stream",
     "text": [
      "+-----------------------+\n",
      "|count(DISTINCT user_id)|\n",
      "+-----------------------+\n",
      "|                1968703|\n",
      "+-----------------------+\n",
      "\n"
     ]
    }
   ],
   "source": [
    "spark.sql('''\n",
    "            SELECT \n",
    "            COUNT(DISTINCT user_id)\n",
    "            FROM rv2\n",
    "            ''').show()"
   ]
  },
  {
   "cell_type": "code",
   "execution_count": 131,
   "metadata": {
    "execution": {
     "iopub.execute_input": "2020-07-09T13:21:40.216294Z",
     "iopub.status.busy": "2020-07-09T13:21:40.215877Z",
     "iopub.status.idle": "2020-07-09T13:22:08.326854Z",
     "shell.execute_reply": "2020-07-09T13:22:08.326157Z",
     "shell.execute_reply.started": "2020-07-09T13:21:40.216252Z"
    }
   },
   "outputs": [
    {
     "name": "stdout",
     "output_type": "stream",
     "text": [
      "+---------------------------+\n",
      "|count(DISTINCT business_id)|\n",
      "+---------------------------+\n",
      "|                     209393|\n",
      "+---------------------------+\n",
      "\n"
     ]
    }
   ],
   "source": [
    "spark.sql('''\n",
    "            SELECT \n",
    "            COUNT(DISTINCT business_id)\n",
    "            FROM rv2\n",
    "            ''').show()"
   ]
  },
  {
   "cell_type": "code",
   "execution_count": 106,
   "metadata": {
    "execution": {
     "iopub.execute_input": "2020-07-09T13:10:44.743122Z",
     "iopub.status.busy": "2020-07-09T13:10:44.742846Z",
     "iopub.status.idle": "2020-07-09T13:10:44.752047Z",
     "shell.execute_reply": "2020-07-09T13:10:44.751212Z",
     "shell.execute_reply.started": "2020-07-09T13:10:44.743096Z"
    }
   },
   "outputs": [],
   "source": [
    "rv3 = spark.sql(\"\"\"\n",
    "        SELECT A.*,\n",
    "        B.*\n",
    "        FROM rv2 as A \n",
    "        RIGHT JOIN bz22 as B\n",
    "        ON A.business_id = B.business_id\n",
    "\n",
    "        \"\"\")"
   ]
  },
  {
   "cell_type": "code",
   "execution_count": 107,
   "metadata": {
    "execution": {
     "iopub.execute_input": "2020-07-09T13:10:45.128556Z",
     "iopub.status.busy": "2020-07-09T13:10:45.128306Z",
     "iopub.status.idle": "2020-07-09T13:10:45.134152Z",
     "shell.execute_reply": "2020-07-09T13:10:45.133398Z",
     "shell.execute_reply.started": "2020-07-09T13:10:45.128532Z"
    }
   },
   "outputs": [
    {
     "data": {
      "text/plain": [
       "['business_id',\n",
       " 'stars_rv',\n",
       " 'user_id',\n",
       " 'year_rv',\n",
       " 'cluster_usr',\n",
       " 'business_id',\n",
       " 'categories',\n",
       " 'latitude',\n",
       " 'longitude',\n",
       " 'name',\n",
       " 'review_count',\n",
       " 'stars',\n",
       " 'AcceptsInsurance',\n",
       " 'AgesAllowed',\n",
       " 'Alcohol',\n",
       " 'BYOB',\n",
       " 'BikeParking',\n",
       " 'BusinessAcceptsCreditCards',\n",
       " 'ByAppointmentOnly',\n",
       " 'Caters',\n",
       " 'CoatCheck',\n",
       " 'Corkage',\n",
       " 'DogsAllowed',\n",
       " 'DriveThru',\n",
       " 'GoodForDancing',\n",
       " 'GoodForKids',\n",
       " 'HappyHour',\n",
       " 'HasTV',\n",
       " 'NoiseLevel',\n",
       " 'OutdoorSeating',\n",
       " 'RestaurantsAttire',\n",
       " 'RestaurantsDelivery',\n",
       " 'RestaurantsGoodForGroups',\n",
       " 'RestaurantsPriceRange2',\n",
       " 'RestaurantsReservations',\n",
       " 'RestaurantsTableService',\n",
       " 'RestaurantsTakeOut',\n",
       " 'Smoking',\n",
       " 'WheelchairAccessible',\n",
       " 'WiFi']"
      ]
     },
     "execution_count": 107,
     "metadata": {},
     "output_type": "execute_result"
    }
   ],
   "source": [
    "rv2.columns"
   ]
  },
  {
   "cell_type": "code",
   "execution_count": 59,
   "metadata": {
    "execution": {
     "iopub.execute_input": "2020-07-09T12:19:42.841693Z",
     "iopub.status.busy": "2020-07-09T12:19:42.841442Z",
     "iopub.status.idle": "2020-07-09T12:19:42.851798Z",
     "shell.execute_reply": "2020-07-09T12:19:42.851137Z",
     "shell.execute_reply.started": "2020-07-09T12:19:42.841668Z"
    }
   },
   "outputs": [],
   "source": [
    "rv2.createOrReplaceTempView('rv2')"
   ]
  },
  {
   "cell_type": "code",
   "execution_count": 60,
   "metadata": {
    "execution": {
     "iopub.execute_input": "2020-07-09T12:19:42.853480Z",
     "iopub.status.busy": "2020-07-09T12:19:42.853208Z",
     "iopub.status.idle": "2020-07-09T12:19:51.813257Z",
     "shell.execute_reply": "2020-07-09T12:19:51.812556Z",
     "shell.execute_reply.started": "2020-07-09T12:19:42.853451Z"
    }
   },
   "outputs": [
    {
     "name": "stdout",
     "output_type": "stream",
     "text": [
      "+---------------------------+\n",
      "|count(DISTINCT business_id)|\n",
      "+---------------------------+\n",
      "|                      14962|\n",
      "+---------------------------+\n",
      "\n"
     ]
    }
   ],
   "source": [
    "spark.sql('''\n",
    "            SELECT \n",
    "            COUNT(DISTINCT business_id)\n",
    "            FROM rv2\n",
    "            ''').show()"
   ]
  },
  {
   "cell_type": "code",
   "execution_count": 61,
   "metadata": {
    "execution": {
     "iopub.execute_input": "2020-07-09T12:19:51.814766Z",
     "iopub.status.busy": "2020-07-09T12:19:51.814339Z",
     "iopub.status.idle": "2020-07-09T12:20:06.217714Z",
     "shell.execute_reply": "2020-07-09T12:20:06.216935Z",
     "shell.execute_reply.started": "2020-07-09T12:19:51.814731Z"
    }
   },
   "outputs": [
    {
     "name": "stdout",
     "output_type": "stream",
     "text": [
      "+-------------------------+\n",
      "|count(DISTINCT review_id)|\n",
      "+-------------------------+\n",
      "|                   481658|\n",
      "+-------------------------+\n",
      "\n"
     ]
    }
   ],
   "source": [
    "spark.sql('''\n",
    "            SELECT \n",
    "            COUNT(DISTINCT review_id)\n",
    "            FROM rv2\n",
    "            ''').show()"
   ]
  },
  {
   "cell_type": "code",
   "execution_count": 62,
   "metadata": {
    "execution": {
     "iopub.execute_input": "2020-07-09T12:20:06.219405Z",
     "iopub.status.busy": "2020-07-09T12:20:06.218935Z",
     "iopub.status.idle": "2020-07-09T12:20:18.387707Z",
     "shell.execute_reply": "2020-07-09T12:20:18.387054Z",
     "shell.execute_reply.started": "2020-07-09T12:20:06.219371Z"
    }
   },
   "outputs": [],
   "source": [
    "rv_df = spark.sql(\"\"\"\n",
    "        SELECT cluster_bz, year_rv, count(review_id) as qtde_rv\n",
    "        \n",
    "        FROM rv2 as A\n",
    "        GROUP BY cluster_bz, year_rv\n",
    "        \"\"\").toPandas()"
   ]
  },
  {
   "cell_type": "code",
   "execution_count": 102,
   "metadata": {
    "execution": {
     "iopub.execute_input": "2020-07-08T00:11:14.262195Z",
     "iopub.status.busy": "2020-07-08T00:11:14.261913Z",
     "iopub.status.idle": "2020-07-08T00:11:14.282983Z",
     "shell.execute_reply": "2020-07-08T00:11:14.282293Z",
     "shell.execute_reply.started": "2020-07-08T00:11:14.262168Z"
    }
   },
   "outputs": [
    {
     "data": {
      "text/html": [
       "<div>\n",
       "<style scoped>\n",
       "    .dataframe tbody tr th:only-of-type {\n",
       "        vertical-align: middle;\n",
       "    }\n",
       "\n",
       "    .dataframe tbody tr th {\n",
       "        vertical-align: top;\n",
       "    }\n",
       "\n",
       "    .dataframe thead th {\n",
       "        text-align: right;\n",
       "    }\n",
       "</style>\n",
       "<table border=\"1\" class=\"dataframe\">\n",
       "  <thead>\n",
       "    <tr style=\"text-align: right;\">\n",
       "      <th></th>\n",
       "      <th>cluster_bz</th>\n",
       "      <th>year_rv</th>\n",
       "      <th>qtde_rv</th>\n",
       "    </tr>\n",
       "  </thead>\n",
       "  <tbody>\n",
       "    <tr>\n",
       "      <th>0</th>\n",
       "      <td>2</td>\n",
       "      <td>2017</td>\n",
       "      <td>8433</td>\n",
       "    </tr>\n",
       "    <tr>\n",
       "      <th>1</th>\n",
       "      <td>4</td>\n",
       "      <td>2009</td>\n",
       "      <td>1129</td>\n",
       "    </tr>\n",
       "    <tr>\n",
       "      <th>2</th>\n",
       "      <td>3</td>\n",
       "      <td>2016</td>\n",
       "      <td>4518</td>\n",
       "    </tr>\n",
       "    <tr>\n",
       "      <th>3</th>\n",
       "      <td>3</td>\n",
       "      <td>2017</td>\n",
       "      <td>3949</td>\n",
       "    </tr>\n",
       "    <tr>\n",
       "      <th>4</th>\n",
       "      <td>7</td>\n",
       "      <td>2012</td>\n",
       "      <td>4555</td>\n",
       "    </tr>\n",
       "    <tr>\n",
       "      <th>...</th>\n",
       "      <td>...</td>\n",
       "      <td>...</td>\n",
       "      <td>...</td>\n",
       "    </tr>\n",
       "    <tr>\n",
       "      <th>80</th>\n",
       "      <td>7</td>\n",
       "      <td>2017</td>\n",
       "      <td>16997</td>\n",
       "    </tr>\n",
       "    <tr>\n",
       "      <th>81</th>\n",
       "      <td>5</td>\n",
       "      <td>2015</td>\n",
       "      <td>12672</td>\n",
       "    </tr>\n",
       "    <tr>\n",
       "      <th>82</th>\n",
       "      <td>1</td>\n",
       "      <td>2008</td>\n",
       "      <td>708</td>\n",
       "    </tr>\n",
       "    <tr>\n",
       "      <th>83</th>\n",
       "      <td>2</td>\n",
       "      <td>2018</td>\n",
       "      <td>7159</td>\n",
       "    </tr>\n",
       "    <tr>\n",
       "      <th>84</th>\n",
       "      <td>4</td>\n",
       "      <td>2011</td>\n",
       "      <td>3086</td>\n",
       "    </tr>\n",
       "  </tbody>\n",
       "</table>\n",
       "<p>85 rows × 3 columns</p>\n",
       "</div>"
      ],
      "text/plain": [
       "   cluster_bz  year_rv  qtde_rv\n",
       "0           2     2017     8433\n",
       "1           4     2009     1129\n",
       "2           3     2016     4518\n",
       "3           3     2017     3949\n",
       "4           7     2012     4555\n",
       "..        ...      ...      ...\n",
       "80          7     2017    16997\n",
       "81          5     2015    12672\n",
       "82          1     2008      708\n",
       "83          2     2018     7159\n",
       "84          4     2011     3086\n",
       "\n",
       "[85 rows x 3 columns]"
      ]
     },
     "execution_count": 102,
     "metadata": {},
     "output_type": "execute_result"
    }
   ],
   "source": [
    "rv_df"
   ]
  },
  {
   "cell_type": "code",
   "execution_count": null,
   "metadata": {},
   "outputs": [],
   "source": [
    "#plt.figure(figsize = (25,7))\n",
    "#sns.heatmap(data = df2, cmap=\"YlGnBu\", annot = True)"
   ]
  },
  {
   "cell_type": "code",
   "execution_count": null,
   "metadata": {},
   "outputs": [],
   "source": [
    "#df2 = df.groupby(['month','dow'])['count'].sum().unstack('dow').fillna(0) "
   ]
  },
  {
   "cell_type": "code",
   "execution_count": 104,
   "metadata": {
    "execution": {
     "iopub.execute_input": "2020-07-08T00:12:41.991865Z",
     "iopub.status.busy": "2020-07-08T00:12:41.991589Z",
     "iopub.status.idle": "2020-07-08T00:12:42.448611Z",
     "shell.execute_reply": "2020-07-08T00:12:42.447911Z",
     "shell.execute_reply.started": "2020-07-08T00:12:41.991840Z"
    }
   },
   "outputs": [
    {
     "data": {
      "text/plain": [
       "<matplotlib.axes._subplots.AxesSubplot at 0x1a1c106f10>"
      ]
     },
     "execution_count": 104,
     "metadata": {},
     "output_type": "execute_result"
    },
    {
     "data": {
      "image/png": "[encoded data removed]",
      "text/plain": [
       "<Figure size 1800x432 with 1 Axes>"
      ]
     },
     "metadata": {
      "needs_background": "light"
     },
     "output_type": "display_data"
    }
   ],
   "source": [
    "rv_df.groupby(['year_rv','cluster_bz'])['qtde_rv'].agg('sum').unstack('cluster_bz').plot(kind = 'bar', stacked = True, figsize = (25,6))"
   ]
  },
  {
   "cell_type": "code",
   "execution_count": null,
   "metadata": {},
   "outputs": [],
   "source": []
  },
  {
   "cell_type": "code",
   "execution_count": null,
   "metadata": {},
   "outputs": [],
   "source": []
  },
  {
   "cell_type": "code",
   "execution_count": null,
   "metadata": {},
   "outputs": [],
   "source": []
  },
  {
   "cell_type": "markdown",
   "metadata": {
    "collapsed": "true"
   },
   "source": [
    "## Base para treino do modelo"
   ]
  },
  {
   "cell_type": "markdown",
   "metadata": {
    "collapsed": "true",
    "execution": {
     "iopub.execute_input": "2020-07-09T21:41:05.788043Z",
     "iopub.status.busy": "2020-07-09T21:41:05.787840Z",
     "iopub.status.idle": "2020-07-09T21:41:05.791046Z",
     "shell.execute_reply": "2020-07-09T21:41:05.790054Z",
     "shell.execute_reply.started": "2020-07-09T21:41:05.788025Z"
    }
   },
   "source": [
    "## Tratamento do texto"
   ]
  },
  {
   "cell_type": "code",
   "execution_count": null,
   "metadata": {},
   "outputs": [],
   "source": [
    "def word_clean(sdf,col,new_col):\n",
    "    rv1 = sdf.withColumn(new_col,f.regexp_replace(f.col(col), \"'d\", \" would\"))\n",
    "    rv2 = rv1.withColumn(new_col,f.regexp_replace(f.col(new_col), \"'ve\", \" have\"))\n",
    "    rv3 = rv2.withColumn(new_col,f.regexp_replace(f.col(new_col), \"'s\", \" is\"))\n",
    "    rv4 = rv3.withColumn(new_col,f.regexp_replace(f.col(new_col), \"'re\", \" are\"))\n",
    "    rv5 = rv4.withColumn(new_col,f.regexp_replace(f.col(new_col), \"n't\", \" not\"))\n",
    "    rv6 = rv5.withColumn(new_col,f.regexp_replace(f.col(new_col), '\\W+', \" \"))\n",
    "    rv7 = rv6.withColumn(new_col,f.lower(f.col(new_col)))\n",
    "    return rv7"
   ]
  },
  {
   "cell_type": "markdown",
   "metadata": {},
   "source": [
    "word_clean(rv,'text_rv','text_clean')\n",
    "word_clean(rv,'tip','tip_clean')"
   ]
  },
  {
   "cell_type": "code",
   "execution_count": null,
   "metadata": {},
   "outputs": [],
   "source": []
  },
  {
   "cell_type": "code",
   "execution_count": null,
   "metadata": {},
   "outputs": [],
   "source": []
  },
  {
   "cell_type": "code",
   "execution_count": 77,
   "metadata": {
    "execution": {
     "iopub.execute_input": "2020-07-09T13:42:09.837098Z",
     "iopub.status.busy": "2020-07-09T13:42:09.836818Z",
     "iopub.status.idle": "2020-07-09T13:42:09.959304Z",
     "shell.execute_reply": "2020-07-09T13:42:09.958579Z",
     "shell.execute_reply.started": "2020-07-09T13:42:09.837072Z"
    }
   },
   "outputs": [],
   "source": [
    "usr_clusters = spark.read.csv('output/usr_cluster.csv', header = True)\n",
    "usr_clusters.createOrReplaceTempView('usr_clusters')"
   ]
  },
  {
   "cell_type": "code",
   "execution_count": 78,
   "metadata": {
    "execution": {
     "iopub.execute_input": "2020-07-09T13:42:10.253013Z",
     "iopub.status.busy": "2020-07-09T13:42:10.252637Z",
     "iopub.status.idle": "2020-07-09T13:42:10.263093Z",
     "shell.execute_reply": "2020-07-09T13:42:10.262335Z",
     "shell.execute_reply.started": "2020-07-09T13:42:10.252974Z"
    }
   },
   "outputs": [],
   "source": [
    "#Juntando número do cluster na base de usuários\n",
    "usr_clusters2 = spark.sql(\"\"\"\n",
    "                SELECT A.*,\n",
    "                B.cluster as cluster_usr\n",
    "\n",
    "                FROM usr_base4 as A\n",
    "                LEFT JOIN usr_clusters as B\n",
    "                ON A.user_id = B.user_id\n",
    "\n",
    "                \"\"\")"
   ]
  },
  {
   "cell_type": "code",
   "execution_count": null,
   "metadata": {},
   "outputs": [],
   "source": [
    "usr_clusters2.createOrReplaceTempView('usr_clusters2')"
   ]
  },
  {
   "cell_type": "code",
   "execution_count": 93,
   "metadata": {
    "execution": {
     "iopub.execute_input": "2020-07-09T13:52:36.548871Z",
     "iopub.status.busy": "2020-07-09T13:52:36.548634Z",
     "iopub.status.idle": "2020-07-09T13:52:36.558785Z",
     "shell.execute_reply": "2020-07-09T13:52:36.558173Z",
     "shell.execute_reply.started": "2020-07-09T13:52:36.548850Z"
    }
   },
   "outputs": [],
   "source": [
    "#seleção das reviews daqueles usuários\n",
    "bf1 = spark.sql(\"\"\"\n",
    "        SELECT \n",
    "        B.*,\n",
    "        A.business_id,\n",
    "        A.stars as stars_rv,\n",
    "        YEAR(A.date) AS year_rv\n",
    "        \n",
    "        FROM usr_clusters2 as B\n",
    "        LEFT JOIN rv as A\n",
    "        ON B.user_id = A.user_id\n",
    "\n",
    "        \"\"\")"
   ]
  },
  {
   "cell_type": "code",
   "execution_count": 80,
   "metadata": {
    "execution": {
     "iopub.execute_input": "2020-07-09T13:43:01.128731Z",
     "iopub.status.busy": "2020-07-09T13:43:01.128496Z",
     "iopub.status.idle": "2020-07-09T13:43:01.133134Z",
     "shell.execute_reply": "2020-07-09T13:43:01.132591Z",
     "shell.execute_reply.started": "2020-07-09T13:43:01.128709Z"
    }
   },
   "outputs": [
    {
     "data": {
      "text/plain": [
       "['user_id',\n",
       " 'average_stars',\n",
       " 'compliment_cool',\n",
       " 'compliment_cute',\n",
       " 'compliment_funny',\n",
       " 'compliment_hot',\n",
       " 'compliment_list',\n",
       " 'compliment_more',\n",
       " 'compliment_note',\n",
       " 'compliment_photos',\n",
       " 'compliment_plain',\n",
       " 'compliment_profile',\n",
       " 'compliment_writer',\n",
       " 'cool',\n",
       " 'elite_count',\n",
       " 'fans',\n",
       " 'friends_count',\n",
       " 'funny',\n",
       " 'review_count_usr',\n",
       " 'useful',\n",
       " 'year_since',\n",
       " 'cluster_usr',\n",
       " 'business_id',\n",
       " 'stars_rv',\n",
       " 'year_rv']"
      ]
     },
     "execution_count": 80,
     "metadata": {},
     "output_type": "execute_result"
    }
   ],
   "source": [
    "bf1.columns"
   ]
  },
  {
   "cell_type": "code",
   "execution_count": 82,
   "metadata": {
    "execution": {
     "iopub.execute_input": "2020-07-09T13:48:36.939738Z",
     "iopub.status.busy": "2020-07-09T13:48:36.939409Z",
     "iopub.status.idle": "2020-07-09T13:48:37.019814Z",
     "shell.execute_reply": "2020-07-09T13:48:37.018982Z",
     "shell.execute_reply.started": "2020-07-09T13:48:36.939707Z"
    }
   },
   "outputs": [],
   "source": [
    "bf1.createOrReplaceTempView('bf1')"
   ]
  },
  {
   "cell_type": "code",
   "execution_count": 85,
   "metadata": {
    "execution": {
     "iopub.execute_input": "2020-07-09T13:48:52.925706Z",
     "iopub.status.busy": "2020-07-09T13:48:52.925425Z",
     "iopub.status.idle": "2020-07-09T13:48:52.930494Z",
     "shell.execute_reply": "2020-07-09T13:48:52.929784Z",
     "shell.execute_reply.started": "2020-07-09T13:48:52.925680Z"
    }
   },
   "outputs": [
    {
     "data": {
      "text/plain": [
       "['business_id',\n",
       " 'categories',\n",
       " 'latitude',\n",
       " 'longitude',\n",
       " 'name',\n",
       " 'review_count',\n",
       " 'stars',\n",
       " 'AcceptsInsurance',\n",
       " 'AgesAllowed',\n",
       " 'Alcohol',\n",
       " 'BYOB',\n",
       " 'BikeParking',\n",
       " 'BusinessAcceptsCreditCards',\n",
       " 'ByAppointmentOnly',\n",
       " 'Caters',\n",
       " 'CoatCheck',\n",
       " 'Corkage',\n",
       " 'DogsAllowed',\n",
       " 'DriveThru',\n",
       " 'GoodForDancing',\n",
       " 'GoodForKids',\n",
       " 'HappyHour',\n",
       " 'HasTV',\n",
       " 'NoiseLevel',\n",
       " 'OutdoorSeating',\n",
       " 'RestaurantsAttire',\n",
       " 'RestaurantsDelivery',\n",
       " 'RestaurantsGoodForGroups',\n",
       " 'RestaurantsPriceRange2',\n",
       " 'RestaurantsReservations',\n",
       " 'RestaurantsTableService',\n",
       " 'RestaurantsTakeOut',\n",
       " 'Smoking',\n",
       " 'WheelchairAccessible',\n",
       " 'WiFi']"
      ]
     },
     "execution_count": 85,
     "metadata": {},
     "output_type": "execute_result"
    }
   ],
   "source": [
    "bz22.columns"
   ]
  },
  {
   "cell_type": "code",
   "execution_count": 94,
   "metadata": {
    "execution": {
     "iopub.execute_input": "2020-07-09T13:52:57.914141Z",
     "iopub.status.busy": "2020-07-09T13:52:57.913922Z",
     "iopub.status.idle": "2020-07-09T13:52:57.928923Z",
     "shell.execute_reply": "2020-07-09T13:52:57.928152Z",
     "shell.execute_reply.started": "2020-07-09T13:52:57.914121Z"
    }
   },
   "outputs": [],
   "source": [
    "bf2 = spark.sql('''\n",
    "                SELECT A.*,\n",
    "                B.categories,\n",
    "                B.latitude,\n",
    "                B.longitude,\n",
    "                B.name,\n",
    "                B.review_count,\n",
    "                B.stars,\n",
    "                B.AcceptsInsurance,\n",
    "                B.AgesAllowed,\n",
    "                B.Alcohol,\n",
    "                B.BYOB,\n",
    "                B.BikeParking,\n",
    "                B.BusinessAcceptsCreditCards,\n",
    "                B.ByAppointmentOnly,\n",
    "                B.Caters,\n",
    "                B.CoatCheck,\n",
    "                B.Corkage,\n",
    "                B.DogsAllowed,\n",
    "                B.DriveThru,\n",
    "                B.GoodForDancing,\n",
    "                B.GoodForKids,\n",
    "                B.HappyHour,\n",
    "                B.HasTV,\n",
    "                B.NoiseLevel,\n",
    "                B.OutdoorSeating,\n",
    "                B.RestaurantsAttire,\n",
    "                B.RestaurantsDelivery,\n",
    "                B.RestaurantsGoodForGroups,\n",
    "                B.RestaurantsPriceRange2,\n",
    "                B.RestaurantsReservations,\n",
    "                B.RestaurantsTableService,\n",
    "                B.RestaurantsTakeOut,\n",
    "                B.Smoking,\n",
    "                B.WheelchairAccessible,\n",
    "                B.WiFi\n",
    "                \n",
    "                FROM bf1 as A \n",
    "                RIGHT JOIN bz22 as B\n",
    "                ON A.business_id = B.business_id\n",
    "                \n",
    "                WHERE year_rv >= 2017\n",
    "                \n",
    "                ''')"
   ]
  },
  {
   "cell_type": "code",
   "execution_count": 95,
   "metadata": {
    "execution": {
     "iopub.execute_input": "2020-07-09T13:52:59.440434Z",
     "iopub.status.busy": "2020-07-09T13:52:59.440143Z",
     "iopub.status.idle": "2020-07-09T13:52:59.443189Z",
     "shell.execute_reply": "2020-07-09T13:52:59.442431Z",
     "shell.execute_reply.started": "2020-07-09T13:52:59.440407Z"
    }
   },
   "outputs": [],
   "source": [
    "#bf1.groupBy('cluster_bz').count().show()"
   ]
  },
  {
   "cell_type": "code",
   "execution_count": 96,
   "metadata": {
    "execution": {
     "iopub.execute_input": "2020-07-09T13:52:59.660339Z",
     "iopub.status.busy": "2020-07-09T13:52:59.660052Z",
     "iopub.status.idle": "2020-07-09T13:52:59.788008Z",
     "shell.execute_reply": "2020-07-09T13:52:59.787389Z",
     "shell.execute_reply.started": "2020-07-09T13:52:59.660312Z"
    }
   },
   "outputs": [],
   "source": [
    "bf2.createOrReplaceTempView('bf2')"
   ]
  },
  {
   "cell_type": "code",
   "execution_count": 97,
   "metadata": {
    "execution": {
     "iopub.execute_input": "2020-07-09T13:53:00.195959Z",
     "iopub.status.busy": "2020-07-09T13:53:00.195675Z",
     "iopub.status.idle": "2020-07-09T13:53:24.543844Z",
     "shell.execute_reply": "2020-07-09T13:53:24.542966Z",
     "shell.execute_reply.started": "2020-07-09T13:53:00.195933Z"
    }
   },
   "outputs": [
    {
     "name": "stdout",
     "output_type": "stream",
     "text": [
      "+---------------------------+\n",
      "|count(DISTINCT business_id)|\n",
      "+---------------------------+\n",
      "|                      13428|\n",
      "+---------------------------+\n",
      "\n"
     ]
    }
   ],
   "source": [
    "spark.sql('''\n",
    "            SELECT \n",
    "            COUNT(DISTINCT business_id)\n",
    "            FROM bf2\n",
    "            ''').show()"
   ]
  },
  {
   "cell_type": "code",
   "execution_count": 98,
   "metadata": {
    "execution": {
     "iopub.execute_input": "2020-07-09T13:53:24.545529Z",
     "iopub.status.busy": "2020-07-09T13:53:24.545277Z",
     "iopub.status.idle": "2020-07-09T13:53:24.551716Z",
     "shell.execute_reply": "2020-07-09T13:53:24.551084Z",
     "shell.execute_reply.started": "2020-07-09T13:53:24.545508Z"
    }
   },
   "outputs": [
    {
     "data": {
      "text/plain": [
       "['user_id',\n",
       " 'average_stars',\n",
       " 'compliment_cool',\n",
       " 'compliment_cute',\n",
       " 'compliment_funny',\n",
       " 'compliment_hot',\n",
       " 'compliment_list',\n",
       " 'compliment_more',\n",
       " 'compliment_note',\n",
       " 'compliment_photos',\n",
       " 'compliment_plain',\n",
       " 'compliment_profile',\n",
       " 'compliment_writer',\n",
       " 'cool',\n",
       " 'elite_count',\n",
       " 'fans',\n",
       " 'friends_count',\n",
       " 'funny',\n",
       " 'review_count_usr',\n",
       " 'useful',\n",
       " 'year_since',\n",
       " 'cluster_usr',\n",
       " 'business_id',\n",
       " 'stars_rv',\n",
       " 'year_rv',\n",
       " 'categories',\n",
       " 'latitude',\n",
       " 'longitude',\n",
       " 'name',\n",
       " 'review_count',\n",
       " 'stars',\n",
       " 'AcceptsInsurance',\n",
       " 'AgesAllowed',\n",
       " 'Alcohol',\n",
       " 'BYOB',\n",
       " 'BikeParking',\n",
       " 'BusinessAcceptsCreditCards',\n",
       " 'ByAppointmentOnly',\n",
       " 'Caters',\n",
       " 'CoatCheck',\n",
       " 'Corkage',\n",
       " 'DogsAllowed',\n",
       " 'DriveThru',\n",
       " 'GoodForDancing',\n",
       " 'GoodForKids',\n",
       " 'HappyHour',\n",
       " 'HasTV',\n",
       " 'NoiseLevel',\n",
       " 'OutdoorSeating',\n",
       " 'RestaurantsAttire',\n",
       " 'RestaurantsDelivery',\n",
       " 'RestaurantsGoodForGroups',\n",
       " 'RestaurantsPriceRange2',\n",
       " 'RestaurantsReservations',\n",
       " 'RestaurantsTableService',\n",
       " 'RestaurantsTakeOut',\n",
       " 'Smoking',\n",
       " 'WheelchairAccessible',\n",
       " 'WiFi']"
      ]
     },
     "execution_count": 98,
     "metadata": {},
     "output_type": "execute_result"
    }
   ],
   "source": [
    "bf2.columns"
   ]
  },
  {
   "cell_type": "code",
   "execution_count": 99,
   "metadata": {
    "execution": {
     "iopub.execute_input": "2020-07-09T13:55:34.836266Z",
     "iopub.status.busy": "2020-07-09T13:55:34.835977Z",
     "iopub.status.idle": "2020-07-09T13:56:12.596714Z",
     "shell.execute_reply": "2020-07-09T13:56:12.595982Z",
     "shell.execute_reply.started": "2020-07-09T13:55:34.836239Z"
    }
   },
   "outputs": [],
   "source": [
    "bf2.write \\\n",
    "    .format('csv') \\\n",
    "    .mode('overwrite') \\\n",
    "    .option('sep', ',') \\\n",
    "    .option('header', True) \\\n",
    "    .save('output/yelp.csv')"
   ]
  },
  {
   "cell_type": "markdown",
   "metadata": {},
   "source": [
    "## Tratamento do Texto"
   ]
  },
  {
   "cell_type": "code",
   "execution_count": 47,
   "metadata": {
    "ExecuteTime": {
     "end_time": "2020-07-04T14:26:39.570034Z",
     "start_time": "2020-07-04T14:26:39.564050Z"
    },
    "execution": {
     "iopub.execute_input": "2020-07-04T13:43:20.777241Z",
     "iopub.status.busy": "2020-07-04T13:43:20.776836Z",
     "iopub.status.idle": "2020-07-04T13:43:20.785346Z",
     "shell.execute_reply": "2020-07-04T13:43:20.784560Z",
     "shell.execute_reply.started": "2020-07-04T13:43:20.777204Z"
    }
   },
   "outputs": [],
   "source": []
  },
  {
   "cell_type": "code",
   "execution_count": 48,
   "metadata": {
    "ExecuteTime": {
     "end_time": "2020-07-04T14:26:39.843073Z",
     "start_time": "2020-07-04T14:26:39.571031Z"
    },
    "execution": {
     "iopub.execute_input": "2020-07-04T13:43:21.480616Z",
     "iopub.status.busy": "2020-07-04T13:43:21.480315Z",
     "iopub.status.idle": "2020-07-04T13:43:21.685758Z",
     "shell.execute_reply": "2020-07-04T13:43:21.684992Z",
     "shell.execute_reply.started": "2020-07-04T13:43:21.480588Z"
    }
   },
   "outputs": [],
   "source": [
    "words = word_clean(bf2,'text','text_clean')\n",
    "#base6 = word_clean(base5,'tip','tip_clean')"
   ]
  },
  {
   "cell_type": "code",
   "execution_count": 49,
   "metadata": {
    "ExecuteTime": {
     "end_time": "2020-07-04T14:26:39.847034Z",
     "start_time": "2020-07-04T14:26:39.844042Z"
    },
    "execution": {
     "iopub.execute_input": "2020-07-04T13:43:22.766787Z",
     "iopub.status.busy": "2020-07-04T13:43:22.766493Z",
     "iopub.status.idle": "2020-07-04T13:43:55.009305Z",
     "shell.execute_reply": "2020-07-04T13:43:55.008404Z",
     "shell.execute_reply.started": "2020-07-04T13:43:22.766757Z"
    }
   },
   "outputs": [],
   "source": [
    "# base6.select('text_clean','tip_clean').show()"
   ]
  },
  {
   "cell_type": "markdown",
   "metadata": {},
   "source": [
    "- Contagem de amigos de cada usuário"
   ]
  },
  {
   "cell_type": "code",
   "execution_count": 50,
   "metadata": {
    "ExecuteTime": {
     "end_time": "2020-07-04T14:26:39.896931Z",
     "start_time": "2020-07-04T14:26:39.848031Z"
    },
    "execution": {
     "iopub.execute_input": "2020-07-04T13:44:15.818089Z",
     "iopub.status.busy": "2020-07-04T13:44:15.817796Z",
     "iopub.status.idle": "2020-07-04T13:44:15.834146Z",
     "shell.execute_reply": "2020-07-04T13:44:15.833433Z",
     "shell.execute_reply.started": "2020-07-04T13:44:15.818058Z"
    }
   },
   "outputs": [],
   "source": [
    "base7 = base6.withColumn('friends_counter_usr', f.size(f.split(f.col('friends_usr'),',')))"
   ]
  },
  {
   "cell_type": "code",
   "execution_count": 51,
   "metadata": {
    "ExecuteTime": {
     "end_time": "2020-07-04T14:26:39.971236Z",
     "start_time": "2020-07-04T14:26:39.897898Z"
    },
    "execution": {
     "iopub.execute_input": "2020-07-04T13:44:17.656851Z",
     "iopub.status.busy": "2020-07-04T13:44:17.656537Z",
     "iopub.status.idle": "2020-07-04T13:44:17.704269Z",
     "shell.execute_reply": "2020-07-04T13:44:17.703448Z",
     "shell.execute_reply.started": "2020-07-04T13:44:17.656823Z"
    }
   },
   "outputs": [],
   "source": [
    "base7.createOrReplaceTempView('base7')"
   ]
  },
  {
   "cell_type": "code",
   "execution_count": 52,
   "metadata": {
    "ExecuteTime": {
     "end_time": "2020-07-04T14:26:39.987166Z",
     "start_time": "2020-07-04T14:26:39.972206Z"
    },
    "execution": {
     "iopub.execute_input": "2020-07-04T13:44:19.344077Z",
     "iopub.status.busy": "2020-07-04T13:44:19.343772Z",
     "iopub.status.idle": "2020-07-04T13:44:19.358294Z",
     "shell.execute_reply": "2020-07-04T13:44:19.357549Z",
     "shell.execute_reply.started": "2020-07-04T13:44:19.344048Z"
    }
   },
   "outputs": [],
   "source": [
    "base8 = spark.sql('''\n",
    "            SELECT *,\n",
    "            (CASE WHEN friends_usr = 'None' THEN 0 ELSE friends_counter_usr END) as friends_count_usr\n",
    "            FROM base7\n",
    "            ''')"
   ]
  },
  {
   "cell_type": "code",
   "execution_count": 53,
   "metadata": {
    "ExecuteTime": {
     "end_time": "2020-07-04T14:28:23.414579Z",
     "start_time": "2020-07-04T14:26:39.988163Z"
    },
    "execution": {
     "iopub.execute_input": "2020-07-04T13:44:22.396011Z",
     "iopub.status.busy": "2020-07-04T13:44:22.395728Z",
     "iopub.status.idle": "2020-07-04T13:45:01.354454Z",
     "shell.execute_reply": "2020-07-04T13:45:01.353742Z",
     "shell.execute_reply.started": "2020-07-04T13:44:22.395985Z"
    }
   },
   "outputs": [],
   "source": [
    "df = base8.select('friends_usr','friends_counter_usr','friends_count_usr').limit(10).toPandas()"
   ]
  },
  {
   "cell_type": "code",
   "execution_count": 54,
   "metadata": {
    "ExecuteTime": {
     "end_time": "2020-07-04T14:28:23.422101Z",
     "start_time": "2020-07-04T14:28:23.415577Z"
    },
    "execution": {
     "iopub.execute_input": "2020-07-04T13:45:01.356047Z",
     "iopub.status.busy": "2020-07-04T13:45:01.355790Z",
     "iopub.status.idle": "2020-07-04T13:45:01.364435Z",
     "shell.execute_reply": "2020-07-04T13:45:01.363732Z",
     "shell.execute_reply.started": "2020-07-04T13:45:01.356022Z"
    }
   },
   "outputs": [
    {
     "data": {
      "text/plain": [
       "friends_usr            object\n",
       "friends_counter_usr     int32\n",
       "friends_count_usr       int32\n",
       "dtype: object"
      ]
     },
     "execution_count": 54,
     "metadata": {},
     "output_type": "execute_result"
    }
   ],
   "source": [
    "df.dtypes"
   ]
  },
  {
   "cell_type": "code",
   "execution_count": 55,
   "metadata": {
    "ExecuteTime": {
     "end_time": "2020-07-04T14:28:23.435035Z",
     "start_time": "2020-07-04T14:28:23.423067Z"
    },
    "execution": {
     "iopub.execute_input": "2020-07-03T21:48:29.473010Z",
     "iopub.status.busy": "2020-07-03T21:48:29.472749Z",
     "iopub.status.idle": "2020-07-03T21:48:29.486767Z",
     "shell.execute_reply": "2020-07-03T21:48:29.485932Z",
     "shell.execute_reply.started": "2020-07-03T21:48:29.472984Z"
    }
   },
   "outputs": [
    {
     "data": {
      "text/html": [
       "<div>\n",
       "<style scoped>\n",
       "    .dataframe tbody tr th:only-of-type {\n",
       "        vertical-align: middle;\n",
       "    }\n",
       "\n",
       "    .dataframe tbody tr th {\n",
       "        vertical-align: top;\n",
       "    }\n",
       "\n",
       "    .dataframe thead th {\n",
       "        text-align: right;\n",
       "    }\n",
       "</style>\n",
       "<table border=\"1\" class=\"dataframe\">\n",
       "  <thead>\n",
       "    <tr style=\"text-align: right;\">\n",
       "      <th></th>\n",
       "      <th>friends_usr</th>\n",
       "      <th>friends_counter_usr</th>\n",
       "      <th>friends_count_usr</th>\n",
       "    </tr>\n",
       "  </thead>\n",
       "  <tbody>\n",
       "    <tr>\n",
       "      <th>0</th>\n",
       "      <td>8lfS8bZkamISfRfWim5CKw, yixPLGK98f9uH1_QTRbwvg...</td>\n",
       "      <td>87</td>\n",
       "      <td>87</td>\n",
       "    </tr>\n",
       "    <tr>\n",
       "      <th>1</th>\n",
       "      <td>8lfS8bZkamISfRfWim5CKw, yixPLGK98f9uH1_QTRbwvg...</td>\n",
       "      <td>87</td>\n",
       "      <td>87</td>\n",
       "    </tr>\n",
       "    <tr>\n",
       "      <th>2</th>\n",
       "      <td>ALxRHdxbefyWvZ-7nbmy7Q, efZ2H4mRruo4STvSCPPqYA...</td>\n",
       "      <td>27</td>\n",
       "      <td>27</td>\n",
       "    </tr>\n",
       "    <tr>\n",
       "      <th>3</th>\n",
       "      <td>ALxRHdxbefyWvZ-7nbmy7Q, efZ2H4mRruo4STvSCPPqYA...</td>\n",
       "      <td>27</td>\n",
       "      <td>27</td>\n",
       "    </tr>\n",
       "    <tr>\n",
       "      <th>4</th>\n",
       "      <td>-A0mo_vdbn_-_omovpr3HA, 4jh8x7Xv6aKAiZmBRlV8OA...</td>\n",
       "      <td>57</td>\n",
       "      <td>57</td>\n",
       "    </tr>\n",
       "    <tr>\n",
       "      <th>5</th>\n",
       "      <td>None</td>\n",
       "      <td>1</td>\n",
       "      <td>0</td>\n",
       "    </tr>\n",
       "    <tr>\n",
       "      <th>6</th>\n",
       "      <td>hD3xxj6CyunXze3sCAnDrw, QV8xDVk5AYZEpiOTI6_E0g...</td>\n",
       "      <td>73</td>\n",
       "      <td>73</td>\n",
       "    </tr>\n",
       "    <tr>\n",
       "      <th>7</th>\n",
       "      <td>5e-12hnuO5qK8loS9D8o5Q, ahHKqP2-5xx2QlcJDAc3qQ...</td>\n",
       "      <td>205</td>\n",
       "      <td>205</td>\n",
       "    </tr>\n",
       "    <tr>\n",
       "      <th>8</th>\n",
       "      <td>wVvjv0lOGFXvpXdNfA2WHA, lGKDN8lSn6RhTkKzQ8wwig...</td>\n",
       "      <td>11</td>\n",
       "      <td>11</td>\n",
       "    </tr>\n",
       "    <tr>\n",
       "      <th>9</th>\n",
       "      <td>None</td>\n",
       "      <td>1</td>\n",
       "      <td>0</td>\n",
       "    </tr>\n",
       "  </tbody>\n",
       "</table>\n",
       "</div>"
      ],
      "text/plain": [
       "                                         friends_usr  friends_counter_usr  \\\n",
       "0  8lfS8bZkamISfRfWim5CKw, yixPLGK98f9uH1_QTRbwvg...                   87   \n",
       "1  8lfS8bZkamISfRfWim5CKw, yixPLGK98f9uH1_QTRbwvg...                   87   \n",
       "2  ALxRHdxbefyWvZ-7nbmy7Q, efZ2H4mRruo4STvSCPPqYA...                   27   \n",
       "3  ALxRHdxbefyWvZ-7nbmy7Q, efZ2H4mRruo4STvSCPPqYA...                   27   \n",
       "4  -A0mo_vdbn_-_omovpr3HA, 4jh8x7Xv6aKAiZmBRlV8OA...                   57   \n",
       "5                                               None                    1   \n",
       "6  hD3xxj6CyunXze3sCAnDrw, QV8xDVk5AYZEpiOTI6_E0g...                   73   \n",
       "7  5e-12hnuO5qK8loS9D8o5Q, ahHKqP2-5xx2QlcJDAc3qQ...                  205   \n",
       "8  wVvjv0lOGFXvpXdNfA2WHA, lGKDN8lSn6RhTkKzQ8wwig...                   11   \n",
       "9                                               None                    1   \n",
       "\n",
       "   friends_count_usr  \n",
       "0                 87  \n",
       "1                 87  \n",
       "2                 27  \n",
       "3                 27  \n",
       "4                 57  \n",
       "5                  0  \n",
       "6                 73  \n",
       "7                205  \n",
       "8                 11  \n",
       "9                  0  "
      ]
     },
     "execution_count": 55,
     "metadata": {},
     "output_type": "execute_result"
    }
   ],
   "source": [
    "df"
   ]
  },
  {
   "cell_type": "code",
   "execution_count": 56,
   "metadata": {
    "ExecuteTime": {
     "end_time": "2020-07-04T14:28:23.439024Z",
     "start_time": "2020-07-04T14:28:23.436032Z"
    },
    "code_folding": [],
    "execution": {
     "iopub.execute_input": "2020-07-04T13:45:08.027414Z",
     "iopub.status.busy": "2020-07-04T13:45:08.027127Z",
     "iopub.status.idle": "2020-07-04T13:45:50.468767Z",
     "shell.execute_reply": "2020-07-04T13:45:50.467706Z",
     "shell.execute_reply.started": "2020-07-04T13:45:08.027388Z"
    }
   },
   "outputs": [],
   "source": [
    "# base8.select('friends_usr','friends_counter_usr','friends_count_usr').show()"
   ]
  },
  {
   "cell_type": "markdown",
   "metadata": {},
   "source": [
    "## Concatenando Comentários por Usuário - Review + Tips"
   ]
  },
  {
   "cell_type": "code",
   "execution_count": 57,
   "metadata": {
    "ExecuteTime": {
     "end_time": "2020-07-04T14:28:23.515818Z",
     "start_time": "2020-07-04T14:28:23.440021Z"
    },
    "execution": {
     "iopub.execute_input": "2020-07-04T13:46:18.710795Z",
     "iopub.status.busy": "2020-07-04T13:46:18.710493Z",
     "iopub.status.idle": "2020-07-04T13:46:18.763092Z",
     "shell.execute_reply": "2020-07-04T13:46:18.762274Z",
     "shell.execute_reply.started": "2020-07-04T13:46:18.710765Z"
    }
   },
   "outputs": [],
   "source": [
    "base9 = base8.withColumn('rv_tip', f.concat(f.col('text_clean'),f.lit(' '), f.col('tip_clean')))"
   ]
  },
  {
   "cell_type": "code",
   "execution_count": 58,
   "metadata": {
    "ExecuteTime": {
     "end_time": "2020-07-04T14:28:23.519808Z",
     "start_time": "2020-07-04T14:28:23.516816Z"
    },
    "execution": {
     "iopub.execute_input": "2020-07-04T13:46:42.319980Z",
     "iopub.status.busy": "2020-07-04T13:46:42.319707Z",
     "iopub.status.idle": "2020-07-04T13:47:15.744522Z",
     "shell.execute_reply": "2020-07-04T13:47:15.743722Z",
     "shell.execute_reply.started": "2020-07-04T13:46:42.319954Z"
    }
   },
   "outputs": [],
   "source": [
    "# base9.select('text_clean','tip_clean','rv_tip','stars_rv','compliment_count_tip','funny_rv','cool_rv').show()"
   ]
  },
  {
   "cell_type": "code",
   "execution_count": 59,
   "metadata": {
    "ExecuteTime": {
     "end_time": "2020-07-04T14:28:23.612588Z",
     "start_time": "2020-07-04T14:28:23.520805Z"
    },
    "execution": {
     "iopub.execute_input": "2020-07-04T13:47:51.356793Z",
     "iopub.status.busy": "2020-07-04T13:47:51.356496Z",
     "iopub.status.idle": "2020-07-04T13:47:51.400399Z",
     "shell.execute_reply": "2020-07-04T13:47:51.399697Z",
     "shell.execute_reply.started": "2020-07-04T13:47:51.356766Z"
    }
   },
   "outputs": [],
   "source": [
    "base9.createOrReplaceTempView('base9')"
   ]
  },
  {
   "cell_type": "code",
   "execution_count": 60,
   "metadata": {
    "ExecuteTime": {
     "end_time": "2020-07-04T14:28:23.616549Z",
     "start_time": "2020-07-04T14:28:23.613557Z"
    },
    "execution": {
     "iopub.execute_input": "2020-07-04T13:47:52.638130Z",
     "iopub.status.busy": "2020-07-04T13:47:52.637830Z",
     "iopub.status.idle": "2020-07-04T13:48:25.751549Z",
     "shell.execute_reply": "2020-07-04T13:48:25.750732Z",
     "shell.execute_reply.started": "2020-07-04T13:47:52.638102Z"
    }
   },
   "outputs": [],
   "source": [
    "# spark.sql('''\n",
    "#         SELECT stars_rv, count(tip_clean) as tip_counter\n",
    "#         FROM base9\n",
    "#         GROUP BY stars_rv\n",
    "#         ORDER BY tip_counter DESC\n",
    "#         ''').show()"
   ]
  },
  {
   "cell_type": "markdown",
   "metadata": {},
   "source": [
    "- Remoção de colunas que não serão utilizadas na primeira modelagem"
   ]
  },
  {
   "cell_type": "code",
   "execution_count": 61,
   "metadata": {
    "ExecuteTime": {
     "end_time": "2020-07-04T14:28:23.632499Z",
     "start_time": "2020-07-04T14:28:23.617986Z"
    },
    "execution": {
     "iopub.execute_input": "2020-07-04T13:55:10.567709Z",
     "iopub.status.busy": "2020-07-04T13:55:10.567474Z",
     "iopub.status.idle": "2020-07-04T13:55:10.577489Z",
     "shell.execute_reply": "2020-07-04T13:55:10.576797Z",
     "shell.execute_reply.started": "2020-07-04T13:55:10.567688Z"
    }
   },
   "outputs": [],
   "source": [
    "base_final = base9.drop('friends_usr','friends_counter_usr','name_usr','city_bz', 'address_bz','state_bz', 'hours_bz','text_rv','tip','tip_clean','elite_usr')#,'review_id')"
   ]
  },
  {
   "cell_type": "code",
   "execution_count": 62,
   "metadata": {
    "ExecuteTime": {
     "end_time": "2020-07-04T14:28:23.638481Z",
     "start_time": "2020-07-04T14:28:23.633466Z"
    },
    "execution": {
     "iopub.execute_input": "2020-07-04T13:50:58.124152Z",
     "iopub.status.busy": "2020-07-04T13:50:58.123836Z",
     "iopub.status.idle": "2020-07-04T13:50:58.130460Z",
     "shell.execute_reply": "2020-07-04T13:50:58.129723Z",
     "shell.execute_reply.started": "2020-07-04T13:50:58.124125Z"
    }
   },
   "outputs": [
    {
     "data": {
      "text/plain": [
       "['business_id',\n",
       " 'cool_rv',\n",
       " 'date_rv',\n",
       " 'funny_rv',\n",
       " 'review_id',\n",
       " 'stars_rv',\n",
       " 'useful_rv',\n",
       " 'user_id',\n",
       " 'categories_bz',\n",
       " 'is_open_bz',\n",
       " 'latitude_bz',\n",
       " 'longitude_bz',\n",
       " 'name_bz',\n",
       " 'postal_code_bz',\n",
       " 'review_count_bz',\n",
       " 'stars_bz',\n",
       " 'stars_usr',\n",
       " 'compliment_cool_usr',\n",
       " 'compliment_cute_usr',\n",
       " 'compliment_funny_usr',\n",
       " 'compliment_hot_usr',\n",
       " 'compliment_list_usr',\n",
       " 'compliment_more_usr',\n",
       " 'compliment_note_usr',\n",
       " 'compliment_photos_usr',\n",
       " 'compliment_plain_usr',\n",
       " 'compliment_profile_usr',\n",
       " 'compliment_writer_usr',\n",
       " 'cool_usr',\n",
       " 'fans_usr',\n",
       " 'funny_usr',\n",
       " 'review_count_usr',\n",
       " 'useful_usr',\n",
       " 'yelping_since_usr',\n",
       " 'city_review_counter_usr',\n",
       " 'city_review_ratio_usr',\n",
       " 'class_rv',\n",
       " 'class_bz',\n",
       " 'class_usr',\n",
       " 'compliment_count_tip',\n",
       " 'text_clean',\n",
       " 'friends_count_usr',\n",
       " 'rv_tip']"
      ]
     },
     "execution_count": 62,
     "metadata": {},
     "output_type": "execute_result"
    }
   ],
   "source": [
    "base_final.columns"
   ]
  },
  {
   "cell_type": "markdown",
   "metadata": {},
   "source": [
    "## Salva Base analítica em CSV"
   ]
  },
  {
   "cell_type": "code",
   "execution_count": 63,
   "metadata": {
    "ExecuteTime": {
     "end_time": "2020-07-04T14:31:51.378171Z",
     "start_time": "2020-07-04T14:28:23.639450Z"
    },
    "execution": {
     "iopub.execute_input": "2020-07-04T14:08:38.069414Z",
     "iopub.status.busy": "2020-07-04T14:08:38.069132Z",
     "iopub.status.idle": "2020-07-04T14:10:11.390159Z",
     "shell.execute_reply": "2020-07-04T14:10:11.386232Z",
     "shell.execute_reply.started": "2020-07-04T14:08:38.069388Z"
    }
   },
   "outputs": [],
   "source": [
    "base_final.write \\\n",
    "    .format('csv') \\\n",
    "    .mode('overwrite') \\\n",
    "    .option('sep', ',') \\\n",
    "    .option('header', True) \\\n",
    "    .save('output/yelp.csv')"
   ]
  },
  {
   "cell_type": "markdown",
   "metadata": {},
   "source": [
    "# Base para Modelo de Tópicos\n",
    "\n",
    "Informações de Texto que serão tratadas em Modelos de Tópicos no R"
   ]
  },
  {
   "cell_type": "code",
   "execution_count": 64,
   "metadata": {
    "ExecuteTime": {
     "end_time": "2020-07-04T14:31:51.402107Z",
     "start_time": "2020-07-04T14:31:51.379168Z"
    },
    "execution": {
     "iopub.execute_input": "2020-07-04T13:52:21.945698Z",
     "iopub.status.busy": "2020-07-04T13:52:21.945401Z",
     "iopub.status.idle": "2020-07-04T13:52:21.966873Z",
     "shell.execute_reply": "2020-07-04T13:52:21.965803Z",
     "shell.execute_reply.started": "2020-07-04T13:52:21.945671Z"
    }
   },
   "outputs": [],
   "source": [
    "words = base_final.select('review_id','user_id','business_id','categories_bz','stars_rv','rv_tip')"
   ]
  },
  {
   "cell_type": "code",
   "execution_count": 65,
   "metadata": {
    "ExecuteTime": {
     "end_time": "2020-07-04T14:31:51.476906Z",
     "start_time": "2020-07-04T14:31:51.403104Z"
    },
    "execution": {
     "iopub.execute_input": "2020-07-04T13:54:02.918607Z",
     "iopub.status.busy": "2020-07-04T13:54:02.918324Z",
     "iopub.status.idle": "2020-07-04T13:54:02.936787Z",
     "shell.execute_reply": "2020-07-04T13:54:02.936077Z",
     "shell.execute_reply.started": "2020-07-04T13:54:02.918581Z"
    }
   },
   "outputs": [],
   "source": [
    "words2 = words.withColumn('category_bz', f.explode(f.split(f.col('categories_bz'),', ')))"
   ]
  },
  {
   "cell_type": "code",
   "execution_count": 66,
   "metadata": {
    "ExecuteTime": {
     "end_time": "2020-07-04T14:31:51.483888Z",
     "start_time": "2020-07-04T14:31:51.477904Z"
    },
    "execution": {
     "iopub.execute_input": "2020-07-04T13:54:05.724826Z",
     "iopub.status.busy": "2020-07-04T13:54:05.724535Z",
     "iopub.status.idle": "2020-07-04T13:54:05.729993Z",
     "shell.execute_reply": "2020-07-04T13:54:05.729234Z",
     "shell.execute_reply.started": "2020-07-04T13:54:05.724799Z"
    }
   },
   "outputs": [],
   "source": [
    "words3 = words2.drop('categories_bz')"
   ]
  },
  {
   "cell_type": "code",
   "execution_count": 67,
   "metadata": {
    "ExecuteTime": {
     "end_time": "2020-07-04T14:31:51.490870Z",
     "start_time": "2020-07-04T14:31:51.487877Z"
    },
    "execution": {
     "iopub.execute_input": "2020-07-04T13:54:06.994099Z",
     "iopub.status.busy": "2020-07-04T13:54:06.993785Z",
     "iopub.status.idle": "2020-07-04T13:54:40.483847Z",
     "shell.execute_reply": "2020-07-04T13:54:40.482790Z",
     "shell.execute_reply.started": "2020-07-04T13:54:06.994066Z"
    }
   },
   "outputs": [],
   "source": [
    "# words3.show()"
   ]
  },
  {
   "cell_type": "code",
   "execution_count": 68,
   "metadata": {
    "ExecuteTime": {
     "end_time": "2020-07-04T14:31:51.495856Z",
     "start_time": "2020-07-04T14:31:51.492865Z"
    }
   },
   "outputs": [],
   "source": [
    "#words4 = words3.withColumn('word', f.explode(f.split(f.col('review_tip'),' ')))"
   ]
  },
  {
   "cell_type": "markdown",
   "metadata": {},
   "source": [
    "## Salva Base Auxiliar para Modelo de Tópicos - \"Reviews + Tips\""
   ]
  },
  {
   "cell_type": "code",
   "execution_count": 69,
   "metadata": {
    "ExecuteTime": {
     "end_time": "2020-07-04T14:34:02.617139Z",
     "start_time": "2020-07-04T14:31:51.496853Z"
    },
    "execution": {
     "iopub.execute_input": "2020-07-04T13:55:56.265340Z",
     "iopub.status.busy": "2020-07-04T13:55:56.265041Z",
     "iopub.status.idle": "2020-07-04T13:56:35.734282Z",
     "shell.execute_reply": "2020-07-04T13:56:35.733250Z",
     "shell.execute_reply.started": "2020-07-04T13:55:56.265313Z"
    }
   },
   "outputs": [],
   "source": [
    "words3.write \\\n",
    "    .format('csv') \\\n",
    "    .mode('overwrite') \\\n",
    "    .option('sep', ',') \\\n",
    "    .option('header', True) \\\n",
    "    .save('output/yelp_words.csv')"
   ]
  },
  {
   "cell_type": "markdown",
   "metadata": {},
   "source": [
    "# Matriz de distâncias\n",
    "\n",
    "Estruturação de Dados para Clusterização Hierárquica"
   ]
  },
  {
   "cell_type": "markdown",
   "metadata": {},
   "source": [
    "- Preparação para criação de matriz de distâncias baseada na nota de cada avaliação."
   ]
  },
  {
   "cell_type": "code",
   "execution_count": 70,
   "metadata": {
    "ExecuteTime": {
     "end_time": "2020-07-04T14:34:02.636088Z",
     "start_time": "2020-07-04T14:34:02.618136Z"
    },
    "execution": {
     "iopub.execute_input": "2020-07-04T13:57:15.374774Z",
     "iopub.status.busy": "2020-07-04T13:57:15.374481Z",
     "iopub.status.idle": "2020-07-04T13:57:15.385874Z",
     "shell.execute_reply": "2020-07-04T13:57:15.385104Z",
     "shell.execute_reply.started": "2020-07-04T13:57:15.374742Z"
    }
   },
   "outputs": [],
   "source": [
    "dist1 = base_final.select('user_id','categories_bz','stars_rv')"
   ]
  },
  {
   "cell_type": "code",
   "execution_count": 71,
   "metadata": {
    "ExecuteTime": {
     "end_time": "2020-07-04T14:34:02.640078Z",
     "start_time": "2020-07-04T14:34:02.637085Z"
    },
    "execution": {
     "iopub.execute_input": "2020-07-04T13:57:18.795488Z",
     "iopub.status.busy": "2020-07-04T13:57:18.795187Z",
     "iopub.status.idle": "2020-07-04T13:57:48.803299Z",
     "shell.execute_reply": "2020-07-04T13:57:48.802412Z",
     "shell.execute_reply.started": "2020-07-04T13:57:18.795460Z"
    }
   },
   "outputs": [],
   "source": [
    "# dist1.show()"
   ]
  },
  {
   "cell_type": "code",
   "execution_count": 72,
   "metadata": {
    "ExecuteTime": {
     "end_time": "2020-07-04T14:34:02.701911Z",
     "start_time": "2020-07-04T14:34:02.641076Z"
    },
    "execution": {
     "iopub.execute_input": "2020-07-04T13:57:57.341285Z",
     "iopub.status.busy": "2020-07-04T13:57:57.340983Z",
     "iopub.status.idle": "2020-07-04T13:57:57.353830Z",
     "shell.execute_reply": "2020-07-04T13:57:57.353121Z",
     "shell.execute_reply.started": "2020-07-04T13:57:57.341258Z"
    }
   },
   "outputs": [],
   "source": [
    "dist2 = dist1.withColumn('category_bz', f.explode(f.split(f.col('categories_bz'),', ')))"
   ]
  },
  {
   "cell_type": "code",
   "execution_count": 73,
   "metadata": {
    "ExecuteTime": {
     "end_time": "2020-07-04T14:34:02.705902Z",
     "start_time": "2020-07-04T14:34:02.702909Z"
    },
    "execution": {
     "iopub.execute_input": "2020-07-04T13:57:59.182368Z",
     "iopub.status.busy": "2020-07-04T13:57:59.182080Z",
     "iopub.status.idle": "2020-07-04T13:58:29.377558Z",
     "shell.execute_reply": "2020-07-04T13:58:29.376703Z",
     "shell.execute_reply.started": "2020-07-04T13:57:59.182342Z"
    }
   },
   "outputs": [],
   "source": [
    "# dist2.show()"
   ]
  },
  {
   "cell_type": "code",
   "execution_count": 74,
   "metadata": {
    "ExecuteTime": {
     "end_time": "2020-07-04T14:34:02.821592Z",
     "start_time": "2020-07-04T14:34:02.706899Z"
    },
    "execution": {
     "iopub.execute_input": "2020-07-04T13:58:29.379671Z",
     "iopub.status.busy": "2020-07-04T13:58:29.379395Z",
     "iopub.status.idle": "2020-07-04T13:58:29.424008Z",
     "shell.execute_reply": "2020-07-04T13:58:29.423284Z",
     "shell.execute_reply.started": "2020-07-04T13:58:29.379640Z"
    }
   },
   "outputs": [],
   "source": [
    "dist2.createOrReplaceTempView('dist')"
   ]
  },
  {
   "cell_type": "markdown",
   "metadata": {},
   "source": [
    "- Quantidade de usuários e estabelecimentos"
   ]
  },
  {
   "cell_type": "code",
   "execution_count": 75,
   "metadata": {
    "ExecuteTime": {
     "end_time": "2020-07-04T14:34:02.825581Z",
     "start_time": "2020-07-04T14:34:02.822590Z"
    },
    "execution": {
     "iopub.execute_input": "2020-07-04T13:58:29.426387Z",
     "iopub.status.busy": "2020-07-04T13:58:29.426111Z",
     "iopub.status.idle": "2020-07-04T13:59:06.759807Z",
     "shell.execute_reply": "2020-07-04T13:59:06.759143Z",
     "shell.execute_reply.started": "2020-07-04T13:58:29.426361Z"
    }
   },
   "outputs": [],
   "source": [
    "# spark.sql('''\n",
    "#             SELECT Count(DISTINCT user_id)\n",
    "#             FROM dist\n",
    "#             ''').show()"
   ]
  },
  {
   "cell_type": "code",
   "execution_count": 76,
   "metadata": {
    "ExecuteTime": {
     "end_time": "2020-07-04T14:34:02.829571Z",
     "start_time": "2020-07-04T14:34:02.826579Z"
    },
    "execution": {
     "iopub.execute_input": "2020-07-04T13:59:06.761455Z",
     "iopub.status.busy": "2020-07-04T13:59:06.761189Z",
     "iopub.status.idle": "2020-07-04T13:59:44.826215Z",
     "shell.execute_reply": "2020-07-04T13:59:44.825404Z",
     "shell.execute_reply.started": "2020-07-04T13:59:06.761428Z"
    }
   },
   "outputs": [],
   "source": [
    "# spark.sql('''\n",
    "#             SELECT Count(DISTINCT categories_bz)\n",
    "#             FROM dist\n",
    "#             ''').show()"
   ]
  },
  {
   "cell_type": "code",
   "execution_count": 77,
   "metadata": {
    "ExecuteTime": {
     "end_time": "2020-07-04T14:34:02.834558Z",
     "start_time": "2020-07-04T14:34:02.831566Z"
    },
    "execution": {
     "iopub.execute_input": "2020-07-04T13:59:44.827719Z",
     "iopub.status.busy": "2020-07-04T13:59:44.827338Z",
     "iopub.status.idle": "2020-07-04T14:00:21.170794Z",
     "shell.execute_reply": "2020-07-04T14:00:21.169970Z",
     "shell.execute_reply.started": "2020-07-04T13:59:44.827691Z"
    }
   },
   "outputs": [],
   "source": [
    "# spark.sql('''\n",
    "#             SELECT Count(DISTINCT category_bz)\n",
    "#             FROM dist\n",
    "#             ''').show()"
   ]
  },
  {
   "cell_type": "markdown",
   "metadata": {},
   "source": [
    "- Aumentando o limite máximo de coluna de acordo com o número de estabelecimentos"
   ]
  },
  {
   "cell_type": "code",
   "execution_count": 78,
   "metadata": {
    "ExecuteTime": {
     "end_time": "2020-07-04T14:34:02.838547Z",
     "start_time": "2020-07-04T14:34:02.835555Z"
    },
    "execution": {
     "iopub.execute_input": "2020-07-04T14:00:27.853249Z",
     "iopub.status.busy": "2020-07-04T14:00:27.852893Z",
     "iopub.status.idle": "2020-07-04T14:00:27.856673Z",
     "shell.execute_reply": "2020-07-04T14:00:27.855752Z",
     "shell.execute_reply.started": "2020-07-04T14:00:27.853216Z"
    }
   },
   "outputs": [],
   "source": [
    "#spark.conf.set('spark.sql.pivotMaxValues', u'21000')"
   ]
  },
  {
   "cell_type": "code",
   "execution_count": 79,
   "metadata": {
    "ExecuteTime": {
     "end_time": "2020-07-04T14:36:03.768760Z",
     "start_time": "2020-07-04T14:34:02.839544Z"
    },
    "execution": {
     "iopub.execute_input": "2020-07-04T14:00:29.177933Z",
     "iopub.status.busy": "2020-07-04T14:00:29.177637Z",
     "iopub.status.idle": "2020-07-04T14:01:03.816979Z",
     "shell.execute_reply": "2020-07-04T14:01:03.816177Z",
     "shell.execute_reply.started": "2020-07-04T14:00:29.177905Z"
    }
   },
   "outputs": [],
   "source": [
    "dist3 = dist2.groupBy(\"user_id\").pivot(\"category_bz\").mean(\"stars_rv\")"
   ]
  },
  {
   "cell_type": "code",
   "execution_count": 80,
   "metadata": {
    "ExecuteTime": {
     "end_time": "2020-07-04T14:36:04.928042Z",
     "start_time": "2020-07-04T14:36:03.769756Z"
    },
    "execution": {
     "iopub.execute_input": "2020-07-04T14:01:03.819809Z",
     "iopub.status.busy": "2020-07-04T14:01:03.819349Z",
     "iopub.status.idle": "2020-07-04T14:01:04.507749Z",
     "shell.execute_reply": "2020-07-04T14:01:04.507036Z",
     "shell.execute_reply.started": "2020-07-04T14:01:03.819774Z"
    }
   },
   "outputs": [],
   "source": [
    "dist4 = dist3.fillna(0)"
   ]
  },
  {
   "cell_type": "code",
   "execution_count": 81,
   "metadata": {
    "ExecuteTime": {
     "end_time": "2020-07-04T14:36:04.932004Z",
     "start_time": "2020-07-04T14:36:04.929013Z"
    },
    "collapsed": true,
    "execution": {
     "iopub.execute_input": "2020-07-04T14:01:04.510148Z",
     "iopub.status.busy": "2020-07-04T14:01:04.509768Z",
     "iopub.status.idle": "2020-07-04T14:01:51.829463Z",
     "shell.execute_reply": "2020-07-04T14:01:51.828398Z",
     "shell.execute_reply.started": "2020-07-04T14:01:04.510113Z"
    },
    "jupyter": {
     "outputs_hidden": true
    }
   },
   "outputs": [],
   "source": [
    "# dist4.show()"
   ]
  },
  {
   "cell_type": "markdown",
   "metadata": {},
   "source": [
    "## Salva Base Auxiliar para Matriz de Distâncias - \"Category\""
   ]
  },
  {
   "cell_type": "code",
   "execution_count": 82,
   "metadata": {
    "ExecuteTime": {
     "end_time": "2020-07-04T14:39:05.353457Z",
     "start_time": "2020-07-04T14:36:04.933002Z"
    },
    "execution": {
     "iopub.execute_input": "2020-07-04T14:06:31.188936Z",
     "iopub.status.busy": "2020-07-04T14:06:31.188642Z",
     "iopub.status.idle": "2020-07-04T14:07:26.206167Z",
     "shell.execute_reply": "2020-07-04T14:07:26.204988Z",
     "shell.execute_reply.started": "2020-07-04T14:06:31.188909Z"
    }
   },
   "outputs": [],
   "source": [
    "dist4.write \\\n",
    "    .format('csv') \\\n",
    "    .mode('overwrite') \\\n",
    "    .option('sep', ',') \\\n",
    "    .option('header', True) \\\n",
    "    .save('output/yelp_dist.csv')"
   ]
  },
  {
   "cell_type": "markdown",
   "metadata": {},
   "source": [
    "# Análise Gráfica"
   ]
  },
  {
   "cell_type": "markdown",
   "metadata": {},
   "source": [
    "## Heatmap"
   ]
  },
  {
   "cell_type": "markdown",
   "metadata": {},
   "source": [
    "- Criando mapa de calor da concentração de reviews"
   ]
  },
  {
   "cell_type": "code",
   "execution_count": 83,
   "metadata": {
    "ExecuteTime": {
     "end_time": "2020-07-04T14:39:05.357446Z",
     "start_time": "2020-07-04T14:39:05.354454Z"
    },
    "execution": {
     "iopub.execute_input": "2020-07-03T21:59:14.036074Z",
     "iopub.status.busy": "2020-07-03T21:59:14.035766Z",
     "iopub.status.idle": "2020-07-03T21:59:14.039453Z",
     "shell.execute_reply": "2020-07-03T21:59:14.038584Z",
     "shell.execute_reply.started": "2020-07-03T21:59:14.036044Z"
    }
   },
   "outputs": [],
   "source": [
    "base_mapas = base_final#.limit(1000)"
   ]
  },
  {
   "cell_type": "code",
   "execution_count": 84,
   "metadata": {
    "ExecuteTime": {
     "end_time": "2020-07-04T14:39:05.471143Z",
     "start_time": "2020-07-04T14:39:05.358443Z"
    },
    "execution": {
     "iopub.execute_input": "2020-07-03T21:59:21.552883Z",
     "iopub.status.busy": "2020-07-03T21:59:21.552624Z",
     "iopub.status.idle": "2020-07-03T21:59:21.593841Z",
     "shell.execute_reply": "2020-07-03T21:59:21.593102Z",
     "shell.execute_reply.started": "2020-07-03T21:59:21.552862Z"
    }
   },
   "outputs": [],
   "source": [
    "base_mapas.createOrReplaceTempView('base_mapas')"
   ]
  },
  {
   "cell_type": "code",
   "execution_count": 89,
   "metadata": {
    "ExecuteTime": {
     "end_time": "2020-07-04T14:41:24.182291Z",
     "start_time": "2020-07-04T14:41:24.172318Z"
    },
    "execution": {
     "iopub.execute_input": "2020-07-03T21:59:22.841857Z",
     "iopub.status.busy": "2020-07-03T21:59:22.841571Z",
     "iopub.status.idle": "2020-07-03T21:59:22.851753Z",
     "shell.execute_reply": "2020-07-03T21:59:22.851016Z",
     "shell.execute_reply.started": "2020-07-03T21:59:22.841831Z"
    }
   },
   "outputs": [],
   "source": [
    "mapa1 = spark.sql(\"\"\"\n",
    "        SELECT latitude_bz,\n",
    "        longitude_bz\n",
    "        \n",
    "        FROM base_mapas\n",
    "        \n",
    "        WHERE latitude_bz is not null\n",
    "        AND longitude_bz is not null\n",
    "        \n",
    "        \"\"\")"
   ]
  },
  {
   "cell_type": "code",
   "execution_count": 90,
   "metadata": {
    "ExecuteTime": {
     "end_time": "2020-07-04T14:43:19.961548Z",
     "start_time": "2020-07-04T14:41:53.444669Z"
    },
    "execution": {
     "iopub.execute_input": "2020-07-03T21:59:24.278672Z",
     "iopub.status.busy": "2020-07-03T21:59:24.278374Z",
     "iopub.status.idle": "2020-07-03T21:59:58.309027Z",
     "shell.execute_reply": "2020-07-03T21:59:58.308022Z",
     "shell.execute_reply.started": "2020-07-03T21:59:24.278644Z"
    }
   },
   "outputs": [
    {
     "name": "stdout",
     "output_type": "stream",
     "text": [
      "+-------------+--------------+\n",
      "|  latitude_bz|  longitude_bz|\n",
      "+-------------+--------------+\n",
      "|   43.6697687|    -79.382838|\n",
      "|43.6386597113|   -79.3806966|\n",
      "|43.6630940441|-79.3840069721|\n",
      "|    43.656838|    -79.399237|\n",
      "|43.6599496025| -79.479805281|\n",
      "|   43.6547562|   -79.3874925|\n",
      "|   43.6376269|    -79.393259|\n",
      "|43.6543411559|-79.4004796073|\n",
      "|43.6729833023|-79.2866801843|\n",
      "|    43.655584|   -79.3985383|\n",
      "+-------------+--------------+\n",
      "only showing top 10 rows\n",
      "\n"
     ]
    }
   ],
   "source": [
    "mapa1.show(10)"
   ]
  },
  {
   "cell_type": "markdown",
   "metadata": {},
   "source": [
    "Decobrindo o ponto central de Latitude e Longetude do Mapa"
   ]
  },
  {
   "cell_type": "code",
   "execution_count": null,
   "metadata": {
    "ExecuteTime": {
     "end_time": "2020-07-04T14:39:05.658642Z",
     "start_time": "2020-07-04T14:25:47.532Z"
    }
   },
   "outputs": [],
   "source": [
    "# spark.sql(\"\"\"\n",
    "#         SELECT avg(latitude) as avg_lat,\n",
    "#         avg(longitude) as avg_long\n",
    "        \n",
    "#         FROM base_mapas\n",
    "        \n",
    "#         \"\"\").show()"
   ]
  },
  {
   "cell_type": "code",
   "execution_count": null,
   "metadata": {
    "ExecuteTime": {
     "end_time": "2020-07-04T14:39:05.658642Z",
     "start_time": "2020-07-04T14:25:47.534Z"
    }
   },
   "outputs": [],
   "source": [
    "import folium\n",
    "from folium import plugins\n",
    "\n",
    "mapa = folium.Map(location=[43.6732, -79.3919], \n",
    "                  zoom_start=11,\n",
    "                  tiles='Stamen Toner')\n",
    "# OpenStreetMap, Stamen Terrain, Stamen Toner"
   ]
  },
  {
   "cell_type": "code",
   "execution_count": null,
   "metadata": {
    "ExecuteTime": {
     "end_time": "2020-07-04T14:39:05.659639Z",
     "start_time": "2020-07-04T14:25:47.535Z"
    }
   },
   "outputs": [],
   "source": [
    "mapa\n",
    "\n",
    "lat = mapa1.toPandas()['latitude'].values\n",
    "lon = mapa1.toPandas()['longitude'].values"
   ]
  },
  {
   "cell_type": "code",
   "execution_count": null,
   "metadata": {
    "ExecuteTime": {
     "end_time": "2020-07-04T14:39:05.660636Z",
     "start_time": "2020-07-04T14:25:47.537Z"
    }
   },
   "outputs": [],
   "source": [
    "coordenadas = []\n",
    "for la, lo in zip(lat, lon):\n",
    "    coordenadas.append([la,lo])\n",
    "mapa.add_child(plugins.HeatMap(coordenadas))"
   ]
  },
  {
   "cell_type": "code",
   "execution_count": null,
   "metadata": {
    "ExecuteTime": {
     "end_time": "2020-07-04T14:39:05.661633Z",
     "start_time": "2020-07-04T14:25:47.539Z"
    }
   },
   "outputs": [],
   "source": [
    "lat_lon3 = spark.sql(\"\"\"\n",
    "            SELECT 'ON' as state,\n",
    "            (SUM(review_count) / (select SUM(review_count) from base_mapas))*100 as review_perc\n",
    "            \n",
    "            FROM base_mapas\n",
    "        \n",
    "            WHERE latitude is not null\n",
    "            AND longitude is not null\n",
    "        \n",
    "            GROUP BY state\n",
    "            \n",
    "            \"\"\")\n",
    "\n",
    "## Geo-Json do Canada - https://geojson-maps.ash.ms/\n",
    "\n",
    "#url = 'https://raw.githubusercontent.com/AshKyd/geojson-regions/master/countries/110m/'\n",
    "# state_geo = f'{url}/CAN.geojson'\n",
    "\n",
    "url = 'https://raw.githubusercontent.com/jasonicarter/toronto-geojson/master/'\n",
    "state_geo = f'{url}/toronto_crs84.geojson'\n",
    "\n",
    "df = lat_lon3.toPandas()\n",
    "\n",
    "m = folium.Map(location=[43, -79], zoom_start=10)\n",
    "bins = list(df['review_perc'].quantile([0, 0.25, 0.5, 0.75, 1]))\n",
    "\n",
    "folium.Choropleth(\n",
    "    geo_data=state_geo,\n",
    "    name='choropleth',\n",
    "    data=df,\n",
    "    columns=['state', 'review_perc'],\n",
    "    key_on='feature.properties.name',\n",
    "    fill_color='BuPu',\n",
    "    fill_opacity=0.7,\n",
    "    line_opacity=0.2,\n",
    "    bins=bins,\n",
    "    legend_name='Reviews (%)',\n",
    "    reset=True\n",
    ").add_to(m)\n",
    "\n",
    "m"
   ]
  },
  {
   "cell_type": "code",
   "execution_count": null,
   "metadata": {},
   "outputs": [],
   "source": []
  },
  {
   "cell_type": "code",
   "execution_count": null,
   "metadata": {},
   "outputs": [],
   "source": []
  },
  {
   "cell_type": "code",
   "execution_count": null,
   "metadata": {},
   "outputs": [],
   "source": []
  },
  {
   "cell_type": "code",
   "execution_count": null,
   "metadata": {},
   "outputs": [],
   "source": []
  },
  {
   "cell_type": "code",
   "execution_count": null,
   "metadata": {},
   "outputs": [],
   "source": []
  },
  {
   "cell_type": "code",
   "execution_count": null,
   "metadata": {},
   "outputs": [],
   "source": []
  },
  {
   "cell_type": "code",
   "execution_count": null,
   "metadata": {},
   "outputs": [],
   "source": []
  }
 ],
 "metadata": {
  "kernelspec": {
   "display_name": "Python 3",
   "language": "python",
   "name": "python3"
  },
  "language_info": {
   "codemirror_mode": {
    "name": "ipython",
    "version": 3
   },
   "file_extension": ".py",
   "mimetype": "text/x-python",
   "name": "python",
   "nbconvert_exporter": "python",
   "pygments_lexer": "ipython3",
   "version": "3.7.7"
  },
  "toc": {
   "base_numbering": 1,
   "nav_menu": {},
   "number_sections": true,
   "sideBar": true,
   "skip_h1_title": false,
   "title_cell": "Table of Contents",
   "title_sidebar": "Contents",
   "toc_cell": false,
   "toc_position": {},
   "toc_section_display": true,
   "toc_window_display": false
  },
  "toc-autonumbering": true,
  "toc-showcode": false,
  "toc-showmarkdowntxt": false,
  "toc-showtags": false
 },
 "nbformat": 4,
 "nbformat_minor": 4
}
